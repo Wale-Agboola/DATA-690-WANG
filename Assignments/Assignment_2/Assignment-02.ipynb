{
 "cells": [
  {
   "cell_type": "markdown",
   "metadata": {},
   "source": [
    "# Assignment 2 \n",
    "\n",
    "**Wale Agboola**\n",
    "\n",
    "**2/4/20**"
   ]
  },
  {
   "cell_type": "markdown",
   "metadata": {},
   "source": [
    "## Directions:\n",
    "\n",
    "- Prompts a user to enter 10 integers.\n",
    "- If the user enters anything other than integers, remind her that only integers are allowed and let her retry.\n",
    "- Note: You need to detect if use makes a mistake and let the user retry without exiting the program. The previously  entered valid inputs should be kept and not lost.\n",
    "- Don't allow the user to enter more than 10 or less than 10 integers.\n",
    "- Display the 10 integers back to the user at the end. \n",
    "- Calculate the following statistics from the 10 integers entered and display the results back to the user:\n",
    "    - Minimum\n",
    "    - Maximum\n",
    "    - Range\n",
    "    - Mean\n",
    "    - Variance\n",
    "    - Standard Deviation"
   ]
  },
  {
   "cell_type": "code",
   "execution_count": 2,
   "metadata": {},
   "outputs": [],
   "source": [
    "import numpy as np\n",
    "import pandas as pd\n",
    "import seaborn as sns\n",
    "import statsmodels as sm\n",
    "import matplotlib.pyplot as plt"
   ]
  },
  {
   "cell_type": "code",
   "execution_count": 42,
   "metadata": {},
   "outputs": [
    {
     "name": "stdout",
     "output_type": "stream",
     "text": [
      "Enter a whole number:5\n",
      "You have entered #1: 5\n",
      "Enter a whole number:ten\n",
      "You did not enter a number\n",
      "Enter a whole number:ten\n",
      "You did not enter a number\n",
      "Enter a whole number:10\n",
      "You have entered #2: 10\n",
      "Enter a whole number:15\n",
      "You have entered #3: 15\n",
      "Enter a whole number:20\n",
      "You have entered #4: 20\n",
      "Enter a whole number:25\n",
      "You have entered #5: 25\n",
      "Enter a whole number:30\n",
      "You have entered #6: 30\n",
      "Enter a whole number:35\n",
      "You have entered #7: 35\n",
      "Enter a whole number:40\n",
      "You have entered #8: 40\n",
      "Enter a whole number:45\n",
      "You have entered #9: 45\n",
      "Enter a whole number:50\n",
      "You have entered #10: 50\n",
      "[5, 10, 15, 20, 25, 30, 35, 40, 45, 50]\n"
     ]
    }
   ],
   "source": [
    "num_list = []\n",
    "\n",
    "for i in range(1,11):\n",
    "    while True:\n",
    "        try:\n",
    "            user_input = int(input('Enter a whole number:'))\n",
    "            break\n",
    "        except ValueError:\n",
    "            print('You did not enter a number')\n",
    "    \n",
    "    \n",
    "    num_list.append(user_input)\n",
    "    print(f\"You have entered #{i}:\", user_input)\n",
    "\n",
    "print(num_list)"
   ]
  },
  {
   "cell_type": "markdown",
   "metadata": {},
   "source": [
    "### Finging the Min and Max Value of the list "
   ]
  },
  {
   "cell_type": "code",
   "execution_count": 53,
   "metadata": {},
   "outputs": [],
   "source": [
    "import math"
   ]
  },
  {
   "cell_type": "code",
   "execution_count": 54,
   "metadata": {},
   "outputs": [
    {
     "name": "stdout",
     "output_type": "stream",
     "text": [
      "The Minimum is:  5\n",
      "The Maximum is: 50\n"
     ]
    }
   ],
   "source": [
    "min_num = num_list[0]\n",
    "max_num = num_list[0]\n",
    "\n",
    "for i in range(len(num_list)): \n",
    "    if num_list[i]<min_num: \n",
    "        min_num=num_list[i] \n",
    "    if num_list[i]>max_num: \n",
    "        max_num=num_list[i]\n",
    "print('The Minimum is: ', min_num)\n",
    "print('The Maximum is:', max_num)"
   ]
  },
  {
   "cell_type": "markdown",
   "metadata": {},
   "source": [
    "### Finding the Range"
   ]
  },
  {
   "cell_type": "code",
   "execution_count": 55,
   "metadata": {},
   "outputs": [
    {
     "name": "stdout",
     "output_type": "stream",
     "text": [
      "The range of the list is: 45\n"
     ]
    }
   ],
   "source": [
    "num_range = max_num - min_num\n",
    "\n",
    "print('The range of the list is:', num_range)"
   ]
  },
  {
   "cell_type": "markdown",
   "metadata": {},
   "source": [
    "### Finding the mean "
   ]
  },
  {
   "cell_type": "code",
   "execution_count": 56,
   "metadata": {},
   "outputs": [
    {
     "data": {
      "text/plain": [
       "27.5"
      ]
     },
     "execution_count": 56,
     "metadata": {},
     "output_type": "execute_result"
    }
   ],
   "source": [
    "def num_mean(entry):\n",
    "    return sum(entry)/len(entry)\n",
    "\n",
    "num_mean(num_list)"
   ]
  },
  {
   "cell_type": "markdown",
   "metadata": {},
   "source": [
    "### Finding the Variance"
   ]
  },
  {
   "cell_type": "code",
   "execution_count": 57,
   "metadata": {},
   "outputs": [
    {
     "data": {
      "text/plain": [
       "206.25"
      ]
     },
     "execution_count": 57,
     "metadata": {},
     "output_type": "execute_result"
    }
   ],
   "source": [
    "def variance(entry):\n",
    "    num2_mean = sum(entry)/len(entry)\n",
    "    deviation = [(x - num2_mean) ** 2 for x in entry]\n",
    "    variance = sum(deviation)/len(entry)\n",
    "    return variance\n",
    "\n",
    "variance(num_list)"
   ]
  },
  {
   "cell_type": "markdown",
   "metadata": {},
   "source": [
    "### Finding Standard Deviation"
   ]
  },
  {
   "cell_type": "code",
   "execution_count": 59,
   "metadata": {},
   "outputs": [
    {
     "data": {
      "text/plain": [
       "14.361406616345072"
      ]
     },
     "execution_count": 59,
     "metadata": {},
     "output_type": "execute_result"
    }
   ],
   "source": [
    "def stdeviation(entry):\n",
    "    variance2 = variance(entry)\n",
    "    standard_deviation = math.sqrt(variance2)\n",
    "    return standard_deviation\n",
    "\n",
    "stdeviation(num_list)"
   ]
  },
  {
   "cell_type": "code",
   "execution_count": null,
   "metadata": {},
   "outputs": [],
   "source": []
  }
 ],
 "metadata": {
  "kernelspec": {
   "display_name": "Python 3",
   "language": "python",
   "name": "python3"
  },
  "language_info": {
   "codemirror_mode": {
    "name": "ipython",
    "version": 3
   },
   "file_extension": ".py",
   "mimetype": "text/x-python",
   "name": "python",
   "nbconvert_exporter": "python",
   "pygments_lexer": "ipython3",
   "version": "3.7.4"
  }
 },
 "nbformat": 4,
 "nbformat_minor": 2
}
