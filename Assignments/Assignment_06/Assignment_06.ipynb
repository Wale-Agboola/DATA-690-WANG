{
 "cells": [
  {
   "cell_type": "markdown",
   "metadata": {},
   "source": [
    "# Assignment 06 - Using Pandas\n",
    "\n",
    "**Wale Agboola**"
   ]
  },
  {
   "cell_type": "markdown",
   "metadata": {},
   "source": [
    "### 1) Use Pandas read_html() function to retrive the HTML tables as dataframes from the web page: https://www.genealogybranches.com/censuscosts.html"
   ]
  },
  {
   "cell_type": "code",
   "execution_count": 1,
   "metadata": {},
   "outputs": [],
   "source": [
    "import pandas as pd\n",
    "import numpy as np\n",
    "\n",
    "census_cost = pd.read_html('https://www.genealogybranches.com/censuscosts.html')"
   ]
  },
  {
   "cell_type": "markdown",
   "metadata": {},
   "source": [
    "### 2) Find out how many HTML tables Pandas retrieves from the web page. Find out which dataframe contain the data and use it for further processing."
   ]
  },
  {
   "cell_type": "code",
   "execution_count": 2,
   "metadata": {},
   "outputs": [
    {
     "data": {
      "text/plain": [
       "2"
      ]
     },
     "execution_count": 2,
     "metadata": {},
     "output_type": "execute_result"
    }
   ],
   "source": [
    "len(census_cost)"
   ]
  },
  {
   "cell_type": "code",
   "execution_count": 3,
   "metadata": {},
   "outputs": [
    {
     "data": {
      "text/html": [
       "<div>\n",
       "<style scoped>\n",
       "    .dataframe tbody tr th:only-of-type {\n",
       "        vertical-align: middle;\n",
       "    }\n",
       "\n",
       "    .dataframe tbody tr th {\n",
       "        vertical-align: top;\n",
       "    }\n",
       "\n",
       "    .dataframe thead th {\n",
       "        text-align: right;\n",
       "    }\n",
       "</style>\n",
       "<table border=\"1\" class=\"dataframe\">\n",
       "  <thead>\n",
       "    <tr style=\"text-align: right;\">\n",
       "      <th></th>\n",
       "      <th>0</th>\n",
       "      <th>1</th>\n",
       "      <th>2</th>\n",
       "      <th>3</th>\n",
       "    </tr>\n",
       "  </thead>\n",
       "  <tbody>\n",
       "    <tr>\n",
       "      <td>0</td>\n",
       "      <td>Census Year</td>\n",
       "      <td>Total Population</td>\n",
       "      <td>Census Cost</td>\n",
       "      <td>Average Cost Per Person</td>\n",
       "    </tr>\n",
       "    <tr>\n",
       "      <td>1</td>\n",
       "      <td>1790</td>\n",
       "      <td>3929214</td>\n",
       "      <td>$44,377</td>\n",
       "      <td>1.13 cents</td>\n",
       "    </tr>\n",
       "    <tr>\n",
       "      <td>2</td>\n",
       "      <td>1800</td>\n",
       "      <td>5308483</td>\n",
       "      <td>$66,109</td>\n",
       "      <td>1.24 cents</td>\n",
       "    </tr>\n",
       "    <tr>\n",
       "      <td>3</td>\n",
       "      <td>1810</td>\n",
       "      <td>7239881</td>\n",
       "      <td>$178,445</td>\n",
       "      <td>2.46 cents</td>\n",
       "    </tr>\n",
       "    <tr>\n",
       "      <td>4</td>\n",
       "      <td>1820</td>\n",
       "      <td>9633822</td>\n",
       "      <td>$208,526</td>\n",
       "      <td>2.16 cents</td>\n",
       "    </tr>\n",
       "    <tr>\n",
       "      <td>5</td>\n",
       "      <td>1830</td>\n",
       "      <td>12866020</td>\n",
       "      <td>$378,545</td>\n",
       "      <td>2.94 cents</td>\n",
       "    </tr>\n",
       "    <tr>\n",
       "      <td>6</td>\n",
       "      <td>1840</td>\n",
       "      <td>17069458</td>\n",
       "      <td>$833,371</td>\n",
       "      <td>4.88 cents</td>\n",
       "    </tr>\n",
       "    <tr>\n",
       "      <td>7</td>\n",
       "      <td>1850</td>\n",
       "      <td>23191876</td>\n",
       "      <td>$1,423,351</td>\n",
       "      <td>6.14 cents</td>\n",
       "    </tr>\n",
       "    <tr>\n",
       "      <td>8</td>\n",
       "      <td>1860</td>\n",
       "      <td>31443321</td>\n",
       "      <td>$1,969,377</td>\n",
       "      <td>6.26 cents</td>\n",
       "    </tr>\n",
       "    <tr>\n",
       "      <td>9</td>\n",
       "      <td>1870</td>\n",
       "      <td>38558371</td>\n",
       "      <td>$3,421,198</td>\n",
       "      <td>8.87 cents</td>\n",
       "    </tr>\n",
       "    <tr>\n",
       "      <td>10</td>\n",
       "      <td>1880</td>\n",
       "      <td>50155783</td>\n",
       "      <td>$5,790,678</td>\n",
       "      <td>11.54 cents</td>\n",
       "    </tr>\n",
       "    <tr>\n",
       "      <td>11</td>\n",
       "      <td>1890</td>\n",
       "      <td>62979766</td>\n",
       "      <td>$11,547,127</td>\n",
       "      <td>18.33 cents</td>\n",
       "    </tr>\n",
       "    <tr>\n",
       "      <td>12</td>\n",
       "      <td>1900</td>\n",
       "      <td>76303387</td>\n",
       "      <td>$11,854,000</td>\n",
       "      <td>15.54 cents</td>\n",
       "    </tr>\n",
       "    <tr>\n",
       "      <td>13</td>\n",
       "      <td>1910</td>\n",
       "      <td>91972266</td>\n",
       "      <td>$15,968,000</td>\n",
       "      <td>17.07 cents</td>\n",
       "    </tr>\n",
       "    <tr>\n",
       "      <td>14</td>\n",
       "      <td>1920</td>\n",
       "      <td>105710620</td>\n",
       "      <td>$25,117,000</td>\n",
       "      <td>23.76 cents</td>\n",
       "    </tr>\n",
       "    <tr>\n",
       "      <td>15</td>\n",
       "      <td>1930</td>\n",
       "      <td>122775046</td>\n",
       "      <td>$40,156,000</td>\n",
       "      <td>32.71 cents</td>\n",
       "    </tr>\n",
       "    <tr>\n",
       "      <td>16</td>\n",
       "      <td>1940</td>\n",
       "      <td>131669275</td>\n",
       "      <td>$67,527,000</td>\n",
       "      <td>51.29 cents</td>\n",
       "    </tr>\n",
       "    <tr>\n",
       "      <td>17</td>\n",
       "      <td>1950</td>\n",
       "      <td>151325798</td>\n",
       "      <td>$91,462,000</td>\n",
       "      <td>60.44 cents</td>\n",
       "    </tr>\n",
       "    <tr>\n",
       "      <td>18</td>\n",
       "      <td>1960</td>\n",
       "      <td>179323175</td>\n",
       "      <td>$127,934,000</td>\n",
       "      <td>71.34 cents</td>\n",
       "    </tr>\n",
       "    <tr>\n",
       "      <td>19</td>\n",
       "      <td>1970</td>\n",
       "      <td>203302031</td>\n",
       "      <td>$247,653,000</td>\n",
       "      <td>$1.22</td>\n",
       "    </tr>\n",
       "    <tr>\n",
       "      <td>20</td>\n",
       "      <td>1980</td>\n",
       "      <td>226542199</td>\n",
       "      <td>$1,078,488,000</td>\n",
       "      <td>$4.76</td>\n",
       "    </tr>\n",
       "    <tr>\n",
       "      <td>21</td>\n",
       "      <td>1990</td>\n",
       "      <td>248718301</td>\n",
       "      <td>$2,492,830,000</td>\n",
       "      <td>$10.02</td>\n",
       "    </tr>\n",
       "    <tr>\n",
       "      <td>22</td>\n",
       "      <td>2000</td>\n",
       "      <td>281421906</td>\n",
       "      <td>$4.5 Billion</td>\n",
       "      <td>$15.99</td>\n",
       "    </tr>\n",
       "    <tr>\n",
       "      <td>23</td>\n",
       "      <td>2010*</td>\n",
       "      <td>308745538</td>\n",
       "      <td>$13 Billion</td>\n",
       "      <td>$42.11</td>\n",
       "    </tr>\n",
       "  </tbody>\n",
       "</table>\n",
       "</div>"
      ],
      "text/plain": [
       "              0                 1               2                        3\n",
       "0   Census Year  Total Population     Census Cost  Average Cost Per Person\n",
       "1          1790           3929214         $44,377               1.13 cents\n",
       "2          1800           5308483         $66,109               1.24 cents\n",
       "3          1810           7239881        $178,445               2.46 cents\n",
       "4          1820           9633822        $208,526               2.16 cents\n",
       "5          1830          12866020        $378,545               2.94 cents\n",
       "6          1840          17069458        $833,371               4.88 cents\n",
       "7          1850          23191876      $1,423,351               6.14 cents\n",
       "8          1860          31443321      $1,969,377               6.26 cents\n",
       "9          1870          38558371      $3,421,198               8.87 cents\n",
       "10         1880          50155783      $5,790,678              11.54 cents\n",
       "11         1890          62979766     $11,547,127              18.33 cents\n",
       "12         1900          76303387     $11,854,000              15.54 cents\n",
       "13         1910          91972266     $15,968,000              17.07 cents\n",
       "14         1920         105710620     $25,117,000              23.76 cents\n",
       "15         1930         122775046     $40,156,000              32.71 cents\n",
       "16         1940         131669275     $67,527,000              51.29 cents\n",
       "17         1950         151325798     $91,462,000              60.44 cents\n",
       "18         1960         179323175    $127,934,000              71.34 cents\n",
       "19         1970         203302031    $247,653,000                    $1.22\n",
       "20         1980         226542199  $1,078,488,000                    $4.76\n",
       "21         1990         248718301  $2,492,830,000                   $10.02\n",
       "22         2000         281421906    $4.5 Billion                   $15.99\n",
       "23        2010*         308745538     $13 Billion                   $42.11"
      ]
     },
     "execution_count": 3,
     "metadata": {},
     "output_type": "execute_result"
    }
   ],
   "source": [
    "census_cost[0]"
   ]
  },
  {
   "cell_type": "code",
   "execution_count": 4,
   "metadata": {},
   "outputs": [
    {
     "data": {
      "text/html": [
       "<div>\n",
       "<style scoped>\n",
       "    .dataframe tbody tr th:only-of-type {\n",
       "        vertical-align: middle;\n",
       "    }\n",
       "\n",
       "    .dataframe tbody tr th {\n",
       "        vertical-align: top;\n",
       "    }\n",
       "\n",
       "    .dataframe thead th {\n",
       "        text-align: right;\n",
       "    }\n",
       "</style>\n",
       "<table border=\"1\" class=\"dataframe\">\n",
       "  <thead>\n",
       "    <tr style=\"text-align: right;\">\n",
       "      <th></th>\n",
       "      <th>0</th>\n",
       "    </tr>\n",
       "  </thead>\n",
       "  <tbody>\n",
       "    <tr>\n",
       "      <td>0</td>\n",
       "      <td>The U.S. population reached 300,000,000 on 17 ...</td>\n",
       "    </tr>\n",
       "  </tbody>\n",
       "</table>\n",
       "</div>"
      ],
      "text/plain": [
       "                                                   0\n",
       "0  The U.S. population reached 300,000,000 on 17 ..."
      ]
     },
     "execution_count": 4,
     "metadata": {},
     "output_type": "execute_result"
    }
   ],
   "source": [
    "census_cost[1]"
   ]
  },
  {
   "cell_type": "markdown",
   "metadata": {},
   "source": [
    "### 3) Display and explore the data (rows, columns, etc.) and determine the data quality (bad rows, bad columns, bad elements, null values, etc.)"
   ]
  },
  {
   "cell_type": "code",
   "execution_count": 5,
   "metadata": {},
   "outputs": [
    {
     "data": {
      "text/html": [
       "<div>\n",
       "<style scoped>\n",
       "    .dataframe tbody tr th:only-of-type {\n",
       "        vertical-align: middle;\n",
       "    }\n",
       "\n",
       "    .dataframe tbody tr th {\n",
       "        vertical-align: top;\n",
       "    }\n",
       "\n",
       "    .dataframe thead th {\n",
       "        text-align: right;\n",
       "    }\n",
       "</style>\n",
       "<table border=\"1\" class=\"dataframe\">\n",
       "  <thead>\n",
       "    <tr style=\"text-align: right;\">\n",
       "      <th></th>\n",
       "      <th>0</th>\n",
       "      <th>1</th>\n",
       "      <th>2</th>\n",
       "      <th>3</th>\n",
       "    </tr>\n",
       "  </thead>\n",
       "  <tbody>\n",
       "    <tr>\n",
       "      <td>0</td>\n",
       "      <td>Census Year</td>\n",
       "      <td>Total Population</td>\n",
       "      <td>Census Cost</td>\n",
       "      <td>Average Cost Per Person</td>\n",
       "    </tr>\n",
       "    <tr>\n",
       "      <td>1</td>\n",
       "      <td>1790</td>\n",
       "      <td>3929214</td>\n",
       "      <td>$44,377</td>\n",
       "      <td>1.13 cents</td>\n",
       "    </tr>\n",
       "    <tr>\n",
       "      <td>2</td>\n",
       "      <td>1800</td>\n",
       "      <td>5308483</td>\n",
       "      <td>$66,109</td>\n",
       "      <td>1.24 cents</td>\n",
       "    </tr>\n",
       "    <tr>\n",
       "      <td>3</td>\n",
       "      <td>1810</td>\n",
       "      <td>7239881</td>\n",
       "      <td>$178,445</td>\n",
       "      <td>2.46 cents</td>\n",
       "    </tr>\n",
       "    <tr>\n",
       "      <td>4</td>\n",
       "      <td>1820</td>\n",
       "      <td>9633822</td>\n",
       "      <td>$208,526</td>\n",
       "      <td>2.16 cents</td>\n",
       "    </tr>\n",
       "  </tbody>\n",
       "</table>\n",
       "</div>"
      ],
      "text/plain": [
       "             0                 1            2                        3\n",
       "0  Census Year  Total Population  Census Cost  Average Cost Per Person\n",
       "1         1790           3929214      $44,377               1.13 cents\n",
       "2         1800           5308483      $66,109               1.24 cents\n",
       "3         1810           7239881     $178,445               2.46 cents\n",
       "4         1820           9633822     $208,526               2.16 cents"
      ]
     },
     "execution_count": 5,
     "metadata": {},
     "output_type": "execute_result"
    }
   ],
   "source": [
    "df = census_cost[0]\n",
    "df.head()"
   ]
  },
  {
   "cell_type": "code",
   "execution_count": 6,
   "metadata": {},
   "outputs": [],
   "source": [
    "df.columns = ['Census_Year', 'Total_Population', 'Census_Cost', 'Average_Cost_Per_Person']\n",
    "\n",
    "df.drop([0], inplace=True)"
   ]
  },
  {
   "cell_type": "code",
   "execution_count": 7,
   "metadata": {},
   "outputs": [
    {
     "data": {
      "text/html": [
       "<div>\n",
       "<style scoped>\n",
       "    .dataframe tbody tr th:only-of-type {\n",
       "        vertical-align: middle;\n",
       "    }\n",
       "\n",
       "    .dataframe tbody tr th {\n",
       "        vertical-align: top;\n",
       "    }\n",
       "\n",
       "    .dataframe thead th {\n",
       "        text-align: right;\n",
       "    }\n",
       "</style>\n",
       "<table border=\"1\" class=\"dataframe\">\n",
       "  <thead>\n",
       "    <tr style=\"text-align: right;\">\n",
       "      <th></th>\n",
       "      <th>Census_Year</th>\n",
       "      <th>Total_Population</th>\n",
       "      <th>Census_Cost</th>\n",
       "      <th>Average_Cost_Per_Person</th>\n",
       "    </tr>\n",
       "  </thead>\n",
       "  <tbody>\n",
       "    <tr>\n",
       "      <td>1</td>\n",
       "      <td>1790</td>\n",
       "      <td>3929214</td>\n",
       "      <td>$44,377</td>\n",
       "      <td>1.13 cents</td>\n",
       "    </tr>\n",
       "    <tr>\n",
       "      <td>2</td>\n",
       "      <td>1800</td>\n",
       "      <td>5308483</td>\n",
       "      <td>$66,109</td>\n",
       "      <td>1.24 cents</td>\n",
       "    </tr>\n",
       "    <tr>\n",
       "      <td>3</td>\n",
       "      <td>1810</td>\n",
       "      <td>7239881</td>\n",
       "      <td>$178,445</td>\n",
       "      <td>2.46 cents</td>\n",
       "    </tr>\n",
       "    <tr>\n",
       "      <td>4</td>\n",
       "      <td>1820</td>\n",
       "      <td>9633822</td>\n",
       "      <td>$208,526</td>\n",
       "      <td>2.16 cents</td>\n",
       "    </tr>\n",
       "    <tr>\n",
       "      <td>5</td>\n",
       "      <td>1830</td>\n",
       "      <td>12866020</td>\n",
       "      <td>$378,545</td>\n",
       "      <td>2.94 cents</td>\n",
       "    </tr>\n",
       "  </tbody>\n",
       "</table>\n",
       "</div>"
      ],
      "text/plain": [
       "  Census_Year Total_Population Census_Cost Average_Cost_Per_Person\n",
       "1        1790          3929214     $44,377              1.13 cents\n",
       "2        1800          5308483     $66,109              1.24 cents\n",
       "3        1810          7239881    $178,445              2.46 cents\n",
       "4        1820          9633822    $208,526              2.16 cents\n",
       "5        1830         12866020    $378,545              2.94 cents"
      ]
     },
     "execution_count": 7,
     "metadata": {},
     "output_type": "execute_result"
    }
   ],
   "source": [
    "df.head()"
   ]
  },
  {
   "cell_type": "code",
   "execution_count": 8,
   "metadata": {},
   "outputs": [
    {
     "data": {
      "text/plain": [
       "(23, 4)"
      ]
     },
     "execution_count": 8,
     "metadata": {},
     "output_type": "execute_result"
    }
   ],
   "source": [
    "df.shape  #checking shape of the data frame"
   ]
  },
  {
   "cell_type": "code",
   "execution_count": 9,
   "metadata": {},
   "outputs": [
    {
     "data": {
      "text/plain": [
       "Census_Year                0\n",
       "Total_Population           0\n",
       "Census_Cost                0\n",
       "Average_Cost_Per_Person    0\n",
       "dtype: int64"
      ]
     },
     "execution_count": 9,
     "metadata": {},
     "output_type": "execute_result"
    }
   ],
   "source": [
    "df.isnull().sum()   #checking if there are any missing variables in the data frame"
   ]
  },
  {
   "cell_type": "code",
   "execution_count": 10,
   "metadata": {},
   "outputs": [
    {
     "data": {
      "text/plain": [
       "Census_Year                object\n",
       "Total_Population           object\n",
       "Census_Cost                object\n",
       "Average_Cost_Per_Person    object\n",
       "dtype: object"
      ]
     },
     "execution_count": 10,
     "metadata": {},
     "output_type": "execute_result"
    }
   ],
   "source": [
    "df.dtypes      #checking data types of the columns in the data frame"
   ]
  },
  {
   "cell_type": "markdown",
   "metadata": {},
   "source": [
    "### 4) Document the data quality issues using a Markdown cell so the reader understands what the problems are."
   ]
  },
  {
   "cell_type": "markdown",
   "metadata": {},
   "source": [
    "**Data Issues:**\n",
    "\n",
    "**Year column has an element that has an asterisk that should be removed.** \n",
    "\n",
    "**Once census cost gets to the billions its uses wording instead of adding the zeros. Also should get rid of the dollar signs.**\n",
    "\n",
    "**The average cost per person column should have the dollar sign removed and the commas removed.** "
   ]
  },
  {
   "cell_type": "markdown",
   "metadata": {},
   "source": [
    "### 5) Write a function named cleanse_year() that takes a string as input and removes any asterisks in the string and return the cleansed string. Test the function by using test strings (for example, \"1989*\", \"20*10\")"
   ]
  },
  {
   "cell_type": "code",
   "execution_count": 11,
   "metadata": {},
   "outputs": [],
   "source": [
    "def cleanse_year(raw_year):\n",
    "    year = raw_year.replace('*', '')\n",
    "\n",
    "    return year"
   ]
  },
  {
   "cell_type": "code",
   "execution_count": 15,
   "metadata": {},
   "outputs": [
    {
     "data": {
      "text/plain": [
       "'1989'"
      ]
     },
     "execution_count": 15,
     "metadata": {},
     "output_type": "execute_result"
    }
   ],
   "source": [
    "cleanse_year('1989*')"
   ]
  },
  {
   "cell_type": "code",
   "execution_count": 16,
   "metadata": {},
   "outputs": [
    {
     "data": {
      "text/plain": [
       "'2010'"
      ]
     },
     "execution_count": 16,
     "metadata": {},
     "output_type": "execute_result"
    }
   ],
   "source": [
    "cleanse_year('20*10')"
   ]
  },
  {
   "cell_type": "markdown",
   "metadata": {},
   "source": [
    "### 6) Cleanse the column \"Census Year\" using the function cleanse_year() and Pandas's apply() function."
   ]
  },
  {
   "cell_type": "code",
   "execution_count": 12,
   "metadata": {},
   "outputs": [],
   "source": [
    "df['Clean_Year'] = df['Census_Year'].apply(cleanse_year)"
   ]
  },
  {
   "cell_type": "code",
   "execution_count": 13,
   "metadata": {},
   "outputs": [],
   "source": [
    "df.drop(columns=['Census_Year'], axis=1, inplace=True)"
   ]
  },
  {
   "cell_type": "code",
   "execution_count": 14,
   "metadata": {},
   "outputs": [
    {
     "data": {
      "text/html": [
       "<div>\n",
       "<style scoped>\n",
       "    .dataframe tbody tr th:only-of-type {\n",
       "        vertical-align: middle;\n",
       "    }\n",
       "\n",
       "    .dataframe tbody tr th {\n",
       "        vertical-align: top;\n",
       "    }\n",
       "\n",
       "    .dataframe thead th {\n",
       "        text-align: right;\n",
       "    }\n",
       "</style>\n",
       "<table border=\"1\" class=\"dataframe\">\n",
       "  <thead>\n",
       "    <tr style=\"text-align: right;\">\n",
       "      <th></th>\n",
       "      <th>Total_Population</th>\n",
       "      <th>Census_Cost</th>\n",
       "      <th>Average_Cost_Per_Person</th>\n",
       "      <th>Clean_Year</th>\n",
       "    </tr>\n",
       "  </thead>\n",
       "  <tbody>\n",
       "    <tr>\n",
       "      <td>1</td>\n",
       "      <td>3929214</td>\n",
       "      <td>$44,377</td>\n",
       "      <td>1.13 cents</td>\n",
       "      <td>1790</td>\n",
       "    </tr>\n",
       "    <tr>\n",
       "      <td>2</td>\n",
       "      <td>5308483</td>\n",
       "      <td>$66,109</td>\n",
       "      <td>1.24 cents</td>\n",
       "      <td>1800</td>\n",
       "    </tr>\n",
       "    <tr>\n",
       "      <td>3</td>\n",
       "      <td>7239881</td>\n",
       "      <td>$178,445</td>\n",
       "      <td>2.46 cents</td>\n",
       "      <td>1810</td>\n",
       "    </tr>\n",
       "    <tr>\n",
       "      <td>4</td>\n",
       "      <td>9633822</td>\n",
       "      <td>$208,526</td>\n",
       "      <td>2.16 cents</td>\n",
       "      <td>1820</td>\n",
       "    </tr>\n",
       "    <tr>\n",
       "      <td>5</td>\n",
       "      <td>12866020</td>\n",
       "      <td>$378,545</td>\n",
       "      <td>2.94 cents</td>\n",
       "      <td>1830</td>\n",
       "    </tr>\n",
       "  </tbody>\n",
       "</table>\n",
       "</div>"
      ],
      "text/plain": [
       "  Total_Population Census_Cost Average_Cost_Per_Person Clean_Year\n",
       "1          3929214     $44,377              1.13 cents       1790\n",
       "2          5308483     $66,109              1.24 cents       1800\n",
       "3          7239881    $178,445              2.46 cents       1810\n",
       "4          9633822    $208,526              2.16 cents       1820\n",
       "5         12866020    $378,545              2.94 cents       1830"
      ]
     },
     "execution_count": 14,
     "metadata": {},
     "output_type": "execute_result"
    }
   ],
   "source": [
    "df.head()"
   ]
  },
  {
   "cell_type": "markdown",
   "metadata": {},
   "source": [
    "### 7) Repeat this process for column \"Total Population\", \"Census Cost\", \"Average Cost Per Person\". (define, test, and apply the function)"
   ]
  },
  {
   "cell_type": "code",
   "execution_count": 17,
   "metadata": {},
   "outputs": [],
   "source": [
    "def cleanse_census_cost(raw_census_cost):\n",
    "    census_cost = raw_census_cost.replace(',', '').replace('$', '').replace('.', '').replace('Billion', '00000000').replace(' ', '')\n",
    "    return census_cost"
   ]
  },
  {
   "cell_type": "code",
   "execution_count": 18,
   "metadata": {},
   "outputs": [
    {
     "data": {
      "text/plain": [
       "'1300000000'"
      ]
     },
     "execution_count": 18,
     "metadata": {},
     "output_type": "execute_result"
    }
   ],
   "source": [
    "cleanse_census_cost('$13 Billion')"
   ]
  },
  {
   "cell_type": "code",
   "execution_count": 19,
   "metadata": {},
   "outputs": [],
   "source": [
    "df['Clean_Census_Cost'] = df['Census_Cost'].apply(cleanse_census_cost)"
   ]
  },
  {
   "cell_type": "code",
   "execution_count": 20,
   "metadata": {},
   "outputs": [],
   "source": [
    "df.drop(columns=['Census_Cost'], axis=1, inplace=True)"
   ]
  },
  {
   "cell_type": "code",
   "execution_count": 21,
   "metadata": {},
   "outputs": [
    {
     "data": {
      "text/html": [
       "<div>\n",
       "<style scoped>\n",
       "    .dataframe tbody tr th:only-of-type {\n",
       "        vertical-align: middle;\n",
       "    }\n",
       "\n",
       "    .dataframe tbody tr th {\n",
       "        vertical-align: top;\n",
       "    }\n",
       "\n",
       "    .dataframe thead th {\n",
       "        text-align: right;\n",
       "    }\n",
       "</style>\n",
       "<table border=\"1\" class=\"dataframe\">\n",
       "  <thead>\n",
       "    <tr style=\"text-align: right;\">\n",
       "      <th></th>\n",
       "      <th>Total_Population</th>\n",
       "      <th>Average_Cost_Per_Person</th>\n",
       "      <th>Clean_Year</th>\n",
       "      <th>Clean_Census_Cost</th>\n",
       "    </tr>\n",
       "  </thead>\n",
       "  <tbody>\n",
       "    <tr>\n",
       "      <td>1</td>\n",
       "      <td>3929214</td>\n",
       "      <td>1.13 cents</td>\n",
       "      <td>1790</td>\n",
       "      <td>44377</td>\n",
       "    </tr>\n",
       "    <tr>\n",
       "      <td>2</td>\n",
       "      <td>5308483</td>\n",
       "      <td>1.24 cents</td>\n",
       "      <td>1800</td>\n",
       "      <td>66109</td>\n",
       "    </tr>\n",
       "    <tr>\n",
       "      <td>3</td>\n",
       "      <td>7239881</td>\n",
       "      <td>2.46 cents</td>\n",
       "      <td>1810</td>\n",
       "      <td>178445</td>\n",
       "    </tr>\n",
       "    <tr>\n",
       "      <td>4</td>\n",
       "      <td>9633822</td>\n",
       "      <td>2.16 cents</td>\n",
       "      <td>1820</td>\n",
       "      <td>208526</td>\n",
       "    </tr>\n",
       "    <tr>\n",
       "      <td>5</td>\n",
       "      <td>12866020</td>\n",
       "      <td>2.94 cents</td>\n",
       "      <td>1830</td>\n",
       "      <td>378545</td>\n",
       "    </tr>\n",
       "  </tbody>\n",
       "</table>\n",
       "</div>"
      ],
      "text/plain": [
       "  Total_Population Average_Cost_Per_Person Clean_Year Clean_Census_Cost\n",
       "1          3929214              1.13 cents       1790             44377\n",
       "2          5308483              1.24 cents       1800             66109\n",
       "3          7239881              2.46 cents       1810            178445\n",
       "4          9633822              2.16 cents       1820            208526\n",
       "5         12866020              2.94 cents       1830            378545"
      ]
     },
     "execution_count": 21,
     "metadata": {},
     "output_type": "execute_result"
    }
   ],
   "source": [
    "df.head()"
   ]
  },
  {
   "cell_type": "code",
   "execution_count": 22,
   "metadata": {},
   "outputs": [],
   "source": [
    "def cleanse_ACPP(raw_cost):\n",
    "    cost = raw_cost.replace('cents', '').replace('$', '')\n",
    "\n",
    "    return cost"
   ]
  },
  {
   "cell_type": "code",
   "execution_count": 23,
   "metadata": {},
   "outputs": [
    {
     "data": {
      "text/plain": [
       "'1.13 '"
      ]
     },
     "execution_count": 23,
     "metadata": {},
     "output_type": "execute_result"
    }
   ],
   "source": [
    "cleanse_ACPP('1.13 cents')"
   ]
  },
  {
   "cell_type": "code",
   "execution_count": 24,
   "metadata": {},
   "outputs": [],
   "source": [
    "df['Clean_ACPP'] = df['Average_Cost_Per_Person'].apply(cleanse_ACPP)"
   ]
  },
  {
   "cell_type": "code",
   "execution_count": 25,
   "metadata": {},
   "outputs": [],
   "source": [
    "df.drop(columns=['Average_Cost_Per_Person'], axis=1, inplace=True)"
   ]
  },
  {
   "cell_type": "code",
   "execution_count": 26,
   "metadata": {},
   "outputs": [
    {
     "data": {
      "text/html": [
       "<div>\n",
       "<style scoped>\n",
       "    .dataframe tbody tr th:only-of-type {\n",
       "        vertical-align: middle;\n",
       "    }\n",
       "\n",
       "    .dataframe tbody tr th {\n",
       "        vertical-align: top;\n",
       "    }\n",
       "\n",
       "    .dataframe thead th {\n",
       "        text-align: right;\n",
       "    }\n",
       "</style>\n",
       "<table border=\"1\" class=\"dataframe\">\n",
       "  <thead>\n",
       "    <tr style=\"text-align: right;\">\n",
       "      <th></th>\n",
       "      <th>Total_Population</th>\n",
       "      <th>Clean_Year</th>\n",
       "      <th>Clean_Census_Cost</th>\n",
       "      <th>Clean_ACPP</th>\n",
       "    </tr>\n",
       "  </thead>\n",
       "  <tbody>\n",
       "    <tr>\n",
       "      <td>1</td>\n",
       "      <td>3929214</td>\n",
       "      <td>1790</td>\n",
       "      <td>44377</td>\n",
       "      <td>1.13</td>\n",
       "    </tr>\n",
       "    <tr>\n",
       "      <td>2</td>\n",
       "      <td>5308483</td>\n",
       "      <td>1800</td>\n",
       "      <td>66109</td>\n",
       "      <td>1.24</td>\n",
       "    </tr>\n",
       "    <tr>\n",
       "      <td>3</td>\n",
       "      <td>7239881</td>\n",
       "      <td>1810</td>\n",
       "      <td>178445</td>\n",
       "      <td>2.46</td>\n",
       "    </tr>\n",
       "    <tr>\n",
       "      <td>4</td>\n",
       "      <td>9633822</td>\n",
       "      <td>1820</td>\n",
       "      <td>208526</td>\n",
       "      <td>2.16</td>\n",
       "    </tr>\n",
       "    <tr>\n",
       "      <td>5</td>\n",
       "      <td>12866020</td>\n",
       "      <td>1830</td>\n",
       "      <td>378545</td>\n",
       "      <td>2.94</td>\n",
       "    </tr>\n",
       "  </tbody>\n",
       "</table>\n",
       "</div>"
      ],
      "text/plain": [
       "  Total_Population Clean_Year Clean_Census_Cost Clean_ACPP\n",
       "1          3929214       1790             44377      1.13 \n",
       "2          5308483       1800             66109      1.24 \n",
       "3          7239881       1810            178445      2.46 \n",
       "4          9633822       1820            208526      2.16 \n",
       "5         12866020       1830            378545      2.94 "
      ]
     },
     "execution_count": 26,
     "metadata": {},
     "output_type": "execute_result"
    }
   ],
   "source": [
    "df.head()"
   ]
  },
  {
   "cell_type": "markdown",
   "metadata": {},
   "source": [
    "### 8) After all columns are cleansed, save the clenased dataframe to a file named \"census_cost_cleansed.csv\" using CSV format."
   ]
  },
  {
   "cell_type": "code",
   "execution_count": 27,
   "metadata": {},
   "outputs": [],
   "source": [
    "df.to_csv(r'census_cost_cleansed.csv', index = False)"
   ]
  },
  {
   "cell_type": "markdown",
   "metadata": {},
   "source": [
    "### 9) Use Pandas to read the saved cleansed file and explore to make sure it is clean."
   ]
  },
  {
   "cell_type": "code",
   "execution_count": 28,
   "metadata": {},
   "outputs": [
    {
     "data": {
      "text/html": [
       "<div>\n",
       "<style scoped>\n",
       "    .dataframe tbody tr th:only-of-type {\n",
       "        vertical-align: middle;\n",
       "    }\n",
       "\n",
       "    .dataframe tbody tr th {\n",
       "        vertical-align: top;\n",
       "    }\n",
       "\n",
       "    .dataframe thead th {\n",
       "        text-align: right;\n",
       "    }\n",
       "</style>\n",
       "<table border=\"1\" class=\"dataframe\">\n",
       "  <thead>\n",
       "    <tr style=\"text-align: right;\">\n",
       "      <th></th>\n",
       "      <th>0</th>\n",
       "      <th>1</th>\n",
       "      <th>2</th>\n",
       "      <th>3</th>\n",
       "    </tr>\n",
       "  </thead>\n",
       "  <tbody>\n",
       "    <tr>\n",
       "      <td>0</td>\n",
       "      <td>Total_Population</td>\n",
       "      <td>Clean_Year</td>\n",
       "      <td>Clean_Census_Cost</td>\n",
       "      <td>Clean_ACPP</td>\n",
       "    </tr>\n",
       "    <tr>\n",
       "      <td>1</td>\n",
       "      <td>3929214</td>\n",
       "      <td>1790</td>\n",
       "      <td>44377</td>\n",
       "      <td>1.13</td>\n",
       "    </tr>\n",
       "    <tr>\n",
       "      <td>2</td>\n",
       "      <td>5308483</td>\n",
       "      <td>1800</td>\n",
       "      <td>66109</td>\n",
       "      <td>1.24</td>\n",
       "    </tr>\n",
       "    <tr>\n",
       "      <td>3</td>\n",
       "      <td>7239881</td>\n",
       "      <td>1810</td>\n",
       "      <td>178445</td>\n",
       "      <td>2.46</td>\n",
       "    </tr>\n",
       "    <tr>\n",
       "      <td>4</td>\n",
       "      <td>9633822</td>\n",
       "      <td>1820</td>\n",
       "      <td>208526</td>\n",
       "      <td>2.16</td>\n",
       "    </tr>\n",
       "  </tbody>\n",
       "</table>\n",
       "</div>"
      ],
      "text/plain": [
       "                  0           1                  2           3\n",
       "0  Total_Population  Clean_Year  Clean_Census_Cost  Clean_ACPP\n",
       "1           3929214        1790              44377       1.13 \n",
       "2           5308483        1800              66109       1.24 \n",
       "3           7239881        1810             178445       2.46 \n",
       "4           9633822        1820             208526       2.16 "
      ]
     },
     "execution_count": 28,
     "metadata": {},
     "output_type": "execute_result"
    }
   ],
   "source": [
    "df2 = pd.read_csv('census_cost_cleansed.csv', header=None)\n",
    "\n",
    "df2.head()"
   ]
  },
  {
   "cell_type": "code",
   "execution_count": null,
   "metadata": {},
   "outputs": [],
   "source": []
  }
 ],
 "metadata": {
  "kernelspec": {
   "display_name": "Python 3",
   "language": "python",
   "name": "python3"
  },
  "language_info": {
   "codemirror_mode": {
    "name": "ipython",
    "version": 3
   },
   "file_extension": ".py",
   "mimetype": "text/x-python",
   "name": "python",
   "nbconvert_exporter": "python",
   "pygments_lexer": "ipython3",
   "version": "3.7.4"
  }
 },
 "nbformat": 4,
 "nbformat_minor": 2
}
