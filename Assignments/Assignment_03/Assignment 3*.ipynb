{
 "cells": [
  {
   "cell_type": "markdown",
   "metadata": {},
   "source": [
    "# Assignment 03\n",
    "\n",
    "**Write a program that generates 100 random integers between 0 and 9**"
   ]
  },
  {
   "cell_type": "markdown",
   "metadata": {},
   "source": [
    "## 1. Print them in a 10 by 10 matrix neatly arranged like the following (one space between each number):"
   ]
  },
  {
   "cell_type": "code",
   "execution_count": 97,
   "metadata": {},
   "outputs": [
    {
     "name": "stdout",
     "output_type": "stream",
     "text": [
      "5 6 2 7 7 9 5 0 6 6 \n",
      "7 0 1 9 0 1 0 0 0 5 \n",
      "6 1 8 1 0 3 7 6 2 0 \n",
      "0 3 3 4 9 5 2 7 1 9 \n",
      "8 5 7 3 9 5 0 0 5 1 \n",
      "4 4 5 2 3 4 9 0 5 0 \n",
      "1 3 4 1 3 5 2 1 0 6 \n",
      "4 0 1 8 5 7 1 5 3 3 \n",
      "6 7 5 8 4 8 6 2 9 1 \n",
      "5 5 9 8 7 5 3 9 5 1 \n"
     ]
    }
   ],
   "source": [
    "import random\n",
    "import numpy as np\n",
    "\n",
    "num_rows = 10\n",
    "rand_num =[[random.randint(0,9) for x in range(num_rows)] for y in range(num_rows)]\n",
    "\n",
    "for i in range(num_rows):\n",
    "    for j in range(num_rows):\n",
    "        print(rand_num[i][j], end = ' ')\n",
    "    print()"
   ]
  },
  {
   "cell_type": "markdown",
   "metadata": {},
   "source": [
    "## 2. If the random number is an odd number, print \"@\" instead:"
   ]
  },
  {
   "cell_type": "code",
   "execution_count": 98,
   "metadata": {},
   "outputs": [
    {
     "name": "stdout",
     "output_type": "stream",
     "text": [
      "@ 6 2 @ @ @ @ 0 6 6 \n",
      "\n",
      "@ 0 @ @ 0 @ 0 0 0 @ \n",
      "\n",
      "6 @ 8 @ 0 @ @ 6 2 0 \n",
      "\n",
      "0 @ @ 4 @ @ 2 @ @ @ \n",
      "\n",
      "8 @ @ @ @ @ 0 0 @ @ \n",
      "\n",
      "4 4 @ 2 @ 4 @ 0 @ 0 \n",
      "\n",
      "@ @ 4 @ @ @ 2 @ 0 6 \n",
      "\n",
      "4 0 @ 8 @ @ @ @ @ @ \n",
      "\n",
      "6 @ @ 8 4 8 6 2 @ @ \n",
      "\n",
      "@ @ @ 8 @ @ @ @ @ @ \n",
      "\n"
     ]
    }
   ],
   "source": [
    "for list1 in rand_num:\n",
    "    for num in list1:\n",
    "        if num % 2 == 1:\n",
    "            print('@', end=\" \")\n",
    "        else:\n",
    "            print(num, end=\" \")\n",
    "    print(\"\\n\")\n",
    "\n",
    "\n",
    "#for list1 in rand_num:\n",
    "    #for list2 in list1:\n",
    "        #if list2 % 2 == 1:\n",
    "            #print('@')\n",
    "        #else:\n",
    "            #print(list2) \n",
    "            \n",
    "            \n",
    "#for list in rand_num:\n",
    "    #if list[i] % 2 != 0:\n",
    "        #list[i].append('@')\n",
    "    #else:\n",
    "        #list[i].append(list[i])\n",
    "\n",
    "\n",
    "#for list1 in rand_num:\n",
    "    #for list2 in list1:\n",
    "        #if list2 % 2 == 1:\n",
    "            #print('@')\n",
    "        #else:\n",
    "            #print(list2)\n",
    "    #print(list2)\n",
    "\n",
    "    \n",
    "#new_list = []\n",
    "\n",
    "#for list1 in rand_num:\n",
    "    #for list2 in list1:\n",
    "        #if list2 % 2 == 1:\n",
    "            #new_list[list1] = '@'\n",
    "            #print('@')\n",
    "        #else:\n",
    "            #new_list[list1] = list2\n",
    "            #print(list2)\n",
    "        #new_list = list2\n",
    "    #print(new_list)\n",
    "    "
   ]
  },
  {
   "cell_type": "markdown",
   "metadata": {},
   "source": [
    "## 3. Calculate and Print the total of each row like the following (use \"*\" to separate the total from the numbers):"
   ]
  },
  {
   "cell_type": "code",
   "execution_count": 99,
   "metadata": {},
   "outputs": [
    {
     "data": {
      "text/plain": [
       "[[5, 6, 2, 7, 7, 9, 5, 0, 6, 6],\n",
       " [7, 0, 1, 9, 0, 1, 0, 0, 0, 5],\n",
       " [6, 1, 8, 1, 0, 3, 7, 6, 2, 0],\n",
       " [0, 3, 3, 4, 9, 5, 2, 7, 1, 9],\n",
       " [8, 5, 7, 3, 9, 5, 0, 0, 5, 1],\n",
       " [4, 4, 5, 2, 3, 4, 9, 0, 5, 0],\n",
       " [1, 3, 4, 1, 3, 5, 2, 1, 0, 6],\n",
       " [4, 0, 1, 8, 5, 7, 1, 5, 3, 3],\n",
       " [6, 7, 5, 8, 4, 8, 6, 2, 9, 1],\n",
       " [5, 5, 9, 8, 7, 5, 3, 9, 5, 1]]"
      ]
     },
     "execution_count": 99,
     "metadata": {},
     "output_type": "execute_result"
    }
   ],
   "source": [
    "rand_num"
   ]
  },
  {
   "cell_type": "code",
   "execution_count": 100,
   "metadata": {},
   "outputs": [
    {
     "name": "stdout",
     "output_type": "stream",
     "text": [
      "[53 23 34 43 43 36 26 37 56 57]\n"
     ]
    }
   ],
   "source": [
    "a = np.array(rand_num)\n",
    "res = np.sum(a, axis=1)\n",
    "print(res)"
   ]
  },
  {
   "cell_type": "code",
   "execution_count": 101,
   "metadata": {},
   "outputs": [
    {
     "data": {
      "text/plain": [
       "numpy.ndarray"
      ]
     },
     "execution_count": 101,
     "metadata": {},
     "output_type": "execute_result"
    }
   ],
   "source": [
    "type(res)"
   ]
  },
  {
   "cell_type": "code",
   "execution_count": 102,
   "metadata": {},
   "outputs": [],
   "source": [
    "extra_column = np.array(['*','*','*','*','*','*','*','*','*','*'])"
   ]
  },
  {
   "cell_type": "code",
   "execution_count": 103,
   "metadata": {},
   "outputs": [
    {
     "name": "stdout",
     "output_type": "stream",
     "text": [
      "[['5' '6' '2' '7' '7' '9' '5' '0' '6' '6' '*']\n",
      " ['7' '0' '1' '9' '0' '1' '0' '0' '0' '5' '*']\n",
      " ['6' '1' '8' '1' '0' '3' '7' '6' '2' '0' '*']\n",
      " ['0' '3' '3' '4' '9' '5' '2' '7' '1' '9' '*']\n",
      " ['8' '5' '7' '3' '9' '5' '0' '0' '5' '1' '*']\n",
      " ['4' '4' '5' '2' '3' '4' '9' '0' '5' '0' '*']\n",
      " ['1' '3' '4' '1' '3' '5' '2' '1' '0' '6' '*']\n",
      " ['4' '0' '1' '8' '5' '7' '1' '5' '3' '3' '*']\n",
      " ['6' '7' '5' '8' '4' '8' '6' '2' '9' '1' '*']\n",
      " ['5' '5' '9' '8' '7' '5' '3' '9' '5' '1' '*']]"
     ]
    }
   ],
   "source": [
    "output = np.column_stack((a, extra_column))\n",
    "\n",
    "print(output, end='')"
   ]
  },
  {
   "cell_type": "code",
   "execution_count": 104,
   "metadata": {},
   "outputs": [
    {
     "name": "stdout",
     "output_type": "stream",
     "text": [
      "[['5' '6' '2' '7' '7' '9' '5' '0' '6' '6' '*' '53']\n",
      " ['7' '0' '1' '9' '0' '1' '0' '0' '0' '5' '*' '23']\n",
      " ['6' '1' '8' '1' '0' '3' '7' '6' '2' '0' '*' '34']\n",
      " ['0' '3' '3' '4' '9' '5' '2' '7' '1' '9' '*' '43']\n",
      " ['8' '5' '7' '3' '9' '5' '0' '0' '5' '1' '*' '43']\n",
      " ['4' '4' '5' '2' '3' '4' '9' '0' '5' '0' '*' '36']\n",
      " ['1' '3' '4' '1' '3' '5' '2' '1' '0' '6' '*' '26']\n",
      " ['4' '0' '1' '8' '5' '7' '1' '5' '3' '3' '*' '37']\n",
      " ['6' '7' '5' '8' '4' '8' '6' '2' '9' '1' '*' '56']\n",
      " ['5' '5' '9' '8' '7' '5' '3' '9' '5' '1' '*' '57']]\n"
     ]
    }
   ],
   "source": [
    "total_matrix = np.column_stack((output, res))\n",
    "\n",
    "print(total_matrix)"
   ]
  },
  {
   "cell_type": "code",
   "execution_count": 105,
   "metadata": {},
   "outputs": [
    {
     "data": {
      "text/plain": [
       "[53, 23, 34, 43, 43, 36, 26, 37, 56, 57]"
      ]
     },
     "execution_count": 105,
     "metadata": {},
     "output_type": "execute_result"
    }
   ],
   "source": [
    "sum_rows = [sum(x) for x in rand_num]\n",
    "\n",
    "sum_rows"
   ]
  },
  {
   "cell_type": "code",
   "execution_count": 106,
   "metadata": {},
   "outputs": [
    {
     "data": {
      "text/plain": [
       "[[5, 6, 2, 7, 7, 9, 5, 0, 6, 6],\n",
       " [7, 0, 1, 9, 0, 1, 0, 0, 0, 5],\n",
       " [6, 1, 8, 1, 0, 3, 7, 6, 2, 0],\n",
       " [0, 3, 3, 4, 9, 5, 2, 7, 1, 9],\n",
       " [8, 5, 7, 3, 9, 5, 0, 0, 5, 1],\n",
       " [4, 4, 5, 2, 3, 4, 9, 0, 5, 0],\n",
       " [1, 3, 4, 1, 3, 5, 2, 1, 0, 6],\n",
       " [4, 0, 1, 8, 5, 7, 1, 5, 3, 3],\n",
       " [6, 7, 5, 8, 4, 8, 6, 2, 9, 1],\n",
       " [5, 5, 9, 8, 7, 5, 3, 9, 5, 1]]"
      ]
     },
     "execution_count": 106,
     "metadata": {},
     "output_type": "execute_result"
    }
   ],
   "source": [
    "practice_matrix = rand_num\n",
    "\n",
    "practice_matrix"
   ]
  },
  {
   "cell_type": "code",
   "execution_count": 107,
   "metadata": {},
   "outputs": [
    {
     "data": {
      "text/plain": [
       "list"
      ]
     },
     "execution_count": 107,
     "metadata": {},
     "output_type": "execute_result"
    }
   ],
   "source": [
    "type(sum_rows)"
   ]
  },
  {
   "cell_type": "code",
   "execution_count": 108,
   "metadata": {},
   "outputs": [
    {
     "name": "stdout",
     "output_type": "stream",
     "text": [
      "[5, 6, 2, 7, 7, 9, 5, 0, 6, 6, [53, 23, 34, 43, 43, 36, 26, 37, 56]]\n",
      "[7, 0, 1, 9, 0, 1, 0, 0, 0, 5, [53, 23, 34, 43, 43, 36, 26, 37, 56]]\n",
      "[6, 1, 8, 1, 0, 3, 7, 6, 2, 0, [53, 23, 34, 43, 43, 36, 26, 37, 56]]\n",
      "[0, 3, 3, 4, 9, 5, 2, 7, 1, 9, [53, 23, 34, 43, 43, 36, 26, 37, 56]]\n",
      "[8, 5, 7, 3, 9, 5, 0, 0, 5, 1, [53, 23, 34, 43, 43, 36, 26, 37, 56]]\n",
      "[4, 4, 5, 2, 3, 4, 9, 0, 5, 0, [53, 23, 34, 43, 43, 36, 26, 37, 56]]\n",
      "[1, 3, 4, 1, 3, 5, 2, 1, 0, 6, [53, 23, 34, 43, 43, 36, 26, 37, 56]]\n",
      "[4, 0, 1, 8, 5, 7, 1, 5, 3, 3, [53, 23, 34, 43, 43, 36, 26, 37, 56]]\n",
      "[6, 7, 5, 8, 4, 8, 6, 2, 9, 1, [53, 23, 34, 43, 43, 36, 26, 37, 56]]\n",
      "[5, 5, 9, 8, 7, 5, 3, 9, 5, 1, [53, 23, 34, 43, 43, 36, 26, 37, 56]]\n"
     ]
    }
   ],
   "source": [
    "for row in practice_matrix:\n",
    "    last_column = sum_rows\n",
    "    row.append(last_column[:i])\n",
    "    print(row)"
   ]
  },
  {
   "cell_type": "code",
   "execution_count": null,
   "metadata": {},
   "outputs": [],
   "source": []
  }
 ],
 "metadata": {
  "kernelspec": {
   "display_name": "Python 3",
   "language": "python",
   "name": "python3"
  },
  "language_info": {
   "codemirror_mode": {
    "name": "ipython",
    "version": 3
   },
   "file_extension": ".py",
   "mimetype": "text/x-python",
   "name": "python",
   "nbconvert_exporter": "python",
   "pygments_lexer": "ipython3",
   "version": "3.7.4"
  }
 },
 "nbformat": 4,
 "nbformat_minor": 2
}
