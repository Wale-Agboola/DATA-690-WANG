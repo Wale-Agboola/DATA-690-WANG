{
 "cells": [
  {
   "cell_type": "markdown",
   "metadata": {},
   "source": [
    "# Assignment 04\n",
    "\n",
    "**Wale Agboola**\n",
    "\n",
    "**Data 690**"
   ]
  },
  {
   "cell_type": "markdown",
   "metadata": {},
   "source": [
    "**1)Write code to open the text file census_cost.txt and read all lines into a list named \"line_list\". Print line_list**"
   ]
  },
  {
   "cell_type": "code",
   "execution_count": 1,
   "metadata": {},
   "outputs": [],
   "source": [
    "with open('census_cost.txt', 'rt') as f:\n",
    "    line_list = f.readlines()"
   ]
  },
  {
   "cell_type": "code",
   "execution_count": 2,
   "metadata": {},
   "outputs": [
    {
     "data": {
      "text/plain": [
       "list"
      ]
     },
     "execution_count": 2,
     "metadata": {},
     "output_type": "execute_result"
    }
   ],
   "source": [
    "type(line_list)"
   ]
  },
  {
   "cell_type": "code",
   "execution_count": 3,
   "metadata": {},
   "outputs": [
    {
     "name": "stdout",
     "output_type": "stream",
     "text": [
      "['Source: https://www.genealogybranches.com/censuscosts.html\\n', 'Census Year\\tTotal Population\\tCensus Cost\\tAverage Cost Per Person\\n', '1790\\t3,929,214\\t$44,377\\t1.13 cents\\n', '1800\\t5,308,483\\t$66,109\\t1.24 cents\\n', '1810\\t7,239,881\\t$178,445\\t2.46 cents\\n', '1820\\t9,633,822\\t$208,526\\t2.16 cents\\n', '1830\\t12,866,020\\t$378,545\\t2.94 cents\\n', '1840\\t17,069,458\\t$833,371\\t4.88 cents\\n', '1850\\t23,191,876\\t$1,423,351\\t6.14 cents\\n', '1860\\t31,443,321\\t$1,969,377\\t6.26 cents\\n', '1870\\t38,558,371\\t$3,421,198\\t8.87 cents\\n', '1880\\t50,155,783\\t$5,790,678\\t11.54 cents\\n', '1890\\t62,979,766\\t$11,547,127\\t18.33 cents\\n', '1900\\t76,303,387\\t$11,854,000\\t15.54 cents\\n', '1910\\t91,972,266\\t$15,968,000\\t17.07 cents\\n', '1920\\t105,710,620\\t$25,117,000\\t23.76 cents\\n', '1930\\t122,775,046\\t$40,156,000\\t32.71 cents\\n', '1940\\t131,669,275\\t$67,527,000\\t51.29 cents\\n', '1950\\t151,325,798\\t$91,462,000\\t60.44 cents\\n', '1960\\t179,323,175\\t$127,934,000\\t71.34 cents\\n', '1970\\t203,302,031\\t$247,653,000\\t$1.22\\n', '1980\\t226,542,199\\t$1,078,488,000\\t$4.76\\n', '1990\\t248,718,301\\t$2,492,830,000\\t$10.02\\n', '2000\\t281,421,906\\t$4.5 Billion\\t$15.99\\n', '2010*\\t308,745,538\\t$13 Billion\\t$42.11\\n']\n"
     ]
    }
   ],
   "source": [
    "print(line_list)"
   ]
  },
  {
   "cell_type": "code",
   "execution_count": 4,
   "metadata": {},
   "outputs": [
    {
     "name": "stdout",
     "output_type": "stream",
     "text": [
      "Source: https://www.genealogybranches.com/censuscosts.html\n",
      "\n",
      "Census Year\tTotal Population\tCensus Cost\tAverage Cost Per Person\n",
      "\n",
      "1790\t3,929,214\t$44,377\t1.13 cents\n",
      "\n",
      "1800\t5,308,483\t$66,109\t1.24 cents\n",
      "\n",
      "1810\t7,239,881\t$178,445\t2.46 cents\n",
      "\n",
      "1820\t9,633,822\t$208,526\t2.16 cents\n",
      "\n",
      "1830\t12,866,020\t$378,545\t2.94 cents\n",
      "\n",
      "1840\t17,069,458\t$833,371\t4.88 cents\n",
      "\n",
      "1850\t23,191,876\t$1,423,351\t6.14 cents\n",
      "\n",
      "1860\t31,443,321\t$1,969,377\t6.26 cents\n",
      "\n",
      "1870\t38,558,371\t$3,421,198\t8.87 cents\n",
      "\n",
      "1880\t50,155,783\t$5,790,678\t11.54 cents\n",
      "\n",
      "1890\t62,979,766\t$11,547,127\t18.33 cents\n",
      "\n",
      "1900\t76,303,387\t$11,854,000\t15.54 cents\n",
      "\n",
      "1910\t91,972,266\t$15,968,000\t17.07 cents\n",
      "\n",
      "1920\t105,710,620\t$25,117,000\t23.76 cents\n",
      "\n",
      "1930\t122,775,046\t$40,156,000\t32.71 cents\n",
      "\n",
      "1940\t131,669,275\t$67,527,000\t51.29 cents\n",
      "\n",
      "1950\t151,325,798\t$91,462,000\t60.44 cents\n",
      "\n",
      "1960\t179,323,175\t$127,934,000\t71.34 cents\n",
      "\n",
      "1970\t203,302,031\t$247,653,000\t$1.22\n",
      "\n",
      "1980\t226,542,199\t$1,078,488,000\t$4.76\n",
      "\n",
      "1990\t248,718,301\t$2,492,830,000\t$10.02\n",
      "\n",
      "2000\t281,421,906\t$4.5 Billion\t$15.99\n",
      "\n",
      "2010*\t308,745,538\t$13 Billion\t$42.11\n",
      "\n"
     ]
    }
   ],
   "source": [
    "for row in line_list:\n",
    "    print(row)"
   ]
  },
  {
   "cell_type": "markdown",
   "metadata": {},
   "source": [
    "**2)Extract the first two lines and put them in a different list named \"top2_list\". You will need to use them later. Print the top2_list**"
   ]
  },
  {
   "cell_type": "code",
   "execution_count": 5,
   "metadata": {},
   "outputs": [
    {
     "data": {
      "text/plain": [
       "2"
      ]
     },
     "execution_count": 5,
     "metadata": {},
     "output_type": "execute_result"
    }
   ],
   "source": [
    "top2_list = line_list[0:2]\n",
    "\n",
    "len(top2_list)"
   ]
  },
  {
   "cell_type": "code",
   "execution_count": 6,
   "metadata": {},
   "outputs": [
    {
     "name": "stdout",
     "output_type": "stream",
     "text": [
      "['Source: https://www.genealogybranches.com/censuscosts.html\\n', 'Census Year\\tTotal Population\\tCensus Cost\\tAverage Cost Per Person\\n']\n"
     ]
    }
   ],
   "source": [
    "print(top2_list)"
   ]
  },
  {
   "cell_type": "markdown",
   "metadata": {},
   "source": [
    "**3)Put the rest of the lines (containing useful data elements) in a new list named \"data_list\". Print data_list.**"
   ]
  },
  {
   "cell_type": "code",
   "execution_count": 7,
   "metadata": {},
   "outputs": [
    {
     "name": "stdout",
     "output_type": "stream",
     "text": [
      "['1790\\t3,929,214\\t$44,377\\t1.13 cents\\n', '1800\\t5,308,483\\t$66,109\\t1.24 cents\\n', '1810\\t7,239,881\\t$178,445\\t2.46 cents\\n', '1820\\t9,633,822\\t$208,526\\t2.16 cents\\n', '1830\\t12,866,020\\t$378,545\\t2.94 cents\\n', '1840\\t17,069,458\\t$833,371\\t4.88 cents\\n', '1850\\t23,191,876\\t$1,423,351\\t6.14 cents\\n', '1860\\t31,443,321\\t$1,969,377\\t6.26 cents\\n', '1870\\t38,558,371\\t$3,421,198\\t8.87 cents\\n', '1880\\t50,155,783\\t$5,790,678\\t11.54 cents\\n', '1890\\t62,979,766\\t$11,547,127\\t18.33 cents\\n', '1900\\t76,303,387\\t$11,854,000\\t15.54 cents\\n', '1910\\t91,972,266\\t$15,968,000\\t17.07 cents\\n', '1920\\t105,710,620\\t$25,117,000\\t23.76 cents\\n', '1930\\t122,775,046\\t$40,156,000\\t32.71 cents\\n', '1940\\t131,669,275\\t$67,527,000\\t51.29 cents\\n', '1950\\t151,325,798\\t$91,462,000\\t60.44 cents\\n', '1960\\t179,323,175\\t$127,934,000\\t71.34 cents\\n', '1970\\t203,302,031\\t$247,653,000\\t$1.22\\n', '1980\\t226,542,199\\t$1,078,488,000\\t$4.76\\n', '1990\\t248,718,301\\t$2,492,830,000\\t$10.02\\n', '2000\\t281,421,906\\t$4.5 Billion\\t$15.99\\n', '2010*\\t308,745,538\\t$13 Billion\\t$42.11\\n']\n"
     ]
    }
   ],
   "source": [
    "data_list = line_list[2:]\n",
    "\n",
    "print(data_list)"
   ]
  },
  {
   "cell_type": "code",
   "execution_count": 8,
   "metadata": {},
   "outputs": [
    {
     "name": "stdout",
     "output_type": "stream",
     "text": [
      "1790\t3,929,214\t$44,377\t1.13 cents\n",
      "\n",
      "1800\t5,308,483\t$66,109\t1.24 cents\n",
      "\n",
      "1810\t7,239,881\t$178,445\t2.46 cents\n",
      "\n",
      "1820\t9,633,822\t$208,526\t2.16 cents\n",
      "\n",
      "1830\t12,866,020\t$378,545\t2.94 cents\n",
      "\n",
      "1840\t17,069,458\t$833,371\t4.88 cents\n",
      "\n",
      "1850\t23,191,876\t$1,423,351\t6.14 cents\n",
      "\n",
      "1860\t31,443,321\t$1,969,377\t6.26 cents\n",
      "\n",
      "1870\t38,558,371\t$3,421,198\t8.87 cents\n",
      "\n",
      "1880\t50,155,783\t$5,790,678\t11.54 cents\n",
      "\n",
      "1890\t62,979,766\t$11,547,127\t18.33 cents\n",
      "\n",
      "1900\t76,303,387\t$11,854,000\t15.54 cents\n",
      "\n",
      "1910\t91,972,266\t$15,968,000\t17.07 cents\n",
      "\n",
      "1920\t105,710,620\t$25,117,000\t23.76 cents\n",
      "\n",
      "1930\t122,775,046\t$40,156,000\t32.71 cents\n",
      "\n",
      "1940\t131,669,275\t$67,527,000\t51.29 cents\n",
      "\n",
      "1950\t151,325,798\t$91,462,000\t60.44 cents\n",
      "\n",
      "1960\t179,323,175\t$127,934,000\t71.34 cents\n",
      "\n",
      "1970\t203,302,031\t$247,653,000\t$1.22\n",
      "\n",
      "1980\t226,542,199\t$1,078,488,000\t$4.76\n",
      "\n",
      "1990\t248,718,301\t$2,492,830,000\t$10.02\n",
      "\n",
      "2000\t281,421,906\t$4.5 Billion\t$15.99\n",
      "\n",
      "2010*\t308,745,538\t$13 Billion\t$42.11\n",
      "\n"
     ]
    }
   ],
   "source": [
    "for row in data_list:\n",
    "    print(row)"
   ]
  },
  {
   "cell_type": "markdown",
   "metadata": {},
   "source": [
    "**4)Extract the column \"Census Year\" from data_list and assign them to a list named year_list. Remove the \"\" from the last element \"2010\". Print the cleansed year_list**"
   ]
  },
  {
   "cell_type": "code",
   "execution_count": 9,
   "metadata": {},
   "outputs": [
    {
     "name": "stdout",
     "output_type": "stream",
     "text": [
      "['1790', '1800', '1810', '1820', '1830', '1840', '1850', '1860', '1870', '1880', '1890', '1900', '1910', '1920', '1930', '1940', '1950', '1960', '1970', '1980', '1990', '2000', '2010']\n"
     ]
    }
   ],
   "source": [
    "unclean_year_list = []\n",
    "\n",
    "for line in data_list:\n",
    "    unclean_year_list.append(line.split()[0])\n",
    "\n",
    "unclean_year_list[22] = '2010'\n",
    "\n",
    "print(unclean_year_list)"
   ]
  },
  {
   "cell_type": "code",
   "execution_count": 10,
   "metadata": {},
   "outputs": [
    {
     "name": "stdout",
     "output_type": "stream",
     "text": [
      "[1790, 1800, 1810, 1820, 1830, 1840, 1850, 1860, 1870, 1880, 1890, 1900, 1910, 1920, 1930, 1940, 1950, 1960, 1970, 1980, 1990, 2000, 2010]\n"
     ]
    }
   ],
   "source": [
    "year_list = [int(year) for year in unclean_year_list]\n",
    "\n",
    "print(year_list)"
   ]
  },
  {
   "cell_type": "markdown",
   "metadata": {},
   "source": [
    "**5)Extract the \"Total Population\" column from the data_list and assign them to a list named \"pop_list\". Remove the \",\" from the numbers since Python doesn't recognize them. Print the cleansed \"pop_list\"**"
   ]
  },
  {
   "cell_type": "code",
   "execution_count": 11,
   "metadata": {},
   "outputs": [
    {
     "name": "stdout",
     "output_type": "stream",
     "text": [
      "['3,929,214', '5,308,483', '7,239,881', '9,633,822', '12,866,020', '17,069,458', '23,191,876', '31,443,321', '38,558,371', '50,155,783', '62,979,766', '76,303,387', '91,972,266', '105,710,620', '122,775,046', '131,669,275', '151,325,798', '179,323,175', '203,302,031', '226,542,199', '248,718,301', '281,421,906', '308,745,538']\n"
     ]
    }
   ],
   "source": [
    "unclean_pop_list = []\n",
    "\n",
    "for line in data_list:\n",
    "    unclean_pop_list.append(line.split()[1])\n",
    "print(unclean_pop_list)"
   ]
  },
  {
   "cell_type": "code",
   "execution_count": 12,
   "metadata": {},
   "outputs": [
    {
     "name": "stdout",
     "output_type": "stream",
     "text": [
      "['3929214', '5308483', '7239881', '9633822', '12866020', '17069458', '23191876', '31443321', '38558371', '50155783', '62979766', '76303387', '91972266', '105710620', '122775046', '131669275', '151325798', '179323175', '203302031', '226542199', '248718301', '281421906', '308745538']\n"
     ]
    }
   ],
   "source": [
    "pop_list = []\n",
    "\n",
    "for line in unclean_pop_list:\n",
    "    pop_list.append(line.replace(',', ''))\n",
    "    \n",
    "print(pop_list)"
   ]
  },
  {
   "cell_type": "markdown",
   "metadata": {},
   "source": [
    "**6)Extract the \"Census Cost\" column from the data_list and assign them to a list named \"cost_list\". Remove the \",\", and\"$\",and \"Billion\". Make sure to add the \"0\"s to the numbers from which you removed \"Billion\". Print the cleansed cost_list.**"
   ]
  },
  {
   "cell_type": "code",
   "execution_count": 14,
   "metadata": {},
   "outputs": [
    {
     "name": "stdout",
     "output_type": "stream",
     "text": [
      "['$44,377', '$66,109', '$178,445', '$208,526', '$378,545', '$833,371', '$1,423,351', '$1,969,377', '$3,421,198', '$5,790,678', '$11,547,127', '$11,854,000', '$15,968,000', '$25,117,000', '$40,156,000', '$67,527,000', '$91,462,000', '$127,934,000', '$247,653,000', '$1,078,488,000', '$2,492,830,000', '$4.5', '$13']\n"
     ]
    }
   ],
   "source": [
    "unclean_cost_list = []\n",
    "\n",
    "for line in data_list:\n",
    "    unclean_cost_list.append(line.split()[2])\n",
    "\n",
    "print(unclean_cost_list)"
   ]
  },
  {
   "cell_type": "code",
   "execution_count": 15,
   "metadata": {},
   "outputs": [
    {
     "name": "stdout",
     "output_type": "stream",
     "text": [
      "['44377', '66109', '178445', '208526', '378545', '833371', '1423351', '1969377', '3421198', '5790678', '11547127', '11854000', '15968000', '25117000', '40156000', '67527000', '91462000', '127934000', '247653000', '1078488000', '2492830000', '4500000000', '13000000000']\n"
     ]
    }
   ],
   "source": [
    "cost_list = []\n",
    "\n",
    "for line in unclean_cost_list:\n",
    "    cost_list.append(line.replace(',', '').replace('$', ''))\n",
    "\n",
    "cost_list[21] = '4500000000'\n",
    "\n",
    "cost_list[22] = '13000000000'    \n",
    "\n",
    "print(cost_list)"
   ]
  },
  {
   "cell_type": "markdown",
   "metadata": {},
   "source": [
    "**7)Extract the \"Average Cost per Person\" column from the data_list and assign them to a list named \"avg_list\". Remove the \"cents\", and \"$\". Make sure to divide the numbers in cents by 100 so that all numbers are measured in dollar. Print the cleansed avg_list.**"
   ]
  },
  {
   "cell_type": "code",
   "execution_count": 26,
   "metadata": {},
   "outputs": [
    {
     "name": "stdout",
     "output_type": "stream",
     "text": [
      "['1.13', '1.24', '2.46', '2.16', '2.94', '4.88', '6.14', '6.26', '8.87', '11.54', '18.33', '15.54', '17.07', '23.76', '32.71', '51.29', '60.44', '71.34', '$1.22', '$4.76', '$10.02', 'Billion', 'Billion']\n"
     ]
    }
   ],
   "source": [
    "unclean_avg_list = []\n",
    "\n",
    "for line in data_list:\n",
    "    unclean_avg_list.append(line.split()[3])\n",
    "print(unclean_avg_list)"
   ]
  },
  {
   "cell_type": "code",
   "execution_count": 27,
   "metadata": {},
   "outputs": [
    {
     "name": "stdout",
     "output_type": "stream",
     "text": [
      "['1.13', '1.24', '2.46', '2.16', '2.94', '4.88', '6.14', '6.26', '8.87', '11.54', '18.33', '15.54', '17.07', '23.76', '32.71', '51.29', '60.44', '71.34', '$1.22', '$4.76', '$10.02', 'Billion']\n"
     ]
    }
   ],
   "source": [
    "unclean_avg_list.remove('Billion')\n",
    "\n",
    "print(unclean_avg_list)"
   ]
  },
  {
   "cell_type": "code",
   "execution_count": 28,
   "metadata": {},
   "outputs": [
    {
     "data": {
      "text/plain": [
       "['1.13',\n",
       " '1.24',\n",
       " '2.46',\n",
       " '2.16',\n",
       " '2.94',\n",
       " '4.88',\n",
       " '6.14',\n",
       " '6.26',\n",
       " '8.87',\n",
       " '11.54',\n",
       " '18.33',\n",
       " '15.54',\n",
       " '17.07',\n",
       " '23.76',\n",
       " '32.71',\n",
       " '51.29',\n",
       " '60.44',\n",
       " '71.34',\n",
       " '$1.22',\n",
       " '$4.76',\n",
       " '$10.02']"
      ]
     },
     "execution_count": 28,
     "metadata": {},
     "output_type": "execute_result"
    }
   ],
   "source": [
    "unclean_avg_list.remove('Billion')\n",
    "\n",
    "unclean_avg_list"
   ]
  },
  {
   "cell_type": "code",
   "execution_count": 29,
   "metadata": {},
   "outputs": [
    {
     "name": "stdout",
     "output_type": "stream",
     "text": [
      "['1.13', '1.24', '2.46', '2.16', '2.94', '4.88', '6.14', '6.26', '8.87', '11.54', '18.33', '15.54', '17.07', '23.76', '32.71', '51.29', '60.44', '71.34', '1.22', '4.76', '10.02']\n"
     ]
    }
   ],
   "source": [
    "unclean_avg_list2 = []\n",
    "\n",
    "for cost in unclean_avg_list:\n",
    "    unclean_avg_list2.append(cost.replace('$', ''))\n",
    "    \n",
    "print(unclean_avg_list2)"
   ]
  },
  {
   "cell_type": "code",
   "execution_count": 30,
   "metadata": {},
   "outputs": [
    {
     "data": {
      "text/plain": [
       "['1.13',\n",
       " '1.24',\n",
       " '2.46',\n",
       " '2.16',\n",
       " '2.94',\n",
       " '4.88',\n",
       " '6.14',\n",
       " '6.26',\n",
       " '8.87',\n",
       " '11.54',\n",
       " '18.33',\n",
       " '15.54',\n",
       " '17.07',\n",
       " '23.76',\n",
       " '32.71',\n",
       " '51.29',\n",
       " '60.44',\n",
       " '71.34',\n",
       " '1.22',\n",
       " '4.76',\n",
       " '10.02',\n",
       " '15.99']"
      ]
     },
     "execution_count": 30,
     "metadata": {},
     "output_type": "execute_result"
    }
   ],
   "source": [
    "unclean_avg_list2.append('15.99')\n",
    "\n",
    "unclean_avg_list2"
   ]
  },
  {
   "cell_type": "code",
   "execution_count": 31,
   "metadata": {},
   "outputs": [
    {
     "data": {
      "text/plain": [
       "['1.13',\n",
       " '1.24',\n",
       " '2.46',\n",
       " '2.16',\n",
       " '2.94',\n",
       " '4.88',\n",
       " '6.14',\n",
       " '6.26',\n",
       " '8.87',\n",
       " '11.54',\n",
       " '18.33',\n",
       " '15.54',\n",
       " '17.07',\n",
       " '23.76',\n",
       " '32.71',\n",
       " '51.29',\n",
       " '60.44',\n",
       " '71.34',\n",
       " '1.22',\n",
       " '4.76',\n",
       " '10.02',\n",
       " '15.99',\n",
       " '42.11']"
      ]
     },
     "execution_count": 31,
     "metadata": {},
     "output_type": "execute_result"
    }
   ],
   "source": [
    "unclean_avg_list2.append('42.11')\n",
    "\n",
    "unclean_avg_list2"
   ]
  },
  {
   "cell_type": "code",
   "execution_count": 43,
   "metadata": {},
   "outputs": [
    {
     "name": "stdout",
     "output_type": "stream",
     "text": [
      "[0.0113, 0.0124, 0.0246, 0.0216, 0.0294, 0.048799999999999996, 0.061399999999999996, 0.0626, 0.08869999999999999, 0.11539999999999999, 0.1833, 0.15539999999999998, 0.1707, 0.2376, 0.3271, 0.5129, 0.6043999999999999, 0.7134]\n"
     ]
    }
   ],
   "source": [
    "avg_list = [float(cost)/100 for cost in unclean_avg_list2[0:18]]\n",
    "\n",
    "print(avg_list)"
   ]
  },
  {
   "cell_type": "code",
   "execution_count": 44,
   "metadata": {},
   "outputs": [
    {
     "data": {
      "text/plain": [
       "['1.22', '4.76', '10.02', '15.99', '42.11']"
      ]
     },
     "execution_count": 44,
     "metadata": {},
     "output_type": "execute_result"
    }
   ],
   "source": [
    "end_of_list = unclean_avg_list2[18:23]\n",
    "\n",
    "end_of_list"
   ]
  },
  {
   "cell_type": "code",
   "execution_count": 45,
   "metadata": {},
   "outputs": [
    {
     "name": "stdout",
     "output_type": "stream",
     "text": [
      "[1.22, 4.76, 10.02, 15.99, 42.11]\n"
     ]
    }
   ],
   "source": [
    "end_of_list2 =[]\n",
    "\n",
    "for i in end_of_list:\n",
    "    end_of_list2.append(float(i))\n",
    "    \n",
    "print(end_of_list2)"
   ]
  },
  {
   "cell_type": "code",
   "execution_count": 46,
   "metadata": {},
   "outputs": [
    {
     "name": "stdout",
     "output_type": "stream",
     "text": [
      "[0.0113, 0.0124, 0.0246, 0.0216, 0.0294, 0.048799999999999996, 0.061399999999999996, 0.0626, 0.08869999999999999, 0.11539999999999999, 0.1833, 0.15539999999999998, 0.1707, 0.2376, 0.3271, 0.5129, 0.6043999999999999, 0.7134, 1.22, 4.76, 10.02, 15.99, 42.11]\n"
     ]
    }
   ],
   "source": [
    "avg_list.extend(end_of_list2)\n",
    "\n",
    "print(avg_list)"
   ]
  },
  {
   "cell_type": "markdown",
   "metadata": {},
   "source": [
    "**8)Coalesce the cleansed data and save them to a text file named \"census_cost.csv\". The new file should look similar to the original source file except that it is in comma-delimited format and the numbers have been cleansed. The top two lines from the original file should be retained in the new file**"
   ]
  },
  {
   "cell_type": "code",
   "execution_count": 47,
   "metadata": {},
   "outputs": [],
   "source": [
    "rows = zip(year_list,pop_list,cost_list,avg_list)\n",
    "#header = zip[top2_list]\n",
    "\n",
    "import csv\n",
    "\n",
    "with open('Census_Cost.csv', \"w\") as f:\n",
    "    writer = csv.writer(f)\n",
    "    writer.writerow(top2_list)\n",
    "    for row in rows:\n",
    "        writer.writerow(row)"
   ]
  },
  {
   "cell_type": "markdown",
   "metadata": {},
   "source": [
    "**9)Open the newly-created file \"census_cost.csv\", read all lines and display them.**"
   ]
  },
  {
   "cell_type": "code",
   "execution_count": 48,
   "metadata": {},
   "outputs": [
    {
     "name": "stdout",
     "output_type": "stream",
     "text": [
      "['\"Source: https://www.genealogybranches.com/censuscosts.html\\n', '\",\"Census Year\\tTotal Population\\tCensus Cost\\tAverage Cost Per Person\\n', '\"\\n', '1790,3929214,44377,0.0113\\n', '1800,5308483,66109,0.0124\\n', '1810,7239881,178445,0.0246\\n', '1820,9633822,208526,0.0216\\n', '1830,12866020,378545,0.0294\\n', '1840,17069458,833371,0.048799999999999996\\n', '1850,23191876,1423351,0.061399999999999996\\n', '1860,31443321,1969377,0.0626\\n', '1870,38558371,3421198,0.08869999999999999\\n', '1880,50155783,5790678,0.11539999999999999\\n', '1890,62979766,11547127,0.1833\\n', '1900,76303387,11854000,0.15539999999999998\\n', '1910,91972266,15968000,0.1707\\n', '1920,105710620,25117000,0.2376\\n', '1930,122775046,40156000,0.3271\\n', '1940,131669275,67527000,0.5129\\n', '1950,151325798,91462000,0.6043999999999999\\n', '1960,179323175,127934000,0.7134\\n', '1970,203302031,247653000,1.22\\n', '1980,226542199,1078488000,4.76\\n', '1990,248718301,2492830000,10.02\\n', '2000,281421906,4500000000,15.99\\n', '2010,308745538,13000000000,42.11\\n']\n"
     ]
    }
   ],
   "source": [
    "with open('Census_Cost.csv', 'rt') as f:\n",
    "    new_csv_list = f.readlines()\n",
    "\n",
    "print(new_csv_list)"
   ]
  },
  {
   "cell_type": "code",
   "execution_count": 49,
   "metadata": {},
   "outputs": [
    {
     "name": "stdout",
     "output_type": "stream",
     "text": [
      "\"Source: https://www.genealogybranches.com/censuscosts.html\n",
      "\n",
      "\",\"Census Year\tTotal Population\tCensus Cost\tAverage Cost Per Person\n",
      "\n",
      "\"\n",
      "\n",
      "1790,3929214,44377,0.0113\n",
      "\n",
      "1800,5308483,66109,0.0124\n",
      "\n",
      "1810,7239881,178445,0.0246\n",
      "\n",
      "1820,9633822,208526,0.0216\n",
      "\n",
      "1830,12866020,378545,0.0294\n",
      "\n",
      "1840,17069458,833371,0.048799999999999996\n",
      "\n",
      "1850,23191876,1423351,0.061399999999999996\n",
      "\n",
      "1860,31443321,1969377,0.0626\n",
      "\n",
      "1870,38558371,3421198,0.08869999999999999\n",
      "\n",
      "1880,50155783,5790678,0.11539999999999999\n",
      "\n",
      "1890,62979766,11547127,0.1833\n",
      "\n",
      "1900,76303387,11854000,0.15539999999999998\n",
      "\n",
      "1910,91972266,15968000,0.1707\n",
      "\n",
      "1920,105710620,25117000,0.2376\n",
      "\n",
      "1930,122775046,40156000,0.3271\n",
      "\n",
      "1940,131669275,67527000,0.5129\n",
      "\n",
      "1950,151325798,91462000,0.6043999999999999\n",
      "\n",
      "1960,179323175,127934000,0.7134\n",
      "\n",
      "1970,203302031,247653000,1.22\n",
      "\n",
      "1980,226542199,1078488000,4.76\n",
      "\n",
      "1990,248718301,2492830000,10.02\n",
      "\n",
      "2000,281421906,4500000000,15.99\n",
      "\n",
      "2010,308745538,13000000000,42.11\n",
      "\n"
     ]
    }
   ],
   "source": [
    "for row in new_csv_list:\n",
    "    print(row)"
   ]
  },
  {
   "cell_type": "code",
   "execution_count": null,
   "metadata": {},
   "outputs": [],
   "source": []
  }
 ],
 "metadata": {
  "kernelspec": {
   "display_name": "Python 3",
   "language": "python",
   "name": "python3"
  },
  "language_info": {
   "codemirror_mode": {
    "name": "ipython",
    "version": 3
   },
   "file_extension": ".py",
   "mimetype": "text/x-python",
   "name": "python",
   "nbconvert_exporter": "python",
   "pygments_lexer": "ipython3",
   "version": "3.7.4"
  }
 },
 "nbformat": 4,
 "nbformat_minor": 2
}
