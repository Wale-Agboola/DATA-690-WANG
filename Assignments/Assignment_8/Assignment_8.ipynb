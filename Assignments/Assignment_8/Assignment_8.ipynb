{
  "cells": [
    {
      "cell_type": "markdown",
      "source": "# Assignment 8 \n\n**Wale Agboola**",
      "metadata": {
        "tags": [],
        "cell_id": "00001-f4c9cc1f-af5f-4555-b43d-a6b2853e7a36",
        "deepnote_cell_type": "markdown"
      }
    },
    {
      "cell_type": "markdown",
      "source": "**Import necessary libraries**",
      "metadata": {
        "tags": [],
        "cell_id": "00001-b59b7e0e-5786-4404-9268-e17bdf38ea03",
        "deepnote_cell_type": "markdown"
      }
    },
    {
      "cell_type": "code",
      "metadata": {
        "tags": [],
        "cell_id": "00002-bdffc5f8-eb82-4345-a3b2-54031b715ebd",
        "deepnote_to_be_reexecuted": false,
        "source_hash": "3eca86fc",
        "execution_millis": 3691,
        "execution_start": 1618674798533,
        "deepnote_cell_type": "code"
      },
      "source": "import pandas as pd\nimport matplotlib.pyplot as plt\nimport numpy as np\nimport plotly.express as px\nimport os\nimport fnmatch\nimport random",
      "execution_count": 1,
      "outputs": []
    },
    {
      "cell_type": "markdown",
      "source": "**Retrieve the names of the 22 files and assign them to a List variable**",
      "metadata": {
        "tags": [],
        "cell_id": "00004-6ed58952-483c-43ef-8ac7-e25150387496",
        "deepnote_cell_type": "markdown"
      }
    },
    {
      "cell_type": "code",
      "metadata": {
        "tags": [],
        "cell_id": "00004-e3e471dd-7b71-4857-baeb-6b24d7745770",
        "deepnote_to_be_reexecuted": false,
        "source_hash": "13ed887e",
        "execution_millis": 57,
        "execution_start": 1618674802231,
        "deepnote_cell_type": "code"
      },
      "source": "cwd = os.getcwd()\n\nprint(\"Current working directory:\", cwd)",
      "execution_count": 2,
      "outputs": [
        {
          "name": "stdout",
          "text": "Current working directory: /work\n",
          "output_type": "stream"
        }
      ]
    },
    {
      "cell_type": "code",
      "metadata": {
        "tags": [],
        "cell_id": "00005-d4ca40bd-c5f6-4595-be2b-d9e8711b4581",
        "deepnote_to_be_reexecuted": false,
        "source_hash": "bb1f61a7",
        "execution_millis": 56,
        "execution_start": 1618674802264,
        "deepnote_cell_type": "code"
      },
      "source": "dirs = os.listdir('./data/input/')\n\nfor file in dirs:\n    print(file)",
      "execution_count": 3,
      "outputs": [
        {
          "name": "stdout",
          "text": "MERGED2005_06_PP.csv\nMERGED2003_04_PP.csv\nMERGED2010_11_PP.csv\nMERGED1998_99_PP.csv\nMERGED2012_13_PP.csv\nMost-Recent-Cohorts-Field-of-Study.csv\nMERGED1999_00_PP.csv\nMERGED2016_17_PP.csv\nMERGED2008_09_PP.csv\nCrosswalks.zip\nMERGED2009_10_PP.csv\nMERGED2001_02_PP.csv\nMERGED2017_18_PP.csv\nMERGED2014_15_PP.csv\nMERGED2015_16_PP.csv\nMERGED1996_97_PP.csv\nMERGED2013_14_PP.csv\nMERGED2000_01_PP.csv\nMost-Recent-Cohorts-All-Data-Elements.csv\nMERGED2002_03_PP.csv\nMERGED1997_98_PP.csv\nMERGED2006_07_PP.csv\nMERGED2018_19_PP.csv\nFieldOfStudyData1516_1617_PP.csv\ndata.yaml\nMERGED2011_12_PP.csv\nFieldOfStudyData1415_1516_PP.csv\nMERGED2007_08_PP.csv\nFieldOfStudyData1617_1718_PP.csv\nMERGED2004_05_PP.csv\n",
          "output_type": "stream"
        }
      ]
    },
    {
      "cell_type": "markdown",
      "source": "**Filter out unnecesary files**",
      "metadata": {
        "tags": [],
        "cell_id": "00008-7d76d18d-90a2-430c-8793-17d4eaba0ea7",
        "deepnote_cell_type": "markdown"
      }
    },
    {
      "cell_type": "code",
      "metadata": {
        "tags": [],
        "cell_id": "00009-ecf83099-2594-4d63-a798-7da657ba379f",
        "deepnote_to_be_reexecuted": false,
        "source_hash": "11d4065a",
        "execution_millis": 57,
        "execution_start": 1618674802289,
        "deepnote_cell_type": "code"
      },
      "source": "file_name = []\n\nfor file in dirs:\n    if file.startswith('MERGED'):\n        file_name.append(file)\n        \nfile_name",
      "execution_count": 4,
      "outputs": [
        {
          "output_type": "execute_result",
          "execution_count": 4,
          "data": {
            "text/plain": "['MERGED2005_06_PP.csv',\n 'MERGED2003_04_PP.csv',\n 'MERGED2010_11_PP.csv',\n 'MERGED1998_99_PP.csv',\n 'MERGED2012_13_PP.csv',\n 'MERGED1999_00_PP.csv',\n 'MERGED2016_17_PP.csv',\n 'MERGED2008_09_PP.csv',\n 'MERGED2009_10_PP.csv',\n 'MERGED2001_02_PP.csv',\n 'MERGED2017_18_PP.csv',\n 'MERGED2014_15_PP.csv',\n 'MERGED2015_16_PP.csv',\n 'MERGED1996_97_PP.csv',\n 'MERGED2013_14_PP.csv',\n 'MERGED2000_01_PP.csv',\n 'MERGED2002_03_PP.csv',\n 'MERGED1997_98_PP.csv',\n 'MERGED2006_07_PP.csv',\n 'MERGED2018_19_PP.csv',\n 'MERGED2011_12_PP.csv',\n 'MERGED2007_08_PP.csv',\n 'MERGED2004_05_PP.csv']"
          },
          "metadata": {}
        }
      ]
    },
    {
      "cell_type": "markdown",
      "source": "**Write code to randomly select one file name out of the 22 files names. **",
      "metadata": {
        "tags": [],
        "cell_id": "00010-fe8a0095-9c8b-4210-8ce6-c734376d7b50",
        "deepnote_cell_type": "markdown"
      }
    },
    {
      "cell_type": "code",
      "metadata": {
        "tags": [],
        "cell_id": "00011-924350bc-a13c-4e4f-921f-8b5adabeec20",
        "deepnote_to_be_reexecuted": false,
        "source_hash": "c5468d9f",
        "execution_millis": 56,
        "execution_start": 1618674802351,
        "deepnote_cell_type": "code"
      },
      "source": "print(random.choice(file_name))",
      "execution_count": 5,
      "outputs": [
        {
          "name": "stdout",
          "text": "MERGED2018_19_PP.csv\n",
          "output_type": "stream"
        }
      ]
    },
    {
      "cell_type": "markdown",
      "source": "**Only read the two columns: college name (INSTNM) and in state tution (\"TUITIONFEE_IN\")**",
      "metadata": {
        "tags": [],
        "cell_id": "00010-f41f8788-54d9-40c2-956e-5535f1c45764",
        "deepnote_cell_type": "markdown"
      }
    },
    {
      "cell_type": "code",
      "metadata": {
        "tags": [],
        "cell_id": "00011-26793e1c-8b9a-4c25-848a-22bff9a1a3db",
        "deepnote_to_be_reexecuted": false,
        "source_hash": "d249845c",
        "execution_millis": 4740,
        "execution_start": 1618674802352,
        "deepnote_cell_type": "code"
      },
      "source": "df = pd.read_csv('./data/input/MERGED2007_08_PP.csv', usecols = ['INSTNM','TUITIONFEE_IN'])\n\ndf.head()",
      "execution_count": 6,
      "outputs": [
        {
          "output_type": "execute_result",
          "execution_count": 6,
          "data": {
            "application/vnd.deepnote.dataframe.v2+json": {
              "row_count": 5,
              "column_count": 2,
              "columns": [
                {
                  "name": "INSTNM",
                  "dtype": "object",
                  "stats": {
                    "unique_count": 5,
                    "nan_count": 0,
                    "categories": [
                      {
                        "name": "Community College of the Air Force",
                        "count": 1
                      },
                      {
                        "name": "Alabama A & M University",
                        "count": 1
                      },
                      {
                        "name": "3 others",
                        "count": 3
                      }
                    ]
                  }
                },
                {
                  "name": "TUITIONFEE_IN",
                  "dtype": "float64",
                  "stats": {
                    "unique_count": 4,
                    "nan_count": 1,
                    "min": "4072.0",
                    "max": "6240.0",
                    "histogram": [
                      {
                        "bin_start": 4072,
                        "bin_end": 4288.8,
                        "count": 2
                      },
                      {
                        "bin_start": 4288.8,
                        "bin_end": 4505.6,
                        "count": 0
                      },
                      {
                        "bin_start": 4505.6,
                        "bin_end": 4722.4,
                        "count": 0
                      },
                      {
                        "bin_start": 4722.4,
                        "bin_end": 4939.2,
                        "count": 0
                      },
                      {
                        "bin_start": 4939.2,
                        "bin_end": 5156,
                        "count": 0
                      },
                      {
                        "bin_start": 5156,
                        "bin_end": 5372.8,
                        "count": 1
                      },
                      {
                        "bin_start": 5372.8,
                        "bin_end": 5589.6,
                        "count": 0
                      },
                      {
                        "bin_start": 5589.6,
                        "bin_end": 5806.4,
                        "count": 0
                      },
                      {
                        "bin_start": 5806.4,
                        "bin_end": 6023.2,
                        "count": 0
                      },
                      {
                        "bin_start": 6023.2,
                        "bin_end": 6240,
                        "count": 1
                      }
                    ]
                  }
                },
                {
                  "name": "_deepnote_index_column",
                  "dtype": "int64"
                }
              ],
              "rows_top": [
                {
                  "INSTNM": "Community College of the Air Force",
                  "TUITIONFEE_IN": "nan",
                  "_deepnote_index_column": 0
                },
                {
                  "INSTNM": "Alabama A & M University",
                  "TUITIONFEE_IN": "4072.0",
                  "_deepnote_index_column": 1
                },
                {
                  "INSTNM": "University of Alabama at Birmingham",
                  "TUITIONFEE_IN": "4208.0",
                  "_deepnote_index_column": 2
                },
                {
                  "INSTNM": "Amridge University",
                  "TUITIONFEE_IN": "6240.0",
                  "_deepnote_index_column": 3
                },
                {
                  "INSTNM": "University of Alabama in Huntsville",
                  "TUITIONFEE_IN": "5216.0",
                  "_deepnote_index_column": 4
                }
              ],
              "rows_bottom": null
            },
            "text/plain": "                                INSTNM  TUITIONFEE_IN\n0   Community College of the Air Force            NaN\n1             Alabama A & M University         4072.0\n2  University of Alabama at Birmingham         4208.0\n3                   Amridge University         6240.0\n4  University of Alabama in Huntsville         5216.0",
            "text/html": "<div>\n<style scoped>\n    .dataframe tbody tr th:only-of-type {\n        vertical-align: middle;\n    }\n\n    .dataframe tbody tr th {\n        vertical-align: top;\n    }\n\n    .dataframe thead th {\n        text-align: right;\n    }\n</style>\n<table border=\"1\" class=\"dataframe\">\n  <thead>\n    <tr style=\"text-align: right;\">\n      <th></th>\n      <th>INSTNM</th>\n      <th>TUITIONFEE_IN</th>\n    </tr>\n  </thead>\n  <tbody>\n    <tr>\n      <th>0</th>\n      <td>Community College of the Air Force</td>\n      <td>NaN</td>\n    </tr>\n    <tr>\n      <th>1</th>\n      <td>Alabama A &amp; M University</td>\n      <td>4072.0</td>\n    </tr>\n    <tr>\n      <th>2</th>\n      <td>University of Alabama at Birmingham</td>\n      <td>4208.0</td>\n    </tr>\n    <tr>\n      <th>3</th>\n      <td>Amridge University</td>\n      <td>6240.0</td>\n    </tr>\n    <tr>\n      <th>4</th>\n      <td>University of Alabama in Huntsville</td>\n      <td>5216.0</td>\n    </tr>\n  </tbody>\n</table>\n</div>"
          },
          "metadata": {}
        }
      ]
    },
    {
      "cell_type": "code",
      "metadata": {
        "tags": [],
        "cell_id": "00012-f8ad06ca-4dc3-4c15-8040-6cf749c10da9",
        "deepnote_to_be_reexecuted": false,
        "source_hash": "de1e323c",
        "execution_millis": 68,
        "execution_start": 1618674807097,
        "deepnote_cell_type": "code"
      },
      "source": "df.info()",
      "execution_count": 7,
      "outputs": [
        {
          "name": "stdout",
          "text": "<class 'pandas.core.frame.DataFrame'>\nRangeIndex: 6971 entries, 0 to 6970\nData columns (total 2 columns):\n #   Column         Non-Null Count  Dtype  \n---  ------         --------------  -----  \n 0   INSTNM         6971 non-null   object \n 1   TUITIONFEE_IN  4183 non-null   float64\ndtypes: float64(1), object(1)\nmemory usage: 109.0+ KB\n",
          "output_type": "stream"
        }
      ]
    },
    {
      "cell_type": "markdown",
      "source": "**Find out how many observations have missing value.**",
      "metadata": {
        "tags": [],
        "cell_id": "00013-da84648c-3e43-4342-bc78-ae23ab2a9f6b",
        "deepnote_cell_type": "markdown"
      }
    },
    {
      "cell_type": "code",
      "metadata": {
        "tags": [],
        "cell_id": "00014-9707baee-092e-48d4-8570-5077a5710829",
        "deepnote_to_be_reexecuted": false,
        "source_hash": "2dba6cbb",
        "execution_millis": 166,
        "execution_start": 1618674807169,
        "deepnote_cell_type": "code"
      },
      "source": "df.isnull()",
      "execution_count": 8,
      "outputs": [
        {
          "output_type": "execute_result",
          "execution_count": 8,
          "data": {
            "application/vnd.deepnote.dataframe.v2+json": {
              "row_count": 6971,
              "column_count": 2,
              "columns": [
                {
                  "name": "INSTNM",
                  "dtype": "bool",
                  "stats": {
                    "unique_count": 1,
                    "nan_count": 0,
                    "categories": [
                      {
                        "name": "False",
                        "count": 6971
                      }
                    ]
                  }
                },
                {
                  "name": "TUITIONFEE_IN",
                  "dtype": "bool",
                  "stats": {
                    "unique_count": 2,
                    "nan_count": 0,
                    "categories": [
                      {
                        "name": "False",
                        "count": 4183
                      },
                      {
                        "name": "True",
                        "count": 2788
                      }
                    ]
                  }
                },
                {
                  "name": "_deepnote_index_column",
                  "dtype": "int64"
                }
              ],
              "rows_top": [
                {
                  "INSTNM": false,
                  "TUITIONFEE_IN": true,
                  "_deepnote_index_column": 0
                },
                {
                  "INSTNM": false,
                  "TUITIONFEE_IN": false,
                  "_deepnote_index_column": 1
                },
                {
                  "INSTNM": false,
                  "TUITIONFEE_IN": false,
                  "_deepnote_index_column": 2
                },
                {
                  "INSTNM": false,
                  "TUITIONFEE_IN": false,
                  "_deepnote_index_column": 3
                },
                {
                  "INSTNM": false,
                  "TUITIONFEE_IN": false,
                  "_deepnote_index_column": 4
                },
                {
                  "INSTNM": false,
                  "TUITIONFEE_IN": false,
                  "_deepnote_index_column": 5
                },
                {
                  "INSTNM": false,
                  "TUITIONFEE_IN": false,
                  "_deepnote_index_column": 6
                },
                {
                  "INSTNM": false,
                  "TUITIONFEE_IN": false,
                  "_deepnote_index_column": 7
                },
                {
                  "INSTNM": false,
                  "TUITIONFEE_IN": true,
                  "_deepnote_index_column": 8
                },
                {
                  "INSTNM": false,
                  "TUITIONFEE_IN": false,
                  "_deepnote_index_column": 9
                },
                {
                  "INSTNM": false,
                  "TUITIONFEE_IN": false,
                  "_deepnote_index_column": 10
                },
                {
                  "INSTNM": false,
                  "TUITIONFEE_IN": false,
                  "_deepnote_index_column": 11
                },
                {
                  "INSTNM": false,
                  "TUITIONFEE_IN": false,
                  "_deepnote_index_column": 12
                },
                {
                  "INSTNM": false,
                  "TUITIONFEE_IN": false,
                  "_deepnote_index_column": 13
                },
                {
                  "INSTNM": false,
                  "TUITIONFEE_IN": false,
                  "_deepnote_index_column": 14
                },
                {
                  "INSTNM": false,
                  "TUITIONFEE_IN": false,
                  "_deepnote_index_column": 15
                },
                {
                  "INSTNM": false,
                  "TUITIONFEE_IN": false,
                  "_deepnote_index_column": 16
                },
                {
                  "INSTNM": false,
                  "TUITIONFEE_IN": false,
                  "_deepnote_index_column": 17
                },
                {
                  "INSTNM": false,
                  "TUITIONFEE_IN": true,
                  "_deepnote_index_column": 18
                },
                {
                  "INSTNM": false,
                  "TUITIONFEE_IN": false,
                  "_deepnote_index_column": 19
                },
                {
                  "INSTNM": false,
                  "TUITIONFEE_IN": false,
                  "_deepnote_index_column": 20
                },
                {
                  "INSTNM": false,
                  "TUITIONFEE_IN": false,
                  "_deepnote_index_column": 21
                },
                {
                  "INSTNM": false,
                  "TUITIONFEE_IN": false,
                  "_deepnote_index_column": 22
                },
                {
                  "INSTNM": false,
                  "TUITIONFEE_IN": false,
                  "_deepnote_index_column": 23
                },
                {
                  "INSTNM": false,
                  "TUITIONFEE_IN": false,
                  "_deepnote_index_column": 24
                },
                {
                  "INSTNM": false,
                  "TUITIONFEE_IN": false,
                  "_deepnote_index_column": 25
                },
                {
                  "INSTNM": false,
                  "TUITIONFEE_IN": false,
                  "_deepnote_index_column": 26
                },
                {
                  "INSTNM": false,
                  "TUITIONFEE_IN": false,
                  "_deepnote_index_column": 27
                },
                {
                  "INSTNM": false,
                  "TUITIONFEE_IN": false,
                  "_deepnote_index_column": 28
                },
                {
                  "INSTNM": false,
                  "TUITIONFEE_IN": false,
                  "_deepnote_index_column": 29
                },
                {
                  "INSTNM": false,
                  "TUITIONFEE_IN": false,
                  "_deepnote_index_column": 30
                },
                {
                  "INSTNM": false,
                  "TUITIONFEE_IN": false,
                  "_deepnote_index_column": 31
                },
                {
                  "INSTNM": false,
                  "TUITIONFEE_IN": false,
                  "_deepnote_index_column": 32
                },
                {
                  "INSTNM": false,
                  "TUITIONFEE_IN": false,
                  "_deepnote_index_column": 33
                },
                {
                  "INSTNM": false,
                  "TUITIONFEE_IN": false,
                  "_deepnote_index_column": 34
                },
                {
                  "INSTNM": false,
                  "TUITIONFEE_IN": false,
                  "_deepnote_index_column": 35
                },
                {
                  "INSTNM": false,
                  "TUITIONFEE_IN": false,
                  "_deepnote_index_column": 36
                },
                {
                  "INSTNM": false,
                  "TUITIONFEE_IN": false,
                  "_deepnote_index_column": 37
                },
                {
                  "INSTNM": false,
                  "TUITIONFEE_IN": false,
                  "_deepnote_index_column": 38
                },
                {
                  "INSTNM": false,
                  "TUITIONFEE_IN": false,
                  "_deepnote_index_column": 39
                },
                {
                  "INSTNM": false,
                  "TUITIONFEE_IN": false,
                  "_deepnote_index_column": 40
                },
                {
                  "INSTNM": false,
                  "TUITIONFEE_IN": false,
                  "_deepnote_index_column": 41
                },
                {
                  "INSTNM": false,
                  "TUITIONFEE_IN": false,
                  "_deepnote_index_column": 42
                },
                {
                  "INSTNM": false,
                  "TUITIONFEE_IN": false,
                  "_deepnote_index_column": 43
                },
                {
                  "INSTNM": false,
                  "TUITIONFEE_IN": false,
                  "_deepnote_index_column": 44
                },
                {
                  "INSTNM": false,
                  "TUITIONFEE_IN": false,
                  "_deepnote_index_column": 45
                },
                {
                  "INSTNM": false,
                  "TUITIONFEE_IN": false,
                  "_deepnote_index_column": 46
                },
                {
                  "INSTNM": false,
                  "TUITIONFEE_IN": false,
                  "_deepnote_index_column": 47
                },
                {
                  "INSTNM": false,
                  "TUITIONFEE_IN": false,
                  "_deepnote_index_column": 48
                },
                {
                  "INSTNM": false,
                  "TUITIONFEE_IN": false,
                  "_deepnote_index_column": 49
                },
                {
                  "INSTNM": false,
                  "TUITIONFEE_IN": false,
                  "_deepnote_index_column": 50
                },
                {
                  "INSTNM": false,
                  "TUITIONFEE_IN": false,
                  "_deepnote_index_column": 51
                },
                {
                  "INSTNM": false,
                  "TUITIONFEE_IN": false,
                  "_deepnote_index_column": 52
                },
                {
                  "INSTNM": false,
                  "TUITIONFEE_IN": false,
                  "_deepnote_index_column": 53
                },
                {
                  "INSTNM": false,
                  "TUITIONFEE_IN": false,
                  "_deepnote_index_column": 54
                },
                {
                  "INSTNM": false,
                  "TUITIONFEE_IN": false,
                  "_deepnote_index_column": 55
                },
                {
                  "INSTNM": false,
                  "TUITIONFEE_IN": false,
                  "_deepnote_index_column": 56
                },
                {
                  "INSTNM": false,
                  "TUITIONFEE_IN": false,
                  "_deepnote_index_column": 57
                },
                {
                  "INSTNM": false,
                  "TUITIONFEE_IN": false,
                  "_deepnote_index_column": 58
                },
                {
                  "INSTNM": false,
                  "TUITIONFEE_IN": true,
                  "_deepnote_index_column": 59
                },
                {
                  "INSTNM": false,
                  "TUITIONFEE_IN": false,
                  "_deepnote_index_column": 60
                },
                {
                  "INSTNM": false,
                  "TUITIONFEE_IN": false,
                  "_deepnote_index_column": 61
                },
                {
                  "INSTNM": false,
                  "TUITIONFEE_IN": false,
                  "_deepnote_index_column": 62
                },
                {
                  "INSTNM": false,
                  "TUITIONFEE_IN": false,
                  "_deepnote_index_column": 63
                },
                {
                  "INSTNM": false,
                  "TUITIONFEE_IN": false,
                  "_deepnote_index_column": 64
                },
                {
                  "INSTNM": false,
                  "TUITIONFEE_IN": true,
                  "_deepnote_index_column": 65
                },
                {
                  "INSTNM": false,
                  "TUITIONFEE_IN": false,
                  "_deepnote_index_column": 66
                },
                {
                  "INSTNM": false,
                  "TUITIONFEE_IN": false,
                  "_deepnote_index_column": 67
                },
                {
                  "INSTNM": false,
                  "TUITIONFEE_IN": true,
                  "_deepnote_index_column": 68
                },
                {
                  "INSTNM": false,
                  "TUITIONFEE_IN": false,
                  "_deepnote_index_column": 69
                },
                {
                  "INSTNM": false,
                  "TUITIONFEE_IN": false,
                  "_deepnote_index_column": 70
                },
                {
                  "INSTNM": false,
                  "TUITIONFEE_IN": true,
                  "_deepnote_index_column": 71
                },
                {
                  "INSTNM": false,
                  "TUITIONFEE_IN": true,
                  "_deepnote_index_column": 72
                },
                {
                  "INSTNM": false,
                  "TUITIONFEE_IN": true,
                  "_deepnote_index_column": 73
                },
                {
                  "INSTNM": false,
                  "TUITIONFEE_IN": false,
                  "_deepnote_index_column": 74
                },
                {
                  "INSTNM": false,
                  "TUITIONFEE_IN": true,
                  "_deepnote_index_column": 75
                },
                {
                  "INSTNM": false,
                  "TUITIONFEE_IN": true,
                  "_deepnote_index_column": 76
                },
                {
                  "INSTNM": false,
                  "TUITIONFEE_IN": true,
                  "_deepnote_index_column": 77
                },
                {
                  "INSTNM": false,
                  "TUITIONFEE_IN": true,
                  "_deepnote_index_column": 78
                },
                {
                  "INSTNM": false,
                  "TUITIONFEE_IN": false,
                  "_deepnote_index_column": 79
                },
                {
                  "INSTNM": false,
                  "TUITIONFEE_IN": true,
                  "_deepnote_index_column": 80
                },
                {
                  "INSTNM": false,
                  "TUITIONFEE_IN": false,
                  "_deepnote_index_column": 81
                },
                {
                  "INSTNM": false,
                  "TUITIONFEE_IN": false,
                  "_deepnote_index_column": 82
                },
                {
                  "INSTNM": false,
                  "TUITIONFEE_IN": false,
                  "_deepnote_index_column": 83
                },
                {
                  "INSTNM": false,
                  "TUITIONFEE_IN": false,
                  "_deepnote_index_column": 84
                },
                {
                  "INSTNM": false,
                  "TUITIONFEE_IN": true,
                  "_deepnote_index_column": 85
                },
                {
                  "INSTNM": false,
                  "TUITIONFEE_IN": false,
                  "_deepnote_index_column": 86
                },
                {
                  "INSTNM": false,
                  "TUITIONFEE_IN": false,
                  "_deepnote_index_column": 87
                },
                {
                  "INSTNM": false,
                  "TUITIONFEE_IN": true,
                  "_deepnote_index_column": 88
                },
                {
                  "INSTNM": false,
                  "TUITIONFEE_IN": false,
                  "_deepnote_index_column": 89
                },
                {
                  "INSTNM": false,
                  "TUITIONFEE_IN": true,
                  "_deepnote_index_column": 90
                },
                {
                  "INSTNM": false,
                  "TUITIONFEE_IN": true,
                  "_deepnote_index_column": 91
                },
                {
                  "INSTNM": false,
                  "TUITIONFEE_IN": true,
                  "_deepnote_index_column": 92
                },
                {
                  "INSTNM": false,
                  "TUITIONFEE_IN": false,
                  "_deepnote_index_column": 93
                },
                {
                  "INSTNM": false,
                  "TUITIONFEE_IN": true,
                  "_deepnote_index_column": 94
                },
                {
                  "INSTNM": false,
                  "TUITIONFEE_IN": false,
                  "_deepnote_index_column": 95
                },
                {
                  "INSTNM": false,
                  "TUITIONFEE_IN": false,
                  "_deepnote_index_column": 96
                },
                {
                  "INSTNM": false,
                  "TUITIONFEE_IN": false,
                  "_deepnote_index_column": 97
                },
                {
                  "INSTNM": false,
                  "TUITIONFEE_IN": false,
                  "_deepnote_index_column": 98
                },
                {
                  "INSTNM": false,
                  "TUITIONFEE_IN": true,
                  "_deepnote_index_column": 99
                },
                {
                  "INSTNM": false,
                  "TUITIONFEE_IN": true,
                  "_deepnote_index_column": 100
                },
                {
                  "INSTNM": false,
                  "TUITIONFEE_IN": true,
                  "_deepnote_index_column": 101
                },
                {
                  "INSTNM": false,
                  "TUITIONFEE_IN": true,
                  "_deepnote_index_column": 102
                },
                {
                  "INSTNM": false,
                  "TUITIONFEE_IN": true,
                  "_deepnote_index_column": 103
                },
                {
                  "INSTNM": false,
                  "TUITIONFEE_IN": false,
                  "_deepnote_index_column": 104
                },
                {
                  "INSTNM": false,
                  "TUITIONFEE_IN": false,
                  "_deepnote_index_column": 105
                },
                {
                  "INSTNM": false,
                  "TUITIONFEE_IN": false,
                  "_deepnote_index_column": 106
                },
                {
                  "INSTNM": false,
                  "TUITIONFEE_IN": false,
                  "_deepnote_index_column": 107
                },
                {
                  "INSTNM": false,
                  "TUITIONFEE_IN": false,
                  "_deepnote_index_column": 108
                },
                {
                  "INSTNM": false,
                  "TUITIONFEE_IN": true,
                  "_deepnote_index_column": 109
                },
                {
                  "INSTNM": false,
                  "TUITIONFEE_IN": false,
                  "_deepnote_index_column": 110
                },
                {
                  "INSTNM": false,
                  "TUITIONFEE_IN": false,
                  "_deepnote_index_column": 111
                },
                {
                  "INSTNM": false,
                  "TUITIONFEE_IN": false,
                  "_deepnote_index_column": 112
                },
                {
                  "INSTNM": false,
                  "TUITIONFEE_IN": true,
                  "_deepnote_index_column": 113
                },
                {
                  "INSTNM": false,
                  "TUITIONFEE_IN": true,
                  "_deepnote_index_column": 114
                },
                {
                  "INSTNM": false,
                  "TUITIONFEE_IN": false,
                  "_deepnote_index_column": 115
                },
                {
                  "INSTNM": false,
                  "TUITIONFEE_IN": true,
                  "_deepnote_index_column": 116
                },
                {
                  "INSTNM": false,
                  "TUITIONFEE_IN": false,
                  "_deepnote_index_column": 117
                },
                {
                  "INSTNM": false,
                  "TUITIONFEE_IN": false,
                  "_deepnote_index_column": 118
                },
                {
                  "INSTNM": false,
                  "TUITIONFEE_IN": true,
                  "_deepnote_index_column": 119
                },
                {
                  "INSTNM": false,
                  "TUITIONFEE_IN": true,
                  "_deepnote_index_column": 120
                },
                {
                  "INSTNM": false,
                  "TUITIONFEE_IN": false,
                  "_deepnote_index_column": 121
                },
                {
                  "INSTNM": false,
                  "TUITIONFEE_IN": true,
                  "_deepnote_index_column": 122
                },
                {
                  "INSTNM": false,
                  "TUITIONFEE_IN": false,
                  "_deepnote_index_column": 123
                },
                {
                  "INSTNM": false,
                  "TUITIONFEE_IN": true,
                  "_deepnote_index_column": 124
                },
                {
                  "INSTNM": false,
                  "TUITIONFEE_IN": true,
                  "_deepnote_index_column": 125
                },
                {
                  "INSTNM": false,
                  "TUITIONFEE_IN": false,
                  "_deepnote_index_column": 126
                },
                {
                  "INSTNM": false,
                  "TUITIONFEE_IN": false,
                  "_deepnote_index_column": 127
                },
                {
                  "INSTNM": false,
                  "TUITIONFEE_IN": false,
                  "_deepnote_index_column": 128
                },
                {
                  "INSTNM": false,
                  "TUITIONFEE_IN": true,
                  "_deepnote_index_column": 129
                },
                {
                  "INSTNM": false,
                  "TUITIONFEE_IN": true,
                  "_deepnote_index_column": 130
                },
                {
                  "INSTNM": false,
                  "TUITIONFEE_IN": false,
                  "_deepnote_index_column": 131
                },
                {
                  "INSTNM": false,
                  "TUITIONFEE_IN": true,
                  "_deepnote_index_column": 132
                },
                {
                  "INSTNM": false,
                  "TUITIONFEE_IN": false,
                  "_deepnote_index_column": 133
                },
                {
                  "INSTNM": false,
                  "TUITIONFEE_IN": false,
                  "_deepnote_index_column": 134
                },
                {
                  "INSTNM": false,
                  "TUITIONFEE_IN": true,
                  "_deepnote_index_column": 135
                },
                {
                  "INSTNM": false,
                  "TUITIONFEE_IN": true,
                  "_deepnote_index_column": 136
                },
                {
                  "INSTNM": false,
                  "TUITIONFEE_IN": false,
                  "_deepnote_index_column": 137
                },
                {
                  "INSTNM": false,
                  "TUITIONFEE_IN": true,
                  "_deepnote_index_column": 138
                },
                {
                  "INSTNM": false,
                  "TUITIONFEE_IN": true,
                  "_deepnote_index_column": 139
                },
                {
                  "INSTNM": false,
                  "TUITIONFEE_IN": false,
                  "_deepnote_index_column": 140
                },
                {
                  "INSTNM": false,
                  "TUITIONFEE_IN": true,
                  "_deepnote_index_column": 141
                },
                {
                  "INSTNM": false,
                  "TUITIONFEE_IN": true,
                  "_deepnote_index_column": 142
                },
                {
                  "INSTNM": false,
                  "TUITIONFEE_IN": false,
                  "_deepnote_index_column": 143
                },
                {
                  "INSTNM": false,
                  "TUITIONFEE_IN": false,
                  "_deepnote_index_column": 144
                },
                {
                  "INSTNM": false,
                  "TUITIONFEE_IN": false,
                  "_deepnote_index_column": 145
                },
                {
                  "INSTNM": false,
                  "TUITIONFEE_IN": false,
                  "_deepnote_index_column": 146
                },
                {
                  "INSTNM": false,
                  "TUITIONFEE_IN": false,
                  "_deepnote_index_column": 147
                },
                {
                  "INSTNM": false,
                  "TUITIONFEE_IN": false,
                  "_deepnote_index_column": 148
                },
                {
                  "INSTNM": false,
                  "TUITIONFEE_IN": true,
                  "_deepnote_index_column": 149
                },
                {
                  "INSTNM": false,
                  "TUITIONFEE_IN": true,
                  "_deepnote_index_column": 150
                },
                {
                  "INSTNM": false,
                  "TUITIONFEE_IN": true,
                  "_deepnote_index_column": 151
                },
                {
                  "INSTNM": false,
                  "TUITIONFEE_IN": false,
                  "_deepnote_index_column": 152
                },
                {
                  "INSTNM": false,
                  "TUITIONFEE_IN": false,
                  "_deepnote_index_column": 153
                },
                {
                  "INSTNM": false,
                  "TUITIONFEE_IN": false,
                  "_deepnote_index_column": 154
                },
                {
                  "INSTNM": false,
                  "TUITIONFEE_IN": true,
                  "_deepnote_index_column": 155
                },
                {
                  "INSTNM": false,
                  "TUITIONFEE_IN": false,
                  "_deepnote_index_column": 156
                },
                {
                  "INSTNM": false,
                  "TUITIONFEE_IN": false,
                  "_deepnote_index_column": 157
                },
                {
                  "INSTNM": false,
                  "TUITIONFEE_IN": false,
                  "_deepnote_index_column": 158
                },
                {
                  "INSTNM": false,
                  "TUITIONFEE_IN": true,
                  "_deepnote_index_column": 159
                },
                {
                  "INSTNM": false,
                  "TUITIONFEE_IN": false,
                  "_deepnote_index_column": 160
                },
                {
                  "INSTNM": false,
                  "TUITIONFEE_IN": true,
                  "_deepnote_index_column": 161
                },
                {
                  "INSTNM": false,
                  "TUITIONFEE_IN": false,
                  "_deepnote_index_column": 162
                },
                {
                  "INSTNM": false,
                  "TUITIONFEE_IN": false,
                  "_deepnote_index_column": 163
                },
                {
                  "INSTNM": false,
                  "TUITIONFEE_IN": false,
                  "_deepnote_index_column": 164
                },
                {
                  "INSTNM": false,
                  "TUITIONFEE_IN": false,
                  "_deepnote_index_column": 165
                },
                {
                  "INSTNM": false,
                  "TUITIONFEE_IN": false,
                  "_deepnote_index_column": 166
                },
                {
                  "INSTNM": false,
                  "TUITIONFEE_IN": true,
                  "_deepnote_index_column": 167
                },
                {
                  "INSTNM": false,
                  "TUITIONFEE_IN": true,
                  "_deepnote_index_column": 168
                },
                {
                  "INSTNM": false,
                  "TUITIONFEE_IN": false,
                  "_deepnote_index_column": 169
                },
                {
                  "INSTNM": false,
                  "TUITIONFEE_IN": true,
                  "_deepnote_index_column": 170
                },
                {
                  "INSTNM": false,
                  "TUITIONFEE_IN": true,
                  "_deepnote_index_column": 171
                },
                {
                  "INSTNM": false,
                  "TUITIONFEE_IN": true,
                  "_deepnote_index_column": 172
                },
                {
                  "INSTNM": false,
                  "TUITIONFEE_IN": true,
                  "_deepnote_index_column": 173
                },
                {
                  "INSTNM": false,
                  "TUITIONFEE_IN": false,
                  "_deepnote_index_column": 174
                },
                {
                  "INSTNM": false,
                  "TUITIONFEE_IN": false,
                  "_deepnote_index_column": 175
                },
                {
                  "INSTNM": false,
                  "TUITIONFEE_IN": true,
                  "_deepnote_index_column": 176
                },
                {
                  "INSTNM": false,
                  "TUITIONFEE_IN": true,
                  "_deepnote_index_column": 177
                },
                {
                  "INSTNM": false,
                  "TUITIONFEE_IN": false,
                  "_deepnote_index_column": 178
                },
                {
                  "INSTNM": false,
                  "TUITIONFEE_IN": false,
                  "_deepnote_index_column": 179
                },
                {
                  "INSTNM": false,
                  "TUITIONFEE_IN": false,
                  "_deepnote_index_column": 180
                },
                {
                  "INSTNM": false,
                  "TUITIONFEE_IN": false,
                  "_deepnote_index_column": 181
                },
                {
                  "INSTNM": false,
                  "TUITIONFEE_IN": false,
                  "_deepnote_index_column": 182
                },
                {
                  "INSTNM": false,
                  "TUITIONFEE_IN": false,
                  "_deepnote_index_column": 183
                },
                {
                  "INSTNM": false,
                  "TUITIONFEE_IN": false,
                  "_deepnote_index_column": 184
                },
                {
                  "INSTNM": false,
                  "TUITIONFEE_IN": false,
                  "_deepnote_index_column": 185
                },
                {
                  "INSTNM": false,
                  "TUITIONFEE_IN": false,
                  "_deepnote_index_column": 186
                },
                {
                  "INSTNM": false,
                  "TUITIONFEE_IN": false,
                  "_deepnote_index_column": 187
                },
                {
                  "INSTNM": false,
                  "TUITIONFEE_IN": true,
                  "_deepnote_index_column": 188
                },
                {
                  "INSTNM": false,
                  "TUITIONFEE_IN": false,
                  "_deepnote_index_column": 189
                },
                {
                  "INSTNM": false,
                  "TUITIONFEE_IN": false,
                  "_deepnote_index_column": 190
                },
                {
                  "INSTNM": false,
                  "TUITIONFEE_IN": false,
                  "_deepnote_index_column": 191
                },
                {
                  "INSTNM": false,
                  "TUITIONFEE_IN": true,
                  "_deepnote_index_column": 192
                },
                {
                  "INSTNM": false,
                  "TUITIONFEE_IN": true,
                  "_deepnote_index_column": 193
                },
                {
                  "INSTNM": false,
                  "TUITIONFEE_IN": false,
                  "_deepnote_index_column": 194
                },
                {
                  "INSTNM": false,
                  "TUITIONFEE_IN": false,
                  "_deepnote_index_column": 195
                },
                {
                  "INSTNM": false,
                  "TUITIONFEE_IN": false,
                  "_deepnote_index_column": 196
                },
                {
                  "INSTNM": false,
                  "TUITIONFEE_IN": false,
                  "_deepnote_index_column": 197
                },
                {
                  "INSTNM": false,
                  "TUITIONFEE_IN": true,
                  "_deepnote_index_column": 198
                },
                {
                  "INSTNM": false,
                  "TUITIONFEE_IN": false,
                  "_deepnote_index_column": 199
                },
                {
                  "INSTNM": false,
                  "TUITIONFEE_IN": true,
                  "_deepnote_index_column": 200
                },
                {
                  "INSTNM": false,
                  "TUITIONFEE_IN": false,
                  "_deepnote_index_column": 201
                },
                {
                  "INSTNM": false,
                  "TUITIONFEE_IN": false,
                  "_deepnote_index_column": 202
                },
                {
                  "INSTNM": false,
                  "TUITIONFEE_IN": true,
                  "_deepnote_index_column": 203
                },
                {
                  "INSTNM": false,
                  "TUITIONFEE_IN": true,
                  "_deepnote_index_column": 204
                },
                {
                  "INSTNM": false,
                  "TUITIONFEE_IN": true,
                  "_deepnote_index_column": 205
                },
                {
                  "INSTNM": false,
                  "TUITIONFEE_IN": false,
                  "_deepnote_index_column": 206
                },
                {
                  "INSTNM": false,
                  "TUITIONFEE_IN": false,
                  "_deepnote_index_column": 207
                },
                {
                  "INSTNM": false,
                  "TUITIONFEE_IN": false,
                  "_deepnote_index_column": 208
                },
                {
                  "INSTNM": false,
                  "TUITIONFEE_IN": true,
                  "_deepnote_index_column": 209
                },
                {
                  "INSTNM": false,
                  "TUITIONFEE_IN": true,
                  "_deepnote_index_column": 210
                },
                {
                  "INSTNM": false,
                  "TUITIONFEE_IN": true,
                  "_deepnote_index_column": 211
                },
                {
                  "INSTNM": false,
                  "TUITIONFEE_IN": false,
                  "_deepnote_index_column": 212
                },
                {
                  "INSTNM": false,
                  "TUITIONFEE_IN": true,
                  "_deepnote_index_column": 213
                },
                {
                  "INSTNM": false,
                  "TUITIONFEE_IN": true,
                  "_deepnote_index_column": 214
                },
                {
                  "INSTNM": false,
                  "TUITIONFEE_IN": false,
                  "_deepnote_index_column": 215
                },
                {
                  "INSTNM": false,
                  "TUITIONFEE_IN": true,
                  "_deepnote_index_column": 216
                },
                {
                  "INSTNM": false,
                  "TUITIONFEE_IN": false,
                  "_deepnote_index_column": 217
                },
                {
                  "INSTNM": false,
                  "TUITIONFEE_IN": false,
                  "_deepnote_index_column": 218
                },
                {
                  "INSTNM": false,
                  "TUITIONFEE_IN": true,
                  "_deepnote_index_column": 219
                },
                {
                  "INSTNM": false,
                  "TUITIONFEE_IN": true,
                  "_deepnote_index_column": 220
                },
                {
                  "INSTNM": false,
                  "TUITIONFEE_IN": false,
                  "_deepnote_index_column": 221
                },
                {
                  "INSTNM": false,
                  "TUITIONFEE_IN": false,
                  "_deepnote_index_column": 222
                },
                {
                  "INSTNM": false,
                  "TUITIONFEE_IN": true,
                  "_deepnote_index_column": 223
                },
                {
                  "INSTNM": false,
                  "TUITIONFEE_IN": false,
                  "_deepnote_index_column": 224
                },
                {
                  "INSTNM": false,
                  "TUITIONFEE_IN": true,
                  "_deepnote_index_column": 225
                },
                {
                  "INSTNM": false,
                  "TUITIONFEE_IN": false,
                  "_deepnote_index_column": 226
                },
                {
                  "INSTNM": false,
                  "TUITIONFEE_IN": false,
                  "_deepnote_index_column": 227
                },
                {
                  "INSTNM": false,
                  "TUITIONFEE_IN": false,
                  "_deepnote_index_column": 228
                },
                {
                  "INSTNM": false,
                  "TUITIONFEE_IN": true,
                  "_deepnote_index_column": 229
                },
                {
                  "INSTNM": false,
                  "TUITIONFEE_IN": false,
                  "_deepnote_index_column": 230
                },
                {
                  "INSTNM": false,
                  "TUITIONFEE_IN": true,
                  "_deepnote_index_column": 231
                },
                {
                  "INSTNM": false,
                  "TUITIONFEE_IN": false,
                  "_deepnote_index_column": 232
                },
                {
                  "INSTNM": false,
                  "TUITIONFEE_IN": false,
                  "_deepnote_index_column": 233
                },
                {
                  "INSTNM": false,
                  "TUITIONFEE_IN": true,
                  "_deepnote_index_column": 234
                },
                {
                  "INSTNM": false,
                  "TUITIONFEE_IN": true,
                  "_deepnote_index_column": 235
                },
                {
                  "INSTNM": false,
                  "TUITIONFEE_IN": false,
                  "_deepnote_index_column": 236
                },
                {
                  "INSTNM": false,
                  "TUITIONFEE_IN": false,
                  "_deepnote_index_column": 237
                },
                {
                  "INSTNM": false,
                  "TUITIONFEE_IN": false,
                  "_deepnote_index_column": 238
                },
                {
                  "INSTNM": false,
                  "TUITIONFEE_IN": true,
                  "_deepnote_index_column": 239
                },
                {
                  "INSTNM": false,
                  "TUITIONFEE_IN": false,
                  "_deepnote_index_column": 240
                },
                {
                  "INSTNM": false,
                  "TUITIONFEE_IN": false,
                  "_deepnote_index_column": 241
                },
                {
                  "INSTNM": false,
                  "TUITIONFEE_IN": false,
                  "_deepnote_index_column": 242
                },
                {
                  "INSTNM": false,
                  "TUITIONFEE_IN": true,
                  "_deepnote_index_column": 243
                },
                {
                  "INSTNM": false,
                  "TUITIONFEE_IN": false,
                  "_deepnote_index_column": 244
                },
                {
                  "INSTNM": false,
                  "TUITIONFEE_IN": false,
                  "_deepnote_index_column": 245
                },
                {
                  "INSTNM": false,
                  "TUITIONFEE_IN": false,
                  "_deepnote_index_column": 246
                },
                {
                  "INSTNM": false,
                  "TUITIONFEE_IN": false,
                  "_deepnote_index_column": 247
                },
                {
                  "INSTNM": false,
                  "TUITIONFEE_IN": false,
                  "_deepnote_index_column": 248
                },
                {
                  "INSTNM": false,
                  "TUITIONFEE_IN": false,
                  "_deepnote_index_column": 249
                }
              ],
              "rows_bottom": [
                {
                  "INSTNM": false,
                  "TUITIONFEE_IN": false,
                  "_deepnote_index_column": 6721
                },
                {
                  "INSTNM": false,
                  "TUITIONFEE_IN": false,
                  "_deepnote_index_column": 6722
                },
                {
                  "INSTNM": false,
                  "TUITIONFEE_IN": false,
                  "_deepnote_index_column": 6723
                },
                {
                  "INSTNM": false,
                  "TUITIONFEE_IN": false,
                  "_deepnote_index_column": 6724
                },
                {
                  "INSTNM": false,
                  "TUITIONFEE_IN": false,
                  "_deepnote_index_column": 6725
                },
                {
                  "INSTNM": false,
                  "TUITIONFEE_IN": true,
                  "_deepnote_index_column": 6726
                },
                {
                  "INSTNM": false,
                  "TUITIONFEE_IN": true,
                  "_deepnote_index_column": 6727
                },
                {
                  "INSTNM": false,
                  "TUITIONFEE_IN": false,
                  "_deepnote_index_column": 6728
                },
                {
                  "INSTNM": false,
                  "TUITIONFEE_IN": true,
                  "_deepnote_index_column": 6729
                },
                {
                  "INSTNM": false,
                  "TUITIONFEE_IN": false,
                  "_deepnote_index_column": 6730
                },
                {
                  "INSTNM": false,
                  "TUITIONFEE_IN": true,
                  "_deepnote_index_column": 6731
                },
                {
                  "INSTNM": false,
                  "TUITIONFEE_IN": true,
                  "_deepnote_index_column": 6732
                },
                {
                  "INSTNM": false,
                  "TUITIONFEE_IN": false,
                  "_deepnote_index_column": 6733
                },
                {
                  "INSTNM": false,
                  "TUITIONFEE_IN": false,
                  "_deepnote_index_column": 6734
                },
                {
                  "INSTNM": false,
                  "TUITIONFEE_IN": false,
                  "_deepnote_index_column": 6735
                },
                {
                  "INSTNM": false,
                  "TUITIONFEE_IN": false,
                  "_deepnote_index_column": 6736
                },
                {
                  "INSTNM": false,
                  "TUITIONFEE_IN": false,
                  "_deepnote_index_column": 6737
                },
                {
                  "INSTNM": false,
                  "TUITIONFEE_IN": false,
                  "_deepnote_index_column": 6738
                },
                {
                  "INSTNM": false,
                  "TUITIONFEE_IN": false,
                  "_deepnote_index_column": 6739
                },
                {
                  "INSTNM": false,
                  "TUITIONFEE_IN": false,
                  "_deepnote_index_column": 6740
                },
                {
                  "INSTNM": false,
                  "TUITIONFEE_IN": true,
                  "_deepnote_index_column": 6741
                },
                {
                  "INSTNM": false,
                  "TUITIONFEE_IN": false,
                  "_deepnote_index_column": 6742
                },
                {
                  "INSTNM": false,
                  "TUITIONFEE_IN": true,
                  "_deepnote_index_column": 6743
                },
                {
                  "INSTNM": false,
                  "TUITIONFEE_IN": true,
                  "_deepnote_index_column": 6744
                },
                {
                  "INSTNM": false,
                  "TUITIONFEE_IN": true,
                  "_deepnote_index_column": 6745
                },
                {
                  "INSTNM": false,
                  "TUITIONFEE_IN": false,
                  "_deepnote_index_column": 6746
                },
                {
                  "INSTNM": false,
                  "TUITIONFEE_IN": true,
                  "_deepnote_index_column": 6747
                },
                {
                  "INSTNM": false,
                  "TUITIONFEE_IN": false,
                  "_deepnote_index_column": 6748
                },
                {
                  "INSTNM": false,
                  "TUITIONFEE_IN": true,
                  "_deepnote_index_column": 6749
                },
                {
                  "INSTNM": false,
                  "TUITIONFEE_IN": true,
                  "_deepnote_index_column": 6750
                },
                {
                  "INSTNM": false,
                  "TUITIONFEE_IN": true,
                  "_deepnote_index_column": 6751
                },
                {
                  "INSTNM": false,
                  "TUITIONFEE_IN": true,
                  "_deepnote_index_column": 6752
                },
                {
                  "INSTNM": false,
                  "TUITIONFEE_IN": true,
                  "_deepnote_index_column": 6753
                },
                {
                  "INSTNM": false,
                  "TUITIONFEE_IN": true,
                  "_deepnote_index_column": 6754
                },
                {
                  "INSTNM": false,
                  "TUITIONFEE_IN": true,
                  "_deepnote_index_column": 6755
                },
                {
                  "INSTNM": false,
                  "TUITIONFEE_IN": true,
                  "_deepnote_index_column": 6756
                },
                {
                  "INSTNM": false,
                  "TUITIONFEE_IN": true,
                  "_deepnote_index_column": 6757
                },
                {
                  "INSTNM": false,
                  "TUITIONFEE_IN": true,
                  "_deepnote_index_column": 6758
                },
                {
                  "INSTNM": false,
                  "TUITIONFEE_IN": true,
                  "_deepnote_index_column": 6759
                },
                {
                  "INSTNM": false,
                  "TUITIONFEE_IN": true,
                  "_deepnote_index_column": 6760
                },
                {
                  "INSTNM": false,
                  "TUITIONFEE_IN": true,
                  "_deepnote_index_column": 6761
                },
                {
                  "INSTNM": false,
                  "TUITIONFEE_IN": true,
                  "_deepnote_index_column": 6762
                },
                {
                  "INSTNM": false,
                  "TUITIONFEE_IN": true,
                  "_deepnote_index_column": 6763
                },
                {
                  "INSTNM": false,
                  "TUITIONFEE_IN": true,
                  "_deepnote_index_column": 6764
                },
                {
                  "INSTNM": false,
                  "TUITIONFEE_IN": true,
                  "_deepnote_index_column": 6765
                },
                {
                  "INSTNM": false,
                  "TUITIONFEE_IN": true,
                  "_deepnote_index_column": 6766
                },
                {
                  "INSTNM": false,
                  "TUITIONFEE_IN": true,
                  "_deepnote_index_column": 6767
                },
                {
                  "INSTNM": false,
                  "TUITIONFEE_IN": true,
                  "_deepnote_index_column": 6768
                },
                {
                  "INSTNM": false,
                  "TUITIONFEE_IN": true,
                  "_deepnote_index_column": 6769
                },
                {
                  "INSTNM": false,
                  "TUITIONFEE_IN": true,
                  "_deepnote_index_column": 6770
                },
                {
                  "INSTNM": false,
                  "TUITIONFEE_IN": true,
                  "_deepnote_index_column": 6771
                },
                {
                  "INSTNM": false,
                  "TUITIONFEE_IN": true,
                  "_deepnote_index_column": 6772
                },
                {
                  "INSTNM": false,
                  "TUITIONFEE_IN": true,
                  "_deepnote_index_column": 6773
                },
                {
                  "INSTNM": false,
                  "TUITIONFEE_IN": true,
                  "_deepnote_index_column": 6774
                },
                {
                  "INSTNM": false,
                  "TUITIONFEE_IN": true,
                  "_deepnote_index_column": 6775
                },
                {
                  "INSTNM": false,
                  "TUITIONFEE_IN": true,
                  "_deepnote_index_column": 6776
                },
                {
                  "INSTNM": false,
                  "TUITIONFEE_IN": true,
                  "_deepnote_index_column": 6777
                },
                {
                  "INSTNM": false,
                  "TUITIONFEE_IN": false,
                  "_deepnote_index_column": 6778
                },
                {
                  "INSTNM": false,
                  "TUITIONFEE_IN": false,
                  "_deepnote_index_column": 6779
                },
                {
                  "INSTNM": false,
                  "TUITIONFEE_IN": false,
                  "_deepnote_index_column": 6780
                },
                {
                  "INSTNM": false,
                  "TUITIONFEE_IN": true,
                  "_deepnote_index_column": 6781
                },
                {
                  "INSTNM": false,
                  "TUITIONFEE_IN": false,
                  "_deepnote_index_column": 6782
                },
                {
                  "INSTNM": false,
                  "TUITIONFEE_IN": false,
                  "_deepnote_index_column": 6783
                },
                {
                  "INSTNM": false,
                  "TUITIONFEE_IN": false,
                  "_deepnote_index_column": 6784
                },
                {
                  "INSTNM": false,
                  "TUITIONFEE_IN": false,
                  "_deepnote_index_column": 6785
                },
                {
                  "INSTNM": false,
                  "TUITIONFEE_IN": false,
                  "_deepnote_index_column": 6786
                },
                {
                  "INSTNM": false,
                  "TUITIONFEE_IN": false,
                  "_deepnote_index_column": 6787
                },
                {
                  "INSTNM": false,
                  "TUITIONFEE_IN": false,
                  "_deepnote_index_column": 6788
                },
                {
                  "INSTNM": false,
                  "TUITIONFEE_IN": false,
                  "_deepnote_index_column": 6789
                },
                {
                  "INSTNM": false,
                  "TUITIONFEE_IN": true,
                  "_deepnote_index_column": 6790
                },
                {
                  "INSTNM": false,
                  "TUITIONFEE_IN": true,
                  "_deepnote_index_column": 6791
                },
                {
                  "INSTNM": false,
                  "TUITIONFEE_IN": true,
                  "_deepnote_index_column": 6792
                },
                {
                  "INSTNM": false,
                  "TUITIONFEE_IN": true,
                  "_deepnote_index_column": 6793
                },
                {
                  "INSTNM": false,
                  "TUITIONFEE_IN": true,
                  "_deepnote_index_column": 6794
                },
                {
                  "INSTNM": false,
                  "TUITIONFEE_IN": true,
                  "_deepnote_index_column": 6795
                },
                {
                  "INSTNM": false,
                  "TUITIONFEE_IN": true,
                  "_deepnote_index_column": 6796
                },
                {
                  "INSTNM": false,
                  "TUITIONFEE_IN": true,
                  "_deepnote_index_column": 6797
                },
                {
                  "INSTNM": false,
                  "TUITIONFEE_IN": true,
                  "_deepnote_index_column": 6798
                },
                {
                  "INSTNM": false,
                  "TUITIONFEE_IN": true,
                  "_deepnote_index_column": 6799
                },
                {
                  "INSTNM": false,
                  "TUITIONFEE_IN": true,
                  "_deepnote_index_column": 6800
                },
                {
                  "INSTNM": false,
                  "TUITIONFEE_IN": true,
                  "_deepnote_index_column": 6801
                },
                {
                  "INSTNM": false,
                  "TUITIONFEE_IN": false,
                  "_deepnote_index_column": 6802
                },
                {
                  "INSTNM": false,
                  "TUITIONFEE_IN": false,
                  "_deepnote_index_column": 6803
                },
                {
                  "INSTNM": false,
                  "TUITIONFEE_IN": true,
                  "_deepnote_index_column": 6804
                },
                {
                  "INSTNM": false,
                  "TUITIONFEE_IN": false,
                  "_deepnote_index_column": 6805
                },
                {
                  "INSTNM": false,
                  "TUITIONFEE_IN": true,
                  "_deepnote_index_column": 6806
                },
                {
                  "INSTNM": false,
                  "TUITIONFEE_IN": false,
                  "_deepnote_index_column": 6807
                },
                {
                  "INSTNM": false,
                  "TUITIONFEE_IN": false,
                  "_deepnote_index_column": 6808
                },
                {
                  "INSTNM": false,
                  "TUITIONFEE_IN": false,
                  "_deepnote_index_column": 6809
                },
                {
                  "INSTNM": false,
                  "TUITIONFEE_IN": false,
                  "_deepnote_index_column": 6810
                },
                {
                  "INSTNM": false,
                  "TUITIONFEE_IN": true,
                  "_deepnote_index_column": 6811
                },
                {
                  "INSTNM": false,
                  "TUITIONFEE_IN": true,
                  "_deepnote_index_column": 6812
                },
                {
                  "INSTNM": false,
                  "TUITIONFEE_IN": true,
                  "_deepnote_index_column": 6813
                },
                {
                  "INSTNM": false,
                  "TUITIONFEE_IN": true,
                  "_deepnote_index_column": 6814
                },
                {
                  "INSTNM": false,
                  "TUITIONFEE_IN": true,
                  "_deepnote_index_column": 6815
                },
                {
                  "INSTNM": false,
                  "TUITIONFEE_IN": true,
                  "_deepnote_index_column": 6816
                },
                {
                  "INSTNM": false,
                  "TUITIONFEE_IN": true,
                  "_deepnote_index_column": 6817
                },
                {
                  "INSTNM": false,
                  "TUITIONFEE_IN": false,
                  "_deepnote_index_column": 6818
                },
                {
                  "INSTNM": false,
                  "TUITIONFEE_IN": false,
                  "_deepnote_index_column": 6819
                },
                {
                  "INSTNM": false,
                  "TUITIONFEE_IN": false,
                  "_deepnote_index_column": 6820
                },
                {
                  "INSTNM": false,
                  "TUITIONFEE_IN": false,
                  "_deepnote_index_column": 6821
                },
                {
                  "INSTNM": false,
                  "TUITIONFEE_IN": false,
                  "_deepnote_index_column": 6822
                },
                {
                  "INSTNM": false,
                  "TUITIONFEE_IN": false,
                  "_deepnote_index_column": 6823
                },
                {
                  "INSTNM": false,
                  "TUITIONFEE_IN": false,
                  "_deepnote_index_column": 6824
                },
                {
                  "INSTNM": false,
                  "TUITIONFEE_IN": false,
                  "_deepnote_index_column": 6825
                },
                {
                  "INSTNM": false,
                  "TUITIONFEE_IN": false,
                  "_deepnote_index_column": 6826
                },
                {
                  "INSTNM": false,
                  "TUITIONFEE_IN": false,
                  "_deepnote_index_column": 6827
                },
                {
                  "INSTNM": false,
                  "TUITIONFEE_IN": false,
                  "_deepnote_index_column": 6828
                },
                {
                  "INSTNM": false,
                  "TUITIONFEE_IN": false,
                  "_deepnote_index_column": 6829
                },
                {
                  "INSTNM": false,
                  "TUITIONFEE_IN": false,
                  "_deepnote_index_column": 6830
                },
                {
                  "INSTNM": false,
                  "TUITIONFEE_IN": false,
                  "_deepnote_index_column": 6831
                },
                {
                  "INSTNM": false,
                  "TUITIONFEE_IN": false,
                  "_deepnote_index_column": 6832
                },
                {
                  "INSTNM": false,
                  "TUITIONFEE_IN": false,
                  "_deepnote_index_column": 6833
                },
                {
                  "INSTNM": false,
                  "TUITIONFEE_IN": false,
                  "_deepnote_index_column": 6834
                },
                {
                  "INSTNM": false,
                  "TUITIONFEE_IN": false,
                  "_deepnote_index_column": 6835
                },
                {
                  "INSTNM": false,
                  "TUITIONFEE_IN": false,
                  "_deepnote_index_column": 6836
                },
                {
                  "INSTNM": false,
                  "TUITIONFEE_IN": false,
                  "_deepnote_index_column": 6837
                },
                {
                  "INSTNM": false,
                  "TUITIONFEE_IN": false,
                  "_deepnote_index_column": 6838
                },
                {
                  "INSTNM": false,
                  "TUITIONFEE_IN": false,
                  "_deepnote_index_column": 6839
                },
                {
                  "INSTNM": false,
                  "TUITIONFEE_IN": false,
                  "_deepnote_index_column": 6840
                },
                {
                  "INSTNM": false,
                  "TUITIONFEE_IN": false,
                  "_deepnote_index_column": 6841
                },
                {
                  "INSTNM": false,
                  "TUITIONFEE_IN": false,
                  "_deepnote_index_column": 6842
                },
                {
                  "INSTNM": false,
                  "TUITIONFEE_IN": false,
                  "_deepnote_index_column": 6843
                },
                {
                  "INSTNM": false,
                  "TUITIONFEE_IN": false,
                  "_deepnote_index_column": 6844
                },
                {
                  "INSTNM": false,
                  "TUITIONFEE_IN": false,
                  "_deepnote_index_column": 6845
                },
                {
                  "INSTNM": false,
                  "TUITIONFEE_IN": false,
                  "_deepnote_index_column": 6846
                },
                {
                  "INSTNM": false,
                  "TUITIONFEE_IN": false,
                  "_deepnote_index_column": 6847
                },
                {
                  "INSTNM": false,
                  "TUITIONFEE_IN": false,
                  "_deepnote_index_column": 6848
                },
                {
                  "INSTNM": false,
                  "TUITIONFEE_IN": false,
                  "_deepnote_index_column": 6849
                },
                {
                  "INSTNM": false,
                  "TUITIONFEE_IN": false,
                  "_deepnote_index_column": 6850
                },
                {
                  "INSTNM": false,
                  "TUITIONFEE_IN": false,
                  "_deepnote_index_column": 6851
                },
                {
                  "INSTNM": false,
                  "TUITIONFEE_IN": false,
                  "_deepnote_index_column": 6852
                },
                {
                  "INSTNM": false,
                  "TUITIONFEE_IN": false,
                  "_deepnote_index_column": 6853
                },
                {
                  "INSTNM": false,
                  "TUITIONFEE_IN": false,
                  "_deepnote_index_column": 6854
                },
                {
                  "INSTNM": false,
                  "TUITIONFEE_IN": false,
                  "_deepnote_index_column": 6855
                },
                {
                  "INSTNM": false,
                  "TUITIONFEE_IN": false,
                  "_deepnote_index_column": 6856
                },
                {
                  "INSTNM": false,
                  "TUITIONFEE_IN": false,
                  "_deepnote_index_column": 6857
                },
                {
                  "INSTNM": false,
                  "TUITIONFEE_IN": false,
                  "_deepnote_index_column": 6858
                },
                {
                  "INSTNM": false,
                  "TUITIONFEE_IN": false,
                  "_deepnote_index_column": 6859
                },
                {
                  "INSTNM": false,
                  "TUITIONFEE_IN": false,
                  "_deepnote_index_column": 6860
                },
                {
                  "INSTNM": false,
                  "TUITIONFEE_IN": false,
                  "_deepnote_index_column": 6861
                },
                {
                  "INSTNM": false,
                  "TUITIONFEE_IN": false,
                  "_deepnote_index_column": 6862
                },
                {
                  "INSTNM": false,
                  "TUITIONFEE_IN": false,
                  "_deepnote_index_column": 6863
                },
                {
                  "INSTNM": false,
                  "TUITIONFEE_IN": false,
                  "_deepnote_index_column": 6864
                },
                {
                  "INSTNM": false,
                  "TUITIONFEE_IN": false,
                  "_deepnote_index_column": 6865
                },
                {
                  "INSTNM": false,
                  "TUITIONFEE_IN": false,
                  "_deepnote_index_column": 6866
                },
                {
                  "INSTNM": false,
                  "TUITIONFEE_IN": false,
                  "_deepnote_index_column": 6867
                },
                {
                  "INSTNM": false,
                  "TUITIONFEE_IN": false,
                  "_deepnote_index_column": 6868
                },
                {
                  "INSTNM": false,
                  "TUITIONFEE_IN": false,
                  "_deepnote_index_column": 6869
                },
                {
                  "INSTNM": false,
                  "TUITIONFEE_IN": false,
                  "_deepnote_index_column": 6870
                },
                {
                  "INSTNM": false,
                  "TUITIONFEE_IN": false,
                  "_deepnote_index_column": 6871
                },
                {
                  "INSTNM": false,
                  "TUITIONFEE_IN": false,
                  "_deepnote_index_column": 6872
                },
                {
                  "INSTNM": false,
                  "TUITIONFEE_IN": false,
                  "_deepnote_index_column": 6873
                },
                {
                  "INSTNM": false,
                  "TUITIONFEE_IN": false,
                  "_deepnote_index_column": 6874
                },
                {
                  "INSTNM": false,
                  "TUITIONFEE_IN": false,
                  "_deepnote_index_column": 6875
                },
                {
                  "INSTNM": false,
                  "TUITIONFEE_IN": false,
                  "_deepnote_index_column": 6876
                },
                {
                  "INSTNM": false,
                  "TUITIONFEE_IN": true,
                  "_deepnote_index_column": 6877
                },
                {
                  "INSTNM": false,
                  "TUITIONFEE_IN": true,
                  "_deepnote_index_column": 6878
                },
                {
                  "INSTNM": false,
                  "TUITIONFEE_IN": true,
                  "_deepnote_index_column": 6879
                },
                {
                  "INSTNM": false,
                  "TUITIONFEE_IN": true,
                  "_deepnote_index_column": 6880
                },
                {
                  "INSTNM": false,
                  "TUITIONFEE_IN": true,
                  "_deepnote_index_column": 6881
                },
                {
                  "INSTNM": false,
                  "TUITIONFEE_IN": true,
                  "_deepnote_index_column": 6882
                },
                {
                  "INSTNM": false,
                  "TUITIONFEE_IN": false,
                  "_deepnote_index_column": 6883
                },
                {
                  "INSTNM": false,
                  "TUITIONFEE_IN": true,
                  "_deepnote_index_column": 6884
                },
                {
                  "INSTNM": false,
                  "TUITIONFEE_IN": true,
                  "_deepnote_index_column": 6885
                },
                {
                  "INSTNM": false,
                  "TUITIONFEE_IN": true,
                  "_deepnote_index_column": 6886
                },
                {
                  "INSTNM": false,
                  "TUITIONFEE_IN": true,
                  "_deepnote_index_column": 6887
                },
                {
                  "INSTNM": false,
                  "TUITIONFEE_IN": true,
                  "_deepnote_index_column": 6888
                },
                {
                  "INSTNM": false,
                  "TUITIONFEE_IN": true,
                  "_deepnote_index_column": 6889
                },
                {
                  "INSTNM": false,
                  "TUITIONFEE_IN": true,
                  "_deepnote_index_column": 6890
                },
                {
                  "INSTNM": false,
                  "TUITIONFEE_IN": true,
                  "_deepnote_index_column": 6891
                },
                {
                  "INSTNM": false,
                  "TUITIONFEE_IN": false,
                  "_deepnote_index_column": 6892
                },
                {
                  "INSTNM": false,
                  "TUITIONFEE_IN": false,
                  "_deepnote_index_column": 6893
                },
                {
                  "INSTNM": false,
                  "TUITIONFEE_IN": false,
                  "_deepnote_index_column": 6894
                },
                {
                  "INSTNM": false,
                  "TUITIONFEE_IN": false,
                  "_deepnote_index_column": 6895
                },
                {
                  "INSTNM": false,
                  "TUITIONFEE_IN": false,
                  "_deepnote_index_column": 6896
                },
                {
                  "INSTNM": false,
                  "TUITIONFEE_IN": false,
                  "_deepnote_index_column": 6897
                },
                {
                  "INSTNM": false,
                  "TUITIONFEE_IN": false,
                  "_deepnote_index_column": 6898
                },
                {
                  "INSTNM": false,
                  "TUITIONFEE_IN": false,
                  "_deepnote_index_column": 6899
                },
                {
                  "INSTNM": false,
                  "TUITIONFEE_IN": false,
                  "_deepnote_index_column": 6900
                },
                {
                  "INSTNM": false,
                  "TUITIONFEE_IN": false,
                  "_deepnote_index_column": 6901
                },
                {
                  "INSTNM": false,
                  "TUITIONFEE_IN": false,
                  "_deepnote_index_column": 6902
                },
                {
                  "INSTNM": false,
                  "TUITIONFEE_IN": false,
                  "_deepnote_index_column": 6903
                },
                {
                  "INSTNM": false,
                  "TUITIONFEE_IN": false,
                  "_deepnote_index_column": 6904
                },
                {
                  "INSTNM": false,
                  "TUITIONFEE_IN": true,
                  "_deepnote_index_column": 6905
                },
                {
                  "INSTNM": false,
                  "TUITIONFEE_IN": false,
                  "_deepnote_index_column": 6906
                },
                {
                  "INSTNM": false,
                  "TUITIONFEE_IN": false,
                  "_deepnote_index_column": 6907
                },
                {
                  "INSTNM": false,
                  "TUITIONFEE_IN": false,
                  "_deepnote_index_column": 6908
                },
                {
                  "INSTNM": false,
                  "TUITIONFEE_IN": false,
                  "_deepnote_index_column": 6909
                },
                {
                  "INSTNM": false,
                  "TUITIONFEE_IN": false,
                  "_deepnote_index_column": 6910
                },
                {
                  "INSTNM": false,
                  "TUITIONFEE_IN": false,
                  "_deepnote_index_column": 6911
                },
                {
                  "INSTNM": false,
                  "TUITIONFEE_IN": false,
                  "_deepnote_index_column": 6912
                },
                {
                  "INSTNM": false,
                  "TUITIONFEE_IN": false,
                  "_deepnote_index_column": 6913
                },
                {
                  "INSTNM": false,
                  "TUITIONFEE_IN": false,
                  "_deepnote_index_column": 6914
                },
                {
                  "INSTNM": false,
                  "TUITIONFEE_IN": false,
                  "_deepnote_index_column": 6915
                },
                {
                  "INSTNM": false,
                  "TUITIONFEE_IN": false,
                  "_deepnote_index_column": 6916
                },
                {
                  "INSTNM": false,
                  "TUITIONFEE_IN": false,
                  "_deepnote_index_column": 6917
                },
                {
                  "INSTNM": false,
                  "TUITIONFEE_IN": false,
                  "_deepnote_index_column": 6918
                },
                {
                  "INSTNM": false,
                  "TUITIONFEE_IN": false,
                  "_deepnote_index_column": 6919
                },
                {
                  "INSTNM": false,
                  "TUITIONFEE_IN": false,
                  "_deepnote_index_column": 6920
                },
                {
                  "INSTNM": false,
                  "TUITIONFEE_IN": false,
                  "_deepnote_index_column": 6921
                },
                {
                  "INSTNM": false,
                  "TUITIONFEE_IN": false,
                  "_deepnote_index_column": 6922
                },
                {
                  "INSTNM": false,
                  "TUITIONFEE_IN": false,
                  "_deepnote_index_column": 6923
                },
                {
                  "INSTNM": false,
                  "TUITIONFEE_IN": true,
                  "_deepnote_index_column": 6924
                },
                {
                  "INSTNM": false,
                  "TUITIONFEE_IN": false,
                  "_deepnote_index_column": 6925
                },
                {
                  "INSTNM": false,
                  "TUITIONFEE_IN": false,
                  "_deepnote_index_column": 6926
                },
                {
                  "INSTNM": false,
                  "TUITIONFEE_IN": false,
                  "_deepnote_index_column": 6927
                },
                {
                  "INSTNM": false,
                  "TUITIONFEE_IN": true,
                  "_deepnote_index_column": 6928
                },
                {
                  "INSTNM": false,
                  "TUITIONFEE_IN": false,
                  "_deepnote_index_column": 6929
                },
                {
                  "INSTNM": false,
                  "TUITIONFEE_IN": false,
                  "_deepnote_index_column": 6930
                },
                {
                  "INSTNM": false,
                  "TUITIONFEE_IN": false,
                  "_deepnote_index_column": 6931
                },
                {
                  "INSTNM": false,
                  "TUITIONFEE_IN": false,
                  "_deepnote_index_column": 6932
                },
                {
                  "INSTNM": false,
                  "TUITIONFEE_IN": false,
                  "_deepnote_index_column": 6933
                },
                {
                  "INSTNM": false,
                  "TUITIONFEE_IN": true,
                  "_deepnote_index_column": 6934
                },
                {
                  "INSTNM": false,
                  "TUITIONFEE_IN": true,
                  "_deepnote_index_column": 6935
                },
                {
                  "INSTNM": false,
                  "TUITIONFEE_IN": true,
                  "_deepnote_index_column": 6936
                },
                {
                  "INSTNM": false,
                  "TUITIONFEE_IN": false,
                  "_deepnote_index_column": 6937
                },
                {
                  "INSTNM": false,
                  "TUITIONFEE_IN": false,
                  "_deepnote_index_column": 6938
                },
                {
                  "INSTNM": false,
                  "TUITIONFEE_IN": false,
                  "_deepnote_index_column": 6939
                },
                {
                  "INSTNM": false,
                  "TUITIONFEE_IN": false,
                  "_deepnote_index_column": 6940
                },
                {
                  "INSTNM": false,
                  "TUITIONFEE_IN": false,
                  "_deepnote_index_column": 6941
                },
                {
                  "INSTNM": false,
                  "TUITIONFEE_IN": true,
                  "_deepnote_index_column": 6942
                },
                {
                  "INSTNM": false,
                  "TUITIONFEE_IN": false,
                  "_deepnote_index_column": 6943
                },
                {
                  "INSTNM": false,
                  "TUITIONFEE_IN": true,
                  "_deepnote_index_column": 6944
                },
                {
                  "INSTNM": false,
                  "TUITIONFEE_IN": false,
                  "_deepnote_index_column": 6945
                },
                {
                  "INSTNM": false,
                  "TUITIONFEE_IN": true,
                  "_deepnote_index_column": 6946
                },
                {
                  "INSTNM": false,
                  "TUITIONFEE_IN": false,
                  "_deepnote_index_column": 6947
                },
                {
                  "INSTNM": false,
                  "TUITIONFEE_IN": false,
                  "_deepnote_index_column": 6948
                },
                {
                  "INSTNM": false,
                  "TUITIONFEE_IN": false,
                  "_deepnote_index_column": 6949
                },
                {
                  "INSTNM": false,
                  "TUITIONFEE_IN": true,
                  "_deepnote_index_column": 6950
                },
                {
                  "INSTNM": false,
                  "TUITIONFEE_IN": true,
                  "_deepnote_index_column": 6951
                },
                {
                  "INSTNM": false,
                  "TUITIONFEE_IN": true,
                  "_deepnote_index_column": 6952
                },
                {
                  "INSTNM": false,
                  "TUITIONFEE_IN": false,
                  "_deepnote_index_column": 6953
                },
                {
                  "INSTNM": false,
                  "TUITIONFEE_IN": false,
                  "_deepnote_index_column": 6954
                },
                {
                  "INSTNM": false,
                  "TUITIONFEE_IN": true,
                  "_deepnote_index_column": 6955
                },
                {
                  "INSTNM": false,
                  "TUITIONFEE_IN": false,
                  "_deepnote_index_column": 6956
                },
                {
                  "INSTNM": false,
                  "TUITIONFEE_IN": false,
                  "_deepnote_index_column": 6957
                },
                {
                  "INSTNM": false,
                  "TUITIONFEE_IN": false,
                  "_deepnote_index_column": 6958
                },
                {
                  "INSTNM": false,
                  "TUITIONFEE_IN": false,
                  "_deepnote_index_column": 6959
                },
                {
                  "INSTNM": false,
                  "TUITIONFEE_IN": true,
                  "_deepnote_index_column": 6960
                },
                {
                  "INSTNM": false,
                  "TUITIONFEE_IN": false,
                  "_deepnote_index_column": 6961
                },
                {
                  "INSTNM": false,
                  "TUITIONFEE_IN": false,
                  "_deepnote_index_column": 6962
                },
                {
                  "INSTNM": false,
                  "TUITIONFEE_IN": false,
                  "_deepnote_index_column": 6963
                },
                {
                  "INSTNM": false,
                  "TUITIONFEE_IN": false,
                  "_deepnote_index_column": 6964
                },
                {
                  "INSTNM": false,
                  "TUITIONFEE_IN": false,
                  "_deepnote_index_column": 6965
                },
                {
                  "INSTNM": false,
                  "TUITIONFEE_IN": true,
                  "_deepnote_index_column": 6966
                },
                {
                  "INSTNM": false,
                  "TUITIONFEE_IN": true,
                  "_deepnote_index_column": 6967
                },
                {
                  "INSTNM": false,
                  "TUITIONFEE_IN": true,
                  "_deepnote_index_column": 6968
                },
                {
                  "INSTNM": false,
                  "TUITIONFEE_IN": true,
                  "_deepnote_index_column": 6969
                },
                {
                  "INSTNM": false,
                  "TUITIONFEE_IN": true,
                  "_deepnote_index_column": 6970
                }
              ]
            },
            "text/plain": "      INSTNM  TUITIONFEE_IN\n0      False           True\n1      False          False\n2      False          False\n3      False          False\n4      False          False\n...      ...            ...\n6966   False           True\n6967   False           True\n6968   False           True\n6969   False           True\n6970   False           True\n\n[6971 rows x 2 columns]",
            "text/html": "<div>\n<style scoped>\n    .dataframe tbody tr th:only-of-type {\n        vertical-align: middle;\n    }\n\n    .dataframe tbody tr th {\n        vertical-align: top;\n    }\n\n    .dataframe thead th {\n        text-align: right;\n    }\n</style>\n<table border=\"1\" class=\"dataframe\">\n  <thead>\n    <tr style=\"text-align: right;\">\n      <th></th>\n      <th>INSTNM</th>\n      <th>TUITIONFEE_IN</th>\n    </tr>\n  </thead>\n  <tbody>\n    <tr>\n      <th>0</th>\n      <td>False</td>\n      <td>True</td>\n    </tr>\n    <tr>\n      <th>1</th>\n      <td>False</td>\n      <td>False</td>\n    </tr>\n    <tr>\n      <th>2</th>\n      <td>False</td>\n      <td>False</td>\n    </tr>\n    <tr>\n      <th>3</th>\n      <td>False</td>\n      <td>False</td>\n    </tr>\n    <tr>\n      <th>4</th>\n      <td>False</td>\n      <td>False</td>\n    </tr>\n    <tr>\n      <th>...</th>\n      <td>...</td>\n      <td>...</td>\n    </tr>\n    <tr>\n      <th>6966</th>\n      <td>False</td>\n      <td>True</td>\n    </tr>\n    <tr>\n      <th>6967</th>\n      <td>False</td>\n      <td>True</td>\n    </tr>\n    <tr>\n      <th>6968</th>\n      <td>False</td>\n      <td>True</td>\n    </tr>\n    <tr>\n      <th>6969</th>\n      <td>False</td>\n      <td>True</td>\n    </tr>\n    <tr>\n      <th>6970</th>\n      <td>False</td>\n      <td>True</td>\n    </tr>\n  </tbody>\n</table>\n<p>6971 rows × 2 columns</p>\n</div>"
          },
          "metadata": {}
        }
      ]
    },
    {
      "cell_type": "markdown",
      "source": "**Drop those observations with missing value**",
      "metadata": {
        "tags": [],
        "cell_id": "00015-78d729c2-58ac-4e5b-89c0-11ec9ccccb00",
        "deepnote_cell_type": "markdown"
      }
    },
    {
      "cell_type": "code",
      "metadata": {
        "tags": [],
        "cell_id": "00015-8c94234b-8f04-4be3-a3e7-f7e75c2e1806",
        "deepnote_to_be_reexecuted": false,
        "source_hash": "5fa3d7a5",
        "execution_millis": 59,
        "execution_start": 1618674807339,
        "deepnote_cell_type": "code"
      },
      "source": "clean_df = df.dropna()",
      "execution_count": 9,
      "outputs": []
    },
    {
      "cell_type": "code",
      "metadata": {
        "tags": [],
        "cell_id": "00017-4e59c91e-26a0-4e3f-993a-50552f1214e7",
        "deepnote_to_be_reexecuted": false,
        "source_hash": "ca7e4d7b",
        "execution_millis": 124,
        "execution_start": 1618674807443,
        "deepnote_cell_type": "code"
      },
      "source": "clean_df.isnull()",
      "execution_count": 10,
      "outputs": [
        {
          "output_type": "execute_result",
          "execution_count": 10,
          "data": {
            "application/vnd.deepnote.dataframe.v2+json": {
              "row_count": 4183,
              "column_count": 2,
              "columns": [
                {
                  "name": "INSTNM",
                  "dtype": "bool",
                  "stats": {
                    "unique_count": 1,
                    "nan_count": 0,
                    "categories": [
                      {
                        "name": "False",
                        "count": 4183
                      }
                    ]
                  }
                },
                {
                  "name": "TUITIONFEE_IN",
                  "dtype": "bool",
                  "stats": {
                    "unique_count": 1,
                    "nan_count": 0,
                    "categories": [
                      {
                        "name": "False",
                        "count": 4183
                      }
                    ]
                  }
                },
                {
                  "name": "_deepnote_index_column",
                  "dtype": "int64"
                }
              ],
              "rows_top": [
                {
                  "INSTNM": false,
                  "TUITIONFEE_IN": false,
                  "_deepnote_index_column": 1
                },
                {
                  "INSTNM": false,
                  "TUITIONFEE_IN": false,
                  "_deepnote_index_column": 2
                },
                {
                  "INSTNM": false,
                  "TUITIONFEE_IN": false,
                  "_deepnote_index_column": 3
                },
                {
                  "INSTNM": false,
                  "TUITIONFEE_IN": false,
                  "_deepnote_index_column": 4
                },
                {
                  "INSTNM": false,
                  "TUITIONFEE_IN": false,
                  "_deepnote_index_column": 5
                },
                {
                  "INSTNM": false,
                  "TUITIONFEE_IN": false,
                  "_deepnote_index_column": 6
                },
                {
                  "INSTNM": false,
                  "TUITIONFEE_IN": false,
                  "_deepnote_index_column": 7
                },
                {
                  "INSTNM": false,
                  "TUITIONFEE_IN": false,
                  "_deepnote_index_column": 9
                },
                {
                  "INSTNM": false,
                  "TUITIONFEE_IN": false,
                  "_deepnote_index_column": 10
                },
                {
                  "INSTNM": false,
                  "TUITIONFEE_IN": false,
                  "_deepnote_index_column": 11
                },
                {
                  "INSTNM": false,
                  "TUITIONFEE_IN": false,
                  "_deepnote_index_column": 12
                },
                {
                  "INSTNM": false,
                  "TUITIONFEE_IN": false,
                  "_deepnote_index_column": 13
                },
                {
                  "INSTNM": false,
                  "TUITIONFEE_IN": false,
                  "_deepnote_index_column": 14
                },
                {
                  "INSTNM": false,
                  "TUITIONFEE_IN": false,
                  "_deepnote_index_column": 15
                },
                {
                  "INSTNM": false,
                  "TUITIONFEE_IN": false,
                  "_deepnote_index_column": 16
                },
                {
                  "INSTNM": false,
                  "TUITIONFEE_IN": false,
                  "_deepnote_index_column": 17
                },
                {
                  "INSTNM": false,
                  "TUITIONFEE_IN": false,
                  "_deepnote_index_column": 19
                },
                {
                  "INSTNM": false,
                  "TUITIONFEE_IN": false,
                  "_deepnote_index_column": 20
                },
                {
                  "INSTNM": false,
                  "TUITIONFEE_IN": false,
                  "_deepnote_index_column": 21
                },
                {
                  "INSTNM": false,
                  "TUITIONFEE_IN": false,
                  "_deepnote_index_column": 22
                },
                {
                  "INSTNM": false,
                  "TUITIONFEE_IN": false,
                  "_deepnote_index_column": 23
                },
                {
                  "INSTNM": false,
                  "TUITIONFEE_IN": false,
                  "_deepnote_index_column": 24
                },
                {
                  "INSTNM": false,
                  "TUITIONFEE_IN": false,
                  "_deepnote_index_column": 25
                },
                {
                  "INSTNM": false,
                  "TUITIONFEE_IN": false,
                  "_deepnote_index_column": 26
                },
                {
                  "INSTNM": false,
                  "TUITIONFEE_IN": false,
                  "_deepnote_index_column": 27
                },
                {
                  "INSTNM": false,
                  "TUITIONFEE_IN": false,
                  "_deepnote_index_column": 28
                },
                {
                  "INSTNM": false,
                  "TUITIONFEE_IN": false,
                  "_deepnote_index_column": 29
                },
                {
                  "INSTNM": false,
                  "TUITIONFEE_IN": false,
                  "_deepnote_index_column": 30
                },
                {
                  "INSTNM": false,
                  "TUITIONFEE_IN": false,
                  "_deepnote_index_column": 31
                },
                {
                  "INSTNM": false,
                  "TUITIONFEE_IN": false,
                  "_deepnote_index_column": 32
                },
                {
                  "INSTNM": false,
                  "TUITIONFEE_IN": false,
                  "_deepnote_index_column": 33
                },
                {
                  "INSTNM": false,
                  "TUITIONFEE_IN": false,
                  "_deepnote_index_column": 34
                },
                {
                  "INSTNM": false,
                  "TUITIONFEE_IN": false,
                  "_deepnote_index_column": 35
                },
                {
                  "INSTNM": false,
                  "TUITIONFEE_IN": false,
                  "_deepnote_index_column": 36
                },
                {
                  "INSTNM": false,
                  "TUITIONFEE_IN": false,
                  "_deepnote_index_column": 37
                },
                {
                  "INSTNM": false,
                  "TUITIONFEE_IN": false,
                  "_deepnote_index_column": 38
                },
                {
                  "INSTNM": false,
                  "TUITIONFEE_IN": false,
                  "_deepnote_index_column": 39
                },
                {
                  "INSTNM": false,
                  "TUITIONFEE_IN": false,
                  "_deepnote_index_column": 40
                },
                {
                  "INSTNM": false,
                  "TUITIONFEE_IN": false,
                  "_deepnote_index_column": 41
                },
                {
                  "INSTNM": false,
                  "TUITIONFEE_IN": false,
                  "_deepnote_index_column": 42
                },
                {
                  "INSTNM": false,
                  "TUITIONFEE_IN": false,
                  "_deepnote_index_column": 43
                },
                {
                  "INSTNM": false,
                  "TUITIONFEE_IN": false,
                  "_deepnote_index_column": 44
                },
                {
                  "INSTNM": false,
                  "TUITIONFEE_IN": false,
                  "_deepnote_index_column": 45
                },
                {
                  "INSTNM": false,
                  "TUITIONFEE_IN": false,
                  "_deepnote_index_column": 46
                },
                {
                  "INSTNM": false,
                  "TUITIONFEE_IN": false,
                  "_deepnote_index_column": 47
                },
                {
                  "INSTNM": false,
                  "TUITIONFEE_IN": false,
                  "_deepnote_index_column": 48
                },
                {
                  "INSTNM": false,
                  "TUITIONFEE_IN": false,
                  "_deepnote_index_column": 49
                },
                {
                  "INSTNM": false,
                  "TUITIONFEE_IN": false,
                  "_deepnote_index_column": 50
                },
                {
                  "INSTNM": false,
                  "TUITIONFEE_IN": false,
                  "_deepnote_index_column": 51
                },
                {
                  "INSTNM": false,
                  "TUITIONFEE_IN": false,
                  "_deepnote_index_column": 52
                },
                {
                  "INSTNM": false,
                  "TUITIONFEE_IN": false,
                  "_deepnote_index_column": 53
                },
                {
                  "INSTNM": false,
                  "TUITIONFEE_IN": false,
                  "_deepnote_index_column": 54
                },
                {
                  "INSTNM": false,
                  "TUITIONFEE_IN": false,
                  "_deepnote_index_column": 55
                },
                {
                  "INSTNM": false,
                  "TUITIONFEE_IN": false,
                  "_deepnote_index_column": 56
                },
                {
                  "INSTNM": false,
                  "TUITIONFEE_IN": false,
                  "_deepnote_index_column": 57
                },
                {
                  "INSTNM": false,
                  "TUITIONFEE_IN": false,
                  "_deepnote_index_column": 58
                },
                {
                  "INSTNM": false,
                  "TUITIONFEE_IN": false,
                  "_deepnote_index_column": 60
                },
                {
                  "INSTNM": false,
                  "TUITIONFEE_IN": false,
                  "_deepnote_index_column": 61
                },
                {
                  "INSTNM": false,
                  "TUITIONFEE_IN": false,
                  "_deepnote_index_column": 62
                },
                {
                  "INSTNM": false,
                  "TUITIONFEE_IN": false,
                  "_deepnote_index_column": 63
                },
                {
                  "INSTNM": false,
                  "TUITIONFEE_IN": false,
                  "_deepnote_index_column": 64
                },
                {
                  "INSTNM": false,
                  "TUITIONFEE_IN": false,
                  "_deepnote_index_column": 66
                },
                {
                  "INSTNM": false,
                  "TUITIONFEE_IN": false,
                  "_deepnote_index_column": 67
                },
                {
                  "INSTNM": false,
                  "TUITIONFEE_IN": false,
                  "_deepnote_index_column": 69
                },
                {
                  "INSTNM": false,
                  "TUITIONFEE_IN": false,
                  "_deepnote_index_column": 70
                },
                {
                  "INSTNM": false,
                  "TUITIONFEE_IN": false,
                  "_deepnote_index_column": 74
                },
                {
                  "INSTNM": false,
                  "TUITIONFEE_IN": false,
                  "_deepnote_index_column": 79
                },
                {
                  "INSTNM": false,
                  "TUITIONFEE_IN": false,
                  "_deepnote_index_column": 81
                },
                {
                  "INSTNM": false,
                  "TUITIONFEE_IN": false,
                  "_deepnote_index_column": 82
                },
                {
                  "INSTNM": false,
                  "TUITIONFEE_IN": false,
                  "_deepnote_index_column": 83
                },
                {
                  "INSTNM": false,
                  "TUITIONFEE_IN": false,
                  "_deepnote_index_column": 84
                },
                {
                  "INSTNM": false,
                  "TUITIONFEE_IN": false,
                  "_deepnote_index_column": 86
                },
                {
                  "INSTNM": false,
                  "TUITIONFEE_IN": false,
                  "_deepnote_index_column": 87
                },
                {
                  "INSTNM": false,
                  "TUITIONFEE_IN": false,
                  "_deepnote_index_column": 89
                },
                {
                  "INSTNM": false,
                  "TUITIONFEE_IN": false,
                  "_deepnote_index_column": 93
                },
                {
                  "INSTNM": false,
                  "TUITIONFEE_IN": false,
                  "_deepnote_index_column": 95
                },
                {
                  "INSTNM": false,
                  "TUITIONFEE_IN": false,
                  "_deepnote_index_column": 96
                },
                {
                  "INSTNM": false,
                  "TUITIONFEE_IN": false,
                  "_deepnote_index_column": 97
                },
                {
                  "INSTNM": false,
                  "TUITIONFEE_IN": false,
                  "_deepnote_index_column": 98
                },
                {
                  "INSTNM": false,
                  "TUITIONFEE_IN": false,
                  "_deepnote_index_column": 104
                },
                {
                  "INSTNM": false,
                  "TUITIONFEE_IN": false,
                  "_deepnote_index_column": 105
                },
                {
                  "INSTNM": false,
                  "TUITIONFEE_IN": false,
                  "_deepnote_index_column": 106
                },
                {
                  "INSTNM": false,
                  "TUITIONFEE_IN": false,
                  "_deepnote_index_column": 107
                },
                {
                  "INSTNM": false,
                  "TUITIONFEE_IN": false,
                  "_deepnote_index_column": 108
                },
                {
                  "INSTNM": false,
                  "TUITIONFEE_IN": false,
                  "_deepnote_index_column": 110
                },
                {
                  "INSTNM": false,
                  "TUITIONFEE_IN": false,
                  "_deepnote_index_column": 111
                },
                {
                  "INSTNM": false,
                  "TUITIONFEE_IN": false,
                  "_deepnote_index_column": 112
                },
                {
                  "INSTNM": false,
                  "TUITIONFEE_IN": false,
                  "_deepnote_index_column": 115
                },
                {
                  "INSTNM": false,
                  "TUITIONFEE_IN": false,
                  "_deepnote_index_column": 117
                },
                {
                  "INSTNM": false,
                  "TUITIONFEE_IN": false,
                  "_deepnote_index_column": 118
                },
                {
                  "INSTNM": false,
                  "TUITIONFEE_IN": false,
                  "_deepnote_index_column": 121
                },
                {
                  "INSTNM": false,
                  "TUITIONFEE_IN": false,
                  "_deepnote_index_column": 123
                },
                {
                  "INSTNM": false,
                  "TUITIONFEE_IN": false,
                  "_deepnote_index_column": 126
                },
                {
                  "INSTNM": false,
                  "TUITIONFEE_IN": false,
                  "_deepnote_index_column": 127
                },
                {
                  "INSTNM": false,
                  "TUITIONFEE_IN": false,
                  "_deepnote_index_column": 128
                },
                {
                  "INSTNM": false,
                  "TUITIONFEE_IN": false,
                  "_deepnote_index_column": 131
                },
                {
                  "INSTNM": false,
                  "TUITIONFEE_IN": false,
                  "_deepnote_index_column": 133
                },
                {
                  "INSTNM": false,
                  "TUITIONFEE_IN": false,
                  "_deepnote_index_column": 134
                },
                {
                  "INSTNM": false,
                  "TUITIONFEE_IN": false,
                  "_deepnote_index_column": 137
                },
                {
                  "INSTNM": false,
                  "TUITIONFEE_IN": false,
                  "_deepnote_index_column": 140
                },
                {
                  "INSTNM": false,
                  "TUITIONFEE_IN": false,
                  "_deepnote_index_column": 143
                },
                {
                  "INSTNM": false,
                  "TUITIONFEE_IN": false,
                  "_deepnote_index_column": 144
                },
                {
                  "INSTNM": false,
                  "TUITIONFEE_IN": false,
                  "_deepnote_index_column": 145
                },
                {
                  "INSTNM": false,
                  "TUITIONFEE_IN": false,
                  "_deepnote_index_column": 146
                },
                {
                  "INSTNM": false,
                  "TUITIONFEE_IN": false,
                  "_deepnote_index_column": 147
                },
                {
                  "INSTNM": false,
                  "TUITIONFEE_IN": false,
                  "_deepnote_index_column": 148
                },
                {
                  "INSTNM": false,
                  "TUITIONFEE_IN": false,
                  "_deepnote_index_column": 152
                },
                {
                  "INSTNM": false,
                  "TUITIONFEE_IN": false,
                  "_deepnote_index_column": 153
                },
                {
                  "INSTNM": false,
                  "TUITIONFEE_IN": false,
                  "_deepnote_index_column": 154
                },
                {
                  "INSTNM": false,
                  "TUITIONFEE_IN": false,
                  "_deepnote_index_column": 156
                },
                {
                  "INSTNM": false,
                  "TUITIONFEE_IN": false,
                  "_deepnote_index_column": 157
                },
                {
                  "INSTNM": false,
                  "TUITIONFEE_IN": false,
                  "_deepnote_index_column": 158
                },
                {
                  "INSTNM": false,
                  "TUITIONFEE_IN": false,
                  "_deepnote_index_column": 160
                },
                {
                  "INSTNM": false,
                  "TUITIONFEE_IN": false,
                  "_deepnote_index_column": 162
                },
                {
                  "INSTNM": false,
                  "TUITIONFEE_IN": false,
                  "_deepnote_index_column": 163
                },
                {
                  "INSTNM": false,
                  "TUITIONFEE_IN": false,
                  "_deepnote_index_column": 164
                },
                {
                  "INSTNM": false,
                  "TUITIONFEE_IN": false,
                  "_deepnote_index_column": 165
                },
                {
                  "INSTNM": false,
                  "TUITIONFEE_IN": false,
                  "_deepnote_index_column": 166
                },
                {
                  "INSTNM": false,
                  "TUITIONFEE_IN": false,
                  "_deepnote_index_column": 169
                },
                {
                  "INSTNM": false,
                  "TUITIONFEE_IN": false,
                  "_deepnote_index_column": 174
                },
                {
                  "INSTNM": false,
                  "TUITIONFEE_IN": false,
                  "_deepnote_index_column": 175
                },
                {
                  "INSTNM": false,
                  "TUITIONFEE_IN": false,
                  "_deepnote_index_column": 178
                },
                {
                  "INSTNM": false,
                  "TUITIONFEE_IN": false,
                  "_deepnote_index_column": 179
                },
                {
                  "INSTNM": false,
                  "TUITIONFEE_IN": false,
                  "_deepnote_index_column": 180
                },
                {
                  "INSTNM": false,
                  "TUITIONFEE_IN": false,
                  "_deepnote_index_column": 181
                },
                {
                  "INSTNM": false,
                  "TUITIONFEE_IN": false,
                  "_deepnote_index_column": 182
                },
                {
                  "INSTNM": false,
                  "TUITIONFEE_IN": false,
                  "_deepnote_index_column": 183
                },
                {
                  "INSTNM": false,
                  "TUITIONFEE_IN": false,
                  "_deepnote_index_column": 184
                },
                {
                  "INSTNM": false,
                  "TUITIONFEE_IN": false,
                  "_deepnote_index_column": 185
                },
                {
                  "INSTNM": false,
                  "TUITIONFEE_IN": false,
                  "_deepnote_index_column": 186
                },
                {
                  "INSTNM": false,
                  "TUITIONFEE_IN": false,
                  "_deepnote_index_column": 187
                },
                {
                  "INSTNM": false,
                  "TUITIONFEE_IN": false,
                  "_deepnote_index_column": 189
                },
                {
                  "INSTNM": false,
                  "TUITIONFEE_IN": false,
                  "_deepnote_index_column": 190
                },
                {
                  "INSTNM": false,
                  "TUITIONFEE_IN": false,
                  "_deepnote_index_column": 191
                },
                {
                  "INSTNM": false,
                  "TUITIONFEE_IN": false,
                  "_deepnote_index_column": 194
                },
                {
                  "INSTNM": false,
                  "TUITIONFEE_IN": false,
                  "_deepnote_index_column": 195
                },
                {
                  "INSTNM": false,
                  "TUITIONFEE_IN": false,
                  "_deepnote_index_column": 196
                },
                {
                  "INSTNM": false,
                  "TUITIONFEE_IN": false,
                  "_deepnote_index_column": 197
                },
                {
                  "INSTNM": false,
                  "TUITIONFEE_IN": false,
                  "_deepnote_index_column": 199
                },
                {
                  "INSTNM": false,
                  "TUITIONFEE_IN": false,
                  "_deepnote_index_column": 201
                },
                {
                  "INSTNM": false,
                  "TUITIONFEE_IN": false,
                  "_deepnote_index_column": 202
                },
                {
                  "INSTNM": false,
                  "TUITIONFEE_IN": false,
                  "_deepnote_index_column": 206
                },
                {
                  "INSTNM": false,
                  "TUITIONFEE_IN": false,
                  "_deepnote_index_column": 207
                },
                {
                  "INSTNM": false,
                  "TUITIONFEE_IN": false,
                  "_deepnote_index_column": 208
                },
                {
                  "INSTNM": false,
                  "TUITIONFEE_IN": false,
                  "_deepnote_index_column": 212
                },
                {
                  "INSTNM": false,
                  "TUITIONFEE_IN": false,
                  "_deepnote_index_column": 215
                },
                {
                  "INSTNM": false,
                  "TUITIONFEE_IN": false,
                  "_deepnote_index_column": 217
                },
                {
                  "INSTNM": false,
                  "TUITIONFEE_IN": false,
                  "_deepnote_index_column": 218
                },
                {
                  "INSTNM": false,
                  "TUITIONFEE_IN": false,
                  "_deepnote_index_column": 221
                },
                {
                  "INSTNM": false,
                  "TUITIONFEE_IN": false,
                  "_deepnote_index_column": 222
                },
                {
                  "INSTNM": false,
                  "TUITIONFEE_IN": false,
                  "_deepnote_index_column": 224
                },
                {
                  "INSTNM": false,
                  "TUITIONFEE_IN": false,
                  "_deepnote_index_column": 226
                },
                {
                  "INSTNM": false,
                  "TUITIONFEE_IN": false,
                  "_deepnote_index_column": 227
                },
                {
                  "INSTNM": false,
                  "TUITIONFEE_IN": false,
                  "_deepnote_index_column": 228
                },
                {
                  "INSTNM": false,
                  "TUITIONFEE_IN": false,
                  "_deepnote_index_column": 230
                },
                {
                  "INSTNM": false,
                  "TUITIONFEE_IN": false,
                  "_deepnote_index_column": 232
                },
                {
                  "INSTNM": false,
                  "TUITIONFEE_IN": false,
                  "_deepnote_index_column": 233
                },
                {
                  "INSTNM": false,
                  "TUITIONFEE_IN": false,
                  "_deepnote_index_column": 236
                },
                {
                  "INSTNM": false,
                  "TUITIONFEE_IN": false,
                  "_deepnote_index_column": 237
                },
                {
                  "INSTNM": false,
                  "TUITIONFEE_IN": false,
                  "_deepnote_index_column": 238
                },
                {
                  "INSTNM": false,
                  "TUITIONFEE_IN": false,
                  "_deepnote_index_column": 240
                },
                {
                  "INSTNM": false,
                  "TUITIONFEE_IN": false,
                  "_deepnote_index_column": 241
                },
                {
                  "INSTNM": false,
                  "TUITIONFEE_IN": false,
                  "_deepnote_index_column": 242
                },
                {
                  "INSTNM": false,
                  "TUITIONFEE_IN": false,
                  "_deepnote_index_column": 244
                },
                {
                  "INSTNM": false,
                  "TUITIONFEE_IN": false,
                  "_deepnote_index_column": 245
                },
                {
                  "INSTNM": false,
                  "TUITIONFEE_IN": false,
                  "_deepnote_index_column": 246
                },
                {
                  "INSTNM": false,
                  "TUITIONFEE_IN": false,
                  "_deepnote_index_column": 247
                },
                {
                  "INSTNM": false,
                  "TUITIONFEE_IN": false,
                  "_deepnote_index_column": 248
                },
                {
                  "INSTNM": false,
                  "TUITIONFEE_IN": false,
                  "_deepnote_index_column": 249
                },
                {
                  "INSTNM": false,
                  "TUITIONFEE_IN": false,
                  "_deepnote_index_column": 250
                },
                {
                  "INSTNM": false,
                  "TUITIONFEE_IN": false,
                  "_deepnote_index_column": 251
                },
                {
                  "INSTNM": false,
                  "TUITIONFEE_IN": false,
                  "_deepnote_index_column": 252
                },
                {
                  "INSTNM": false,
                  "TUITIONFEE_IN": false,
                  "_deepnote_index_column": 253
                },
                {
                  "INSTNM": false,
                  "TUITIONFEE_IN": false,
                  "_deepnote_index_column": 254
                },
                {
                  "INSTNM": false,
                  "TUITIONFEE_IN": false,
                  "_deepnote_index_column": 255
                },
                {
                  "INSTNM": false,
                  "TUITIONFEE_IN": false,
                  "_deepnote_index_column": 256
                },
                {
                  "INSTNM": false,
                  "TUITIONFEE_IN": false,
                  "_deepnote_index_column": 257
                },
                {
                  "INSTNM": false,
                  "TUITIONFEE_IN": false,
                  "_deepnote_index_column": 258
                },
                {
                  "INSTNM": false,
                  "TUITIONFEE_IN": false,
                  "_deepnote_index_column": 259
                },
                {
                  "INSTNM": false,
                  "TUITIONFEE_IN": false,
                  "_deepnote_index_column": 260
                },
                {
                  "INSTNM": false,
                  "TUITIONFEE_IN": false,
                  "_deepnote_index_column": 261
                },
                {
                  "INSTNM": false,
                  "TUITIONFEE_IN": false,
                  "_deepnote_index_column": 262
                },
                {
                  "INSTNM": false,
                  "TUITIONFEE_IN": false,
                  "_deepnote_index_column": 264
                },
                {
                  "INSTNM": false,
                  "TUITIONFEE_IN": false,
                  "_deepnote_index_column": 265
                },
                {
                  "INSTNM": false,
                  "TUITIONFEE_IN": false,
                  "_deepnote_index_column": 268
                },
                {
                  "INSTNM": false,
                  "TUITIONFEE_IN": false,
                  "_deepnote_index_column": 272
                },
                {
                  "INSTNM": false,
                  "TUITIONFEE_IN": false,
                  "_deepnote_index_column": 273
                },
                {
                  "INSTNM": false,
                  "TUITIONFEE_IN": false,
                  "_deepnote_index_column": 275
                },
                {
                  "INSTNM": false,
                  "TUITIONFEE_IN": false,
                  "_deepnote_index_column": 276
                },
                {
                  "INSTNM": false,
                  "TUITIONFEE_IN": false,
                  "_deepnote_index_column": 286
                },
                {
                  "INSTNM": false,
                  "TUITIONFEE_IN": false,
                  "_deepnote_index_column": 287
                },
                {
                  "INSTNM": false,
                  "TUITIONFEE_IN": false,
                  "_deepnote_index_column": 288
                },
                {
                  "INSTNM": false,
                  "TUITIONFEE_IN": false,
                  "_deepnote_index_column": 289
                },
                {
                  "INSTNM": false,
                  "TUITIONFEE_IN": false,
                  "_deepnote_index_column": 290
                },
                {
                  "INSTNM": false,
                  "TUITIONFEE_IN": false,
                  "_deepnote_index_column": 291
                },
                {
                  "INSTNM": false,
                  "TUITIONFEE_IN": false,
                  "_deepnote_index_column": 292
                },
                {
                  "INSTNM": false,
                  "TUITIONFEE_IN": false,
                  "_deepnote_index_column": 293
                },
                {
                  "INSTNM": false,
                  "TUITIONFEE_IN": false,
                  "_deepnote_index_column": 295
                },
                {
                  "INSTNM": false,
                  "TUITIONFEE_IN": false,
                  "_deepnote_index_column": 296
                },
                {
                  "INSTNM": false,
                  "TUITIONFEE_IN": false,
                  "_deepnote_index_column": 298
                },
                {
                  "INSTNM": false,
                  "TUITIONFEE_IN": false,
                  "_deepnote_index_column": 300
                },
                {
                  "INSTNM": false,
                  "TUITIONFEE_IN": false,
                  "_deepnote_index_column": 302
                },
                {
                  "INSTNM": false,
                  "TUITIONFEE_IN": false,
                  "_deepnote_index_column": 303
                },
                {
                  "INSTNM": false,
                  "TUITIONFEE_IN": false,
                  "_deepnote_index_column": 304
                },
                {
                  "INSTNM": false,
                  "TUITIONFEE_IN": false,
                  "_deepnote_index_column": 308
                },
                {
                  "INSTNM": false,
                  "TUITIONFEE_IN": false,
                  "_deepnote_index_column": 309
                },
                {
                  "INSTNM": false,
                  "TUITIONFEE_IN": false,
                  "_deepnote_index_column": 310
                },
                {
                  "INSTNM": false,
                  "TUITIONFEE_IN": false,
                  "_deepnote_index_column": 312
                },
                {
                  "INSTNM": false,
                  "TUITIONFEE_IN": false,
                  "_deepnote_index_column": 313
                },
                {
                  "INSTNM": false,
                  "TUITIONFEE_IN": false,
                  "_deepnote_index_column": 314
                },
                {
                  "INSTNM": false,
                  "TUITIONFEE_IN": false,
                  "_deepnote_index_column": 315
                },
                {
                  "INSTNM": false,
                  "TUITIONFEE_IN": false,
                  "_deepnote_index_column": 316
                },
                {
                  "INSTNM": false,
                  "TUITIONFEE_IN": false,
                  "_deepnote_index_column": 318
                },
                {
                  "INSTNM": false,
                  "TUITIONFEE_IN": false,
                  "_deepnote_index_column": 319
                },
                {
                  "INSTNM": false,
                  "TUITIONFEE_IN": false,
                  "_deepnote_index_column": 322
                },
                {
                  "INSTNM": false,
                  "TUITIONFEE_IN": false,
                  "_deepnote_index_column": 323
                },
                {
                  "INSTNM": false,
                  "TUITIONFEE_IN": false,
                  "_deepnote_index_column": 324
                },
                {
                  "INSTNM": false,
                  "TUITIONFEE_IN": false,
                  "_deepnote_index_column": 325
                },
                {
                  "INSTNM": false,
                  "TUITIONFEE_IN": false,
                  "_deepnote_index_column": 326
                },
                {
                  "INSTNM": false,
                  "TUITIONFEE_IN": false,
                  "_deepnote_index_column": 327
                },
                {
                  "INSTNM": false,
                  "TUITIONFEE_IN": false,
                  "_deepnote_index_column": 329
                },
                {
                  "INSTNM": false,
                  "TUITIONFEE_IN": false,
                  "_deepnote_index_column": 332
                },
                {
                  "INSTNM": false,
                  "TUITIONFEE_IN": false,
                  "_deepnote_index_column": 339
                },
                {
                  "INSTNM": false,
                  "TUITIONFEE_IN": false,
                  "_deepnote_index_column": 340
                },
                {
                  "INSTNM": false,
                  "TUITIONFEE_IN": false,
                  "_deepnote_index_column": 341
                },
                {
                  "INSTNM": false,
                  "TUITIONFEE_IN": false,
                  "_deepnote_index_column": 342
                },
                {
                  "INSTNM": false,
                  "TUITIONFEE_IN": false,
                  "_deepnote_index_column": 343
                },
                {
                  "INSTNM": false,
                  "TUITIONFEE_IN": false,
                  "_deepnote_index_column": 344
                },
                {
                  "INSTNM": false,
                  "TUITIONFEE_IN": false,
                  "_deepnote_index_column": 349
                },
                {
                  "INSTNM": false,
                  "TUITIONFEE_IN": false,
                  "_deepnote_index_column": 352
                },
                {
                  "INSTNM": false,
                  "TUITIONFEE_IN": false,
                  "_deepnote_index_column": 353
                },
                {
                  "INSTNM": false,
                  "TUITIONFEE_IN": false,
                  "_deepnote_index_column": 355
                },
                {
                  "INSTNM": false,
                  "TUITIONFEE_IN": false,
                  "_deepnote_index_column": 358
                },
                {
                  "INSTNM": false,
                  "TUITIONFEE_IN": false,
                  "_deepnote_index_column": 360
                },
                {
                  "INSTNM": false,
                  "TUITIONFEE_IN": false,
                  "_deepnote_index_column": 363
                },
                {
                  "INSTNM": false,
                  "TUITIONFEE_IN": false,
                  "_deepnote_index_column": 365
                },
                {
                  "INSTNM": false,
                  "TUITIONFEE_IN": false,
                  "_deepnote_index_column": 368
                },
                {
                  "INSTNM": false,
                  "TUITIONFEE_IN": false,
                  "_deepnote_index_column": 369
                },
                {
                  "INSTNM": false,
                  "TUITIONFEE_IN": false,
                  "_deepnote_index_column": 370
                },
                {
                  "INSTNM": false,
                  "TUITIONFEE_IN": false,
                  "_deepnote_index_column": 371
                },
                {
                  "INSTNM": false,
                  "TUITIONFEE_IN": false,
                  "_deepnote_index_column": 372
                },
                {
                  "INSTNM": false,
                  "TUITIONFEE_IN": false,
                  "_deepnote_index_column": 373
                },
                {
                  "INSTNM": false,
                  "TUITIONFEE_IN": false,
                  "_deepnote_index_column": 374
                },
                {
                  "INSTNM": false,
                  "TUITIONFEE_IN": false,
                  "_deepnote_index_column": 376
                },
                {
                  "INSTNM": false,
                  "TUITIONFEE_IN": false,
                  "_deepnote_index_column": 378
                },
                {
                  "INSTNM": false,
                  "TUITIONFEE_IN": false,
                  "_deepnote_index_column": 379
                },
                {
                  "INSTNM": false,
                  "TUITIONFEE_IN": false,
                  "_deepnote_index_column": 380
                },
                {
                  "INSTNM": false,
                  "TUITIONFEE_IN": false,
                  "_deepnote_index_column": 385
                },
                {
                  "INSTNM": false,
                  "TUITIONFEE_IN": false,
                  "_deepnote_index_column": 386
                },
                {
                  "INSTNM": false,
                  "TUITIONFEE_IN": false,
                  "_deepnote_index_column": 387
                }
              ],
              "rows_bottom": [
                {
                  "INSTNM": false,
                  "TUITIONFEE_IN": false,
                  "_deepnote_index_column": 6453
                },
                {
                  "INSTNM": false,
                  "TUITIONFEE_IN": false,
                  "_deepnote_index_column": 6454
                },
                {
                  "INSTNM": false,
                  "TUITIONFEE_IN": false,
                  "_deepnote_index_column": 6455
                },
                {
                  "INSTNM": false,
                  "TUITIONFEE_IN": false,
                  "_deepnote_index_column": 6456
                },
                {
                  "INSTNM": false,
                  "TUITIONFEE_IN": false,
                  "_deepnote_index_column": 6462
                },
                {
                  "INSTNM": false,
                  "TUITIONFEE_IN": false,
                  "_deepnote_index_column": 6464
                },
                {
                  "INSTNM": false,
                  "TUITIONFEE_IN": false,
                  "_deepnote_index_column": 6468
                },
                {
                  "INSTNM": false,
                  "TUITIONFEE_IN": false,
                  "_deepnote_index_column": 6476
                },
                {
                  "INSTNM": false,
                  "TUITIONFEE_IN": false,
                  "_deepnote_index_column": 6481
                },
                {
                  "INSTNM": false,
                  "TUITIONFEE_IN": false,
                  "_deepnote_index_column": 6486
                },
                {
                  "INSTNM": false,
                  "TUITIONFEE_IN": false,
                  "_deepnote_index_column": 6490
                },
                {
                  "INSTNM": false,
                  "TUITIONFEE_IN": false,
                  "_deepnote_index_column": 6492
                },
                {
                  "INSTNM": false,
                  "TUITIONFEE_IN": false,
                  "_deepnote_index_column": 6497
                },
                {
                  "INSTNM": false,
                  "TUITIONFEE_IN": false,
                  "_deepnote_index_column": 6498
                },
                {
                  "INSTNM": false,
                  "TUITIONFEE_IN": false,
                  "_deepnote_index_column": 6502
                },
                {
                  "INSTNM": false,
                  "TUITIONFEE_IN": false,
                  "_deepnote_index_column": 6503
                },
                {
                  "INSTNM": false,
                  "TUITIONFEE_IN": false,
                  "_deepnote_index_column": 6504
                },
                {
                  "INSTNM": false,
                  "TUITIONFEE_IN": false,
                  "_deepnote_index_column": 6506
                },
                {
                  "INSTNM": false,
                  "TUITIONFEE_IN": false,
                  "_deepnote_index_column": 6507
                },
                {
                  "INSTNM": false,
                  "TUITIONFEE_IN": false,
                  "_deepnote_index_column": 6508
                },
                {
                  "INSTNM": false,
                  "TUITIONFEE_IN": false,
                  "_deepnote_index_column": 6509
                },
                {
                  "INSTNM": false,
                  "TUITIONFEE_IN": false,
                  "_deepnote_index_column": 6515
                },
                {
                  "INSTNM": false,
                  "TUITIONFEE_IN": false,
                  "_deepnote_index_column": 6524
                },
                {
                  "INSTNM": false,
                  "TUITIONFEE_IN": false,
                  "_deepnote_index_column": 6526
                },
                {
                  "INSTNM": false,
                  "TUITIONFEE_IN": false,
                  "_deepnote_index_column": 6529
                },
                {
                  "INSTNM": false,
                  "TUITIONFEE_IN": false,
                  "_deepnote_index_column": 6532
                },
                {
                  "INSTNM": false,
                  "TUITIONFEE_IN": false,
                  "_deepnote_index_column": 6533
                },
                {
                  "INSTNM": false,
                  "TUITIONFEE_IN": false,
                  "_deepnote_index_column": 6550
                },
                {
                  "INSTNM": false,
                  "TUITIONFEE_IN": false,
                  "_deepnote_index_column": 6560
                },
                {
                  "INSTNM": false,
                  "TUITIONFEE_IN": false,
                  "_deepnote_index_column": 6564
                },
                {
                  "INSTNM": false,
                  "TUITIONFEE_IN": false,
                  "_deepnote_index_column": 6565
                },
                {
                  "INSTNM": false,
                  "TUITIONFEE_IN": false,
                  "_deepnote_index_column": 6567
                },
                {
                  "INSTNM": false,
                  "TUITIONFEE_IN": false,
                  "_deepnote_index_column": 6569
                },
                {
                  "INSTNM": false,
                  "TUITIONFEE_IN": false,
                  "_deepnote_index_column": 6570
                },
                {
                  "INSTNM": false,
                  "TUITIONFEE_IN": false,
                  "_deepnote_index_column": 6572
                },
                {
                  "INSTNM": false,
                  "TUITIONFEE_IN": false,
                  "_deepnote_index_column": 6575
                },
                {
                  "INSTNM": false,
                  "TUITIONFEE_IN": false,
                  "_deepnote_index_column": 6576
                },
                {
                  "INSTNM": false,
                  "TUITIONFEE_IN": false,
                  "_deepnote_index_column": 6577
                },
                {
                  "INSTNM": false,
                  "TUITIONFEE_IN": false,
                  "_deepnote_index_column": 6578
                },
                {
                  "INSTNM": false,
                  "TUITIONFEE_IN": false,
                  "_deepnote_index_column": 6579
                },
                {
                  "INSTNM": false,
                  "TUITIONFEE_IN": false,
                  "_deepnote_index_column": 6580
                },
                {
                  "INSTNM": false,
                  "TUITIONFEE_IN": false,
                  "_deepnote_index_column": 6581
                },
                {
                  "INSTNM": false,
                  "TUITIONFEE_IN": false,
                  "_deepnote_index_column": 6582
                },
                {
                  "INSTNM": false,
                  "TUITIONFEE_IN": false,
                  "_deepnote_index_column": 6583
                },
                {
                  "INSTNM": false,
                  "TUITIONFEE_IN": false,
                  "_deepnote_index_column": 6584
                },
                {
                  "INSTNM": false,
                  "TUITIONFEE_IN": false,
                  "_deepnote_index_column": 6587
                },
                {
                  "INSTNM": false,
                  "TUITIONFEE_IN": false,
                  "_deepnote_index_column": 6588
                },
                {
                  "INSTNM": false,
                  "TUITIONFEE_IN": false,
                  "_deepnote_index_column": 6589
                },
                {
                  "INSTNM": false,
                  "TUITIONFEE_IN": false,
                  "_deepnote_index_column": 6590
                },
                {
                  "INSTNM": false,
                  "TUITIONFEE_IN": false,
                  "_deepnote_index_column": 6591
                },
                {
                  "INSTNM": false,
                  "TUITIONFEE_IN": false,
                  "_deepnote_index_column": 6596
                },
                {
                  "INSTNM": false,
                  "TUITIONFEE_IN": false,
                  "_deepnote_index_column": 6597
                },
                {
                  "INSTNM": false,
                  "TUITIONFEE_IN": false,
                  "_deepnote_index_column": 6602
                },
                {
                  "INSTNM": false,
                  "TUITIONFEE_IN": false,
                  "_deepnote_index_column": 6603
                },
                {
                  "INSTNM": false,
                  "TUITIONFEE_IN": false,
                  "_deepnote_index_column": 6605
                },
                {
                  "INSTNM": false,
                  "TUITIONFEE_IN": false,
                  "_deepnote_index_column": 6608
                },
                {
                  "INSTNM": false,
                  "TUITIONFEE_IN": false,
                  "_deepnote_index_column": 6609
                },
                {
                  "INSTNM": false,
                  "TUITIONFEE_IN": false,
                  "_deepnote_index_column": 6610
                },
                {
                  "INSTNM": false,
                  "TUITIONFEE_IN": false,
                  "_deepnote_index_column": 6612
                },
                {
                  "INSTNM": false,
                  "TUITIONFEE_IN": false,
                  "_deepnote_index_column": 6617
                },
                {
                  "INSTNM": false,
                  "TUITIONFEE_IN": false,
                  "_deepnote_index_column": 6618
                },
                {
                  "INSTNM": false,
                  "TUITIONFEE_IN": false,
                  "_deepnote_index_column": 6620
                },
                {
                  "INSTNM": false,
                  "TUITIONFEE_IN": false,
                  "_deepnote_index_column": 6621
                },
                {
                  "INSTNM": false,
                  "TUITIONFEE_IN": false,
                  "_deepnote_index_column": 6622
                },
                {
                  "INSTNM": false,
                  "TUITIONFEE_IN": false,
                  "_deepnote_index_column": 6623
                },
                {
                  "INSTNM": false,
                  "TUITIONFEE_IN": false,
                  "_deepnote_index_column": 6624
                },
                {
                  "INSTNM": false,
                  "TUITIONFEE_IN": false,
                  "_deepnote_index_column": 6625
                },
                {
                  "INSTNM": false,
                  "TUITIONFEE_IN": false,
                  "_deepnote_index_column": 6626
                },
                {
                  "INSTNM": false,
                  "TUITIONFEE_IN": false,
                  "_deepnote_index_column": 6639
                },
                {
                  "INSTNM": false,
                  "TUITIONFEE_IN": false,
                  "_deepnote_index_column": 6643
                },
                {
                  "INSTNM": false,
                  "TUITIONFEE_IN": false,
                  "_deepnote_index_column": 6647
                },
                {
                  "INSTNM": false,
                  "TUITIONFEE_IN": false,
                  "_deepnote_index_column": 6673
                },
                {
                  "INSTNM": false,
                  "TUITIONFEE_IN": false,
                  "_deepnote_index_column": 6676
                },
                {
                  "INSTNM": false,
                  "TUITIONFEE_IN": false,
                  "_deepnote_index_column": 6678
                },
                {
                  "INSTNM": false,
                  "TUITIONFEE_IN": false,
                  "_deepnote_index_column": 6679
                },
                {
                  "INSTNM": false,
                  "TUITIONFEE_IN": false,
                  "_deepnote_index_column": 6681
                },
                {
                  "INSTNM": false,
                  "TUITIONFEE_IN": false,
                  "_deepnote_index_column": 6684
                },
                {
                  "INSTNM": false,
                  "TUITIONFEE_IN": false,
                  "_deepnote_index_column": 6689
                },
                {
                  "INSTNM": false,
                  "TUITIONFEE_IN": false,
                  "_deepnote_index_column": 6694
                },
                {
                  "INSTNM": false,
                  "TUITIONFEE_IN": false,
                  "_deepnote_index_column": 6695
                },
                {
                  "INSTNM": false,
                  "TUITIONFEE_IN": false,
                  "_deepnote_index_column": 6702
                },
                {
                  "INSTNM": false,
                  "TUITIONFEE_IN": false,
                  "_deepnote_index_column": 6704
                },
                {
                  "INSTNM": false,
                  "TUITIONFEE_IN": false,
                  "_deepnote_index_column": 6705
                },
                {
                  "INSTNM": false,
                  "TUITIONFEE_IN": false,
                  "_deepnote_index_column": 6706
                },
                {
                  "INSTNM": false,
                  "TUITIONFEE_IN": false,
                  "_deepnote_index_column": 6707
                },
                {
                  "INSTNM": false,
                  "TUITIONFEE_IN": false,
                  "_deepnote_index_column": 6708
                },
                {
                  "INSTNM": false,
                  "TUITIONFEE_IN": false,
                  "_deepnote_index_column": 6709
                },
                {
                  "INSTNM": false,
                  "TUITIONFEE_IN": false,
                  "_deepnote_index_column": 6710
                },
                {
                  "INSTNM": false,
                  "TUITIONFEE_IN": false,
                  "_deepnote_index_column": 6711
                },
                {
                  "INSTNM": false,
                  "TUITIONFEE_IN": false,
                  "_deepnote_index_column": 6712
                },
                {
                  "INSTNM": false,
                  "TUITIONFEE_IN": false,
                  "_deepnote_index_column": 6713
                },
                {
                  "INSTNM": false,
                  "TUITIONFEE_IN": false,
                  "_deepnote_index_column": 6716
                },
                {
                  "INSTNM": false,
                  "TUITIONFEE_IN": false,
                  "_deepnote_index_column": 6719
                },
                {
                  "INSTNM": false,
                  "TUITIONFEE_IN": false,
                  "_deepnote_index_column": 6720
                },
                {
                  "INSTNM": false,
                  "TUITIONFEE_IN": false,
                  "_deepnote_index_column": 6721
                },
                {
                  "INSTNM": false,
                  "TUITIONFEE_IN": false,
                  "_deepnote_index_column": 6722
                },
                {
                  "INSTNM": false,
                  "TUITIONFEE_IN": false,
                  "_deepnote_index_column": 6723
                },
                {
                  "INSTNM": false,
                  "TUITIONFEE_IN": false,
                  "_deepnote_index_column": 6724
                },
                {
                  "INSTNM": false,
                  "TUITIONFEE_IN": false,
                  "_deepnote_index_column": 6725
                },
                {
                  "INSTNM": false,
                  "TUITIONFEE_IN": false,
                  "_deepnote_index_column": 6728
                },
                {
                  "INSTNM": false,
                  "TUITIONFEE_IN": false,
                  "_deepnote_index_column": 6730
                },
                {
                  "INSTNM": false,
                  "TUITIONFEE_IN": false,
                  "_deepnote_index_column": 6733
                },
                {
                  "INSTNM": false,
                  "TUITIONFEE_IN": false,
                  "_deepnote_index_column": 6734
                },
                {
                  "INSTNM": false,
                  "TUITIONFEE_IN": false,
                  "_deepnote_index_column": 6735
                },
                {
                  "INSTNM": false,
                  "TUITIONFEE_IN": false,
                  "_deepnote_index_column": 6736
                },
                {
                  "INSTNM": false,
                  "TUITIONFEE_IN": false,
                  "_deepnote_index_column": 6737
                },
                {
                  "INSTNM": false,
                  "TUITIONFEE_IN": false,
                  "_deepnote_index_column": 6738
                },
                {
                  "INSTNM": false,
                  "TUITIONFEE_IN": false,
                  "_deepnote_index_column": 6739
                },
                {
                  "INSTNM": false,
                  "TUITIONFEE_IN": false,
                  "_deepnote_index_column": 6740
                },
                {
                  "INSTNM": false,
                  "TUITIONFEE_IN": false,
                  "_deepnote_index_column": 6742
                },
                {
                  "INSTNM": false,
                  "TUITIONFEE_IN": false,
                  "_deepnote_index_column": 6746
                },
                {
                  "INSTNM": false,
                  "TUITIONFEE_IN": false,
                  "_deepnote_index_column": 6748
                },
                {
                  "INSTNM": false,
                  "TUITIONFEE_IN": false,
                  "_deepnote_index_column": 6778
                },
                {
                  "INSTNM": false,
                  "TUITIONFEE_IN": false,
                  "_deepnote_index_column": 6779
                },
                {
                  "INSTNM": false,
                  "TUITIONFEE_IN": false,
                  "_deepnote_index_column": 6780
                },
                {
                  "INSTNM": false,
                  "TUITIONFEE_IN": false,
                  "_deepnote_index_column": 6782
                },
                {
                  "INSTNM": false,
                  "TUITIONFEE_IN": false,
                  "_deepnote_index_column": 6783
                },
                {
                  "INSTNM": false,
                  "TUITIONFEE_IN": false,
                  "_deepnote_index_column": 6784
                },
                {
                  "INSTNM": false,
                  "TUITIONFEE_IN": false,
                  "_deepnote_index_column": 6785
                },
                {
                  "INSTNM": false,
                  "TUITIONFEE_IN": false,
                  "_deepnote_index_column": 6786
                },
                {
                  "INSTNM": false,
                  "TUITIONFEE_IN": false,
                  "_deepnote_index_column": 6787
                },
                {
                  "INSTNM": false,
                  "TUITIONFEE_IN": false,
                  "_deepnote_index_column": 6788
                },
                {
                  "INSTNM": false,
                  "TUITIONFEE_IN": false,
                  "_deepnote_index_column": 6789
                },
                {
                  "INSTNM": false,
                  "TUITIONFEE_IN": false,
                  "_deepnote_index_column": 6802
                },
                {
                  "INSTNM": false,
                  "TUITIONFEE_IN": false,
                  "_deepnote_index_column": 6803
                },
                {
                  "INSTNM": false,
                  "TUITIONFEE_IN": false,
                  "_deepnote_index_column": 6805
                },
                {
                  "INSTNM": false,
                  "TUITIONFEE_IN": false,
                  "_deepnote_index_column": 6807
                },
                {
                  "INSTNM": false,
                  "TUITIONFEE_IN": false,
                  "_deepnote_index_column": 6808
                },
                {
                  "INSTNM": false,
                  "TUITIONFEE_IN": false,
                  "_deepnote_index_column": 6809
                },
                {
                  "INSTNM": false,
                  "TUITIONFEE_IN": false,
                  "_deepnote_index_column": 6810
                },
                {
                  "INSTNM": false,
                  "TUITIONFEE_IN": false,
                  "_deepnote_index_column": 6818
                },
                {
                  "INSTNM": false,
                  "TUITIONFEE_IN": false,
                  "_deepnote_index_column": 6819
                },
                {
                  "INSTNM": false,
                  "TUITIONFEE_IN": false,
                  "_deepnote_index_column": 6820
                },
                {
                  "INSTNM": false,
                  "TUITIONFEE_IN": false,
                  "_deepnote_index_column": 6821
                },
                {
                  "INSTNM": false,
                  "TUITIONFEE_IN": false,
                  "_deepnote_index_column": 6822
                },
                {
                  "INSTNM": false,
                  "TUITIONFEE_IN": false,
                  "_deepnote_index_column": 6823
                },
                {
                  "INSTNM": false,
                  "TUITIONFEE_IN": false,
                  "_deepnote_index_column": 6824
                },
                {
                  "INSTNM": false,
                  "TUITIONFEE_IN": false,
                  "_deepnote_index_column": 6825
                },
                {
                  "INSTNM": false,
                  "TUITIONFEE_IN": false,
                  "_deepnote_index_column": 6826
                },
                {
                  "INSTNM": false,
                  "TUITIONFEE_IN": false,
                  "_deepnote_index_column": 6827
                },
                {
                  "INSTNM": false,
                  "TUITIONFEE_IN": false,
                  "_deepnote_index_column": 6828
                },
                {
                  "INSTNM": false,
                  "TUITIONFEE_IN": false,
                  "_deepnote_index_column": 6829
                },
                {
                  "INSTNM": false,
                  "TUITIONFEE_IN": false,
                  "_deepnote_index_column": 6830
                },
                {
                  "INSTNM": false,
                  "TUITIONFEE_IN": false,
                  "_deepnote_index_column": 6831
                },
                {
                  "INSTNM": false,
                  "TUITIONFEE_IN": false,
                  "_deepnote_index_column": 6832
                },
                {
                  "INSTNM": false,
                  "TUITIONFEE_IN": false,
                  "_deepnote_index_column": 6833
                },
                {
                  "INSTNM": false,
                  "TUITIONFEE_IN": false,
                  "_deepnote_index_column": 6834
                },
                {
                  "INSTNM": false,
                  "TUITIONFEE_IN": false,
                  "_deepnote_index_column": 6835
                },
                {
                  "INSTNM": false,
                  "TUITIONFEE_IN": false,
                  "_deepnote_index_column": 6836
                },
                {
                  "INSTNM": false,
                  "TUITIONFEE_IN": false,
                  "_deepnote_index_column": 6837
                },
                {
                  "INSTNM": false,
                  "TUITIONFEE_IN": false,
                  "_deepnote_index_column": 6838
                },
                {
                  "INSTNM": false,
                  "TUITIONFEE_IN": false,
                  "_deepnote_index_column": 6839
                },
                {
                  "INSTNM": false,
                  "TUITIONFEE_IN": false,
                  "_deepnote_index_column": 6840
                },
                {
                  "INSTNM": false,
                  "TUITIONFEE_IN": false,
                  "_deepnote_index_column": 6841
                },
                {
                  "INSTNM": false,
                  "TUITIONFEE_IN": false,
                  "_deepnote_index_column": 6842
                },
                {
                  "INSTNM": false,
                  "TUITIONFEE_IN": false,
                  "_deepnote_index_column": 6843
                },
                {
                  "INSTNM": false,
                  "TUITIONFEE_IN": false,
                  "_deepnote_index_column": 6844
                },
                {
                  "INSTNM": false,
                  "TUITIONFEE_IN": false,
                  "_deepnote_index_column": 6845
                },
                {
                  "INSTNM": false,
                  "TUITIONFEE_IN": false,
                  "_deepnote_index_column": 6846
                },
                {
                  "INSTNM": false,
                  "TUITIONFEE_IN": false,
                  "_deepnote_index_column": 6847
                },
                {
                  "INSTNM": false,
                  "TUITIONFEE_IN": false,
                  "_deepnote_index_column": 6848
                },
                {
                  "INSTNM": false,
                  "TUITIONFEE_IN": false,
                  "_deepnote_index_column": 6849
                },
                {
                  "INSTNM": false,
                  "TUITIONFEE_IN": false,
                  "_deepnote_index_column": 6850
                },
                {
                  "INSTNM": false,
                  "TUITIONFEE_IN": false,
                  "_deepnote_index_column": 6851
                },
                {
                  "INSTNM": false,
                  "TUITIONFEE_IN": false,
                  "_deepnote_index_column": 6852
                },
                {
                  "INSTNM": false,
                  "TUITIONFEE_IN": false,
                  "_deepnote_index_column": 6853
                },
                {
                  "INSTNM": false,
                  "TUITIONFEE_IN": false,
                  "_deepnote_index_column": 6854
                },
                {
                  "INSTNM": false,
                  "TUITIONFEE_IN": false,
                  "_deepnote_index_column": 6855
                },
                {
                  "INSTNM": false,
                  "TUITIONFEE_IN": false,
                  "_deepnote_index_column": 6856
                },
                {
                  "INSTNM": false,
                  "TUITIONFEE_IN": false,
                  "_deepnote_index_column": 6857
                },
                {
                  "INSTNM": false,
                  "TUITIONFEE_IN": false,
                  "_deepnote_index_column": 6858
                },
                {
                  "INSTNM": false,
                  "TUITIONFEE_IN": false,
                  "_deepnote_index_column": 6859
                },
                {
                  "INSTNM": false,
                  "TUITIONFEE_IN": false,
                  "_deepnote_index_column": 6860
                },
                {
                  "INSTNM": false,
                  "TUITIONFEE_IN": false,
                  "_deepnote_index_column": 6861
                },
                {
                  "INSTNM": false,
                  "TUITIONFEE_IN": false,
                  "_deepnote_index_column": 6862
                },
                {
                  "INSTNM": false,
                  "TUITIONFEE_IN": false,
                  "_deepnote_index_column": 6863
                },
                {
                  "INSTNM": false,
                  "TUITIONFEE_IN": false,
                  "_deepnote_index_column": 6864
                },
                {
                  "INSTNM": false,
                  "TUITIONFEE_IN": false,
                  "_deepnote_index_column": 6865
                },
                {
                  "INSTNM": false,
                  "TUITIONFEE_IN": false,
                  "_deepnote_index_column": 6866
                },
                {
                  "INSTNM": false,
                  "TUITIONFEE_IN": false,
                  "_deepnote_index_column": 6867
                },
                {
                  "INSTNM": false,
                  "TUITIONFEE_IN": false,
                  "_deepnote_index_column": 6868
                },
                {
                  "INSTNM": false,
                  "TUITIONFEE_IN": false,
                  "_deepnote_index_column": 6869
                },
                {
                  "INSTNM": false,
                  "TUITIONFEE_IN": false,
                  "_deepnote_index_column": 6870
                },
                {
                  "INSTNM": false,
                  "TUITIONFEE_IN": false,
                  "_deepnote_index_column": 6871
                },
                {
                  "INSTNM": false,
                  "TUITIONFEE_IN": false,
                  "_deepnote_index_column": 6872
                },
                {
                  "INSTNM": false,
                  "TUITIONFEE_IN": false,
                  "_deepnote_index_column": 6873
                },
                {
                  "INSTNM": false,
                  "TUITIONFEE_IN": false,
                  "_deepnote_index_column": 6874
                },
                {
                  "INSTNM": false,
                  "TUITIONFEE_IN": false,
                  "_deepnote_index_column": 6875
                },
                {
                  "INSTNM": false,
                  "TUITIONFEE_IN": false,
                  "_deepnote_index_column": 6876
                },
                {
                  "INSTNM": false,
                  "TUITIONFEE_IN": false,
                  "_deepnote_index_column": 6883
                },
                {
                  "INSTNM": false,
                  "TUITIONFEE_IN": false,
                  "_deepnote_index_column": 6892
                },
                {
                  "INSTNM": false,
                  "TUITIONFEE_IN": false,
                  "_deepnote_index_column": 6893
                },
                {
                  "INSTNM": false,
                  "TUITIONFEE_IN": false,
                  "_deepnote_index_column": 6894
                },
                {
                  "INSTNM": false,
                  "TUITIONFEE_IN": false,
                  "_deepnote_index_column": 6895
                },
                {
                  "INSTNM": false,
                  "TUITIONFEE_IN": false,
                  "_deepnote_index_column": 6896
                },
                {
                  "INSTNM": false,
                  "TUITIONFEE_IN": false,
                  "_deepnote_index_column": 6897
                },
                {
                  "INSTNM": false,
                  "TUITIONFEE_IN": false,
                  "_deepnote_index_column": 6898
                },
                {
                  "INSTNM": false,
                  "TUITIONFEE_IN": false,
                  "_deepnote_index_column": 6899
                },
                {
                  "INSTNM": false,
                  "TUITIONFEE_IN": false,
                  "_deepnote_index_column": 6900
                },
                {
                  "INSTNM": false,
                  "TUITIONFEE_IN": false,
                  "_deepnote_index_column": 6901
                },
                {
                  "INSTNM": false,
                  "TUITIONFEE_IN": false,
                  "_deepnote_index_column": 6902
                },
                {
                  "INSTNM": false,
                  "TUITIONFEE_IN": false,
                  "_deepnote_index_column": 6903
                },
                {
                  "INSTNM": false,
                  "TUITIONFEE_IN": false,
                  "_deepnote_index_column": 6904
                },
                {
                  "INSTNM": false,
                  "TUITIONFEE_IN": false,
                  "_deepnote_index_column": 6906
                },
                {
                  "INSTNM": false,
                  "TUITIONFEE_IN": false,
                  "_deepnote_index_column": 6907
                },
                {
                  "INSTNM": false,
                  "TUITIONFEE_IN": false,
                  "_deepnote_index_column": 6908
                },
                {
                  "INSTNM": false,
                  "TUITIONFEE_IN": false,
                  "_deepnote_index_column": 6909
                },
                {
                  "INSTNM": false,
                  "TUITIONFEE_IN": false,
                  "_deepnote_index_column": 6910
                },
                {
                  "INSTNM": false,
                  "TUITIONFEE_IN": false,
                  "_deepnote_index_column": 6911
                },
                {
                  "INSTNM": false,
                  "TUITIONFEE_IN": false,
                  "_deepnote_index_column": 6912
                },
                {
                  "INSTNM": false,
                  "TUITIONFEE_IN": false,
                  "_deepnote_index_column": 6913
                },
                {
                  "INSTNM": false,
                  "TUITIONFEE_IN": false,
                  "_deepnote_index_column": 6914
                },
                {
                  "INSTNM": false,
                  "TUITIONFEE_IN": false,
                  "_deepnote_index_column": 6915
                },
                {
                  "INSTNM": false,
                  "TUITIONFEE_IN": false,
                  "_deepnote_index_column": 6916
                },
                {
                  "INSTNM": false,
                  "TUITIONFEE_IN": false,
                  "_deepnote_index_column": 6917
                },
                {
                  "INSTNM": false,
                  "TUITIONFEE_IN": false,
                  "_deepnote_index_column": 6918
                },
                {
                  "INSTNM": false,
                  "TUITIONFEE_IN": false,
                  "_deepnote_index_column": 6919
                },
                {
                  "INSTNM": false,
                  "TUITIONFEE_IN": false,
                  "_deepnote_index_column": 6920
                },
                {
                  "INSTNM": false,
                  "TUITIONFEE_IN": false,
                  "_deepnote_index_column": 6921
                },
                {
                  "INSTNM": false,
                  "TUITIONFEE_IN": false,
                  "_deepnote_index_column": 6922
                },
                {
                  "INSTNM": false,
                  "TUITIONFEE_IN": false,
                  "_deepnote_index_column": 6923
                },
                {
                  "INSTNM": false,
                  "TUITIONFEE_IN": false,
                  "_deepnote_index_column": 6925
                },
                {
                  "INSTNM": false,
                  "TUITIONFEE_IN": false,
                  "_deepnote_index_column": 6926
                },
                {
                  "INSTNM": false,
                  "TUITIONFEE_IN": false,
                  "_deepnote_index_column": 6927
                },
                {
                  "INSTNM": false,
                  "TUITIONFEE_IN": false,
                  "_deepnote_index_column": 6929
                },
                {
                  "INSTNM": false,
                  "TUITIONFEE_IN": false,
                  "_deepnote_index_column": 6930
                },
                {
                  "INSTNM": false,
                  "TUITIONFEE_IN": false,
                  "_deepnote_index_column": 6931
                },
                {
                  "INSTNM": false,
                  "TUITIONFEE_IN": false,
                  "_deepnote_index_column": 6932
                },
                {
                  "INSTNM": false,
                  "TUITIONFEE_IN": false,
                  "_deepnote_index_column": 6933
                },
                {
                  "INSTNM": false,
                  "TUITIONFEE_IN": false,
                  "_deepnote_index_column": 6937
                },
                {
                  "INSTNM": false,
                  "TUITIONFEE_IN": false,
                  "_deepnote_index_column": 6938
                },
                {
                  "INSTNM": false,
                  "TUITIONFEE_IN": false,
                  "_deepnote_index_column": 6939
                },
                {
                  "INSTNM": false,
                  "TUITIONFEE_IN": false,
                  "_deepnote_index_column": 6940
                },
                {
                  "INSTNM": false,
                  "TUITIONFEE_IN": false,
                  "_deepnote_index_column": 6941
                },
                {
                  "INSTNM": false,
                  "TUITIONFEE_IN": false,
                  "_deepnote_index_column": 6943
                },
                {
                  "INSTNM": false,
                  "TUITIONFEE_IN": false,
                  "_deepnote_index_column": 6945
                },
                {
                  "INSTNM": false,
                  "TUITIONFEE_IN": false,
                  "_deepnote_index_column": 6947
                },
                {
                  "INSTNM": false,
                  "TUITIONFEE_IN": false,
                  "_deepnote_index_column": 6948
                },
                {
                  "INSTNM": false,
                  "TUITIONFEE_IN": false,
                  "_deepnote_index_column": 6949
                },
                {
                  "INSTNM": false,
                  "TUITIONFEE_IN": false,
                  "_deepnote_index_column": 6953
                },
                {
                  "INSTNM": false,
                  "TUITIONFEE_IN": false,
                  "_deepnote_index_column": 6954
                },
                {
                  "INSTNM": false,
                  "TUITIONFEE_IN": false,
                  "_deepnote_index_column": 6956
                },
                {
                  "INSTNM": false,
                  "TUITIONFEE_IN": false,
                  "_deepnote_index_column": 6957
                },
                {
                  "INSTNM": false,
                  "TUITIONFEE_IN": false,
                  "_deepnote_index_column": 6958
                },
                {
                  "INSTNM": false,
                  "TUITIONFEE_IN": false,
                  "_deepnote_index_column": 6959
                },
                {
                  "INSTNM": false,
                  "TUITIONFEE_IN": false,
                  "_deepnote_index_column": 6961
                },
                {
                  "INSTNM": false,
                  "TUITIONFEE_IN": false,
                  "_deepnote_index_column": 6962
                },
                {
                  "INSTNM": false,
                  "TUITIONFEE_IN": false,
                  "_deepnote_index_column": 6963
                },
                {
                  "INSTNM": false,
                  "TUITIONFEE_IN": false,
                  "_deepnote_index_column": 6964
                },
                {
                  "INSTNM": false,
                  "TUITIONFEE_IN": false,
                  "_deepnote_index_column": 6965
                }
              ]
            },
            "text/plain": "      INSTNM  TUITIONFEE_IN\n1      False          False\n2      False          False\n3      False          False\n4      False          False\n5      False          False\n...      ...            ...\n6961   False          False\n6962   False          False\n6963   False          False\n6964   False          False\n6965   False          False\n\n[4183 rows x 2 columns]",
            "text/html": "<div>\n<style scoped>\n    .dataframe tbody tr th:only-of-type {\n        vertical-align: middle;\n    }\n\n    .dataframe tbody tr th {\n        vertical-align: top;\n    }\n\n    .dataframe thead th {\n        text-align: right;\n    }\n</style>\n<table border=\"1\" class=\"dataframe\">\n  <thead>\n    <tr style=\"text-align: right;\">\n      <th></th>\n      <th>INSTNM</th>\n      <th>TUITIONFEE_IN</th>\n    </tr>\n  </thead>\n  <tbody>\n    <tr>\n      <th>1</th>\n      <td>False</td>\n      <td>False</td>\n    </tr>\n    <tr>\n      <th>2</th>\n      <td>False</td>\n      <td>False</td>\n    </tr>\n    <tr>\n      <th>3</th>\n      <td>False</td>\n      <td>False</td>\n    </tr>\n    <tr>\n      <th>4</th>\n      <td>False</td>\n      <td>False</td>\n    </tr>\n    <tr>\n      <th>5</th>\n      <td>False</td>\n      <td>False</td>\n    </tr>\n    <tr>\n      <th>...</th>\n      <td>...</td>\n      <td>...</td>\n    </tr>\n    <tr>\n      <th>6961</th>\n      <td>False</td>\n      <td>False</td>\n    </tr>\n    <tr>\n      <th>6962</th>\n      <td>False</td>\n      <td>False</td>\n    </tr>\n    <tr>\n      <th>6963</th>\n      <td>False</td>\n      <td>False</td>\n    </tr>\n    <tr>\n      <th>6964</th>\n      <td>False</td>\n      <td>False</td>\n    </tr>\n    <tr>\n      <th>6965</th>\n      <td>False</td>\n      <td>False</td>\n    </tr>\n  </tbody>\n</table>\n<p>4183 rows × 2 columns</p>\n</div>"
          },
          "metadata": {}
        }
      ]
    },
    {
      "cell_type": "code",
      "metadata": {
        "tags": [],
        "cell_id": "00018-69fdf6f0-b34e-4405-849f-c9549d7bb605",
        "deepnote_to_be_reexecuted": false,
        "source_hash": "dc345449",
        "execution_millis": 76,
        "execution_start": 1618674807574,
        "deepnote_cell_type": "code"
      },
      "source": "clean_df.info()",
      "execution_count": 11,
      "outputs": [
        {
          "name": "stdout",
          "text": "<class 'pandas.core.frame.DataFrame'>\nInt64Index: 4183 entries, 1 to 6965\nData columns (total 2 columns):\n #   Column         Non-Null Count  Dtype  \n---  ------         --------------  -----  \n 0   INSTNM         4183 non-null   object \n 1   TUITIONFEE_IN  4183 non-null   float64\ndtypes: float64(1), object(1)\nmemory usage: 98.0+ KB\n",
          "output_type": "stream"
        }
      ]
    },
    {
      "cell_type": "markdown",
      "source": "**Find out how many observations have 0 tution.**",
      "metadata": {
        "tags": [],
        "cell_id": "00019-f10d2f2b-19b7-473a-9644-4aa7059aeee1",
        "deepnote_cell_type": "markdown"
      }
    },
    {
      "cell_type": "code",
      "metadata": {
        "tags": [],
        "cell_id": "00019-074889af-0c37-44f8-861b-5d09414c28a2",
        "deepnote_to_be_reexecuted": false,
        "source_hash": "85490442",
        "execution_millis": 5,
        "execution_start": 1618675043667,
        "deepnote_cell_type": "code"
      },
      "source": "clean_df.isin([0]).sum()",
      "execution_count": 18,
      "outputs": [
        {
          "output_type": "execute_result",
          "execution_count": 18,
          "data": {
            "text/plain": "INSTNM           0\nTUITIONFEE_IN    5\ndtype: int64"
          },
          "metadata": {}
        }
      ]
    },
    {
      "cell_type": "markdown",
      "source": "**Drop those observations with 0 tuition**",
      "metadata": {
        "tags": [],
        "cell_id": "00021-47366852-4fcc-4e54-946c-f4d6cd2c0aaf",
        "deepnote_cell_type": "markdown"
      }
    },
    {
      "cell_type": "code",
      "source": "new_df = clean_df.replace(0, np.nan)",
      "metadata": {
        "tags": [],
        "cell_id": "00022-4c7705ee-eebd-44b6-b013-19ab4be50051",
        "deepnote_to_be_reexecuted": false,
        "source_hash": "199a54a6",
        "execution_start": 1618675703300,
        "execution_millis": 0,
        "deepnote_cell_type": "code"
      },
      "outputs": [],
      "execution_count": 23
    },
    {
      "cell_type": "code",
      "source": "new_df = new_df.dropna(how='all', axis = 0)",
      "metadata": {
        "tags": [],
        "cell_id": "00023-ff3d6054-ef55-4091-b800-3d9fc1e893c0",
        "deepnote_to_be_reexecuted": false,
        "source_hash": "cd73a85b",
        "execution_start": 1618675790375,
        "execution_millis": 8,
        "deepnote_cell_type": "code"
      },
      "outputs": [],
      "execution_count": 24
    },
    {
      "cell_type": "code",
      "source": "new_df.isin([0]).sum()",
      "metadata": {
        "tags": [],
        "cell_id": "00024-01a4ef52-c0b5-4e40-b205-eede3b99256e",
        "deepnote_to_be_reexecuted": false,
        "source_hash": "d1938f2b",
        "execution_start": 1618675832334,
        "execution_millis": 18,
        "deepnote_cell_type": "code"
      },
      "outputs": [
        {
          "output_type": "execute_result",
          "execution_count": 25,
          "data": {
            "text/plain": "INSTNM           0\nTUITIONFEE_IN    0\ndtype: int64"
          },
          "metadata": {}
        }
      ],
      "execution_count": 25
    },
    {
      "cell_type": "code",
      "source": "new_df.head()",
      "metadata": {
        "tags": [],
        "cell_id": "00024-5a590698-58e3-43b4-a375-c2e5e7a32de7",
        "deepnote_to_be_reexecuted": false,
        "source_hash": "e0dec228",
        "execution_start": 1618675870079,
        "execution_millis": 28,
        "deepnote_cell_type": "code"
      },
      "outputs": [
        {
          "output_type": "execute_result",
          "execution_count": 26,
          "data": {
            "application/vnd.deepnote.dataframe.v2+json": {
              "row_count": 5,
              "column_count": 2,
              "columns": [
                {
                  "name": "INSTNM",
                  "dtype": "object",
                  "stats": {
                    "unique_count": 5,
                    "nan_count": 0,
                    "categories": [
                      {
                        "name": "Alabama A & M University",
                        "count": 1
                      },
                      {
                        "name": "University of Alabama at Birmingham",
                        "count": 1
                      },
                      {
                        "name": "3 others",
                        "count": 3
                      }
                    ]
                  }
                },
                {
                  "name": "TUITIONFEE_IN",
                  "dtype": "float64",
                  "stats": {
                    "unique_count": 5,
                    "nan_count": 0,
                    "min": "4072.0",
                    "max": "6240.0",
                    "histogram": [
                      {
                        "bin_start": 4072,
                        "bin_end": 4288.8,
                        "count": 2
                      },
                      {
                        "bin_start": 4288.8,
                        "bin_end": 4505.6,
                        "count": 0
                      },
                      {
                        "bin_start": 4505.6,
                        "bin_end": 4722.4,
                        "count": 1
                      },
                      {
                        "bin_start": 4722.4,
                        "bin_end": 4939.2,
                        "count": 0
                      },
                      {
                        "bin_start": 4939.2,
                        "bin_end": 5156,
                        "count": 0
                      },
                      {
                        "bin_start": 5156,
                        "bin_end": 5372.8,
                        "count": 1
                      },
                      {
                        "bin_start": 5372.8,
                        "bin_end": 5589.6,
                        "count": 0
                      },
                      {
                        "bin_start": 5589.6,
                        "bin_end": 5806.4,
                        "count": 0
                      },
                      {
                        "bin_start": 5806.4,
                        "bin_end": 6023.2,
                        "count": 0
                      },
                      {
                        "bin_start": 6023.2,
                        "bin_end": 6240,
                        "count": 1
                      }
                    ]
                  }
                },
                {
                  "name": "_deepnote_index_column",
                  "dtype": "int64"
                }
              ],
              "rows_top": [
                {
                  "INSTNM": "Alabama A & M University",
                  "TUITIONFEE_IN": 4072,
                  "_deepnote_index_column": 1
                },
                {
                  "INSTNM": "University of Alabama at Birmingham",
                  "TUITIONFEE_IN": 4208,
                  "_deepnote_index_column": 2
                },
                {
                  "INSTNM": "Amridge University",
                  "TUITIONFEE_IN": 6240,
                  "_deepnote_index_column": 3
                },
                {
                  "INSTNM": "University of Alabama in Huntsville",
                  "TUITIONFEE_IN": 5216,
                  "_deepnote_index_column": 4
                },
                {
                  "INSTNM": "Alabama State University",
                  "TUITIONFEE_IN": 4508,
                  "_deepnote_index_column": 5
                }
              ],
              "rows_bottom": null
            },
            "text/plain": "                                INSTNM  TUITIONFEE_IN\n1             Alabama A & M University         4072.0\n2  University of Alabama at Birmingham         4208.0\n3                   Amridge University         6240.0\n4  University of Alabama in Huntsville         5216.0\n5             Alabama State University         4508.0",
            "text/html": "<div>\n<style scoped>\n    .dataframe tbody tr th:only-of-type {\n        vertical-align: middle;\n    }\n\n    .dataframe tbody tr th {\n        vertical-align: top;\n    }\n\n    .dataframe thead th {\n        text-align: right;\n    }\n</style>\n<table border=\"1\" class=\"dataframe\">\n  <thead>\n    <tr style=\"text-align: right;\">\n      <th></th>\n      <th>INSTNM</th>\n      <th>TUITIONFEE_IN</th>\n    </tr>\n  </thead>\n  <tbody>\n    <tr>\n      <th>1</th>\n      <td>Alabama A &amp; M University</td>\n      <td>4072.0</td>\n    </tr>\n    <tr>\n      <th>2</th>\n      <td>University of Alabama at Birmingham</td>\n      <td>4208.0</td>\n    </tr>\n    <tr>\n      <th>3</th>\n      <td>Amridge University</td>\n      <td>6240.0</td>\n    </tr>\n    <tr>\n      <th>4</th>\n      <td>University of Alabama in Huntsville</td>\n      <td>5216.0</td>\n    </tr>\n    <tr>\n      <th>5</th>\n      <td>Alabama State University</td>\n      <td>4508.0</td>\n    </tr>\n  </tbody>\n</table>\n</div>"
          },
          "metadata": {}
        }
      ],
      "execution_count": 26
    },
    {
      "cell_type": "markdown",
      "source": "**Calculate and display the mean (average) of the tuitions of all the remaining observations**",
      "metadata": {
        "tags": [],
        "cell_id": "00026-d39438fe-52e0-4452-80e5-d9914b0aafb0",
        "deepnote_cell_type": "markdown"
      }
    },
    {
      "cell_type": "code",
      "source": "Tuition_mean = new_df['TUITIONFEE_IN'].mean()\n\nprint(Tuition_mean)",
      "metadata": {
        "tags": [],
        "cell_id": "00026-b8d6fa1a-17aa-47cb-bfee-884a54a347d3",
        "deepnote_to_be_reexecuted": false,
        "source_hash": "5ab46546",
        "execution_start": 1618676261876,
        "execution_millis": 19,
        "deepnote_cell_type": "code"
      },
      "outputs": [
        {
          "name": "stdout",
          "text": "10732.077549066538\n",
          "output_type": "stream"
        }
      ],
      "execution_count": 27
    },
    {
      "cell_type": "markdown",
      "source": "**Randomly select just 1 observation from the data frame.**",
      "metadata": {
        "tags": [],
        "cell_id": "00028-38058259-e32a-4d3e-a3ac-7a9d0305f6bd",
        "deepnote_cell_type": "markdown"
      }
    },
    {
      "cell_type": "code",
      "source": "new_df.sample()",
      "metadata": {
        "tags": [],
        "cell_id": "00028-7fa4cfcb-4191-465c-a199-81c71d76d694",
        "deepnote_to_be_reexecuted": false,
        "source_hash": "485a9f90",
        "execution_start": 1618676920947,
        "execution_millis": 17,
        "deepnote_cell_type": "code"
      },
      "outputs": [
        {
          "output_type": "execute_result",
          "execution_count": 28,
          "data": {
            "application/vnd.deepnote.dataframe.v2+json": {
              "row_count": 1,
              "column_count": 2,
              "columns": [
                {
                  "name": "INSTNM",
                  "dtype": "object",
                  "stats": {
                    "unique_count": 1,
                    "nan_count": 0,
                    "categories": [
                      {
                        "name": "Kentucky State University",
                        "count": 1
                      }
                    ]
                  }
                },
                {
                  "name": "TUITIONFEE_IN",
                  "dtype": "float64",
                  "stats": {
                    "unique_count": 1,
                    "nan_count": 0,
                    "min": "5320.0",
                    "max": "5320.0",
                    "histogram": [
                      {
                        "bin_start": 5319.5,
                        "bin_end": 5319.6,
                        "count": 0
                      },
                      {
                        "bin_start": 5319.6,
                        "bin_end": 5319.7,
                        "count": 0
                      },
                      {
                        "bin_start": 5319.7,
                        "bin_end": 5319.8,
                        "count": 0
                      },
                      {
                        "bin_start": 5319.8,
                        "bin_end": 5319.9,
                        "count": 0
                      },
                      {
                        "bin_start": 5319.9,
                        "bin_end": 5320,
                        "count": 0
                      },
                      {
                        "bin_start": 5320,
                        "bin_end": 5320.1,
                        "count": 1
                      },
                      {
                        "bin_start": 5320.1,
                        "bin_end": 5320.2,
                        "count": 0
                      },
                      {
                        "bin_start": 5320.2,
                        "bin_end": 5320.3,
                        "count": 0
                      },
                      {
                        "bin_start": 5320.3,
                        "bin_end": 5320.4,
                        "count": 0
                      },
                      {
                        "bin_start": 5320.4,
                        "bin_end": 5320.5,
                        "count": 0
                      }
                    ]
                  }
                },
                {
                  "name": "_deepnote_index_column",
                  "dtype": "int64"
                }
              ],
              "rows_top": [
                {
                  "INSTNM": "Kentucky State University",
                  "TUITIONFEE_IN": 5320,
                  "_deepnote_index_column": 1564
                }
              ],
              "rows_bottom": null
            },
            "text/plain": "                         INSTNM  TUITIONFEE_IN\n1564  Kentucky State University         5320.0",
            "text/html": "<div>\n<style scoped>\n    .dataframe tbody tr th:only-of-type {\n        vertical-align: middle;\n    }\n\n    .dataframe tbody tr th {\n        vertical-align: top;\n    }\n\n    .dataframe thead th {\n        text-align: right;\n    }\n</style>\n<table border=\"1\" class=\"dataframe\">\n  <thead>\n    <tr style=\"text-align: right;\">\n      <th></th>\n      <th>INSTNM</th>\n      <th>TUITIONFEE_IN</th>\n    </tr>\n  </thead>\n  <tbody>\n    <tr>\n      <th>1564</th>\n      <td>Kentucky State University</td>\n      <td>5320.0</td>\n    </tr>\n  </tbody>\n</table>\n</div>"
          },
          "metadata": {}
        }
      ],
      "execution_count": 28
    },
    {
      "cell_type": "markdown",
      "source": "**Calculate the different between the tuition of this observation and \nnumber the mean tuition off all observations calculated earlier.**",
      "metadata": {
        "tags": [],
        "cell_id": "00030-97589e5e-1d40-4b99-95f4-c754d203c73d",
        "deepnote_cell_type": "markdown"
      }
    },
    {
      "cell_type": "code",
      "source": "Tuition_mean - 5320\n",
      "metadata": {
        "tags": [],
        "cell_id": "00030-693967ea-0a4d-4ae4-ae42-b8f2e4e0123d",
        "deepnote_to_be_reexecuted": false,
        "source_hash": "18421c58",
        "execution_millis": 12,
        "execution_start": 1618677237735,
        "deepnote_cell_type": "code"
      },
      "outputs": [
        {
          "output_type": "execute_result",
          "execution_count": 30,
          "data": {
            "text/plain": "5412.077549066538"
          },
          "metadata": {}
        }
      ],
      "execution_count": 30
    },
    {
      "cell_type": "code",
      "source": "new_df.sample()",
      "metadata": {
        "tags": [],
        "cell_id": "00032-ea90de6c-a72e-4ca5-8c95-2c5b0264b708",
        "deepnote_to_be_reexecuted": false,
        "source_hash": "485a9f90",
        "execution_start": 1618677256934,
        "execution_millis": 20,
        "deepnote_cell_type": "code"
      },
      "outputs": [
        {
          "output_type": "execute_result",
          "execution_count": 31,
          "data": {
            "application/vnd.deepnote.dataframe.v2+json": {
              "row_count": 1,
              "column_count": 2,
              "columns": [
                {
                  "name": "INSTNM",
                  "dtype": "object",
                  "stats": {
                    "unique_count": 1,
                    "nan_count": 0,
                    "categories": [
                      {
                        "name": "University of Puerto Rico-Cayey",
                        "count": 1
                      }
                    ]
                  }
                },
                {
                  "name": "TUITIONFEE_IN",
                  "dtype": "float64",
                  "stats": {
                    "unique_count": 1,
                    "nan_count": 0,
                    "min": "1702.0",
                    "max": "1702.0",
                    "histogram": [
                      {
                        "bin_start": 1701.5,
                        "bin_end": 1701.6,
                        "count": 0
                      },
                      {
                        "bin_start": 1701.6,
                        "bin_end": 1701.7,
                        "count": 0
                      },
                      {
                        "bin_start": 1701.7,
                        "bin_end": 1701.8,
                        "count": 0
                      },
                      {
                        "bin_start": 1701.8,
                        "bin_end": 1701.9,
                        "count": 0
                      },
                      {
                        "bin_start": 1701.9,
                        "bin_end": 1702,
                        "count": 0
                      },
                      {
                        "bin_start": 1702,
                        "bin_end": 1702.1,
                        "count": 1
                      },
                      {
                        "bin_start": 1702.1,
                        "bin_end": 1702.2,
                        "count": 0
                      },
                      {
                        "bin_start": 1702.2,
                        "bin_end": 1702.3,
                        "count": 0
                      },
                      {
                        "bin_start": 1702.3,
                        "bin_end": 1702.4,
                        "count": 0
                      },
                      {
                        "bin_start": 1702.4,
                        "bin_end": 1702.5,
                        "count": 0
                      }
                    ]
                  }
                },
                {
                  "name": "_deepnote_index_column",
                  "dtype": "int64"
                }
              ],
              "rows_top": [
                {
                  "INSTNM": "University of Puerto Rico-Cayey",
                  "TUITIONFEE_IN": 1702,
                  "_deepnote_index_column": 4600
                }
              ],
              "rows_bottom": null
            },
            "text/plain": "                               INSTNM  TUITIONFEE_IN\n4600  University of Puerto Rico-Cayey         1702.0",
            "text/html": "<div>\n<style scoped>\n    .dataframe tbody tr th:only-of-type {\n        vertical-align: middle;\n    }\n\n    .dataframe tbody tr th {\n        vertical-align: top;\n    }\n\n    .dataframe thead th {\n        text-align: right;\n    }\n</style>\n<table border=\"1\" class=\"dataframe\">\n  <thead>\n    <tr style=\"text-align: right;\">\n      <th></th>\n      <th>INSTNM</th>\n      <th>TUITIONFEE_IN</th>\n    </tr>\n  </thead>\n  <tbody>\n    <tr>\n      <th>4600</th>\n      <td>University of Puerto Rico-Cayey</td>\n      <td>1702.0</td>\n    </tr>\n  </tbody>\n</table>\n</div>"
          },
          "metadata": {}
        }
      ],
      "execution_count": 31
    },
    {
      "cell_type": "code",
      "source": "Tuition_mean - 1702",
      "metadata": {
        "tags": [],
        "cell_id": "00033-a8a3ca1b-8ffc-4df4-b9f5-bd19e3a063b6",
        "deepnote_to_be_reexecuted": false,
        "source_hash": "33a5ca46",
        "execution_start": 1618677278855,
        "execution_millis": 19,
        "deepnote_cell_type": "code"
      },
      "outputs": [
        {
          "output_type": "execute_result",
          "execution_count": 32,
          "data": {
            "text/plain": "9030.077549066538"
          },
          "metadata": {}
        }
      ],
      "execution_count": 32
    },
    {
      "cell_type": "code",
      "source": "new_df.sample()",
      "metadata": {
        "tags": [],
        "cell_id": "00034-697c6d4e-b526-4fcc-aca2-b51807e248c3",
        "deepnote_to_be_reexecuted": false,
        "source_hash": "485a9f90",
        "execution_start": 1618677304537,
        "execution_millis": 17,
        "deepnote_cell_type": "code"
      },
      "outputs": [
        {
          "output_type": "execute_result",
          "execution_count": 33,
          "data": {
            "application/vnd.deepnote.dataframe.v2+json": {
              "row_count": 1,
              "column_count": 2,
              "columns": [
                {
                  "name": "INSTNM",
                  "dtype": "object",
                  "stats": {
                    "unique_count": 1,
                    "nan_count": 0,
                    "categories": [
                      {
                        "name": "Huntingdon College",
                        "count": 1
                      }
                    ]
                  }
                },
                {
                  "name": "TUITIONFEE_IN",
                  "dtype": "float64",
                  "stats": {
                    "unique_count": 1,
                    "nan_count": 0,
                    "min": "18270.0",
                    "max": "18270.0",
                    "histogram": [
                      {
                        "bin_start": 18269.5,
                        "bin_end": 18269.6,
                        "count": 0
                      },
                      {
                        "bin_start": 18269.6,
                        "bin_end": 18269.7,
                        "count": 0
                      },
                      {
                        "bin_start": 18269.7,
                        "bin_end": 18269.8,
                        "count": 0
                      },
                      {
                        "bin_start": 18269.8,
                        "bin_end": 18269.9,
                        "count": 0
                      },
                      {
                        "bin_start": 18269.9,
                        "bin_end": 18270,
                        "count": 0
                      },
                      {
                        "bin_start": 18270,
                        "bin_end": 18270.1,
                        "count": 1
                      },
                      {
                        "bin_start": 18270.1,
                        "bin_end": 18270.2,
                        "count": 0
                      },
                      {
                        "bin_start": 18270.2,
                        "bin_end": 18270.3,
                        "count": 0
                      },
                      {
                        "bin_start": 18270.3,
                        "bin_end": 18270.4,
                        "count": 0
                      },
                      {
                        "bin_start": 18270.4,
                        "bin_end": 18270.5,
                        "count": 0
                      }
                    ]
                  }
                },
                {
                  "name": "_deepnote_index_column",
                  "dtype": "int64"
                }
              ],
              "rows_top": [
                {
                  "INSTNM": "Huntingdon College",
                  "TUITIONFEE_IN": 18270,
                  "_deepnote_index_column": 24
                }
              ],
              "rows_bottom": null
            },
            "text/plain": "                INSTNM  TUITIONFEE_IN\n24  Huntingdon College        18270.0",
            "text/html": "<div>\n<style scoped>\n    .dataframe tbody tr th:only-of-type {\n        vertical-align: middle;\n    }\n\n    .dataframe tbody tr th {\n        vertical-align: top;\n    }\n\n    .dataframe thead th {\n        text-align: right;\n    }\n</style>\n<table border=\"1\" class=\"dataframe\">\n  <thead>\n    <tr style=\"text-align: right;\">\n      <th></th>\n      <th>INSTNM</th>\n      <th>TUITIONFEE_IN</th>\n    </tr>\n  </thead>\n  <tbody>\n    <tr>\n      <th>24</th>\n      <td>Huntingdon College</td>\n      <td>18270.0</td>\n    </tr>\n  </tbody>\n</table>\n</div>"
          },
          "metadata": {}
        }
      ],
      "execution_count": 33
    },
    {
      "cell_type": "code",
      "source": "Tuition_mean - 18270",
      "metadata": {
        "tags": [],
        "cell_id": "00035-af876029-d4b5-4b4c-b3db-f96e85269fb7",
        "deepnote_to_be_reexecuted": false,
        "source_hash": "e927983d",
        "execution_start": 1618677327403,
        "execution_millis": 5,
        "deepnote_cell_type": "code"
      },
      "outputs": [
        {
          "output_type": "execute_result",
          "execution_count": 34,
          "data": {
            "text/plain": "-7537.922450933462"
          },
          "metadata": {}
        }
      ],
      "execution_count": 34
    },
    {
      "cell_type": "markdown",
      "source": "**Randomly select 20 observations, display the tuition of these observation.**",
      "metadata": {
        "tags": [],
        "cell_id": "00036-a8806f15-9c4e-47d7-9a68-42b9feef633a",
        "deepnote_cell_type": "markdown"
      }
    },
    {
      "cell_type": "code",
      "source": "rand_df = new_df.sample(20)\n\nrand_df",
      "metadata": {
        "tags": [],
        "cell_id": "00036-f8b239f8-0a3a-4f1b-9ee6-999dadbae8a6",
        "deepnote_to_be_reexecuted": false,
        "source_hash": "7761903c",
        "execution_start": 1618677402023,
        "execution_millis": 7,
        "deepnote_cell_type": "code"
      },
      "outputs": [
        {
          "output_type": "execute_result",
          "execution_count": 35,
          "data": {
            "application/vnd.deepnote.dataframe.v2+json": {
              "row_count": 20,
              "column_count": 2,
              "columns": [
                {
                  "name": "INSTNM",
                  "dtype": "object",
                  "stats": {
                    "unique_count": 20,
                    "nan_count": 0,
                    "categories": [
                      {
                        "name": "Heald College-San Jose",
                        "count": 1
                      },
                      {
                        "name": "New Age Training",
                        "count": 1
                      },
                      {
                        "name": "18 others",
                        "count": 18
                      }
                    ]
                  }
                },
                {
                  "name": "TUITIONFEE_IN",
                  "dtype": "float64",
                  "stats": {
                    "unique_count": 20,
                    "nan_count": 0,
                    "min": "632.0",
                    "max": "29400.0",
                    "histogram": [
                      {
                        "bin_start": 632,
                        "bin_end": 3508.8,
                        "count": 5
                      },
                      {
                        "bin_start": 3508.8,
                        "bin_end": 6385.6,
                        "count": 3
                      },
                      {
                        "bin_start": 6385.6,
                        "bin_end": 9262.400000000001,
                        "count": 1
                      },
                      {
                        "bin_start": 9262.400000000001,
                        "bin_end": 12139.2,
                        "count": 2
                      },
                      {
                        "bin_start": 12139.2,
                        "bin_end": 15016,
                        "count": 1
                      },
                      {
                        "bin_start": 15016,
                        "bin_end": 17892.800000000003,
                        "count": 2
                      },
                      {
                        "bin_start": 17892.800000000003,
                        "bin_end": 20769.600000000002,
                        "count": 3
                      },
                      {
                        "bin_start": 20769.600000000002,
                        "bin_end": 23646.4,
                        "count": 1
                      },
                      {
                        "bin_start": 23646.4,
                        "bin_end": 26523.2,
                        "count": 1
                      },
                      {
                        "bin_start": 26523.2,
                        "bin_end": 29400,
                        "count": 1
                      }
                    ]
                  }
                },
                {
                  "name": "_deepnote_index_column",
                  "dtype": "int64"
                }
              ],
              "rows_top": [
                {
                  "INSTNM": "Heald College-San Jose",
                  "TUITIONFEE_IN": 10840,
                  "_deepnote_index_column": 372
                },
                {
                  "INSTNM": "New Age Training",
                  "TUITIONFEE_IN": 5025,
                  "_deepnote_index_column": 6676
                },
                {
                  "INSTNM": "Brown Mackie College-Salina",
                  "TUITIONFEE_IN": 8028,
                  "_deepnote_index_column": 1465
                },
                {
                  "INSTNM": "Cogswell College",
                  "TUITIONFEE_IN": 16548,
                  "_deepnote_index_column": 303
                },
                {
                  "INSTNM": "College of Saint Mary",
                  "TUITIONFEE_IN": 20136,
                  "_deepnote_index_column": 2408
                },
                {
                  "INSTNM": "Highland Community College",
                  "TUITIONFEE_IN": 2340,
                  "_deepnote_index_column": 1143
                },
                {
                  "INSTNM": "Prism Career Institute-Upper Darby",
                  "TUITIONFEE_IN": 10630,
                  "_deepnote_index_column": 3674
                },
                {
                  "INSTNM": "New Mexico Military Institute",
                  "TUITIONFEE_IN": 2945,
                  "_deepnote_index_column": 2576
                },
                {
                  "INSTNM": "ITT Technical Institute-Richmond",
                  "TUITIONFEE_IN": 15600,
                  "_deepnote_index_column": 5823
                },
                {
                  "INSTNM": "Rivier University",
                  "TUITIONFEE_IN": 22160,
                  "_deepnote_index_column": 2461
                },
                {
                  "INSTNM": "Virginia College-Chattanooga",
                  "TUITIONFEE_IN": 29400,
                  "_deepnote_index_column": 6728
                },
                {
                  "INSTNM": "Brigham Young University-Idaho",
                  "TUITIONFEE_IN": 3360,
                  "_deepnote_index_column": 1073
                },
                {
                  "INSTNM": "EDIC College",
                  "TUITIONFEE_IN": 4910,
                  "_deepnote_index_column": 5022
                },
                {
                  "INSTNM": "Southern Crescent Technical College",
                  "TUITIONFEE_IN": 1539,
                  "_deepnote_index_column": 987
                },
                {
                  "INSTNM": "Herzing University-Akron",
                  "TUITIONFEE_IN": 12460,
                  "_deepnote_index_column": 3094
                },
                {
                  "INSTNM": "Central Maine Medical Center College of Nursing & Health Professions",
                  "TUITIONFEE_IN": 3810,
                  "_deepnote_index_column": 1716
                },
                {
                  "INSTNM": "Citrus College",
                  "TUITIONFEE_IN": 632,
                  "_deepnote_index_column": 295
                },
                {
                  "INSTNM": "Walsh University",
                  "TUITIONFEE_IN": 18960,
                  "_deepnote_index_column": 3316
                },
                {
                  "INSTNM": "Wentworth Military Academy and College",
                  "TUITIONFEE_IN": 18030,
                  "_deepnote_index_column": 2346
                },
                {
                  "INSTNM": "University of St Thomas",
                  "TUITIONFEE_IN": 26274,
                  "_deepnote_index_column": 2156
                }
              ],
              "rows_bottom": null
            },
            "text/plain": "                                                 INSTNM  TUITIONFEE_IN\n372                              Heald College-San Jose        10840.0\n6676                                   New Age Training         5025.0\n1465                        Brown Mackie College-Salina         8028.0\n303                                    Cogswell College        16548.0\n2408                              College of Saint Mary        20136.0\n1143                         Highland Community College         2340.0\n3674                 Prism Career Institute-Upper Darby        10630.0\n2576                      New Mexico Military Institute         2945.0\n5823                   ITT Technical Institute-Richmond        15600.0\n2461                                  Rivier University        22160.0\n6728                       Virginia College-Chattanooga        29400.0\n1073                     Brigham Young University-Idaho         3360.0\n5022                                       EDIC College         4910.0\n987                 Southern Crescent Technical College         1539.0\n3094                           Herzing University-Akron        12460.0\n1716  Central Maine Medical Center College of Nursin...         3810.0\n295                                      Citrus College          632.0\n3316                                   Walsh University        18960.0\n2346             Wentworth Military Academy and College        18030.0\n2156                            University of St Thomas        26274.0",
            "text/html": "<div>\n<style scoped>\n    .dataframe tbody tr th:only-of-type {\n        vertical-align: middle;\n    }\n\n    .dataframe tbody tr th {\n        vertical-align: top;\n    }\n\n    .dataframe thead th {\n        text-align: right;\n    }\n</style>\n<table border=\"1\" class=\"dataframe\">\n  <thead>\n    <tr style=\"text-align: right;\">\n      <th></th>\n      <th>INSTNM</th>\n      <th>TUITIONFEE_IN</th>\n    </tr>\n  </thead>\n  <tbody>\n    <tr>\n      <th>372</th>\n      <td>Heald College-San Jose</td>\n      <td>10840.0</td>\n    </tr>\n    <tr>\n      <th>6676</th>\n      <td>New Age Training</td>\n      <td>5025.0</td>\n    </tr>\n    <tr>\n      <th>1465</th>\n      <td>Brown Mackie College-Salina</td>\n      <td>8028.0</td>\n    </tr>\n    <tr>\n      <th>303</th>\n      <td>Cogswell College</td>\n      <td>16548.0</td>\n    </tr>\n    <tr>\n      <th>2408</th>\n      <td>College of Saint Mary</td>\n      <td>20136.0</td>\n    </tr>\n    <tr>\n      <th>1143</th>\n      <td>Highland Community College</td>\n      <td>2340.0</td>\n    </tr>\n    <tr>\n      <th>3674</th>\n      <td>Prism Career Institute-Upper Darby</td>\n      <td>10630.0</td>\n    </tr>\n    <tr>\n      <th>2576</th>\n      <td>New Mexico Military Institute</td>\n      <td>2945.0</td>\n    </tr>\n    <tr>\n      <th>5823</th>\n      <td>ITT Technical Institute-Richmond</td>\n      <td>15600.0</td>\n    </tr>\n    <tr>\n      <th>2461</th>\n      <td>Rivier University</td>\n      <td>22160.0</td>\n    </tr>\n    <tr>\n      <th>6728</th>\n      <td>Virginia College-Chattanooga</td>\n      <td>29400.0</td>\n    </tr>\n    <tr>\n      <th>1073</th>\n      <td>Brigham Young University-Idaho</td>\n      <td>3360.0</td>\n    </tr>\n    <tr>\n      <th>5022</th>\n      <td>EDIC College</td>\n      <td>4910.0</td>\n    </tr>\n    <tr>\n      <th>987</th>\n      <td>Southern Crescent Technical College</td>\n      <td>1539.0</td>\n    </tr>\n    <tr>\n      <th>3094</th>\n      <td>Herzing University-Akron</td>\n      <td>12460.0</td>\n    </tr>\n    <tr>\n      <th>1716</th>\n      <td>Central Maine Medical Center College of Nursin...</td>\n      <td>3810.0</td>\n    </tr>\n    <tr>\n      <th>295</th>\n      <td>Citrus College</td>\n      <td>632.0</td>\n    </tr>\n    <tr>\n      <th>3316</th>\n      <td>Walsh University</td>\n      <td>18960.0</td>\n    </tr>\n    <tr>\n      <th>2346</th>\n      <td>Wentworth Military Academy and College</td>\n      <td>18030.0</td>\n    </tr>\n    <tr>\n      <th>2156</th>\n      <td>University of St Thomas</td>\n      <td>26274.0</td>\n    </tr>\n  </tbody>\n</table>\n</div>"
          },
          "metadata": {}
        }
      ],
      "execution_count": 35
    },
    {
      "cell_type": "markdown",
      "source": "**Calculate and displat the mean tuition of these 20 observations**",
      "metadata": {
        "tags": [],
        "cell_id": "00038-34ee491f-a622-4de0-b8c5-ef0aba475461",
        "deepnote_cell_type": "markdown"
      }
    },
    {
      "cell_type": "code",
      "source": "Tuition_mean2 = rand_df['TUITIONFEE_IN'].mean()\n\nTuition_mean2",
      "metadata": {
        "tags": [],
        "cell_id": "00039-f679e186-cea4-406c-9c1a-39205c0d3f81",
        "deepnote_to_be_reexecuted": false,
        "source_hash": "d4409acf",
        "execution_start": 1618677593182,
        "execution_millis": 11,
        "deepnote_cell_type": "code"
      },
      "outputs": [
        {
          "output_type": "execute_result",
          "execution_count": 37,
          "data": {
            "text/plain": "11681.35"
          },
          "metadata": {}
        }
      ],
      "execution_count": 37
    },
    {
      "cell_type": "markdown",
      "source": "**Calculate  the different between the average tuition of these 20 observations and the mean tuition off all observations calculated earlier.**",
      "metadata": {
        "tags": [],
        "cell_id": "00040-17f4949f-76a1-457e-88e0-d14a8ba2fddf",
        "deepnote_cell_type": "markdown"
      }
    },
    {
      "cell_type": "code",
      "source": "mean_dif2 = []\n\nfor fee in rand_df['TUITIONFEE_IN']:\n    mean = Tuition_mean2 - fee\n    mean_dif2.append(mean)\n\nmean_dif2",
      "metadata": {
        "tags": [],
        "cell_id": "00040-c40a5c50-991f-476e-962e-f5b5f1f0595d",
        "deepnote_to_be_reexecuted": false,
        "source_hash": "90f2d27b",
        "execution_millis": 23,
        "execution_start": 1618681509843,
        "deepnote_cell_type": "code"
      },
      "outputs": [
        {
          "output_type": "execute_result",
          "execution_count": 40,
          "data": {
            "text/plain": "[841.3500000000004,\n 6656.35,\n 3653.3500000000004,\n -4866.65,\n -8454.65,\n 9341.35,\n 1051.3500000000004,\n 8736.35,\n -3918.6499999999996,\n -10478.65,\n -17718.65,\n 8321.35,\n 6771.35,\n 10142.35,\n -778.6499999999996,\n 7871.35,\n 11049.35,\n -7278.65,\n -6348.65,\n -14592.65]"
          },
          "metadata": {}
        }
      ],
      "execution_count": 40
    },
    {
      "cell_type": "markdown",
      "source": "Given the results in the list and since the rand_df is built from the original dataframe but with random entries we can expect to see positive and negative results. The range of the rand_df is all over the place and not ordered sequentially so this outcome is expected.",
      "metadata": {
        "tags": [],
        "cell_id": "00042-96f29447-5a17-44c4-8e05-ce1c17800ea3",
        "deepnote_cell_type": "markdown"
      }
    },
    {
      "cell_type": "markdown",
      "source": "**Write a function that take two input parameters:**\n\nx (number of observations)\ny (the name of the dataframe).\nThe function will perform the following:\n\nRandomly select x observations from y\nCalculate the mean of these x observations\nCalculate the mean of all observations\nCalculate the difference between the two means\nReturn the difference",
      "metadata": {
        "tags": [],
        "cell_id": "00043-f98ff325-ebb9-453b-99d4-43998589a5c2",
        "deepnote_cell_type": "markdown"
      }
    },
    {
      "cell_type": "code",
      "source": "def new_function(x,y):\n    \n    obs = y.sample(x)\n\n    mean = obs['TUITIONFEE_IN'].mean()\n\n    mean2 = y['TUITIONFEE_IN'].mean()\n\n    diff = mean2 - mean\n\n    return diff\n\n",
      "metadata": {
        "tags": [],
        "cell_id": "00042-2bf0a28e-e245-469d-b1a8-505c399da4ba",
        "deepnote_to_be_reexecuted": false,
        "source_hash": "f96cd030",
        "execution_start": 1618686161461,
        "execution_millis": 8,
        "deepnote_cell_type": "code"
      },
      "outputs": [],
      "execution_count": 41
    },
    {
      "cell_type": "markdown",
      "source": "**Test the function by passing a sample size and the name of the dataframe**",
      "metadata": {
        "tags": [],
        "cell_id": "00045-bc49096b-1ccd-4b8f-aab2-a1fd2d16e3c5",
        "deepnote_cell_type": "markdown"
      }
    },
    {
      "cell_type": "code",
      "source": "new_function(3, new_df)",
      "metadata": {
        "tags": [],
        "cell_id": "00044-1a2513eb-16d3-4772-9160-603e55336358",
        "deepnote_to_be_reexecuted": false,
        "source_hash": "e718770a",
        "execution_millis": 59,
        "execution_start": 1618686217035,
        "deepnote_cell_type": "code"
      },
      "outputs": [
        {
          "output_type": "execute_result",
          "execution_count": 43,
          "data": {
            "text/plain": "7345.077549066538"
          },
          "metadata": {}
        }
      ],
      "execution_count": 43
    },
    {
      "cell_type": "markdown",
      "source": "**Create a list of sequence numbers from 1 to 50, name it \"sample_sizes\"**",
      "metadata": {
        "tags": [],
        "cell_id": "00047-8fcf31f4-f95c-4e44-874f-8d1b46f1aeee",
        "deepnote_cell_type": "markdown"
      }
    },
    {
      "cell_type": "code",
      "source": "sample_sizes = [random.randrange(1, 50, 1) for i in range(50)]\n\nsample_sizes",
      "metadata": {
        "tags": [],
        "cell_id": "00045-0ee0c97e-baa6-4d88-9620-3a749fe3ffce",
        "deepnote_to_be_reexecuted": false,
        "source_hash": "b5cb9ac7",
        "execution_millis": 8,
        "execution_start": 1618692457277,
        "deepnote_cell_type": "code"
      },
      "outputs": [
        {
          "output_type": "execute_result",
          "execution_count": 57,
          "data": {
            "text/plain": "[39,\n 3,\n 32,\n 34,\n 10,\n 22,\n 4,\n 36,\n 43,\n 4,\n 10,\n 10,\n 21,\n 24,\n 39,\n 12,\n 39,\n 3,\n 44,\n 39,\n 43,\n 37,\n 32,\n 11,\n 20,\n 35,\n 41,\n 3,\n 32,\n 35,\n 26,\n 27,\n 19,\n 19,\n 18,\n 2,\n 28,\n 11,\n 12,\n 41,\n 37,\n 40,\n 23,\n 3,\n 19,\n 32,\n 3,\n 22,\n 49,\n 35]"
          },
          "metadata": {}
        }
      ],
      "execution_count": 57
    },
    {
      "cell_type": "markdown",
      "source": "**Create an empty list and name it \"means_diff\" for differences of tuition mean and sample means;**",
      "metadata": {
        "tags": [],
        "cell_id": "00049-879cc39b-43ed-49ff-be65-c181e292295f",
        "deepnote_cell_type": "markdown"
      }
    },
    {
      "cell_type": "code",
      "source": "means_diff = []\n\nfor i in sample_sizes:\n    rand_sample_df = new_df.sample(i)\n    sample_mean = rand_sample_df['TUITIONFEE_IN'].mean()\n    diff = Tuition_mean - sample_mean\n    means_diff.append(diff)\n\nmeans_diff",
      "metadata": {
        "tags": [],
        "cell_id": "00049-77f9740e-802a-423c-a0e9-6e4b18acf65e",
        "deepnote_to_be_reexecuted": false,
        "source_hash": "ad980342",
        "execution_millis": 47,
        "execution_start": 1618692459584,
        "deepnote_cell_type": "code"
      },
      "outputs": [
        {
          "output_type": "execute_result",
          "execution_count": 58,
          "data": {
            "text/plain": "[2051.1801131691027,\n 1280.4108823998722,\n 940.3900490665383,\n 1319.048137301832,\n -3230.022450933462,\n 1595.4411854301743,\n 1154.8275490665383,\n 206.10532684431564,\n -991.0154741892766,\n 2445.0775490665383,\n 178.67754906653863,\n -5073.222450933461,\n 3347.6489776379667,\n -405.0057842667957,\n 480.8980618870519,\n -1848.1724509334617,\n -564.973732984743,\n 3578.4108823998713,\n 273.3730036119923,\n -2122.435271446282,\n -1913.643381166019,\n -1251.165694176705,\n 319.64004906653827,\n 1810.5320945210842,\n -2032.1224509334625,\n 412.36326335225203,\n 4404.345841749465,\n 3116.7442157332052,\n -920.3912009334617,\n -1195.0938795048896,\n 1575.3852413742297,\n -724.107636118646,\n -1739.9224509334617,\n 2457.9722859086432,\n 1764.466437955427,\n 8258.077549066538,\n 1797.756120495109,\n 2057.7139127029022,\n -3350.0057842667957,\n 1168.7360856519044,\n 1467.7261977151866,\n -1109.347450933461,\n -2060.0963639769398,\n 5303.077549066538,\n -922.9750825124083,\n -997.1724509334617,\n -140.25578426679567,\n -2893.8748318858434,\n 1780.363263352252,\n 2106.6489776379676]"
          },
          "metadata": {}
        }
      ],
      "execution_count": 58
    },
    {
      "cell_type": "markdown",
      "source": "**Make a scatter plot with sample size on the x-axs and  mean difference on the y-axis**\n",
      "metadata": {
        "tags": [],
        "cell_id": "00051-0dce179e-f037-4317-8929-8052b0f96d6d",
        "deepnote_cell_type": "markdown"
      }
    },
    {
      "cell_type": "code",
      "source": "fig = px.scatter(x=sample_sizes, y=means_diff, title= \"Smaple Size and corresponding Means\")\nfig.show()",
      "metadata": {
        "tags": [],
        "cell_id": "00052-cdd08e4f-f801-4dbd-972f-f840a7607f94",
        "deepnote_to_be_reexecuted": false,
        "source_hash": "72e5dfcb",
        "execution_millis": 32,
        "execution_start": 1618692464185,
        "deepnote_cell_type": "code"
      },
      "outputs": [
        {
          "data": {
            "text/html": "<html>\n<head><meta charset=\"utf-8\" /></head>\n<body>\n    <div>            <script src=\"https://cdnjs.cloudflare.com/ajax/libs/mathjax/2.7.5/MathJax.js?config=TeX-AMS-MML_SVG\"></script><script type=\"text/javascript\">if (window.MathJax) {MathJax.Hub.Config({SVG: {font: \"STIX-Web\"}});}</script>                <script type=\"text/javascript\">window.PlotlyConfig = {MathJaxConfig: 'local'};</script>\n        <script src=\"https://cdn.plot.ly/plotly-latest.min.js\"></script>                <div id=\"b40773ff-cff5-4b22-a1b8-ad25e0da6b5a\" class=\"plotly-graph-div\" style=\"height:525px; width:100%;\"></div>            <script type=\"text/javascript\">                                    window.PLOTLYENV=window.PLOTLYENV || {};                                    if (document.getElementById(\"b40773ff-cff5-4b22-a1b8-ad25e0da6b5a\")) {                    Plotly.newPlot(                        \"b40773ff-cff5-4b22-a1b8-ad25e0da6b5a\",                        [{\"hovertemplate\": \"x=%{x}<br>y=%{y}<extra></extra>\", \"legendgroup\": \"\", \"marker\": {\"color\": \"#636efa\", \"symbol\": \"circle\"}, \"mode\": \"markers\", \"name\": \"\", \"orientation\": \"v\", \"showlegend\": false, \"type\": \"scatter\", \"x\": [39, 3, 32, 34, 10, 22, 4, 36, 43, 4, 10, 10, 21, 24, 39, 12, 39, 3, 44, 39, 43, 37, 32, 11, 20, 35, 41, 3, 32, 35, 26, 27, 19, 19, 18, 2, 28, 11, 12, 41, 37, 40, 23, 3, 19, 32, 3, 22, 49, 35], \"xaxis\": \"x\", \"y\": [2051.1801131691027, 1280.4108823998722, 940.3900490665383, 1319.048137301832, -3230.022450933462, 1595.4411854301743, 1154.8275490665383, 206.10532684431564, -991.0154741892766, 2445.0775490665383, 178.67754906653863, -5073.222450933461, 3347.6489776379667, -405.0057842667957, 480.8980618870519, -1848.1724509334617, -564.973732984743, 3578.4108823998713, 273.3730036119923, -2122.435271446282, -1913.643381166019, -1251.165694176705, 319.64004906653827, 1810.5320945210842, -2032.1224509334625, 412.36326335225203, 4404.345841749465, 3116.7442157332052, -920.3912009334617, -1195.0938795048896, 1575.3852413742297, -724.107636118646, -1739.9224509334617, 2457.9722859086432, 1764.466437955427, 8258.077549066538, 1797.756120495109, 2057.7139127029022, -3350.0057842667957, 1168.7360856519044, 1467.7261977151866, -1109.347450933461, -2060.0963639769398, 5303.077549066538, -922.9750825124083, -997.1724509334617, -140.25578426679567, -2893.8748318858434, 1780.363263352252, 2106.6489776379676], \"yaxis\": \"y\"}],                        {\"legend\": {\"tracegroupgap\": 0}, \"template\": {\"data\": {\"bar\": [{\"error_x\": {\"color\": \"#2a3f5f\"}, \"error_y\": {\"color\": \"#2a3f5f\"}, \"marker\": {\"line\": {\"color\": \"#E5ECF6\", \"width\": 0.5}}, \"type\": \"bar\"}], \"barpolar\": [{\"marker\": {\"line\": {\"color\": \"#E5ECF6\", \"width\": 0.5}}, \"type\": \"barpolar\"}], \"carpet\": [{\"aaxis\": {\"endlinecolor\": \"#2a3f5f\", \"gridcolor\": \"white\", \"linecolor\": \"white\", \"minorgridcolor\": \"white\", \"startlinecolor\": \"#2a3f5f\"}, \"baxis\": {\"endlinecolor\": \"#2a3f5f\", \"gridcolor\": \"white\", \"linecolor\": \"white\", \"minorgridcolor\": \"white\", \"startlinecolor\": \"#2a3f5f\"}, \"type\": \"carpet\"}], \"choropleth\": [{\"colorbar\": {\"outlinewidth\": 0, \"ticks\": \"\"}, \"type\": \"choropleth\"}], \"contour\": [{\"colorbar\": {\"outlinewidth\": 0, \"ticks\": \"\"}, \"colorscale\": [[0.0, \"#0d0887\"], [0.1111111111111111, \"#46039f\"], [0.2222222222222222, \"#7201a8\"], [0.3333333333333333, \"#9c179e\"], [0.4444444444444444, \"#bd3786\"], [0.5555555555555556, \"#d8576b\"], [0.6666666666666666, \"#ed7953\"], [0.7777777777777778, \"#fb9f3a\"], [0.8888888888888888, \"#fdca26\"], [1.0, \"#f0f921\"]], \"type\": \"contour\"}], \"contourcarpet\": [{\"colorbar\": {\"outlinewidth\": 0, \"ticks\": \"\"}, \"type\": \"contourcarpet\"}], \"heatmap\": [{\"colorbar\": {\"outlinewidth\": 0, \"ticks\": \"\"}, \"colorscale\": [[0.0, \"#0d0887\"], [0.1111111111111111, \"#46039f\"], [0.2222222222222222, \"#7201a8\"], [0.3333333333333333, \"#9c179e\"], [0.4444444444444444, \"#bd3786\"], [0.5555555555555556, \"#d8576b\"], [0.6666666666666666, \"#ed7953\"], [0.7777777777777778, \"#fb9f3a\"], [0.8888888888888888, \"#fdca26\"], [1.0, \"#f0f921\"]], \"type\": \"heatmap\"}], \"heatmapgl\": [{\"colorbar\": {\"outlinewidth\": 0, \"ticks\": \"\"}, \"colorscale\": [[0.0, \"#0d0887\"], [0.1111111111111111, \"#46039f\"], [0.2222222222222222, \"#7201a8\"], [0.3333333333333333, \"#9c179e\"], [0.4444444444444444, \"#bd3786\"], [0.5555555555555556, \"#d8576b\"], [0.6666666666666666, \"#ed7953\"], [0.7777777777777778, \"#fb9f3a\"], [0.8888888888888888, \"#fdca26\"], [1.0, \"#f0f921\"]], \"type\": \"heatmapgl\"}], \"histogram\": [{\"marker\": {\"colorbar\": {\"outlinewidth\": 0, \"ticks\": \"\"}}, \"type\": \"histogram\"}], \"histogram2d\": [{\"colorbar\": {\"outlinewidth\": 0, \"ticks\": \"\"}, \"colorscale\": [[0.0, \"#0d0887\"], [0.1111111111111111, \"#46039f\"], [0.2222222222222222, \"#7201a8\"], [0.3333333333333333, \"#9c179e\"], [0.4444444444444444, \"#bd3786\"], [0.5555555555555556, \"#d8576b\"], [0.6666666666666666, \"#ed7953\"], [0.7777777777777778, \"#fb9f3a\"], [0.8888888888888888, \"#fdca26\"], [1.0, \"#f0f921\"]], \"type\": \"histogram2d\"}], \"histogram2dcontour\": [{\"colorbar\": {\"outlinewidth\": 0, \"ticks\": \"\"}, \"colorscale\": [[0.0, \"#0d0887\"], [0.1111111111111111, \"#46039f\"], [0.2222222222222222, \"#7201a8\"], [0.3333333333333333, \"#9c179e\"], [0.4444444444444444, \"#bd3786\"], [0.5555555555555556, \"#d8576b\"], [0.6666666666666666, \"#ed7953\"], [0.7777777777777778, \"#fb9f3a\"], [0.8888888888888888, \"#fdca26\"], [1.0, \"#f0f921\"]], \"type\": \"histogram2dcontour\"}], \"mesh3d\": [{\"colorbar\": {\"outlinewidth\": 0, \"ticks\": \"\"}, \"type\": \"mesh3d\"}], \"parcoords\": [{\"line\": {\"colorbar\": {\"outlinewidth\": 0, \"ticks\": \"\"}}, \"type\": \"parcoords\"}], \"pie\": [{\"automargin\": true, \"type\": \"pie\"}], \"scatter\": [{\"marker\": {\"colorbar\": {\"outlinewidth\": 0, \"ticks\": \"\"}}, \"type\": \"scatter\"}], \"scatter3d\": [{\"line\": {\"colorbar\": {\"outlinewidth\": 0, \"ticks\": \"\"}}, \"marker\": {\"colorbar\": {\"outlinewidth\": 0, \"ticks\": \"\"}}, \"type\": \"scatter3d\"}], \"scattercarpet\": [{\"marker\": {\"colorbar\": {\"outlinewidth\": 0, \"ticks\": \"\"}}, \"type\": \"scattercarpet\"}], \"scattergeo\": [{\"marker\": {\"colorbar\": {\"outlinewidth\": 0, \"ticks\": \"\"}}, \"type\": \"scattergeo\"}], \"scattergl\": [{\"marker\": {\"colorbar\": {\"outlinewidth\": 0, \"ticks\": \"\"}}, \"type\": \"scattergl\"}], \"scattermapbox\": [{\"marker\": {\"colorbar\": {\"outlinewidth\": 0, \"ticks\": \"\"}}, \"type\": \"scattermapbox\"}], \"scatterpolar\": [{\"marker\": {\"colorbar\": {\"outlinewidth\": 0, \"ticks\": \"\"}}, \"type\": \"scatterpolar\"}], \"scatterpolargl\": [{\"marker\": {\"colorbar\": {\"outlinewidth\": 0, \"ticks\": \"\"}}, \"type\": \"scatterpolargl\"}], \"scatterternary\": [{\"marker\": {\"colorbar\": {\"outlinewidth\": 0, \"ticks\": \"\"}}, \"type\": \"scatterternary\"}], \"surface\": [{\"colorbar\": {\"outlinewidth\": 0, \"ticks\": \"\"}, \"colorscale\": [[0.0, \"#0d0887\"], [0.1111111111111111, \"#46039f\"], [0.2222222222222222, \"#7201a8\"], [0.3333333333333333, \"#9c179e\"], [0.4444444444444444, \"#bd3786\"], [0.5555555555555556, \"#d8576b\"], [0.6666666666666666, \"#ed7953\"], [0.7777777777777778, \"#fb9f3a\"], [0.8888888888888888, \"#fdca26\"], [1.0, \"#f0f921\"]], \"type\": \"surface\"}], \"table\": [{\"cells\": {\"fill\": {\"color\": \"#EBF0F8\"}, \"line\": {\"color\": \"white\"}}, \"header\": {\"fill\": {\"color\": \"#C8D4E3\"}, \"line\": {\"color\": \"white\"}}, \"type\": \"table\"}]}, \"layout\": {\"annotationdefaults\": {\"arrowcolor\": \"#2a3f5f\", \"arrowhead\": 0, \"arrowwidth\": 1}, \"autotypenumbers\": \"strict\", \"coloraxis\": {\"colorbar\": {\"outlinewidth\": 0, \"ticks\": \"\"}}, \"colorscale\": {\"diverging\": [[0, \"#8e0152\"], [0.1, \"#c51b7d\"], [0.2, \"#de77ae\"], [0.3, \"#f1b6da\"], [0.4, \"#fde0ef\"], [0.5, \"#f7f7f7\"], [0.6, \"#e6f5d0\"], [0.7, \"#b8e186\"], [0.8, \"#7fbc41\"], [0.9, \"#4d9221\"], [1, \"#276419\"]], \"sequential\": [[0.0, \"#0d0887\"], [0.1111111111111111, \"#46039f\"], [0.2222222222222222, \"#7201a8\"], [0.3333333333333333, \"#9c179e\"], [0.4444444444444444, \"#bd3786\"], [0.5555555555555556, \"#d8576b\"], [0.6666666666666666, \"#ed7953\"], [0.7777777777777778, \"#fb9f3a\"], [0.8888888888888888, \"#fdca26\"], [1.0, \"#f0f921\"]], \"sequentialminus\": [[0.0, \"#0d0887\"], [0.1111111111111111, \"#46039f\"], [0.2222222222222222, \"#7201a8\"], [0.3333333333333333, \"#9c179e\"], [0.4444444444444444, \"#bd3786\"], [0.5555555555555556, \"#d8576b\"], [0.6666666666666666, \"#ed7953\"], [0.7777777777777778, \"#fb9f3a\"], [0.8888888888888888, \"#fdca26\"], [1.0, \"#f0f921\"]]}, \"colorway\": [\"#636efa\", \"#EF553B\", \"#00cc96\", \"#ab63fa\", \"#FFA15A\", \"#19d3f3\", \"#FF6692\", \"#B6E880\", \"#FF97FF\", \"#FECB52\"], \"font\": {\"color\": \"#2a3f5f\"}, \"geo\": {\"bgcolor\": \"white\", \"lakecolor\": \"white\", \"landcolor\": \"#E5ECF6\", \"showlakes\": true, \"showland\": true, \"subunitcolor\": \"white\"}, \"hoverlabel\": {\"align\": \"left\"}, \"hovermode\": \"closest\", \"mapbox\": {\"style\": \"light\"}, \"paper_bgcolor\": \"white\", \"plot_bgcolor\": \"#E5ECF6\", \"polar\": {\"angularaxis\": {\"gridcolor\": \"white\", \"linecolor\": \"white\", \"ticks\": \"\"}, \"bgcolor\": \"#E5ECF6\", \"radialaxis\": {\"gridcolor\": \"white\", \"linecolor\": \"white\", \"ticks\": \"\"}}, \"scene\": {\"xaxis\": {\"backgroundcolor\": \"#E5ECF6\", \"gridcolor\": \"white\", \"gridwidth\": 2, \"linecolor\": \"white\", \"showbackground\": true, \"ticks\": \"\", \"zerolinecolor\": \"white\"}, \"yaxis\": {\"backgroundcolor\": \"#E5ECF6\", \"gridcolor\": \"white\", \"gridwidth\": 2, \"linecolor\": \"white\", \"showbackground\": true, \"ticks\": \"\", \"zerolinecolor\": \"white\"}, \"zaxis\": {\"backgroundcolor\": \"#E5ECF6\", \"gridcolor\": \"white\", \"gridwidth\": 2, \"linecolor\": \"white\", \"showbackground\": true, \"ticks\": \"\", \"zerolinecolor\": \"white\"}}, \"shapedefaults\": {\"line\": {\"color\": \"#2a3f5f\"}}, \"ternary\": {\"aaxis\": {\"gridcolor\": \"white\", \"linecolor\": \"white\", \"ticks\": \"\"}, \"baxis\": {\"gridcolor\": \"white\", \"linecolor\": \"white\", \"ticks\": \"\"}, \"bgcolor\": \"#E5ECF6\", \"caxis\": {\"gridcolor\": \"white\", \"linecolor\": \"white\", \"ticks\": \"\"}}, \"title\": {\"x\": 0.05}, \"xaxis\": {\"automargin\": true, \"gridcolor\": \"white\", \"linecolor\": \"white\", \"ticks\": \"\", \"title\": {\"standoff\": 15}, \"zerolinecolor\": \"white\", \"zerolinewidth\": 2}, \"yaxis\": {\"automargin\": true, \"gridcolor\": \"white\", \"linecolor\": \"white\", \"ticks\": \"\", \"title\": {\"standoff\": 15}, \"zerolinecolor\": \"white\", \"zerolinewidth\": 2}}}, \"title\": {\"text\": \"Smaple Size and corresponding Means\"}, \"xaxis\": {\"anchor\": \"y\", \"domain\": [0.0, 1.0], \"title\": {\"text\": \"x\"}}, \"yaxis\": {\"anchor\": \"x\", \"domain\": [0.0, 1.0], \"title\": {\"text\": \"y\"}}},                        {\"responsive\": true}                    ).then(function(){\n                            \nvar gd = document.getElementById('b40773ff-cff5-4b22-a1b8-ad25e0da6b5a');\nvar x = new MutationObserver(function (mutations, observer) {{\n        var display = window.getComputedStyle(gd).display;\n        if (!display || display === 'none') {{\n            console.log([gd, 'removed!']);\n            Plotly.purge(gd);\n            observer.disconnect();\n        }}\n}});\n\n// Listen for the removal of the full notebook cells\nvar notebookContainer = gd.closest('#notebook-container');\nif (notebookContainer) {{\n    x.observe(notebookContainer, {childList: true});\n}}\n\n// Listen for the clearing of the current output cell\nvar outputEl = gd.closest('.output');\nif (outputEl) {{\n    x.observe(outputEl, {childList: true});\n}}\n\n                        })                };                            </script>        </div>\n</body>\n</html>"
          },
          "metadata": {},
          "output_type": "display_data"
        }
      ],
      "execution_count": 59
    },
    {
      "cell_type": "markdown",
      "source": "**Repeat 18 to 21 by replacing 50 with a larger number. For example, 300, or even 1000.**",
      "metadata": {
        "tags": [],
        "cell_id": "00053-3910253c-b695-4cde-9f07-fe0ace5e7d01",
        "deepnote_cell_type": "markdown"
      }
    },
    {
      "cell_type": "code",
      "source": "sample_sizes2 = [random.randrange(1, 300, 1) for i in range(50)]\n\nsample_sizes2",
      "metadata": {
        "tags": [],
        "cell_id": "00053-eb5cce91-3d25-408d-b441-2c14558624c1",
        "deepnote_to_be_reexecuted": false,
        "source_hash": "4c6bd12a",
        "execution_start": 1618692326214,
        "execution_millis": 6,
        "deepnote_cell_type": "code"
      },
      "outputs": [
        {
          "output_type": "execute_result",
          "execution_count": 52,
          "data": {
            "text/plain": "[73,\n 133,\n 10,\n 129,\n 246,\n 269,\n 220,\n 289,\n 180,\n 128,\n 188,\n 176,\n 296,\n 72,\n 114,\n 187,\n 96,\n 298,\n 151,\n 10,\n 226,\n 268,\n 49,\n 18,\n 242,\n 274,\n 7,\n 104,\n 173,\n 70,\n 183,\n 274,\n 39,\n 290,\n 263,\n 234,\n 124,\n 265,\n 230,\n 272,\n 173,\n 268,\n 115,\n 153,\n 295,\n 296,\n 149,\n 267,\n 148,\n 68]"
          },
          "metadata": {}
        }
      ],
      "execution_count": 52
    },
    {
      "cell_type": "code",
      "source": "means_diff2 = []\n\nfor i in sample_sizes2:\n    rand_sample_df = new_df.sample(i)\n    sample_mean = rand_sample_df['TUITIONFEE_IN'].mean()\n    diff = Tuition_mean - sample_mean\n    means_diff2.append(diff)\n\nmeans_diff2",
      "metadata": {
        "tags": [],
        "cell_id": "00054-39232237-647f-4e97-8c00-af1ca345dc67",
        "deepnote_to_be_reexecuted": false,
        "source_hash": "97cfea5d",
        "execution_millis": 5,
        "execution_start": 1618692404331,
        "deepnote_cell_type": "code"
      },
      "outputs": [
        {
          "output_type": "execute_result",
          "execution_count": 54,
          "data": {
            "text/plain": "[201.45254906653827,\n -291.16305243722127,\n 3181.3775490665384,\n -62.16463843346173,\n -107.0809875188279,\n 466.28572750519925,\n -224.49063275164372,\n 278.3578258831476,\n 696.9164379554277,\n 157.84317406653827,\n -953.8852168909089,\n -7.3910223620332545,\n 193.1282247422132,\n -597.2002287112391,\n 1421.9810578384677,\n 841.3181907777689,\n 364.6608823998722,\n -7.368759658293129,\n -987.2138416619382,\n 4097.777549066538,\n 1274.0642747302554,\n -552.7843912319695,\n -132.9632672599928,\n -339.366895377907,\n 118.8825283196511,\n -751.1852246560902,\n -3367.779593790605,\n 169.106395220384,\n 77.95474204899438,\n 676.1061204951093,\n 654.9682594490514,\n -528.8129618823677,\n 11.20575419474335,\n -279.4155543817378,\n -285.3673178536137,\n 284.791224280214,\n 927.3436780987959,\n 607.417171708048,\n -222.0224509334621,\n -420.1173038746383,\n 1195.967722476942,\n 278.3984445889255,\n -674.9050596291145,\n 251.724607890068,\n -195.46482381481837,\n -511.84812660913667,\n -52.976142208630336,\n 481.2423430740291,\n -999.6503420899244,\n -1022.951862698168]"
          },
          "metadata": {}
        }
      ],
      "execution_count": 54
    },
    {
      "cell_type": "code",
      "source": "fig2 = px.scatter(x=sample_sizes2, y=means_diff2, title= \"Smaple Size and corresponding Means\")\nfig2.show()",
      "metadata": {
        "tags": [],
        "cell_id": "00055-200e731a-b7ba-4433-8f33-70d168c5c70c",
        "deepnote_to_be_reexecuted": false,
        "source_hash": "ff640ef8",
        "execution_millis": 55,
        "execution_start": 1618692447039,
        "deepnote_cell_type": "code"
      },
      "outputs": [
        {
          "data": {
            "text/html": "<html>\n<head><meta charset=\"utf-8\" /></head>\n<body>\n    <div>            <script src=\"https://cdnjs.cloudflare.com/ajax/libs/mathjax/2.7.5/MathJax.js?config=TeX-AMS-MML_SVG\"></script><script type=\"text/javascript\">if (window.MathJax) {MathJax.Hub.Config({SVG: {font: \"STIX-Web\"}});}</script>                <script type=\"text/javascript\">window.PlotlyConfig = {MathJaxConfig: 'local'};</script>\n        <script src=\"https://cdn.plot.ly/plotly-latest.min.js\"></script>                <div id=\"24bf122d-ac2c-472a-9937-85939f0511df\" class=\"plotly-graph-div\" style=\"height:525px; width:100%;\"></div>            <script type=\"text/javascript\">                                    window.PLOTLYENV=window.PLOTLYENV || {};                                    if (document.getElementById(\"24bf122d-ac2c-472a-9937-85939f0511df\")) {                    Plotly.newPlot(                        \"24bf122d-ac2c-472a-9937-85939f0511df\",                        [{\"hovertemplate\": \"x=%{x}<br>y=%{y}<extra></extra>\", \"legendgroup\": \"\", \"marker\": {\"color\": \"#636efa\", \"symbol\": \"circle\"}, \"mode\": \"markers\", \"name\": \"\", \"orientation\": \"v\", \"showlegend\": false, \"type\": \"scatter\", \"x\": [73, 133, 10, 129, 246, 269, 220, 289, 180, 128, 188, 176, 296, 72, 114, 187, 96, 298, 151, 10, 226, 268, 49, 18, 242, 274, 7, 104, 173, 70, 183, 274, 39, 290, 263, 234, 124, 265, 230, 272, 173, 268, 115, 153, 295, 296, 149, 267, 148, 68], \"xaxis\": \"x\", \"y\": [201.45254906653827, -291.16305243722127, 3181.3775490665384, -62.16463843346173, -107.0809875188279, 466.28572750519925, -224.49063275164372, 278.3578258831476, 696.9164379554277, 157.84317406653827, -953.8852168909089, -7.3910223620332545, 193.1282247422132, -597.2002287112391, 1421.9810578384677, 841.3181907777689, 364.6608823998722, -7.368759658293129, -987.2138416619382, 4097.777549066538, 1274.0642747302554, -552.7843912319695, -132.9632672599928, -339.366895377907, 118.8825283196511, -751.1852246560902, -3367.779593790605, 169.106395220384, 77.95474204899438, 676.1061204951093, 654.9682594490514, -528.8129618823677, 11.20575419474335, -279.4155543817378, -285.3673178536137, 284.791224280214, 927.3436780987959, 607.417171708048, -222.0224509334621, -420.1173038746383, 1195.967722476942, 278.3984445889255, -674.9050596291145, 251.724607890068, -195.46482381481837, -511.84812660913667, -52.976142208630336, 481.2423430740291, -999.6503420899244, -1022.951862698168], \"yaxis\": \"y\"}],                        {\"legend\": {\"tracegroupgap\": 0}, \"template\": {\"data\": {\"bar\": [{\"error_x\": {\"color\": \"#2a3f5f\"}, \"error_y\": {\"color\": \"#2a3f5f\"}, \"marker\": {\"line\": {\"color\": \"#E5ECF6\", \"width\": 0.5}}, \"type\": \"bar\"}], \"barpolar\": [{\"marker\": {\"line\": {\"color\": \"#E5ECF6\", \"width\": 0.5}}, \"type\": \"barpolar\"}], \"carpet\": [{\"aaxis\": {\"endlinecolor\": \"#2a3f5f\", \"gridcolor\": \"white\", \"linecolor\": \"white\", \"minorgridcolor\": \"white\", \"startlinecolor\": \"#2a3f5f\"}, \"baxis\": {\"endlinecolor\": \"#2a3f5f\", \"gridcolor\": \"white\", \"linecolor\": \"white\", \"minorgridcolor\": \"white\", \"startlinecolor\": \"#2a3f5f\"}, \"type\": \"carpet\"}], \"choropleth\": [{\"colorbar\": {\"outlinewidth\": 0, \"ticks\": \"\"}, \"type\": \"choropleth\"}], \"contour\": [{\"colorbar\": {\"outlinewidth\": 0, \"ticks\": \"\"}, \"colorscale\": [[0.0, \"#0d0887\"], [0.1111111111111111, \"#46039f\"], [0.2222222222222222, \"#7201a8\"], [0.3333333333333333, \"#9c179e\"], [0.4444444444444444, \"#bd3786\"], [0.5555555555555556, \"#d8576b\"], [0.6666666666666666, \"#ed7953\"], [0.7777777777777778, \"#fb9f3a\"], [0.8888888888888888, \"#fdca26\"], [1.0, \"#f0f921\"]], \"type\": \"contour\"}], \"contourcarpet\": [{\"colorbar\": {\"outlinewidth\": 0, \"ticks\": \"\"}, \"type\": \"contourcarpet\"}], \"heatmap\": [{\"colorbar\": {\"outlinewidth\": 0, \"ticks\": \"\"}, \"colorscale\": [[0.0, \"#0d0887\"], [0.1111111111111111, \"#46039f\"], [0.2222222222222222, \"#7201a8\"], [0.3333333333333333, \"#9c179e\"], [0.4444444444444444, \"#bd3786\"], [0.5555555555555556, \"#d8576b\"], [0.6666666666666666, \"#ed7953\"], [0.7777777777777778, \"#fb9f3a\"], [0.8888888888888888, \"#fdca26\"], [1.0, \"#f0f921\"]], \"type\": \"heatmap\"}], \"heatmapgl\": [{\"colorbar\": {\"outlinewidth\": 0, \"ticks\": \"\"}, \"colorscale\": [[0.0, \"#0d0887\"], [0.1111111111111111, \"#46039f\"], [0.2222222222222222, \"#7201a8\"], [0.3333333333333333, \"#9c179e\"], [0.4444444444444444, \"#bd3786\"], [0.5555555555555556, \"#d8576b\"], [0.6666666666666666, \"#ed7953\"], [0.7777777777777778, \"#fb9f3a\"], [0.8888888888888888, \"#fdca26\"], [1.0, \"#f0f921\"]], \"type\": \"heatmapgl\"}], \"histogram\": [{\"marker\": {\"colorbar\": {\"outlinewidth\": 0, \"ticks\": \"\"}}, \"type\": \"histogram\"}], \"histogram2d\": [{\"colorbar\": {\"outlinewidth\": 0, \"ticks\": \"\"}, \"colorscale\": [[0.0, \"#0d0887\"], [0.1111111111111111, \"#46039f\"], [0.2222222222222222, \"#7201a8\"], [0.3333333333333333, \"#9c179e\"], [0.4444444444444444, \"#bd3786\"], [0.5555555555555556, \"#d8576b\"], [0.6666666666666666, \"#ed7953\"], [0.7777777777777778, \"#fb9f3a\"], [0.8888888888888888, \"#fdca26\"], [1.0, \"#f0f921\"]], \"type\": \"histogram2d\"}], \"histogram2dcontour\": [{\"colorbar\": {\"outlinewidth\": 0, \"ticks\": \"\"}, \"colorscale\": [[0.0, \"#0d0887\"], [0.1111111111111111, \"#46039f\"], [0.2222222222222222, \"#7201a8\"], [0.3333333333333333, \"#9c179e\"], [0.4444444444444444, \"#bd3786\"], [0.5555555555555556, \"#d8576b\"], [0.6666666666666666, \"#ed7953\"], [0.7777777777777778, \"#fb9f3a\"], [0.8888888888888888, \"#fdca26\"], [1.0, \"#f0f921\"]], \"type\": \"histogram2dcontour\"}], \"mesh3d\": [{\"colorbar\": {\"outlinewidth\": 0, \"ticks\": \"\"}, \"type\": \"mesh3d\"}], \"parcoords\": [{\"line\": {\"colorbar\": {\"outlinewidth\": 0, \"ticks\": \"\"}}, \"type\": \"parcoords\"}], \"pie\": [{\"automargin\": true, \"type\": \"pie\"}], \"scatter\": [{\"marker\": {\"colorbar\": {\"outlinewidth\": 0, \"ticks\": \"\"}}, \"type\": \"scatter\"}], \"scatter3d\": [{\"line\": {\"colorbar\": {\"outlinewidth\": 0, \"ticks\": \"\"}}, \"marker\": {\"colorbar\": {\"outlinewidth\": 0, \"ticks\": \"\"}}, \"type\": \"scatter3d\"}], \"scattercarpet\": [{\"marker\": {\"colorbar\": {\"outlinewidth\": 0, \"ticks\": \"\"}}, \"type\": \"scattercarpet\"}], \"scattergeo\": [{\"marker\": {\"colorbar\": {\"outlinewidth\": 0, \"ticks\": \"\"}}, \"type\": \"scattergeo\"}], \"scattergl\": [{\"marker\": {\"colorbar\": {\"outlinewidth\": 0, \"ticks\": \"\"}}, \"type\": \"scattergl\"}], \"scattermapbox\": [{\"marker\": {\"colorbar\": {\"outlinewidth\": 0, \"ticks\": \"\"}}, \"type\": \"scattermapbox\"}], \"scatterpolar\": [{\"marker\": {\"colorbar\": {\"outlinewidth\": 0, \"ticks\": \"\"}}, \"type\": \"scatterpolar\"}], \"scatterpolargl\": [{\"marker\": {\"colorbar\": {\"outlinewidth\": 0, \"ticks\": \"\"}}, \"type\": \"scatterpolargl\"}], \"scatterternary\": [{\"marker\": {\"colorbar\": {\"outlinewidth\": 0, \"ticks\": \"\"}}, \"type\": \"scatterternary\"}], \"surface\": [{\"colorbar\": {\"outlinewidth\": 0, \"ticks\": \"\"}, \"colorscale\": [[0.0, \"#0d0887\"], [0.1111111111111111, \"#46039f\"], [0.2222222222222222, \"#7201a8\"], [0.3333333333333333, \"#9c179e\"], [0.4444444444444444, \"#bd3786\"], [0.5555555555555556, \"#d8576b\"], [0.6666666666666666, \"#ed7953\"], [0.7777777777777778, \"#fb9f3a\"], [0.8888888888888888, \"#fdca26\"], [1.0, \"#f0f921\"]], \"type\": \"surface\"}], \"table\": [{\"cells\": {\"fill\": {\"color\": \"#EBF0F8\"}, \"line\": {\"color\": \"white\"}}, \"header\": {\"fill\": {\"color\": \"#C8D4E3\"}, \"line\": {\"color\": \"white\"}}, \"type\": \"table\"}]}, \"layout\": {\"annotationdefaults\": {\"arrowcolor\": \"#2a3f5f\", \"arrowhead\": 0, \"arrowwidth\": 1}, \"autotypenumbers\": \"strict\", \"coloraxis\": {\"colorbar\": {\"outlinewidth\": 0, \"ticks\": \"\"}}, \"colorscale\": {\"diverging\": [[0, \"#8e0152\"], [0.1, \"#c51b7d\"], [0.2, \"#de77ae\"], [0.3, \"#f1b6da\"], [0.4, \"#fde0ef\"], [0.5, \"#f7f7f7\"], [0.6, \"#e6f5d0\"], [0.7, \"#b8e186\"], [0.8, \"#7fbc41\"], [0.9, \"#4d9221\"], [1, \"#276419\"]], \"sequential\": [[0.0, \"#0d0887\"], [0.1111111111111111, \"#46039f\"], [0.2222222222222222, \"#7201a8\"], [0.3333333333333333, \"#9c179e\"], [0.4444444444444444, \"#bd3786\"], [0.5555555555555556, \"#d8576b\"], [0.6666666666666666, \"#ed7953\"], [0.7777777777777778, \"#fb9f3a\"], [0.8888888888888888, \"#fdca26\"], [1.0, \"#f0f921\"]], \"sequentialminus\": [[0.0, \"#0d0887\"], [0.1111111111111111, \"#46039f\"], [0.2222222222222222, \"#7201a8\"], [0.3333333333333333, \"#9c179e\"], [0.4444444444444444, \"#bd3786\"], [0.5555555555555556, \"#d8576b\"], [0.6666666666666666, \"#ed7953\"], [0.7777777777777778, \"#fb9f3a\"], [0.8888888888888888, \"#fdca26\"], [1.0, \"#f0f921\"]]}, \"colorway\": [\"#636efa\", \"#EF553B\", \"#00cc96\", \"#ab63fa\", \"#FFA15A\", \"#19d3f3\", \"#FF6692\", \"#B6E880\", \"#FF97FF\", \"#FECB52\"], \"font\": {\"color\": \"#2a3f5f\"}, \"geo\": {\"bgcolor\": \"white\", \"lakecolor\": \"white\", \"landcolor\": \"#E5ECF6\", \"showlakes\": true, \"showland\": true, \"subunitcolor\": \"white\"}, \"hoverlabel\": {\"align\": \"left\"}, \"hovermode\": \"closest\", \"mapbox\": {\"style\": \"light\"}, \"paper_bgcolor\": \"white\", \"plot_bgcolor\": \"#E5ECF6\", \"polar\": {\"angularaxis\": {\"gridcolor\": \"white\", \"linecolor\": \"white\", \"ticks\": \"\"}, \"bgcolor\": \"#E5ECF6\", \"radialaxis\": {\"gridcolor\": \"white\", \"linecolor\": \"white\", \"ticks\": \"\"}}, \"scene\": {\"xaxis\": {\"backgroundcolor\": \"#E5ECF6\", \"gridcolor\": \"white\", \"gridwidth\": 2, \"linecolor\": \"white\", \"showbackground\": true, \"ticks\": \"\", \"zerolinecolor\": \"white\"}, \"yaxis\": {\"backgroundcolor\": \"#E5ECF6\", \"gridcolor\": \"white\", \"gridwidth\": 2, \"linecolor\": \"white\", \"showbackground\": true, \"ticks\": \"\", \"zerolinecolor\": \"white\"}, \"zaxis\": {\"backgroundcolor\": \"#E5ECF6\", \"gridcolor\": \"white\", \"gridwidth\": 2, \"linecolor\": \"white\", \"showbackground\": true, \"ticks\": \"\", \"zerolinecolor\": \"white\"}}, \"shapedefaults\": {\"line\": {\"color\": \"#2a3f5f\"}}, \"ternary\": {\"aaxis\": {\"gridcolor\": \"white\", \"linecolor\": \"white\", \"ticks\": \"\"}, \"baxis\": {\"gridcolor\": \"white\", \"linecolor\": \"white\", \"ticks\": \"\"}, \"bgcolor\": \"#E5ECF6\", \"caxis\": {\"gridcolor\": \"white\", \"linecolor\": \"white\", \"ticks\": \"\"}}, \"title\": {\"x\": 0.05}, \"xaxis\": {\"automargin\": true, \"gridcolor\": \"white\", \"linecolor\": \"white\", \"ticks\": \"\", \"title\": {\"standoff\": 15}, \"zerolinecolor\": \"white\", \"zerolinewidth\": 2}, \"yaxis\": {\"automargin\": true, \"gridcolor\": \"white\", \"linecolor\": \"white\", \"ticks\": \"\", \"title\": {\"standoff\": 15}, \"zerolinecolor\": \"white\", \"zerolinewidth\": 2}}}, \"title\": {\"text\": \"Smaple Size and corresponding Means\"}, \"xaxis\": {\"anchor\": \"y\", \"domain\": [0.0, 1.0], \"title\": {\"text\": \"x\"}}, \"yaxis\": {\"anchor\": \"x\", \"domain\": [0.0, 1.0], \"title\": {\"text\": \"y\"}}},                        {\"responsive\": true}                    ).then(function(){\n                            \nvar gd = document.getElementById('24bf122d-ac2c-472a-9937-85939f0511df');\nvar x = new MutationObserver(function (mutations, observer) {{\n        var display = window.getComputedStyle(gd).display;\n        if (!display || display === 'none') {{\n            console.log([gd, 'removed!']);\n            Plotly.purge(gd);\n            observer.disconnect();\n        }}\n}});\n\n// Listen for the removal of the full notebook cells\nvar notebookContainer = gd.closest('#notebook-container');\nif (notebookContainer) {{\n    x.observe(notebookContainer, {childList: true});\n}}\n\n// Listen for the clearing of the current output cell\nvar outputEl = gd.closest('.output');\nif (outputEl) {{\n    x.observe(outputEl, {childList: true});\n}}\n\n                        })                };                            </script>        </div>\n</body>\n</html>"
          },
          "metadata": {},
          "output_type": "display_data"
        }
      ],
      "execution_count": 56
    },
    {
      "cell_type": "code",
      "source": "sample_sizes3 = [random.randrange(1, 1000, 1) for i in range(50)]\n\nsample_sizes3",
      "metadata": {
        "tags": [],
        "cell_id": "00056-10fc8041-d79f-4d34-b465-71a6196606fc",
        "deepnote_to_be_reexecuted": false,
        "source_hash": "563370b4",
        "execution_millis": 8,
        "execution_start": 1618692527371,
        "deepnote_cell_type": "code"
      },
      "outputs": [
        {
          "output_type": "execute_result",
          "execution_count": 61,
          "data": {
            "text/plain": "[874,\n 369,\n 109,\n 368,\n 364,\n 388,\n 198,\n 269,\n 971,\n 1,\n 612,\n 683,\n 996,\n 698,\n 598,\n 341,\n 292,\n 532,\n 537,\n 354,\n 506,\n 164,\n 380,\n 151,\n 933,\n 706,\n 319,\n 862,\n 276,\n 478,\n 879,\n 626,\n 464,\n 656,\n 148,\n 843,\n 222,\n 931,\n 302,\n 943,\n 561,\n 889,\n 336,\n 841,\n 335,\n 639,\n 255,\n 863,\n 840,\n 466]"
          },
          "metadata": {}
        }
      ],
      "execution_count": 61
    },
    {
      "cell_type": "code",
      "source": "means_diff3 = []\n\nfor i in sample_sizes3:\n    rand_sample_df = new_df.sample(i)\n    sample_mean = rand_sample_df['TUITIONFEE_IN'].mean()\n    diff = Tuition_mean - sample_mean\n    means_diff3.append(diff)\n\nmeans_diff3",
      "metadata": {
        "tags": [],
        "cell_id": "00057-f2817e14-492e-49be-bc21-9d942605d044",
        "deepnote_to_be_reexecuted": false,
        "source_hash": "aa64b957",
        "execution_start": 1618692562287,
        "execution_millis": 39,
        "deepnote_cell_type": "code"
      },
      "outputs": [
        {
          "output_type": "execute_result",
          "execution_count": 62,
          "data": {
            "text/plain": "[-180.63068891973126,\n 1066.340421695264,\n 261.01332888305114,\n -338.42245093346173,\n -617.2695583714776,\n 398.9173423481916,\n 146.85419881273083,\n 800.1481810367986,\n 54.32600267478483,\n -979.9224509334617,\n -22.28802470395385,\n 466.33561358266707,\n 60.04341252035374,\n -269.01857718884276,\n 479.1026746946791,\n 476.2746078900673,\n -463.8402591526392,\n 620.9607882379132,\n -263.11984385711185,\n -68.4861903102319,\n 212.85576688832043,\n 212.95559784702527,\n -516.5487667229354,\n 170.04443648375673,\n -212.479317886251,\n -25.746813539693903,\n 311.0995616451546,\n 38.02766507581873,\n 798.9000128346543,\n 350.70019057597165,\n 31.071860784399178,\n -128.98005093346183,\n -257.63951356845064,\n -49.69531678711974,\n -171.59136985238,\n 225.92416024370868,\n 268.08659884029476,\n -177.02901713367646,\n -1281.1045701387593,\n 415.16344514289085,\n -160.93857996571933,\n -105.11276624877792,\n -350.5940927245065,\n 638.8660795324886,\n -132.90454048570064,\n -37.533736199919076,\n -2.7302940707158996,\n 98.67151658393959,\n -231.5267417558698,\n -54.18107162311753]"
          },
          "metadata": {}
        }
      ],
      "execution_count": 62
    },
    {
      "cell_type": "code",
      "source": "fig3 = px.scatter(x=sample_sizes3, y=means_diff3, title= \"Smaple Size and corresponding Means\")\nfig3.show()",
      "metadata": {
        "tags": [],
        "cell_id": "00058-3b74a58a-424d-44a8-909b-48cebbf0806c",
        "deepnote_to_be_reexecuted": false,
        "source_hash": "d54b537c",
        "execution_start": 1618692663099,
        "execution_millis": 10,
        "deepnote_cell_type": "code"
      },
      "outputs": [
        {
          "data": {
            "text/html": "<html>\n<head><meta charset=\"utf-8\" /></head>\n<body>\n    <div>            <script src=\"https://cdnjs.cloudflare.com/ajax/libs/mathjax/2.7.5/MathJax.js?config=TeX-AMS-MML_SVG\"></script><script type=\"text/javascript\">if (window.MathJax) {MathJax.Hub.Config({SVG: {font: \"STIX-Web\"}});}</script>                <script type=\"text/javascript\">window.PlotlyConfig = {MathJaxConfig: 'local'};</script>\n        <script src=\"https://cdn.plot.ly/plotly-latest.min.js\"></script>                <div id=\"eb9fd2c6-eaca-4809-90ce-e931f1c9bbaa\" class=\"plotly-graph-div\" style=\"height:525px; width:100%;\"></div>            <script type=\"text/javascript\">                                    window.PLOTLYENV=window.PLOTLYENV || {};                                    if (document.getElementById(\"eb9fd2c6-eaca-4809-90ce-e931f1c9bbaa\")) {                    Plotly.newPlot(                        \"eb9fd2c6-eaca-4809-90ce-e931f1c9bbaa\",                        [{\"hovertemplate\": \"x=%{x}<br>y=%{y}<extra></extra>\", \"legendgroup\": \"\", \"marker\": {\"color\": \"#636efa\", \"symbol\": \"circle\"}, \"mode\": \"markers\", \"name\": \"\", \"orientation\": \"v\", \"showlegend\": false, \"type\": \"scatter\", \"x\": [874, 369, 109, 368, 364, 388, 198, 269, 971, 1, 612, 683, 996, 698, 598, 341, 292, 532, 537, 354, 506, 164, 380, 151, 933, 706, 319, 862, 276, 478, 879, 626, 464, 656, 148, 843, 222, 931, 302, 943, 561, 889, 336, 841, 335, 639, 255, 863, 840, 466], \"xaxis\": \"x\", \"y\": [-180.63068891973126, 1066.340421695264, 261.01332888305114, -338.42245093346173, -617.2695583714776, 398.9173423481916, 146.85419881273083, 800.1481810367986, 54.32600267478483, -979.9224509334617, -22.28802470395385, 466.33561358266707, 60.04341252035374, -269.01857718884276, 479.1026746946791, 476.2746078900673, -463.8402591526392, 620.9607882379132, -263.11984385711185, -68.4861903102319, 212.85576688832043, 212.95559784702527, -516.5487667229354, 170.04443648375673, -212.479317886251, -25.746813539693903, 311.0995616451546, 38.02766507581873, 798.9000128346543, 350.70019057597165, 31.071860784399178, -128.98005093346183, -257.63951356845064, -49.69531678711974, -171.59136985238, 225.92416024370868, 268.08659884029476, -177.02901713367646, -1281.1045701387593, 415.16344514289085, -160.93857996571933, -105.11276624877792, -350.5940927245065, 638.8660795324886, -132.90454048570064, -37.533736199919076, -2.7302940707158996, 98.67151658393959, -231.5267417558698, -54.18107162311753], \"yaxis\": \"y\"}],                        {\"legend\": {\"tracegroupgap\": 0}, \"template\": {\"data\": {\"bar\": [{\"error_x\": {\"color\": \"#2a3f5f\"}, \"error_y\": {\"color\": \"#2a3f5f\"}, \"marker\": {\"line\": {\"color\": \"#E5ECF6\", \"width\": 0.5}}, \"type\": \"bar\"}], \"barpolar\": [{\"marker\": {\"line\": {\"color\": \"#E5ECF6\", \"width\": 0.5}}, \"type\": \"barpolar\"}], \"carpet\": [{\"aaxis\": {\"endlinecolor\": \"#2a3f5f\", \"gridcolor\": \"white\", \"linecolor\": \"white\", \"minorgridcolor\": \"white\", \"startlinecolor\": \"#2a3f5f\"}, \"baxis\": {\"endlinecolor\": \"#2a3f5f\", \"gridcolor\": \"white\", \"linecolor\": \"white\", \"minorgridcolor\": \"white\", \"startlinecolor\": \"#2a3f5f\"}, \"type\": \"carpet\"}], \"choropleth\": [{\"colorbar\": {\"outlinewidth\": 0, \"ticks\": \"\"}, \"type\": \"choropleth\"}], \"contour\": [{\"colorbar\": {\"outlinewidth\": 0, \"ticks\": \"\"}, \"colorscale\": [[0.0, \"#0d0887\"], [0.1111111111111111, \"#46039f\"], [0.2222222222222222, \"#7201a8\"], [0.3333333333333333, \"#9c179e\"], [0.4444444444444444, \"#bd3786\"], [0.5555555555555556, \"#d8576b\"], [0.6666666666666666, \"#ed7953\"], [0.7777777777777778, \"#fb9f3a\"], [0.8888888888888888, \"#fdca26\"], [1.0, \"#f0f921\"]], \"type\": \"contour\"}], \"contourcarpet\": [{\"colorbar\": {\"outlinewidth\": 0, \"ticks\": \"\"}, \"type\": \"contourcarpet\"}], \"heatmap\": [{\"colorbar\": {\"outlinewidth\": 0, \"ticks\": \"\"}, \"colorscale\": [[0.0, \"#0d0887\"], [0.1111111111111111, \"#46039f\"], [0.2222222222222222, \"#7201a8\"], [0.3333333333333333, \"#9c179e\"], [0.4444444444444444, \"#bd3786\"], [0.5555555555555556, \"#d8576b\"], [0.6666666666666666, \"#ed7953\"], [0.7777777777777778, \"#fb9f3a\"], [0.8888888888888888, \"#fdca26\"], [1.0, \"#f0f921\"]], \"type\": \"heatmap\"}], \"heatmapgl\": [{\"colorbar\": {\"outlinewidth\": 0, \"ticks\": \"\"}, \"colorscale\": [[0.0, \"#0d0887\"], [0.1111111111111111, \"#46039f\"], [0.2222222222222222, \"#7201a8\"], [0.3333333333333333, \"#9c179e\"], [0.4444444444444444, \"#bd3786\"], [0.5555555555555556, \"#d8576b\"], [0.6666666666666666, \"#ed7953\"], [0.7777777777777778, \"#fb9f3a\"], [0.8888888888888888, \"#fdca26\"], [1.0, \"#f0f921\"]], \"type\": \"heatmapgl\"}], \"histogram\": [{\"marker\": {\"colorbar\": {\"outlinewidth\": 0, \"ticks\": \"\"}}, \"type\": \"histogram\"}], \"histogram2d\": [{\"colorbar\": {\"outlinewidth\": 0, \"ticks\": \"\"}, \"colorscale\": [[0.0, \"#0d0887\"], [0.1111111111111111, \"#46039f\"], [0.2222222222222222, \"#7201a8\"], [0.3333333333333333, \"#9c179e\"], [0.4444444444444444, \"#bd3786\"], [0.5555555555555556, \"#d8576b\"], [0.6666666666666666, \"#ed7953\"], [0.7777777777777778, \"#fb9f3a\"], [0.8888888888888888, \"#fdca26\"], [1.0, \"#f0f921\"]], \"type\": \"histogram2d\"}], \"histogram2dcontour\": [{\"colorbar\": {\"outlinewidth\": 0, \"ticks\": \"\"}, \"colorscale\": [[0.0, \"#0d0887\"], [0.1111111111111111, \"#46039f\"], [0.2222222222222222, \"#7201a8\"], [0.3333333333333333, \"#9c179e\"], [0.4444444444444444, \"#bd3786\"], [0.5555555555555556, \"#d8576b\"], [0.6666666666666666, \"#ed7953\"], [0.7777777777777778, \"#fb9f3a\"], [0.8888888888888888, \"#fdca26\"], [1.0, \"#f0f921\"]], \"type\": \"histogram2dcontour\"}], \"mesh3d\": [{\"colorbar\": {\"outlinewidth\": 0, \"ticks\": \"\"}, \"type\": \"mesh3d\"}], \"parcoords\": [{\"line\": {\"colorbar\": {\"outlinewidth\": 0, \"ticks\": \"\"}}, \"type\": \"parcoords\"}], \"pie\": [{\"automargin\": true, \"type\": \"pie\"}], \"scatter\": [{\"marker\": {\"colorbar\": {\"outlinewidth\": 0, \"ticks\": \"\"}}, \"type\": \"scatter\"}], \"scatter3d\": [{\"line\": {\"colorbar\": {\"outlinewidth\": 0, \"ticks\": \"\"}}, \"marker\": {\"colorbar\": {\"outlinewidth\": 0, \"ticks\": \"\"}}, \"type\": \"scatter3d\"}], \"scattercarpet\": [{\"marker\": {\"colorbar\": {\"outlinewidth\": 0, \"ticks\": \"\"}}, \"type\": \"scattercarpet\"}], \"scattergeo\": [{\"marker\": {\"colorbar\": {\"outlinewidth\": 0, \"ticks\": \"\"}}, \"type\": \"scattergeo\"}], \"scattergl\": [{\"marker\": {\"colorbar\": {\"outlinewidth\": 0, \"ticks\": \"\"}}, \"type\": \"scattergl\"}], \"scattermapbox\": [{\"marker\": {\"colorbar\": {\"outlinewidth\": 0, \"ticks\": \"\"}}, \"type\": \"scattermapbox\"}], \"scatterpolar\": [{\"marker\": {\"colorbar\": {\"outlinewidth\": 0, \"ticks\": \"\"}}, \"type\": \"scatterpolar\"}], \"scatterpolargl\": [{\"marker\": {\"colorbar\": {\"outlinewidth\": 0, \"ticks\": \"\"}}, \"type\": \"scatterpolargl\"}], \"scatterternary\": [{\"marker\": {\"colorbar\": {\"outlinewidth\": 0, \"ticks\": \"\"}}, \"type\": \"scatterternary\"}], \"surface\": [{\"colorbar\": {\"outlinewidth\": 0, \"ticks\": \"\"}, \"colorscale\": [[0.0, \"#0d0887\"], [0.1111111111111111, \"#46039f\"], [0.2222222222222222, \"#7201a8\"], [0.3333333333333333, \"#9c179e\"], [0.4444444444444444, \"#bd3786\"], [0.5555555555555556, \"#d8576b\"], [0.6666666666666666, \"#ed7953\"], [0.7777777777777778, \"#fb9f3a\"], [0.8888888888888888, \"#fdca26\"], [1.0, \"#f0f921\"]], \"type\": \"surface\"}], \"table\": [{\"cells\": {\"fill\": {\"color\": \"#EBF0F8\"}, \"line\": {\"color\": \"white\"}}, \"header\": {\"fill\": {\"color\": \"#C8D4E3\"}, \"line\": {\"color\": \"white\"}}, \"type\": \"table\"}]}, \"layout\": {\"annotationdefaults\": {\"arrowcolor\": \"#2a3f5f\", \"arrowhead\": 0, \"arrowwidth\": 1}, \"autotypenumbers\": \"strict\", \"coloraxis\": {\"colorbar\": {\"outlinewidth\": 0, \"ticks\": \"\"}}, \"colorscale\": {\"diverging\": [[0, \"#8e0152\"], [0.1, \"#c51b7d\"], [0.2, \"#de77ae\"], [0.3, \"#f1b6da\"], [0.4, \"#fde0ef\"], [0.5, \"#f7f7f7\"], [0.6, \"#e6f5d0\"], [0.7, \"#b8e186\"], [0.8, \"#7fbc41\"], [0.9, \"#4d9221\"], [1, \"#276419\"]], \"sequential\": [[0.0, \"#0d0887\"], [0.1111111111111111, \"#46039f\"], [0.2222222222222222, \"#7201a8\"], [0.3333333333333333, \"#9c179e\"], [0.4444444444444444, \"#bd3786\"], [0.5555555555555556, \"#d8576b\"], [0.6666666666666666, \"#ed7953\"], [0.7777777777777778, \"#fb9f3a\"], [0.8888888888888888, \"#fdca26\"], [1.0, \"#f0f921\"]], \"sequentialminus\": [[0.0, \"#0d0887\"], [0.1111111111111111, \"#46039f\"], [0.2222222222222222, \"#7201a8\"], [0.3333333333333333, \"#9c179e\"], [0.4444444444444444, \"#bd3786\"], [0.5555555555555556, \"#d8576b\"], [0.6666666666666666, \"#ed7953\"], [0.7777777777777778, \"#fb9f3a\"], [0.8888888888888888, \"#fdca26\"], [1.0, \"#f0f921\"]]}, \"colorway\": [\"#636efa\", \"#EF553B\", \"#00cc96\", \"#ab63fa\", \"#FFA15A\", \"#19d3f3\", \"#FF6692\", \"#B6E880\", \"#FF97FF\", \"#FECB52\"], \"font\": {\"color\": \"#2a3f5f\"}, \"geo\": {\"bgcolor\": \"white\", \"lakecolor\": \"white\", \"landcolor\": \"#E5ECF6\", \"showlakes\": true, \"showland\": true, \"subunitcolor\": \"white\"}, \"hoverlabel\": {\"align\": \"left\"}, \"hovermode\": \"closest\", \"mapbox\": {\"style\": \"light\"}, \"paper_bgcolor\": \"white\", \"plot_bgcolor\": \"#E5ECF6\", \"polar\": {\"angularaxis\": {\"gridcolor\": \"white\", \"linecolor\": \"white\", \"ticks\": \"\"}, \"bgcolor\": \"#E5ECF6\", \"radialaxis\": {\"gridcolor\": \"white\", \"linecolor\": \"white\", \"ticks\": \"\"}}, \"scene\": {\"xaxis\": {\"backgroundcolor\": \"#E5ECF6\", \"gridcolor\": \"white\", \"gridwidth\": 2, \"linecolor\": \"white\", \"showbackground\": true, \"ticks\": \"\", \"zerolinecolor\": \"white\"}, \"yaxis\": {\"backgroundcolor\": \"#E5ECF6\", \"gridcolor\": \"white\", \"gridwidth\": 2, \"linecolor\": \"white\", \"showbackground\": true, \"ticks\": \"\", \"zerolinecolor\": \"white\"}, \"zaxis\": {\"backgroundcolor\": \"#E5ECF6\", \"gridcolor\": \"white\", \"gridwidth\": 2, \"linecolor\": \"white\", \"showbackground\": true, \"ticks\": \"\", \"zerolinecolor\": \"white\"}}, \"shapedefaults\": {\"line\": {\"color\": \"#2a3f5f\"}}, \"ternary\": {\"aaxis\": {\"gridcolor\": \"white\", \"linecolor\": \"white\", \"ticks\": \"\"}, \"baxis\": {\"gridcolor\": \"white\", \"linecolor\": \"white\", \"ticks\": \"\"}, \"bgcolor\": \"#E5ECF6\", \"caxis\": {\"gridcolor\": \"white\", \"linecolor\": \"white\", \"ticks\": \"\"}}, \"title\": {\"x\": 0.05}, \"xaxis\": {\"automargin\": true, \"gridcolor\": \"white\", \"linecolor\": \"white\", \"ticks\": \"\", \"title\": {\"standoff\": 15}, \"zerolinecolor\": \"white\", \"zerolinewidth\": 2}, \"yaxis\": {\"automargin\": true, \"gridcolor\": \"white\", \"linecolor\": \"white\", \"ticks\": \"\", \"title\": {\"standoff\": 15}, \"zerolinecolor\": \"white\", \"zerolinewidth\": 2}}}, \"title\": {\"text\": \"Smaple Size and corresponding Means\"}, \"xaxis\": {\"anchor\": \"y\", \"domain\": [0.0, 1.0], \"title\": {\"text\": \"x\"}}, \"yaxis\": {\"anchor\": \"x\", \"domain\": [0.0, 1.0], \"title\": {\"text\": \"y\"}}},                        {\"responsive\": true}                    ).then(function(){\n                            \nvar gd = document.getElementById('eb9fd2c6-eaca-4809-90ce-e931f1c9bbaa');\nvar x = new MutationObserver(function (mutations, observer) {{\n        var display = window.getComputedStyle(gd).display;\n        if (!display || display === 'none') {{\n            console.log([gd, 'removed!']);\n            Plotly.purge(gd);\n            observer.disconnect();\n        }}\n}});\n\n// Listen for the removal of the full notebook cells\nvar notebookContainer = gd.closest('#notebook-container');\nif (notebookContainer) {{\n    x.observe(notebookContainer, {childList: true});\n}}\n\n// Listen for the clearing of the current output cell\nvar outputEl = gd.closest('.output');\nif (outputEl) {{\n    x.observe(outputEl, {childList: true});\n}}\n\n                        })                };                            </script>        </div>\n</body>\n</html>"
          },
          "metadata": {},
          "output_type": "display_data"
        }
      ],
      "execution_count": 63
    },
    {
      "cell_type": "markdown",
      "source": "It seems when using a number like 100 the graph shows points that are overall closer to 0 and tighter together. But when using 50 or even 1000 for the sample size list the points are alot more scattered. So it seems that based on the sample size list we can shift the shape of the graph to closer together or more scattered. ",
      "metadata": {
        "tags": [],
        "cell_id": "00059-b97456f3-5ac0-4c23-b1fa-163587303c30",
        "deepnote_cell_type": "markdown"
      }
    },
    {
      "cell_type": "code",
      "source": "",
      "metadata": {
        "tags": [],
        "cell_id": "00059-0664a8d3-2d50-442f-9e50-dade84d54fd4",
        "deepnote_cell_type": "code"
      },
      "outputs": [],
      "execution_count": null
    },
    {
      "cell_type": "markdown",
      "source": "<a style='text-decoration:none;line-height:16px;display:flex;color:#5B5B62;padding:10px;justify-content:end;' href='https://deepnote.com?utm_source=created-in-deepnote-cell&projectId=be777709-10ec-4098-831f-e7f02fdccb20' target=\"_blank\">\n<img alt='Created in deepnote.com' style='display:inline;max-height:16px;margin:0px;margin-right:7.5px;' src='data:image/svg+xml;base64,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' > </img>\nCreated in <span style='font-weight:600;margin-left:4px;'>Deepnote</span></a>",
      "metadata": {
        "tags": [],
        "created_in_deepnote_cell": true,
        "deepnote_cell_type": "markdown"
      }
    }
  ],
  "nbformat": 4,
  "nbformat_minor": 2,
  "metadata": {
    "orig_nbformat": 2,
    "deepnote": {
      "is_reactive": false
    },
    "deepnote_notebook_id": "cccb1825-5df4-4922-b806-11d9c6aefb7c",
    "deepnote_execution_queue": []
  }
}