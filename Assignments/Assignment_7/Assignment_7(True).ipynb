{
 "cells": [
  {
   "cell_type": "markdown",
   "metadata": {},
   "source": [
    "# Assignment 7\n",
    "\n",
    "**Wale Agboola**"
   ]
  },
  {
   "cell_type": "markdown",
   "metadata": {},
   "source": [
    "**Import libraries**"
   ]
  },
  {
   "cell_type": "code",
   "execution_count": 1,
   "metadata": {},
   "outputs": [],
   "source": [
    "import pandas as pd\n",
    "import matplotlib.pyplot as plt\n",
    "import numpy as np\n",
    "import plotly.express as px\n",
    "import os\n",
    "import fnmatch"
   ]
  },
  {
   "cell_type": "markdown",
   "metadata": {},
   "source": [
    "**Display the current workin directory using os.getcwd()**"
   ]
  },
  {
   "cell_type": "code",
   "execution_count": 2,
   "metadata": {},
   "outputs": [
    {
     "name": "stdout",
     "output_type": "stream",
     "text": [
      "Current working directory: /Users/wagboola/Desktop/Grad School Stuff/Data 690/Assignment_7/Raw Data Files\n"
     ]
    }
   ],
   "source": [
    "cwd = os.getcwd()\n",
    "\n",
    "print(\"Current working directory:\", cwd)"
   ]
  },
  {
   "cell_type": "markdown",
   "metadata": {},
   "source": [
    "**Os library has a method call listdir which generates a list of files in a directory/folder.Use this method to assign the contents (list of file names) of the data folder to a variable and display it.**"
   ]
  },
  {
   "cell_type": "code",
   "execution_count": 3,
   "metadata": {},
   "outputs": [
    {
     "name": "stdout",
     "output_type": "stream",
     "text": [
      "MERGED2011_12_PP.csv\n",
      "MERGED1999_00_PP.csv\n",
      "MERGED2006_07_PP.csv\n",
      "MERGED2014_15_PP.csv\n",
      ".DS_Store\n",
      "Most-Recent-Cohorts-All-Data-Elements.csv\n",
      "MERGED2003_04_PP.csv\n",
      "Untitled.ipynb\n",
      "MERGED1996_97_PP.csv\n",
      "FieldOfStudyData1516_1617_PP.csv\n",
      "Most-Recent-Cohorts-Field-of-Study.csv\n",
      "MERGED2012_13_PP.csv\n",
      "MERGED2005_06_PP.csv\n",
      "MERGED2009_10_PP.csv\n",
      "Assignment_7.ipynb\n",
      "FieldOfStudyData1617_1718_PP.csv\n",
      "MERGED2018_19_PP.csv\n",
      "MERGED2017_18_PP.csv\n",
      "Crosswalks.zip\n",
      "MERGED2000_01_PP.csv\n",
      "MERGED2001_02_PP.csv\n",
      "MERGED2016_17_PP.csv\n",
      "MERGED1997_98_PP.csv\n",
      "MERGED1998_99_PP.csv\n",
      "data.yaml\n",
      "MERGED2004_05_PP.csv\n",
      ".ipynb_checkpoints\n",
      "MERGED2002_03_PP.csv\n",
      "MERGED2015_16_PP.csv\n",
      "MERGED2013_14_PP.csv\n",
      "MERGED2007_08_PP.csv\n",
      "MERGED2008_09_PP.csv\n",
      "MERGED2010_11_PP.csv\n",
      "FieldOfStudyData1415_1516_PP.csv\n"
     ]
    }
   ],
   "source": [
    "dirs = os.listdir(cwd)\n",
    "\n",
    "for file in dirs:\n",
    "    print(file)"
   ]
  },
  {
   "cell_type": "markdown",
   "metadata": {},
   "source": [
    "**Write code to remove the unwanted files from the list vsriable**"
   ]
  },
  {
   "cell_type": "code",
   "execution_count": 4,
   "metadata": {},
   "outputs": [
    {
     "data": {
      "text/plain": [
       "['MERGED2011_12_PP.csv',\n",
       " 'MERGED1999_00_PP.csv',\n",
       " 'MERGED2006_07_PP.csv',\n",
       " 'MERGED2014_15_PP.csv',\n",
       " 'MERGED2003_04_PP.csv',\n",
       " 'MERGED1996_97_PP.csv',\n",
       " 'MERGED2012_13_PP.csv',\n",
       " 'MERGED2005_06_PP.csv',\n",
       " 'MERGED2009_10_PP.csv',\n",
       " 'MERGED2018_19_PP.csv',\n",
       " 'MERGED2017_18_PP.csv',\n",
       " 'MERGED2000_01_PP.csv',\n",
       " 'MERGED2001_02_PP.csv',\n",
       " 'MERGED2016_17_PP.csv',\n",
       " 'MERGED1997_98_PP.csv',\n",
       " 'MERGED1998_99_PP.csv',\n",
       " 'MERGED2004_05_PP.csv',\n",
       " 'MERGED2002_03_PP.csv',\n",
       " 'MERGED2015_16_PP.csv',\n",
       " 'MERGED2013_14_PP.csv',\n",
       " 'MERGED2007_08_PP.csv',\n",
       " 'MERGED2008_09_PP.csv',\n",
       " 'MERGED2010_11_PP.csv']"
      ]
     },
     "execution_count": 4,
     "metadata": {},
     "output_type": "execute_result"
    }
   ],
   "source": [
    "file_name = []\n",
    "\n",
    "for file in dirs:\n",
    "    if file.startswith('MERGED'):\n",
    "        file_name.append(file)\n",
    "        \n",
    "file_name"
   ]
  },
  {
   "cell_type": "markdown",
   "metadata": {},
   "source": [
    "**Loop throuugh list of fiiles and only load the necessary six columns**"
   ]
  },
  {
   "cell_type": "code",
   "execution_count": 6,
   "metadata": {},
   "outputs": [],
   "source": [
    "list_of_dataframes = []\n",
    "\n",
    "\n",
    "for filename in file_name:\n",
    "    df = pd.read_csv(filename, usecols = [\"UNITID\", \"INSTNM\", \"STABBR\", \"REGION\", \"ADM_RATE\", \"TUITIONFEE_IN\"])\n",
    "    Year = filename[6:10]\n",
    "    df['Year'] = Year\n",
    "    list_of_dataframes.append(df)\n",
    "\n",
    "merged_df = pd.concat(list_of_dataframes)\n",
    "\n",
    "merged_df['Year'] = merged_df['Year'].astype(int)\n",
    "\n",
    "merged_df['TUITIONFEE_IN'] = merged_df['TUITIONFEE_IN'].astype(float)"
   ]
  },
  {
   "cell_type": "markdown",
   "metadata": {},
   "source": [
    "**Explore the new dataframe (# of observations, varibles, head, tail, sample, missing values, statistics,etc.)**"
   ]
  },
  {
   "cell_type": "code",
   "execution_count": 7,
   "metadata": {},
   "outputs": [
    {
     "data": {
      "text/html": [
       "<div>\n",
       "<style scoped>\n",
       "    .dataframe tbody tr th:only-of-type {\n",
       "        vertical-align: middle;\n",
       "    }\n",
       "\n",
       "    .dataframe tbody tr th {\n",
       "        vertical-align: top;\n",
       "    }\n",
       "\n",
       "    .dataframe thead th {\n",
       "        text-align: right;\n",
       "    }\n",
       "</style>\n",
       "<table border=\"1\" class=\"dataframe\">\n",
       "  <thead>\n",
       "    <tr style=\"text-align: right;\">\n",
       "      <th></th>\n",
       "      <th>UNITID</th>\n",
       "      <th>INSTNM</th>\n",
       "      <th>STABBR</th>\n",
       "      <th>REGION</th>\n",
       "      <th>ADM_RATE</th>\n",
       "      <th>TUITIONFEE_IN</th>\n",
       "      <th>Year</th>\n",
       "    </tr>\n",
       "  </thead>\n",
       "  <tbody>\n",
       "    <tr>\n",
       "      <td>0</td>\n",
       "      <td>100654</td>\n",
       "      <td>Alabama A &amp; M University</td>\n",
       "      <td>AL</td>\n",
       "      <td>5.0</td>\n",
       "      <td>0.5010</td>\n",
       "      <td>6828.0</td>\n",
       "      <td>2011</td>\n",
       "    </tr>\n",
       "    <tr>\n",
       "      <td>1</td>\n",
       "      <td>100663</td>\n",
       "      <td>University of Alabama at Birmingham</td>\n",
       "      <td>AL</td>\n",
       "      <td>5.0</td>\n",
       "      <td>0.7223</td>\n",
       "      <td>6264.0</td>\n",
       "      <td>2011</td>\n",
       "    </tr>\n",
       "    <tr>\n",
       "      <td>2</td>\n",
       "      <td>100690</td>\n",
       "      <td>Amridge University</td>\n",
       "      <td>AL</td>\n",
       "      <td>5.0</td>\n",
       "      <td>NaN</td>\n",
       "      <td>8720.0</td>\n",
       "      <td>2011</td>\n",
       "    </tr>\n",
       "    <tr>\n",
       "      <td>3</td>\n",
       "      <td>100706</td>\n",
       "      <td>University of Alabama in Huntsville</td>\n",
       "      <td>AL</td>\n",
       "      <td>5.0</td>\n",
       "      <td>0.6368</td>\n",
       "      <td>8094.0</td>\n",
       "      <td>2011</td>\n",
       "    </tr>\n",
       "    <tr>\n",
       "      <td>4</td>\n",
       "      <td>100724</td>\n",
       "      <td>Alabama State University</td>\n",
       "      <td>AL</td>\n",
       "      <td>5.0</td>\n",
       "      <td>0.5080</td>\n",
       "      <td>8082.0</td>\n",
       "      <td>2011</td>\n",
       "    </tr>\n",
       "  </tbody>\n",
       "</table>\n",
       "</div>"
      ],
      "text/plain": [
       "   UNITID                               INSTNM STABBR  REGION  ADM_RATE  \\\n",
       "0  100654             Alabama A & M University     AL     5.0    0.5010   \n",
       "1  100663  University of Alabama at Birmingham     AL     5.0    0.7223   \n",
       "2  100690                   Amridge University     AL     5.0       NaN   \n",
       "3  100706  University of Alabama in Huntsville     AL     5.0    0.6368   \n",
       "4  100724             Alabama State University     AL     5.0    0.5080   \n",
       "\n",
       "   TUITIONFEE_IN  Year  \n",
       "0         6828.0  2011  \n",
       "1         6264.0  2011  \n",
       "2         8720.0  2011  \n",
       "3         8094.0  2011  \n",
       "4         8082.0  2011  "
      ]
     },
     "execution_count": 7,
     "metadata": {},
     "output_type": "execute_result"
    }
   ],
   "source": [
    "merged_df.head()"
   ]
  },
  {
   "cell_type": "code",
   "execution_count": 8,
   "metadata": {},
   "outputs": [
    {
     "data": {
      "text/html": [
       "<div>\n",
       "<style scoped>\n",
       "    .dataframe tbody tr th:only-of-type {\n",
       "        vertical-align: middle;\n",
       "    }\n",
       "\n",
       "    .dataframe tbody tr th {\n",
       "        vertical-align: top;\n",
       "    }\n",
       "\n",
       "    .dataframe thead th {\n",
       "        text-align: right;\n",
       "    }\n",
       "</style>\n",
       "<table border=\"1\" class=\"dataframe\">\n",
       "  <thead>\n",
       "    <tr style=\"text-align: right;\">\n",
       "      <th></th>\n",
       "      <th>UNITID</th>\n",
       "      <th>INSTNM</th>\n",
       "      <th>STABBR</th>\n",
       "      <th>REGION</th>\n",
       "      <th>ADM_RATE</th>\n",
       "      <th>TUITIONFEE_IN</th>\n",
       "      <th>Year</th>\n",
       "    </tr>\n",
       "  </thead>\n",
       "  <tbody>\n",
       "    <tr>\n",
       "      <td>7465</td>\n",
       "      <td>45896402</td>\n",
       "      <td>Strayer University-Charleston Campus</td>\n",
       "      <td>SC</td>\n",
       "      <td>5.0</td>\n",
       "      <td>NaN</td>\n",
       "      <td>14085.0</td>\n",
       "      <td>2010</td>\n",
       "    </tr>\n",
       "    <tr>\n",
       "      <td>7466</td>\n",
       "      <td>45897301</td>\n",
       "      <td>Strayer University-Irving</td>\n",
       "      <td>TX</td>\n",
       "      <td>6.0</td>\n",
       "      <td>NaN</td>\n",
       "      <td>14085.0</td>\n",
       "      <td>2010</td>\n",
       "    </tr>\n",
       "    <tr>\n",
       "      <td>7467</td>\n",
       "      <td>45897302</td>\n",
       "      <td>Strayer University-Katy</td>\n",
       "      <td>TX</td>\n",
       "      <td>6.0</td>\n",
       "      <td>NaN</td>\n",
       "      <td>14085.0</td>\n",
       "      <td>2010</td>\n",
       "    </tr>\n",
       "    <tr>\n",
       "      <td>7468</td>\n",
       "      <td>45897303</td>\n",
       "      <td>Strayer University-Northwest Houston</td>\n",
       "      <td>TX</td>\n",
       "      <td>6.0</td>\n",
       "      <td>NaN</td>\n",
       "      <td>14085.0</td>\n",
       "      <td>2010</td>\n",
       "    </tr>\n",
       "    <tr>\n",
       "      <td>7469</td>\n",
       "      <td>45897304</td>\n",
       "      <td>Strayer University-Plano</td>\n",
       "      <td>TX</td>\n",
       "      <td>6.0</td>\n",
       "      <td>NaN</td>\n",
       "      <td>14085.0</td>\n",
       "      <td>2010</td>\n",
       "    </tr>\n",
       "  </tbody>\n",
       "</table>\n",
       "</div>"
      ],
      "text/plain": [
       "        UNITID                                INSTNM STABBR  REGION  ADM_RATE  \\\n",
       "7465  45896402  Strayer University-Charleston Campus     SC     5.0       NaN   \n",
       "7466  45897301             Strayer University-Irving     TX     6.0       NaN   \n",
       "7467  45897302               Strayer University-Katy     TX     6.0       NaN   \n",
       "7468  45897303  Strayer University-Northwest Houston     TX     6.0       NaN   \n",
       "7469  45897304              Strayer University-Plano     TX     6.0       NaN   \n",
       "\n",
       "      TUITIONFEE_IN  Year  \n",
       "7465        14085.0  2010  \n",
       "7466        14085.0  2010  \n",
       "7467        14085.0  2010  \n",
       "7468        14085.0  2010  \n",
       "7469        14085.0  2010  "
      ]
     },
     "execution_count": 8,
     "metadata": {},
     "output_type": "execute_result"
    }
   ],
   "source": [
    "merged_df.tail()"
   ]
  },
  {
   "cell_type": "code",
   "execution_count": 9,
   "metadata": {},
   "outputs": [
    {
     "data": {
      "text/html": [
       "<div>\n",
       "<style scoped>\n",
       "    .dataframe tbody tr th:only-of-type {\n",
       "        vertical-align: middle;\n",
       "    }\n",
       "\n",
       "    .dataframe tbody tr th {\n",
       "        vertical-align: top;\n",
       "    }\n",
       "\n",
       "    .dataframe thead th {\n",
       "        text-align: right;\n",
       "    }\n",
       "</style>\n",
       "<table border=\"1\" class=\"dataframe\">\n",
       "  <thead>\n",
       "    <tr style=\"text-align: right;\">\n",
       "      <th></th>\n",
       "      <th>UNITID</th>\n",
       "      <th>INSTNM</th>\n",
       "      <th>STABBR</th>\n",
       "      <th>REGION</th>\n",
       "      <th>ADM_RATE</th>\n",
       "      <th>TUITIONFEE_IN</th>\n",
       "      <th>Year</th>\n",
       "    </tr>\n",
       "  </thead>\n",
       "  <tbody>\n",
       "    <tr>\n",
       "      <td>2055</td>\n",
       "      <td>168740</td>\n",
       "      <td>Andrews University</td>\n",
       "      <td>MI</td>\n",
       "      <td>3.0</td>\n",
       "      <td>0.6037</td>\n",
       "      <td>14570.0</td>\n",
       "      <td>2003</td>\n",
       "    </tr>\n",
       "  </tbody>\n",
       "</table>\n",
       "</div>"
      ],
      "text/plain": [
       "      UNITID              INSTNM STABBR  REGION  ADM_RATE  TUITIONFEE_IN  Year\n",
       "2055  168740  Andrews University     MI     3.0    0.6037        14570.0  2003"
      ]
     },
     "execution_count": 9,
     "metadata": {},
     "output_type": "execute_result"
    }
   ],
   "source": [
    "merged_df.sample()"
   ]
  },
  {
   "cell_type": "code",
   "execution_count": 10,
   "metadata": {},
   "outputs": [
    {
     "data": {
      "text/html": [
       "<div>\n",
       "<style scoped>\n",
       "    .dataframe tbody tr th:only-of-type {\n",
       "        vertical-align: middle;\n",
       "    }\n",
       "\n",
       "    .dataframe tbody tr th {\n",
       "        vertical-align: top;\n",
       "    }\n",
       "\n",
       "    .dataframe thead th {\n",
       "        text-align: right;\n",
       "    }\n",
       "</style>\n",
       "<table border=\"1\" class=\"dataframe\">\n",
       "  <thead>\n",
       "    <tr style=\"text-align: right;\">\n",
       "      <th></th>\n",
       "      <th>UNITID</th>\n",
       "      <th>INSTNM</th>\n",
       "      <th>STABBR</th>\n",
       "      <th>REGION</th>\n",
       "      <th>ADM_RATE</th>\n",
       "      <th>TUITIONFEE_IN</th>\n",
       "      <th>Year</th>\n",
       "    </tr>\n",
       "  </thead>\n",
       "  <tbody>\n",
       "    <tr>\n",
       "      <td>0</td>\n",
       "      <td>False</td>\n",
       "      <td>False</td>\n",
       "      <td>False</td>\n",
       "      <td>False</td>\n",
       "      <td>False</td>\n",
       "      <td>False</td>\n",
       "      <td>False</td>\n",
       "    </tr>\n",
       "    <tr>\n",
       "      <td>1</td>\n",
       "      <td>False</td>\n",
       "      <td>False</td>\n",
       "      <td>False</td>\n",
       "      <td>False</td>\n",
       "      <td>False</td>\n",
       "      <td>False</td>\n",
       "      <td>False</td>\n",
       "    </tr>\n",
       "    <tr>\n",
       "      <td>2</td>\n",
       "      <td>False</td>\n",
       "      <td>False</td>\n",
       "      <td>False</td>\n",
       "      <td>False</td>\n",
       "      <td>True</td>\n",
       "      <td>False</td>\n",
       "      <td>False</td>\n",
       "    </tr>\n",
       "    <tr>\n",
       "      <td>3</td>\n",
       "      <td>False</td>\n",
       "      <td>False</td>\n",
       "      <td>False</td>\n",
       "      <td>False</td>\n",
       "      <td>False</td>\n",
       "      <td>False</td>\n",
       "      <td>False</td>\n",
       "    </tr>\n",
       "    <tr>\n",
       "      <td>4</td>\n",
       "      <td>False</td>\n",
       "      <td>False</td>\n",
       "      <td>False</td>\n",
       "      <td>False</td>\n",
       "      <td>False</td>\n",
       "      <td>False</td>\n",
       "      <td>False</td>\n",
       "    </tr>\n",
       "    <tr>\n",
       "      <td>...</td>\n",
       "      <td>...</td>\n",
       "      <td>...</td>\n",
       "      <td>...</td>\n",
       "      <td>...</td>\n",
       "      <td>...</td>\n",
       "      <td>...</td>\n",
       "      <td>...</td>\n",
       "    </tr>\n",
       "    <tr>\n",
       "      <td>7465</td>\n",
       "      <td>False</td>\n",
       "      <td>False</td>\n",
       "      <td>False</td>\n",
       "      <td>False</td>\n",
       "      <td>True</td>\n",
       "      <td>False</td>\n",
       "      <td>False</td>\n",
       "    </tr>\n",
       "    <tr>\n",
       "      <td>7466</td>\n",
       "      <td>False</td>\n",
       "      <td>False</td>\n",
       "      <td>False</td>\n",
       "      <td>False</td>\n",
       "      <td>True</td>\n",
       "      <td>False</td>\n",
       "      <td>False</td>\n",
       "    </tr>\n",
       "    <tr>\n",
       "      <td>7467</td>\n",
       "      <td>False</td>\n",
       "      <td>False</td>\n",
       "      <td>False</td>\n",
       "      <td>False</td>\n",
       "      <td>True</td>\n",
       "      <td>False</td>\n",
       "      <td>False</td>\n",
       "    </tr>\n",
       "    <tr>\n",
       "      <td>7468</td>\n",
       "      <td>False</td>\n",
       "      <td>False</td>\n",
       "      <td>False</td>\n",
       "      <td>False</td>\n",
       "      <td>True</td>\n",
       "      <td>False</td>\n",
       "      <td>False</td>\n",
       "    </tr>\n",
       "    <tr>\n",
       "      <td>7469</td>\n",
       "      <td>False</td>\n",
       "      <td>False</td>\n",
       "      <td>False</td>\n",
       "      <td>False</td>\n",
       "      <td>True</td>\n",
       "      <td>False</td>\n",
       "      <td>False</td>\n",
       "    </tr>\n",
       "  </tbody>\n",
       "</table>\n",
       "<p>163331 rows × 7 columns</p>\n",
       "</div>"
      ],
      "text/plain": [
       "      UNITID  INSTNM  STABBR  REGION  ADM_RATE  TUITIONFEE_IN   Year\n",
       "0      False   False   False   False     False          False  False\n",
       "1      False   False   False   False     False          False  False\n",
       "2      False   False   False   False      True          False  False\n",
       "3      False   False   False   False     False          False  False\n",
       "4      False   False   False   False     False          False  False\n",
       "...      ...     ...     ...     ...       ...            ...    ...\n",
       "7465   False   False   False   False      True          False  False\n",
       "7466   False   False   False   False      True          False  False\n",
       "7467   False   False   False   False      True          False  False\n",
       "7468   False   False   False   False      True          False  False\n",
       "7469   False   False   False   False      True          False  False\n",
       "\n",
       "[163331 rows x 7 columns]"
      ]
     },
     "execution_count": 10,
     "metadata": {},
     "output_type": "execute_result"
    }
   ],
   "source": [
    "merged_df.isnull()"
   ]
  },
  {
   "cell_type": "code",
   "execution_count": 11,
   "metadata": {},
   "outputs": [
    {
     "data": {
      "text/html": [
       "<div>\n",
       "<style scoped>\n",
       "    .dataframe tbody tr th:only-of-type {\n",
       "        vertical-align: middle;\n",
       "    }\n",
       "\n",
       "    .dataframe tbody tr th {\n",
       "        vertical-align: top;\n",
       "    }\n",
       "\n",
       "    .dataframe thead th {\n",
       "        text-align: right;\n",
       "    }\n",
       "</style>\n",
       "<table border=\"1\" class=\"dataframe\">\n",
       "  <thead>\n",
       "    <tr style=\"text-align: right;\">\n",
       "      <th></th>\n",
       "      <th>UNITID</th>\n",
       "      <th>REGION</th>\n",
       "      <th>ADM_RATE</th>\n",
       "      <th>TUITIONFEE_IN</th>\n",
       "      <th>Year</th>\n",
       "    </tr>\n",
       "  </thead>\n",
       "  <tbody>\n",
       "    <tr>\n",
       "      <td>count</td>\n",
       "      <td>1.633310e+05</td>\n",
       "      <td>163330.000000</td>\n",
       "      <td>44912.000000</td>\n",
       "      <td>79195.000000</td>\n",
       "      <td>163331.000000</td>\n",
       "    </tr>\n",
       "    <tr>\n",
       "      <td>mean</td>\n",
       "      <td>9.432395e+05</td>\n",
       "      <td>4.554693</td>\n",
       "      <td>0.692951</td>\n",
       "      <td>11665.636871</td>\n",
       "      <td>2007.249481</td>\n",
       "    </tr>\n",
       "    <tr>\n",
       "      <td>std</td>\n",
       "      <td>4.571721e+06</td>\n",
       "      <td>2.189217</td>\n",
       "      <td>0.217058</td>\n",
       "      <td>9986.003542</td>\n",
       "      <td>6.608266</td>\n",
       "    </tr>\n",
       "    <tr>\n",
       "      <td>min</td>\n",
       "      <td>1.006360e+05</td>\n",
       "      <td>0.000000</td>\n",
       "      <td>0.000000</td>\n",
       "      <td>0.000000</td>\n",
       "      <td>1996.000000</td>\n",
       "    </tr>\n",
       "    <tr>\n",
       "      <td>25%</td>\n",
       "      <td>1.633380e+05</td>\n",
       "      <td>3.000000</td>\n",
       "      <td>0.555075</td>\n",
       "      <td>3776.000000</td>\n",
       "      <td>2002.000000</td>\n",
       "    </tr>\n",
       "    <tr>\n",
       "      <td>50%</td>\n",
       "      <td>2.127800e+05</td>\n",
       "      <td>5.000000</td>\n",
       "      <td>0.717500</td>\n",
       "      <td>9285.000000</td>\n",
       "      <td>2008.000000</td>\n",
       "    </tr>\n",
       "    <tr>\n",
       "      <td>75%</td>\n",
       "      <td>4.075680e+05</td>\n",
       "      <td>6.000000</td>\n",
       "      <td>0.857100</td>\n",
       "      <td>16148.000000</td>\n",
       "      <td>2013.000000</td>\n",
       "    </tr>\n",
       "    <tr>\n",
       "      <td>max</td>\n",
       "      <td>4.914640e+07</td>\n",
       "      <td>9.000000</td>\n",
       "      <td>1.000000</td>\n",
       "      <td>74787.000000</td>\n",
       "      <td>2018.000000</td>\n",
       "    </tr>\n",
       "  </tbody>\n",
       "</table>\n",
       "</div>"
      ],
      "text/plain": [
       "             UNITID         REGION      ADM_RATE  TUITIONFEE_IN           Year\n",
       "count  1.633310e+05  163330.000000  44912.000000   79195.000000  163331.000000\n",
       "mean   9.432395e+05       4.554693      0.692951   11665.636871    2007.249481\n",
       "std    4.571721e+06       2.189217      0.217058    9986.003542       6.608266\n",
       "min    1.006360e+05       0.000000      0.000000       0.000000    1996.000000\n",
       "25%    1.633380e+05       3.000000      0.555075    3776.000000    2002.000000\n",
       "50%    2.127800e+05       5.000000      0.717500    9285.000000    2008.000000\n",
       "75%    4.075680e+05       6.000000      0.857100   16148.000000    2013.000000\n",
       "max    4.914640e+07       9.000000      1.000000   74787.000000    2018.000000"
      ]
     },
     "execution_count": 11,
     "metadata": {},
     "output_type": "execute_result"
    }
   ],
   "source": [
    "merged_df.describe()"
   ]
  },
  {
   "cell_type": "markdown",
   "metadata": {},
   "source": [
    "**Filter/query the dataframe to retrieve only rows that belong to UMBC. Save the UMNC data to a new data frame. using a new variable**"
   ]
  },
  {
   "cell_type": "code",
   "execution_count": 12,
   "metadata": {},
   "outputs": [],
   "source": [
    "UMBC_df = merged_df[merged_df['INSTNM']=='University of Maryland-Baltimore County']"
   ]
  },
  {
   "cell_type": "markdown",
   "metadata": {},
   "source": [
    "**Explore this UMBC dataframe (# of observations, varibles, head, tail, sample, missing values, statistics,etc.)**"
   ]
  },
  {
   "cell_type": "code",
   "execution_count": 13,
   "metadata": {},
   "outputs": [
    {
     "data": {
      "text/html": [
       "<div>\n",
       "<style scoped>\n",
       "    .dataframe tbody tr th:only-of-type {\n",
       "        vertical-align: middle;\n",
       "    }\n",
       "\n",
       "    .dataframe tbody tr th {\n",
       "        vertical-align: top;\n",
       "    }\n",
       "\n",
       "    .dataframe thead th {\n",
       "        text-align: right;\n",
       "    }\n",
       "</style>\n",
       "<table border=\"1\" class=\"dataframe\">\n",
       "  <thead>\n",
       "    <tr style=\"text-align: right;\">\n",
       "      <th></th>\n",
       "      <th>UNITID</th>\n",
       "      <th>INSTNM</th>\n",
       "      <th>STABBR</th>\n",
       "      <th>REGION</th>\n",
       "      <th>ADM_RATE</th>\n",
       "      <th>TUITIONFEE_IN</th>\n",
       "      <th>Year</th>\n",
       "    </tr>\n",
       "  </thead>\n",
       "  <tbody>\n",
       "    <tr>\n",
       "      <td>1694</td>\n",
       "      <td>163268</td>\n",
       "      <td>University of Maryland-Baltimore County</td>\n",
       "      <td>MD</td>\n",
       "      <td>2.0</td>\n",
       "      <td>0.6081</td>\n",
       "      <td>9467.0</td>\n",
       "      <td>2011</td>\n",
       "    </tr>\n",
       "    <tr>\n",
       "      <td>1955</td>\n",
       "      <td>163268</td>\n",
       "      <td>University of Maryland-Baltimore County</td>\n",
       "      <td>MD</td>\n",
       "      <td>2.0</td>\n",
       "      <td>NaN</td>\n",
       "      <td>NaN</td>\n",
       "      <td>1999</td>\n",
       "    </tr>\n",
       "    <tr>\n",
       "      <td>1799</td>\n",
       "      <td>163268</td>\n",
       "      <td>University of Maryland-Baltimore County</td>\n",
       "      <td>MD</td>\n",
       "      <td>2.0</td>\n",
       "      <td>0.7153</td>\n",
       "      <td>8622.0</td>\n",
       "      <td>2006</td>\n",
       "    </tr>\n",
       "    <tr>\n",
       "      <td>1610</td>\n",
       "      <td>163268</td>\n",
       "      <td>University of Maryland-Baltimore County</td>\n",
       "      <td>MD</td>\n",
       "      <td>2.0</td>\n",
       "      <td>0.5961</td>\n",
       "      <td>10384.0</td>\n",
       "      <td>2014</td>\n",
       "    </tr>\n",
       "    <tr>\n",
       "      <td>1873</td>\n",
       "      <td>163268</td>\n",
       "      <td>University of Maryland-Baltimore County</td>\n",
       "      <td>MD</td>\n",
       "      <td>2.0</td>\n",
       "      <td>0.5757</td>\n",
       "      <td>7388.0</td>\n",
       "      <td>2003</td>\n",
       "    </tr>\n",
       "  </tbody>\n",
       "</table>\n",
       "</div>"
      ],
      "text/plain": [
       "      UNITID                                   INSTNM STABBR  REGION  \\\n",
       "1694  163268  University of Maryland-Baltimore County     MD     2.0   \n",
       "1955  163268  University of Maryland-Baltimore County     MD     2.0   \n",
       "1799  163268  University of Maryland-Baltimore County     MD     2.0   \n",
       "1610  163268  University of Maryland-Baltimore County     MD     2.0   \n",
       "1873  163268  University of Maryland-Baltimore County     MD     2.0   \n",
       "\n",
       "      ADM_RATE  TUITIONFEE_IN  Year  \n",
       "1694    0.6081         9467.0  2011  \n",
       "1955       NaN            NaN  1999  \n",
       "1799    0.7153         8622.0  2006  \n",
       "1610    0.5961        10384.0  2014  \n",
       "1873    0.5757         7388.0  2003  "
      ]
     },
     "execution_count": 13,
     "metadata": {},
     "output_type": "execute_result"
    }
   ],
   "source": [
    "UMBC_df.head()"
   ]
  },
  {
   "cell_type": "code",
   "execution_count": 14,
   "metadata": {},
   "outputs": [
    {
     "data": {
      "text/plain": [
       "Index(['UNITID', 'INSTNM', 'STABBR', 'REGION', 'ADM_RATE', 'TUITIONFEE_IN',\n",
       "       'Year'],\n",
       "      dtype='object')"
      ]
     },
     "execution_count": 14,
     "metadata": {},
     "output_type": "execute_result"
    }
   ],
   "source": [
    "UMBC_df.columns"
   ]
  },
  {
   "cell_type": "code",
   "execution_count": 15,
   "metadata": {},
   "outputs": [
    {
     "data": {
      "text/plain": [
       "<bound method DataFrame.info of       UNITID                                   INSTNM STABBR  REGION  \\\n",
       "1694  163268  University of Maryland-Baltimore County     MD     2.0   \n",
       "1955  163268  University of Maryland-Baltimore County     MD     2.0   \n",
       "1799  163268  University of Maryland-Baltimore County     MD     2.0   \n",
       "1610  163268  University of Maryland-Baltimore County     MD     2.0   \n",
       "1873  163268  University of Maryland-Baltimore County     MD     2.0   \n",
       "2151  163268  University of Maryland-Baltimore County     MD     2.0   \n",
       "1660  163268  University of Maryland-Baltimore County     MD     2.0   \n",
       "1819  163268  University of Maryland-Baltimore County     MD     2.0   \n",
       "1745  163268  University of Maryland-Baltimore County     MD     2.0   \n",
       "1415  163268  University of Maryland-Baltimore County     MD     2.0   \n",
       "1478  163268  University of Maryland-Baltimore County     MD     2.0   \n",
       "1926  163268  University of Maryland-Baltimore County     MD     2.0   \n",
       "1915  163268  University of Maryland-Baltimore County     MD     2.0   \n",
       "1510  163268  University of Maryland-Baltimore County     MD     2.0   \n",
       "2049  163268  University of Maryland-Baltimore County     MD     2.0   \n",
       "1982  163268  University of Maryland-Baltimore County     MD     2.0   \n",
       "1830  163268  University of Maryland-Baltimore County     MD     2.0   \n",
       "1893  163268  University of Maryland-Baltimore County     MD     2.0   \n",
       "1555  163268  University of Maryland-Baltimore County     MD     2.0   \n",
       "1629  163268  University of Maryland-Baltimore County     MD     2.0   \n",
       "1779  163268  University of Maryland-Baltimore County     MD     2.0   \n",
       "1767  163268  University of Maryland-Baltimore County     MD     2.0   \n",
       "1710  163268  University of Maryland-Baltimore County     MD     2.0   \n",
       "\n",
       "      ADM_RATE  TUITIONFEE_IN  Year  \n",
       "1694    0.6081         9467.0  2011  \n",
       "1955       NaN            NaN  1999  \n",
       "1799    0.7153         8622.0  2006  \n",
       "1610    0.5961        10384.0  2014  \n",
       "1873    0.5757         7388.0  2003  \n",
       "2151       NaN            NaN  1996  \n",
       "1660    0.6035         9764.0  2012  \n",
       "1819    0.7143         8520.0  2005  \n",
       "1745    0.6890         8872.0  2009  \n",
       "1415    0.5794        11778.0  2018  \n",
       "1478    0.6021        11518.0  2017  \n",
       "1926       NaN         5490.0  2000  \n",
       "1915    0.6551         5910.0  2001  \n",
       "1510    0.5683        11264.0  2016  \n",
       "2049       NaN            NaN  1997  \n",
       "1982       NaN            NaN  1998  \n",
       "1830    0.7014         8020.0  2004  \n",
       "1893    0.6327         6362.0  2002  \n",
       "1555    0.5942        11006.0  2015  \n",
       "1629    0.6315        10068.0  2013  \n",
       "1779    0.6895         8708.0  2007  \n",
       "1767    0.7174         8780.0  2008  \n",
       "1710    0.6589         9171.0  2010  >"
      ]
     },
     "execution_count": 15,
     "metadata": {},
     "output_type": "execute_result"
    }
   ],
   "source": [
    "UMBC_df.info"
   ]
  },
  {
   "cell_type": "code",
   "execution_count": 16,
   "metadata": {},
   "outputs": [
    {
     "data": {
      "text/html": [
       "<div>\n",
       "<style scoped>\n",
       "    .dataframe tbody tr th:only-of-type {\n",
       "        vertical-align: middle;\n",
       "    }\n",
       "\n",
       "    .dataframe tbody tr th {\n",
       "        vertical-align: top;\n",
       "    }\n",
       "\n",
       "    .dataframe thead th {\n",
       "        text-align: right;\n",
       "    }\n",
       "</style>\n",
       "<table border=\"1\" class=\"dataframe\">\n",
       "  <thead>\n",
       "    <tr style=\"text-align: right;\">\n",
       "      <th></th>\n",
       "      <th>UNITID</th>\n",
       "      <th>INSTNM</th>\n",
       "      <th>STABBR</th>\n",
       "      <th>REGION</th>\n",
       "      <th>ADM_RATE</th>\n",
       "      <th>TUITIONFEE_IN</th>\n",
       "      <th>Year</th>\n",
       "    </tr>\n",
       "  </thead>\n",
       "  <tbody>\n",
       "    <tr>\n",
       "      <td>1555</td>\n",
       "      <td>163268</td>\n",
       "      <td>University of Maryland-Baltimore County</td>\n",
       "      <td>MD</td>\n",
       "      <td>2.0</td>\n",
       "      <td>0.5942</td>\n",
       "      <td>11006.0</td>\n",
       "      <td>2015</td>\n",
       "    </tr>\n",
       "    <tr>\n",
       "      <td>1629</td>\n",
       "      <td>163268</td>\n",
       "      <td>University of Maryland-Baltimore County</td>\n",
       "      <td>MD</td>\n",
       "      <td>2.0</td>\n",
       "      <td>0.6315</td>\n",
       "      <td>10068.0</td>\n",
       "      <td>2013</td>\n",
       "    </tr>\n",
       "    <tr>\n",
       "      <td>1779</td>\n",
       "      <td>163268</td>\n",
       "      <td>University of Maryland-Baltimore County</td>\n",
       "      <td>MD</td>\n",
       "      <td>2.0</td>\n",
       "      <td>0.6895</td>\n",
       "      <td>8708.0</td>\n",
       "      <td>2007</td>\n",
       "    </tr>\n",
       "    <tr>\n",
       "      <td>1767</td>\n",
       "      <td>163268</td>\n",
       "      <td>University of Maryland-Baltimore County</td>\n",
       "      <td>MD</td>\n",
       "      <td>2.0</td>\n",
       "      <td>0.7174</td>\n",
       "      <td>8780.0</td>\n",
       "      <td>2008</td>\n",
       "    </tr>\n",
       "    <tr>\n",
       "      <td>1710</td>\n",
       "      <td>163268</td>\n",
       "      <td>University of Maryland-Baltimore County</td>\n",
       "      <td>MD</td>\n",
       "      <td>2.0</td>\n",
       "      <td>0.6589</td>\n",
       "      <td>9171.0</td>\n",
       "      <td>2010</td>\n",
       "    </tr>\n",
       "  </tbody>\n",
       "</table>\n",
       "</div>"
      ],
      "text/plain": [
       "      UNITID                                   INSTNM STABBR  REGION  \\\n",
       "1555  163268  University of Maryland-Baltimore County     MD     2.0   \n",
       "1629  163268  University of Maryland-Baltimore County     MD     2.0   \n",
       "1779  163268  University of Maryland-Baltimore County     MD     2.0   \n",
       "1767  163268  University of Maryland-Baltimore County     MD     2.0   \n",
       "1710  163268  University of Maryland-Baltimore County     MD     2.0   \n",
       "\n",
       "      ADM_RATE  TUITIONFEE_IN  Year  \n",
       "1555    0.5942        11006.0  2015  \n",
       "1629    0.6315        10068.0  2013  \n",
       "1779    0.6895         8708.0  2007  \n",
       "1767    0.7174         8780.0  2008  \n",
       "1710    0.6589         9171.0  2010  "
      ]
     },
     "execution_count": 16,
     "metadata": {},
     "output_type": "execute_result"
    }
   ],
   "source": [
    "UMBC_df.tail()"
   ]
  },
  {
   "cell_type": "code",
   "execution_count": 17,
   "metadata": {},
   "outputs": [
    {
     "data": {
      "text/html": [
       "<div>\n",
       "<style scoped>\n",
       "    .dataframe tbody tr th:only-of-type {\n",
       "        vertical-align: middle;\n",
       "    }\n",
       "\n",
       "    .dataframe tbody tr th {\n",
       "        vertical-align: top;\n",
       "    }\n",
       "\n",
       "    .dataframe thead th {\n",
       "        text-align: right;\n",
       "    }\n",
       "</style>\n",
       "<table border=\"1\" class=\"dataframe\">\n",
       "  <thead>\n",
       "    <tr style=\"text-align: right;\">\n",
       "      <th></th>\n",
       "      <th>UNITID</th>\n",
       "      <th>INSTNM</th>\n",
       "      <th>STABBR</th>\n",
       "      <th>REGION</th>\n",
       "      <th>ADM_RATE</th>\n",
       "      <th>TUITIONFEE_IN</th>\n",
       "      <th>Year</th>\n",
       "    </tr>\n",
       "  </thead>\n",
       "  <tbody>\n",
       "    <tr>\n",
       "      <td>1767</td>\n",
       "      <td>163268</td>\n",
       "      <td>University of Maryland-Baltimore County</td>\n",
       "      <td>MD</td>\n",
       "      <td>2.0</td>\n",
       "      <td>0.7174</td>\n",
       "      <td>8780.0</td>\n",
       "      <td>2008</td>\n",
       "    </tr>\n",
       "  </tbody>\n",
       "</table>\n",
       "</div>"
      ],
      "text/plain": [
       "      UNITID                                   INSTNM STABBR  REGION  \\\n",
       "1767  163268  University of Maryland-Baltimore County     MD     2.0   \n",
       "\n",
       "      ADM_RATE  TUITIONFEE_IN  Year  \n",
       "1767    0.7174         8780.0  2008  "
      ]
     },
     "execution_count": 17,
     "metadata": {},
     "output_type": "execute_result"
    }
   ],
   "source": [
    "UMBC_df.sample()"
   ]
  },
  {
   "cell_type": "code",
   "execution_count": 18,
   "metadata": {},
   "outputs": [
    {
     "data": {
      "text/html": [
       "<div>\n",
       "<style scoped>\n",
       "    .dataframe tbody tr th:only-of-type {\n",
       "        vertical-align: middle;\n",
       "    }\n",
       "\n",
       "    .dataframe tbody tr th {\n",
       "        vertical-align: top;\n",
       "    }\n",
       "\n",
       "    .dataframe thead th {\n",
       "        text-align: right;\n",
       "    }\n",
       "</style>\n",
       "<table border=\"1\" class=\"dataframe\">\n",
       "  <thead>\n",
       "    <tr style=\"text-align: right;\">\n",
       "      <th></th>\n",
       "      <th>UNITID</th>\n",
       "      <th>INSTNM</th>\n",
       "      <th>STABBR</th>\n",
       "      <th>REGION</th>\n",
       "      <th>ADM_RATE</th>\n",
       "      <th>TUITIONFEE_IN</th>\n",
       "      <th>Year</th>\n",
       "    </tr>\n",
       "  </thead>\n",
       "  <tbody>\n",
       "    <tr>\n",
       "      <td>1694</td>\n",
       "      <td>False</td>\n",
       "      <td>False</td>\n",
       "      <td>False</td>\n",
       "      <td>False</td>\n",
       "      <td>False</td>\n",
       "      <td>False</td>\n",
       "      <td>False</td>\n",
       "    </tr>\n",
       "    <tr>\n",
       "      <td>1955</td>\n",
       "      <td>False</td>\n",
       "      <td>False</td>\n",
       "      <td>False</td>\n",
       "      <td>False</td>\n",
       "      <td>True</td>\n",
       "      <td>True</td>\n",
       "      <td>False</td>\n",
       "    </tr>\n",
       "    <tr>\n",
       "      <td>1799</td>\n",
       "      <td>False</td>\n",
       "      <td>False</td>\n",
       "      <td>False</td>\n",
       "      <td>False</td>\n",
       "      <td>False</td>\n",
       "      <td>False</td>\n",
       "      <td>False</td>\n",
       "    </tr>\n",
       "    <tr>\n",
       "      <td>1610</td>\n",
       "      <td>False</td>\n",
       "      <td>False</td>\n",
       "      <td>False</td>\n",
       "      <td>False</td>\n",
       "      <td>False</td>\n",
       "      <td>False</td>\n",
       "      <td>False</td>\n",
       "    </tr>\n",
       "    <tr>\n",
       "      <td>1873</td>\n",
       "      <td>False</td>\n",
       "      <td>False</td>\n",
       "      <td>False</td>\n",
       "      <td>False</td>\n",
       "      <td>False</td>\n",
       "      <td>False</td>\n",
       "      <td>False</td>\n",
       "    </tr>\n",
       "    <tr>\n",
       "      <td>2151</td>\n",
       "      <td>False</td>\n",
       "      <td>False</td>\n",
       "      <td>False</td>\n",
       "      <td>False</td>\n",
       "      <td>True</td>\n",
       "      <td>True</td>\n",
       "      <td>False</td>\n",
       "    </tr>\n",
       "    <tr>\n",
       "      <td>1660</td>\n",
       "      <td>False</td>\n",
       "      <td>False</td>\n",
       "      <td>False</td>\n",
       "      <td>False</td>\n",
       "      <td>False</td>\n",
       "      <td>False</td>\n",
       "      <td>False</td>\n",
       "    </tr>\n",
       "    <tr>\n",
       "      <td>1819</td>\n",
       "      <td>False</td>\n",
       "      <td>False</td>\n",
       "      <td>False</td>\n",
       "      <td>False</td>\n",
       "      <td>False</td>\n",
       "      <td>False</td>\n",
       "      <td>False</td>\n",
       "    </tr>\n",
       "    <tr>\n",
       "      <td>1745</td>\n",
       "      <td>False</td>\n",
       "      <td>False</td>\n",
       "      <td>False</td>\n",
       "      <td>False</td>\n",
       "      <td>False</td>\n",
       "      <td>False</td>\n",
       "      <td>False</td>\n",
       "    </tr>\n",
       "    <tr>\n",
       "      <td>1415</td>\n",
       "      <td>False</td>\n",
       "      <td>False</td>\n",
       "      <td>False</td>\n",
       "      <td>False</td>\n",
       "      <td>False</td>\n",
       "      <td>False</td>\n",
       "      <td>False</td>\n",
       "    </tr>\n",
       "    <tr>\n",
       "      <td>1478</td>\n",
       "      <td>False</td>\n",
       "      <td>False</td>\n",
       "      <td>False</td>\n",
       "      <td>False</td>\n",
       "      <td>False</td>\n",
       "      <td>False</td>\n",
       "      <td>False</td>\n",
       "    </tr>\n",
       "    <tr>\n",
       "      <td>1926</td>\n",
       "      <td>False</td>\n",
       "      <td>False</td>\n",
       "      <td>False</td>\n",
       "      <td>False</td>\n",
       "      <td>True</td>\n",
       "      <td>False</td>\n",
       "      <td>False</td>\n",
       "    </tr>\n",
       "    <tr>\n",
       "      <td>1915</td>\n",
       "      <td>False</td>\n",
       "      <td>False</td>\n",
       "      <td>False</td>\n",
       "      <td>False</td>\n",
       "      <td>False</td>\n",
       "      <td>False</td>\n",
       "      <td>False</td>\n",
       "    </tr>\n",
       "    <tr>\n",
       "      <td>1510</td>\n",
       "      <td>False</td>\n",
       "      <td>False</td>\n",
       "      <td>False</td>\n",
       "      <td>False</td>\n",
       "      <td>False</td>\n",
       "      <td>False</td>\n",
       "      <td>False</td>\n",
       "    </tr>\n",
       "    <tr>\n",
       "      <td>2049</td>\n",
       "      <td>False</td>\n",
       "      <td>False</td>\n",
       "      <td>False</td>\n",
       "      <td>False</td>\n",
       "      <td>True</td>\n",
       "      <td>True</td>\n",
       "      <td>False</td>\n",
       "    </tr>\n",
       "    <tr>\n",
       "      <td>1982</td>\n",
       "      <td>False</td>\n",
       "      <td>False</td>\n",
       "      <td>False</td>\n",
       "      <td>False</td>\n",
       "      <td>True</td>\n",
       "      <td>True</td>\n",
       "      <td>False</td>\n",
       "    </tr>\n",
       "    <tr>\n",
       "      <td>1830</td>\n",
       "      <td>False</td>\n",
       "      <td>False</td>\n",
       "      <td>False</td>\n",
       "      <td>False</td>\n",
       "      <td>False</td>\n",
       "      <td>False</td>\n",
       "      <td>False</td>\n",
       "    </tr>\n",
       "    <tr>\n",
       "      <td>1893</td>\n",
       "      <td>False</td>\n",
       "      <td>False</td>\n",
       "      <td>False</td>\n",
       "      <td>False</td>\n",
       "      <td>False</td>\n",
       "      <td>False</td>\n",
       "      <td>False</td>\n",
       "    </tr>\n",
       "    <tr>\n",
       "      <td>1555</td>\n",
       "      <td>False</td>\n",
       "      <td>False</td>\n",
       "      <td>False</td>\n",
       "      <td>False</td>\n",
       "      <td>False</td>\n",
       "      <td>False</td>\n",
       "      <td>False</td>\n",
       "    </tr>\n",
       "    <tr>\n",
       "      <td>1629</td>\n",
       "      <td>False</td>\n",
       "      <td>False</td>\n",
       "      <td>False</td>\n",
       "      <td>False</td>\n",
       "      <td>False</td>\n",
       "      <td>False</td>\n",
       "      <td>False</td>\n",
       "    </tr>\n",
       "    <tr>\n",
       "      <td>1779</td>\n",
       "      <td>False</td>\n",
       "      <td>False</td>\n",
       "      <td>False</td>\n",
       "      <td>False</td>\n",
       "      <td>False</td>\n",
       "      <td>False</td>\n",
       "      <td>False</td>\n",
       "    </tr>\n",
       "    <tr>\n",
       "      <td>1767</td>\n",
       "      <td>False</td>\n",
       "      <td>False</td>\n",
       "      <td>False</td>\n",
       "      <td>False</td>\n",
       "      <td>False</td>\n",
       "      <td>False</td>\n",
       "      <td>False</td>\n",
       "    </tr>\n",
       "    <tr>\n",
       "      <td>1710</td>\n",
       "      <td>False</td>\n",
       "      <td>False</td>\n",
       "      <td>False</td>\n",
       "      <td>False</td>\n",
       "      <td>False</td>\n",
       "      <td>False</td>\n",
       "      <td>False</td>\n",
       "    </tr>\n",
       "  </tbody>\n",
       "</table>\n",
       "</div>"
      ],
      "text/plain": [
       "      UNITID  INSTNM  STABBR  REGION  ADM_RATE  TUITIONFEE_IN   Year\n",
       "1694   False   False   False   False     False          False  False\n",
       "1955   False   False   False   False      True           True  False\n",
       "1799   False   False   False   False     False          False  False\n",
       "1610   False   False   False   False     False          False  False\n",
       "1873   False   False   False   False     False          False  False\n",
       "2151   False   False   False   False      True           True  False\n",
       "1660   False   False   False   False     False          False  False\n",
       "1819   False   False   False   False     False          False  False\n",
       "1745   False   False   False   False     False          False  False\n",
       "1415   False   False   False   False     False          False  False\n",
       "1478   False   False   False   False     False          False  False\n",
       "1926   False   False   False   False      True          False  False\n",
       "1915   False   False   False   False     False          False  False\n",
       "1510   False   False   False   False     False          False  False\n",
       "2049   False   False   False   False      True           True  False\n",
       "1982   False   False   False   False      True           True  False\n",
       "1830   False   False   False   False     False          False  False\n",
       "1893   False   False   False   False     False          False  False\n",
       "1555   False   False   False   False     False          False  False\n",
       "1629   False   False   False   False     False          False  False\n",
       "1779   False   False   False   False     False          False  False\n",
       "1767   False   False   False   False     False          False  False\n",
       "1710   False   False   False   False     False          False  False"
      ]
     },
     "execution_count": 18,
     "metadata": {},
     "output_type": "execute_result"
    }
   ],
   "source": [
    "UMBC_df.isnull()"
   ]
  },
  {
   "cell_type": "code",
   "execution_count": 19,
   "metadata": {},
   "outputs": [
    {
     "data": {
      "text/html": [
       "<div>\n",
       "<style scoped>\n",
       "    .dataframe tbody tr th:only-of-type {\n",
       "        vertical-align: middle;\n",
       "    }\n",
       "\n",
       "    .dataframe tbody tr th {\n",
       "        vertical-align: top;\n",
       "    }\n",
       "\n",
       "    .dataframe thead th {\n",
       "        text-align: right;\n",
       "    }\n",
       "</style>\n",
       "<table border=\"1\" class=\"dataframe\">\n",
       "  <thead>\n",
       "    <tr style=\"text-align: right;\">\n",
       "      <th></th>\n",
       "      <th>UNITID</th>\n",
       "      <th>REGION</th>\n",
       "      <th>ADM_RATE</th>\n",
       "      <th>TUITIONFEE_IN</th>\n",
       "      <th>Year</th>\n",
       "    </tr>\n",
       "  </thead>\n",
       "  <tbody>\n",
       "    <tr>\n",
       "      <td>count</td>\n",
       "      <td>23.0</td>\n",
       "      <td>23.0</td>\n",
       "      <td>18.000000</td>\n",
       "      <td>19.000000</td>\n",
       "      <td>23.00000</td>\n",
       "    </tr>\n",
       "    <tr>\n",
       "      <td>mean</td>\n",
       "      <td>163268.0</td>\n",
       "      <td>2.0</td>\n",
       "      <td>0.640694</td>\n",
       "      <td>9004.842105</td>\n",
       "      <td>2007.00000</td>\n",
       "    </tr>\n",
       "    <tr>\n",
       "      <td>std</td>\n",
       "      <td>0.0</td>\n",
       "      <td>0.0</td>\n",
       "      <td>0.052728</td>\n",
       "      <td>1825.795421</td>\n",
       "      <td>6.78233</td>\n",
       "    </tr>\n",
       "    <tr>\n",
       "      <td>min</td>\n",
       "      <td>163268.0</td>\n",
       "      <td>2.0</td>\n",
       "      <td>0.568300</td>\n",
       "      <td>5490.000000</td>\n",
       "      <td>1996.00000</td>\n",
       "    </tr>\n",
       "    <tr>\n",
       "      <td>25%</td>\n",
       "      <td>163268.0</td>\n",
       "      <td>2.0</td>\n",
       "      <td>0.597600</td>\n",
       "      <td>8270.000000</td>\n",
       "      <td>2001.50000</td>\n",
       "    </tr>\n",
       "    <tr>\n",
       "      <td>50%</td>\n",
       "      <td>163268.0</td>\n",
       "      <td>2.0</td>\n",
       "      <td>0.632100</td>\n",
       "      <td>8872.000000</td>\n",
       "      <td>2007.00000</td>\n",
       "    </tr>\n",
       "    <tr>\n",
       "      <td>75%</td>\n",
       "      <td>163268.0</td>\n",
       "      <td>2.0</td>\n",
       "      <td>0.689375</td>\n",
       "      <td>10226.000000</td>\n",
       "      <td>2012.50000</td>\n",
       "    </tr>\n",
       "    <tr>\n",
       "      <td>max</td>\n",
       "      <td>163268.0</td>\n",
       "      <td>2.0</td>\n",
       "      <td>0.717400</td>\n",
       "      <td>11778.000000</td>\n",
       "      <td>2018.00000</td>\n",
       "    </tr>\n",
       "  </tbody>\n",
       "</table>\n",
       "</div>"
      ],
      "text/plain": [
       "         UNITID  REGION   ADM_RATE  TUITIONFEE_IN        Year\n",
       "count      23.0    23.0  18.000000      19.000000    23.00000\n",
       "mean   163268.0     2.0   0.640694    9004.842105  2007.00000\n",
       "std         0.0     0.0   0.052728    1825.795421     6.78233\n",
       "min    163268.0     2.0   0.568300    5490.000000  1996.00000\n",
       "25%    163268.0     2.0   0.597600    8270.000000  2001.50000\n",
       "50%    163268.0     2.0   0.632100    8872.000000  2007.00000\n",
       "75%    163268.0     2.0   0.689375   10226.000000  2012.50000\n",
       "max    163268.0     2.0   0.717400   11778.000000  2018.00000"
      ]
     },
     "execution_count": 19,
     "metadata": {},
     "output_type": "execute_result"
    }
   ],
   "source": [
    "UMBC_df.describe()"
   ]
  },
  {
   "cell_type": "code",
   "execution_count": 20,
   "metadata": {},
   "outputs": [],
   "source": [
    "UMBC_df2 = UMBC_df.sort_values('Year', ascending =True)"
   ]
  },
  {
   "cell_type": "markdown",
   "metadata": {},
   "source": [
    "**Plot UMBC's in-state tution overtime from 1996 to 2019 using Line Chart**"
   ]
  },
  {
   "cell_type": "code",
   "execution_count": 23,
   "metadata": {},
   "outputs": [
    {
     "data": {
      "application/vnd.plotly.v1+json": {
       "config": {
        "plotlyServerURL": "https://plot.ly"
       },
       "data": [
        {
         "hovertemplate": "INSTNM=University of Maryland-Baltimore County<br>Year=%{x}<br>TUITIONFEE_IN=%{y}<extra></extra>",
         "legendgroup": "University of Maryland-Baltimore County",
         "line": {
          "color": "#636efa",
          "dash": "solid"
         },
         "mode": "lines",
         "name": "University of Maryland-Baltimore County",
         "showlegend": true,
         "type": "scatter",
         "x": [
          1996,
          1997,
          1998,
          1999,
          2000,
          2001,
          2002,
          2003,
          2004,
          2005,
          2006,
          2007,
          2008,
          2009,
          2010,
          2011,
          2012,
          2013,
          2014,
          2015,
          2016,
          2017,
          2018
         ],
         "xaxis": "x",
         "y": [
          null,
          null,
          null,
          null,
          5490,
          5910,
          6362,
          7388,
          8020,
          8520,
          8622,
          8708,
          8780,
          8872,
          9171,
          9467,
          9764,
          10068,
          10384,
          11006,
          11264,
          11518,
          11778
         ],
         "yaxis": "y"
        }
       ],
       "layout": {
        "legend": {
         "title": {
          "text": "INSTNM"
         },
         "tracegroupgap": 0
        },
        "template": {
         "data": {
          "bar": [
           {
            "error_x": {
             "color": "#2a3f5f"
            },
            "error_y": {
             "color": "#2a3f5f"
            },
            "marker": {
             "line": {
              "color": "#E5ECF6",
              "width": 0.5
             }
            },
            "type": "bar"
           }
          ],
          "barpolar": [
           {
            "marker": {
             "line": {
              "color": "#E5ECF6",
              "width": 0.5
             }
            },
            "type": "barpolar"
           }
          ],
          "carpet": [
           {
            "aaxis": {
             "endlinecolor": "#2a3f5f",
             "gridcolor": "white",
             "linecolor": "white",
             "minorgridcolor": "white",
             "startlinecolor": "#2a3f5f"
            },
            "baxis": {
             "endlinecolor": "#2a3f5f",
             "gridcolor": "white",
             "linecolor": "white",
             "minorgridcolor": "white",
             "startlinecolor": "#2a3f5f"
            },
            "type": "carpet"
           }
          ],
          "choropleth": [
           {
            "colorbar": {
             "outlinewidth": 0,
             "ticks": ""
            },
            "type": "choropleth"
           }
          ],
          "contour": [
           {
            "colorbar": {
             "outlinewidth": 0,
             "ticks": ""
            },
            "colorscale": [
             [
              0,
              "#0d0887"
             ],
             [
              0.1111111111111111,
              "#46039f"
             ],
             [
              0.2222222222222222,
              "#7201a8"
             ],
             [
              0.3333333333333333,
              "#9c179e"
             ],
             [
              0.4444444444444444,
              "#bd3786"
             ],
             [
              0.5555555555555556,
              "#d8576b"
             ],
             [
              0.6666666666666666,
              "#ed7953"
             ],
             [
              0.7777777777777778,
              "#fb9f3a"
             ],
             [
              0.8888888888888888,
              "#fdca26"
             ],
             [
              1,
              "#f0f921"
             ]
            ],
            "type": "contour"
           }
          ],
          "contourcarpet": [
           {
            "colorbar": {
             "outlinewidth": 0,
             "ticks": ""
            },
            "type": "contourcarpet"
           }
          ],
          "heatmap": [
           {
            "colorbar": {
             "outlinewidth": 0,
             "ticks": ""
            },
            "colorscale": [
             [
              0,
              "#0d0887"
             ],
             [
              0.1111111111111111,
              "#46039f"
             ],
             [
              0.2222222222222222,
              "#7201a8"
             ],
             [
              0.3333333333333333,
              "#9c179e"
             ],
             [
              0.4444444444444444,
              "#bd3786"
             ],
             [
              0.5555555555555556,
              "#d8576b"
             ],
             [
              0.6666666666666666,
              "#ed7953"
             ],
             [
              0.7777777777777778,
              "#fb9f3a"
             ],
             [
              0.8888888888888888,
              "#fdca26"
             ],
             [
              1,
              "#f0f921"
             ]
            ],
            "type": "heatmap"
           }
          ],
          "heatmapgl": [
           {
            "colorbar": {
             "outlinewidth": 0,
             "ticks": ""
            },
            "colorscale": [
             [
              0,
              "#0d0887"
             ],
             [
              0.1111111111111111,
              "#46039f"
             ],
             [
              0.2222222222222222,
              "#7201a8"
             ],
             [
              0.3333333333333333,
              "#9c179e"
             ],
             [
              0.4444444444444444,
              "#bd3786"
             ],
             [
              0.5555555555555556,
              "#d8576b"
             ],
             [
              0.6666666666666666,
              "#ed7953"
             ],
             [
              0.7777777777777778,
              "#fb9f3a"
             ],
             [
              0.8888888888888888,
              "#fdca26"
             ],
             [
              1,
              "#f0f921"
             ]
            ],
            "type": "heatmapgl"
           }
          ],
          "histogram": [
           {
            "marker": {
             "colorbar": {
              "outlinewidth": 0,
              "ticks": ""
             }
            },
            "type": "histogram"
           }
          ],
          "histogram2d": [
           {
            "colorbar": {
             "outlinewidth": 0,
             "ticks": ""
            },
            "colorscale": [
             [
              0,
              "#0d0887"
             ],
             [
              0.1111111111111111,
              "#46039f"
             ],
             [
              0.2222222222222222,
              "#7201a8"
             ],
             [
              0.3333333333333333,
              "#9c179e"
             ],
             [
              0.4444444444444444,
              "#bd3786"
             ],
             [
              0.5555555555555556,
              "#d8576b"
             ],
             [
              0.6666666666666666,
              "#ed7953"
             ],
             [
              0.7777777777777778,
              "#fb9f3a"
             ],
             [
              0.8888888888888888,
              "#fdca26"
             ],
             [
              1,
              "#f0f921"
             ]
            ],
            "type": "histogram2d"
           }
          ],
          "histogram2dcontour": [
           {
            "colorbar": {
             "outlinewidth": 0,
             "ticks": ""
            },
            "colorscale": [
             [
              0,
              "#0d0887"
             ],
             [
              0.1111111111111111,
              "#46039f"
             ],
             [
              0.2222222222222222,
              "#7201a8"
             ],
             [
              0.3333333333333333,
              "#9c179e"
             ],
             [
              0.4444444444444444,
              "#bd3786"
             ],
             [
              0.5555555555555556,
              "#d8576b"
             ],
             [
              0.6666666666666666,
              "#ed7953"
             ],
             [
              0.7777777777777778,
              "#fb9f3a"
             ],
             [
              0.8888888888888888,
              "#fdca26"
             ],
             [
              1,
              "#f0f921"
             ]
            ],
            "type": "histogram2dcontour"
           }
          ],
          "mesh3d": [
           {
            "colorbar": {
             "outlinewidth": 0,
             "ticks": ""
            },
            "type": "mesh3d"
           }
          ],
          "parcoords": [
           {
            "line": {
             "colorbar": {
              "outlinewidth": 0,
              "ticks": ""
             }
            },
            "type": "parcoords"
           }
          ],
          "pie": [
           {
            "automargin": true,
            "type": "pie"
           }
          ],
          "scatter": [
           {
            "marker": {
             "colorbar": {
              "outlinewidth": 0,
              "ticks": ""
             }
            },
            "type": "scatter"
           }
          ],
          "scatter3d": [
           {
            "line": {
             "colorbar": {
              "outlinewidth": 0,
              "ticks": ""
             }
            },
            "marker": {
             "colorbar": {
              "outlinewidth": 0,
              "ticks": ""
             }
            },
            "type": "scatter3d"
           }
          ],
          "scattercarpet": [
           {
            "marker": {
             "colorbar": {
              "outlinewidth": 0,
              "ticks": ""
             }
            },
            "type": "scattercarpet"
           }
          ],
          "scattergeo": [
           {
            "marker": {
             "colorbar": {
              "outlinewidth": 0,
              "ticks": ""
             }
            },
            "type": "scattergeo"
           }
          ],
          "scattergl": [
           {
            "marker": {
             "colorbar": {
              "outlinewidth": 0,
              "ticks": ""
             }
            },
            "type": "scattergl"
           }
          ],
          "scattermapbox": [
           {
            "marker": {
             "colorbar": {
              "outlinewidth": 0,
              "ticks": ""
             }
            },
            "type": "scattermapbox"
           }
          ],
          "scatterpolar": [
           {
            "marker": {
             "colorbar": {
              "outlinewidth": 0,
              "ticks": ""
             }
            },
            "type": "scatterpolar"
           }
          ],
          "scatterpolargl": [
           {
            "marker": {
             "colorbar": {
              "outlinewidth": 0,
              "ticks": ""
             }
            },
            "type": "scatterpolargl"
           }
          ],
          "scatterternary": [
           {
            "marker": {
             "colorbar": {
              "outlinewidth": 0,
              "ticks": ""
             }
            },
            "type": "scatterternary"
           }
          ],
          "surface": [
           {
            "colorbar": {
             "outlinewidth": 0,
             "ticks": ""
            },
            "colorscale": [
             [
              0,
              "#0d0887"
             ],
             [
              0.1111111111111111,
              "#46039f"
             ],
             [
              0.2222222222222222,
              "#7201a8"
             ],
             [
              0.3333333333333333,
              "#9c179e"
             ],
             [
              0.4444444444444444,
              "#bd3786"
             ],
             [
              0.5555555555555556,
              "#d8576b"
             ],
             [
              0.6666666666666666,
              "#ed7953"
             ],
             [
              0.7777777777777778,
              "#fb9f3a"
             ],
             [
              0.8888888888888888,
              "#fdca26"
             ],
             [
              1,
              "#f0f921"
             ]
            ],
            "type": "surface"
           }
          ],
          "table": [
           {
            "cells": {
             "fill": {
              "color": "#EBF0F8"
             },
             "line": {
              "color": "white"
             }
            },
            "header": {
             "fill": {
              "color": "#C8D4E3"
             },
             "line": {
              "color": "white"
             }
            },
            "type": "table"
           }
          ]
         },
         "layout": {
          "annotationdefaults": {
           "arrowcolor": "#2a3f5f",
           "arrowhead": 0,
           "arrowwidth": 1
          },
          "coloraxis": {
           "colorbar": {
            "outlinewidth": 0,
            "ticks": ""
           }
          },
          "colorscale": {
           "diverging": [
            [
             0,
             "#8e0152"
            ],
            [
             0.1,
             "#c51b7d"
            ],
            [
             0.2,
             "#de77ae"
            ],
            [
             0.3,
             "#f1b6da"
            ],
            [
             0.4,
             "#fde0ef"
            ],
            [
             0.5,
             "#f7f7f7"
            ],
            [
             0.6,
             "#e6f5d0"
            ],
            [
             0.7,
             "#b8e186"
            ],
            [
             0.8,
             "#7fbc41"
            ],
            [
             0.9,
             "#4d9221"
            ],
            [
             1,
             "#276419"
            ]
           ],
           "sequential": [
            [
             0,
             "#0d0887"
            ],
            [
             0.1111111111111111,
             "#46039f"
            ],
            [
             0.2222222222222222,
             "#7201a8"
            ],
            [
             0.3333333333333333,
             "#9c179e"
            ],
            [
             0.4444444444444444,
             "#bd3786"
            ],
            [
             0.5555555555555556,
             "#d8576b"
            ],
            [
             0.6666666666666666,
             "#ed7953"
            ],
            [
             0.7777777777777778,
             "#fb9f3a"
            ],
            [
             0.8888888888888888,
             "#fdca26"
            ],
            [
             1,
             "#f0f921"
            ]
           ],
           "sequentialminus": [
            [
             0,
             "#0d0887"
            ],
            [
             0.1111111111111111,
             "#46039f"
            ],
            [
             0.2222222222222222,
             "#7201a8"
            ],
            [
             0.3333333333333333,
             "#9c179e"
            ],
            [
             0.4444444444444444,
             "#bd3786"
            ],
            [
             0.5555555555555556,
             "#d8576b"
            ],
            [
             0.6666666666666666,
             "#ed7953"
            ],
            [
             0.7777777777777778,
             "#fb9f3a"
            ],
            [
             0.8888888888888888,
             "#fdca26"
            ],
            [
             1,
             "#f0f921"
            ]
           ]
          },
          "colorway": [
           "#636efa",
           "#EF553B",
           "#00cc96",
           "#ab63fa",
           "#FFA15A",
           "#19d3f3",
           "#FF6692",
           "#B6E880",
           "#FF97FF",
           "#FECB52"
          ],
          "font": {
           "color": "#2a3f5f"
          },
          "geo": {
           "bgcolor": "white",
           "lakecolor": "white",
           "landcolor": "#E5ECF6",
           "showlakes": true,
           "showland": true,
           "subunitcolor": "white"
          },
          "hoverlabel": {
           "align": "left"
          },
          "hovermode": "closest",
          "mapbox": {
           "style": "light"
          },
          "paper_bgcolor": "white",
          "plot_bgcolor": "#E5ECF6",
          "polar": {
           "angularaxis": {
            "gridcolor": "white",
            "linecolor": "white",
            "ticks": ""
           },
           "bgcolor": "#E5ECF6",
           "radialaxis": {
            "gridcolor": "white",
            "linecolor": "white",
            "ticks": ""
           }
          },
          "scene": {
           "xaxis": {
            "backgroundcolor": "#E5ECF6",
            "gridcolor": "white",
            "gridwidth": 2,
            "linecolor": "white",
            "showbackground": true,
            "ticks": "",
            "zerolinecolor": "white"
           },
           "yaxis": {
            "backgroundcolor": "#E5ECF6",
            "gridcolor": "white",
            "gridwidth": 2,
            "linecolor": "white",
            "showbackground": true,
            "ticks": "",
            "zerolinecolor": "white"
           },
           "zaxis": {
            "backgroundcolor": "#E5ECF6",
            "gridcolor": "white",
            "gridwidth": 2,
            "linecolor": "white",
            "showbackground": true,
            "ticks": "",
            "zerolinecolor": "white"
           }
          },
          "shapedefaults": {
           "line": {
            "color": "#2a3f5f"
           }
          },
          "ternary": {
           "aaxis": {
            "gridcolor": "white",
            "linecolor": "white",
            "ticks": ""
           },
           "baxis": {
            "gridcolor": "white",
            "linecolor": "white",
            "ticks": ""
           },
           "bgcolor": "#E5ECF6",
           "caxis": {
            "gridcolor": "white",
            "linecolor": "white",
            "ticks": ""
           }
          },
          "title": {
           "x": 0.05
          },
          "xaxis": {
           "automargin": true,
           "gridcolor": "white",
           "linecolor": "white",
           "ticks": "",
           "title": {
            "standoff": 15
           },
           "zerolinecolor": "white",
           "zerolinewidth": 2
          },
          "yaxis": {
           "automargin": true,
           "gridcolor": "white",
           "linecolor": "white",
           "ticks": "",
           "title": {
            "standoff": 15
           },
           "zerolinecolor": "white",
           "zerolinewidth": 2
          }
         }
        },
        "title": {
         "text": "UMBC In-State Tuition (Line)"
        },
        "xaxis": {
         "anchor": "y",
         "domain": [
          0,
          1
         ],
         "title": {
          "text": "Year"
         }
        },
        "yaxis": {
         "anchor": "x",
         "domain": [
          0,
          1
         ],
         "title": {
          "text": "TUITIONFEE_IN"
         }
        }
       }
      },
      "text/html": [
       "<div>\n",
       "        \n",
       "        \n",
       "            <div id=\"22b71a96-e8ee-4c68-8e3b-18ecbb471dbb\" class=\"plotly-graph-div\" style=\"height:525px; width:100%;\"></div>\n",
       "            <script type=\"text/javascript\">\n",
       "                require([\"plotly\"], function(Plotly) {\n",
       "                    window.PLOTLYENV=window.PLOTLYENV || {};\n",
       "                    \n",
       "                if (document.getElementById(\"22b71a96-e8ee-4c68-8e3b-18ecbb471dbb\")) {\n",
       "                    Plotly.newPlot(\n",
       "                        '22b71a96-e8ee-4c68-8e3b-18ecbb471dbb',\n",
       "                        [{\"hovertemplate\": \"INSTNM=University of Maryland-Baltimore County<br>Year=%{x}<br>TUITIONFEE_IN=%{y}<extra></extra>\", \"legendgroup\": \"University of Maryland-Baltimore County\", \"line\": {\"color\": \"#636efa\", \"dash\": \"solid\"}, \"mode\": \"lines\", \"name\": \"University of Maryland-Baltimore County\", \"showlegend\": true, \"type\": \"scatter\", \"x\": [1996, 1997, 1998, 1999, 2000, 2001, 2002, 2003, 2004, 2005, 2006, 2007, 2008, 2009, 2010, 2011, 2012, 2013, 2014, 2015, 2016, 2017, 2018], \"xaxis\": \"x\", \"y\": [null, null, null, null, 5490.0, 5910.0, 6362.0, 7388.0, 8020.0, 8520.0, 8622.0, 8708.0, 8780.0, 8872.0, 9171.0, 9467.0, 9764.0, 10068.0, 10384.0, 11006.0, 11264.0, 11518.0, 11778.0], \"yaxis\": \"y\"}],\n",
       "                        {\"legend\": {\"title\": {\"text\": \"INSTNM\"}, \"tracegroupgap\": 0}, \"template\": {\"data\": {\"bar\": [{\"error_x\": {\"color\": \"#2a3f5f\"}, \"error_y\": {\"color\": \"#2a3f5f\"}, \"marker\": {\"line\": {\"color\": \"#E5ECF6\", \"width\": 0.5}}, \"type\": \"bar\"}], \"barpolar\": [{\"marker\": {\"line\": {\"color\": \"#E5ECF6\", \"width\": 0.5}}, \"type\": \"barpolar\"}], \"carpet\": [{\"aaxis\": {\"endlinecolor\": \"#2a3f5f\", \"gridcolor\": \"white\", \"linecolor\": \"white\", \"minorgridcolor\": \"white\", \"startlinecolor\": \"#2a3f5f\"}, \"baxis\": {\"endlinecolor\": \"#2a3f5f\", \"gridcolor\": \"white\", \"linecolor\": \"white\", \"minorgridcolor\": \"white\", \"startlinecolor\": \"#2a3f5f\"}, \"type\": \"carpet\"}], \"choropleth\": [{\"colorbar\": {\"outlinewidth\": 0, \"ticks\": \"\"}, \"type\": \"choropleth\"}], \"contour\": [{\"colorbar\": {\"outlinewidth\": 0, \"ticks\": \"\"}, \"colorscale\": [[0.0, \"#0d0887\"], [0.1111111111111111, \"#46039f\"], [0.2222222222222222, \"#7201a8\"], [0.3333333333333333, \"#9c179e\"], [0.4444444444444444, \"#bd3786\"], [0.5555555555555556, \"#d8576b\"], [0.6666666666666666, \"#ed7953\"], [0.7777777777777778, \"#fb9f3a\"], [0.8888888888888888, \"#fdca26\"], [1.0, \"#f0f921\"]], \"type\": \"contour\"}], \"contourcarpet\": [{\"colorbar\": {\"outlinewidth\": 0, \"ticks\": \"\"}, \"type\": \"contourcarpet\"}], \"heatmap\": [{\"colorbar\": {\"outlinewidth\": 0, \"ticks\": \"\"}, \"colorscale\": [[0.0, \"#0d0887\"], [0.1111111111111111, \"#46039f\"], [0.2222222222222222, \"#7201a8\"], [0.3333333333333333, \"#9c179e\"], [0.4444444444444444, \"#bd3786\"], [0.5555555555555556, \"#d8576b\"], [0.6666666666666666, \"#ed7953\"], [0.7777777777777778, \"#fb9f3a\"], [0.8888888888888888, \"#fdca26\"], [1.0, \"#f0f921\"]], \"type\": \"heatmap\"}], \"heatmapgl\": [{\"colorbar\": {\"outlinewidth\": 0, \"ticks\": \"\"}, \"colorscale\": [[0.0, \"#0d0887\"], [0.1111111111111111, \"#46039f\"], [0.2222222222222222, \"#7201a8\"], [0.3333333333333333, \"#9c179e\"], [0.4444444444444444, \"#bd3786\"], [0.5555555555555556, \"#d8576b\"], [0.6666666666666666, \"#ed7953\"], [0.7777777777777778, \"#fb9f3a\"], [0.8888888888888888, \"#fdca26\"], [1.0, \"#f0f921\"]], \"type\": \"heatmapgl\"}], \"histogram\": [{\"marker\": {\"colorbar\": {\"outlinewidth\": 0, \"ticks\": \"\"}}, \"type\": \"histogram\"}], \"histogram2d\": [{\"colorbar\": {\"outlinewidth\": 0, \"ticks\": \"\"}, \"colorscale\": [[0.0, \"#0d0887\"], [0.1111111111111111, \"#46039f\"], [0.2222222222222222, \"#7201a8\"], [0.3333333333333333, \"#9c179e\"], [0.4444444444444444, \"#bd3786\"], [0.5555555555555556, \"#d8576b\"], [0.6666666666666666, \"#ed7953\"], [0.7777777777777778, \"#fb9f3a\"], [0.8888888888888888, \"#fdca26\"], [1.0, \"#f0f921\"]], \"type\": \"histogram2d\"}], \"histogram2dcontour\": [{\"colorbar\": {\"outlinewidth\": 0, \"ticks\": \"\"}, \"colorscale\": [[0.0, \"#0d0887\"], [0.1111111111111111, \"#46039f\"], [0.2222222222222222, \"#7201a8\"], [0.3333333333333333, \"#9c179e\"], [0.4444444444444444, \"#bd3786\"], [0.5555555555555556, \"#d8576b\"], [0.6666666666666666, \"#ed7953\"], [0.7777777777777778, \"#fb9f3a\"], [0.8888888888888888, \"#fdca26\"], [1.0, \"#f0f921\"]], \"type\": \"histogram2dcontour\"}], \"mesh3d\": [{\"colorbar\": {\"outlinewidth\": 0, \"ticks\": \"\"}, \"type\": \"mesh3d\"}], \"parcoords\": [{\"line\": {\"colorbar\": {\"outlinewidth\": 0, \"ticks\": \"\"}}, \"type\": \"parcoords\"}], \"pie\": [{\"automargin\": true, \"type\": \"pie\"}], \"scatter\": [{\"marker\": {\"colorbar\": {\"outlinewidth\": 0, \"ticks\": \"\"}}, \"type\": \"scatter\"}], \"scatter3d\": [{\"line\": {\"colorbar\": {\"outlinewidth\": 0, \"ticks\": \"\"}}, \"marker\": {\"colorbar\": {\"outlinewidth\": 0, \"ticks\": \"\"}}, \"type\": \"scatter3d\"}], \"scattercarpet\": [{\"marker\": {\"colorbar\": {\"outlinewidth\": 0, \"ticks\": \"\"}}, \"type\": \"scattercarpet\"}], \"scattergeo\": [{\"marker\": {\"colorbar\": {\"outlinewidth\": 0, \"ticks\": \"\"}}, \"type\": \"scattergeo\"}], \"scattergl\": [{\"marker\": {\"colorbar\": {\"outlinewidth\": 0, \"ticks\": \"\"}}, \"type\": \"scattergl\"}], \"scattermapbox\": [{\"marker\": {\"colorbar\": {\"outlinewidth\": 0, \"ticks\": \"\"}}, \"type\": \"scattermapbox\"}], \"scatterpolar\": [{\"marker\": {\"colorbar\": {\"outlinewidth\": 0, \"ticks\": \"\"}}, \"type\": \"scatterpolar\"}], \"scatterpolargl\": [{\"marker\": {\"colorbar\": {\"outlinewidth\": 0, \"ticks\": \"\"}}, \"type\": \"scatterpolargl\"}], \"scatterternary\": [{\"marker\": {\"colorbar\": {\"outlinewidth\": 0, \"ticks\": \"\"}}, \"type\": \"scatterternary\"}], \"surface\": [{\"colorbar\": {\"outlinewidth\": 0, \"ticks\": \"\"}, \"colorscale\": [[0.0, \"#0d0887\"], [0.1111111111111111, \"#46039f\"], [0.2222222222222222, \"#7201a8\"], [0.3333333333333333, \"#9c179e\"], [0.4444444444444444, \"#bd3786\"], [0.5555555555555556, \"#d8576b\"], [0.6666666666666666, \"#ed7953\"], [0.7777777777777778, \"#fb9f3a\"], [0.8888888888888888, \"#fdca26\"], [1.0, \"#f0f921\"]], \"type\": \"surface\"}], \"table\": [{\"cells\": {\"fill\": {\"color\": \"#EBF0F8\"}, \"line\": {\"color\": \"white\"}}, \"header\": {\"fill\": {\"color\": \"#C8D4E3\"}, \"line\": {\"color\": \"white\"}}, \"type\": \"table\"}]}, \"layout\": {\"annotationdefaults\": {\"arrowcolor\": \"#2a3f5f\", \"arrowhead\": 0, \"arrowwidth\": 1}, \"coloraxis\": {\"colorbar\": {\"outlinewidth\": 0, \"ticks\": \"\"}}, \"colorscale\": {\"diverging\": [[0, \"#8e0152\"], [0.1, \"#c51b7d\"], [0.2, \"#de77ae\"], [0.3, \"#f1b6da\"], [0.4, \"#fde0ef\"], [0.5, \"#f7f7f7\"], [0.6, \"#e6f5d0\"], [0.7, \"#b8e186\"], [0.8, \"#7fbc41\"], [0.9, \"#4d9221\"], [1, \"#276419\"]], \"sequential\": [[0.0, \"#0d0887\"], [0.1111111111111111, \"#46039f\"], [0.2222222222222222, \"#7201a8\"], [0.3333333333333333, \"#9c179e\"], [0.4444444444444444, \"#bd3786\"], [0.5555555555555556, \"#d8576b\"], [0.6666666666666666, \"#ed7953\"], [0.7777777777777778, \"#fb9f3a\"], [0.8888888888888888, \"#fdca26\"], [1.0, \"#f0f921\"]], \"sequentialminus\": [[0.0, \"#0d0887\"], [0.1111111111111111, \"#46039f\"], [0.2222222222222222, \"#7201a8\"], [0.3333333333333333, \"#9c179e\"], [0.4444444444444444, \"#bd3786\"], [0.5555555555555556, \"#d8576b\"], [0.6666666666666666, \"#ed7953\"], [0.7777777777777778, \"#fb9f3a\"], [0.8888888888888888, \"#fdca26\"], [1.0, \"#f0f921\"]]}, \"colorway\": [\"#636efa\", \"#EF553B\", \"#00cc96\", \"#ab63fa\", \"#FFA15A\", \"#19d3f3\", \"#FF6692\", \"#B6E880\", \"#FF97FF\", \"#FECB52\"], \"font\": {\"color\": \"#2a3f5f\"}, \"geo\": {\"bgcolor\": \"white\", \"lakecolor\": \"white\", \"landcolor\": \"#E5ECF6\", \"showlakes\": true, \"showland\": true, \"subunitcolor\": \"white\"}, \"hoverlabel\": {\"align\": \"left\"}, \"hovermode\": \"closest\", \"mapbox\": {\"style\": \"light\"}, \"paper_bgcolor\": \"white\", \"plot_bgcolor\": \"#E5ECF6\", \"polar\": {\"angularaxis\": {\"gridcolor\": \"white\", \"linecolor\": \"white\", \"ticks\": \"\"}, \"bgcolor\": \"#E5ECF6\", \"radialaxis\": {\"gridcolor\": \"white\", \"linecolor\": \"white\", \"ticks\": \"\"}}, \"scene\": {\"xaxis\": {\"backgroundcolor\": \"#E5ECF6\", \"gridcolor\": \"white\", \"gridwidth\": 2, \"linecolor\": \"white\", \"showbackground\": true, \"ticks\": \"\", \"zerolinecolor\": \"white\"}, \"yaxis\": {\"backgroundcolor\": \"#E5ECF6\", \"gridcolor\": \"white\", \"gridwidth\": 2, \"linecolor\": \"white\", \"showbackground\": true, \"ticks\": \"\", \"zerolinecolor\": \"white\"}, \"zaxis\": {\"backgroundcolor\": \"#E5ECF6\", \"gridcolor\": \"white\", \"gridwidth\": 2, \"linecolor\": \"white\", \"showbackground\": true, \"ticks\": \"\", \"zerolinecolor\": \"white\"}}, \"shapedefaults\": {\"line\": {\"color\": \"#2a3f5f\"}}, \"ternary\": {\"aaxis\": {\"gridcolor\": \"white\", \"linecolor\": \"white\", \"ticks\": \"\"}, \"baxis\": {\"gridcolor\": \"white\", \"linecolor\": \"white\", \"ticks\": \"\"}, \"bgcolor\": \"#E5ECF6\", \"caxis\": {\"gridcolor\": \"white\", \"linecolor\": \"white\", \"ticks\": \"\"}}, \"title\": {\"x\": 0.05}, \"xaxis\": {\"automargin\": true, \"gridcolor\": \"white\", \"linecolor\": \"white\", \"ticks\": \"\", \"title\": {\"standoff\": 15}, \"zerolinecolor\": \"white\", \"zerolinewidth\": 2}, \"yaxis\": {\"automargin\": true, \"gridcolor\": \"white\", \"linecolor\": \"white\", \"ticks\": \"\", \"title\": {\"standoff\": 15}, \"zerolinecolor\": \"white\", \"zerolinewidth\": 2}}}, \"title\": {\"text\": \"UMBC In-State Tuition (Line)\"}, \"xaxis\": {\"anchor\": \"y\", \"domain\": [0.0, 1.0], \"title\": {\"text\": \"Year\"}}, \"yaxis\": {\"anchor\": \"x\", \"domain\": [0.0, 1.0], \"title\": {\"text\": \"TUITIONFEE_IN\"}}},\n",
       "                        {\"responsive\": true}\n",
       "                    ).then(function(){\n",
       "                            \n",
       "var gd = document.getElementById('22b71a96-e8ee-4c68-8e3b-18ecbb471dbb');\n",
       "var x = new MutationObserver(function (mutations, observer) {{\n",
       "        var display = window.getComputedStyle(gd).display;\n",
       "        if (!display || display === 'none') {{\n",
       "            console.log([gd, 'removed!']);\n",
       "            Plotly.purge(gd);\n",
       "            observer.disconnect();\n",
       "        }}\n",
       "}});\n",
       "\n",
       "// Listen for the removal of the full notebook cells\n",
       "var notebookContainer = gd.closest('#notebook-container');\n",
       "if (notebookContainer) {{\n",
       "    x.observe(notebookContainer, {childList: true});\n",
       "}}\n",
       "\n",
       "// Listen for the clearing of the current output cell\n",
       "var outputEl = gd.closest('.output');\n",
       "if (outputEl) {{\n",
       "    x.observe(outputEl, {childList: true});\n",
       "}}\n",
       "\n",
       "                        })\n",
       "                };\n",
       "                });\n",
       "            </script>\n",
       "        </div>"
      ]
     },
     "metadata": {},
     "output_type": "display_data"
    }
   ],
   "source": [
    "fig = px.line(UMBC_df2, x=\"Year\", y=\"TUITIONFEE_IN\", color='INSTNM', title = 'UMBC In-State Tuition (Line)')\n",
    "fig.show()"
   ]
  },
  {
   "cell_type": "markdown",
   "metadata": {},
   "source": [
    "**Plot UMBC's in-state tution overtime from 1996 to 2019 using Bar Chart**"
   ]
  },
  {
   "cell_type": "code",
   "execution_count": 24,
   "metadata": {},
   "outputs": [
    {
     "data": {
      "application/vnd.plotly.v1+json": {
       "config": {
        "plotlyServerURL": "https://plot.ly"
       },
       "data": [
        {
         "alignmentgroup": "True",
         "hovertemplate": "INSTNM=%{x}<br>Year=1996<br>TUITIONFEE_IN=%{y}<extra></extra>",
         "legendgroup": "University of Maryland-Baltimore County",
         "marker": {
          "color": "#636efa"
         },
         "name": "University of Maryland-Baltimore County",
         "offsetgroup": "University of Maryland-Baltimore County",
         "orientation": "v",
         "showlegend": true,
         "textposition": "auto",
         "type": "bar",
         "x": [
          "University of Maryland-Baltimore County"
         ],
         "xaxis": "x",
         "y": [
          null
         ],
         "yaxis": "y"
        }
       ],
       "frames": [
        {
         "data": [
          {
           "alignmentgroup": "True",
           "hovertemplate": "INSTNM=%{x}<br>Year=1996<br>TUITIONFEE_IN=%{y}<extra></extra>",
           "legendgroup": "University of Maryland-Baltimore County",
           "marker": {
            "color": "#636efa"
           },
           "name": "University of Maryland-Baltimore County",
           "offsetgroup": "University of Maryland-Baltimore County",
           "orientation": "v",
           "showlegend": true,
           "textposition": "auto",
           "type": "bar",
           "x": [
            "University of Maryland-Baltimore County"
           ],
           "xaxis": "x",
           "y": [
            null
           ],
           "yaxis": "y"
          }
         ],
         "name": "1996"
        },
        {
         "data": [
          {
           "alignmentgroup": "True",
           "hovertemplate": "INSTNM=%{x}<br>Year=1997<br>TUITIONFEE_IN=%{y}<extra></extra>",
           "legendgroup": "University of Maryland-Baltimore County",
           "marker": {
            "color": "#636efa"
           },
           "name": "University of Maryland-Baltimore County",
           "offsetgroup": "University of Maryland-Baltimore County",
           "orientation": "v",
           "showlegend": true,
           "textposition": "auto",
           "type": "bar",
           "x": [
            "University of Maryland-Baltimore County"
           ],
           "xaxis": "x",
           "y": [
            null
           ],
           "yaxis": "y"
          }
         ],
         "name": "1997"
        },
        {
         "data": [
          {
           "alignmentgroup": "True",
           "hovertemplate": "INSTNM=%{x}<br>Year=1998<br>TUITIONFEE_IN=%{y}<extra></extra>",
           "legendgroup": "University of Maryland-Baltimore County",
           "marker": {
            "color": "#636efa"
           },
           "name": "University of Maryland-Baltimore County",
           "offsetgroup": "University of Maryland-Baltimore County",
           "orientation": "v",
           "showlegend": true,
           "textposition": "auto",
           "type": "bar",
           "x": [
            "University of Maryland-Baltimore County"
           ],
           "xaxis": "x",
           "y": [
            null
           ],
           "yaxis": "y"
          }
         ],
         "name": "1998"
        },
        {
         "data": [
          {
           "alignmentgroup": "True",
           "hovertemplate": "INSTNM=%{x}<br>Year=1999<br>TUITIONFEE_IN=%{y}<extra></extra>",
           "legendgroup": "University of Maryland-Baltimore County",
           "marker": {
            "color": "#636efa"
           },
           "name": "University of Maryland-Baltimore County",
           "offsetgroup": "University of Maryland-Baltimore County",
           "orientation": "v",
           "showlegend": true,
           "textposition": "auto",
           "type": "bar",
           "x": [
            "University of Maryland-Baltimore County"
           ],
           "xaxis": "x",
           "y": [
            null
           ],
           "yaxis": "y"
          }
         ],
         "name": "1999"
        },
        {
         "data": [
          {
           "alignmentgroup": "True",
           "hovertemplate": "INSTNM=%{x}<br>Year=2000<br>TUITIONFEE_IN=%{y}<extra></extra>",
           "legendgroup": "University of Maryland-Baltimore County",
           "marker": {
            "color": "#636efa"
           },
           "name": "University of Maryland-Baltimore County",
           "offsetgroup": "University of Maryland-Baltimore County",
           "orientation": "v",
           "showlegend": true,
           "textposition": "auto",
           "type": "bar",
           "x": [
            "University of Maryland-Baltimore County"
           ],
           "xaxis": "x",
           "y": [
            5490
           ],
           "yaxis": "y"
          }
         ],
         "name": "2000"
        },
        {
         "data": [
          {
           "alignmentgroup": "True",
           "hovertemplate": "INSTNM=%{x}<br>Year=2001<br>TUITIONFEE_IN=%{y}<extra></extra>",
           "legendgroup": "University of Maryland-Baltimore County",
           "marker": {
            "color": "#636efa"
           },
           "name": "University of Maryland-Baltimore County",
           "offsetgroup": "University of Maryland-Baltimore County",
           "orientation": "v",
           "showlegend": true,
           "textposition": "auto",
           "type": "bar",
           "x": [
            "University of Maryland-Baltimore County"
           ],
           "xaxis": "x",
           "y": [
            5910
           ],
           "yaxis": "y"
          }
         ],
         "name": "2001"
        },
        {
         "data": [
          {
           "alignmentgroup": "True",
           "hovertemplate": "INSTNM=%{x}<br>Year=2002<br>TUITIONFEE_IN=%{y}<extra></extra>",
           "legendgroup": "University of Maryland-Baltimore County",
           "marker": {
            "color": "#636efa"
           },
           "name": "University of Maryland-Baltimore County",
           "offsetgroup": "University of Maryland-Baltimore County",
           "orientation": "v",
           "showlegend": true,
           "textposition": "auto",
           "type": "bar",
           "x": [
            "University of Maryland-Baltimore County"
           ],
           "xaxis": "x",
           "y": [
            6362
           ],
           "yaxis": "y"
          }
         ],
         "name": "2002"
        },
        {
         "data": [
          {
           "alignmentgroup": "True",
           "hovertemplate": "INSTNM=%{x}<br>Year=2003<br>TUITIONFEE_IN=%{y}<extra></extra>",
           "legendgroup": "University of Maryland-Baltimore County",
           "marker": {
            "color": "#636efa"
           },
           "name": "University of Maryland-Baltimore County",
           "offsetgroup": "University of Maryland-Baltimore County",
           "orientation": "v",
           "showlegend": true,
           "textposition": "auto",
           "type": "bar",
           "x": [
            "University of Maryland-Baltimore County"
           ],
           "xaxis": "x",
           "y": [
            7388
           ],
           "yaxis": "y"
          }
         ],
         "name": "2003"
        },
        {
         "data": [
          {
           "alignmentgroup": "True",
           "hovertemplate": "INSTNM=%{x}<br>Year=2004<br>TUITIONFEE_IN=%{y}<extra></extra>",
           "legendgroup": "University of Maryland-Baltimore County",
           "marker": {
            "color": "#636efa"
           },
           "name": "University of Maryland-Baltimore County",
           "offsetgroup": "University of Maryland-Baltimore County",
           "orientation": "v",
           "showlegend": true,
           "textposition": "auto",
           "type": "bar",
           "x": [
            "University of Maryland-Baltimore County"
           ],
           "xaxis": "x",
           "y": [
            8020
           ],
           "yaxis": "y"
          }
         ],
         "name": "2004"
        },
        {
         "data": [
          {
           "alignmentgroup": "True",
           "hovertemplate": "INSTNM=%{x}<br>Year=2005<br>TUITIONFEE_IN=%{y}<extra></extra>",
           "legendgroup": "University of Maryland-Baltimore County",
           "marker": {
            "color": "#636efa"
           },
           "name": "University of Maryland-Baltimore County",
           "offsetgroup": "University of Maryland-Baltimore County",
           "orientation": "v",
           "showlegend": true,
           "textposition": "auto",
           "type": "bar",
           "x": [
            "University of Maryland-Baltimore County"
           ],
           "xaxis": "x",
           "y": [
            8520
           ],
           "yaxis": "y"
          }
         ],
         "name": "2005"
        },
        {
         "data": [
          {
           "alignmentgroup": "True",
           "hovertemplate": "INSTNM=%{x}<br>Year=2006<br>TUITIONFEE_IN=%{y}<extra></extra>",
           "legendgroup": "University of Maryland-Baltimore County",
           "marker": {
            "color": "#636efa"
           },
           "name": "University of Maryland-Baltimore County",
           "offsetgroup": "University of Maryland-Baltimore County",
           "orientation": "v",
           "showlegend": true,
           "textposition": "auto",
           "type": "bar",
           "x": [
            "University of Maryland-Baltimore County"
           ],
           "xaxis": "x",
           "y": [
            8622
           ],
           "yaxis": "y"
          }
         ],
         "name": "2006"
        },
        {
         "data": [
          {
           "alignmentgroup": "True",
           "hovertemplate": "INSTNM=%{x}<br>Year=2007<br>TUITIONFEE_IN=%{y}<extra></extra>",
           "legendgroup": "University of Maryland-Baltimore County",
           "marker": {
            "color": "#636efa"
           },
           "name": "University of Maryland-Baltimore County",
           "offsetgroup": "University of Maryland-Baltimore County",
           "orientation": "v",
           "showlegend": true,
           "textposition": "auto",
           "type": "bar",
           "x": [
            "University of Maryland-Baltimore County"
           ],
           "xaxis": "x",
           "y": [
            8708
           ],
           "yaxis": "y"
          }
         ],
         "name": "2007"
        },
        {
         "data": [
          {
           "alignmentgroup": "True",
           "hovertemplate": "INSTNM=%{x}<br>Year=2008<br>TUITIONFEE_IN=%{y}<extra></extra>",
           "legendgroup": "University of Maryland-Baltimore County",
           "marker": {
            "color": "#636efa"
           },
           "name": "University of Maryland-Baltimore County",
           "offsetgroup": "University of Maryland-Baltimore County",
           "orientation": "v",
           "showlegend": true,
           "textposition": "auto",
           "type": "bar",
           "x": [
            "University of Maryland-Baltimore County"
           ],
           "xaxis": "x",
           "y": [
            8780
           ],
           "yaxis": "y"
          }
         ],
         "name": "2008"
        },
        {
         "data": [
          {
           "alignmentgroup": "True",
           "hovertemplate": "INSTNM=%{x}<br>Year=2009<br>TUITIONFEE_IN=%{y}<extra></extra>",
           "legendgroup": "University of Maryland-Baltimore County",
           "marker": {
            "color": "#636efa"
           },
           "name": "University of Maryland-Baltimore County",
           "offsetgroup": "University of Maryland-Baltimore County",
           "orientation": "v",
           "showlegend": true,
           "textposition": "auto",
           "type": "bar",
           "x": [
            "University of Maryland-Baltimore County"
           ],
           "xaxis": "x",
           "y": [
            8872
           ],
           "yaxis": "y"
          }
         ],
         "name": "2009"
        },
        {
         "data": [
          {
           "alignmentgroup": "True",
           "hovertemplate": "INSTNM=%{x}<br>Year=2010<br>TUITIONFEE_IN=%{y}<extra></extra>",
           "legendgroup": "University of Maryland-Baltimore County",
           "marker": {
            "color": "#636efa"
           },
           "name": "University of Maryland-Baltimore County",
           "offsetgroup": "University of Maryland-Baltimore County",
           "orientation": "v",
           "showlegend": true,
           "textposition": "auto",
           "type": "bar",
           "x": [
            "University of Maryland-Baltimore County"
           ],
           "xaxis": "x",
           "y": [
            9171
           ],
           "yaxis": "y"
          }
         ],
         "name": "2010"
        },
        {
         "data": [
          {
           "alignmentgroup": "True",
           "hovertemplate": "INSTNM=%{x}<br>Year=2011<br>TUITIONFEE_IN=%{y}<extra></extra>",
           "legendgroup": "University of Maryland-Baltimore County",
           "marker": {
            "color": "#636efa"
           },
           "name": "University of Maryland-Baltimore County",
           "offsetgroup": "University of Maryland-Baltimore County",
           "orientation": "v",
           "showlegend": true,
           "textposition": "auto",
           "type": "bar",
           "x": [
            "University of Maryland-Baltimore County"
           ],
           "xaxis": "x",
           "y": [
            9467
           ],
           "yaxis": "y"
          }
         ],
         "name": "2011"
        },
        {
         "data": [
          {
           "alignmentgroup": "True",
           "hovertemplate": "INSTNM=%{x}<br>Year=2012<br>TUITIONFEE_IN=%{y}<extra></extra>",
           "legendgroup": "University of Maryland-Baltimore County",
           "marker": {
            "color": "#636efa"
           },
           "name": "University of Maryland-Baltimore County",
           "offsetgroup": "University of Maryland-Baltimore County",
           "orientation": "v",
           "showlegend": true,
           "textposition": "auto",
           "type": "bar",
           "x": [
            "University of Maryland-Baltimore County"
           ],
           "xaxis": "x",
           "y": [
            9764
           ],
           "yaxis": "y"
          }
         ],
         "name": "2012"
        },
        {
         "data": [
          {
           "alignmentgroup": "True",
           "hovertemplate": "INSTNM=%{x}<br>Year=2013<br>TUITIONFEE_IN=%{y}<extra></extra>",
           "legendgroup": "University of Maryland-Baltimore County",
           "marker": {
            "color": "#636efa"
           },
           "name": "University of Maryland-Baltimore County",
           "offsetgroup": "University of Maryland-Baltimore County",
           "orientation": "v",
           "showlegend": true,
           "textposition": "auto",
           "type": "bar",
           "x": [
            "University of Maryland-Baltimore County"
           ],
           "xaxis": "x",
           "y": [
            10068
           ],
           "yaxis": "y"
          }
         ],
         "name": "2013"
        },
        {
         "data": [
          {
           "alignmentgroup": "True",
           "hovertemplate": "INSTNM=%{x}<br>Year=2014<br>TUITIONFEE_IN=%{y}<extra></extra>",
           "legendgroup": "University of Maryland-Baltimore County",
           "marker": {
            "color": "#636efa"
           },
           "name": "University of Maryland-Baltimore County",
           "offsetgroup": "University of Maryland-Baltimore County",
           "orientation": "v",
           "showlegend": true,
           "textposition": "auto",
           "type": "bar",
           "x": [
            "University of Maryland-Baltimore County"
           ],
           "xaxis": "x",
           "y": [
            10384
           ],
           "yaxis": "y"
          }
         ],
         "name": "2014"
        },
        {
         "data": [
          {
           "alignmentgroup": "True",
           "hovertemplate": "INSTNM=%{x}<br>Year=2015<br>TUITIONFEE_IN=%{y}<extra></extra>",
           "legendgroup": "University of Maryland-Baltimore County",
           "marker": {
            "color": "#636efa"
           },
           "name": "University of Maryland-Baltimore County",
           "offsetgroup": "University of Maryland-Baltimore County",
           "orientation": "v",
           "showlegend": true,
           "textposition": "auto",
           "type": "bar",
           "x": [
            "University of Maryland-Baltimore County"
           ],
           "xaxis": "x",
           "y": [
            11006
           ],
           "yaxis": "y"
          }
         ],
         "name": "2015"
        },
        {
         "data": [
          {
           "alignmentgroup": "True",
           "hovertemplate": "INSTNM=%{x}<br>Year=2016<br>TUITIONFEE_IN=%{y}<extra></extra>",
           "legendgroup": "University of Maryland-Baltimore County",
           "marker": {
            "color": "#636efa"
           },
           "name": "University of Maryland-Baltimore County",
           "offsetgroup": "University of Maryland-Baltimore County",
           "orientation": "v",
           "showlegend": true,
           "textposition": "auto",
           "type": "bar",
           "x": [
            "University of Maryland-Baltimore County"
           ],
           "xaxis": "x",
           "y": [
            11264
           ],
           "yaxis": "y"
          }
         ],
         "name": "2016"
        },
        {
         "data": [
          {
           "alignmentgroup": "True",
           "hovertemplate": "INSTNM=%{x}<br>Year=2017<br>TUITIONFEE_IN=%{y}<extra></extra>",
           "legendgroup": "University of Maryland-Baltimore County",
           "marker": {
            "color": "#636efa"
           },
           "name": "University of Maryland-Baltimore County",
           "offsetgroup": "University of Maryland-Baltimore County",
           "orientation": "v",
           "showlegend": true,
           "textposition": "auto",
           "type": "bar",
           "x": [
            "University of Maryland-Baltimore County"
           ],
           "xaxis": "x",
           "y": [
            11518
           ],
           "yaxis": "y"
          }
         ],
         "name": "2017"
        },
        {
         "data": [
          {
           "alignmentgroup": "True",
           "hovertemplate": "INSTNM=%{x}<br>Year=2018<br>TUITIONFEE_IN=%{y}<extra></extra>",
           "legendgroup": "University of Maryland-Baltimore County",
           "marker": {
            "color": "#636efa"
           },
           "name": "University of Maryland-Baltimore County",
           "offsetgroup": "University of Maryland-Baltimore County",
           "orientation": "v",
           "showlegend": true,
           "textposition": "auto",
           "type": "bar",
           "x": [
            "University of Maryland-Baltimore County"
           ],
           "xaxis": "x",
           "y": [
            11778
           ],
           "yaxis": "y"
          }
         ],
         "name": "2018"
        }
       ],
       "layout": {
        "barmode": "relative",
        "legend": {
         "title": {
          "text": "INSTNM"
         },
         "tracegroupgap": 0
        },
        "margin": {
         "t": 60
        },
        "sliders": [
         {
          "active": 0,
          "currentvalue": {
           "prefix": "Year="
          },
          "len": 0.9,
          "pad": {
           "b": 10,
           "t": 60
          },
          "steps": [
           {
            "args": [
             [
              "1996"
             ],
             {
              "frame": {
               "duration": 0,
               "redraw": true
              },
              "fromcurrent": true,
              "mode": "immediate",
              "transition": {
               "duration": 0,
               "easing": "linear"
              }
             }
            ],
            "label": "1996",
            "method": "animate"
           },
           {
            "args": [
             [
              "1997"
             ],
             {
              "frame": {
               "duration": 0,
               "redraw": true
              },
              "fromcurrent": true,
              "mode": "immediate",
              "transition": {
               "duration": 0,
               "easing": "linear"
              }
             }
            ],
            "label": "1997",
            "method": "animate"
           },
           {
            "args": [
             [
              "1998"
             ],
             {
              "frame": {
               "duration": 0,
               "redraw": true
              },
              "fromcurrent": true,
              "mode": "immediate",
              "transition": {
               "duration": 0,
               "easing": "linear"
              }
             }
            ],
            "label": "1998",
            "method": "animate"
           },
           {
            "args": [
             [
              "1999"
             ],
             {
              "frame": {
               "duration": 0,
               "redraw": true
              },
              "fromcurrent": true,
              "mode": "immediate",
              "transition": {
               "duration": 0,
               "easing": "linear"
              }
             }
            ],
            "label": "1999",
            "method": "animate"
           },
           {
            "args": [
             [
              "2000"
             ],
             {
              "frame": {
               "duration": 0,
               "redraw": true
              },
              "fromcurrent": true,
              "mode": "immediate",
              "transition": {
               "duration": 0,
               "easing": "linear"
              }
             }
            ],
            "label": "2000",
            "method": "animate"
           },
           {
            "args": [
             [
              "2001"
             ],
             {
              "frame": {
               "duration": 0,
               "redraw": true
              },
              "fromcurrent": true,
              "mode": "immediate",
              "transition": {
               "duration": 0,
               "easing": "linear"
              }
             }
            ],
            "label": "2001",
            "method": "animate"
           },
           {
            "args": [
             [
              "2002"
             ],
             {
              "frame": {
               "duration": 0,
               "redraw": true
              },
              "fromcurrent": true,
              "mode": "immediate",
              "transition": {
               "duration": 0,
               "easing": "linear"
              }
             }
            ],
            "label": "2002",
            "method": "animate"
           },
           {
            "args": [
             [
              "2003"
             ],
             {
              "frame": {
               "duration": 0,
               "redraw": true
              },
              "fromcurrent": true,
              "mode": "immediate",
              "transition": {
               "duration": 0,
               "easing": "linear"
              }
             }
            ],
            "label": "2003",
            "method": "animate"
           },
           {
            "args": [
             [
              "2004"
             ],
             {
              "frame": {
               "duration": 0,
               "redraw": true
              },
              "fromcurrent": true,
              "mode": "immediate",
              "transition": {
               "duration": 0,
               "easing": "linear"
              }
             }
            ],
            "label": "2004",
            "method": "animate"
           },
           {
            "args": [
             [
              "2005"
             ],
             {
              "frame": {
               "duration": 0,
               "redraw": true
              },
              "fromcurrent": true,
              "mode": "immediate",
              "transition": {
               "duration": 0,
               "easing": "linear"
              }
             }
            ],
            "label": "2005",
            "method": "animate"
           },
           {
            "args": [
             [
              "2006"
             ],
             {
              "frame": {
               "duration": 0,
               "redraw": true
              },
              "fromcurrent": true,
              "mode": "immediate",
              "transition": {
               "duration": 0,
               "easing": "linear"
              }
             }
            ],
            "label": "2006",
            "method": "animate"
           },
           {
            "args": [
             [
              "2007"
             ],
             {
              "frame": {
               "duration": 0,
               "redraw": true
              },
              "fromcurrent": true,
              "mode": "immediate",
              "transition": {
               "duration": 0,
               "easing": "linear"
              }
             }
            ],
            "label": "2007",
            "method": "animate"
           },
           {
            "args": [
             [
              "2008"
             ],
             {
              "frame": {
               "duration": 0,
               "redraw": true
              },
              "fromcurrent": true,
              "mode": "immediate",
              "transition": {
               "duration": 0,
               "easing": "linear"
              }
             }
            ],
            "label": "2008",
            "method": "animate"
           },
           {
            "args": [
             [
              "2009"
             ],
             {
              "frame": {
               "duration": 0,
               "redraw": true
              },
              "fromcurrent": true,
              "mode": "immediate",
              "transition": {
               "duration": 0,
               "easing": "linear"
              }
             }
            ],
            "label": "2009",
            "method": "animate"
           },
           {
            "args": [
             [
              "2010"
             ],
             {
              "frame": {
               "duration": 0,
               "redraw": true
              },
              "fromcurrent": true,
              "mode": "immediate",
              "transition": {
               "duration": 0,
               "easing": "linear"
              }
             }
            ],
            "label": "2010",
            "method": "animate"
           },
           {
            "args": [
             [
              "2011"
             ],
             {
              "frame": {
               "duration": 0,
               "redraw": true
              },
              "fromcurrent": true,
              "mode": "immediate",
              "transition": {
               "duration": 0,
               "easing": "linear"
              }
             }
            ],
            "label": "2011",
            "method": "animate"
           },
           {
            "args": [
             [
              "2012"
             ],
             {
              "frame": {
               "duration": 0,
               "redraw": true
              },
              "fromcurrent": true,
              "mode": "immediate",
              "transition": {
               "duration": 0,
               "easing": "linear"
              }
             }
            ],
            "label": "2012",
            "method": "animate"
           },
           {
            "args": [
             [
              "2013"
             ],
             {
              "frame": {
               "duration": 0,
               "redraw": true
              },
              "fromcurrent": true,
              "mode": "immediate",
              "transition": {
               "duration": 0,
               "easing": "linear"
              }
             }
            ],
            "label": "2013",
            "method": "animate"
           },
           {
            "args": [
             [
              "2014"
             ],
             {
              "frame": {
               "duration": 0,
               "redraw": true
              },
              "fromcurrent": true,
              "mode": "immediate",
              "transition": {
               "duration": 0,
               "easing": "linear"
              }
             }
            ],
            "label": "2014",
            "method": "animate"
           },
           {
            "args": [
             [
              "2015"
             ],
             {
              "frame": {
               "duration": 0,
               "redraw": true
              },
              "fromcurrent": true,
              "mode": "immediate",
              "transition": {
               "duration": 0,
               "easing": "linear"
              }
             }
            ],
            "label": "2015",
            "method": "animate"
           },
           {
            "args": [
             [
              "2016"
             ],
             {
              "frame": {
               "duration": 0,
               "redraw": true
              },
              "fromcurrent": true,
              "mode": "immediate",
              "transition": {
               "duration": 0,
               "easing": "linear"
              }
             }
            ],
            "label": "2016",
            "method": "animate"
           },
           {
            "args": [
             [
              "2017"
             ],
             {
              "frame": {
               "duration": 0,
               "redraw": true
              },
              "fromcurrent": true,
              "mode": "immediate",
              "transition": {
               "duration": 0,
               "easing": "linear"
              }
             }
            ],
            "label": "2017",
            "method": "animate"
           },
           {
            "args": [
             [
              "2018"
             ],
             {
              "frame": {
               "duration": 0,
               "redraw": true
              },
              "fromcurrent": true,
              "mode": "immediate",
              "transition": {
               "duration": 0,
               "easing": "linear"
              }
             }
            ],
            "label": "2018",
            "method": "animate"
           }
          ],
          "x": 0.1,
          "xanchor": "left",
          "y": 0,
          "yanchor": "top"
         }
        ],
        "template": {
         "data": {
          "bar": [
           {
            "error_x": {
             "color": "#2a3f5f"
            },
            "error_y": {
             "color": "#2a3f5f"
            },
            "marker": {
             "line": {
              "color": "#E5ECF6",
              "width": 0.5
             }
            },
            "type": "bar"
           }
          ],
          "barpolar": [
           {
            "marker": {
             "line": {
              "color": "#E5ECF6",
              "width": 0.5
             }
            },
            "type": "barpolar"
           }
          ],
          "carpet": [
           {
            "aaxis": {
             "endlinecolor": "#2a3f5f",
             "gridcolor": "white",
             "linecolor": "white",
             "minorgridcolor": "white",
             "startlinecolor": "#2a3f5f"
            },
            "baxis": {
             "endlinecolor": "#2a3f5f",
             "gridcolor": "white",
             "linecolor": "white",
             "minorgridcolor": "white",
             "startlinecolor": "#2a3f5f"
            },
            "type": "carpet"
           }
          ],
          "choropleth": [
           {
            "colorbar": {
             "outlinewidth": 0,
             "ticks": ""
            },
            "type": "choropleth"
           }
          ],
          "contour": [
           {
            "colorbar": {
             "outlinewidth": 0,
             "ticks": ""
            },
            "colorscale": [
             [
              0,
              "#0d0887"
             ],
             [
              0.1111111111111111,
              "#46039f"
             ],
             [
              0.2222222222222222,
              "#7201a8"
             ],
             [
              0.3333333333333333,
              "#9c179e"
             ],
             [
              0.4444444444444444,
              "#bd3786"
             ],
             [
              0.5555555555555556,
              "#d8576b"
             ],
             [
              0.6666666666666666,
              "#ed7953"
             ],
             [
              0.7777777777777778,
              "#fb9f3a"
             ],
             [
              0.8888888888888888,
              "#fdca26"
             ],
             [
              1,
              "#f0f921"
             ]
            ],
            "type": "contour"
           }
          ],
          "contourcarpet": [
           {
            "colorbar": {
             "outlinewidth": 0,
             "ticks": ""
            },
            "type": "contourcarpet"
           }
          ],
          "heatmap": [
           {
            "colorbar": {
             "outlinewidth": 0,
             "ticks": ""
            },
            "colorscale": [
             [
              0,
              "#0d0887"
             ],
             [
              0.1111111111111111,
              "#46039f"
             ],
             [
              0.2222222222222222,
              "#7201a8"
             ],
             [
              0.3333333333333333,
              "#9c179e"
             ],
             [
              0.4444444444444444,
              "#bd3786"
             ],
             [
              0.5555555555555556,
              "#d8576b"
             ],
             [
              0.6666666666666666,
              "#ed7953"
             ],
             [
              0.7777777777777778,
              "#fb9f3a"
             ],
             [
              0.8888888888888888,
              "#fdca26"
             ],
             [
              1,
              "#f0f921"
             ]
            ],
            "type": "heatmap"
           }
          ],
          "heatmapgl": [
           {
            "colorbar": {
             "outlinewidth": 0,
             "ticks": ""
            },
            "colorscale": [
             [
              0,
              "#0d0887"
             ],
             [
              0.1111111111111111,
              "#46039f"
             ],
             [
              0.2222222222222222,
              "#7201a8"
             ],
             [
              0.3333333333333333,
              "#9c179e"
             ],
             [
              0.4444444444444444,
              "#bd3786"
             ],
             [
              0.5555555555555556,
              "#d8576b"
             ],
             [
              0.6666666666666666,
              "#ed7953"
             ],
             [
              0.7777777777777778,
              "#fb9f3a"
             ],
             [
              0.8888888888888888,
              "#fdca26"
             ],
             [
              1,
              "#f0f921"
             ]
            ],
            "type": "heatmapgl"
           }
          ],
          "histogram": [
           {
            "marker": {
             "colorbar": {
              "outlinewidth": 0,
              "ticks": ""
             }
            },
            "type": "histogram"
           }
          ],
          "histogram2d": [
           {
            "colorbar": {
             "outlinewidth": 0,
             "ticks": ""
            },
            "colorscale": [
             [
              0,
              "#0d0887"
             ],
             [
              0.1111111111111111,
              "#46039f"
             ],
             [
              0.2222222222222222,
              "#7201a8"
             ],
             [
              0.3333333333333333,
              "#9c179e"
             ],
             [
              0.4444444444444444,
              "#bd3786"
             ],
             [
              0.5555555555555556,
              "#d8576b"
             ],
             [
              0.6666666666666666,
              "#ed7953"
             ],
             [
              0.7777777777777778,
              "#fb9f3a"
             ],
             [
              0.8888888888888888,
              "#fdca26"
             ],
             [
              1,
              "#f0f921"
             ]
            ],
            "type": "histogram2d"
           }
          ],
          "histogram2dcontour": [
           {
            "colorbar": {
             "outlinewidth": 0,
             "ticks": ""
            },
            "colorscale": [
             [
              0,
              "#0d0887"
             ],
             [
              0.1111111111111111,
              "#46039f"
             ],
             [
              0.2222222222222222,
              "#7201a8"
             ],
             [
              0.3333333333333333,
              "#9c179e"
             ],
             [
              0.4444444444444444,
              "#bd3786"
             ],
             [
              0.5555555555555556,
              "#d8576b"
             ],
             [
              0.6666666666666666,
              "#ed7953"
             ],
             [
              0.7777777777777778,
              "#fb9f3a"
             ],
             [
              0.8888888888888888,
              "#fdca26"
             ],
             [
              1,
              "#f0f921"
             ]
            ],
            "type": "histogram2dcontour"
           }
          ],
          "mesh3d": [
           {
            "colorbar": {
             "outlinewidth": 0,
             "ticks": ""
            },
            "type": "mesh3d"
           }
          ],
          "parcoords": [
           {
            "line": {
             "colorbar": {
              "outlinewidth": 0,
              "ticks": ""
             }
            },
            "type": "parcoords"
           }
          ],
          "pie": [
           {
            "automargin": true,
            "type": "pie"
           }
          ],
          "scatter": [
           {
            "marker": {
             "colorbar": {
              "outlinewidth": 0,
              "ticks": ""
             }
            },
            "type": "scatter"
           }
          ],
          "scatter3d": [
           {
            "line": {
             "colorbar": {
              "outlinewidth": 0,
              "ticks": ""
             }
            },
            "marker": {
             "colorbar": {
              "outlinewidth": 0,
              "ticks": ""
             }
            },
            "type": "scatter3d"
           }
          ],
          "scattercarpet": [
           {
            "marker": {
             "colorbar": {
              "outlinewidth": 0,
              "ticks": ""
             }
            },
            "type": "scattercarpet"
           }
          ],
          "scattergeo": [
           {
            "marker": {
             "colorbar": {
              "outlinewidth": 0,
              "ticks": ""
             }
            },
            "type": "scattergeo"
           }
          ],
          "scattergl": [
           {
            "marker": {
             "colorbar": {
              "outlinewidth": 0,
              "ticks": ""
             }
            },
            "type": "scattergl"
           }
          ],
          "scattermapbox": [
           {
            "marker": {
             "colorbar": {
              "outlinewidth": 0,
              "ticks": ""
             }
            },
            "type": "scattermapbox"
           }
          ],
          "scatterpolar": [
           {
            "marker": {
             "colorbar": {
              "outlinewidth": 0,
              "ticks": ""
             }
            },
            "type": "scatterpolar"
           }
          ],
          "scatterpolargl": [
           {
            "marker": {
             "colorbar": {
              "outlinewidth": 0,
              "ticks": ""
             }
            },
            "type": "scatterpolargl"
           }
          ],
          "scatterternary": [
           {
            "marker": {
             "colorbar": {
              "outlinewidth": 0,
              "ticks": ""
             }
            },
            "type": "scatterternary"
           }
          ],
          "surface": [
           {
            "colorbar": {
             "outlinewidth": 0,
             "ticks": ""
            },
            "colorscale": [
             [
              0,
              "#0d0887"
             ],
             [
              0.1111111111111111,
              "#46039f"
             ],
             [
              0.2222222222222222,
              "#7201a8"
             ],
             [
              0.3333333333333333,
              "#9c179e"
             ],
             [
              0.4444444444444444,
              "#bd3786"
             ],
             [
              0.5555555555555556,
              "#d8576b"
             ],
             [
              0.6666666666666666,
              "#ed7953"
             ],
             [
              0.7777777777777778,
              "#fb9f3a"
             ],
             [
              0.8888888888888888,
              "#fdca26"
             ],
             [
              1,
              "#f0f921"
             ]
            ],
            "type": "surface"
           }
          ],
          "table": [
           {
            "cells": {
             "fill": {
              "color": "#EBF0F8"
             },
             "line": {
              "color": "white"
             }
            },
            "header": {
             "fill": {
              "color": "#C8D4E3"
             },
             "line": {
              "color": "white"
             }
            },
            "type": "table"
           }
          ]
         },
         "layout": {
          "annotationdefaults": {
           "arrowcolor": "#2a3f5f",
           "arrowhead": 0,
           "arrowwidth": 1
          },
          "coloraxis": {
           "colorbar": {
            "outlinewidth": 0,
            "ticks": ""
           }
          },
          "colorscale": {
           "diverging": [
            [
             0,
             "#8e0152"
            ],
            [
             0.1,
             "#c51b7d"
            ],
            [
             0.2,
             "#de77ae"
            ],
            [
             0.3,
             "#f1b6da"
            ],
            [
             0.4,
             "#fde0ef"
            ],
            [
             0.5,
             "#f7f7f7"
            ],
            [
             0.6,
             "#e6f5d0"
            ],
            [
             0.7,
             "#b8e186"
            ],
            [
             0.8,
             "#7fbc41"
            ],
            [
             0.9,
             "#4d9221"
            ],
            [
             1,
             "#276419"
            ]
           ],
           "sequential": [
            [
             0,
             "#0d0887"
            ],
            [
             0.1111111111111111,
             "#46039f"
            ],
            [
             0.2222222222222222,
             "#7201a8"
            ],
            [
             0.3333333333333333,
             "#9c179e"
            ],
            [
             0.4444444444444444,
             "#bd3786"
            ],
            [
             0.5555555555555556,
             "#d8576b"
            ],
            [
             0.6666666666666666,
             "#ed7953"
            ],
            [
             0.7777777777777778,
             "#fb9f3a"
            ],
            [
             0.8888888888888888,
             "#fdca26"
            ],
            [
             1,
             "#f0f921"
            ]
           ],
           "sequentialminus": [
            [
             0,
             "#0d0887"
            ],
            [
             0.1111111111111111,
             "#46039f"
            ],
            [
             0.2222222222222222,
             "#7201a8"
            ],
            [
             0.3333333333333333,
             "#9c179e"
            ],
            [
             0.4444444444444444,
             "#bd3786"
            ],
            [
             0.5555555555555556,
             "#d8576b"
            ],
            [
             0.6666666666666666,
             "#ed7953"
            ],
            [
             0.7777777777777778,
             "#fb9f3a"
            ],
            [
             0.8888888888888888,
             "#fdca26"
            ],
            [
             1,
             "#f0f921"
            ]
           ]
          },
          "colorway": [
           "#636efa",
           "#EF553B",
           "#00cc96",
           "#ab63fa",
           "#FFA15A",
           "#19d3f3",
           "#FF6692",
           "#B6E880",
           "#FF97FF",
           "#FECB52"
          ],
          "font": {
           "color": "#2a3f5f"
          },
          "geo": {
           "bgcolor": "white",
           "lakecolor": "white",
           "landcolor": "#E5ECF6",
           "showlakes": true,
           "showland": true,
           "subunitcolor": "white"
          },
          "hoverlabel": {
           "align": "left"
          },
          "hovermode": "closest",
          "mapbox": {
           "style": "light"
          },
          "paper_bgcolor": "white",
          "plot_bgcolor": "#E5ECF6",
          "polar": {
           "angularaxis": {
            "gridcolor": "white",
            "linecolor": "white",
            "ticks": ""
           },
           "bgcolor": "#E5ECF6",
           "radialaxis": {
            "gridcolor": "white",
            "linecolor": "white",
            "ticks": ""
           }
          },
          "scene": {
           "xaxis": {
            "backgroundcolor": "#E5ECF6",
            "gridcolor": "white",
            "gridwidth": 2,
            "linecolor": "white",
            "showbackground": true,
            "ticks": "",
            "zerolinecolor": "white"
           },
           "yaxis": {
            "backgroundcolor": "#E5ECF6",
            "gridcolor": "white",
            "gridwidth": 2,
            "linecolor": "white",
            "showbackground": true,
            "ticks": "",
            "zerolinecolor": "white"
           },
           "zaxis": {
            "backgroundcolor": "#E5ECF6",
            "gridcolor": "white",
            "gridwidth": 2,
            "linecolor": "white",
            "showbackground": true,
            "ticks": "",
            "zerolinecolor": "white"
           }
          },
          "shapedefaults": {
           "line": {
            "color": "#2a3f5f"
           }
          },
          "ternary": {
           "aaxis": {
            "gridcolor": "white",
            "linecolor": "white",
            "ticks": ""
           },
           "baxis": {
            "gridcolor": "white",
            "linecolor": "white",
            "ticks": ""
           },
           "bgcolor": "#E5ECF6",
           "caxis": {
            "gridcolor": "white",
            "linecolor": "white",
            "ticks": ""
           }
          },
          "title": {
           "x": 0.05
          },
          "xaxis": {
           "automargin": true,
           "gridcolor": "white",
           "linecolor": "white",
           "ticks": "",
           "title": {
            "standoff": 15
           },
           "zerolinecolor": "white",
           "zerolinewidth": 2
          },
          "yaxis": {
           "automargin": true,
           "gridcolor": "white",
           "linecolor": "white",
           "ticks": "",
           "title": {
            "standoff": 15
           },
           "zerolinecolor": "white",
           "zerolinewidth": 2
          }
         }
        },
        "updatemenus": [
         {
          "buttons": [
           {
            "args": [
             null,
             {
              "frame": {
               "duration": 500,
               "redraw": true
              },
              "fromcurrent": true,
              "mode": "immediate",
              "transition": {
               "duration": 500,
               "easing": "linear"
              }
             }
            ],
            "label": "&#9654;",
            "method": "animate"
           },
           {
            "args": [
             [
              null
             ],
             {
              "frame": {
               "duration": 0,
               "redraw": true
              },
              "fromcurrent": true,
              "mode": "immediate",
              "transition": {
               "duration": 0,
               "easing": "linear"
              }
             }
            ],
            "label": "&#9724;",
            "method": "animate"
           }
          ],
          "direction": "left",
          "pad": {
           "r": 10,
           "t": 70
          },
          "showactive": false,
          "type": "buttons",
          "x": 0.1,
          "xanchor": "right",
          "y": 0,
          "yanchor": "top"
         }
        ],
        "xaxis": {
         "anchor": "y",
         "categoryarray": [
          "University of Maryland-Baltimore County"
         ],
         "categoryorder": "array",
         "domain": [
          0,
          1
         ],
         "title": {
          "text": "INSTNM"
         }
        },
        "yaxis": {
         "anchor": "x",
         "domain": [
          0,
          1
         ],
         "title": {
          "text": "TUITIONFEE_IN"
         }
        }
       }
      },
      "text/html": [
       "<div>\n",
       "        \n",
       "        \n",
       "            <div id=\"f1ce8859-6ca0-4522-be5a-a13aa7b0fd07\" class=\"plotly-graph-div\" style=\"height:525px; width:100%;\"></div>\n",
       "            <script type=\"text/javascript\">\n",
       "                require([\"plotly\"], function(Plotly) {\n",
       "                    window.PLOTLYENV=window.PLOTLYENV || {};\n",
       "                    \n",
       "                if (document.getElementById(\"f1ce8859-6ca0-4522-be5a-a13aa7b0fd07\")) {\n",
       "                    Plotly.newPlot(\n",
       "                        'f1ce8859-6ca0-4522-be5a-a13aa7b0fd07',\n",
       "                        [{\"alignmentgroup\": \"True\", \"hovertemplate\": \"INSTNM=%{x}<br>Year=1996<br>TUITIONFEE_IN=%{y}<extra></extra>\", \"legendgroup\": \"University of Maryland-Baltimore County\", \"marker\": {\"color\": \"#636efa\"}, \"name\": \"University of Maryland-Baltimore County\", \"offsetgroup\": \"University of Maryland-Baltimore County\", \"orientation\": \"v\", \"showlegend\": true, \"textposition\": \"auto\", \"type\": \"bar\", \"x\": [\"University of Maryland-Baltimore County\"], \"xaxis\": \"x\", \"y\": [null], \"yaxis\": \"y\"}],\n",
       "                        {\"barmode\": \"relative\", \"legend\": {\"title\": {\"text\": \"INSTNM\"}, \"tracegroupgap\": 0}, \"margin\": {\"t\": 60}, \"sliders\": [{\"active\": 0, \"currentvalue\": {\"prefix\": \"Year=\"}, \"len\": 0.9, \"pad\": {\"b\": 10, \"t\": 60}, \"steps\": [{\"args\": [[\"1996\"], {\"frame\": {\"duration\": 0, \"redraw\": true}, \"fromcurrent\": true, \"mode\": \"immediate\", \"transition\": {\"duration\": 0, \"easing\": \"linear\"}}], \"label\": \"1996\", \"method\": \"animate\"}, {\"args\": [[\"1997\"], {\"frame\": {\"duration\": 0, \"redraw\": true}, \"fromcurrent\": true, \"mode\": \"immediate\", \"transition\": {\"duration\": 0, \"easing\": \"linear\"}}], \"label\": \"1997\", \"method\": \"animate\"}, {\"args\": [[\"1998\"], {\"frame\": {\"duration\": 0, \"redraw\": true}, \"fromcurrent\": true, \"mode\": \"immediate\", \"transition\": {\"duration\": 0, \"easing\": \"linear\"}}], \"label\": \"1998\", \"method\": \"animate\"}, {\"args\": [[\"1999\"], {\"frame\": {\"duration\": 0, \"redraw\": true}, \"fromcurrent\": true, \"mode\": \"immediate\", \"transition\": {\"duration\": 0, \"easing\": \"linear\"}}], \"label\": \"1999\", \"method\": \"animate\"}, {\"args\": [[\"2000\"], {\"frame\": {\"duration\": 0, \"redraw\": true}, \"fromcurrent\": true, \"mode\": \"immediate\", \"transition\": {\"duration\": 0, \"easing\": \"linear\"}}], \"label\": \"2000\", \"method\": \"animate\"}, {\"args\": [[\"2001\"], {\"frame\": {\"duration\": 0, \"redraw\": true}, \"fromcurrent\": true, \"mode\": \"immediate\", \"transition\": {\"duration\": 0, \"easing\": \"linear\"}}], \"label\": \"2001\", \"method\": \"animate\"}, {\"args\": [[\"2002\"], {\"frame\": {\"duration\": 0, \"redraw\": true}, \"fromcurrent\": true, \"mode\": \"immediate\", \"transition\": {\"duration\": 0, \"easing\": \"linear\"}}], \"label\": \"2002\", \"method\": \"animate\"}, {\"args\": [[\"2003\"], {\"frame\": {\"duration\": 0, \"redraw\": true}, \"fromcurrent\": true, \"mode\": \"immediate\", \"transition\": {\"duration\": 0, \"easing\": \"linear\"}}], \"label\": \"2003\", \"method\": \"animate\"}, {\"args\": [[\"2004\"], {\"frame\": {\"duration\": 0, \"redraw\": true}, \"fromcurrent\": true, \"mode\": \"immediate\", \"transition\": {\"duration\": 0, \"easing\": \"linear\"}}], \"label\": \"2004\", \"method\": \"animate\"}, {\"args\": [[\"2005\"], {\"frame\": {\"duration\": 0, \"redraw\": true}, \"fromcurrent\": true, \"mode\": \"immediate\", \"transition\": {\"duration\": 0, \"easing\": \"linear\"}}], \"label\": \"2005\", \"method\": \"animate\"}, {\"args\": [[\"2006\"], {\"frame\": {\"duration\": 0, \"redraw\": true}, \"fromcurrent\": true, \"mode\": \"immediate\", \"transition\": {\"duration\": 0, \"easing\": \"linear\"}}], \"label\": \"2006\", \"method\": \"animate\"}, {\"args\": [[\"2007\"], {\"frame\": {\"duration\": 0, \"redraw\": true}, \"fromcurrent\": true, \"mode\": \"immediate\", \"transition\": {\"duration\": 0, \"easing\": \"linear\"}}], \"label\": \"2007\", \"method\": \"animate\"}, {\"args\": [[\"2008\"], {\"frame\": {\"duration\": 0, \"redraw\": true}, \"fromcurrent\": true, \"mode\": \"immediate\", \"transition\": {\"duration\": 0, \"easing\": \"linear\"}}], \"label\": \"2008\", \"method\": \"animate\"}, {\"args\": [[\"2009\"], {\"frame\": {\"duration\": 0, \"redraw\": true}, \"fromcurrent\": true, \"mode\": \"immediate\", \"transition\": {\"duration\": 0, \"easing\": \"linear\"}}], \"label\": \"2009\", \"method\": \"animate\"}, {\"args\": [[\"2010\"], {\"frame\": {\"duration\": 0, \"redraw\": true}, \"fromcurrent\": true, \"mode\": \"immediate\", \"transition\": {\"duration\": 0, \"easing\": \"linear\"}}], \"label\": \"2010\", \"method\": \"animate\"}, {\"args\": [[\"2011\"], {\"frame\": {\"duration\": 0, \"redraw\": true}, \"fromcurrent\": true, \"mode\": \"immediate\", \"transition\": {\"duration\": 0, \"easing\": \"linear\"}}], \"label\": \"2011\", \"method\": \"animate\"}, {\"args\": [[\"2012\"], {\"frame\": {\"duration\": 0, \"redraw\": true}, \"fromcurrent\": true, \"mode\": \"immediate\", \"transition\": {\"duration\": 0, \"easing\": \"linear\"}}], \"label\": \"2012\", \"method\": \"animate\"}, {\"args\": [[\"2013\"], {\"frame\": {\"duration\": 0, \"redraw\": true}, \"fromcurrent\": true, \"mode\": \"immediate\", \"transition\": {\"duration\": 0, \"easing\": \"linear\"}}], \"label\": \"2013\", \"method\": \"animate\"}, {\"args\": [[\"2014\"], {\"frame\": {\"duration\": 0, \"redraw\": true}, \"fromcurrent\": true, \"mode\": \"immediate\", \"transition\": {\"duration\": 0, \"easing\": \"linear\"}}], \"label\": \"2014\", \"method\": \"animate\"}, {\"args\": [[\"2015\"], {\"frame\": {\"duration\": 0, \"redraw\": true}, \"fromcurrent\": true, \"mode\": \"immediate\", \"transition\": {\"duration\": 0, \"easing\": \"linear\"}}], \"label\": \"2015\", \"method\": \"animate\"}, {\"args\": [[\"2016\"], {\"frame\": {\"duration\": 0, \"redraw\": true}, \"fromcurrent\": true, \"mode\": \"immediate\", \"transition\": {\"duration\": 0, \"easing\": \"linear\"}}], \"label\": \"2016\", \"method\": \"animate\"}, {\"args\": [[\"2017\"], {\"frame\": {\"duration\": 0, \"redraw\": true}, \"fromcurrent\": true, \"mode\": \"immediate\", \"transition\": {\"duration\": 0, \"easing\": \"linear\"}}], \"label\": \"2017\", \"method\": \"animate\"}, {\"args\": [[\"2018\"], {\"frame\": {\"duration\": 0, \"redraw\": true}, \"fromcurrent\": true, \"mode\": \"immediate\", \"transition\": {\"duration\": 0, \"easing\": \"linear\"}}], \"label\": \"2018\", \"method\": \"animate\"}], \"x\": 0.1, \"xanchor\": \"left\", \"y\": 0, \"yanchor\": \"top\"}], \"template\": {\"data\": {\"bar\": [{\"error_x\": {\"color\": \"#2a3f5f\"}, \"error_y\": {\"color\": \"#2a3f5f\"}, \"marker\": {\"line\": {\"color\": \"#E5ECF6\", \"width\": 0.5}}, \"type\": \"bar\"}], \"barpolar\": [{\"marker\": {\"line\": {\"color\": \"#E5ECF6\", \"width\": 0.5}}, \"type\": \"barpolar\"}], \"carpet\": [{\"aaxis\": {\"endlinecolor\": \"#2a3f5f\", \"gridcolor\": \"white\", \"linecolor\": \"white\", \"minorgridcolor\": \"white\", \"startlinecolor\": \"#2a3f5f\"}, \"baxis\": {\"endlinecolor\": \"#2a3f5f\", \"gridcolor\": \"white\", \"linecolor\": \"white\", \"minorgridcolor\": \"white\", \"startlinecolor\": \"#2a3f5f\"}, \"type\": \"carpet\"}], \"choropleth\": [{\"colorbar\": {\"outlinewidth\": 0, \"ticks\": \"\"}, \"type\": \"choropleth\"}], \"contour\": [{\"colorbar\": {\"outlinewidth\": 0, \"ticks\": \"\"}, \"colorscale\": [[0.0, \"#0d0887\"], [0.1111111111111111, \"#46039f\"], [0.2222222222222222, \"#7201a8\"], [0.3333333333333333, \"#9c179e\"], [0.4444444444444444, \"#bd3786\"], [0.5555555555555556, \"#d8576b\"], [0.6666666666666666, \"#ed7953\"], [0.7777777777777778, \"#fb9f3a\"], [0.8888888888888888, \"#fdca26\"], [1.0, \"#f0f921\"]], \"type\": \"contour\"}], \"contourcarpet\": [{\"colorbar\": {\"outlinewidth\": 0, \"ticks\": \"\"}, \"type\": \"contourcarpet\"}], \"heatmap\": [{\"colorbar\": {\"outlinewidth\": 0, \"ticks\": \"\"}, \"colorscale\": [[0.0, \"#0d0887\"], [0.1111111111111111, \"#46039f\"], [0.2222222222222222, \"#7201a8\"], [0.3333333333333333, \"#9c179e\"], [0.4444444444444444, \"#bd3786\"], [0.5555555555555556, \"#d8576b\"], [0.6666666666666666, \"#ed7953\"], [0.7777777777777778, \"#fb9f3a\"], [0.8888888888888888, \"#fdca26\"], [1.0, \"#f0f921\"]], \"type\": \"heatmap\"}], \"heatmapgl\": [{\"colorbar\": {\"outlinewidth\": 0, \"ticks\": \"\"}, \"colorscale\": [[0.0, \"#0d0887\"], [0.1111111111111111, \"#46039f\"], [0.2222222222222222, \"#7201a8\"], [0.3333333333333333, \"#9c179e\"], [0.4444444444444444, \"#bd3786\"], [0.5555555555555556, \"#d8576b\"], [0.6666666666666666, \"#ed7953\"], [0.7777777777777778, \"#fb9f3a\"], [0.8888888888888888, \"#fdca26\"], [1.0, \"#f0f921\"]], \"type\": \"heatmapgl\"}], \"histogram\": [{\"marker\": {\"colorbar\": {\"outlinewidth\": 0, \"ticks\": \"\"}}, \"type\": \"histogram\"}], \"histogram2d\": [{\"colorbar\": {\"outlinewidth\": 0, \"ticks\": \"\"}, \"colorscale\": [[0.0, \"#0d0887\"], [0.1111111111111111, \"#46039f\"], [0.2222222222222222, \"#7201a8\"], [0.3333333333333333, \"#9c179e\"], [0.4444444444444444, \"#bd3786\"], [0.5555555555555556, \"#d8576b\"], [0.6666666666666666, \"#ed7953\"], [0.7777777777777778, \"#fb9f3a\"], [0.8888888888888888, \"#fdca26\"], [1.0, \"#f0f921\"]], \"type\": \"histogram2d\"}], \"histogram2dcontour\": [{\"colorbar\": {\"outlinewidth\": 0, \"ticks\": \"\"}, \"colorscale\": [[0.0, \"#0d0887\"], [0.1111111111111111, \"#46039f\"], [0.2222222222222222, \"#7201a8\"], [0.3333333333333333, \"#9c179e\"], [0.4444444444444444, \"#bd3786\"], [0.5555555555555556, \"#d8576b\"], [0.6666666666666666, \"#ed7953\"], [0.7777777777777778, \"#fb9f3a\"], [0.8888888888888888, \"#fdca26\"], [1.0, \"#f0f921\"]], \"type\": \"histogram2dcontour\"}], \"mesh3d\": [{\"colorbar\": {\"outlinewidth\": 0, \"ticks\": \"\"}, \"type\": \"mesh3d\"}], \"parcoords\": [{\"line\": {\"colorbar\": {\"outlinewidth\": 0, \"ticks\": \"\"}}, \"type\": \"parcoords\"}], \"pie\": [{\"automargin\": true, \"type\": \"pie\"}], \"scatter\": [{\"marker\": {\"colorbar\": {\"outlinewidth\": 0, \"ticks\": \"\"}}, \"type\": \"scatter\"}], \"scatter3d\": [{\"line\": {\"colorbar\": {\"outlinewidth\": 0, \"ticks\": \"\"}}, \"marker\": {\"colorbar\": {\"outlinewidth\": 0, \"ticks\": \"\"}}, \"type\": \"scatter3d\"}], \"scattercarpet\": [{\"marker\": {\"colorbar\": {\"outlinewidth\": 0, \"ticks\": \"\"}}, \"type\": \"scattercarpet\"}], \"scattergeo\": [{\"marker\": {\"colorbar\": {\"outlinewidth\": 0, \"ticks\": \"\"}}, \"type\": \"scattergeo\"}], \"scattergl\": [{\"marker\": {\"colorbar\": {\"outlinewidth\": 0, \"ticks\": \"\"}}, \"type\": \"scattergl\"}], \"scattermapbox\": [{\"marker\": {\"colorbar\": {\"outlinewidth\": 0, \"ticks\": \"\"}}, \"type\": \"scattermapbox\"}], \"scatterpolar\": [{\"marker\": {\"colorbar\": {\"outlinewidth\": 0, \"ticks\": \"\"}}, \"type\": \"scatterpolar\"}], \"scatterpolargl\": [{\"marker\": {\"colorbar\": {\"outlinewidth\": 0, \"ticks\": \"\"}}, \"type\": \"scatterpolargl\"}], \"scatterternary\": [{\"marker\": {\"colorbar\": {\"outlinewidth\": 0, \"ticks\": \"\"}}, \"type\": \"scatterternary\"}], \"surface\": [{\"colorbar\": {\"outlinewidth\": 0, \"ticks\": \"\"}, \"colorscale\": [[0.0, \"#0d0887\"], [0.1111111111111111, \"#46039f\"], [0.2222222222222222, \"#7201a8\"], [0.3333333333333333, \"#9c179e\"], [0.4444444444444444, \"#bd3786\"], [0.5555555555555556, \"#d8576b\"], [0.6666666666666666, \"#ed7953\"], [0.7777777777777778, \"#fb9f3a\"], [0.8888888888888888, \"#fdca26\"], [1.0, \"#f0f921\"]], \"type\": \"surface\"}], \"table\": [{\"cells\": {\"fill\": {\"color\": \"#EBF0F8\"}, \"line\": {\"color\": \"white\"}}, \"header\": {\"fill\": {\"color\": \"#C8D4E3\"}, \"line\": {\"color\": \"white\"}}, \"type\": \"table\"}]}, \"layout\": {\"annotationdefaults\": {\"arrowcolor\": \"#2a3f5f\", \"arrowhead\": 0, \"arrowwidth\": 1}, \"coloraxis\": {\"colorbar\": {\"outlinewidth\": 0, \"ticks\": \"\"}}, \"colorscale\": {\"diverging\": [[0, \"#8e0152\"], [0.1, \"#c51b7d\"], [0.2, \"#de77ae\"], [0.3, \"#f1b6da\"], [0.4, \"#fde0ef\"], [0.5, \"#f7f7f7\"], [0.6, \"#e6f5d0\"], [0.7, \"#b8e186\"], [0.8, \"#7fbc41\"], [0.9, \"#4d9221\"], [1, \"#276419\"]], \"sequential\": [[0.0, \"#0d0887\"], [0.1111111111111111, \"#46039f\"], [0.2222222222222222, \"#7201a8\"], [0.3333333333333333, \"#9c179e\"], [0.4444444444444444, \"#bd3786\"], [0.5555555555555556, \"#d8576b\"], [0.6666666666666666, \"#ed7953\"], [0.7777777777777778, \"#fb9f3a\"], [0.8888888888888888, \"#fdca26\"], [1.0, \"#f0f921\"]], \"sequentialminus\": [[0.0, \"#0d0887\"], [0.1111111111111111, \"#46039f\"], [0.2222222222222222, \"#7201a8\"], [0.3333333333333333, \"#9c179e\"], [0.4444444444444444, \"#bd3786\"], [0.5555555555555556, \"#d8576b\"], [0.6666666666666666, \"#ed7953\"], [0.7777777777777778, \"#fb9f3a\"], [0.8888888888888888, \"#fdca26\"], [1.0, \"#f0f921\"]]}, \"colorway\": [\"#636efa\", \"#EF553B\", \"#00cc96\", \"#ab63fa\", \"#FFA15A\", \"#19d3f3\", \"#FF6692\", \"#B6E880\", \"#FF97FF\", \"#FECB52\"], \"font\": {\"color\": \"#2a3f5f\"}, \"geo\": {\"bgcolor\": \"white\", \"lakecolor\": \"white\", \"landcolor\": \"#E5ECF6\", \"showlakes\": true, \"showland\": true, \"subunitcolor\": \"white\"}, \"hoverlabel\": {\"align\": \"left\"}, \"hovermode\": \"closest\", \"mapbox\": {\"style\": \"light\"}, \"paper_bgcolor\": \"white\", \"plot_bgcolor\": \"#E5ECF6\", \"polar\": {\"angularaxis\": {\"gridcolor\": \"white\", \"linecolor\": \"white\", \"ticks\": \"\"}, \"bgcolor\": \"#E5ECF6\", \"radialaxis\": {\"gridcolor\": \"white\", \"linecolor\": \"white\", \"ticks\": \"\"}}, \"scene\": {\"xaxis\": {\"backgroundcolor\": \"#E5ECF6\", \"gridcolor\": \"white\", \"gridwidth\": 2, \"linecolor\": \"white\", \"showbackground\": true, \"ticks\": \"\", \"zerolinecolor\": \"white\"}, \"yaxis\": {\"backgroundcolor\": \"#E5ECF6\", \"gridcolor\": \"white\", \"gridwidth\": 2, \"linecolor\": \"white\", \"showbackground\": true, \"ticks\": \"\", \"zerolinecolor\": \"white\"}, \"zaxis\": {\"backgroundcolor\": \"#E5ECF6\", \"gridcolor\": \"white\", \"gridwidth\": 2, \"linecolor\": \"white\", \"showbackground\": true, \"ticks\": \"\", \"zerolinecolor\": \"white\"}}, \"shapedefaults\": {\"line\": {\"color\": \"#2a3f5f\"}}, \"ternary\": {\"aaxis\": {\"gridcolor\": \"white\", \"linecolor\": \"white\", \"ticks\": \"\"}, \"baxis\": {\"gridcolor\": \"white\", \"linecolor\": \"white\", \"ticks\": \"\"}, \"bgcolor\": \"#E5ECF6\", \"caxis\": {\"gridcolor\": \"white\", \"linecolor\": \"white\", \"ticks\": \"\"}}, \"title\": {\"x\": 0.05}, \"xaxis\": {\"automargin\": true, \"gridcolor\": \"white\", \"linecolor\": \"white\", \"ticks\": \"\", \"title\": {\"standoff\": 15}, \"zerolinecolor\": \"white\", \"zerolinewidth\": 2}, \"yaxis\": {\"automargin\": true, \"gridcolor\": \"white\", \"linecolor\": \"white\", \"ticks\": \"\", \"title\": {\"standoff\": 15}, \"zerolinecolor\": \"white\", \"zerolinewidth\": 2}}}, \"updatemenus\": [{\"buttons\": [{\"args\": [null, {\"frame\": {\"duration\": 500, \"redraw\": true}, \"fromcurrent\": true, \"mode\": \"immediate\", \"transition\": {\"duration\": 500, \"easing\": \"linear\"}}], \"label\": \"&#9654;\", \"method\": \"animate\"}, {\"args\": [[null], {\"frame\": {\"duration\": 0, \"redraw\": true}, \"fromcurrent\": true, \"mode\": \"immediate\", \"transition\": {\"duration\": 0, \"easing\": \"linear\"}}], \"label\": \"&#9724;\", \"method\": \"animate\"}], \"direction\": \"left\", \"pad\": {\"r\": 10, \"t\": 70}, \"showactive\": false, \"type\": \"buttons\", \"x\": 0.1, \"xanchor\": \"right\", \"y\": 0, \"yanchor\": \"top\"}], \"xaxis\": {\"anchor\": \"y\", \"categoryarray\": [\"University of Maryland-Baltimore County\"], \"categoryorder\": \"array\", \"domain\": [0.0, 1.0], \"title\": {\"text\": \"INSTNM\"}}, \"yaxis\": {\"anchor\": \"x\", \"domain\": [0.0, 1.0], \"title\": {\"text\": \"TUITIONFEE_IN\"}}},\n",
       "                        {\"responsive\": true}\n",
       "                    ).then(function(){\n",
       "                            Plotly.addFrames('f1ce8859-6ca0-4522-be5a-a13aa7b0fd07', [{\"data\": [{\"alignmentgroup\": \"True\", \"hovertemplate\": \"INSTNM=%{x}<br>Year=1996<br>TUITIONFEE_IN=%{y}<extra></extra>\", \"legendgroup\": \"University of Maryland-Baltimore County\", \"marker\": {\"color\": \"#636efa\"}, \"name\": \"University of Maryland-Baltimore County\", \"offsetgroup\": \"University of Maryland-Baltimore County\", \"orientation\": \"v\", \"showlegend\": true, \"textposition\": \"auto\", \"x\": [\"University of Maryland-Baltimore County\"], \"xaxis\": \"x\", \"y\": [null], \"yaxis\": \"y\", \"type\": \"bar\"}], \"name\": \"1996\"}, {\"data\": [{\"alignmentgroup\": \"True\", \"hovertemplate\": \"INSTNM=%{x}<br>Year=1997<br>TUITIONFEE_IN=%{y}<extra></extra>\", \"legendgroup\": \"University of Maryland-Baltimore County\", \"marker\": {\"color\": \"#636efa\"}, \"name\": \"University of Maryland-Baltimore County\", \"offsetgroup\": \"University of Maryland-Baltimore County\", \"orientation\": \"v\", \"showlegend\": true, \"textposition\": \"auto\", \"x\": [\"University of Maryland-Baltimore County\"], \"xaxis\": \"x\", \"y\": [null], \"yaxis\": \"y\", \"type\": \"bar\"}], \"name\": \"1997\"}, {\"data\": [{\"alignmentgroup\": \"True\", \"hovertemplate\": \"INSTNM=%{x}<br>Year=1998<br>TUITIONFEE_IN=%{y}<extra></extra>\", \"legendgroup\": \"University of Maryland-Baltimore County\", \"marker\": {\"color\": \"#636efa\"}, \"name\": \"University of Maryland-Baltimore County\", \"offsetgroup\": \"University of Maryland-Baltimore County\", \"orientation\": \"v\", \"showlegend\": true, \"textposition\": \"auto\", \"x\": [\"University of Maryland-Baltimore County\"], \"xaxis\": \"x\", \"y\": [null], \"yaxis\": \"y\", \"type\": \"bar\"}], \"name\": \"1998\"}, {\"data\": [{\"alignmentgroup\": \"True\", \"hovertemplate\": \"INSTNM=%{x}<br>Year=1999<br>TUITIONFEE_IN=%{y}<extra></extra>\", \"legendgroup\": \"University of Maryland-Baltimore County\", \"marker\": {\"color\": \"#636efa\"}, \"name\": \"University of Maryland-Baltimore County\", \"offsetgroup\": \"University of Maryland-Baltimore County\", \"orientation\": \"v\", \"showlegend\": true, \"textposition\": \"auto\", \"x\": [\"University of Maryland-Baltimore County\"], \"xaxis\": \"x\", \"y\": [null], \"yaxis\": \"y\", \"type\": \"bar\"}], \"name\": \"1999\"}, {\"data\": [{\"alignmentgroup\": \"True\", \"hovertemplate\": \"INSTNM=%{x}<br>Year=2000<br>TUITIONFEE_IN=%{y}<extra></extra>\", \"legendgroup\": \"University of Maryland-Baltimore County\", \"marker\": {\"color\": \"#636efa\"}, \"name\": \"University of Maryland-Baltimore County\", \"offsetgroup\": \"University of Maryland-Baltimore County\", \"orientation\": \"v\", \"showlegend\": true, \"textposition\": \"auto\", \"x\": [\"University of Maryland-Baltimore County\"], \"xaxis\": \"x\", \"y\": [5490.0], \"yaxis\": \"y\", \"type\": \"bar\"}], \"name\": \"2000\"}, {\"data\": [{\"alignmentgroup\": \"True\", \"hovertemplate\": \"INSTNM=%{x}<br>Year=2001<br>TUITIONFEE_IN=%{y}<extra></extra>\", \"legendgroup\": \"University of Maryland-Baltimore County\", \"marker\": {\"color\": \"#636efa\"}, \"name\": \"University of Maryland-Baltimore County\", \"offsetgroup\": \"University of Maryland-Baltimore County\", \"orientation\": \"v\", \"showlegend\": true, \"textposition\": \"auto\", \"x\": [\"University of Maryland-Baltimore County\"], \"xaxis\": \"x\", \"y\": [5910.0], \"yaxis\": \"y\", \"type\": \"bar\"}], \"name\": \"2001\"}, {\"data\": [{\"alignmentgroup\": \"True\", \"hovertemplate\": \"INSTNM=%{x}<br>Year=2002<br>TUITIONFEE_IN=%{y}<extra></extra>\", \"legendgroup\": \"University of Maryland-Baltimore County\", \"marker\": {\"color\": \"#636efa\"}, \"name\": \"University of Maryland-Baltimore County\", \"offsetgroup\": \"University of Maryland-Baltimore County\", \"orientation\": \"v\", \"showlegend\": true, \"textposition\": \"auto\", \"x\": [\"University of Maryland-Baltimore County\"], \"xaxis\": \"x\", \"y\": [6362.0], \"yaxis\": \"y\", \"type\": \"bar\"}], \"name\": \"2002\"}, {\"data\": [{\"alignmentgroup\": \"True\", \"hovertemplate\": \"INSTNM=%{x}<br>Year=2003<br>TUITIONFEE_IN=%{y}<extra></extra>\", \"legendgroup\": \"University of Maryland-Baltimore County\", \"marker\": {\"color\": \"#636efa\"}, \"name\": \"University of Maryland-Baltimore County\", \"offsetgroup\": \"University of Maryland-Baltimore County\", \"orientation\": \"v\", \"showlegend\": true, \"textposition\": \"auto\", \"x\": [\"University of Maryland-Baltimore County\"], \"xaxis\": \"x\", \"y\": [7388.0], \"yaxis\": \"y\", \"type\": \"bar\"}], \"name\": \"2003\"}, {\"data\": [{\"alignmentgroup\": \"True\", \"hovertemplate\": \"INSTNM=%{x}<br>Year=2004<br>TUITIONFEE_IN=%{y}<extra></extra>\", \"legendgroup\": \"University of Maryland-Baltimore County\", \"marker\": {\"color\": \"#636efa\"}, \"name\": \"University of Maryland-Baltimore County\", \"offsetgroup\": \"University of Maryland-Baltimore County\", \"orientation\": \"v\", \"showlegend\": true, \"textposition\": \"auto\", \"x\": [\"University of Maryland-Baltimore County\"], \"xaxis\": \"x\", \"y\": [8020.0], \"yaxis\": \"y\", \"type\": \"bar\"}], \"name\": \"2004\"}, {\"data\": [{\"alignmentgroup\": \"True\", \"hovertemplate\": \"INSTNM=%{x}<br>Year=2005<br>TUITIONFEE_IN=%{y}<extra></extra>\", \"legendgroup\": \"University of Maryland-Baltimore County\", \"marker\": {\"color\": \"#636efa\"}, \"name\": \"University of Maryland-Baltimore County\", \"offsetgroup\": \"University of Maryland-Baltimore County\", \"orientation\": \"v\", \"showlegend\": true, \"textposition\": \"auto\", \"x\": [\"University of Maryland-Baltimore County\"], \"xaxis\": \"x\", \"y\": [8520.0], \"yaxis\": \"y\", \"type\": \"bar\"}], \"name\": \"2005\"}, {\"data\": [{\"alignmentgroup\": \"True\", \"hovertemplate\": \"INSTNM=%{x}<br>Year=2006<br>TUITIONFEE_IN=%{y}<extra></extra>\", \"legendgroup\": \"University of Maryland-Baltimore County\", \"marker\": {\"color\": \"#636efa\"}, \"name\": \"University of Maryland-Baltimore County\", \"offsetgroup\": \"University of Maryland-Baltimore County\", \"orientation\": \"v\", \"showlegend\": true, \"textposition\": \"auto\", \"x\": [\"University of Maryland-Baltimore County\"], \"xaxis\": \"x\", \"y\": [8622.0], \"yaxis\": \"y\", \"type\": \"bar\"}], \"name\": \"2006\"}, {\"data\": [{\"alignmentgroup\": \"True\", \"hovertemplate\": \"INSTNM=%{x}<br>Year=2007<br>TUITIONFEE_IN=%{y}<extra></extra>\", \"legendgroup\": \"University of Maryland-Baltimore County\", \"marker\": {\"color\": \"#636efa\"}, \"name\": \"University of Maryland-Baltimore County\", \"offsetgroup\": \"University of Maryland-Baltimore County\", \"orientation\": \"v\", \"showlegend\": true, \"textposition\": \"auto\", \"x\": [\"University of Maryland-Baltimore County\"], \"xaxis\": \"x\", \"y\": [8708.0], \"yaxis\": \"y\", \"type\": \"bar\"}], \"name\": \"2007\"}, {\"data\": [{\"alignmentgroup\": \"True\", \"hovertemplate\": \"INSTNM=%{x}<br>Year=2008<br>TUITIONFEE_IN=%{y}<extra></extra>\", \"legendgroup\": \"University of Maryland-Baltimore County\", \"marker\": {\"color\": \"#636efa\"}, \"name\": \"University of Maryland-Baltimore County\", \"offsetgroup\": \"University of Maryland-Baltimore County\", \"orientation\": \"v\", \"showlegend\": true, \"textposition\": \"auto\", \"x\": [\"University of Maryland-Baltimore County\"], \"xaxis\": \"x\", \"y\": [8780.0], \"yaxis\": \"y\", \"type\": \"bar\"}], \"name\": \"2008\"}, {\"data\": [{\"alignmentgroup\": \"True\", \"hovertemplate\": \"INSTNM=%{x}<br>Year=2009<br>TUITIONFEE_IN=%{y}<extra></extra>\", \"legendgroup\": \"University of Maryland-Baltimore County\", \"marker\": {\"color\": \"#636efa\"}, \"name\": \"University of Maryland-Baltimore County\", \"offsetgroup\": \"University of Maryland-Baltimore County\", \"orientation\": \"v\", \"showlegend\": true, \"textposition\": \"auto\", \"x\": [\"University of Maryland-Baltimore County\"], \"xaxis\": \"x\", \"y\": [8872.0], \"yaxis\": \"y\", \"type\": \"bar\"}], \"name\": \"2009\"}, {\"data\": [{\"alignmentgroup\": \"True\", \"hovertemplate\": \"INSTNM=%{x}<br>Year=2010<br>TUITIONFEE_IN=%{y}<extra></extra>\", \"legendgroup\": \"University of Maryland-Baltimore County\", \"marker\": {\"color\": \"#636efa\"}, \"name\": \"University of Maryland-Baltimore County\", \"offsetgroup\": \"University of Maryland-Baltimore County\", \"orientation\": \"v\", \"showlegend\": true, \"textposition\": \"auto\", \"x\": [\"University of Maryland-Baltimore County\"], \"xaxis\": \"x\", \"y\": [9171.0], \"yaxis\": \"y\", \"type\": \"bar\"}], \"name\": \"2010\"}, {\"data\": [{\"alignmentgroup\": \"True\", \"hovertemplate\": \"INSTNM=%{x}<br>Year=2011<br>TUITIONFEE_IN=%{y}<extra></extra>\", \"legendgroup\": \"University of Maryland-Baltimore County\", \"marker\": {\"color\": \"#636efa\"}, \"name\": \"University of Maryland-Baltimore County\", \"offsetgroup\": \"University of Maryland-Baltimore County\", \"orientation\": \"v\", \"showlegend\": true, \"textposition\": \"auto\", \"x\": [\"University of Maryland-Baltimore County\"], \"xaxis\": \"x\", \"y\": [9467.0], \"yaxis\": \"y\", \"type\": \"bar\"}], \"name\": \"2011\"}, {\"data\": [{\"alignmentgroup\": \"True\", \"hovertemplate\": \"INSTNM=%{x}<br>Year=2012<br>TUITIONFEE_IN=%{y}<extra></extra>\", \"legendgroup\": \"University of Maryland-Baltimore County\", \"marker\": {\"color\": \"#636efa\"}, \"name\": \"University of Maryland-Baltimore County\", \"offsetgroup\": \"University of Maryland-Baltimore County\", \"orientation\": \"v\", \"showlegend\": true, \"textposition\": \"auto\", \"x\": [\"University of Maryland-Baltimore County\"], \"xaxis\": \"x\", \"y\": [9764.0], \"yaxis\": \"y\", \"type\": \"bar\"}], \"name\": \"2012\"}, {\"data\": [{\"alignmentgroup\": \"True\", \"hovertemplate\": \"INSTNM=%{x}<br>Year=2013<br>TUITIONFEE_IN=%{y}<extra></extra>\", \"legendgroup\": \"University of Maryland-Baltimore County\", \"marker\": {\"color\": \"#636efa\"}, \"name\": \"University of Maryland-Baltimore County\", \"offsetgroup\": \"University of Maryland-Baltimore County\", \"orientation\": \"v\", \"showlegend\": true, \"textposition\": \"auto\", \"x\": [\"University of Maryland-Baltimore County\"], \"xaxis\": \"x\", \"y\": [10068.0], \"yaxis\": \"y\", \"type\": \"bar\"}], \"name\": \"2013\"}, {\"data\": [{\"alignmentgroup\": \"True\", \"hovertemplate\": \"INSTNM=%{x}<br>Year=2014<br>TUITIONFEE_IN=%{y}<extra></extra>\", \"legendgroup\": \"University of Maryland-Baltimore County\", \"marker\": {\"color\": \"#636efa\"}, \"name\": \"University of Maryland-Baltimore County\", \"offsetgroup\": \"University of Maryland-Baltimore County\", \"orientation\": \"v\", \"showlegend\": true, \"textposition\": \"auto\", \"x\": [\"University of Maryland-Baltimore County\"], \"xaxis\": \"x\", \"y\": [10384.0], \"yaxis\": \"y\", \"type\": \"bar\"}], \"name\": \"2014\"}, {\"data\": [{\"alignmentgroup\": \"True\", \"hovertemplate\": \"INSTNM=%{x}<br>Year=2015<br>TUITIONFEE_IN=%{y}<extra></extra>\", \"legendgroup\": \"University of Maryland-Baltimore County\", \"marker\": {\"color\": \"#636efa\"}, \"name\": \"University of Maryland-Baltimore County\", \"offsetgroup\": \"University of Maryland-Baltimore County\", \"orientation\": \"v\", \"showlegend\": true, \"textposition\": \"auto\", \"x\": [\"University of Maryland-Baltimore County\"], \"xaxis\": \"x\", \"y\": [11006.0], \"yaxis\": \"y\", \"type\": \"bar\"}], \"name\": \"2015\"}, {\"data\": [{\"alignmentgroup\": \"True\", \"hovertemplate\": \"INSTNM=%{x}<br>Year=2016<br>TUITIONFEE_IN=%{y}<extra></extra>\", \"legendgroup\": \"University of Maryland-Baltimore County\", \"marker\": {\"color\": \"#636efa\"}, \"name\": \"University of Maryland-Baltimore County\", \"offsetgroup\": \"University of Maryland-Baltimore County\", \"orientation\": \"v\", \"showlegend\": true, \"textposition\": \"auto\", \"x\": [\"University of Maryland-Baltimore County\"], \"xaxis\": \"x\", \"y\": [11264.0], \"yaxis\": \"y\", \"type\": \"bar\"}], \"name\": \"2016\"}, {\"data\": [{\"alignmentgroup\": \"True\", \"hovertemplate\": \"INSTNM=%{x}<br>Year=2017<br>TUITIONFEE_IN=%{y}<extra></extra>\", \"legendgroup\": \"University of Maryland-Baltimore County\", \"marker\": {\"color\": \"#636efa\"}, \"name\": \"University of Maryland-Baltimore County\", \"offsetgroup\": \"University of Maryland-Baltimore County\", \"orientation\": \"v\", \"showlegend\": true, \"textposition\": \"auto\", \"x\": [\"University of Maryland-Baltimore County\"], \"xaxis\": \"x\", \"y\": [11518.0], \"yaxis\": \"y\", \"type\": \"bar\"}], \"name\": \"2017\"}, {\"data\": [{\"alignmentgroup\": \"True\", \"hovertemplate\": \"INSTNM=%{x}<br>Year=2018<br>TUITIONFEE_IN=%{y}<extra></extra>\", \"legendgroup\": \"University of Maryland-Baltimore County\", \"marker\": {\"color\": \"#636efa\"}, \"name\": \"University of Maryland-Baltimore County\", \"offsetgroup\": \"University of Maryland-Baltimore County\", \"orientation\": \"v\", \"showlegend\": true, \"textposition\": \"auto\", \"x\": [\"University of Maryland-Baltimore County\"], \"xaxis\": \"x\", \"y\": [11778.0], \"yaxis\": \"y\", \"type\": \"bar\"}], \"name\": \"2018\"}]);\n",
       "                        }).then(function(){\n",
       "                            \n",
       "var gd = document.getElementById('f1ce8859-6ca0-4522-be5a-a13aa7b0fd07');\n",
       "var x = new MutationObserver(function (mutations, observer) {{\n",
       "        var display = window.getComputedStyle(gd).display;\n",
       "        if (!display || display === 'none') {{\n",
       "            console.log([gd, 'removed!']);\n",
       "            Plotly.purge(gd);\n",
       "            observer.disconnect();\n",
       "        }}\n",
       "}});\n",
       "\n",
       "// Listen for the removal of the full notebook cells\n",
       "var notebookContainer = gd.closest('#notebook-container');\n",
       "if (notebookContainer) {{\n",
       "    x.observe(notebookContainer, {childList: true});\n",
       "}}\n",
       "\n",
       "// Listen for the clearing of the current output cell\n",
       "var outputEl = gd.closest('.output');\n",
       "if (outputEl) {{\n",
       "    x.observe(outputEl, {childList: true});\n",
       "}}\n",
       "\n",
       "                        })\n",
       "                };\n",
       "                });\n",
       "            </script>\n",
       "        </div>"
      ]
     },
     "metadata": {},
     "output_type": "display_data"
    }
   ],
   "source": [
    "fig2 = px.bar(data_frame=UMBC_df2, \n",
    "             x=\"INSTNM\", y=\"TUITIONFEE_IN\",  \n",
    "             color=\"INSTNM\",animation_frame = 'Year' \n",
    "             )\n",
    "fig2.show()"
   ]
  },
  {
   "cell_type": "markdown",
   "metadata": {},
   "source": [
    "**First convert the TUITIONFEE_IN column to a Python List**"
   ]
  },
  {
   "cell_type": "code",
   "execution_count": 25,
   "metadata": {},
   "outputs": [
    {
     "data": {
      "text/plain": [
       "[nan,\n",
       " nan,\n",
       " nan,\n",
       " nan,\n",
       " 5490.0,\n",
       " 5910.0,\n",
       " 6362.0,\n",
       " 7388.0,\n",
       " 8020.0,\n",
       " 8520.0,\n",
       " 8622.0,\n",
       " 8708.0,\n",
       " 8780.0,\n",
       " 8872.0,\n",
       " 9171.0,\n",
       " 9467.0,\n",
       " 9764.0,\n",
       " 10068.0,\n",
       " 10384.0,\n",
       " 11006.0,\n",
       " 11264.0,\n",
       " 11518.0,\n",
       " 11778.0]"
      ]
     },
     "execution_count": 25,
     "metadata": {},
     "output_type": "execute_result"
    }
   ],
   "source": [
    "Tuition_list2 = UMBC_df2['TUITIONFEE_IN'].tolist()\n",
    "\n",
    "Tuition_list2"
   ]
  },
  {
   "cell_type": "markdown",
   "metadata": {},
   "source": [
    "**Loop through the list and calculate the % change each year over the prior year**"
   ]
  },
  {
   "cell_type": "code",
   "execution_count": 26,
   "metadata": {},
   "outputs": [
    {
     "data": {
      "text/plain": [
       "[nan,\n",
       " nan,\n",
       " nan,\n",
       " nan,\n",
       " 548900.0,\n",
       " 590900.0,\n",
       " 636100.0,\n",
       " 738700.0,\n",
       " 801900.0,\n",
       " 851900.0,\n",
       " 862100.0,\n",
       " 870700.0,\n",
       " 877900.0,\n",
       " 887100.0,\n",
       " 917000.0,\n",
       " 946600.0,\n",
       " 976300.0,\n",
       " 1006700.0,\n",
       " 1038300.0,\n",
       " 1100500.0,\n",
       " 1126300.0,\n",
       " 1151700.0,\n",
       " 1177700.0]"
      ]
     },
     "execution_count": 26,
     "metadata": {},
     "output_type": "execute_result"
    }
   ],
   "source": [
    "def percentageChange(start, current):\n",
    "    return (current - start/abs(start))*100.0\n",
    "\n",
    "PC_list = []\n",
    "\n",
    "for cost in Tuition_list2:\n",
    "    pc = percentageChange(Tuition_list2[4], cost)\n",
    "    PC_list.append(pc)\n",
    "    \n",
    "PC_list"
   ]
  },
  {
   "cell_type": "markdown",
   "metadata": {},
   "source": [
    "**Add the list of the percentages to the dataframe as a new column (\"PCT_CHANGE\")**"
   ]
  },
  {
   "cell_type": "code",
   "execution_count": 27,
   "metadata": {},
   "outputs": [
    {
     "data": {
      "text/html": [
       "<div>\n",
       "<style scoped>\n",
       "    .dataframe tbody tr th:only-of-type {\n",
       "        vertical-align: middle;\n",
       "    }\n",
       "\n",
       "    .dataframe tbody tr th {\n",
       "        vertical-align: top;\n",
       "    }\n",
       "\n",
       "    .dataframe thead th {\n",
       "        text-align: right;\n",
       "    }\n",
       "</style>\n",
       "<table border=\"1\" class=\"dataframe\">\n",
       "  <thead>\n",
       "    <tr style=\"text-align: right;\">\n",
       "      <th></th>\n",
       "      <th>UNITID</th>\n",
       "      <th>INSTNM</th>\n",
       "      <th>STABBR</th>\n",
       "      <th>REGION</th>\n",
       "      <th>ADM_RATE</th>\n",
       "      <th>TUITIONFEE_IN</th>\n",
       "      <th>Year</th>\n",
       "      <th>PCT_CHANGE</th>\n",
       "    </tr>\n",
       "  </thead>\n",
       "  <tbody>\n",
       "    <tr>\n",
       "      <td>2151</td>\n",
       "      <td>163268</td>\n",
       "      <td>University of Maryland-Baltimore County</td>\n",
       "      <td>MD</td>\n",
       "      <td>2.0</td>\n",
       "      <td>NaN</td>\n",
       "      <td>NaN</td>\n",
       "      <td>1996</td>\n",
       "      <td>NaN</td>\n",
       "    </tr>\n",
       "    <tr>\n",
       "      <td>2049</td>\n",
       "      <td>163268</td>\n",
       "      <td>University of Maryland-Baltimore County</td>\n",
       "      <td>MD</td>\n",
       "      <td>2.0</td>\n",
       "      <td>NaN</td>\n",
       "      <td>NaN</td>\n",
       "      <td>1997</td>\n",
       "      <td>NaN</td>\n",
       "    </tr>\n",
       "    <tr>\n",
       "      <td>1982</td>\n",
       "      <td>163268</td>\n",
       "      <td>University of Maryland-Baltimore County</td>\n",
       "      <td>MD</td>\n",
       "      <td>2.0</td>\n",
       "      <td>NaN</td>\n",
       "      <td>NaN</td>\n",
       "      <td>1998</td>\n",
       "      <td>NaN</td>\n",
       "    </tr>\n",
       "    <tr>\n",
       "      <td>1955</td>\n",
       "      <td>163268</td>\n",
       "      <td>University of Maryland-Baltimore County</td>\n",
       "      <td>MD</td>\n",
       "      <td>2.0</td>\n",
       "      <td>NaN</td>\n",
       "      <td>NaN</td>\n",
       "      <td>1999</td>\n",
       "      <td>NaN</td>\n",
       "    </tr>\n",
       "    <tr>\n",
       "      <td>1926</td>\n",
       "      <td>163268</td>\n",
       "      <td>University of Maryland-Baltimore County</td>\n",
       "      <td>MD</td>\n",
       "      <td>2.0</td>\n",
       "      <td>NaN</td>\n",
       "      <td>5490.0</td>\n",
       "      <td>2000</td>\n",
       "      <td>548900.0</td>\n",
       "    </tr>\n",
       "  </tbody>\n",
       "</table>\n",
       "</div>"
      ],
      "text/plain": [
       "      UNITID                                   INSTNM STABBR  REGION  \\\n",
       "2151  163268  University of Maryland-Baltimore County     MD     2.0   \n",
       "2049  163268  University of Maryland-Baltimore County     MD     2.0   \n",
       "1982  163268  University of Maryland-Baltimore County     MD     2.0   \n",
       "1955  163268  University of Maryland-Baltimore County     MD     2.0   \n",
       "1926  163268  University of Maryland-Baltimore County     MD     2.0   \n",
       "\n",
       "      ADM_RATE  TUITIONFEE_IN  Year  PCT_CHANGE  \n",
       "2151       NaN            NaN  1996         NaN  \n",
       "2049       NaN            NaN  1997         NaN  \n",
       "1982       NaN            NaN  1998         NaN  \n",
       "1955       NaN            NaN  1999         NaN  \n",
       "1926       NaN         5490.0  2000    548900.0  "
      ]
     },
     "execution_count": 27,
     "metadata": {},
     "output_type": "execute_result"
    }
   ],
   "source": [
    "UMBC_df2[\"PCT_CHANGE\"] = PC_list\n",
    "\n",
    "UMBC_df2.head()"
   ]
  },
  {
   "cell_type": "markdown",
   "metadata": {},
   "source": [
    "**Finaly, we can make the plot tuition growth rate year over year - bar first, then line chart**"
   ]
  },
  {
   "cell_type": "code",
   "execution_count": 28,
   "metadata": {},
   "outputs": [
    {
     "data": {
      "application/vnd.plotly.v1+json": {
       "config": {
        "plotlyServerURL": "https://plot.ly"
       },
       "data": [
        {
         "alignmentgroup": "True",
         "hovertemplate": "INSTNM=%{x}<br>Year=1996<br>PCT_CHANGE=%{y}<extra></extra>",
         "legendgroup": "University of Maryland-Baltimore County",
         "marker": {
          "color": "#636efa"
         },
         "name": "University of Maryland-Baltimore County",
         "offsetgroup": "University of Maryland-Baltimore County",
         "orientation": "v",
         "showlegend": true,
         "textposition": "auto",
         "type": "bar",
         "x": [
          "University of Maryland-Baltimore County"
         ],
         "xaxis": "x",
         "y": [
          null
         ],
         "yaxis": "y"
        }
       ],
       "frames": [
        {
         "data": [
          {
           "alignmentgroup": "True",
           "hovertemplate": "INSTNM=%{x}<br>Year=1996<br>PCT_CHANGE=%{y}<extra></extra>",
           "legendgroup": "University of Maryland-Baltimore County",
           "marker": {
            "color": "#636efa"
           },
           "name": "University of Maryland-Baltimore County",
           "offsetgroup": "University of Maryland-Baltimore County",
           "orientation": "v",
           "showlegend": true,
           "textposition": "auto",
           "type": "bar",
           "x": [
            "University of Maryland-Baltimore County"
           ],
           "xaxis": "x",
           "y": [
            null
           ],
           "yaxis": "y"
          }
         ],
         "name": "1996"
        },
        {
         "data": [
          {
           "alignmentgroup": "True",
           "hovertemplate": "INSTNM=%{x}<br>Year=1997<br>PCT_CHANGE=%{y}<extra></extra>",
           "legendgroup": "University of Maryland-Baltimore County",
           "marker": {
            "color": "#636efa"
           },
           "name": "University of Maryland-Baltimore County",
           "offsetgroup": "University of Maryland-Baltimore County",
           "orientation": "v",
           "showlegend": true,
           "textposition": "auto",
           "type": "bar",
           "x": [
            "University of Maryland-Baltimore County"
           ],
           "xaxis": "x",
           "y": [
            null
           ],
           "yaxis": "y"
          }
         ],
         "name": "1997"
        },
        {
         "data": [
          {
           "alignmentgroup": "True",
           "hovertemplate": "INSTNM=%{x}<br>Year=1998<br>PCT_CHANGE=%{y}<extra></extra>",
           "legendgroup": "University of Maryland-Baltimore County",
           "marker": {
            "color": "#636efa"
           },
           "name": "University of Maryland-Baltimore County",
           "offsetgroup": "University of Maryland-Baltimore County",
           "orientation": "v",
           "showlegend": true,
           "textposition": "auto",
           "type": "bar",
           "x": [
            "University of Maryland-Baltimore County"
           ],
           "xaxis": "x",
           "y": [
            null
           ],
           "yaxis": "y"
          }
         ],
         "name": "1998"
        },
        {
         "data": [
          {
           "alignmentgroup": "True",
           "hovertemplate": "INSTNM=%{x}<br>Year=1999<br>PCT_CHANGE=%{y}<extra></extra>",
           "legendgroup": "University of Maryland-Baltimore County",
           "marker": {
            "color": "#636efa"
           },
           "name": "University of Maryland-Baltimore County",
           "offsetgroup": "University of Maryland-Baltimore County",
           "orientation": "v",
           "showlegend": true,
           "textposition": "auto",
           "type": "bar",
           "x": [
            "University of Maryland-Baltimore County"
           ],
           "xaxis": "x",
           "y": [
            null
           ],
           "yaxis": "y"
          }
         ],
         "name": "1999"
        },
        {
         "data": [
          {
           "alignmentgroup": "True",
           "hovertemplate": "INSTNM=%{x}<br>Year=2000<br>PCT_CHANGE=%{y}<extra></extra>",
           "legendgroup": "University of Maryland-Baltimore County",
           "marker": {
            "color": "#636efa"
           },
           "name": "University of Maryland-Baltimore County",
           "offsetgroup": "University of Maryland-Baltimore County",
           "orientation": "v",
           "showlegend": true,
           "textposition": "auto",
           "type": "bar",
           "x": [
            "University of Maryland-Baltimore County"
           ],
           "xaxis": "x",
           "y": [
            548900
           ],
           "yaxis": "y"
          }
         ],
         "name": "2000"
        },
        {
         "data": [
          {
           "alignmentgroup": "True",
           "hovertemplate": "INSTNM=%{x}<br>Year=2001<br>PCT_CHANGE=%{y}<extra></extra>",
           "legendgroup": "University of Maryland-Baltimore County",
           "marker": {
            "color": "#636efa"
           },
           "name": "University of Maryland-Baltimore County",
           "offsetgroup": "University of Maryland-Baltimore County",
           "orientation": "v",
           "showlegend": true,
           "textposition": "auto",
           "type": "bar",
           "x": [
            "University of Maryland-Baltimore County"
           ],
           "xaxis": "x",
           "y": [
            590900
           ],
           "yaxis": "y"
          }
         ],
         "name": "2001"
        },
        {
         "data": [
          {
           "alignmentgroup": "True",
           "hovertemplate": "INSTNM=%{x}<br>Year=2002<br>PCT_CHANGE=%{y}<extra></extra>",
           "legendgroup": "University of Maryland-Baltimore County",
           "marker": {
            "color": "#636efa"
           },
           "name": "University of Maryland-Baltimore County",
           "offsetgroup": "University of Maryland-Baltimore County",
           "orientation": "v",
           "showlegend": true,
           "textposition": "auto",
           "type": "bar",
           "x": [
            "University of Maryland-Baltimore County"
           ],
           "xaxis": "x",
           "y": [
            636100
           ],
           "yaxis": "y"
          }
         ],
         "name": "2002"
        },
        {
         "data": [
          {
           "alignmentgroup": "True",
           "hovertemplate": "INSTNM=%{x}<br>Year=2003<br>PCT_CHANGE=%{y}<extra></extra>",
           "legendgroup": "University of Maryland-Baltimore County",
           "marker": {
            "color": "#636efa"
           },
           "name": "University of Maryland-Baltimore County",
           "offsetgroup": "University of Maryland-Baltimore County",
           "orientation": "v",
           "showlegend": true,
           "textposition": "auto",
           "type": "bar",
           "x": [
            "University of Maryland-Baltimore County"
           ],
           "xaxis": "x",
           "y": [
            738700
           ],
           "yaxis": "y"
          }
         ],
         "name": "2003"
        },
        {
         "data": [
          {
           "alignmentgroup": "True",
           "hovertemplate": "INSTNM=%{x}<br>Year=2004<br>PCT_CHANGE=%{y}<extra></extra>",
           "legendgroup": "University of Maryland-Baltimore County",
           "marker": {
            "color": "#636efa"
           },
           "name": "University of Maryland-Baltimore County",
           "offsetgroup": "University of Maryland-Baltimore County",
           "orientation": "v",
           "showlegend": true,
           "textposition": "auto",
           "type": "bar",
           "x": [
            "University of Maryland-Baltimore County"
           ],
           "xaxis": "x",
           "y": [
            801900
           ],
           "yaxis": "y"
          }
         ],
         "name": "2004"
        },
        {
         "data": [
          {
           "alignmentgroup": "True",
           "hovertemplate": "INSTNM=%{x}<br>Year=2005<br>PCT_CHANGE=%{y}<extra></extra>",
           "legendgroup": "University of Maryland-Baltimore County",
           "marker": {
            "color": "#636efa"
           },
           "name": "University of Maryland-Baltimore County",
           "offsetgroup": "University of Maryland-Baltimore County",
           "orientation": "v",
           "showlegend": true,
           "textposition": "auto",
           "type": "bar",
           "x": [
            "University of Maryland-Baltimore County"
           ],
           "xaxis": "x",
           "y": [
            851900
           ],
           "yaxis": "y"
          }
         ],
         "name": "2005"
        },
        {
         "data": [
          {
           "alignmentgroup": "True",
           "hovertemplate": "INSTNM=%{x}<br>Year=2006<br>PCT_CHANGE=%{y}<extra></extra>",
           "legendgroup": "University of Maryland-Baltimore County",
           "marker": {
            "color": "#636efa"
           },
           "name": "University of Maryland-Baltimore County",
           "offsetgroup": "University of Maryland-Baltimore County",
           "orientation": "v",
           "showlegend": true,
           "textposition": "auto",
           "type": "bar",
           "x": [
            "University of Maryland-Baltimore County"
           ],
           "xaxis": "x",
           "y": [
            862100
           ],
           "yaxis": "y"
          }
         ],
         "name": "2006"
        },
        {
         "data": [
          {
           "alignmentgroup": "True",
           "hovertemplate": "INSTNM=%{x}<br>Year=2007<br>PCT_CHANGE=%{y}<extra></extra>",
           "legendgroup": "University of Maryland-Baltimore County",
           "marker": {
            "color": "#636efa"
           },
           "name": "University of Maryland-Baltimore County",
           "offsetgroup": "University of Maryland-Baltimore County",
           "orientation": "v",
           "showlegend": true,
           "textposition": "auto",
           "type": "bar",
           "x": [
            "University of Maryland-Baltimore County"
           ],
           "xaxis": "x",
           "y": [
            870700
           ],
           "yaxis": "y"
          }
         ],
         "name": "2007"
        },
        {
         "data": [
          {
           "alignmentgroup": "True",
           "hovertemplate": "INSTNM=%{x}<br>Year=2008<br>PCT_CHANGE=%{y}<extra></extra>",
           "legendgroup": "University of Maryland-Baltimore County",
           "marker": {
            "color": "#636efa"
           },
           "name": "University of Maryland-Baltimore County",
           "offsetgroup": "University of Maryland-Baltimore County",
           "orientation": "v",
           "showlegend": true,
           "textposition": "auto",
           "type": "bar",
           "x": [
            "University of Maryland-Baltimore County"
           ],
           "xaxis": "x",
           "y": [
            877900
           ],
           "yaxis": "y"
          }
         ],
         "name": "2008"
        },
        {
         "data": [
          {
           "alignmentgroup": "True",
           "hovertemplate": "INSTNM=%{x}<br>Year=2009<br>PCT_CHANGE=%{y}<extra></extra>",
           "legendgroup": "University of Maryland-Baltimore County",
           "marker": {
            "color": "#636efa"
           },
           "name": "University of Maryland-Baltimore County",
           "offsetgroup": "University of Maryland-Baltimore County",
           "orientation": "v",
           "showlegend": true,
           "textposition": "auto",
           "type": "bar",
           "x": [
            "University of Maryland-Baltimore County"
           ],
           "xaxis": "x",
           "y": [
            887100
           ],
           "yaxis": "y"
          }
         ],
         "name": "2009"
        },
        {
         "data": [
          {
           "alignmentgroup": "True",
           "hovertemplate": "INSTNM=%{x}<br>Year=2010<br>PCT_CHANGE=%{y}<extra></extra>",
           "legendgroup": "University of Maryland-Baltimore County",
           "marker": {
            "color": "#636efa"
           },
           "name": "University of Maryland-Baltimore County",
           "offsetgroup": "University of Maryland-Baltimore County",
           "orientation": "v",
           "showlegend": true,
           "textposition": "auto",
           "type": "bar",
           "x": [
            "University of Maryland-Baltimore County"
           ],
           "xaxis": "x",
           "y": [
            917000
           ],
           "yaxis": "y"
          }
         ],
         "name": "2010"
        },
        {
         "data": [
          {
           "alignmentgroup": "True",
           "hovertemplate": "INSTNM=%{x}<br>Year=2011<br>PCT_CHANGE=%{y}<extra></extra>",
           "legendgroup": "University of Maryland-Baltimore County",
           "marker": {
            "color": "#636efa"
           },
           "name": "University of Maryland-Baltimore County",
           "offsetgroup": "University of Maryland-Baltimore County",
           "orientation": "v",
           "showlegend": true,
           "textposition": "auto",
           "type": "bar",
           "x": [
            "University of Maryland-Baltimore County"
           ],
           "xaxis": "x",
           "y": [
            946600
           ],
           "yaxis": "y"
          }
         ],
         "name": "2011"
        },
        {
         "data": [
          {
           "alignmentgroup": "True",
           "hovertemplate": "INSTNM=%{x}<br>Year=2012<br>PCT_CHANGE=%{y}<extra></extra>",
           "legendgroup": "University of Maryland-Baltimore County",
           "marker": {
            "color": "#636efa"
           },
           "name": "University of Maryland-Baltimore County",
           "offsetgroup": "University of Maryland-Baltimore County",
           "orientation": "v",
           "showlegend": true,
           "textposition": "auto",
           "type": "bar",
           "x": [
            "University of Maryland-Baltimore County"
           ],
           "xaxis": "x",
           "y": [
            976300
           ],
           "yaxis": "y"
          }
         ],
         "name": "2012"
        },
        {
         "data": [
          {
           "alignmentgroup": "True",
           "hovertemplate": "INSTNM=%{x}<br>Year=2013<br>PCT_CHANGE=%{y}<extra></extra>",
           "legendgroup": "University of Maryland-Baltimore County",
           "marker": {
            "color": "#636efa"
           },
           "name": "University of Maryland-Baltimore County",
           "offsetgroup": "University of Maryland-Baltimore County",
           "orientation": "v",
           "showlegend": true,
           "textposition": "auto",
           "type": "bar",
           "x": [
            "University of Maryland-Baltimore County"
           ],
           "xaxis": "x",
           "y": [
            1006700
           ],
           "yaxis": "y"
          }
         ],
         "name": "2013"
        },
        {
         "data": [
          {
           "alignmentgroup": "True",
           "hovertemplate": "INSTNM=%{x}<br>Year=2014<br>PCT_CHANGE=%{y}<extra></extra>",
           "legendgroup": "University of Maryland-Baltimore County",
           "marker": {
            "color": "#636efa"
           },
           "name": "University of Maryland-Baltimore County",
           "offsetgroup": "University of Maryland-Baltimore County",
           "orientation": "v",
           "showlegend": true,
           "textposition": "auto",
           "type": "bar",
           "x": [
            "University of Maryland-Baltimore County"
           ],
           "xaxis": "x",
           "y": [
            1038300
           ],
           "yaxis": "y"
          }
         ],
         "name": "2014"
        },
        {
         "data": [
          {
           "alignmentgroup": "True",
           "hovertemplate": "INSTNM=%{x}<br>Year=2015<br>PCT_CHANGE=%{y}<extra></extra>",
           "legendgroup": "University of Maryland-Baltimore County",
           "marker": {
            "color": "#636efa"
           },
           "name": "University of Maryland-Baltimore County",
           "offsetgroup": "University of Maryland-Baltimore County",
           "orientation": "v",
           "showlegend": true,
           "textposition": "auto",
           "type": "bar",
           "x": [
            "University of Maryland-Baltimore County"
           ],
           "xaxis": "x",
           "y": [
            1100500
           ],
           "yaxis": "y"
          }
         ],
         "name": "2015"
        },
        {
         "data": [
          {
           "alignmentgroup": "True",
           "hovertemplate": "INSTNM=%{x}<br>Year=2016<br>PCT_CHANGE=%{y}<extra></extra>",
           "legendgroup": "University of Maryland-Baltimore County",
           "marker": {
            "color": "#636efa"
           },
           "name": "University of Maryland-Baltimore County",
           "offsetgroup": "University of Maryland-Baltimore County",
           "orientation": "v",
           "showlegend": true,
           "textposition": "auto",
           "type": "bar",
           "x": [
            "University of Maryland-Baltimore County"
           ],
           "xaxis": "x",
           "y": [
            1126300
           ],
           "yaxis": "y"
          }
         ],
         "name": "2016"
        },
        {
         "data": [
          {
           "alignmentgroup": "True",
           "hovertemplate": "INSTNM=%{x}<br>Year=2017<br>PCT_CHANGE=%{y}<extra></extra>",
           "legendgroup": "University of Maryland-Baltimore County",
           "marker": {
            "color": "#636efa"
           },
           "name": "University of Maryland-Baltimore County",
           "offsetgroup": "University of Maryland-Baltimore County",
           "orientation": "v",
           "showlegend": true,
           "textposition": "auto",
           "type": "bar",
           "x": [
            "University of Maryland-Baltimore County"
           ],
           "xaxis": "x",
           "y": [
            1151700
           ],
           "yaxis": "y"
          }
         ],
         "name": "2017"
        },
        {
         "data": [
          {
           "alignmentgroup": "True",
           "hovertemplate": "INSTNM=%{x}<br>Year=2018<br>PCT_CHANGE=%{y}<extra></extra>",
           "legendgroup": "University of Maryland-Baltimore County",
           "marker": {
            "color": "#636efa"
           },
           "name": "University of Maryland-Baltimore County",
           "offsetgroup": "University of Maryland-Baltimore County",
           "orientation": "v",
           "showlegend": true,
           "textposition": "auto",
           "type": "bar",
           "x": [
            "University of Maryland-Baltimore County"
           ],
           "xaxis": "x",
           "y": [
            1177700
           ],
           "yaxis": "y"
          }
         ],
         "name": "2018"
        }
       ],
       "layout": {
        "barmode": "relative",
        "legend": {
         "title": {
          "text": "INSTNM"
         },
         "tracegroupgap": 0
        },
        "margin": {
         "t": 60
        },
        "sliders": [
         {
          "active": 0,
          "currentvalue": {
           "prefix": "Year="
          },
          "len": 0.9,
          "pad": {
           "b": 10,
           "t": 60
          },
          "steps": [
           {
            "args": [
             [
              "1996"
             ],
             {
              "frame": {
               "duration": 0,
               "redraw": true
              },
              "fromcurrent": true,
              "mode": "immediate",
              "transition": {
               "duration": 0,
               "easing": "linear"
              }
             }
            ],
            "label": "1996",
            "method": "animate"
           },
           {
            "args": [
             [
              "1997"
             ],
             {
              "frame": {
               "duration": 0,
               "redraw": true
              },
              "fromcurrent": true,
              "mode": "immediate",
              "transition": {
               "duration": 0,
               "easing": "linear"
              }
             }
            ],
            "label": "1997",
            "method": "animate"
           },
           {
            "args": [
             [
              "1998"
             ],
             {
              "frame": {
               "duration": 0,
               "redraw": true
              },
              "fromcurrent": true,
              "mode": "immediate",
              "transition": {
               "duration": 0,
               "easing": "linear"
              }
             }
            ],
            "label": "1998",
            "method": "animate"
           },
           {
            "args": [
             [
              "1999"
             ],
             {
              "frame": {
               "duration": 0,
               "redraw": true
              },
              "fromcurrent": true,
              "mode": "immediate",
              "transition": {
               "duration": 0,
               "easing": "linear"
              }
             }
            ],
            "label": "1999",
            "method": "animate"
           },
           {
            "args": [
             [
              "2000"
             ],
             {
              "frame": {
               "duration": 0,
               "redraw": true
              },
              "fromcurrent": true,
              "mode": "immediate",
              "transition": {
               "duration": 0,
               "easing": "linear"
              }
             }
            ],
            "label": "2000",
            "method": "animate"
           },
           {
            "args": [
             [
              "2001"
             ],
             {
              "frame": {
               "duration": 0,
               "redraw": true
              },
              "fromcurrent": true,
              "mode": "immediate",
              "transition": {
               "duration": 0,
               "easing": "linear"
              }
             }
            ],
            "label": "2001",
            "method": "animate"
           },
           {
            "args": [
             [
              "2002"
             ],
             {
              "frame": {
               "duration": 0,
               "redraw": true
              },
              "fromcurrent": true,
              "mode": "immediate",
              "transition": {
               "duration": 0,
               "easing": "linear"
              }
             }
            ],
            "label": "2002",
            "method": "animate"
           },
           {
            "args": [
             [
              "2003"
             ],
             {
              "frame": {
               "duration": 0,
               "redraw": true
              },
              "fromcurrent": true,
              "mode": "immediate",
              "transition": {
               "duration": 0,
               "easing": "linear"
              }
             }
            ],
            "label": "2003",
            "method": "animate"
           },
           {
            "args": [
             [
              "2004"
             ],
             {
              "frame": {
               "duration": 0,
               "redraw": true
              },
              "fromcurrent": true,
              "mode": "immediate",
              "transition": {
               "duration": 0,
               "easing": "linear"
              }
             }
            ],
            "label": "2004",
            "method": "animate"
           },
           {
            "args": [
             [
              "2005"
             ],
             {
              "frame": {
               "duration": 0,
               "redraw": true
              },
              "fromcurrent": true,
              "mode": "immediate",
              "transition": {
               "duration": 0,
               "easing": "linear"
              }
             }
            ],
            "label": "2005",
            "method": "animate"
           },
           {
            "args": [
             [
              "2006"
             ],
             {
              "frame": {
               "duration": 0,
               "redraw": true
              },
              "fromcurrent": true,
              "mode": "immediate",
              "transition": {
               "duration": 0,
               "easing": "linear"
              }
             }
            ],
            "label": "2006",
            "method": "animate"
           },
           {
            "args": [
             [
              "2007"
             ],
             {
              "frame": {
               "duration": 0,
               "redraw": true
              },
              "fromcurrent": true,
              "mode": "immediate",
              "transition": {
               "duration": 0,
               "easing": "linear"
              }
             }
            ],
            "label": "2007",
            "method": "animate"
           },
           {
            "args": [
             [
              "2008"
             ],
             {
              "frame": {
               "duration": 0,
               "redraw": true
              },
              "fromcurrent": true,
              "mode": "immediate",
              "transition": {
               "duration": 0,
               "easing": "linear"
              }
             }
            ],
            "label": "2008",
            "method": "animate"
           },
           {
            "args": [
             [
              "2009"
             ],
             {
              "frame": {
               "duration": 0,
               "redraw": true
              },
              "fromcurrent": true,
              "mode": "immediate",
              "transition": {
               "duration": 0,
               "easing": "linear"
              }
             }
            ],
            "label": "2009",
            "method": "animate"
           },
           {
            "args": [
             [
              "2010"
             ],
             {
              "frame": {
               "duration": 0,
               "redraw": true
              },
              "fromcurrent": true,
              "mode": "immediate",
              "transition": {
               "duration": 0,
               "easing": "linear"
              }
             }
            ],
            "label": "2010",
            "method": "animate"
           },
           {
            "args": [
             [
              "2011"
             ],
             {
              "frame": {
               "duration": 0,
               "redraw": true
              },
              "fromcurrent": true,
              "mode": "immediate",
              "transition": {
               "duration": 0,
               "easing": "linear"
              }
             }
            ],
            "label": "2011",
            "method": "animate"
           },
           {
            "args": [
             [
              "2012"
             ],
             {
              "frame": {
               "duration": 0,
               "redraw": true
              },
              "fromcurrent": true,
              "mode": "immediate",
              "transition": {
               "duration": 0,
               "easing": "linear"
              }
             }
            ],
            "label": "2012",
            "method": "animate"
           },
           {
            "args": [
             [
              "2013"
             ],
             {
              "frame": {
               "duration": 0,
               "redraw": true
              },
              "fromcurrent": true,
              "mode": "immediate",
              "transition": {
               "duration": 0,
               "easing": "linear"
              }
             }
            ],
            "label": "2013",
            "method": "animate"
           },
           {
            "args": [
             [
              "2014"
             ],
             {
              "frame": {
               "duration": 0,
               "redraw": true
              },
              "fromcurrent": true,
              "mode": "immediate",
              "transition": {
               "duration": 0,
               "easing": "linear"
              }
             }
            ],
            "label": "2014",
            "method": "animate"
           },
           {
            "args": [
             [
              "2015"
             ],
             {
              "frame": {
               "duration": 0,
               "redraw": true
              },
              "fromcurrent": true,
              "mode": "immediate",
              "transition": {
               "duration": 0,
               "easing": "linear"
              }
             }
            ],
            "label": "2015",
            "method": "animate"
           },
           {
            "args": [
             [
              "2016"
             ],
             {
              "frame": {
               "duration": 0,
               "redraw": true
              },
              "fromcurrent": true,
              "mode": "immediate",
              "transition": {
               "duration": 0,
               "easing": "linear"
              }
             }
            ],
            "label": "2016",
            "method": "animate"
           },
           {
            "args": [
             [
              "2017"
             ],
             {
              "frame": {
               "duration": 0,
               "redraw": true
              },
              "fromcurrent": true,
              "mode": "immediate",
              "transition": {
               "duration": 0,
               "easing": "linear"
              }
             }
            ],
            "label": "2017",
            "method": "animate"
           },
           {
            "args": [
             [
              "2018"
             ],
             {
              "frame": {
               "duration": 0,
               "redraw": true
              },
              "fromcurrent": true,
              "mode": "immediate",
              "transition": {
               "duration": 0,
               "easing": "linear"
              }
             }
            ],
            "label": "2018",
            "method": "animate"
           }
          ],
          "x": 0.1,
          "xanchor": "left",
          "y": 0,
          "yanchor": "top"
         }
        ],
        "template": {
         "data": {
          "bar": [
           {
            "error_x": {
             "color": "#2a3f5f"
            },
            "error_y": {
             "color": "#2a3f5f"
            },
            "marker": {
             "line": {
              "color": "#E5ECF6",
              "width": 0.5
             }
            },
            "type": "bar"
           }
          ],
          "barpolar": [
           {
            "marker": {
             "line": {
              "color": "#E5ECF6",
              "width": 0.5
             }
            },
            "type": "barpolar"
           }
          ],
          "carpet": [
           {
            "aaxis": {
             "endlinecolor": "#2a3f5f",
             "gridcolor": "white",
             "linecolor": "white",
             "minorgridcolor": "white",
             "startlinecolor": "#2a3f5f"
            },
            "baxis": {
             "endlinecolor": "#2a3f5f",
             "gridcolor": "white",
             "linecolor": "white",
             "minorgridcolor": "white",
             "startlinecolor": "#2a3f5f"
            },
            "type": "carpet"
           }
          ],
          "choropleth": [
           {
            "colorbar": {
             "outlinewidth": 0,
             "ticks": ""
            },
            "type": "choropleth"
           }
          ],
          "contour": [
           {
            "colorbar": {
             "outlinewidth": 0,
             "ticks": ""
            },
            "colorscale": [
             [
              0,
              "#0d0887"
             ],
             [
              0.1111111111111111,
              "#46039f"
             ],
             [
              0.2222222222222222,
              "#7201a8"
             ],
             [
              0.3333333333333333,
              "#9c179e"
             ],
             [
              0.4444444444444444,
              "#bd3786"
             ],
             [
              0.5555555555555556,
              "#d8576b"
             ],
             [
              0.6666666666666666,
              "#ed7953"
             ],
             [
              0.7777777777777778,
              "#fb9f3a"
             ],
             [
              0.8888888888888888,
              "#fdca26"
             ],
             [
              1,
              "#f0f921"
             ]
            ],
            "type": "contour"
           }
          ],
          "contourcarpet": [
           {
            "colorbar": {
             "outlinewidth": 0,
             "ticks": ""
            },
            "type": "contourcarpet"
           }
          ],
          "heatmap": [
           {
            "colorbar": {
             "outlinewidth": 0,
             "ticks": ""
            },
            "colorscale": [
             [
              0,
              "#0d0887"
             ],
             [
              0.1111111111111111,
              "#46039f"
             ],
             [
              0.2222222222222222,
              "#7201a8"
             ],
             [
              0.3333333333333333,
              "#9c179e"
             ],
             [
              0.4444444444444444,
              "#bd3786"
             ],
             [
              0.5555555555555556,
              "#d8576b"
             ],
             [
              0.6666666666666666,
              "#ed7953"
             ],
             [
              0.7777777777777778,
              "#fb9f3a"
             ],
             [
              0.8888888888888888,
              "#fdca26"
             ],
             [
              1,
              "#f0f921"
             ]
            ],
            "type": "heatmap"
           }
          ],
          "heatmapgl": [
           {
            "colorbar": {
             "outlinewidth": 0,
             "ticks": ""
            },
            "colorscale": [
             [
              0,
              "#0d0887"
             ],
             [
              0.1111111111111111,
              "#46039f"
             ],
             [
              0.2222222222222222,
              "#7201a8"
             ],
             [
              0.3333333333333333,
              "#9c179e"
             ],
             [
              0.4444444444444444,
              "#bd3786"
             ],
             [
              0.5555555555555556,
              "#d8576b"
             ],
             [
              0.6666666666666666,
              "#ed7953"
             ],
             [
              0.7777777777777778,
              "#fb9f3a"
             ],
             [
              0.8888888888888888,
              "#fdca26"
             ],
             [
              1,
              "#f0f921"
             ]
            ],
            "type": "heatmapgl"
           }
          ],
          "histogram": [
           {
            "marker": {
             "colorbar": {
              "outlinewidth": 0,
              "ticks": ""
             }
            },
            "type": "histogram"
           }
          ],
          "histogram2d": [
           {
            "colorbar": {
             "outlinewidth": 0,
             "ticks": ""
            },
            "colorscale": [
             [
              0,
              "#0d0887"
             ],
             [
              0.1111111111111111,
              "#46039f"
             ],
             [
              0.2222222222222222,
              "#7201a8"
             ],
             [
              0.3333333333333333,
              "#9c179e"
             ],
             [
              0.4444444444444444,
              "#bd3786"
             ],
             [
              0.5555555555555556,
              "#d8576b"
             ],
             [
              0.6666666666666666,
              "#ed7953"
             ],
             [
              0.7777777777777778,
              "#fb9f3a"
             ],
             [
              0.8888888888888888,
              "#fdca26"
             ],
             [
              1,
              "#f0f921"
             ]
            ],
            "type": "histogram2d"
           }
          ],
          "histogram2dcontour": [
           {
            "colorbar": {
             "outlinewidth": 0,
             "ticks": ""
            },
            "colorscale": [
             [
              0,
              "#0d0887"
             ],
             [
              0.1111111111111111,
              "#46039f"
             ],
             [
              0.2222222222222222,
              "#7201a8"
             ],
             [
              0.3333333333333333,
              "#9c179e"
             ],
             [
              0.4444444444444444,
              "#bd3786"
             ],
             [
              0.5555555555555556,
              "#d8576b"
             ],
             [
              0.6666666666666666,
              "#ed7953"
             ],
             [
              0.7777777777777778,
              "#fb9f3a"
             ],
             [
              0.8888888888888888,
              "#fdca26"
             ],
             [
              1,
              "#f0f921"
             ]
            ],
            "type": "histogram2dcontour"
           }
          ],
          "mesh3d": [
           {
            "colorbar": {
             "outlinewidth": 0,
             "ticks": ""
            },
            "type": "mesh3d"
           }
          ],
          "parcoords": [
           {
            "line": {
             "colorbar": {
              "outlinewidth": 0,
              "ticks": ""
             }
            },
            "type": "parcoords"
           }
          ],
          "pie": [
           {
            "automargin": true,
            "type": "pie"
           }
          ],
          "scatter": [
           {
            "marker": {
             "colorbar": {
              "outlinewidth": 0,
              "ticks": ""
             }
            },
            "type": "scatter"
           }
          ],
          "scatter3d": [
           {
            "line": {
             "colorbar": {
              "outlinewidth": 0,
              "ticks": ""
             }
            },
            "marker": {
             "colorbar": {
              "outlinewidth": 0,
              "ticks": ""
             }
            },
            "type": "scatter3d"
           }
          ],
          "scattercarpet": [
           {
            "marker": {
             "colorbar": {
              "outlinewidth": 0,
              "ticks": ""
             }
            },
            "type": "scattercarpet"
           }
          ],
          "scattergeo": [
           {
            "marker": {
             "colorbar": {
              "outlinewidth": 0,
              "ticks": ""
             }
            },
            "type": "scattergeo"
           }
          ],
          "scattergl": [
           {
            "marker": {
             "colorbar": {
              "outlinewidth": 0,
              "ticks": ""
             }
            },
            "type": "scattergl"
           }
          ],
          "scattermapbox": [
           {
            "marker": {
             "colorbar": {
              "outlinewidth": 0,
              "ticks": ""
             }
            },
            "type": "scattermapbox"
           }
          ],
          "scatterpolar": [
           {
            "marker": {
             "colorbar": {
              "outlinewidth": 0,
              "ticks": ""
             }
            },
            "type": "scatterpolar"
           }
          ],
          "scatterpolargl": [
           {
            "marker": {
             "colorbar": {
              "outlinewidth": 0,
              "ticks": ""
             }
            },
            "type": "scatterpolargl"
           }
          ],
          "scatterternary": [
           {
            "marker": {
             "colorbar": {
              "outlinewidth": 0,
              "ticks": ""
             }
            },
            "type": "scatterternary"
           }
          ],
          "surface": [
           {
            "colorbar": {
             "outlinewidth": 0,
             "ticks": ""
            },
            "colorscale": [
             [
              0,
              "#0d0887"
             ],
             [
              0.1111111111111111,
              "#46039f"
             ],
             [
              0.2222222222222222,
              "#7201a8"
             ],
             [
              0.3333333333333333,
              "#9c179e"
             ],
             [
              0.4444444444444444,
              "#bd3786"
             ],
             [
              0.5555555555555556,
              "#d8576b"
             ],
             [
              0.6666666666666666,
              "#ed7953"
             ],
             [
              0.7777777777777778,
              "#fb9f3a"
             ],
             [
              0.8888888888888888,
              "#fdca26"
             ],
             [
              1,
              "#f0f921"
             ]
            ],
            "type": "surface"
           }
          ],
          "table": [
           {
            "cells": {
             "fill": {
              "color": "#EBF0F8"
             },
             "line": {
              "color": "white"
             }
            },
            "header": {
             "fill": {
              "color": "#C8D4E3"
             },
             "line": {
              "color": "white"
             }
            },
            "type": "table"
           }
          ]
         },
         "layout": {
          "annotationdefaults": {
           "arrowcolor": "#2a3f5f",
           "arrowhead": 0,
           "arrowwidth": 1
          },
          "coloraxis": {
           "colorbar": {
            "outlinewidth": 0,
            "ticks": ""
           }
          },
          "colorscale": {
           "diverging": [
            [
             0,
             "#8e0152"
            ],
            [
             0.1,
             "#c51b7d"
            ],
            [
             0.2,
             "#de77ae"
            ],
            [
             0.3,
             "#f1b6da"
            ],
            [
             0.4,
             "#fde0ef"
            ],
            [
             0.5,
             "#f7f7f7"
            ],
            [
             0.6,
             "#e6f5d0"
            ],
            [
             0.7,
             "#b8e186"
            ],
            [
             0.8,
             "#7fbc41"
            ],
            [
             0.9,
             "#4d9221"
            ],
            [
             1,
             "#276419"
            ]
           ],
           "sequential": [
            [
             0,
             "#0d0887"
            ],
            [
             0.1111111111111111,
             "#46039f"
            ],
            [
             0.2222222222222222,
             "#7201a8"
            ],
            [
             0.3333333333333333,
             "#9c179e"
            ],
            [
             0.4444444444444444,
             "#bd3786"
            ],
            [
             0.5555555555555556,
             "#d8576b"
            ],
            [
             0.6666666666666666,
             "#ed7953"
            ],
            [
             0.7777777777777778,
             "#fb9f3a"
            ],
            [
             0.8888888888888888,
             "#fdca26"
            ],
            [
             1,
             "#f0f921"
            ]
           ],
           "sequentialminus": [
            [
             0,
             "#0d0887"
            ],
            [
             0.1111111111111111,
             "#46039f"
            ],
            [
             0.2222222222222222,
             "#7201a8"
            ],
            [
             0.3333333333333333,
             "#9c179e"
            ],
            [
             0.4444444444444444,
             "#bd3786"
            ],
            [
             0.5555555555555556,
             "#d8576b"
            ],
            [
             0.6666666666666666,
             "#ed7953"
            ],
            [
             0.7777777777777778,
             "#fb9f3a"
            ],
            [
             0.8888888888888888,
             "#fdca26"
            ],
            [
             1,
             "#f0f921"
            ]
           ]
          },
          "colorway": [
           "#636efa",
           "#EF553B",
           "#00cc96",
           "#ab63fa",
           "#FFA15A",
           "#19d3f3",
           "#FF6692",
           "#B6E880",
           "#FF97FF",
           "#FECB52"
          ],
          "font": {
           "color": "#2a3f5f"
          },
          "geo": {
           "bgcolor": "white",
           "lakecolor": "white",
           "landcolor": "#E5ECF6",
           "showlakes": true,
           "showland": true,
           "subunitcolor": "white"
          },
          "hoverlabel": {
           "align": "left"
          },
          "hovermode": "closest",
          "mapbox": {
           "style": "light"
          },
          "paper_bgcolor": "white",
          "plot_bgcolor": "#E5ECF6",
          "polar": {
           "angularaxis": {
            "gridcolor": "white",
            "linecolor": "white",
            "ticks": ""
           },
           "bgcolor": "#E5ECF6",
           "radialaxis": {
            "gridcolor": "white",
            "linecolor": "white",
            "ticks": ""
           }
          },
          "scene": {
           "xaxis": {
            "backgroundcolor": "#E5ECF6",
            "gridcolor": "white",
            "gridwidth": 2,
            "linecolor": "white",
            "showbackground": true,
            "ticks": "",
            "zerolinecolor": "white"
           },
           "yaxis": {
            "backgroundcolor": "#E5ECF6",
            "gridcolor": "white",
            "gridwidth": 2,
            "linecolor": "white",
            "showbackground": true,
            "ticks": "",
            "zerolinecolor": "white"
           },
           "zaxis": {
            "backgroundcolor": "#E5ECF6",
            "gridcolor": "white",
            "gridwidth": 2,
            "linecolor": "white",
            "showbackground": true,
            "ticks": "",
            "zerolinecolor": "white"
           }
          },
          "shapedefaults": {
           "line": {
            "color": "#2a3f5f"
           }
          },
          "ternary": {
           "aaxis": {
            "gridcolor": "white",
            "linecolor": "white",
            "ticks": ""
           },
           "baxis": {
            "gridcolor": "white",
            "linecolor": "white",
            "ticks": ""
           },
           "bgcolor": "#E5ECF6",
           "caxis": {
            "gridcolor": "white",
            "linecolor": "white",
            "ticks": ""
           }
          },
          "title": {
           "x": 0.05
          },
          "xaxis": {
           "automargin": true,
           "gridcolor": "white",
           "linecolor": "white",
           "ticks": "",
           "title": {
            "standoff": 15
           },
           "zerolinecolor": "white",
           "zerolinewidth": 2
          },
          "yaxis": {
           "automargin": true,
           "gridcolor": "white",
           "linecolor": "white",
           "ticks": "",
           "title": {
            "standoff": 15
           },
           "zerolinecolor": "white",
           "zerolinewidth": 2
          }
         }
        },
        "updatemenus": [
         {
          "buttons": [
           {
            "args": [
             null,
             {
              "frame": {
               "duration": 500,
               "redraw": true
              },
              "fromcurrent": true,
              "mode": "immediate",
              "transition": {
               "duration": 500,
               "easing": "linear"
              }
             }
            ],
            "label": "&#9654;",
            "method": "animate"
           },
           {
            "args": [
             [
              null
             ],
             {
              "frame": {
               "duration": 0,
               "redraw": true
              },
              "fromcurrent": true,
              "mode": "immediate",
              "transition": {
               "duration": 0,
               "easing": "linear"
              }
             }
            ],
            "label": "&#9724;",
            "method": "animate"
           }
          ],
          "direction": "left",
          "pad": {
           "r": 10,
           "t": 70
          },
          "showactive": false,
          "type": "buttons",
          "x": 0.1,
          "xanchor": "right",
          "y": 0,
          "yanchor": "top"
         }
        ],
        "xaxis": {
         "anchor": "y",
         "categoryarray": [
          "University of Maryland-Baltimore County"
         ],
         "categoryorder": "array",
         "domain": [
          0,
          1
         ],
         "title": {
          "text": "INSTNM"
         }
        },
        "yaxis": {
         "anchor": "x",
         "domain": [
          0,
          1
         ],
         "title": {
          "text": "PCT_CHANGE"
         }
        }
       }
      },
      "text/html": [
       "<div>\n",
       "        \n",
       "        \n",
       "            <div id=\"174479d0-73b6-48c9-9cfd-14560024f06b\" class=\"plotly-graph-div\" style=\"height:525px; width:100%;\"></div>\n",
       "            <script type=\"text/javascript\">\n",
       "                require([\"plotly\"], function(Plotly) {\n",
       "                    window.PLOTLYENV=window.PLOTLYENV || {};\n",
       "                    \n",
       "                if (document.getElementById(\"174479d0-73b6-48c9-9cfd-14560024f06b\")) {\n",
       "                    Plotly.newPlot(\n",
       "                        '174479d0-73b6-48c9-9cfd-14560024f06b',\n",
       "                        [{\"alignmentgroup\": \"True\", \"hovertemplate\": \"INSTNM=%{x}<br>Year=1996<br>PCT_CHANGE=%{y}<extra></extra>\", \"legendgroup\": \"University of Maryland-Baltimore County\", \"marker\": {\"color\": \"#636efa\"}, \"name\": \"University of Maryland-Baltimore County\", \"offsetgroup\": \"University of Maryland-Baltimore County\", \"orientation\": \"v\", \"showlegend\": true, \"textposition\": \"auto\", \"type\": \"bar\", \"x\": [\"University of Maryland-Baltimore County\"], \"xaxis\": \"x\", \"y\": [null], \"yaxis\": \"y\"}],\n",
       "                        {\"barmode\": \"relative\", \"legend\": {\"title\": {\"text\": \"INSTNM\"}, \"tracegroupgap\": 0}, \"margin\": {\"t\": 60}, \"sliders\": [{\"active\": 0, \"currentvalue\": {\"prefix\": \"Year=\"}, \"len\": 0.9, \"pad\": {\"b\": 10, \"t\": 60}, \"steps\": [{\"args\": [[\"1996\"], {\"frame\": {\"duration\": 0, \"redraw\": true}, \"fromcurrent\": true, \"mode\": \"immediate\", \"transition\": {\"duration\": 0, \"easing\": \"linear\"}}], \"label\": \"1996\", \"method\": \"animate\"}, {\"args\": [[\"1997\"], {\"frame\": {\"duration\": 0, \"redraw\": true}, \"fromcurrent\": true, \"mode\": \"immediate\", \"transition\": {\"duration\": 0, \"easing\": \"linear\"}}], \"label\": \"1997\", \"method\": \"animate\"}, {\"args\": [[\"1998\"], {\"frame\": {\"duration\": 0, \"redraw\": true}, \"fromcurrent\": true, \"mode\": \"immediate\", \"transition\": {\"duration\": 0, \"easing\": \"linear\"}}], \"label\": \"1998\", \"method\": \"animate\"}, {\"args\": [[\"1999\"], {\"frame\": {\"duration\": 0, \"redraw\": true}, \"fromcurrent\": true, \"mode\": \"immediate\", \"transition\": {\"duration\": 0, \"easing\": \"linear\"}}], \"label\": \"1999\", \"method\": \"animate\"}, {\"args\": [[\"2000\"], {\"frame\": {\"duration\": 0, \"redraw\": true}, \"fromcurrent\": true, \"mode\": \"immediate\", \"transition\": {\"duration\": 0, \"easing\": \"linear\"}}], \"label\": \"2000\", \"method\": \"animate\"}, {\"args\": [[\"2001\"], {\"frame\": {\"duration\": 0, \"redraw\": true}, \"fromcurrent\": true, \"mode\": \"immediate\", \"transition\": {\"duration\": 0, \"easing\": \"linear\"}}], \"label\": \"2001\", \"method\": \"animate\"}, {\"args\": [[\"2002\"], {\"frame\": {\"duration\": 0, \"redraw\": true}, \"fromcurrent\": true, \"mode\": \"immediate\", \"transition\": {\"duration\": 0, \"easing\": \"linear\"}}], \"label\": \"2002\", \"method\": \"animate\"}, {\"args\": [[\"2003\"], {\"frame\": {\"duration\": 0, \"redraw\": true}, \"fromcurrent\": true, \"mode\": \"immediate\", \"transition\": {\"duration\": 0, \"easing\": \"linear\"}}], \"label\": \"2003\", \"method\": \"animate\"}, {\"args\": [[\"2004\"], {\"frame\": {\"duration\": 0, \"redraw\": true}, \"fromcurrent\": true, \"mode\": \"immediate\", \"transition\": {\"duration\": 0, \"easing\": \"linear\"}}], \"label\": \"2004\", \"method\": \"animate\"}, {\"args\": [[\"2005\"], {\"frame\": {\"duration\": 0, \"redraw\": true}, \"fromcurrent\": true, \"mode\": \"immediate\", \"transition\": {\"duration\": 0, \"easing\": \"linear\"}}], \"label\": \"2005\", \"method\": \"animate\"}, {\"args\": [[\"2006\"], {\"frame\": {\"duration\": 0, \"redraw\": true}, \"fromcurrent\": true, \"mode\": \"immediate\", \"transition\": {\"duration\": 0, \"easing\": \"linear\"}}], \"label\": \"2006\", \"method\": \"animate\"}, {\"args\": [[\"2007\"], {\"frame\": {\"duration\": 0, \"redraw\": true}, \"fromcurrent\": true, \"mode\": \"immediate\", \"transition\": {\"duration\": 0, \"easing\": \"linear\"}}], \"label\": \"2007\", \"method\": \"animate\"}, {\"args\": [[\"2008\"], {\"frame\": {\"duration\": 0, \"redraw\": true}, \"fromcurrent\": true, \"mode\": \"immediate\", \"transition\": {\"duration\": 0, \"easing\": \"linear\"}}], \"label\": \"2008\", \"method\": \"animate\"}, {\"args\": [[\"2009\"], {\"frame\": {\"duration\": 0, \"redraw\": true}, \"fromcurrent\": true, \"mode\": \"immediate\", \"transition\": {\"duration\": 0, \"easing\": \"linear\"}}], \"label\": \"2009\", \"method\": \"animate\"}, {\"args\": [[\"2010\"], {\"frame\": {\"duration\": 0, \"redraw\": true}, \"fromcurrent\": true, \"mode\": \"immediate\", \"transition\": {\"duration\": 0, \"easing\": \"linear\"}}], \"label\": \"2010\", \"method\": \"animate\"}, {\"args\": [[\"2011\"], {\"frame\": {\"duration\": 0, \"redraw\": true}, \"fromcurrent\": true, \"mode\": \"immediate\", \"transition\": {\"duration\": 0, \"easing\": \"linear\"}}], \"label\": \"2011\", \"method\": \"animate\"}, {\"args\": [[\"2012\"], {\"frame\": {\"duration\": 0, \"redraw\": true}, \"fromcurrent\": true, \"mode\": \"immediate\", \"transition\": {\"duration\": 0, \"easing\": \"linear\"}}], \"label\": \"2012\", \"method\": \"animate\"}, {\"args\": [[\"2013\"], {\"frame\": {\"duration\": 0, \"redraw\": true}, \"fromcurrent\": true, \"mode\": \"immediate\", \"transition\": {\"duration\": 0, \"easing\": \"linear\"}}], \"label\": \"2013\", \"method\": \"animate\"}, {\"args\": [[\"2014\"], {\"frame\": {\"duration\": 0, \"redraw\": true}, \"fromcurrent\": true, \"mode\": \"immediate\", \"transition\": {\"duration\": 0, \"easing\": \"linear\"}}], \"label\": \"2014\", \"method\": \"animate\"}, {\"args\": [[\"2015\"], {\"frame\": {\"duration\": 0, \"redraw\": true}, \"fromcurrent\": true, \"mode\": \"immediate\", \"transition\": {\"duration\": 0, \"easing\": \"linear\"}}], \"label\": \"2015\", \"method\": \"animate\"}, {\"args\": [[\"2016\"], {\"frame\": {\"duration\": 0, \"redraw\": true}, \"fromcurrent\": true, \"mode\": \"immediate\", \"transition\": {\"duration\": 0, \"easing\": \"linear\"}}], \"label\": \"2016\", \"method\": \"animate\"}, {\"args\": [[\"2017\"], {\"frame\": {\"duration\": 0, \"redraw\": true}, \"fromcurrent\": true, \"mode\": \"immediate\", \"transition\": {\"duration\": 0, \"easing\": \"linear\"}}], \"label\": \"2017\", \"method\": \"animate\"}, {\"args\": [[\"2018\"], {\"frame\": {\"duration\": 0, \"redraw\": true}, \"fromcurrent\": true, \"mode\": \"immediate\", \"transition\": {\"duration\": 0, \"easing\": \"linear\"}}], \"label\": \"2018\", \"method\": \"animate\"}], \"x\": 0.1, \"xanchor\": \"left\", \"y\": 0, \"yanchor\": \"top\"}], \"template\": {\"data\": {\"bar\": [{\"error_x\": {\"color\": \"#2a3f5f\"}, \"error_y\": {\"color\": \"#2a3f5f\"}, \"marker\": {\"line\": {\"color\": \"#E5ECF6\", \"width\": 0.5}}, \"type\": \"bar\"}], \"barpolar\": [{\"marker\": {\"line\": {\"color\": \"#E5ECF6\", \"width\": 0.5}}, \"type\": \"barpolar\"}], \"carpet\": [{\"aaxis\": {\"endlinecolor\": \"#2a3f5f\", \"gridcolor\": \"white\", \"linecolor\": \"white\", \"minorgridcolor\": \"white\", \"startlinecolor\": \"#2a3f5f\"}, \"baxis\": {\"endlinecolor\": \"#2a3f5f\", \"gridcolor\": \"white\", \"linecolor\": \"white\", \"minorgridcolor\": \"white\", \"startlinecolor\": \"#2a3f5f\"}, \"type\": \"carpet\"}], \"choropleth\": [{\"colorbar\": {\"outlinewidth\": 0, \"ticks\": \"\"}, \"type\": \"choropleth\"}], \"contour\": [{\"colorbar\": {\"outlinewidth\": 0, \"ticks\": \"\"}, \"colorscale\": [[0.0, \"#0d0887\"], [0.1111111111111111, \"#46039f\"], [0.2222222222222222, \"#7201a8\"], [0.3333333333333333, \"#9c179e\"], [0.4444444444444444, \"#bd3786\"], [0.5555555555555556, \"#d8576b\"], [0.6666666666666666, \"#ed7953\"], [0.7777777777777778, \"#fb9f3a\"], [0.8888888888888888, \"#fdca26\"], [1.0, \"#f0f921\"]], \"type\": \"contour\"}], \"contourcarpet\": [{\"colorbar\": {\"outlinewidth\": 0, \"ticks\": \"\"}, \"type\": \"contourcarpet\"}], \"heatmap\": [{\"colorbar\": {\"outlinewidth\": 0, \"ticks\": \"\"}, \"colorscale\": [[0.0, \"#0d0887\"], [0.1111111111111111, \"#46039f\"], [0.2222222222222222, \"#7201a8\"], [0.3333333333333333, \"#9c179e\"], [0.4444444444444444, \"#bd3786\"], [0.5555555555555556, \"#d8576b\"], [0.6666666666666666, \"#ed7953\"], [0.7777777777777778, \"#fb9f3a\"], [0.8888888888888888, \"#fdca26\"], [1.0, \"#f0f921\"]], \"type\": \"heatmap\"}], \"heatmapgl\": [{\"colorbar\": {\"outlinewidth\": 0, \"ticks\": \"\"}, \"colorscale\": [[0.0, \"#0d0887\"], [0.1111111111111111, \"#46039f\"], [0.2222222222222222, \"#7201a8\"], [0.3333333333333333, \"#9c179e\"], [0.4444444444444444, \"#bd3786\"], [0.5555555555555556, \"#d8576b\"], [0.6666666666666666, \"#ed7953\"], [0.7777777777777778, \"#fb9f3a\"], [0.8888888888888888, \"#fdca26\"], [1.0, \"#f0f921\"]], \"type\": \"heatmapgl\"}], \"histogram\": [{\"marker\": {\"colorbar\": {\"outlinewidth\": 0, \"ticks\": \"\"}}, \"type\": \"histogram\"}], \"histogram2d\": [{\"colorbar\": {\"outlinewidth\": 0, \"ticks\": \"\"}, \"colorscale\": [[0.0, \"#0d0887\"], [0.1111111111111111, \"#46039f\"], [0.2222222222222222, \"#7201a8\"], [0.3333333333333333, \"#9c179e\"], [0.4444444444444444, \"#bd3786\"], [0.5555555555555556, \"#d8576b\"], [0.6666666666666666, \"#ed7953\"], [0.7777777777777778, \"#fb9f3a\"], [0.8888888888888888, \"#fdca26\"], [1.0, \"#f0f921\"]], \"type\": \"histogram2d\"}], \"histogram2dcontour\": [{\"colorbar\": {\"outlinewidth\": 0, \"ticks\": \"\"}, \"colorscale\": [[0.0, \"#0d0887\"], [0.1111111111111111, \"#46039f\"], [0.2222222222222222, \"#7201a8\"], [0.3333333333333333, \"#9c179e\"], [0.4444444444444444, \"#bd3786\"], [0.5555555555555556, \"#d8576b\"], [0.6666666666666666, \"#ed7953\"], [0.7777777777777778, \"#fb9f3a\"], [0.8888888888888888, \"#fdca26\"], [1.0, \"#f0f921\"]], \"type\": \"histogram2dcontour\"}], \"mesh3d\": [{\"colorbar\": {\"outlinewidth\": 0, \"ticks\": \"\"}, \"type\": \"mesh3d\"}], \"parcoords\": [{\"line\": {\"colorbar\": {\"outlinewidth\": 0, \"ticks\": \"\"}}, \"type\": \"parcoords\"}], \"pie\": [{\"automargin\": true, \"type\": \"pie\"}], \"scatter\": [{\"marker\": {\"colorbar\": {\"outlinewidth\": 0, \"ticks\": \"\"}}, \"type\": \"scatter\"}], \"scatter3d\": [{\"line\": {\"colorbar\": {\"outlinewidth\": 0, \"ticks\": \"\"}}, \"marker\": {\"colorbar\": {\"outlinewidth\": 0, \"ticks\": \"\"}}, \"type\": \"scatter3d\"}], \"scattercarpet\": [{\"marker\": {\"colorbar\": {\"outlinewidth\": 0, \"ticks\": \"\"}}, \"type\": \"scattercarpet\"}], \"scattergeo\": [{\"marker\": {\"colorbar\": {\"outlinewidth\": 0, \"ticks\": \"\"}}, \"type\": \"scattergeo\"}], \"scattergl\": [{\"marker\": {\"colorbar\": {\"outlinewidth\": 0, \"ticks\": \"\"}}, \"type\": \"scattergl\"}], \"scattermapbox\": [{\"marker\": {\"colorbar\": {\"outlinewidth\": 0, \"ticks\": \"\"}}, \"type\": \"scattermapbox\"}], \"scatterpolar\": [{\"marker\": {\"colorbar\": {\"outlinewidth\": 0, \"ticks\": \"\"}}, \"type\": \"scatterpolar\"}], \"scatterpolargl\": [{\"marker\": {\"colorbar\": {\"outlinewidth\": 0, \"ticks\": \"\"}}, \"type\": \"scatterpolargl\"}], \"scatterternary\": [{\"marker\": {\"colorbar\": {\"outlinewidth\": 0, \"ticks\": \"\"}}, \"type\": \"scatterternary\"}], \"surface\": [{\"colorbar\": {\"outlinewidth\": 0, \"ticks\": \"\"}, \"colorscale\": [[0.0, \"#0d0887\"], [0.1111111111111111, \"#46039f\"], [0.2222222222222222, \"#7201a8\"], [0.3333333333333333, \"#9c179e\"], [0.4444444444444444, \"#bd3786\"], [0.5555555555555556, \"#d8576b\"], [0.6666666666666666, \"#ed7953\"], [0.7777777777777778, \"#fb9f3a\"], [0.8888888888888888, \"#fdca26\"], [1.0, \"#f0f921\"]], \"type\": \"surface\"}], \"table\": [{\"cells\": {\"fill\": {\"color\": \"#EBF0F8\"}, \"line\": {\"color\": \"white\"}}, \"header\": {\"fill\": {\"color\": \"#C8D4E3\"}, \"line\": {\"color\": \"white\"}}, \"type\": \"table\"}]}, \"layout\": {\"annotationdefaults\": {\"arrowcolor\": \"#2a3f5f\", \"arrowhead\": 0, \"arrowwidth\": 1}, \"coloraxis\": {\"colorbar\": {\"outlinewidth\": 0, \"ticks\": \"\"}}, \"colorscale\": {\"diverging\": [[0, \"#8e0152\"], [0.1, \"#c51b7d\"], [0.2, \"#de77ae\"], [0.3, \"#f1b6da\"], [0.4, \"#fde0ef\"], [0.5, \"#f7f7f7\"], [0.6, \"#e6f5d0\"], [0.7, \"#b8e186\"], [0.8, \"#7fbc41\"], [0.9, \"#4d9221\"], [1, \"#276419\"]], \"sequential\": [[0.0, \"#0d0887\"], [0.1111111111111111, \"#46039f\"], [0.2222222222222222, \"#7201a8\"], [0.3333333333333333, \"#9c179e\"], [0.4444444444444444, \"#bd3786\"], [0.5555555555555556, \"#d8576b\"], [0.6666666666666666, \"#ed7953\"], [0.7777777777777778, \"#fb9f3a\"], [0.8888888888888888, \"#fdca26\"], [1.0, \"#f0f921\"]], \"sequentialminus\": [[0.0, \"#0d0887\"], [0.1111111111111111, \"#46039f\"], [0.2222222222222222, \"#7201a8\"], [0.3333333333333333, \"#9c179e\"], [0.4444444444444444, \"#bd3786\"], [0.5555555555555556, \"#d8576b\"], [0.6666666666666666, \"#ed7953\"], [0.7777777777777778, \"#fb9f3a\"], [0.8888888888888888, \"#fdca26\"], [1.0, \"#f0f921\"]]}, \"colorway\": [\"#636efa\", \"#EF553B\", \"#00cc96\", \"#ab63fa\", \"#FFA15A\", \"#19d3f3\", \"#FF6692\", \"#B6E880\", \"#FF97FF\", \"#FECB52\"], \"font\": {\"color\": \"#2a3f5f\"}, \"geo\": {\"bgcolor\": \"white\", \"lakecolor\": \"white\", \"landcolor\": \"#E5ECF6\", \"showlakes\": true, \"showland\": true, \"subunitcolor\": \"white\"}, \"hoverlabel\": {\"align\": \"left\"}, \"hovermode\": \"closest\", \"mapbox\": {\"style\": \"light\"}, \"paper_bgcolor\": \"white\", \"plot_bgcolor\": \"#E5ECF6\", \"polar\": {\"angularaxis\": {\"gridcolor\": \"white\", \"linecolor\": \"white\", \"ticks\": \"\"}, \"bgcolor\": \"#E5ECF6\", \"radialaxis\": {\"gridcolor\": \"white\", \"linecolor\": \"white\", \"ticks\": \"\"}}, \"scene\": {\"xaxis\": {\"backgroundcolor\": \"#E5ECF6\", \"gridcolor\": \"white\", \"gridwidth\": 2, \"linecolor\": \"white\", \"showbackground\": true, \"ticks\": \"\", \"zerolinecolor\": \"white\"}, \"yaxis\": {\"backgroundcolor\": \"#E5ECF6\", \"gridcolor\": \"white\", \"gridwidth\": 2, \"linecolor\": \"white\", \"showbackground\": true, \"ticks\": \"\", \"zerolinecolor\": \"white\"}, \"zaxis\": {\"backgroundcolor\": \"#E5ECF6\", \"gridcolor\": \"white\", \"gridwidth\": 2, \"linecolor\": \"white\", \"showbackground\": true, \"ticks\": \"\", \"zerolinecolor\": \"white\"}}, \"shapedefaults\": {\"line\": {\"color\": \"#2a3f5f\"}}, \"ternary\": {\"aaxis\": {\"gridcolor\": \"white\", \"linecolor\": \"white\", \"ticks\": \"\"}, \"baxis\": {\"gridcolor\": \"white\", \"linecolor\": \"white\", \"ticks\": \"\"}, \"bgcolor\": \"#E5ECF6\", \"caxis\": {\"gridcolor\": \"white\", \"linecolor\": \"white\", \"ticks\": \"\"}}, \"title\": {\"x\": 0.05}, \"xaxis\": {\"automargin\": true, \"gridcolor\": \"white\", \"linecolor\": \"white\", \"ticks\": \"\", \"title\": {\"standoff\": 15}, \"zerolinecolor\": \"white\", \"zerolinewidth\": 2}, \"yaxis\": {\"automargin\": true, \"gridcolor\": \"white\", \"linecolor\": \"white\", \"ticks\": \"\", \"title\": {\"standoff\": 15}, \"zerolinecolor\": \"white\", \"zerolinewidth\": 2}}}, \"updatemenus\": [{\"buttons\": [{\"args\": [null, {\"frame\": {\"duration\": 500, \"redraw\": true}, \"fromcurrent\": true, \"mode\": \"immediate\", \"transition\": {\"duration\": 500, \"easing\": \"linear\"}}], \"label\": \"&#9654;\", \"method\": \"animate\"}, {\"args\": [[null], {\"frame\": {\"duration\": 0, \"redraw\": true}, \"fromcurrent\": true, \"mode\": \"immediate\", \"transition\": {\"duration\": 0, \"easing\": \"linear\"}}], \"label\": \"&#9724;\", \"method\": \"animate\"}], \"direction\": \"left\", \"pad\": {\"r\": 10, \"t\": 70}, \"showactive\": false, \"type\": \"buttons\", \"x\": 0.1, \"xanchor\": \"right\", \"y\": 0, \"yanchor\": \"top\"}], \"xaxis\": {\"anchor\": \"y\", \"categoryarray\": [\"University of Maryland-Baltimore County\"], \"categoryorder\": \"array\", \"domain\": [0.0, 1.0], \"title\": {\"text\": \"INSTNM\"}}, \"yaxis\": {\"anchor\": \"x\", \"domain\": [0.0, 1.0], \"title\": {\"text\": \"PCT_CHANGE\"}}},\n",
       "                        {\"responsive\": true}\n",
       "                    ).then(function(){\n",
       "                            Plotly.addFrames('174479d0-73b6-48c9-9cfd-14560024f06b', [{\"data\": [{\"alignmentgroup\": \"True\", \"hovertemplate\": \"INSTNM=%{x}<br>Year=1996<br>PCT_CHANGE=%{y}<extra></extra>\", \"legendgroup\": \"University of Maryland-Baltimore County\", \"marker\": {\"color\": \"#636efa\"}, \"name\": \"University of Maryland-Baltimore County\", \"offsetgroup\": \"University of Maryland-Baltimore County\", \"orientation\": \"v\", \"showlegend\": true, \"textposition\": \"auto\", \"x\": [\"University of Maryland-Baltimore County\"], \"xaxis\": \"x\", \"y\": [null], \"yaxis\": \"y\", \"type\": \"bar\"}], \"name\": \"1996\"}, {\"data\": [{\"alignmentgroup\": \"True\", \"hovertemplate\": \"INSTNM=%{x}<br>Year=1997<br>PCT_CHANGE=%{y}<extra></extra>\", \"legendgroup\": \"University of Maryland-Baltimore County\", \"marker\": {\"color\": \"#636efa\"}, \"name\": \"University of Maryland-Baltimore County\", \"offsetgroup\": \"University of Maryland-Baltimore County\", \"orientation\": \"v\", \"showlegend\": true, \"textposition\": \"auto\", \"x\": [\"University of Maryland-Baltimore County\"], \"xaxis\": \"x\", \"y\": [null], \"yaxis\": \"y\", \"type\": \"bar\"}], \"name\": \"1997\"}, {\"data\": [{\"alignmentgroup\": \"True\", \"hovertemplate\": \"INSTNM=%{x}<br>Year=1998<br>PCT_CHANGE=%{y}<extra></extra>\", \"legendgroup\": \"University of Maryland-Baltimore County\", \"marker\": {\"color\": \"#636efa\"}, \"name\": \"University of Maryland-Baltimore County\", \"offsetgroup\": \"University of Maryland-Baltimore County\", \"orientation\": \"v\", \"showlegend\": true, \"textposition\": \"auto\", \"x\": [\"University of Maryland-Baltimore County\"], \"xaxis\": \"x\", \"y\": [null], \"yaxis\": \"y\", \"type\": \"bar\"}], \"name\": \"1998\"}, {\"data\": [{\"alignmentgroup\": \"True\", \"hovertemplate\": \"INSTNM=%{x}<br>Year=1999<br>PCT_CHANGE=%{y}<extra></extra>\", \"legendgroup\": \"University of Maryland-Baltimore County\", \"marker\": {\"color\": \"#636efa\"}, \"name\": \"University of Maryland-Baltimore County\", \"offsetgroup\": \"University of Maryland-Baltimore County\", \"orientation\": \"v\", \"showlegend\": true, \"textposition\": \"auto\", \"x\": [\"University of Maryland-Baltimore County\"], \"xaxis\": \"x\", \"y\": [null], \"yaxis\": \"y\", \"type\": \"bar\"}], \"name\": \"1999\"}, {\"data\": [{\"alignmentgroup\": \"True\", \"hovertemplate\": \"INSTNM=%{x}<br>Year=2000<br>PCT_CHANGE=%{y}<extra></extra>\", \"legendgroup\": \"University of Maryland-Baltimore County\", \"marker\": {\"color\": \"#636efa\"}, \"name\": \"University of Maryland-Baltimore County\", \"offsetgroup\": \"University of Maryland-Baltimore County\", \"orientation\": \"v\", \"showlegend\": true, \"textposition\": \"auto\", \"x\": [\"University of Maryland-Baltimore County\"], \"xaxis\": \"x\", \"y\": [548900.0], \"yaxis\": \"y\", \"type\": \"bar\"}], \"name\": \"2000\"}, {\"data\": [{\"alignmentgroup\": \"True\", \"hovertemplate\": \"INSTNM=%{x}<br>Year=2001<br>PCT_CHANGE=%{y}<extra></extra>\", \"legendgroup\": \"University of Maryland-Baltimore County\", \"marker\": {\"color\": \"#636efa\"}, \"name\": \"University of Maryland-Baltimore County\", \"offsetgroup\": \"University of Maryland-Baltimore County\", \"orientation\": \"v\", \"showlegend\": true, \"textposition\": \"auto\", \"x\": [\"University of Maryland-Baltimore County\"], \"xaxis\": \"x\", \"y\": [590900.0], \"yaxis\": \"y\", \"type\": \"bar\"}], \"name\": \"2001\"}, {\"data\": [{\"alignmentgroup\": \"True\", \"hovertemplate\": \"INSTNM=%{x}<br>Year=2002<br>PCT_CHANGE=%{y}<extra></extra>\", \"legendgroup\": \"University of Maryland-Baltimore County\", \"marker\": {\"color\": \"#636efa\"}, \"name\": \"University of Maryland-Baltimore County\", \"offsetgroup\": \"University of Maryland-Baltimore County\", \"orientation\": \"v\", \"showlegend\": true, \"textposition\": \"auto\", \"x\": [\"University of Maryland-Baltimore County\"], \"xaxis\": \"x\", \"y\": [636100.0], \"yaxis\": \"y\", \"type\": \"bar\"}], \"name\": \"2002\"}, {\"data\": [{\"alignmentgroup\": \"True\", \"hovertemplate\": \"INSTNM=%{x}<br>Year=2003<br>PCT_CHANGE=%{y}<extra></extra>\", \"legendgroup\": \"University of Maryland-Baltimore County\", \"marker\": {\"color\": \"#636efa\"}, \"name\": \"University of Maryland-Baltimore County\", \"offsetgroup\": \"University of Maryland-Baltimore County\", \"orientation\": \"v\", \"showlegend\": true, \"textposition\": \"auto\", \"x\": [\"University of Maryland-Baltimore County\"], \"xaxis\": \"x\", \"y\": [738700.0], \"yaxis\": \"y\", \"type\": \"bar\"}], \"name\": \"2003\"}, {\"data\": [{\"alignmentgroup\": \"True\", \"hovertemplate\": \"INSTNM=%{x}<br>Year=2004<br>PCT_CHANGE=%{y}<extra></extra>\", \"legendgroup\": \"University of Maryland-Baltimore County\", \"marker\": {\"color\": \"#636efa\"}, \"name\": \"University of Maryland-Baltimore County\", \"offsetgroup\": \"University of Maryland-Baltimore County\", \"orientation\": \"v\", \"showlegend\": true, \"textposition\": \"auto\", \"x\": [\"University of Maryland-Baltimore County\"], \"xaxis\": \"x\", \"y\": [801900.0], \"yaxis\": \"y\", \"type\": \"bar\"}], \"name\": \"2004\"}, {\"data\": [{\"alignmentgroup\": \"True\", \"hovertemplate\": \"INSTNM=%{x}<br>Year=2005<br>PCT_CHANGE=%{y}<extra></extra>\", \"legendgroup\": \"University of Maryland-Baltimore County\", \"marker\": {\"color\": \"#636efa\"}, \"name\": \"University of Maryland-Baltimore County\", \"offsetgroup\": \"University of Maryland-Baltimore County\", \"orientation\": \"v\", \"showlegend\": true, \"textposition\": \"auto\", \"x\": [\"University of Maryland-Baltimore County\"], \"xaxis\": \"x\", \"y\": [851900.0], \"yaxis\": \"y\", \"type\": \"bar\"}], \"name\": \"2005\"}, {\"data\": [{\"alignmentgroup\": \"True\", \"hovertemplate\": \"INSTNM=%{x}<br>Year=2006<br>PCT_CHANGE=%{y}<extra></extra>\", \"legendgroup\": \"University of Maryland-Baltimore County\", \"marker\": {\"color\": \"#636efa\"}, \"name\": \"University of Maryland-Baltimore County\", \"offsetgroup\": \"University of Maryland-Baltimore County\", \"orientation\": \"v\", \"showlegend\": true, \"textposition\": \"auto\", \"x\": [\"University of Maryland-Baltimore County\"], \"xaxis\": \"x\", \"y\": [862100.0], \"yaxis\": \"y\", \"type\": \"bar\"}], \"name\": \"2006\"}, {\"data\": [{\"alignmentgroup\": \"True\", \"hovertemplate\": \"INSTNM=%{x}<br>Year=2007<br>PCT_CHANGE=%{y}<extra></extra>\", \"legendgroup\": \"University of Maryland-Baltimore County\", \"marker\": {\"color\": \"#636efa\"}, \"name\": \"University of Maryland-Baltimore County\", \"offsetgroup\": \"University of Maryland-Baltimore County\", \"orientation\": \"v\", \"showlegend\": true, \"textposition\": \"auto\", \"x\": [\"University of Maryland-Baltimore County\"], \"xaxis\": \"x\", \"y\": [870700.0], \"yaxis\": \"y\", \"type\": \"bar\"}], \"name\": \"2007\"}, {\"data\": [{\"alignmentgroup\": \"True\", \"hovertemplate\": \"INSTNM=%{x}<br>Year=2008<br>PCT_CHANGE=%{y}<extra></extra>\", \"legendgroup\": \"University of Maryland-Baltimore County\", \"marker\": {\"color\": \"#636efa\"}, \"name\": \"University of Maryland-Baltimore County\", \"offsetgroup\": \"University of Maryland-Baltimore County\", \"orientation\": \"v\", \"showlegend\": true, \"textposition\": \"auto\", \"x\": [\"University of Maryland-Baltimore County\"], \"xaxis\": \"x\", \"y\": [877900.0], \"yaxis\": \"y\", \"type\": \"bar\"}], \"name\": \"2008\"}, {\"data\": [{\"alignmentgroup\": \"True\", \"hovertemplate\": \"INSTNM=%{x}<br>Year=2009<br>PCT_CHANGE=%{y}<extra></extra>\", \"legendgroup\": \"University of Maryland-Baltimore County\", \"marker\": {\"color\": \"#636efa\"}, \"name\": \"University of Maryland-Baltimore County\", \"offsetgroup\": \"University of Maryland-Baltimore County\", \"orientation\": \"v\", \"showlegend\": true, \"textposition\": \"auto\", \"x\": [\"University of Maryland-Baltimore County\"], \"xaxis\": \"x\", \"y\": [887100.0], \"yaxis\": \"y\", \"type\": \"bar\"}], \"name\": \"2009\"}, {\"data\": [{\"alignmentgroup\": \"True\", \"hovertemplate\": \"INSTNM=%{x}<br>Year=2010<br>PCT_CHANGE=%{y}<extra></extra>\", \"legendgroup\": \"University of Maryland-Baltimore County\", \"marker\": {\"color\": \"#636efa\"}, \"name\": \"University of Maryland-Baltimore County\", \"offsetgroup\": \"University of Maryland-Baltimore County\", \"orientation\": \"v\", \"showlegend\": true, \"textposition\": \"auto\", \"x\": [\"University of Maryland-Baltimore County\"], \"xaxis\": \"x\", \"y\": [917000.0], \"yaxis\": \"y\", \"type\": \"bar\"}], \"name\": \"2010\"}, {\"data\": [{\"alignmentgroup\": \"True\", \"hovertemplate\": \"INSTNM=%{x}<br>Year=2011<br>PCT_CHANGE=%{y}<extra></extra>\", \"legendgroup\": \"University of Maryland-Baltimore County\", \"marker\": {\"color\": \"#636efa\"}, \"name\": \"University of Maryland-Baltimore County\", \"offsetgroup\": \"University of Maryland-Baltimore County\", \"orientation\": \"v\", \"showlegend\": true, \"textposition\": \"auto\", \"x\": [\"University of Maryland-Baltimore County\"], \"xaxis\": \"x\", \"y\": [946600.0], \"yaxis\": \"y\", \"type\": \"bar\"}], \"name\": \"2011\"}, {\"data\": [{\"alignmentgroup\": \"True\", \"hovertemplate\": \"INSTNM=%{x}<br>Year=2012<br>PCT_CHANGE=%{y}<extra></extra>\", \"legendgroup\": \"University of Maryland-Baltimore County\", \"marker\": {\"color\": \"#636efa\"}, \"name\": \"University of Maryland-Baltimore County\", \"offsetgroup\": \"University of Maryland-Baltimore County\", \"orientation\": \"v\", \"showlegend\": true, \"textposition\": \"auto\", \"x\": [\"University of Maryland-Baltimore County\"], \"xaxis\": \"x\", \"y\": [976300.0], \"yaxis\": \"y\", \"type\": \"bar\"}], \"name\": \"2012\"}, {\"data\": [{\"alignmentgroup\": \"True\", \"hovertemplate\": \"INSTNM=%{x}<br>Year=2013<br>PCT_CHANGE=%{y}<extra></extra>\", \"legendgroup\": \"University of Maryland-Baltimore County\", \"marker\": {\"color\": \"#636efa\"}, \"name\": \"University of Maryland-Baltimore County\", \"offsetgroup\": \"University of Maryland-Baltimore County\", \"orientation\": \"v\", \"showlegend\": true, \"textposition\": \"auto\", \"x\": [\"University of Maryland-Baltimore County\"], \"xaxis\": \"x\", \"y\": [1006700.0], \"yaxis\": \"y\", \"type\": \"bar\"}], \"name\": \"2013\"}, {\"data\": [{\"alignmentgroup\": \"True\", \"hovertemplate\": \"INSTNM=%{x}<br>Year=2014<br>PCT_CHANGE=%{y}<extra></extra>\", \"legendgroup\": \"University of Maryland-Baltimore County\", \"marker\": {\"color\": \"#636efa\"}, \"name\": \"University of Maryland-Baltimore County\", \"offsetgroup\": \"University of Maryland-Baltimore County\", \"orientation\": \"v\", \"showlegend\": true, \"textposition\": \"auto\", \"x\": [\"University of Maryland-Baltimore County\"], \"xaxis\": \"x\", \"y\": [1038300.0], \"yaxis\": \"y\", \"type\": \"bar\"}], \"name\": \"2014\"}, {\"data\": [{\"alignmentgroup\": \"True\", \"hovertemplate\": \"INSTNM=%{x}<br>Year=2015<br>PCT_CHANGE=%{y}<extra></extra>\", \"legendgroup\": \"University of Maryland-Baltimore County\", \"marker\": {\"color\": \"#636efa\"}, \"name\": \"University of Maryland-Baltimore County\", \"offsetgroup\": \"University of Maryland-Baltimore County\", \"orientation\": \"v\", \"showlegend\": true, \"textposition\": \"auto\", \"x\": [\"University of Maryland-Baltimore County\"], \"xaxis\": \"x\", \"y\": [1100500.0], \"yaxis\": \"y\", \"type\": \"bar\"}], \"name\": \"2015\"}, {\"data\": [{\"alignmentgroup\": \"True\", \"hovertemplate\": \"INSTNM=%{x}<br>Year=2016<br>PCT_CHANGE=%{y}<extra></extra>\", \"legendgroup\": \"University of Maryland-Baltimore County\", \"marker\": {\"color\": \"#636efa\"}, \"name\": \"University of Maryland-Baltimore County\", \"offsetgroup\": \"University of Maryland-Baltimore County\", \"orientation\": \"v\", \"showlegend\": true, \"textposition\": \"auto\", \"x\": [\"University of Maryland-Baltimore County\"], \"xaxis\": \"x\", \"y\": [1126300.0], \"yaxis\": \"y\", \"type\": \"bar\"}], \"name\": \"2016\"}, {\"data\": [{\"alignmentgroup\": \"True\", \"hovertemplate\": \"INSTNM=%{x}<br>Year=2017<br>PCT_CHANGE=%{y}<extra></extra>\", \"legendgroup\": \"University of Maryland-Baltimore County\", \"marker\": {\"color\": \"#636efa\"}, \"name\": \"University of Maryland-Baltimore County\", \"offsetgroup\": \"University of Maryland-Baltimore County\", \"orientation\": \"v\", \"showlegend\": true, \"textposition\": \"auto\", \"x\": [\"University of Maryland-Baltimore County\"], \"xaxis\": \"x\", \"y\": [1151700.0], \"yaxis\": \"y\", \"type\": \"bar\"}], \"name\": \"2017\"}, {\"data\": [{\"alignmentgroup\": \"True\", \"hovertemplate\": \"INSTNM=%{x}<br>Year=2018<br>PCT_CHANGE=%{y}<extra></extra>\", \"legendgroup\": \"University of Maryland-Baltimore County\", \"marker\": {\"color\": \"#636efa\"}, \"name\": \"University of Maryland-Baltimore County\", \"offsetgroup\": \"University of Maryland-Baltimore County\", \"orientation\": \"v\", \"showlegend\": true, \"textposition\": \"auto\", \"x\": [\"University of Maryland-Baltimore County\"], \"xaxis\": \"x\", \"y\": [1177700.0], \"yaxis\": \"y\", \"type\": \"bar\"}], \"name\": \"2018\"}]);\n",
       "                        }).then(function(){\n",
       "                            \n",
       "var gd = document.getElementById('174479d0-73b6-48c9-9cfd-14560024f06b');\n",
       "var x = new MutationObserver(function (mutations, observer) {{\n",
       "        var display = window.getComputedStyle(gd).display;\n",
       "        if (!display || display === 'none') {{\n",
       "            console.log([gd, 'removed!']);\n",
       "            Plotly.purge(gd);\n",
       "            observer.disconnect();\n",
       "        }}\n",
       "}});\n",
       "\n",
       "// Listen for the removal of the full notebook cells\n",
       "var notebookContainer = gd.closest('#notebook-container');\n",
       "if (notebookContainer) {{\n",
       "    x.observe(notebookContainer, {childList: true});\n",
       "}}\n",
       "\n",
       "// Listen for the clearing of the current output cell\n",
       "var outputEl = gd.closest('.output');\n",
       "if (outputEl) {{\n",
       "    x.observe(outputEl, {childList: true});\n",
       "}}\n",
       "\n",
       "                        })\n",
       "                };\n",
       "                });\n",
       "            </script>\n",
       "        </div>"
      ]
     },
     "metadata": {},
     "output_type": "display_data"
    }
   ],
   "source": [
    "fig3 = px.bar(data_frame=UMBC_df2, \n",
    "             x=\"INSTNM\", y=\"PCT_CHANGE\",  \n",
    "             color=\"INSTNM\",animation_frame = 'Year' \n",
    "             )\n",
    "fig3.show()"
   ]
  },
  {
   "cell_type": "code",
   "execution_count": 29,
   "metadata": {},
   "outputs": [
    {
     "data": {
      "application/vnd.plotly.v1+json": {
       "config": {
        "plotlyServerURL": "https://plot.ly"
       },
       "data": [
        {
         "hovertemplate": "INSTNM=University of Maryland-Baltimore County<br>Year=%{x}<br>PCT_CHANGE=%{y}<extra></extra>",
         "legendgroup": "University of Maryland-Baltimore County",
         "line": {
          "color": "#636efa",
          "dash": "solid"
         },
         "mode": "lines",
         "name": "University of Maryland-Baltimore County",
         "showlegend": true,
         "type": "scatter",
         "x": [
          1996,
          1997,
          1998,
          1999,
          2000,
          2001,
          2002,
          2003,
          2004,
          2005,
          2006,
          2007,
          2008,
          2009,
          2010,
          2011,
          2012,
          2013,
          2014,
          2015,
          2016,
          2017,
          2018
         ],
         "xaxis": "x",
         "y": [
          null,
          null,
          null,
          null,
          548900,
          590900,
          636100,
          738700,
          801900,
          851900,
          862100,
          870700,
          877900,
          887100,
          917000,
          946600,
          976300,
          1006700,
          1038300,
          1100500,
          1126300,
          1151700,
          1177700
         ],
         "yaxis": "y"
        }
       ],
       "layout": {
        "legend": {
         "title": {
          "text": "INSTNM"
         },
         "tracegroupgap": 0
        },
        "template": {
         "data": {
          "bar": [
           {
            "error_x": {
             "color": "#2a3f5f"
            },
            "error_y": {
             "color": "#2a3f5f"
            },
            "marker": {
             "line": {
              "color": "#E5ECF6",
              "width": 0.5
             }
            },
            "type": "bar"
           }
          ],
          "barpolar": [
           {
            "marker": {
             "line": {
              "color": "#E5ECF6",
              "width": 0.5
             }
            },
            "type": "barpolar"
           }
          ],
          "carpet": [
           {
            "aaxis": {
             "endlinecolor": "#2a3f5f",
             "gridcolor": "white",
             "linecolor": "white",
             "minorgridcolor": "white",
             "startlinecolor": "#2a3f5f"
            },
            "baxis": {
             "endlinecolor": "#2a3f5f",
             "gridcolor": "white",
             "linecolor": "white",
             "minorgridcolor": "white",
             "startlinecolor": "#2a3f5f"
            },
            "type": "carpet"
           }
          ],
          "choropleth": [
           {
            "colorbar": {
             "outlinewidth": 0,
             "ticks": ""
            },
            "type": "choropleth"
           }
          ],
          "contour": [
           {
            "colorbar": {
             "outlinewidth": 0,
             "ticks": ""
            },
            "colorscale": [
             [
              0,
              "#0d0887"
             ],
             [
              0.1111111111111111,
              "#46039f"
             ],
             [
              0.2222222222222222,
              "#7201a8"
             ],
             [
              0.3333333333333333,
              "#9c179e"
             ],
             [
              0.4444444444444444,
              "#bd3786"
             ],
             [
              0.5555555555555556,
              "#d8576b"
             ],
             [
              0.6666666666666666,
              "#ed7953"
             ],
             [
              0.7777777777777778,
              "#fb9f3a"
             ],
             [
              0.8888888888888888,
              "#fdca26"
             ],
             [
              1,
              "#f0f921"
             ]
            ],
            "type": "contour"
           }
          ],
          "contourcarpet": [
           {
            "colorbar": {
             "outlinewidth": 0,
             "ticks": ""
            },
            "type": "contourcarpet"
           }
          ],
          "heatmap": [
           {
            "colorbar": {
             "outlinewidth": 0,
             "ticks": ""
            },
            "colorscale": [
             [
              0,
              "#0d0887"
             ],
             [
              0.1111111111111111,
              "#46039f"
             ],
             [
              0.2222222222222222,
              "#7201a8"
             ],
             [
              0.3333333333333333,
              "#9c179e"
             ],
             [
              0.4444444444444444,
              "#bd3786"
             ],
             [
              0.5555555555555556,
              "#d8576b"
             ],
             [
              0.6666666666666666,
              "#ed7953"
             ],
             [
              0.7777777777777778,
              "#fb9f3a"
             ],
             [
              0.8888888888888888,
              "#fdca26"
             ],
             [
              1,
              "#f0f921"
             ]
            ],
            "type": "heatmap"
           }
          ],
          "heatmapgl": [
           {
            "colorbar": {
             "outlinewidth": 0,
             "ticks": ""
            },
            "colorscale": [
             [
              0,
              "#0d0887"
             ],
             [
              0.1111111111111111,
              "#46039f"
             ],
             [
              0.2222222222222222,
              "#7201a8"
             ],
             [
              0.3333333333333333,
              "#9c179e"
             ],
             [
              0.4444444444444444,
              "#bd3786"
             ],
             [
              0.5555555555555556,
              "#d8576b"
             ],
             [
              0.6666666666666666,
              "#ed7953"
             ],
             [
              0.7777777777777778,
              "#fb9f3a"
             ],
             [
              0.8888888888888888,
              "#fdca26"
             ],
             [
              1,
              "#f0f921"
             ]
            ],
            "type": "heatmapgl"
           }
          ],
          "histogram": [
           {
            "marker": {
             "colorbar": {
              "outlinewidth": 0,
              "ticks": ""
             }
            },
            "type": "histogram"
           }
          ],
          "histogram2d": [
           {
            "colorbar": {
             "outlinewidth": 0,
             "ticks": ""
            },
            "colorscale": [
             [
              0,
              "#0d0887"
             ],
             [
              0.1111111111111111,
              "#46039f"
             ],
             [
              0.2222222222222222,
              "#7201a8"
             ],
             [
              0.3333333333333333,
              "#9c179e"
             ],
             [
              0.4444444444444444,
              "#bd3786"
             ],
             [
              0.5555555555555556,
              "#d8576b"
             ],
             [
              0.6666666666666666,
              "#ed7953"
             ],
             [
              0.7777777777777778,
              "#fb9f3a"
             ],
             [
              0.8888888888888888,
              "#fdca26"
             ],
             [
              1,
              "#f0f921"
             ]
            ],
            "type": "histogram2d"
           }
          ],
          "histogram2dcontour": [
           {
            "colorbar": {
             "outlinewidth": 0,
             "ticks": ""
            },
            "colorscale": [
             [
              0,
              "#0d0887"
             ],
             [
              0.1111111111111111,
              "#46039f"
             ],
             [
              0.2222222222222222,
              "#7201a8"
             ],
             [
              0.3333333333333333,
              "#9c179e"
             ],
             [
              0.4444444444444444,
              "#bd3786"
             ],
             [
              0.5555555555555556,
              "#d8576b"
             ],
             [
              0.6666666666666666,
              "#ed7953"
             ],
             [
              0.7777777777777778,
              "#fb9f3a"
             ],
             [
              0.8888888888888888,
              "#fdca26"
             ],
             [
              1,
              "#f0f921"
             ]
            ],
            "type": "histogram2dcontour"
           }
          ],
          "mesh3d": [
           {
            "colorbar": {
             "outlinewidth": 0,
             "ticks": ""
            },
            "type": "mesh3d"
           }
          ],
          "parcoords": [
           {
            "line": {
             "colorbar": {
              "outlinewidth": 0,
              "ticks": ""
             }
            },
            "type": "parcoords"
           }
          ],
          "pie": [
           {
            "automargin": true,
            "type": "pie"
           }
          ],
          "scatter": [
           {
            "marker": {
             "colorbar": {
              "outlinewidth": 0,
              "ticks": ""
             }
            },
            "type": "scatter"
           }
          ],
          "scatter3d": [
           {
            "line": {
             "colorbar": {
              "outlinewidth": 0,
              "ticks": ""
             }
            },
            "marker": {
             "colorbar": {
              "outlinewidth": 0,
              "ticks": ""
             }
            },
            "type": "scatter3d"
           }
          ],
          "scattercarpet": [
           {
            "marker": {
             "colorbar": {
              "outlinewidth": 0,
              "ticks": ""
             }
            },
            "type": "scattercarpet"
           }
          ],
          "scattergeo": [
           {
            "marker": {
             "colorbar": {
              "outlinewidth": 0,
              "ticks": ""
             }
            },
            "type": "scattergeo"
           }
          ],
          "scattergl": [
           {
            "marker": {
             "colorbar": {
              "outlinewidth": 0,
              "ticks": ""
             }
            },
            "type": "scattergl"
           }
          ],
          "scattermapbox": [
           {
            "marker": {
             "colorbar": {
              "outlinewidth": 0,
              "ticks": ""
             }
            },
            "type": "scattermapbox"
           }
          ],
          "scatterpolar": [
           {
            "marker": {
             "colorbar": {
              "outlinewidth": 0,
              "ticks": ""
             }
            },
            "type": "scatterpolar"
           }
          ],
          "scatterpolargl": [
           {
            "marker": {
             "colorbar": {
              "outlinewidth": 0,
              "ticks": ""
             }
            },
            "type": "scatterpolargl"
           }
          ],
          "scatterternary": [
           {
            "marker": {
             "colorbar": {
              "outlinewidth": 0,
              "ticks": ""
             }
            },
            "type": "scatterternary"
           }
          ],
          "surface": [
           {
            "colorbar": {
             "outlinewidth": 0,
             "ticks": ""
            },
            "colorscale": [
             [
              0,
              "#0d0887"
             ],
             [
              0.1111111111111111,
              "#46039f"
             ],
             [
              0.2222222222222222,
              "#7201a8"
             ],
             [
              0.3333333333333333,
              "#9c179e"
             ],
             [
              0.4444444444444444,
              "#bd3786"
             ],
             [
              0.5555555555555556,
              "#d8576b"
             ],
             [
              0.6666666666666666,
              "#ed7953"
             ],
             [
              0.7777777777777778,
              "#fb9f3a"
             ],
             [
              0.8888888888888888,
              "#fdca26"
             ],
             [
              1,
              "#f0f921"
             ]
            ],
            "type": "surface"
           }
          ],
          "table": [
           {
            "cells": {
             "fill": {
              "color": "#EBF0F8"
             },
             "line": {
              "color": "white"
             }
            },
            "header": {
             "fill": {
              "color": "#C8D4E3"
             },
             "line": {
              "color": "white"
             }
            },
            "type": "table"
           }
          ]
         },
         "layout": {
          "annotationdefaults": {
           "arrowcolor": "#2a3f5f",
           "arrowhead": 0,
           "arrowwidth": 1
          },
          "coloraxis": {
           "colorbar": {
            "outlinewidth": 0,
            "ticks": ""
           }
          },
          "colorscale": {
           "diverging": [
            [
             0,
             "#8e0152"
            ],
            [
             0.1,
             "#c51b7d"
            ],
            [
             0.2,
             "#de77ae"
            ],
            [
             0.3,
             "#f1b6da"
            ],
            [
             0.4,
             "#fde0ef"
            ],
            [
             0.5,
             "#f7f7f7"
            ],
            [
             0.6,
             "#e6f5d0"
            ],
            [
             0.7,
             "#b8e186"
            ],
            [
             0.8,
             "#7fbc41"
            ],
            [
             0.9,
             "#4d9221"
            ],
            [
             1,
             "#276419"
            ]
           ],
           "sequential": [
            [
             0,
             "#0d0887"
            ],
            [
             0.1111111111111111,
             "#46039f"
            ],
            [
             0.2222222222222222,
             "#7201a8"
            ],
            [
             0.3333333333333333,
             "#9c179e"
            ],
            [
             0.4444444444444444,
             "#bd3786"
            ],
            [
             0.5555555555555556,
             "#d8576b"
            ],
            [
             0.6666666666666666,
             "#ed7953"
            ],
            [
             0.7777777777777778,
             "#fb9f3a"
            ],
            [
             0.8888888888888888,
             "#fdca26"
            ],
            [
             1,
             "#f0f921"
            ]
           ],
           "sequentialminus": [
            [
             0,
             "#0d0887"
            ],
            [
             0.1111111111111111,
             "#46039f"
            ],
            [
             0.2222222222222222,
             "#7201a8"
            ],
            [
             0.3333333333333333,
             "#9c179e"
            ],
            [
             0.4444444444444444,
             "#bd3786"
            ],
            [
             0.5555555555555556,
             "#d8576b"
            ],
            [
             0.6666666666666666,
             "#ed7953"
            ],
            [
             0.7777777777777778,
             "#fb9f3a"
            ],
            [
             0.8888888888888888,
             "#fdca26"
            ],
            [
             1,
             "#f0f921"
            ]
           ]
          },
          "colorway": [
           "#636efa",
           "#EF553B",
           "#00cc96",
           "#ab63fa",
           "#FFA15A",
           "#19d3f3",
           "#FF6692",
           "#B6E880",
           "#FF97FF",
           "#FECB52"
          ],
          "font": {
           "color": "#2a3f5f"
          },
          "geo": {
           "bgcolor": "white",
           "lakecolor": "white",
           "landcolor": "#E5ECF6",
           "showlakes": true,
           "showland": true,
           "subunitcolor": "white"
          },
          "hoverlabel": {
           "align": "left"
          },
          "hovermode": "closest",
          "mapbox": {
           "style": "light"
          },
          "paper_bgcolor": "white",
          "plot_bgcolor": "#E5ECF6",
          "polar": {
           "angularaxis": {
            "gridcolor": "white",
            "linecolor": "white",
            "ticks": ""
           },
           "bgcolor": "#E5ECF6",
           "radialaxis": {
            "gridcolor": "white",
            "linecolor": "white",
            "ticks": ""
           }
          },
          "scene": {
           "xaxis": {
            "backgroundcolor": "#E5ECF6",
            "gridcolor": "white",
            "gridwidth": 2,
            "linecolor": "white",
            "showbackground": true,
            "ticks": "",
            "zerolinecolor": "white"
           },
           "yaxis": {
            "backgroundcolor": "#E5ECF6",
            "gridcolor": "white",
            "gridwidth": 2,
            "linecolor": "white",
            "showbackground": true,
            "ticks": "",
            "zerolinecolor": "white"
           },
           "zaxis": {
            "backgroundcolor": "#E5ECF6",
            "gridcolor": "white",
            "gridwidth": 2,
            "linecolor": "white",
            "showbackground": true,
            "ticks": "",
            "zerolinecolor": "white"
           }
          },
          "shapedefaults": {
           "line": {
            "color": "#2a3f5f"
           }
          },
          "ternary": {
           "aaxis": {
            "gridcolor": "white",
            "linecolor": "white",
            "ticks": ""
           },
           "baxis": {
            "gridcolor": "white",
            "linecolor": "white",
            "ticks": ""
           },
           "bgcolor": "#E5ECF6",
           "caxis": {
            "gridcolor": "white",
            "linecolor": "white",
            "ticks": ""
           }
          },
          "title": {
           "x": 0.05
          },
          "xaxis": {
           "automargin": true,
           "gridcolor": "white",
           "linecolor": "white",
           "ticks": "",
           "title": {
            "standoff": 15
           },
           "zerolinecolor": "white",
           "zerolinewidth": 2
          },
          "yaxis": {
           "automargin": true,
           "gridcolor": "white",
           "linecolor": "white",
           "ticks": "",
           "title": {
            "standoff": 15
           },
           "zerolinecolor": "white",
           "zerolinewidth": 2
          }
         }
        },
        "title": {
         "text": "UMBC PC Change"
        },
        "xaxis": {
         "anchor": "y",
         "domain": [
          0,
          1
         ],
         "title": {
          "text": "Year"
         }
        },
        "yaxis": {
         "anchor": "x",
         "domain": [
          0,
          1
         ],
         "title": {
          "text": "PCT_CHANGE"
         }
        }
       }
      },
      "text/html": [
       "<div>\n",
       "        \n",
       "        \n",
       "            <div id=\"1e8679a8-cdb5-4b5a-b4c2-c49487f84741\" class=\"plotly-graph-div\" style=\"height:525px; width:100%;\"></div>\n",
       "            <script type=\"text/javascript\">\n",
       "                require([\"plotly\"], function(Plotly) {\n",
       "                    window.PLOTLYENV=window.PLOTLYENV || {};\n",
       "                    \n",
       "                if (document.getElementById(\"1e8679a8-cdb5-4b5a-b4c2-c49487f84741\")) {\n",
       "                    Plotly.newPlot(\n",
       "                        '1e8679a8-cdb5-4b5a-b4c2-c49487f84741',\n",
       "                        [{\"hovertemplate\": \"INSTNM=University of Maryland-Baltimore County<br>Year=%{x}<br>PCT_CHANGE=%{y}<extra></extra>\", \"legendgroup\": \"University of Maryland-Baltimore County\", \"line\": {\"color\": \"#636efa\", \"dash\": \"solid\"}, \"mode\": \"lines\", \"name\": \"University of Maryland-Baltimore County\", \"showlegend\": true, \"type\": \"scatter\", \"x\": [1996, 1997, 1998, 1999, 2000, 2001, 2002, 2003, 2004, 2005, 2006, 2007, 2008, 2009, 2010, 2011, 2012, 2013, 2014, 2015, 2016, 2017, 2018], \"xaxis\": \"x\", \"y\": [null, null, null, null, 548900.0, 590900.0, 636100.0, 738700.0, 801900.0, 851900.0, 862100.0, 870700.0, 877900.0, 887100.0, 917000.0, 946600.0, 976300.0, 1006700.0, 1038300.0, 1100500.0, 1126300.0, 1151700.0, 1177700.0], \"yaxis\": \"y\"}],\n",
       "                        {\"legend\": {\"title\": {\"text\": \"INSTNM\"}, \"tracegroupgap\": 0}, \"template\": {\"data\": {\"bar\": [{\"error_x\": {\"color\": \"#2a3f5f\"}, \"error_y\": {\"color\": \"#2a3f5f\"}, \"marker\": {\"line\": {\"color\": \"#E5ECF6\", \"width\": 0.5}}, \"type\": \"bar\"}], \"barpolar\": [{\"marker\": {\"line\": {\"color\": \"#E5ECF6\", \"width\": 0.5}}, \"type\": \"barpolar\"}], \"carpet\": [{\"aaxis\": {\"endlinecolor\": \"#2a3f5f\", \"gridcolor\": \"white\", \"linecolor\": \"white\", \"minorgridcolor\": \"white\", \"startlinecolor\": \"#2a3f5f\"}, \"baxis\": {\"endlinecolor\": \"#2a3f5f\", \"gridcolor\": \"white\", \"linecolor\": \"white\", \"minorgridcolor\": \"white\", \"startlinecolor\": \"#2a3f5f\"}, \"type\": \"carpet\"}], \"choropleth\": [{\"colorbar\": {\"outlinewidth\": 0, \"ticks\": \"\"}, \"type\": \"choropleth\"}], \"contour\": [{\"colorbar\": {\"outlinewidth\": 0, \"ticks\": \"\"}, \"colorscale\": [[0.0, \"#0d0887\"], [0.1111111111111111, \"#46039f\"], [0.2222222222222222, \"#7201a8\"], [0.3333333333333333, \"#9c179e\"], [0.4444444444444444, \"#bd3786\"], [0.5555555555555556, \"#d8576b\"], [0.6666666666666666, \"#ed7953\"], [0.7777777777777778, \"#fb9f3a\"], [0.8888888888888888, \"#fdca26\"], [1.0, \"#f0f921\"]], \"type\": \"contour\"}], \"contourcarpet\": [{\"colorbar\": {\"outlinewidth\": 0, \"ticks\": \"\"}, \"type\": \"contourcarpet\"}], \"heatmap\": [{\"colorbar\": {\"outlinewidth\": 0, \"ticks\": \"\"}, \"colorscale\": [[0.0, \"#0d0887\"], [0.1111111111111111, \"#46039f\"], [0.2222222222222222, \"#7201a8\"], [0.3333333333333333, \"#9c179e\"], [0.4444444444444444, \"#bd3786\"], [0.5555555555555556, \"#d8576b\"], [0.6666666666666666, \"#ed7953\"], [0.7777777777777778, \"#fb9f3a\"], [0.8888888888888888, \"#fdca26\"], [1.0, \"#f0f921\"]], \"type\": \"heatmap\"}], \"heatmapgl\": [{\"colorbar\": {\"outlinewidth\": 0, \"ticks\": \"\"}, \"colorscale\": [[0.0, \"#0d0887\"], [0.1111111111111111, \"#46039f\"], [0.2222222222222222, \"#7201a8\"], [0.3333333333333333, \"#9c179e\"], [0.4444444444444444, \"#bd3786\"], [0.5555555555555556, \"#d8576b\"], [0.6666666666666666, \"#ed7953\"], [0.7777777777777778, \"#fb9f3a\"], [0.8888888888888888, \"#fdca26\"], [1.0, \"#f0f921\"]], \"type\": \"heatmapgl\"}], \"histogram\": [{\"marker\": {\"colorbar\": {\"outlinewidth\": 0, \"ticks\": \"\"}}, \"type\": \"histogram\"}], \"histogram2d\": [{\"colorbar\": {\"outlinewidth\": 0, \"ticks\": \"\"}, \"colorscale\": [[0.0, \"#0d0887\"], [0.1111111111111111, \"#46039f\"], [0.2222222222222222, \"#7201a8\"], [0.3333333333333333, \"#9c179e\"], [0.4444444444444444, \"#bd3786\"], [0.5555555555555556, \"#d8576b\"], [0.6666666666666666, \"#ed7953\"], [0.7777777777777778, \"#fb9f3a\"], [0.8888888888888888, \"#fdca26\"], [1.0, \"#f0f921\"]], \"type\": \"histogram2d\"}], \"histogram2dcontour\": [{\"colorbar\": {\"outlinewidth\": 0, \"ticks\": \"\"}, \"colorscale\": [[0.0, \"#0d0887\"], [0.1111111111111111, \"#46039f\"], [0.2222222222222222, \"#7201a8\"], [0.3333333333333333, \"#9c179e\"], [0.4444444444444444, \"#bd3786\"], [0.5555555555555556, \"#d8576b\"], [0.6666666666666666, \"#ed7953\"], [0.7777777777777778, \"#fb9f3a\"], [0.8888888888888888, \"#fdca26\"], [1.0, \"#f0f921\"]], \"type\": \"histogram2dcontour\"}], \"mesh3d\": [{\"colorbar\": {\"outlinewidth\": 0, \"ticks\": \"\"}, \"type\": \"mesh3d\"}], \"parcoords\": [{\"line\": {\"colorbar\": {\"outlinewidth\": 0, \"ticks\": \"\"}}, \"type\": \"parcoords\"}], \"pie\": [{\"automargin\": true, \"type\": \"pie\"}], \"scatter\": [{\"marker\": {\"colorbar\": {\"outlinewidth\": 0, \"ticks\": \"\"}}, \"type\": \"scatter\"}], \"scatter3d\": [{\"line\": {\"colorbar\": {\"outlinewidth\": 0, \"ticks\": \"\"}}, \"marker\": {\"colorbar\": {\"outlinewidth\": 0, \"ticks\": \"\"}}, \"type\": \"scatter3d\"}], \"scattercarpet\": [{\"marker\": {\"colorbar\": {\"outlinewidth\": 0, \"ticks\": \"\"}}, \"type\": \"scattercarpet\"}], \"scattergeo\": [{\"marker\": {\"colorbar\": {\"outlinewidth\": 0, \"ticks\": \"\"}}, \"type\": \"scattergeo\"}], \"scattergl\": [{\"marker\": {\"colorbar\": {\"outlinewidth\": 0, \"ticks\": \"\"}}, \"type\": \"scattergl\"}], \"scattermapbox\": [{\"marker\": {\"colorbar\": {\"outlinewidth\": 0, \"ticks\": \"\"}}, \"type\": \"scattermapbox\"}], \"scatterpolar\": [{\"marker\": {\"colorbar\": {\"outlinewidth\": 0, \"ticks\": \"\"}}, \"type\": \"scatterpolar\"}], \"scatterpolargl\": [{\"marker\": {\"colorbar\": {\"outlinewidth\": 0, \"ticks\": \"\"}}, \"type\": \"scatterpolargl\"}], \"scatterternary\": [{\"marker\": {\"colorbar\": {\"outlinewidth\": 0, \"ticks\": \"\"}}, \"type\": \"scatterternary\"}], \"surface\": [{\"colorbar\": {\"outlinewidth\": 0, \"ticks\": \"\"}, \"colorscale\": [[0.0, \"#0d0887\"], [0.1111111111111111, \"#46039f\"], [0.2222222222222222, \"#7201a8\"], [0.3333333333333333, \"#9c179e\"], [0.4444444444444444, \"#bd3786\"], [0.5555555555555556, \"#d8576b\"], [0.6666666666666666, \"#ed7953\"], [0.7777777777777778, \"#fb9f3a\"], [0.8888888888888888, \"#fdca26\"], [1.0, \"#f0f921\"]], \"type\": \"surface\"}], \"table\": [{\"cells\": {\"fill\": {\"color\": \"#EBF0F8\"}, \"line\": {\"color\": \"white\"}}, \"header\": {\"fill\": {\"color\": \"#C8D4E3\"}, \"line\": {\"color\": \"white\"}}, \"type\": \"table\"}]}, \"layout\": {\"annotationdefaults\": {\"arrowcolor\": \"#2a3f5f\", \"arrowhead\": 0, \"arrowwidth\": 1}, \"coloraxis\": {\"colorbar\": {\"outlinewidth\": 0, \"ticks\": \"\"}}, \"colorscale\": {\"diverging\": [[0, \"#8e0152\"], [0.1, \"#c51b7d\"], [0.2, \"#de77ae\"], [0.3, \"#f1b6da\"], [0.4, \"#fde0ef\"], [0.5, \"#f7f7f7\"], [0.6, \"#e6f5d0\"], [0.7, \"#b8e186\"], [0.8, \"#7fbc41\"], [0.9, \"#4d9221\"], [1, \"#276419\"]], \"sequential\": [[0.0, \"#0d0887\"], [0.1111111111111111, \"#46039f\"], [0.2222222222222222, \"#7201a8\"], [0.3333333333333333, \"#9c179e\"], [0.4444444444444444, \"#bd3786\"], [0.5555555555555556, \"#d8576b\"], [0.6666666666666666, \"#ed7953\"], [0.7777777777777778, \"#fb9f3a\"], [0.8888888888888888, \"#fdca26\"], [1.0, \"#f0f921\"]], \"sequentialminus\": [[0.0, \"#0d0887\"], [0.1111111111111111, \"#46039f\"], [0.2222222222222222, \"#7201a8\"], [0.3333333333333333, \"#9c179e\"], [0.4444444444444444, \"#bd3786\"], [0.5555555555555556, \"#d8576b\"], [0.6666666666666666, \"#ed7953\"], [0.7777777777777778, \"#fb9f3a\"], [0.8888888888888888, \"#fdca26\"], [1.0, \"#f0f921\"]]}, \"colorway\": [\"#636efa\", \"#EF553B\", \"#00cc96\", \"#ab63fa\", \"#FFA15A\", \"#19d3f3\", \"#FF6692\", \"#B6E880\", \"#FF97FF\", \"#FECB52\"], \"font\": {\"color\": \"#2a3f5f\"}, \"geo\": {\"bgcolor\": \"white\", \"lakecolor\": \"white\", \"landcolor\": \"#E5ECF6\", \"showlakes\": true, \"showland\": true, \"subunitcolor\": \"white\"}, \"hoverlabel\": {\"align\": \"left\"}, \"hovermode\": \"closest\", \"mapbox\": {\"style\": \"light\"}, \"paper_bgcolor\": \"white\", \"plot_bgcolor\": \"#E5ECF6\", \"polar\": {\"angularaxis\": {\"gridcolor\": \"white\", \"linecolor\": \"white\", \"ticks\": \"\"}, \"bgcolor\": \"#E5ECF6\", \"radialaxis\": {\"gridcolor\": \"white\", \"linecolor\": \"white\", \"ticks\": \"\"}}, \"scene\": {\"xaxis\": {\"backgroundcolor\": \"#E5ECF6\", \"gridcolor\": \"white\", \"gridwidth\": 2, \"linecolor\": \"white\", \"showbackground\": true, \"ticks\": \"\", \"zerolinecolor\": \"white\"}, \"yaxis\": {\"backgroundcolor\": \"#E5ECF6\", \"gridcolor\": \"white\", \"gridwidth\": 2, \"linecolor\": \"white\", \"showbackground\": true, \"ticks\": \"\", \"zerolinecolor\": \"white\"}, \"zaxis\": {\"backgroundcolor\": \"#E5ECF6\", \"gridcolor\": \"white\", \"gridwidth\": 2, \"linecolor\": \"white\", \"showbackground\": true, \"ticks\": \"\", \"zerolinecolor\": \"white\"}}, \"shapedefaults\": {\"line\": {\"color\": \"#2a3f5f\"}}, \"ternary\": {\"aaxis\": {\"gridcolor\": \"white\", \"linecolor\": \"white\", \"ticks\": \"\"}, \"baxis\": {\"gridcolor\": \"white\", \"linecolor\": \"white\", \"ticks\": \"\"}, \"bgcolor\": \"#E5ECF6\", \"caxis\": {\"gridcolor\": \"white\", \"linecolor\": \"white\", \"ticks\": \"\"}}, \"title\": {\"x\": 0.05}, \"xaxis\": {\"automargin\": true, \"gridcolor\": \"white\", \"linecolor\": \"white\", \"ticks\": \"\", \"title\": {\"standoff\": 15}, \"zerolinecolor\": \"white\", \"zerolinewidth\": 2}, \"yaxis\": {\"automargin\": true, \"gridcolor\": \"white\", \"linecolor\": \"white\", \"ticks\": \"\", \"title\": {\"standoff\": 15}, \"zerolinecolor\": \"white\", \"zerolinewidth\": 2}}}, \"title\": {\"text\": \"UMBC PC Change\"}, \"xaxis\": {\"anchor\": \"y\", \"domain\": [0.0, 1.0], \"title\": {\"text\": \"Year\"}}, \"yaxis\": {\"anchor\": \"x\", \"domain\": [0.0, 1.0], \"title\": {\"text\": \"PCT_CHANGE\"}}},\n",
       "                        {\"responsive\": true}\n",
       "                    ).then(function(){\n",
       "                            \n",
       "var gd = document.getElementById('1e8679a8-cdb5-4b5a-b4c2-c49487f84741');\n",
       "var x = new MutationObserver(function (mutations, observer) {{\n",
       "        var display = window.getComputedStyle(gd).display;\n",
       "        if (!display || display === 'none') {{\n",
       "            console.log([gd, 'removed!']);\n",
       "            Plotly.purge(gd);\n",
       "            observer.disconnect();\n",
       "        }}\n",
       "}});\n",
       "\n",
       "// Listen for the removal of the full notebook cells\n",
       "var notebookContainer = gd.closest('#notebook-container');\n",
       "if (notebookContainer) {{\n",
       "    x.observe(notebookContainer, {childList: true});\n",
       "}}\n",
       "\n",
       "// Listen for the clearing of the current output cell\n",
       "var outputEl = gd.closest('.output');\n",
       "if (outputEl) {{\n",
       "    x.observe(outputEl, {childList: true});\n",
       "}}\n",
       "\n",
       "                        })\n",
       "                };\n",
       "                });\n",
       "            </script>\n",
       "        </div>"
      ]
     },
     "metadata": {},
     "output_type": "display_data"
    }
   ],
   "source": [
    "fig4 = px.line(UMBC_df2, x=\"Year\", y=\"PCT_CHANGE\", color='INSTNM', title = 'UMBC PC Change')\n",
    "fig4.show()"
   ]
  },
  {
   "cell_type": "markdown",
   "metadata": {},
   "source": [
    "**Let's create a function which can be reused for any college.**"
   ]
  },
  {
   "cell_type": "code",
   "execution_count": null,
   "metadata": {},
   "outputs": [],
   "source": [
    "def percentageChange(start, current):\n",
    "    return (current - start/abs(start))*100.0"
   ]
  },
  {
   "cell_type": "markdown",
   "metadata": {},
   "source": [
    "**Let's just look at JHU. Filter/query the dataframe to retrieve only rows that belong to JHU**"
   ]
  },
  {
   "cell_type": "code",
   "execution_count": 30,
   "metadata": {},
   "outputs": [
    {
     "data": {
      "text/html": [
       "<div>\n",
       "<style scoped>\n",
       "    .dataframe tbody tr th:only-of-type {\n",
       "        vertical-align: middle;\n",
       "    }\n",
       "\n",
       "    .dataframe tbody tr th {\n",
       "        vertical-align: top;\n",
       "    }\n",
       "\n",
       "    .dataframe thead th {\n",
       "        text-align: right;\n",
       "    }\n",
       "</style>\n",
       "<table border=\"1\" class=\"dataframe\">\n",
       "  <thead>\n",
       "    <tr style=\"text-align: right;\">\n",
       "      <th></th>\n",
       "      <th>UNITID</th>\n",
       "      <th>INSTNM</th>\n",
       "      <th>STABBR</th>\n",
       "      <th>REGION</th>\n",
       "      <th>ADM_RATE</th>\n",
       "      <th>TUITIONFEE_IN</th>\n",
       "      <th>Year</th>\n",
       "    </tr>\n",
       "  </thead>\n",
       "  <tbody>\n",
       "    <tr>\n",
       "      <td>2139</td>\n",
       "      <td>162928</td>\n",
       "      <td>Johns Hopkins University</td>\n",
       "      <td>MD</td>\n",
       "      <td>2.0</td>\n",
       "      <td>NaN</td>\n",
       "      <td>NaN</td>\n",
       "      <td>1996</td>\n",
       "    </tr>\n",
       "    <tr>\n",
       "      <td>2039</td>\n",
       "      <td>162928</td>\n",
       "      <td>Johns Hopkins University</td>\n",
       "      <td>MD</td>\n",
       "      <td>2.0</td>\n",
       "      <td>NaN</td>\n",
       "      <td>NaN</td>\n",
       "      <td>1997</td>\n",
       "    </tr>\n",
       "    <tr>\n",
       "      <td>1973</td>\n",
       "      <td>162928</td>\n",
       "      <td>Johns Hopkins University</td>\n",
       "      <td>MD</td>\n",
       "      <td>2.0</td>\n",
       "      <td>NaN</td>\n",
       "      <td>NaN</td>\n",
       "      <td>1998</td>\n",
       "    </tr>\n",
       "    <tr>\n",
       "      <td>1946</td>\n",
       "      <td>162928</td>\n",
       "      <td>Johns Hopkins University</td>\n",
       "      <td>MD</td>\n",
       "      <td>2.0</td>\n",
       "      <td>NaN</td>\n",
       "      <td>NaN</td>\n",
       "      <td>1999</td>\n",
       "    </tr>\n",
       "    <tr>\n",
       "      <td>1917</td>\n",
       "      <td>162928</td>\n",
       "      <td>Johns Hopkins University</td>\n",
       "      <td>MD</td>\n",
       "      <td>2.0</td>\n",
       "      <td>NaN</td>\n",
       "      <td>24930.0</td>\n",
       "      <td>2000</td>\n",
       "    </tr>\n",
       "  </tbody>\n",
       "</table>\n",
       "</div>"
      ],
      "text/plain": [
       "      UNITID                    INSTNM STABBR  REGION  ADM_RATE  \\\n",
       "2139  162928  Johns Hopkins University     MD     2.0       NaN   \n",
       "2039  162928  Johns Hopkins University     MD     2.0       NaN   \n",
       "1973  162928  Johns Hopkins University     MD     2.0       NaN   \n",
       "1946  162928  Johns Hopkins University     MD     2.0       NaN   \n",
       "1917  162928  Johns Hopkins University     MD     2.0       NaN   \n",
       "\n",
       "      TUITIONFEE_IN  Year  \n",
       "2139            NaN  1996  \n",
       "2039            NaN  1997  \n",
       "1973            NaN  1998  \n",
       "1946            NaN  1999  \n",
       "1917        24930.0  2000  "
      ]
     },
     "execution_count": 30,
     "metadata": {},
     "output_type": "execute_result"
    }
   ],
   "source": [
    "JHU_df = merged_df[merged_df['INSTNM']=='Johns Hopkins University']\n",
    "\n",
    "JHU_df2 = JHU_df.sort_values('Year', ascending =True)\n",
    "\n",
    "JHU_df2.head()"
   ]
  },
  {
   "cell_type": "markdown",
   "metadata": {},
   "source": [
    "**Plot JHU's in-state tuition overtime from 1996 to 2019. Let's plot bar and line chart together**"
   ]
  },
  {
   "cell_type": "code",
   "execution_count": 31,
   "metadata": {},
   "outputs": [
    {
     "data": {
      "application/vnd.plotly.v1+json": {
       "config": {
        "plotlyServerURL": "https://plot.ly"
       },
       "data": [
        {
         "alignmentgroup": "True",
         "hovertemplate": "INSTNM=%{x}<br>Year=1996<br>TUITIONFEE_IN=%{y}<extra></extra>",
         "legendgroup": "Johns Hopkins University",
         "marker": {
          "color": "#636efa"
         },
         "name": "Johns Hopkins University",
         "offsetgroup": "Johns Hopkins University",
         "orientation": "v",
         "showlegend": true,
         "textposition": "auto",
         "type": "bar",
         "x": [
          "Johns Hopkins University"
         ],
         "xaxis": "x",
         "y": [
          null
         ],
         "yaxis": "y"
        }
       ],
       "frames": [
        {
         "data": [
          {
           "alignmentgroup": "True",
           "hovertemplate": "INSTNM=%{x}<br>Year=1996<br>TUITIONFEE_IN=%{y}<extra></extra>",
           "legendgroup": "Johns Hopkins University",
           "marker": {
            "color": "#636efa"
           },
           "name": "Johns Hopkins University",
           "offsetgroup": "Johns Hopkins University",
           "orientation": "v",
           "showlegend": true,
           "textposition": "auto",
           "type": "bar",
           "x": [
            "Johns Hopkins University"
           ],
           "xaxis": "x",
           "y": [
            null
           ],
           "yaxis": "y"
          }
         ],
         "name": "1996"
        },
        {
         "data": [
          {
           "alignmentgroup": "True",
           "hovertemplate": "INSTNM=%{x}<br>Year=1997<br>TUITIONFEE_IN=%{y}<extra></extra>",
           "legendgroup": "Johns Hopkins University",
           "marker": {
            "color": "#636efa"
           },
           "name": "Johns Hopkins University",
           "offsetgroup": "Johns Hopkins University",
           "orientation": "v",
           "showlegend": true,
           "textposition": "auto",
           "type": "bar",
           "x": [
            "Johns Hopkins University"
           ],
           "xaxis": "x",
           "y": [
            null
           ],
           "yaxis": "y"
          }
         ],
         "name": "1997"
        },
        {
         "data": [
          {
           "alignmentgroup": "True",
           "hovertemplate": "INSTNM=%{x}<br>Year=1998<br>TUITIONFEE_IN=%{y}<extra></extra>",
           "legendgroup": "Johns Hopkins University",
           "marker": {
            "color": "#636efa"
           },
           "name": "Johns Hopkins University",
           "offsetgroup": "Johns Hopkins University",
           "orientation": "v",
           "showlegend": true,
           "textposition": "auto",
           "type": "bar",
           "x": [
            "Johns Hopkins University"
           ],
           "xaxis": "x",
           "y": [
            null
           ],
           "yaxis": "y"
          }
         ],
         "name": "1998"
        },
        {
         "data": [
          {
           "alignmentgroup": "True",
           "hovertemplate": "INSTNM=%{x}<br>Year=1999<br>TUITIONFEE_IN=%{y}<extra></extra>",
           "legendgroup": "Johns Hopkins University",
           "marker": {
            "color": "#636efa"
           },
           "name": "Johns Hopkins University",
           "offsetgroup": "Johns Hopkins University",
           "orientation": "v",
           "showlegend": true,
           "textposition": "auto",
           "type": "bar",
           "x": [
            "Johns Hopkins University"
           ],
           "xaxis": "x",
           "y": [
            null
           ],
           "yaxis": "y"
          }
         ],
         "name": "1999"
        },
        {
         "data": [
          {
           "alignmentgroup": "True",
           "hovertemplate": "INSTNM=%{x}<br>Year=2000<br>TUITIONFEE_IN=%{y}<extra></extra>",
           "legendgroup": "Johns Hopkins University",
           "marker": {
            "color": "#636efa"
           },
           "name": "Johns Hopkins University",
           "offsetgroup": "Johns Hopkins University",
           "orientation": "v",
           "showlegend": true,
           "textposition": "auto",
           "type": "bar",
           "x": [
            "Johns Hopkins University"
           ],
           "xaxis": "x",
           "y": [
            24930
           ],
           "yaxis": "y"
          }
         ],
         "name": "2000"
        },
        {
         "data": [
          {
           "alignmentgroup": "True",
           "hovertemplate": "INSTNM=%{x}<br>Year=2001<br>TUITIONFEE_IN=%{y}<extra></extra>",
           "legendgroup": "Johns Hopkins University",
           "marker": {
            "color": "#636efa"
           },
           "name": "Johns Hopkins University",
           "offsetgroup": "Johns Hopkins University",
           "orientation": "v",
           "showlegend": true,
           "textposition": "auto",
           "type": "bar",
           "x": [
            "Johns Hopkins University"
           ],
           "xaxis": "x",
           "y": [
            26210
           ],
           "yaxis": "y"
          }
         ],
         "name": "2001"
        },
        {
         "data": [
          {
           "alignmentgroup": "True",
           "hovertemplate": "INSTNM=%{x}<br>Year=2002<br>TUITIONFEE_IN=%{y}<extra></extra>",
           "legendgroup": "Johns Hopkins University",
           "marker": {
            "color": "#636efa"
           },
           "name": "Johns Hopkins University",
           "offsetgroup": "Johns Hopkins University",
           "orientation": "v",
           "showlegend": true,
           "textposition": "auto",
           "type": "bar",
           "x": [
            "Johns Hopkins University"
           ],
           "xaxis": "x",
           "y": [
            27390
           ],
           "yaxis": "y"
          }
         ],
         "name": "2002"
        },
        {
         "data": [
          {
           "alignmentgroup": "True",
           "hovertemplate": "INSTNM=%{x}<br>Year=2003<br>TUITIONFEE_IN=%{y}<extra></extra>",
           "legendgroup": "Johns Hopkins University",
           "marker": {
            "color": "#636efa"
           },
           "name": "Johns Hopkins University",
           "offsetgroup": "Johns Hopkins University",
           "orientation": "v",
           "showlegend": true,
           "textposition": "auto",
           "type": "bar",
           "x": [
            "Johns Hopkins University"
           ],
           "xaxis": "x",
           "y": [
            28730
           ],
           "yaxis": "y"
          }
         ],
         "name": "2003"
        },
        {
         "data": [
          {
           "alignmentgroup": "True",
           "hovertemplate": "INSTNM=%{x}<br>Year=2004<br>TUITIONFEE_IN=%{y}<extra></extra>",
           "legendgroup": "Johns Hopkins University",
           "marker": {
            "color": "#636efa"
           },
           "name": "Johns Hopkins University",
           "offsetgroup": "Johns Hopkins University",
           "orientation": "v",
           "showlegend": true,
           "textposition": "auto",
           "type": "bar",
           "x": [
            "Johns Hopkins University"
           ],
           "xaxis": "x",
           "y": [
            30140
           ],
           "yaxis": "y"
          }
         ],
         "name": "2004"
        },
        {
         "data": [
          {
           "alignmentgroup": "True",
           "hovertemplate": "INSTNM=%{x}<br>Year=2005<br>TUITIONFEE_IN=%{y}<extra></extra>",
           "legendgroup": "Johns Hopkins University",
           "marker": {
            "color": "#636efa"
           },
           "name": "Johns Hopkins University",
           "offsetgroup": "Johns Hopkins University",
           "orientation": "v",
           "showlegend": true,
           "textposition": "auto",
           "type": "bar",
           "x": [
            "Johns Hopkins University"
           ],
           "xaxis": "x",
           "y": [
            31620
           ],
           "yaxis": "y"
          }
         ],
         "name": "2005"
        },
        {
         "data": [
          {
           "alignmentgroup": "True",
           "hovertemplate": "INSTNM=%{x}<br>Year=2006<br>TUITIONFEE_IN=%{y}<extra></extra>",
           "legendgroup": "Johns Hopkins University",
           "marker": {
            "color": "#636efa"
           },
           "name": "Johns Hopkins University",
           "offsetgroup": "Johns Hopkins University",
           "orientation": "v",
           "showlegend": true,
           "textposition": "auto",
           "type": "bar",
           "x": [
            "Johns Hopkins University"
           ],
           "xaxis": "x",
           "y": [
            33900
           ],
           "yaxis": "y"
          }
         ],
         "name": "2006"
        },
        {
         "data": [
          {
           "alignmentgroup": "True",
           "hovertemplate": "INSTNM=%{x}<br>Year=2007<br>TUITIONFEE_IN=%{y}<extra></extra>",
           "legendgroup": "Johns Hopkins University",
           "marker": {
            "color": "#636efa"
           },
           "name": "Johns Hopkins University",
           "offsetgroup": "Johns Hopkins University",
           "orientation": "v",
           "showlegend": true,
           "textposition": "auto",
           "type": "bar",
           "x": [
            "Johns Hopkins University"
           ],
           "xaxis": "x",
           "y": [
            35900
           ],
           "yaxis": "y"
          }
         ],
         "name": "2007"
        },
        {
         "data": [
          {
           "alignmentgroup": "True",
           "hovertemplate": "INSTNM=%{x}<br>Year=2008<br>TUITIONFEE_IN=%{y}<extra></extra>",
           "legendgroup": "Johns Hopkins University",
           "marker": {
            "color": "#636efa"
           },
           "name": "Johns Hopkins University",
           "offsetgroup": "Johns Hopkins University",
           "orientation": "v",
           "showlegend": true,
           "textposition": "auto",
           "type": "bar",
           "x": [
            "Johns Hopkins University"
           ],
           "xaxis": "x",
           "y": [
            37700
           ],
           "yaxis": "y"
          }
         ],
         "name": "2008"
        },
        {
         "data": [
          {
           "alignmentgroup": "True",
           "hovertemplate": "INSTNM=%{x}<br>Year=2009<br>TUITIONFEE_IN=%{y}<extra></extra>",
           "legendgroup": "Johns Hopkins University",
           "marker": {
            "color": "#636efa"
           },
           "name": "Johns Hopkins University",
           "offsetgroup": "Johns Hopkins University",
           "orientation": "v",
           "showlegend": true,
           "textposition": "auto",
           "type": "bar",
           "x": [
            "Johns Hopkins University"
           ],
           "xaxis": "x",
           "y": [
            39150
           ],
           "yaxis": "y"
          }
         ],
         "name": "2009"
        },
        {
         "data": [
          {
           "alignmentgroup": "True",
           "hovertemplate": "INSTNM=%{x}<br>Year=2010<br>TUITIONFEE_IN=%{y}<extra></extra>",
           "legendgroup": "Johns Hopkins University",
           "marker": {
            "color": "#636efa"
           },
           "name": "Johns Hopkins University",
           "offsetgroup": "Johns Hopkins University",
           "orientation": "v",
           "showlegend": true,
           "textposition": "auto",
           "type": "bar",
           "x": [
            "Johns Hopkins University"
           ],
           "xaxis": "x",
           "y": [
            40680
           ],
           "yaxis": "y"
          }
         ],
         "name": "2010"
        },
        {
         "data": [
          {
           "alignmentgroup": "True",
           "hovertemplate": "INSTNM=%{x}<br>Year=2011<br>TUITIONFEE_IN=%{y}<extra></extra>",
           "legendgroup": "Johns Hopkins University",
           "marker": {
            "color": "#636efa"
           },
           "name": "Johns Hopkins University",
           "offsetgroup": "Johns Hopkins University",
           "orientation": "v",
           "showlegend": true,
           "textposition": "auto",
           "type": "bar",
           "x": [
            "Johns Hopkins University"
           ],
           "xaxis": "x",
           "y": [
            42280
           ],
           "yaxis": "y"
          }
         ],
         "name": "2011"
        },
        {
         "data": [
          {
           "alignmentgroup": "True",
           "hovertemplate": "INSTNM=%{x}<br>Year=2012<br>TUITIONFEE_IN=%{y}<extra></extra>",
           "legendgroup": "Johns Hopkins University",
           "marker": {
            "color": "#636efa"
           },
           "name": "Johns Hopkins University",
           "offsetgroup": "Johns Hopkins University",
           "orientation": "v",
           "showlegend": true,
           "textposition": "auto",
           "type": "bar",
           "x": [
            "Johns Hopkins University"
           ],
           "xaxis": "x",
           "y": [
            43390
           ],
           "yaxis": "y"
          }
         ],
         "name": "2012"
        },
        {
         "data": [
          {
           "alignmentgroup": "True",
           "hovertemplate": "INSTNM=%{x}<br>Year=2013<br>TUITIONFEE_IN=%{y}<extra></extra>",
           "legendgroup": "Johns Hopkins University",
           "marker": {
            "color": "#636efa"
           },
           "name": "Johns Hopkins University",
           "offsetgroup": "Johns Hopkins University",
           "orientation": "v",
           "showlegend": true,
           "textposition": "auto",
           "type": "bar",
           "x": [
            "Johns Hopkins University"
           ],
           "xaxis": "x",
           "y": [
            45470
           ],
           "yaxis": "y"
          }
         ],
         "name": "2013"
        },
        {
         "data": [
          {
           "alignmentgroup": "True",
           "hovertemplate": "INSTNM=%{x}<br>Year=2014<br>TUITIONFEE_IN=%{y}<extra></extra>",
           "legendgroup": "Johns Hopkins University",
           "marker": {
            "color": "#636efa"
           },
           "name": "Johns Hopkins University",
           "offsetgroup": "Johns Hopkins University",
           "orientation": "v",
           "showlegend": true,
           "textposition": "auto",
           "type": "bar",
           "x": [
            "Johns Hopkins University"
           ],
           "xaxis": "x",
           "y": [
            47060
           ],
           "yaxis": "y"
          }
         ],
         "name": "2014"
        },
        {
         "data": [
          {
           "alignmentgroup": "True",
           "hovertemplate": "INSTNM=%{x}<br>Year=2015<br>TUITIONFEE_IN=%{y}<extra></extra>",
           "legendgroup": "Johns Hopkins University",
           "marker": {
            "color": "#636efa"
           },
           "name": "Johns Hopkins University",
           "offsetgroup": "Johns Hopkins University",
           "orientation": "v",
           "showlegend": true,
           "textposition": "auto",
           "type": "bar",
           "x": [
            "Johns Hopkins University"
           ],
           "xaxis": "x",
           "y": [
            48710
           ],
           "yaxis": "y"
          }
         ],
         "name": "2015"
        },
        {
         "data": [
          {
           "alignmentgroup": "True",
           "hovertemplate": "INSTNM=%{x}<br>Year=2016<br>TUITIONFEE_IN=%{y}<extra></extra>",
           "legendgroup": "Johns Hopkins University",
           "marker": {
            "color": "#636efa"
           },
           "name": "Johns Hopkins University",
           "offsetgroup": "Johns Hopkins University",
           "orientation": "v",
           "showlegend": true,
           "textposition": "auto",
           "type": "bar",
           "x": [
            "Johns Hopkins University"
           ],
           "xaxis": "x",
           "y": [
            50410
           ],
           "yaxis": "y"
          }
         ],
         "name": "2016"
        },
        {
         "data": [
          {
           "alignmentgroup": "True",
           "hovertemplate": "INSTNM=%{x}<br>Year=2017<br>TUITIONFEE_IN=%{y}<extra></extra>",
           "legendgroup": "Johns Hopkins University",
           "marker": {
            "color": "#636efa"
           },
           "name": "Johns Hopkins University",
           "offsetgroup": "Johns Hopkins University",
           "orientation": "v",
           "showlegend": true,
           "textposition": "auto",
           "type": "bar",
           "x": [
            "Johns Hopkins University"
           ],
           "xaxis": "x",
           "y": [
            52170
           ],
           "yaxis": "y"
          }
         ],
         "name": "2017"
        },
        {
         "data": [
          {
           "alignmentgroup": "True",
           "hovertemplate": "INSTNM=%{x}<br>Year=2018<br>TUITIONFEE_IN=%{y}<extra></extra>",
           "legendgroup": "Johns Hopkins University",
           "marker": {
            "color": "#636efa"
           },
           "name": "Johns Hopkins University",
           "offsetgroup": "Johns Hopkins University",
           "orientation": "v",
           "showlegend": true,
           "textposition": "auto",
           "type": "bar",
           "x": [
            "Johns Hopkins University"
           ],
           "xaxis": "x",
           "y": [
            53740
           ],
           "yaxis": "y"
          }
         ],
         "name": "2018"
        }
       ],
       "layout": {
        "barmode": "relative",
        "legend": {
         "title": {
          "text": "INSTNM"
         },
         "tracegroupgap": 0
        },
        "margin": {
         "t": 60
        },
        "sliders": [
         {
          "active": 0,
          "currentvalue": {
           "prefix": "Year="
          },
          "len": 0.9,
          "pad": {
           "b": 10,
           "t": 60
          },
          "steps": [
           {
            "args": [
             [
              "1996"
             ],
             {
              "frame": {
               "duration": 0,
               "redraw": true
              },
              "fromcurrent": true,
              "mode": "immediate",
              "transition": {
               "duration": 0,
               "easing": "linear"
              }
             }
            ],
            "label": "1996",
            "method": "animate"
           },
           {
            "args": [
             [
              "1997"
             ],
             {
              "frame": {
               "duration": 0,
               "redraw": true
              },
              "fromcurrent": true,
              "mode": "immediate",
              "transition": {
               "duration": 0,
               "easing": "linear"
              }
             }
            ],
            "label": "1997",
            "method": "animate"
           },
           {
            "args": [
             [
              "1998"
             ],
             {
              "frame": {
               "duration": 0,
               "redraw": true
              },
              "fromcurrent": true,
              "mode": "immediate",
              "transition": {
               "duration": 0,
               "easing": "linear"
              }
             }
            ],
            "label": "1998",
            "method": "animate"
           },
           {
            "args": [
             [
              "1999"
             ],
             {
              "frame": {
               "duration": 0,
               "redraw": true
              },
              "fromcurrent": true,
              "mode": "immediate",
              "transition": {
               "duration": 0,
               "easing": "linear"
              }
             }
            ],
            "label": "1999",
            "method": "animate"
           },
           {
            "args": [
             [
              "2000"
             ],
             {
              "frame": {
               "duration": 0,
               "redraw": true
              },
              "fromcurrent": true,
              "mode": "immediate",
              "transition": {
               "duration": 0,
               "easing": "linear"
              }
             }
            ],
            "label": "2000",
            "method": "animate"
           },
           {
            "args": [
             [
              "2001"
             ],
             {
              "frame": {
               "duration": 0,
               "redraw": true
              },
              "fromcurrent": true,
              "mode": "immediate",
              "transition": {
               "duration": 0,
               "easing": "linear"
              }
             }
            ],
            "label": "2001",
            "method": "animate"
           },
           {
            "args": [
             [
              "2002"
             ],
             {
              "frame": {
               "duration": 0,
               "redraw": true
              },
              "fromcurrent": true,
              "mode": "immediate",
              "transition": {
               "duration": 0,
               "easing": "linear"
              }
             }
            ],
            "label": "2002",
            "method": "animate"
           },
           {
            "args": [
             [
              "2003"
             ],
             {
              "frame": {
               "duration": 0,
               "redraw": true
              },
              "fromcurrent": true,
              "mode": "immediate",
              "transition": {
               "duration": 0,
               "easing": "linear"
              }
             }
            ],
            "label": "2003",
            "method": "animate"
           },
           {
            "args": [
             [
              "2004"
             ],
             {
              "frame": {
               "duration": 0,
               "redraw": true
              },
              "fromcurrent": true,
              "mode": "immediate",
              "transition": {
               "duration": 0,
               "easing": "linear"
              }
             }
            ],
            "label": "2004",
            "method": "animate"
           },
           {
            "args": [
             [
              "2005"
             ],
             {
              "frame": {
               "duration": 0,
               "redraw": true
              },
              "fromcurrent": true,
              "mode": "immediate",
              "transition": {
               "duration": 0,
               "easing": "linear"
              }
             }
            ],
            "label": "2005",
            "method": "animate"
           },
           {
            "args": [
             [
              "2006"
             ],
             {
              "frame": {
               "duration": 0,
               "redraw": true
              },
              "fromcurrent": true,
              "mode": "immediate",
              "transition": {
               "duration": 0,
               "easing": "linear"
              }
             }
            ],
            "label": "2006",
            "method": "animate"
           },
           {
            "args": [
             [
              "2007"
             ],
             {
              "frame": {
               "duration": 0,
               "redraw": true
              },
              "fromcurrent": true,
              "mode": "immediate",
              "transition": {
               "duration": 0,
               "easing": "linear"
              }
             }
            ],
            "label": "2007",
            "method": "animate"
           },
           {
            "args": [
             [
              "2008"
             ],
             {
              "frame": {
               "duration": 0,
               "redraw": true
              },
              "fromcurrent": true,
              "mode": "immediate",
              "transition": {
               "duration": 0,
               "easing": "linear"
              }
             }
            ],
            "label": "2008",
            "method": "animate"
           },
           {
            "args": [
             [
              "2009"
             ],
             {
              "frame": {
               "duration": 0,
               "redraw": true
              },
              "fromcurrent": true,
              "mode": "immediate",
              "transition": {
               "duration": 0,
               "easing": "linear"
              }
             }
            ],
            "label": "2009",
            "method": "animate"
           },
           {
            "args": [
             [
              "2010"
             ],
             {
              "frame": {
               "duration": 0,
               "redraw": true
              },
              "fromcurrent": true,
              "mode": "immediate",
              "transition": {
               "duration": 0,
               "easing": "linear"
              }
             }
            ],
            "label": "2010",
            "method": "animate"
           },
           {
            "args": [
             [
              "2011"
             ],
             {
              "frame": {
               "duration": 0,
               "redraw": true
              },
              "fromcurrent": true,
              "mode": "immediate",
              "transition": {
               "duration": 0,
               "easing": "linear"
              }
             }
            ],
            "label": "2011",
            "method": "animate"
           },
           {
            "args": [
             [
              "2012"
             ],
             {
              "frame": {
               "duration": 0,
               "redraw": true
              },
              "fromcurrent": true,
              "mode": "immediate",
              "transition": {
               "duration": 0,
               "easing": "linear"
              }
             }
            ],
            "label": "2012",
            "method": "animate"
           },
           {
            "args": [
             [
              "2013"
             ],
             {
              "frame": {
               "duration": 0,
               "redraw": true
              },
              "fromcurrent": true,
              "mode": "immediate",
              "transition": {
               "duration": 0,
               "easing": "linear"
              }
             }
            ],
            "label": "2013",
            "method": "animate"
           },
           {
            "args": [
             [
              "2014"
             ],
             {
              "frame": {
               "duration": 0,
               "redraw": true
              },
              "fromcurrent": true,
              "mode": "immediate",
              "transition": {
               "duration": 0,
               "easing": "linear"
              }
             }
            ],
            "label": "2014",
            "method": "animate"
           },
           {
            "args": [
             [
              "2015"
             ],
             {
              "frame": {
               "duration": 0,
               "redraw": true
              },
              "fromcurrent": true,
              "mode": "immediate",
              "transition": {
               "duration": 0,
               "easing": "linear"
              }
             }
            ],
            "label": "2015",
            "method": "animate"
           },
           {
            "args": [
             [
              "2016"
             ],
             {
              "frame": {
               "duration": 0,
               "redraw": true
              },
              "fromcurrent": true,
              "mode": "immediate",
              "transition": {
               "duration": 0,
               "easing": "linear"
              }
             }
            ],
            "label": "2016",
            "method": "animate"
           },
           {
            "args": [
             [
              "2017"
             ],
             {
              "frame": {
               "duration": 0,
               "redraw": true
              },
              "fromcurrent": true,
              "mode": "immediate",
              "transition": {
               "duration": 0,
               "easing": "linear"
              }
             }
            ],
            "label": "2017",
            "method": "animate"
           },
           {
            "args": [
             [
              "2018"
             ],
             {
              "frame": {
               "duration": 0,
               "redraw": true
              },
              "fromcurrent": true,
              "mode": "immediate",
              "transition": {
               "duration": 0,
               "easing": "linear"
              }
             }
            ],
            "label": "2018",
            "method": "animate"
           }
          ],
          "x": 0.1,
          "xanchor": "left",
          "y": 0,
          "yanchor": "top"
         }
        ],
        "template": {
         "data": {
          "bar": [
           {
            "error_x": {
             "color": "#2a3f5f"
            },
            "error_y": {
             "color": "#2a3f5f"
            },
            "marker": {
             "line": {
              "color": "#E5ECF6",
              "width": 0.5
             }
            },
            "type": "bar"
           }
          ],
          "barpolar": [
           {
            "marker": {
             "line": {
              "color": "#E5ECF6",
              "width": 0.5
             }
            },
            "type": "barpolar"
           }
          ],
          "carpet": [
           {
            "aaxis": {
             "endlinecolor": "#2a3f5f",
             "gridcolor": "white",
             "linecolor": "white",
             "minorgridcolor": "white",
             "startlinecolor": "#2a3f5f"
            },
            "baxis": {
             "endlinecolor": "#2a3f5f",
             "gridcolor": "white",
             "linecolor": "white",
             "minorgridcolor": "white",
             "startlinecolor": "#2a3f5f"
            },
            "type": "carpet"
           }
          ],
          "choropleth": [
           {
            "colorbar": {
             "outlinewidth": 0,
             "ticks": ""
            },
            "type": "choropleth"
           }
          ],
          "contour": [
           {
            "colorbar": {
             "outlinewidth": 0,
             "ticks": ""
            },
            "colorscale": [
             [
              0,
              "#0d0887"
             ],
             [
              0.1111111111111111,
              "#46039f"
             ],
             [
              0.2222222222222222,
              "#7201a8"
             ],
             [
              0.3333333333333333,
              "#9c179e"
             ],
             [
              0.4444444444444444,
              "#bd3786"
             ],
             [
              0.5555555555555556,
              "#d8576b"
             ],
             [
              0.6666666666666666,
              "#ed7953"
             ],
             [
              0.7777777777777778,
              "#fb9f3a"
             ],
             [
              0.8888888888888888,
              "#fdca26"
             ],
             [
              1,
              "#f0f921"
             ]
            ],
            "type": "contour"
           }
          ],
          "contourcarpet": [
           {
            "colorbar": {
             "outlinewidth": 0,
             "ticks": ""
            },
            "type": "contourcarpet"
           }
          ],
          "heatmap": [
           {
            "colorbar": {
             "outlinewidth": 0,
             "ticks": ""
            },
            "colorscale": [
             [
              0,
              "#0d0887"
             ],
             [
              0.1111111111111111,
              "#46039f"
             ],
             [
              0.2222222222222222,
              "#7201a8"
             ],
             [
              0.3333333333333333,
              "#9c179e"
             ],
             [
              0.4444444444444444,
              "#bd3786"
             ],
             [
              0.5555555555555556,
              "#d8576b"
             ],
             [
              0.6666666666666666,
              "#ed7953"
             ],
             [
              0.7777777777777778,
              "#fb9f3a"
             ],
             [
              0.8888888888888888,
              "#fdca26"
             ],
             [
              1,
              "#f0f921"
             ]
            ],
            "type": "heatmap"
           }
          ],
          "heatmapgl": [
           {
            "colorbar": {
             "outlinewidth": 0,
             "ticks": ""
            },
            "colorscale": [
             [
              0,
              "#0d0887"
             ],
             [
              0.1111111111111111,
              "#46039f"
             ],
             [
              0.2222222222222222,
              "#7201a8"
             ],
             [
              0.3333333333333333,
              "#9c179e"
             ],
             [
              0.4444444444444444,
              "#bd3786"
             ],
             [
              0.5555555555555556,
              "#d8576b"
             ],
             [
              0.6666666666666666,
              "#ed7953"
             ],
             [
              0.7777777777777778,
              "#fb9f3a"
             ],
             [
              0.8888888888888888,
              "#fdca26"
             ],
             [
              1,
              "#f0f921"
             ]
            ],
            "type": "heatmapgl"
           }
          ],
          "histogram": [
           {
            "marker": {
             "colorbar": {
              "outlinewidth": 0,
              "ticks": ""
             }
            },
            "type": "histogram"
           }
          ],
          "histogram2d": [
           {
            "colorbar": {
             "outlinewidth": 0,
             "ticks": ""
            },
            "colorscale": [
             [
              0,
              "#0d0887"
             ],
             [
              0.1111111111111111,
              "#46039f"
             ],
             [
              0.2222222222222222,
              "#7201a8"
             ],
             [
              0.3333333333333333,
              "#9c179e"
             ],
             [
              0.4444444444444444,
              "#bd3786"
             ],
             [
              0.5555555555555556,
              "#d8576b"
             ],
             [
              0.6666666666666666,
              "#ed7953"
             ],
             [
              0.7777777777777778,
              "#fb9f3a"
             ],
             [
              0.8888888888888888,
              "#fdca26"
             ],
             [
              1,
              "#f0f921"
             ]
            ],
            "type": "histogram2d"
           }
          ],
          "histogram2dcontour": [
           {
            "colorbar": {
             "outlinewidth": 0,
             "ticks": ""
            },
            "colorscale": [
             [
              0,
              "#0d0887"
             ],
             [
              0.1111111111111111,
              "#46039f"
             ],
             [
              0.2222222222222222,
              "#7201a8"
             ],
             [
              0.3333333333333333,
              "#9c179e"
             ],
             [
              0.4444444444444444,
              "#bd3786"
             ],
             [
              0.5555555555555556,
              "#d8576b"
             ],
             [
              0.6666666666666666,
              "#ed7953"
             ],
             [
              0.7777777777777778,
              "#fb9f3a"
             ],
             [
              0.8888888888888888,
              "#fdca26"
             ],
             [
              1,
              "#f0f921"
             ]
            ],
            "type": "histogram2dcontour"
           }
          ],
          "mesh3d": [
           {
            "colorbar": {
             "outlinewidth": 0,
             "ticks": ""
            },
            "type": "mesh3d"
           }
          ],
          "parcoords": [
           {
            "line": {
             "colorbar": {
              "outlinewidth": 0,
              "ticks": ""
             }
            },
            "type": "parcoords"
           }
          ],
          "pie": [
           {
            "automargin": true,
            "type": "pie"
           }
          ],
          "scatter": [
           {
            "marker": {
             "colorbar": {
              "outlinewidth": 0,
              "ticks": ""
             }
            },
            "type": "scatter"
           }
          ],
          "scatter3d": [
           {
            "line": {
             "colorbar": {
              "outlinewidth": 0,
              "ticks": ""
             }
            },
            "marker": {
             "colorbar": {
              "outlinewidth": 0,
              "ticks": ""
             }
            },
            "type": "scatter3d"
           }
          ],
          "scattercarpet": [
           {
            "marker": {
             "colorbar": {
              "outlinewidth": 0,
              "ticks": ""
             }
            },
            "type": "scattercarpet"
           }
          ],
          "scattergeo": [
           {
            "marker": {
             "colorbar": {
              "outlinewidth": 0,
              "ticks": ""
             }
            },
            "type": "scattergeo"
           }
          ],
          "scattergl": [
           {
            "marker": {
             "colorbar": {
              "outlinewidth": 0,
              "ticks": ""
             }
            },
            "type": "scattergl"
           }
          ],
          "scattermapbox": [
           {
            "marker": {
             "colorbar": {
              "outlinewidth": 0,
              "ticks": ""
             }
            },
            "type": "scattermapbox"
           }
          ],
          "scatterpolar": [
           {
            "marker": {
             "colorbar": {
              "outlinewidth": 0,
              "ticks": ""
             }
            },
            "type": "scatterpolar"
           }
          ],
          "scatterpolargl": [
           {
            "marker": {
             "colorbar": {
              "outlinewidth": 0,
              "ticks": ""
             }
            },
            "type": "scatterpolargl"
           }
          ],
          "scatterternary": [
           {
            "marker": {
             "colorbar": {
              "outlinewidth": 0,
              "ticks": ""
             }
            },
            "type": "scatterternary"
           }
          ],
          "surface": [
           {
            "colorbar": {
             "outlinewidth": 0,
             "ticks": ""
            },
            "colorscale": [
             [
              0,
              "#0d0887"
             ],
             [
              0.1111111111111111,
              "#46039f"
             ],
             [
              0.2222222222222222,
              "#7201a8"
             ],
             [
              0.3333333333333333,
              "#9c179e"
             ],
             [
              0.4444444444444444,
              "#bd3786"
             ],
             [
              0.5555555555555556,
              "#d8576b"
             ],
             [
              0.6666666666666666,
              "#ed7953"
             ],
             [
              0.7777777777777778,
              "#fb9f3a"
             ],
             [
              0.8888888888888888,
              "#fdca26"
             ],
             [
              1,
              "#f0f921"
             ]
            ],
            "type": "surface"
           }
          ],
          "table": [
           {
            "cells": {
             "fill": {
              "color": "#EBF0F8"
             },
             "line": {
              "color": "white"
             }
            },
            "header": {
             "fill": {
              "color": "#C8D4E3"
             },
             "line": {
              "color": "white"
             }
            },
            "type": "table"
           }
          ]
         },
         "layout": {
          "annotationdefaults": {
           "arrowcolor": "#2a3f5f",
           "arrowhead": 0,
           "arrowwidth": 1
          },
          "coloraxis": {
           "colorbar": {
            "outlinewidth": 0,
            "ticks": ""
           }
          },
          "colorscale": {
           "diverging": [
            [
             0,
             "#8e0152"
            ],
            [
             0.1,
             "#c51b7d"
            ],
            [
             0.2,
             "#de77ae"
            ],
            [
             0.3,
             "#f1b6da"
            ],
            [
             0.4,
             "#fde0ef"
            ],
            [
             0.5,
             "#f7f7f7"
            ],
            [
             0.6,
             "#e6f5d0"
            ],
            [
             0.7,
             "#b8e186"
            ],
            [
             0.8,
             "#7fbc41"
            ],
            [
             0.9,
             "#4d9221"
            ],
            [
             1,
             "#276419"
            ]
           ],
           "sequential": [
            [
             0,
             "#0d0887"
            ],
            [
             0.1111111111111111,
             "#46039f"
            ],
            [
             0.2222222222222222,
             "#7201a8"
            ],
            [
             0.3333333333333333,
             "#9c179e"
            ],
            [
             0.4444444444444444,
             "#bd3786"
            ],
            [
             0.5555555555555556,
             "#d8576b"
            ],
            [
             0.6666666666666666,
             "#ed7953"
            ],
            [
             0.7777777777777778,
             "#fb9f3a"
            ],
            [
             0.8888888888888888,
             "#fdca26"
            ],
            [
             1,
             "#f0f921"
            ]
           ],
           "sequentialminus": [
            [
             0,
             "#0d0887"
            ],
            [
             0.1111111111111111,
             "#46039f"
            ],
            [
             0.2222222222222222,
             "#7201a8"
            ],
            [
             0.3333333333333333,
             "#9c179e"
            ],
            [
             0.4444444444444444,
             "#bd3786"
            ],
            [
             0.5555555555555556,
             "#d8576b"
            ],
            [
             0.6666666666666666,
             "#ed7953"
            ],
            [
             0.7777777777777778,
             "#fb9f3a"
            ],
            [
             0.8888888888888888,
             "#fdca26"
            ],
            [
             1,
             "#f0f921"
            ]
           ]
          },
          "colorway": [
           "#636efa",
           "#EF553B",
           "#00cc96",
           "#ab63fa",
           "#FFA15A",
           "#19d3f3",
           "#FF6692",
           "#B6E880",
           "#FF97FF",
           "#FECB52"
          ],
          "font": {
           "color": "#2a3f5f"
          },
          "geo": {
           "bgcolor": "white",
           "lakecolor": "white",
           "landcolor": "#E5ECF6",
           "showlakes": true,
           "showland": true,
           "subunitcolor": "white"
          },
          "hoverlabel": {
           "align": "left"
          },
          "hovermode": "closest",
          "mapbox": {
           "style": "light"
          },
          "paper_bgcolor": "white",
          "plot_bgcolor": "#E5ECF6",
          "polar": {
           "angularaxis": {
            "gridcolor": "white",
            "linecolor": "white",
            "ticks": ""
           },
           "bgcolor": "#E5ECF6",
           "radialaxis": {
            "gridcolor": "white",
            "linecolor": "white",
            "ticks": ""
           }
          },
          "scene": {
           "xaxis": {
            "backgroundcolor": "#E5ECF6",
            "gridcolor": "white",
            "gridwidth": 2,
            "linecolor": "white",
            "showbackground": true,
            "ticks": "",
            "zerolinecolor": "white"
           },
           "yaxis": {
            "backgroundcolor": "#E5ECF6",
            "gridcolor": "white",
            "gridwidth": 2,
            "linecolor": "white",
            "showbackground": true,
            "ticks": "",
            "zerolinecolor": "white"
           },
           "zaxis": {
            "backgroundcolor": "#E5ECF6",
            "gridcolor": "white",
            "gridwidth": 2,
            "linecolor": "white",
            "showbackground": true,
            "ticks": "",
            "zerolinecolor": "white"
           }
          },
          "shapedefaults": {
           "line": {
            "color": "#2a3f5f"
           }
          },
          "ternary": {
           "aaxis": {
            "gridcolor": "white",
            "linecolor": "white",
            "ticks": ""
           },
           "baxis": {
            "gridcolor": "white",
            "linecolor": "white",
            "ticks": ""
           },
           "bgcolor": "#E5ECF6",
           "caxis": {
            "gridcolor": "white",
            "linecolor": "white",
            "ticks": ""
           }
          },
          "title": {
           "x": 0.05
          },
          "xaxis": {
           "automargin": true,
           "gridcolor": "white",
           "linecolor": "white",
           "ticks": "",
           "title": {
            "standoff": 15
           },
           "zerolinecolor": "white",
           "zerolinewidth": 2
          },
          "yaxis": {
           "automargin": true,
           "gridcolor": "white",
           "linecolor": "white",
           "ticks": "",
           "title": {
            "standoff": 15
           },
           "zerolinecolor": "white",
           "zerolinewidth": 2
          }
         }
        },
        "updatemenus": [
         {
          "buttons": [
           {
            "args": [
             null,
             {
              "frame": {
               "duration": 500,
               "redraw": true
              },
              "fromcurrent": true,
              "mode": "immediate",
              "transition": {
               "duration": 500,
               "easing": "linear"
              }
             }
            ],
            "label": "&#9654;",
            "method": "animate"
           },
           {
            "args": [
             [
              null
             ],
             {
              "frame": {
               "duration": 0,
               "redraw": true
              },
              "fromcurrent": true,
              "mode": "immediate",
              "transition": {
               "duration": 0,
               "easing": "linear"
              }
             }
            ],
            "label": "&#9724;",
            "method": "animate"
           }
          ],
          "direction": "left",
          "pad": {
           "r": 10,
           "t": 70
          },
          "showactive": false,
          "type": "buttons",
          "x": 0.1,
          "xanchor": "right",
          "y": 0,
          "yanchor": "top"
         }
        ],
        "xaxis": {
         "anchor": "y",
         "categoryarray": [
          "Johns Hopkins University"
         ],
         "categoryorder": "array",
         "domain": [
          0,
          1
         ],
         "title": {
          "text": "INSTNM"
         }
        },
        "yaxis": {
         "anchor": "x",
         "domain": [
          0,
          1
         ],
         "title": {
          "text": "TUITIONFEE_IN"
         }
        }
       }
      },
      "text/html": [
       "<div>\n",
       "        \n",
       "        \n",
       "            <div id=\"9d75081d-95b7-4a8f-a9a4-4ed02e515af2\" class=\"plotly-graph-div\" style=\"height:525px; width:100%;\"></div>\n",
       "            <script type=\"text/javascript\">\n",
       "                require([\"plotly\"], function(Plotly) {\n",
       "                    window.PLOTLYENV=window.PLOTLYENV || {};\n",
       "                    \n",
       "                if (document.getElementById(\"9d75081d-95b7-4a8f-a9a4-4ed02e515af2\")) {\n",
       "                    Plotly.newPlot(\n",
       "                        '9d75081d-95b7-4a8f-a9a4-4ed02e515af2',\n",
       "                        [{\"alignmentgroup\": \"True\", \"hovertemplate\": \"INSTNM=%{x}<br>Year=1996<br>TUITIONFEE_IN=%{y}<extra></extra>\", \"legendgroup\": \"Johns Hopkins University\", \"marker\": {\"color\": \"#636efa\"}, \"name\": \"Johns Hopkins University\", \"offsetgroup\": \"Johns Hopkins University\", \"orientation\": \"v\", \"showlegend\": true, \"textposition\": \"auto\", \"type\": \"bar\", \"x\": [\"Johns Hopkins University\"], \"xaxis\": \"x\", \"y\": [null], \"yaxis\": \"y\"}],\n",
       "                        {\"barmode\": \"relative\", \"legend\": {\"title\": {\"text\": \"INSTNM\"}, \"tracegroupgap\": 0}, \"margin\": {\"t\": 60}, \"sliders\": [{\"active\": 0, \"currentvalue\": {\"prefix\": \"Year=\"}, \"len\": 0.9, \"pad\": {\"b\": 10, \"t\": 60}, \"steps\": [{\"args\": [[\"1996\"], {\"frame\": {\"duration\": 0, \"redraw\": true}, \"fromcurrent\": true, \"mode\": \"immediate\", \"transition\": {\"duration\": 0, \"easing\": \"linear\"}}], \"label\": \"1996\", \"method\": \"animate\"}, {\"args\": [[\"1997\"], {\"frame\": {\"duration\": 0, \"redraw\": true}, \"fromcurrent\": true, \"mode\": \"immediate\", \"transition\": {\"duration\": 0, \"easing\": \"linear\"}}], \"label\": \"1997\", \"method\": \"animate\"}, {\"args\": [[\"1998\"], {\"frame\": {\"duration\": 0, \"redraw\": true}, \"fromcurrent\": true, \"mode\": \"immediate\", \"transition\": {\"duration\": 0, \"easing\": \"linear\"}}], \"label\": \"1998\", \"method\": \"animate\"}, {\"args\": [[\"1999\"], {\"frame\": {\"duration\": 0, \"redraw\": true}, \"fromcurrent\": true, \"mode\": \"immediate\", \"transition\": {\"duration\": 0, \"easing\": \"linear\"}}], \"label\": \"1999\", \"method\": \"animate\"}, {\"args\": [[\"2000\"], {\"frame\": {\"duration\": 0, \"redraw\": true}, \"fromcurrent\": true, \"mode\": \"immediate\", \"transition\": {\"duration\": 0, \"easing\": \"linear\"}}], \"label\": \"2000\", \"method\": \"animate\"}, {\"args\": [[\"2001\"], {\"frame\": {\"duration\": 0, \"redraw\": true}, \"fromcurrent\": true, \"mode\": \"immediate\", \"transition\": {\"duration\": 0, \"easing\": \"linear\"}}], \"label\": \"2001\", \"method\": \"animate\"}, {\"args\": [[\"2002\"], {\"frame\": {\"duration\": 0, \"redraw\": true}, \"fromcurrent\": true, \"mode\": \"immediate\", \"transition\": {\"duration\": 0, \"easing\": \"linear\"}}], \"label\": \"2002\", \"method\": \"animate\"}, {\"args\": [[\"2003\"], {\"frame\": {\"duration\": 0, \"redraw\": true}, \"fromcurrent\": true, \"mode\": \"immediate\", \"transition\": {\"duration\": 0, \"easing\": \"linear\"}}], \"label\": \"2003\", \"method\": \"animate\"}, {\"args\": [[\"2004\"], {\"frame\": {\"duration\": 0, \"redraw\": true}, \"fromcurrent\": true, \"mode\": \"immediate\", \"transition\": {\"duration\": 0, \"easing\": \"linear\"}}], \"label\": \"2004\", \"method\": \"animate\"}, {\"args\": [[\"2005\"], {\"frame\": {\"duration\": 0, \"redraw\": true}, \"fromcurrent\": true, \"mode\": \"immediate\", \"transition\": {\"duration\": 0, \"easing\": \"linear\"}}], \"label\": \"2005\", \"method\": \"animate\"}, {\"args\": [[\"2006\"], {\"frame\": {\"duration\": 0, \"redraw\": true}, \"fromcurrent\": true, \"mode\": \"immediate\", \"transition\": {\"duration\": 0, \"easing\": \"linear\"}}], \"label\": \"2006\", \"method\": \"animate\"}, {\"args\": [[\"2007\"], {\"frame\": {\"duration\": 0, \"redraw\": true}, \"fromcurrent\": true, \"mode\": \"immediate\", \"transition\": {\"duration\": 0, \"easing\": \"linear\"}}], \"label\": \"2007\", \"method\": \"animate\"}, {\"args\": [[\"2008\"], {\"frame\": {\"duration\": 0, \"redraw\": true}, \"fromcurrent\": true, \"mode\": \"immediate\", \"transition\": {\"duration\": 0, \"easing\": \"linear\"}}], \"label\": \"2008\", \"method\": \"animate\"}, {\"args\": [[\"2009\"], {\"frame\": {\"duration\": 0, \"redraw\": true}, \"fromcurrent\": true, \"mode\": \"immediate\", \"transition\": {\"duration\": 0, \"easing\": \"linear\"}}], \"label\": \"2009\", \"method\": \"animate\"}, {\"args\": [[\"2010\"], {\"frame\": {\"duration\": 0, \"redraw\": true}, \"fromcurrent\": true, \"mode\": \"immediate\", \"transition\": {\"duration\": 0, \"easing\": \"linear\"}}], \"label\": \"2010\", \"method\": \"animate\"}, {\"args\": [[\"2011\"], {\"frame\": {\"duration\": 0, \"redraw\": true}, \"fromcurrent\": true, \"mode\": \"immediate\", \"transition\": {\"duration\": 0, \"easing\": \"linear\"}}], \"label\": \"2011\", \"method\": \"animate\"}, {\"args\": [[\"2012\"], {\"frame\": {\"duration\": 0, \"redraw\": true}, \"fromcurrent\": true, \"mode\": \"immediate\", \"transition\": {\"duration\": 0, \"easing\": \"linear\"}}], \"label\": \"2012\", \"method\": \"animate\"}, {\"args\": [[\"2013\"], {\"frame\": {\"duration\": 0, \"redraw\": true}, \"fromcurrent\": true, \"mode\": \"immediate\", \"transition\": {\"duration\": 0, \"easing\": \"linear\"}}], \"label\": \"2013\", \"method\": \"animate\"}, {\"args\": [[\"2014\"], {\"frame\": {\"duration\": 0, \"redraw\": true}, \"fromcurrent\": true, \"mode\": \"immediate\", \"transition\": {\"duration\": 0, \"easing\": \"linear\"}}], \"label\": \"2014\", \"method\": \"animate\"}, {\"args\": [[\"2015\"], {\"frame\": {\"duration\": 0, \"redraw\": true}, \"fromcurrent\": true, \"mode\": \"immediate\", \"transition\": {\"duration\": 0, \"easing\": \"linear\"}}], \"label\": \"2015\", \"method\": \"animate\"}, {\"args\": [[\"2016\"], {\"frame\": {\"duration\": 0, \"redraw\": true}, \"fromcurrent\": true, \"mode\": \"immediate\", \"transition\": {\"duration\": 0, \"easing\": \"linear\"}}], \"label\": \"2016\", \"method\": \"animate\"}, {\"args\": [[\"2017\"], {\"frame\": {\"duration\": 0, \"redraw\": true}, \"fromcurrent\": true, \"mode\": \"immediate\", \"transition\": {\"duration\": 0, \"easing\": \"linear\"}}], \"label\": \"2017\", \"method\": \"animate\"}, {\"args\": [[\"2018\"], {\"frame\": {\"duration\": 0, \"redraw\": true}, \"fromcurrent\": true, \"mode\": \"immediate\", \"transition\": {\"duration\": 0, \"easing\": \"linear\"}}], \"label\": \"2018\", \"method\": \"animate\"}], \"x\": 0.1, \"xanchor\": \"left\", \"y\": 0, \"yanchor\": \"top\"}], \"template\": {\"data\": {\"bar\": [{\"error_x\": {\"color\": \"#2a3f5f\"}, \"error_y\": {\"color\": \"#2a3f5f\"}, \"marker\": {\"line\": {\"color\": \"#E5ECF6\", \"width\": 0.5}}, \"type\": \"bar\"}], \"barpolar\": [{\"marker\": {\"line\": {\"color\": \"#E5ECF6\", \"width\": 0.5}}, \"type\": \"barpolar\"}], \"carpet\": [{\"aaxis\": {\"endlinecolor\": \"#2a3f5f\", \"gridcolor\": \"white\", \"linecolor\": \"white\", \"minorgridcolor\": \"white\", \"startlinecolor\": \"#2a3f5f\"}, \"baxis\": {\"endlinecolor\": \"#2a3f5f\", \"gridcolor\": \"white\", \"linecolor\": \"white\", \"minorgridcolor\": \"white\", \"startlinecolor\": \"#2a3f5f\"}, \"type\": \"carpet\"}], \"choropleth\": [{\"colorbar\": {\"outlinewidth\": 0, \"ticks\": \"\"}, \"type\": \"choropleth\"}], \"contour\": [{\"colorbar\": {\"outlinewidth\": 0, \"ticks\": \"\"}, \"colorscale\": [[0.0, \"#0d0887\"], [0.1111111111111111, \"#46039f\"], [0.2222222222222222, \"#7201a8\"], [0.3333333333333333, \"#9c179e\"], [0.4444444444444444, \"#bd3786\"], [0.5555555555555556, \"#d8576b\"], [0.6666666666666666, \"#ed7953\"], [0.7777777777777778, \"#fb9f3a\"], [0.8888888888888888, \"#fdca26\"], [1.0, \"#f0f921\"]], \"type\": \"contour\"}], \"contourcarpet\": [{\"colorbar\": {\"outlinewidth\": 0, \"ticks\": \"\"}, \"type\": \"contourcarpet\"}], \"heatmap\": [{\"colorbar\": {\"outlinewidth\": 0, \"ticks\": \"\"}, \"colorscale\": [[0.0, \"#0d0887\"], [0.1111111111111111, \"#46039f\"], [0.2222222222222222, \"#7201a8\"], [0.3333333333333333, \"#9c179e\"], [0.4444444444444444, \"#bd3786\"], [0.5555555555555556, \"#d8576b\"], [0.6666666666666666, \"#ed7953\"], [0.7777777777777778, \"#fb9f3a\"], [0.8888888888888888, \"#fdca26\"], [1.0, \"#f0f921\"]], \"type\": \"heatmap\"}], \"heatmapgl\": [{\"colorbar\": {\"outlinewidth\": 0, \"ticks\": \"\"}, \"colorscale\": [[0.0, \"#0d0887\"], [0.1111111111111111, \"#46039f\"], [0.2222222222222222, \"#7201a8\"], [0.3333333333333333, \"#9c179e\"], [0.4444444444444444, \"#bd3786\"], [0.5555555555555556, \"#d8576b\"], [0.6666666666666666, \"#ed7953\"], [0.7777777777777778, \"#fb9f3a\"], [0.8888888888888888, \"#fdca26\"], [1.0, \"#f0f921\"]], \"type\": \"heatmapgl\"}], \"histogram\": [{\"marker\": {\"colorbar\": {\"outlinewidth\": 0, \"ticks\": \"\"}}, \"type\": \"histogram\"}], \"histogram2d\": [{\"colorbar\": {\"outlinewidth\": 0, \"ticks\": \"\"}, \"colorscale\": [[0.0, \"#0d0887\"], [0.1111111111111111, \"#46039f\"], [0.2222222222222222, \"#7201a8\"], [0.3333333333333333, \"#9c179e\"], [0.4444444444444444, \"#bd3786\"], [0.5555555555555556, \"#d8576b\"], [0.6666666666666666, \"#ed7953\"], [0.7777777777777778, \"#fb9f3a\"], [0.8888888888888888, \"#fdca26\"], [1.0, \"#f0f921\"]], \"type\": \"histogram2d\"}], \"histogram2dcontour\": [{\"colorbar\": {\"outlinewidth\": 0, \"ticks\": \"\"}, \"colorscale\": [[0.0, \"#0d0887\"], [0.1111111111111111, \"#46039f\"], [0.2222222222222222, \"#7201a8\"], [0.3333333333333333, \"#9c179e\"], [0.4444444444444444, \"#bd3786\"], [0.5555555555555556, \"#d8576b\"], [0.6666666666666666, \"#ed7953\"], [0.7777777777777778, \"#fb9f3a\"], [0.8888888888888888, \"#fdca26\"], [1.0, \"#f0f921\"]], \"type\": \"histogram2dcontour\"}], \"mesh3d\": [{\"colorbar\": {\"outlinewidth\": 0, \"ticks\": \"\"}, \"type\": \"mesh3d\"}], \"parcoords\": [{\"line\": {\"colorbar\": {\"outlinewidth\": 0, \"ticks\": \"\"}}, \"type\": \"parcoords\"}], \"pie\": [{\"automargin\": true, \"type\": \"pie\"}], \"scatter\": [{\"marker\": {\"colorbar\": {\"outlinewidth\": 0, \"ticks\": \"\"}}, \"type\": \"scatter\"}], \"scatter3d\": [{\"line\": {\"colorbar\": {\"outlinewidth\": 0, \"ticks\": \"\"}}, \"marker\": {\"colorbar\": {\"outlinewidth\": 0, \"ticks\": \"\"}}, \"type\": \"scatter3d\"}], \"scattercarpet\": [{\"marker\": {\"colorbar\": {\"outlinewidth\": 0, \"ticks\": \"\"}}, \"type\": \"scattercarpet\"}], \"scattergeo\": [{\"marker\": {\"colorbar\": {\"outlinewidth\": 0, \"ticks\": \"\"}}, \"type\": \"scattergeo\"}], \"scattergl\": [{\"marker\": {\"colorbar\": {\"outlinewidth\": 0, \"ticks\": \"\"}}, \"type\": \"scattergl\"}], \"scattermapbox\": [{\"marker\": {\"colorbar\": {\"outlinewidth\": 0, \"ticks\": \"\"}}, \"type\": \"scattermapbox\"}], \"scatterpolar\": [{\"marker\": {\"colorbar\": {\"outlinewidth\": 0, \"ticks\": \"\"}}, \"type\": \"scatterpolar\"}], \"scatterpolargl\": [{\"marker\": {\"colorbar\": {\"outlinewidth\": 0, \"ticks\": \"\"}}, \"type\": \"scatterpolargl\"}], \"scatterternary\": [{\"marker\": {\"colorbar\": {\"outlinewidth\": 0, \"ticks\": \"\"}}, \"type\": \"scatterternary\"}], \"surface\": [{\"colorbar\": {\"outlinewidth\": 0, \"ticks\": \"\"}, \"colorscale\": [[0.0, \"#0d0887\"], [0.1111111111111111, \"#46039f\"], [0.2222222222222222, \"#7201a8\"], [0.3333333333333333, \"#9c179e\"], [0.4444444444444444, \"#bd3786\"], [0.5555555555555556, \"#d8576b\"], [0.6666666666666666, \"#ed7953\"], [0.7777777777777778, \"#fb9f3a\"], [0.8888888888888888, \"#fdca26\"], [1.0, \"#f0f921\"]], \"type\": \"surface\"}], \"table\": [{\"cells\": {\"fill\": {\"color\": \"#EBF0F8\"}, \"line\": {\"color\": \"white\"}}, \"header\": {\"fill\": {\"color\": \"#C8D4E3\"}, \"line\": {\"color\": \"white\"}}, \"type\": \"table\"}]}, \"layout\": {\"annotationdefaults\": {\"arrowcolor\": \"#2a3f5f\", \"arrowhead\": 0, \"arrowwidth\": 1}, \"coloraxis\": {\"colorbar\": {\"outlinewidth\": 0, \"ticks\": \"\"}}, \"colorscale\": {\"diverging\": [[0, \"#8e0152\"], [0.1, \"#c51b7d\"], [0.2, \"#de77ae\"], [0.3, \"#f1b6da\"], [0.4, \"#fde0ef\"], [0.5, \"#f7f7f7\"], [0.6, \"#e6f5d0\"], [0.7, \"#b8e186\"], [0.8, \"#7fbc41\"], [0.9, \"#4d9221\"], [1, \"#276419\"]], \"sequential\": [[0.0, \"#0d0887\"], [0.1111111111111111, \"#46039f\"], [0.2222222222222222, \"#7201a8\"], [0.3333333333333333, \"#9c179e\"], [0.4444444444444444, \"#bd3786\"], [0.5555555555555556, \"#d8576b\"], [0.6666666666666666, \"#ed7953\"], [0.7777777777777778, \"#fb9f3a\"], [0.8888888888888888, \"#fdca26\"], [1.0, \"#f0f921\"]], \"sequentialminus\": [[0.0, \"#0d0887\"], [0.1111111111111111, \"#46039f\"], [0.2222222222222222, \"#7201a8\"], [0.3333333333333333, \"#9c179e\"], [0.4444444444444444, \"#bd3786\"], [0.5555555555555556, \"#d8576b\"], [0.6666666666666666, \"#ed7953\"], [0.7777777777777778, \"#fb9f3a\"], [0.8888888888888888, \"#fdca26\"], [1.0, \"#f0f921\"]]}, \"colorway\": [\"#636efa\", \"#EF553B\", \"#00cc96\", \"#ab63fa\", \"#FFA15A\", \"#19d3f3\", \"#FF6692\", \"#B6E880\", \"#FF97FF\", \"#FECB52\"], \"font\": {\"color\": \"#2a3f5f\"}, \"geo\": {\"bgcolor\": \"white\", \"lakecolor\": \"white\", \"landcolor\": \"#E5ECF6\", \"showlakes\": true, \"showland\": true, \"subunitcolor\": \"white\"}, \"hoverlabel\": {\"align\": \"left\"}, \"hovermode\": \"closest\", \"mapbox\": {\"style\": \"light\"}, \"paper_bgcolor\": \"white\", \"plot_bgcolor\": \"#E5ECF6\", \"polar\": {\"angularaxis\": {\"gridcolor\": \"white\", \"linecolor\": \"white\", \"ticks\": \"\"}, \"bgcolor\": \"#E5ECF6\", \"radialaxis\": {\"gridcolor\": \"white\", \"linecolor\": \"white\", \"ticks\": \"\"}}, \"scene\": {\"xaxis\": {\"backgroundcolor\": \"#E5ECF6\", \"gridcolor\": \"white\", \"gridwidth\": 2, \"linecolor\": \"white\", \"showbackground\": true, \"ticks\": \"\", \"zerolinecolor\": \"white\"}, \"yaxis\": {\"backgroundcolor\": \"#E5ECF6\", \"gridcolor\": \"white\", \"gridwidth\": 2, \"linecolor\": \"white\", \"showbackground\": true, \"ticks\": \"\", \"zerolinecolor\": \"white\"}, \"zaxis\": {\"backgroundcolor\": \"#E5ECF6\", \"gridcolor\": \"white\", \"gridwidth\": 2, \"linecolor\": \"white\", \"showbackground\": true, \"ticks\": \"\", \"zerolinecolor\": \"white\"}}, \"shapedefaults\": {\"line\": {\"color\": \"#2a3f5f\"}}, \"ternary\": {\"aaxis\": {\"gridcolor\": \"white\", \"linecolor\": \"white\", \"ticks\": \"\"}, \"baxis\": {\"gridcolor\": \"white\", \"linecolor\": \"white\", \"ticks\": \"\"}, \"bgcolor\": \"#E5ECF6\", \"caxis\": {\"gridcolor\": \"white\", \"linecolor\": \"white\", \"ticks\": \"\"}}, \"title\": {\"x\": 0.05}, \"xaxis\": {\"automargin\": true, \"gridcolor\": \"white\", \"linecolor\": \"white\", \"ticks\": \"\", \"title\": {\"standoff\": 15}, \"zerolinecolor\": \"white\", \"zerolinewidth\": 2}, \"yaxis\": {\"automargin\": true, \"gridcolor\": \"white\", \"linecolor\": \"white\", \"ticks\": \"\", \"title\": {\"standoff\": 15}, \"zerolinecolor\": \"white\", \"zerolinewidth\": 2}}}, \"updatemenus\": [{\"buttons\": [{\"args\": [null, {\"frame\": {\"duration\": 500, \"redraw\": true}, \"fromcurrent\": true, \"mode\": \"immediate\", \"transition\": {\"duration\": 500, \"easing\": \"linear\"}}], \"label\": \"&#9654;\", \"method\": \"animate\"}, {\"args\": [[null], {\"frame\": {\"duration\": 0, \"redraw\": true}, \"fromcurrent\": true, \"mode\": \"immediate\", \"transition\": {\"duration\": 0, \"easing\": \"linear\"}}], \"label\": \"&#9724;\", \"method\": \"animate\"}], \"direction\": \"left\", \"pad\": {\"r\": 10, \"t\": 70}, \"showactive\": false, \"type\": \"buttons\", \"x\": 0.1, \"xanchor\": \"right\", \"y\": 0, \"yanchor\": \"top\"}], \"xaxis\": {\"anchor\": \"y\", \"categoryarray\": [\"Johns Hopkins University\"], \"categoryorder\": \"array\", \"domain\": [0.0, 1.0], \"title\": {\"text\": \"INSTNM\"}}, \"yaxis\": {\"anchor\": \"x\", \"domain\": [0.0, 1.0], \"title\": {\"text\": \"TUITIONFEE_IN\"}}},\n",
       "                        {\"responsive\": true}\n",
       "                    ).then(function(){\n",
       "                            Plotly.addFrames('9d75081d-95b7-4a8f-a9a4-4ed02e515af2', [{\"data\": [{\"alignmentgroup\": \"True\", \"hovertemplate\": \"INSTNM=%{x}<br>Year=1996<br>TUITIONFEE_IN=%{y}<extra></extra>\", \"legendgroup\": \"Johns Hopkins University\", \"marker\": {\"color\": \"#636efa\"}, \"name\": \"Johns Hopkins University\", \"offsetgroup\": \"Johns Hopkins University\", \"orientation\": \"v\", \"showlegend\": true, \"textposition\": \"auto\", \"x\": [\"Johns Hopkins University\"], \"xaxis\": \"x\", \"y\": [null], \"yaxis\": \"y\", \"type\": \"bar\"}], \"name\": \"1996\"}, {\"data\": [{\"alignmentgroup\": \"True\", \"hovertemplate\": \"INSTNM=%{x}<br>Year=1997<br>TUITIONFEE_IN=%{y}<extra></extra>\", \"legendgroup\": \"Johns Hopkins University\", \"marker\": {\"color\": \"#636efa\"}, \"name\": \"Johns Hopkins University\", \"offsetgroup\": \"Johns Hopkins University\", \"orientation\": \"v\", \"showlegend\": true, \"textposition\": \"auto\", \"x\": [\"Johns Hopkins University\"], \"xaxis\": \"x\", \"y\": [null], \"yaxis\": \"y\", \"type\": \"bar\"}], \"name\": \"1997\"}, {\"data\": [{\"alignmentgroup\": \"True\", \"hovertemplate\": \"INSTNM=%{x}<br>Year=1998<br>TUITIONFEE_IN=%{y}<extra></extra>\", \"legendgroup\": \"Johns Hopkins University\", \"marker\": {\"color\": \"#636efa\"}, \"name\": \"Johns Hopkins University\", \"offsetgroup\": \"Johns Hopkins University\", \"orientation\": \"v\", \"showlegend\": true, \"textposition\": \"auto\", \"x\": [\"Johns Hopkins University\"], \"xaxis\": \"x\", \"y\": [null], \"yaxis\": \"y\", \"type\": \"bar\"}], \"name\": \"1998\"}, {\"data\": [{\"alignmentgroup\": \"True\", \"hovertemplate\": \"INSTNM=%{x}<br>Year=1999<br>TUITIONFEE_IN=%{y}<extra></extra>\", \"legendgroup\": \"Johns Hopkins University\", \"marker\": {\"color\": \"#636efa\"}, \"name\": \"Johns Hopkins University\", \"offsetgroup\": \"Johns Hopkins University\", \"orientation\": \"v\", \"showlegend\": true, \"textposition\": \"auto\", \"x\": [\"Johns Hopkins University\"], \"xaxis\": \"x\", \"y\": [null], \"yaxis\": \"y\", \"type\": \"bar\"}], \"name\": \"1999\"}, {\"data\": [{\"alignmentgroup\": \"True\", \"hovertemplate\": \"INSTNM=%{x}<br>Year=2000<br>TUITIONFEE_IN=%{y}<extra></extra>\", \"legendgroup\": \"Johns Hopkins University\", \"marker\": {\"color\": \"#636efa\"}, \"name\": \"Johns Hopkins University\", \"offsetgroup\": \"Johns Hopkins University\", \"orientation\": \"v\", \"showlegend\": true, \"textposition\": \"auto\", \"x\": [\"Johns Hopkins University\"], \"xaxis\": \"x\", \"y\": [24930.0], \"yaxis\": \"y\", \"type\": \"bar\"}], \"name\": \"2000\"}, {\"data\": [{\"alignmentgroup\": \"True\", \"hovertemplate\": \"INSTNM=%{x}<br>Year=2001<br>TUITIONFEE_IN=%{y}<extra></extra>\", \"legendgroup\": \"Johns Hopkins University\", \"marker\": {\"color\": \"#636efa\"}, \"name\": \"Johns Hopkins University\", \"offsetgroup\": \"Johns Hopkins University\", \"orientation\": \"v\", \"showlegend\": true, \"textposition\": \"auto\", \"x\": [\"Johns Hopkins University\"], \"xaxis\": \"x\", \"y\": [26210.0], \"yaxis\": \"y\", \"type\": \"bar\"}], \"name\": \"2001\"}, {\"data\": [{\"alignmentgroup\": \"True\", \"hovertemplate\": \"INSTNM=%{x}<br>Year=2002<br>TUITIONFEE_IN=%{y}<extra></extra>\", \"legendgroup\": \"Johns Hopkins University\", \"marker\": {\"color\": \"#636efa\"}, \"name\": \"Johns Hopkins University\", \"offsetgroup\": \"Johns Hopkins University\", \"orientation\": \"v\", \"showlegend\": true, \"textposition\": \"auto\", \"x\": [\"Johns Hopkins University\"], \"xaxis\": \"x\", \"y\": [27390.0], \"yaxis\": \"y\", \"type\": \"bar\"}], \"name\": \"2002\"}, {\"data\": [{\"alignmentgroup\": \"True\", \"hovertemplate\": \"INSTNM=%{x}<br>Year=2003<br>TUITIONFEE_IN=%{y}<extra></extra>\", \"legendgroup\": \"Johns Hopkins University\", \"marker\": {\"color\": \"#636efa\"}, \"name\": \"Johns Hopkins University\", \"offsetgroup\": \"Johns Hopkins University\", \"orientation\": \"v\", \"showlegend\": true, \"textposition\": \"auto\", \"x\": [\"Johns Hopkins University\"], \"xaxis\": \"x\", \"y\": [28730.0], \"yaxis\": \"y\", \"type\": \"bar\"}], \"name\": \"2003\"}, {\"data\": [{\"alignmentgroup\": \"True\", \"hovertemplate\": \"INSTNM=%{x}<br>Year=2004<br>TUITIONFEE_IN=%{y}<extra></extra>\", \"legendgroup\": \"Johns Hopkins University\", \"marker\": {\"color\": \"#636efa\"}, \"name\": \"Johns Hopkins University\", \"offsetgroup\": \"Johns Hopkins University\", \"orientation\": \"v\", \"showlegend\": true, \"textposition\": \"auto\", \"x\": [\"Johns Hopkins University\"], \"xaxis\": \"x\", \"y\": [30140.0], \"yaxis\": \"y\", \"type\": \"bar\"}], \"name\": \"2004\"}, {\"data\": [{\"alignmentgroup\": \"True\", \"hovertemplate\": \"INSTNM=%{x}<br>Year=2005<br>TUITIONFEE_IN=%{y}<extra></extra>\", \"legendgroup\": \"Johns Hopkins University\", \"marker\": {\"color\": \"#636efa\"}, \"name\": \"Johns Hopkins University\", \"offsetgroup\": \"Johns Hopkins University\", \"orientation\": \"v\", \"showlegend\": true, \"textposition\": \"auto\", \"x\": [\"Johns Hopkins University\"], \"xaxis\": \"x\", \"y\": [31620.0], \"yaxis\": \"y\", \"type\": \"bar\"}], \"name\": \"2005\"}, {\"data\": [{\"alignmentgroup\": \"True\", \"hovertemplate\": \"INSTNM=%{x}<br>Year=2006<br>TUITIONFEE_IN=%{y}<extra></extra>\", \"legendgroup\": \"Johns Hopkins University\", \"marker\": {\"color\": \"#636efa\"}, \"name\": \"Johns Hopkins University\", \"offsetgroup\": \"Johns Hopkins University\", \"orientation\": \"v\", \"showlegend\": true, \"textposition\": \"auto\", \"x\": [\"Johns Hopkins University\"], \"xaxis\": \"x\", \"y\": [33900.0], \"yaxis\": \"y\", \"type\": \"bar\"}], \"name\": \"2006\"}, {\"data\": [{\"alignmentgroup\": \"True\", \"hovertemplate\": \"INSTNM=%{x}<br>Year=2007<br>TUITIONFEE_IN=%{y}<extra></extra>\", \"legendgroup\": \"Johns Hopkins University\", \"marker\": {\"color\": \"#636efa\"}, \"name\": \"Johns Hopkins University\", \"offsetgroup\": \"Johns Hopkins University\", \"orientation\": \"v\", \"showlegend\": true, \"textposition\": \"auto\", \"x\": [\"Johns Hopkins University\"], \"xaxis\": \"x\", \"y\": [35900.0], \"yaxis\": \"y\", \"type\": \"bar\"}], \"name\": \"2007\"}, {\"data\": [{\"alignmentgroup\": \"True\", \"hovertemplate\": \"INSTNM=%{x}<br>Year=2008<br>TUITIONFEE_IN=%{y}<extra></extra>\", \"legendgroup\": \"Johns Hopkins University\", \"marker\": {\"color\": \"#636efa\"}, \"name\": \"Johns Hopkins University\", \"offsetgroup\": \"Johns Hopkins University\", \"orientation\": \"v\", \"showlegend\": true, \"textposition\": \"auto\", \"x\": [\"Johns Hopkins University\"], \"xaxis\": \"x\", \"y\": [37700.0], \"yaxis\": \"y\", \"type\": \"bar\"}], \"name\": \"2008\"}, {\"data\": [{\"alignmentgroup\": \"True\", \"hovertemplate\": \"INSTNM=%{x}<br>Year=2009<br>TUITIONFEE_IN=%{y}<extra></extra>\", \"legendgroup\": \"Johns Hopkins University\", \"marker\": {\"color\": \"#636efa\"}, \"name\": \"Johns Hopkins University\", \"offsetgroup\": \"Johns Hopkins University\", \"orientation\": \"v\", \"showlegend\": true, \"textposition\": \"auto\", \"x\": [\"Johns Hopkins University\"], \"xaxis\": \"x\", \"y\": [39150.0], \"yaxis\": \"y\", \"type\": \"bar\"}], \"name\": \"2009\"}, {\"data\": [{\"alignmentgroup\": \"True\", \"hovertemplate\": \"INSTNM=%{x}<br>Year=2010<br>TUITIONFEE_IN=%{y}<extra></extra>\", \"legendgroup\": \"Johns Hopkins University\", \"marker\": {\"color\": \"#636efa\"}, \"name\": \"Johns Hopkins University\", \"offsetgroup\": \"Johns Hopkins University\", \"orientation\": \"v\", \"showlegend\": true, \"textposition\": \"auto\", \"x\": [\"Johns Hopkins University\"], \"xaxis\": \"x\", \"y\": [40680.0], \"yaxis\": \"y\", \"type\": \"bar\"}], \"name\": \"2010\"}, {\"data\": [{\"alignmentgroup\": \"True\", \"hovertemplate\": \"INSTNM=%{x}<br>Year=2011<br>TUITIONFEE_IN=%{y}<extra></extra>\", \"legendgroup\": \"Johns Hopkins University\", \"marker\": {\"color\": \"#636efa\"}, \"name\": \"Johns Hopkins University\", \"offsetgroup\": \"Johns Hopkins University\", \"orientation\": \"v\", \"showlegend\": true, \"textposition\": \"auto\", \"x\": [\"Johns Hopkins University\"], \"xaxis\": \"x\", \"y\": [42280.0], \"yaxis\": \"y\", \"type\": \"bar\"}], \"name\": \"2011\"}, {\"data\": [{\"alignmentgroup\": \"True\", \"hovertemplate\": \"INSTNM=%{x}<br>Year=2012<br>TUITIONFEE_IN=%{y}<extra></extra>\", \"legendgroup\": \"Johns Hopkins University\", \"marker\": {\"color\": \"#636efa\"}, \"name\": \"Johns Hopkins University\", \"offsetgroup\": \"Johns Hopkins University\", \"orientation\": \"v\", \"showlegend\": true, \"textposition\": \"auto\", \"x\": [\"Johns Hopkins University\"], \"xaxis\": \"x\", \"y\": [43390.0], \"yaxis\": \"y\", \"type\": \"bar\"}], \"name\": \"2012\"}, {\"data\": [{\"alignmentgroup\": \"True\", \"hovertemplate\": \"INSTNM=%{x}<br>Year=2013<br>TUITIONFEE_IN=%{y}<extra></extra>\", \"legendgroup\": \"Johns Hopkins University\", \"marker\": {\"color\": \"#636efa\"}, \"name\": \"Johns Hopkins University\", \"offsetgroup\": \"Johns Hopkins University\", \"orientation\": \"v\", \"showlegend\": true, \"textposition\": \"auto\", \"x\": [\"Johns Hopkins University\"], \"xaxis\": \"x\", \"y\": [45470.0], \"yaxis\": \"y\", \"type\": \"bar\"}], \"name\": \"2013\"}, {\"data\": [{\"alignmentgroup\": \"True\", \"hovertemplate\": \"INSTNM=%{x}<br>Year=2014<br>TUITIONFEE_IN=%{y}<extra></extra>\", \"legendgroup\": \"Johns Hopkins University\", \"marker\": {\"color\": \"#636efa\"}, \"name\": \"Johns Hopkins University\", \"offsetgroup\": \"Johns Hopkins University\", \"orientation\": \"v\", \"showlegend\": true, \"textposition\": \"auto\", \"x\": [\"Johns Hopkins University\"], \"xaxis\": \"x\", \"y\": [47060.0], \"yaxis\": \"y\", \"type\": \"bar\"}], \"name\": \"2014\"}, {\"data\": [{\"alignmentgroup\": \"True\", \"hovertemplate\": \"INSTNM=%{x}<br>Year=2015<br>TUITIONFEE_IN=%{y}<extra></extra>\", \"legendgroup\": \"Johns Hopkins University\", \"marker\": {\"color\": \"#636efa\"}, \"name\": \"Johns Hopkins University\", \"offsetgroup\": \"Johns Hopkins University\", \"orientation\": \"v\", \"showlegend\": true, \"textposition\": \"auto\", \"x\": [\"Johns Hopkins University\"], \"xaxis\": \"x\", \"y\": [48710.0], \"yaxis\": \"y\", \"type\": \"bar\"}], \"name\": \"2015\"}, {\"data\": [{\"alignmentgroup\": \"True\", \"hovertemplate\": \"INSTNM=%{x}<br>Year=2016<br>TUITIONFEE_IN=%{y}<extra></extra>\", \"legendgroup\": \"Johns Hopkins University\", \"marker\": {\"color\": \"#636efa\"}, \"name\": \"Johns Hopkins University\", \"offsetgroup\": \"Johns Hopkins University\", \"orientation\": \"v\", \"showlegend\": true, \"textposition\": \"auto\", \"x\": [\"Johns Hopkins University\"], \"xaxis\": \"x\", \"y\": [50410.0], \"yaxis\": \"y\", \"type\": \"bar\"}], \"name\": \"2016\"}, {\"data\": [{\"alignmentgroup\": \"True\", \"hovertemplate\": \"INSTNM=%{x}<br>Year=2017<br>TUITIONFEE_IN=%{y}<extra></extra>\", \"legendgroup\": \"Johns Hopkins University\", \"marker\": {\"color\": \"#636efa\"}, \"name\": \"Johns Hopkins University\", \"offsetgroup\": \"Johns Hopkins University\", \"orientation\": \"v\", \"showlegend\": true, \"textposition\": \"auto\", \"x\": [\"Johns Hopkins University\"], \"xaxis\": \"x\", \"y\": [52170.0], \"yaxis\": \"y\", \"type\": \"bar\"}], \"name\": \"2017\"}, {\"data\": [{\"alignmentgroup\": \"True\", \"hovertemplate\": \"INSTNM=%{x}<br>Year=2018<br>TUITIONFEE_IN=%{y}<extra></extra>\", \"legendgroup\": \"Johns Hopkins University\", \"marker\": {\"color\": \"#636efa\"}, \"name\": \"Johns Hopkins University\", \"offsetgroup\": \"Johns Hopkins University\", \"orientation\": \"v\", \"showlegend\": true, \"textposition\": \"auto\", \"x\": [\"Johns Hopkins University\"], \"xaxis\": \"x\", \"y\": [53740.0], \"yaxis\": \"y\", \"type\": \"bar\"}], \"name\": \"2018\"}]);\n",
       "                        }).then(function(){\n",
       "                            \n",
       "var gd = document.getElementById('9d75081d-95b7-4a8f-a9a4-4ed02e515af2');\n",
       "var x = new MutationObserver(function (mutations, observer) {{\n",
       "        var display = window.getComputedStyle(gd).display;\n",
       "        if (!display || display === 'none') {{\n",
       "            console.log([gd, 'removed!']);\n",
       "            Plotly.purge(gd);\n",
       "            observer.disconnect();\n",
       "        }}\n",
       "}});\n",
       "\n",
       "// Listen for the removal of the full notebook cells\n",
       "var notebookContainer = gd.closest('#notebook-container');\n",
       "if (notebookContainer) {{\n",
       "    x.observe(notebookContainer, {childList: true});\n",
       "}}\n",
       "\n",
       "// Listen for the clearing of the current output cell\n",
       "var outputEl = gd.closest('.output');\n",
       "if (outputEl) {{\n",
       "    x.observe(outputEl, {childList: true});\n",
       "}}\n",
       "\n",
       "                        })\n",
       "                };\n",
       "                });\n",
       "            </script>\n",
       "        </div>"
      ]
     },
     "metadata": {},
     "output_type": "display_data"
    }
   ],
   "source": [
    "fig5 = px.bar(data_frame=JHU_df2, \n",
    "             x=\"INSTNM\", y=\"TUITIONFEE_IN\",  \n",
    "             color=\"INSTNM\",animation_frame = 'Year' \n",
    "             )\n",
    "fig5.show()"
   ]
  },
  {
   "cell_type": "code",
   "execution_count": 32,
   "metadata": {},
   "outputs": [
    {
     "data": {
      "application/vnd.plotly.v1+json": {
       "config": {
        "plotlyServerURL": "https://plot.ly"
       },
       "data": [
        {
         "hovertemplate": "INSTNM=Johns Hopkins University<br>Year=%{x}<br>TUITIONFEE_IN=%{y}<extra></extra>",
         "legendgroup": "Johns Hopkins University",
         "line": {
          "color": "#636efa",
          "dash": "solid"
         },
         "mode": "lines",
         "name": "Johns Hopkins University",
         "showlegend": true,
         "type": "scatter",
         "x": [
          1996,
          1997,
          1998,
          1999,
          2000,
          2001,
          2002,
          2003,
          2004,
          2005,
          2006,
          2007,
          2008,
          2009,
          2010,
          2011,
          2012,
          2013,
          2014,
          2015,
          2016,
          2017,
          2018
         ],
         "xaxis": "x",
         "y": [
          null,
          null,
          null,
          null,
          24930,
          26210,
          27390,
          28730,
          30140,
          31620,
          33900,
          35900,
          37700,
          39150,
          40680,
          42280,
          43390,
          45470,
          47060,
          48710,
          50410,
          52170,
          53740
         ],
         "yaxis": "y"
        }
       ],
       "layout": {
        "legend": {
         "title": {
          "text": "INSTNM"
         },
         "tracegroupgap": 0
        },
        "template": {
         "data": {
          "bar": [
           {
            "error_x": {
             "color": "#2a3f5f"
            },
            "error_y": {
             "color": "#2a3f5f"
            },
            "marker": {
             "line": {
              "color": "#E5ECF6",
              "width": 0.5
             }
            },
            "type": "bar"
           }
          ],
          "barpolar": [
           {
            "marker": {
             "line": {
              "color": "#E5ECF6",
              "width": 0.5
             }
            },
            "type": "barpolar"
           }
          ],
          "carpet": [
           {
            "aaxis": {
             "endlinecolor": "#2a3f5f",
             "gridcolor": "white",
             "linecolor": "white",
             "minorgridcolor": "white",
             "startlinecolor": "#2a3f5f"
            },
            "baxis": {
             "endlinecolor": "#2a3f5f",
             "gridcolor": "white",
             "linecolor": "white",
             "minorgridcolor": "white",
             "startlinecolor": "#2a3f5f"
            },
            "type": "carpet"
           }
          ],
          "choropleth": [
           {
            "colorbar": {
             "outlinewidth": 0,
             "ticks": ""
            },
            "type": "choropleth"
           }
          ],
          "contour": [
           {
            "colorbar": {
             "outlinewidth": 0,
             "ticks": ""
            },
            "colorscale": [
             [
              0,
              "#0d0887"
             ],
             [
              0.1111111111111111,
              "#46039f"
             ],
             [
              0.2222222222222222,
              "#7201a8"
             ],
             [
              0.3333333333333333,
              "#9c179e"
             ],
             [
              0.4444444444444444,
              "#bd3786"
             ],
             [
              0.5555555555555556,
              "#d8576b"
             ],
             [
              0.6666666666666666,
              "#ed7953"
             ],
             [
              0.7777777777777778,
              "#fb9f3a"
             ],
             [
              0.8888888888888888,
              "#fdca26"
             ],
             [
              1,
              "#f0f921"
             ]
            ],
            "type": "contour"
           }
          ],
          "contourcarpet": [
           {
            "colorbar": {
             "outlinewidth": 0,
             "ticks": ""
            },
            "type": "contourcarpet"
           }
          ],
          "heatmap": [
           {
            "colorbar": {
             "outlinewidth": 0,
             "ticks": ""
            },
            "colorscale": [
             [
              0,
              "#0d0887"
             ],
             [
              0.1111111111111111,
              "#46039f"
             ],
             [
              0.2222222222222222,
              "#7201a8"
             ],
             [
              0.3333333333333333,
              "#9c179e"
             ],
             [
              0.4444444444444444,
              "#bd3786"
             ],
             [
              0.5555555555555556,
              "#d8576b"
             ],
             [
              0.6666666666666666,
              "#ed7953"
             ],
             [
              0.7777777777777778,
              "#fb9f3a"
             ],
             [
              0.8888888888888888,
              "#fdca26"
             ],
             [
              1,
              "#f0f921"
             ]
            ],
            "type": "heatmap"
           }
          ],
          "heatmapgl": [
           {
            "colorbar": {
             "outlinewidth": 0,
             "ticks": ""
            },
            "colorscale": [
             [
              0,
              "#0d0887"
             ],
             [
              0.1111111111111111,
              "#46039f"
             ],
             [
              0.2222222222222222,
              "#7201a8"
             ],
             [
              0.3333333333333333,
              "#9c179e"
             ],
             [
              0.4444444444444444,
              "#bd3786"
             ],
             [
              0.5555555555555556,
              "#d8576b"
             ],
             [
              0.6666666666666666,
              "#ed7953"
             ],
             [
              0.7777777777777778,
              "#fb9f3a"
             ],
             [
              0.8888888888888888,
              "#fdca26"
             ],
             [
              1,
              "#f0f921"
             ]
            ],
            "type": "heatmapgl"
           }
          ],
          "histogram": [
           {
            "marker": {
             "colorbar": {
              "outlinewidth": 0,
              "ticks": ""
             }
            },
            "type": "histogram"
           }
          ],
          "histogram2d": [
           {
            "colorbar": {
             "outlinewidth": 0,
             "ticks": ""
            },
            "colorscale": [
             [
              0,
              "#0d0887"
             ],
             [
              0.1111111111111111,
              "#46039f"
             ],
             [
              0.2222222222222222,
              "#7201a8"
             ],
             [
              0.3333333333333333,
              "#9c179e"
             ],
             [
              0.4444444444444444,
              "#bd3786"
             ],
             [
              0.5555555555555556,
              "#d8576b"
             ],
             [
              0.6666666666666666,
              "#ed7953"
             ],
             [
              0.7777777777777778,
              "#fb9f3a"
             ],
             [
              0.8888888888888888,
              "#fdca26"
             ],
             [
              1,
              "#f0f921"
             ]
            ],
            "type": "histogram2d"
           }
          ],
          "histogram2dcontour": [
           {
            "colorbar": {
             "outlinewidth": 0,
             "ticks": ""
            },
            "colorscale": [
             [
              0,
              "#0d0887"
             ],
             [
              0.1111111111111111,
              "#46039f"
             ],
             [
              0.2222222222222222,
              "#7201a8"
             ],
             [
              0.3333333333333333,
              "#9c179e"
             ],
             [
              0.4444444444444444,
              "#bd3786"
             ],
             [
              0.5555555555555556,
              "#d8576b"
             ],
             [
              0.6666666666666666,
              "#ed7953"
             ],
             [
              0.7777777777777778,
              "#fb9f3a"
             ],
             [
              0.8888888888888888,
              "#fdca26"
             ],
             [
              1,
              "#f0f921"
             ]
            ],
            "type": "histogram2dcontour"
           }
          ],
          "mesh3d": [
           {
            "colorbar": {
             "outlinewidth": 0,
             "ticks": ""
            },
            "type": "mesh3d"
           }
          ],
          "parcoords": [
           {
            "line": {
             "colorbar": {
              "outlinewidth": 0,
              "ticks": ""
             }
            },
            "type": "parcoords"
           }
          ],
          "pie": [
           {
            "automargin": true,
            "type": "pie"
           }
          ],
          "scatter": [
           {
            "marker": {
             "colorbar": {
              "outlinewidth": 0,
              "ticks": ""
             }
            },
            "type": "scatter"
           }
          ],
          "scatter3d": [
           {
            "line": {
             "colorbar": {
              "outlinewidth": 0,
              "ticks": ""
             }
            },
            "marker": {
             "colorbar": {
              "outlinewidth": 0,
              "ticks": ""
             }
            },
            "type": "scatter3d"
           }
          ],
          "scattercarpet": [
           {
            "marker": {
             "colorbar": {
              "outlinewidth": 0,
              "ticks": ""
             }
            },
            "type": "scattercarpet"
           }
          ],
          "scattergeo": [
           {
            "marker": {
             "colorbar": {
              "outlinewidth": 0,
              "ticks": ""
             }
            },
            "type": "scattergeo"
           }
          ],
          "scattergl": [
           {
            "marker": {
             "colorbar": {
              "outlinewidth": 0,
              "ticks": ""
             }
            },
            "type": "scattergl"
           }
          ],
          "scattermapbox": [
           {
            "marker": {
             "colorbar": {
              "outlinewidth": 0,
              "ticks": ""
             }
            },
            "type": "scattermapbox"
           }
          ],
          "scatterpolar": [
           {
            "marker": {
             "colorbar": {
              "outlinewidth": 0,
              "ticks": ""
             }
            },
            "type": "scatterpolar"
           }
          ],
          "scatterpolargl": [
           {
            "marker": {
             "colorbar": {
              "outlinewidth": 0,
              "ticks": ""
             }
            },
            "type": "scatterpolargl"
           }
          ],
          "scatterternary": [
           {
            "marker": {
             "colorbar": {
              "outlinewidth": 0,
              "ticks": ""
             }
            },
            "type": "scatterternary"
           }
          ],
          "surface": [
           {
            "colorbar": {
             "outlinewidth": 0,
             "ticks": ""
            },
            "colorscale": [
             [
              0,
              "#0d0887"
             ],
             [
              0.1111111111111111,
              "#46039f"
             ],
             [
              0.2222222222222222,
              "#7201a8"
             ],
             [
              0.3333333333333333,
              "#9c179e"
             ],
             [
              0.4444444444444444,
              "#bd3786"
             ],
             [
              0.5555555555555556,
              "#d8576b"
             ],
             [
              0.6666666666666666,
              "#ed7953"
             ],
             [
              0.7777777777777778,
              "#fb9f3a"
             ],
             [
              0.8888888888888888,
              "#fdca26"
             ],
             [
              1,
              "#f0f921"
             ]
            ],
            "type": "surface"
           }
          ],
          "table": [
           {
            "cells": {
             "fill": {
              "color": "#EBF0F8"
             },
             "line": {
              "color": "white"
             }
            },
            "header": {
             "fill": {
              "color": "#C8D4E3"
             },
             "line": {
              "color": "white"
             }
            },
            "type": "table"
           }
          ]
         },
         "layout": {
          "annotationdefaults": {
           "arrowcolor": "#2a3f5f",
           "arrowhead": 0,
           "arrowwidth": 1
          },
          "coloraxis": {
           "colorbar": {
            "outlinewidth": 0,
            "ticks": ""
           }
          },
          "colorscale": {
           "diverging": [
            [
             0,
             "#8e0152"
            ],
            [
             0.1,
             "#c51b7d"
            ],
            [
             0.2,
             "#de77ae"
            ],
            [
             0.3,
             "#f1b6da"
            ],
            [
             0.4,
             "#fde0ef"
            ],
            [
             0.5,
             "#f7f7f7"
            ],
            [
             0.6,
             "#e6f5d0"
            ],
            [
             0.7,
             "#b8e186"
            ],
            [
             0.8,
             "#7fbc41"
            ],
            [
             0.9,
             "#4d9221"
            ],
            [
             1,
             "#276419"
            ]
           ],
           "sequential": [
            [
             0,
             "#0d0887"
            ],
            [
             0.1111111111111111,
             "#46039f"
            ],
            [
             0.2222222222222222,
             "#7201a8"
            ],
            [
             0.3333333333333333,
             "#9c179e"
            ],
            [
             0.4444444444444444,
             "#bd3786"
            ],
            [
             0.5555555555555556,
             "#d8576b"
            ],
            [
             0.6666666666666666,
             "#ed7953"
            ],
            [
             0.7777777777777778,
             "#fb9f3a"
            ],
            [
             0.8888888888888888,
             "#fdca26"
            ],
            [
             1,
             "#f0f921"
            ]
           ],
           "sequentialminus": [
            [
             0,
             "#0d0887"
            ],
            [
             0.1111111111111111,
             "#46039f"
            ],
            [
             0.2222222222222222,
             "#7201a8"
            ],
            [
             0.3333333333333333,
             "#9c179e"
            ],
            [
             0.4444444444444444,
             "#bd3786"
            ],
            [
             0.5555555555555556,
             "#d8576b"
            ],
            [
             0.6666666666666666,
             "#ed7953"
            ],
            [
             0.7777777777777778,
             "#fb9f3a"
            ],
            [
             0.8888888888888888,
             "#fdca26"
            ],
            [
             1,
             "#f0f921"
            ]
           ]
          },
          "colorway": [
           "#636efa",
           "#EF553B",
           "#00cc96",
           "#ab63fa",
           "#FFA15A",
           "#19d3f3",
           "#FF6692",
           "#B6E880",
           "#FF97FF",
           "#FECB52"
          ],
          "font": {
           "color": "#2a3f5f"
          },
          "geo": {
           "bgcolor": "white",
           "lakecolor": "white",
           "landcolor": "#E5ECF6",
           "showlakes": true,
           "showland": true,
           "subunitcolor": "white"
          },
          "hoverlabel": {
           "align": "left"
          },
          "hovermode": "closest",
          "mapbox": {
           "style": "light"
          },
          "paper_bgcolor": "white",
          "plot_bgcolor": "#E5ECF6",
          "polar": {
           "angularaxis": {
            "gridcolor": "white",
            "linecolor": "white",
            "ticks": ""
           },
           "bgcolor": "#E5ECF6",
           "radialaxis": {
            "gridcolor": "white",
            "linecolor": "white",
            "ticks": ""
           }
          },
          "scene": {
           "xaxis": {
            "backgroundcolor": "#E5ECF6",
            "gridcolor": "white",
            "gridwidth": 2,
            "linecolor": "white",
            "showbackground": true,
            "ticks": "",
            "zerolinecolor": "white"
           },
           "yaxis": {
            "backgroundcolor": "#E5ECF6",
            "gridcolor": "white",
            "gridwidth": 2,
            "linecolor": "white",
            "showbackground": true,
            "ticks": "",
            "zerolinecolor": "white"
           },
           "zaxis": {
            "backgroundcolor": "#E5ECF6",
            "gridcolor": "white",
            "gridwidth": 2,
            "linecolor": "white",
            "showbackground": true,
            "ticks": "",
            "zerolinecolor": "white"
           }
          },
          "shapedefaults": {
           "line": {
            "color": "#2a3f5f"
           }
          },
          "ternary": {
           "aaxis": {
            "gridcolor": "white",
            "linecolor": "white",
            "ticks": ""
           },
           "baxis": {
            "gridcolor": "white",
            "linecolor": "white",
            "ticks": ""
           },
           "bgcolor": "#E5ECF6",
           "caxis": {
            "gridcolor": "white",
            "linecolor": "white",
            "ticks": ""
           }
          },
          "title": {
           "x": 0.05
          },
          "xaxis": {
           "automargin": true,
           "gridcolor": "white",
           "linecolor": "white",
           "ticks": "",
           "title": {
            "standoff": 15
           },
           "zerolinecolor": "white",
           "zerolinewidth": 2
          },
          "yaxis": {
           "automargin": true,
           "gridcolor": "white",
           "linecolor": "white",
           "ticks": "",
           "title": {
            "standoff": 15
           },
           "zerolinecolor": "white",
           "zerolinewidth": 2
          }
         }
        },
        "title": {
         "text": "Tuition overtime"
        },
        "xaxis": {
         "anchor": "y",
         "domain": [
          0,
          1
         ],
         "title": {
          "text": "Year"
         }
        },
        "yaxis": {
         "anchor": "x",
         "domain": [
          0,
          1
         ],
         "title": {
          "text": "TUITIONFEE_IN"
         }
        }
       }
      },
      "text/html": [
       "<div>\n",
       "        \n",
       "        \n",
       "            <div id=\"904b8286-2c9b-40f7-ad22-ef5cab76b249\" class=\"plotly-graph-div\" style=\"height:525px; width:100%;\"></div>\n",
       "            <script type=\"text/javascript\">\n",
       "                require([\"plotly\"], function(Plotly) {\n",
       "                    window.PLOTLYENV=window.PLOTLYENV || {};\n",
       "                    \n",
       "                if (document.getElementById(\"904b8286-2c9b-40f7-ad22-ef5cab76b249\")) {\n",
       "                    Plotly.newPlot(\n",
       "                        '904b8286-2c9b-40f7-ad22-ef5cab76b249',\n",
       "                        [{\"hovertemplate\": \"INSTNM=Johns Hopkins University<br>Year=%{x}<br>TUITIONFEE_IN=%{y}<extra></extra>\", \"legendgroup\": \"Johns Hopkins University\", \"line\": {\"color\": \"#636efa\", \"dash\": \"solid\"}, \"mode\": \"lines\", \"name\": \"Johns Hopkins University\", \"showlegend\": true, \"type\": \"scatter\", \"x\": [1996, 1997, 1998, 1999, 2000, 2001, 2002, 2003, 2004, 2005, 2006, 2007, 2008, 2009, 2010, 2011, 2012, 2013, 2014, 2015, 2016, 2017, 2018], \"xaxis\": \"x\", \"y\": [null, null, null, null, 24930.0, 26210.0, 27390.0, 28730.0, 30140.0, 31620.0, 33900.0, 35900.0, 37700.0, 39150.0, 40680.0, 42280.0, 43390.0, 45470.0, 47060.0, 48710.0, 50410.0, 52170.0, 53740.0], \"yaxis\": \"y\"}],\n",
       "                        {\"legend\": {\"title\": {\"text\": \"INSTNM\"}, \"tracegroupgap\": 0}, \"template\": {\"data\": {\"bar\": [{\"error_x\": {\"color\": \"#2a3f5f\"}, \"error_y\": {\"color\": \"#2a3f5f\"}, \"marker\": {\"line\": {\"color\": \"#E5ECF6\", \"width\": 0.5}}, \"type\": \"bar\"}], \"barpolar\": [{\"marker\": {\"line\": {\"color\": \"#E5ECF6\", \"width\": 0.5}}, \"type\": \"barpolar\"}], \"carpet\": [{\"aaxis\": {\"endlinecolor\": \"#2a3f5f\", \"gridcolor\": \"white\", \"linecolor\": \"white\", \"minorgridcolor\": \"white\", \"startlinecolor\": \"#2a3f5f\"}, \"baxis\": {\"endlinecolor\": \"#2a3f5f\", \"gridcolor\": \"white\", \"linecolor\": \"white\", \"minorgridcolor\": \"white\", \"startlinecolor\": \"#2a3f5f\"}, \"type\": \"carpet\"}], \"choropleth\": [{\"colorbar\": {\"outlinewidth\": 0, \"ticks\": \"\"}, \"type\": \"choropleth\"}], \"contour\": [{\"colorbar\": {\"outlinewidth\": 0, \"ticks\": \"\"}, \"colorscale\": [[0.0, \"#0d0887\"], [0.1111111111111111, \"#46039f\"], [0.2222222222222222, \"#7201a8\"], [0.3333333333333333, \"#9c179e\"], [0.4444444444444444, \"#bd3786\"], [0.5555555555555556, \"#d8576b\"], [0.6666666666666666, \"#ed7953\"], [0.7777777777777778, \"#fb9f3a\"], [0.8888888888888888, \"#fdca26\"], [1.0, \"#f0f921\"]], \"type\": \"contour\"}], \"contourcarpet\": [{\"colorbar\": {\"outlinewidth\": 0, \"ticks\": \"\"}, \"type\": \"contourcarpet\"}], \"heatmap\": [{\"colorbar\": {\"outlinewidth\": 0, \"ticks\": \"\"}, \"colorscale\": [[0.0, \"#0d0887\"], [0.1111111111111111, \"#46039f\"], [0.2222222222222222, \"#7201a8\"], [0.3333333333333333, \"#9c179e\"], [0.4444444444444444, \"#bd3786\"], [0.5555555555555556, \"#d8576b\"], [0.6666666666666666, \"#ed7953\"], [0.7777777777777778, \"#fb9f3a\"], [0.8888888888888888, \"#fdca26\"], [1.0, \"#f0f921\"]], \"type\": \"heatmap\"}], \"heatmapgl\": [{\"colorbar\": {\"outlinewidth\": 0, \"ticks\": \"\"}, \"colorscale\": [[0.0, \"#0d0887\"], [0.1111111111111111, \"#46039f\"], [0.2222222222222222, \"#7201a8\"], [0.3333333333333333, \"#9c179e\"], [0.4444444444444444, \"#bd3786\"], [0.5555555555555556, \"#d8576b\"], [0.6666666666666666, \"#ed7953\"], [0.7777777777777778, \"#fb9f3a\"], [0.8888888888888888, \"#fdca26\"], [1.0, \"#f0f921\"]], \"type\": \"heatmapgl\"}], \"histogram\": [{\"marker\": {\"colorbar\": {\"outlinewidth\": 0, \"ticks\": \"\"}}, \"type\": \"histogram\"}], \"histogram2d\": [{\"colorbar\": {\"outlinewidth\": 0, \"ticks\": \"\"}, \"colorscale\": [[0.0, \"#0d0887\"], [0.1111111111111111, \"#46039f\"], [0.2222222222222222, \"#7201a8\"], [0.3333333333333333, \"#9c179e\"], [0.4444444444444444, \"#bd3786\"], [0.5555555555555556, \"#d8576b\"], [0.6666666666666666, \"#ed7953\"], [0.7777777777777778, \"#fb9f3a\"], [0.8888888888888888, \"#fdca26\"], [1.0, \"#f0f921\"]], \"type\": \"histogram2d\"}], \"histogram2dcontour\": [{\"colorbar\": {\"outlinewidth\": 0, \"ticks\": \"\"}, \"colorscale\": [[0.0, \"#0d0887\"], [0.1111111111111111, \"#46039f\"], [0.2222222222222222, \"#7201a8\"], [0.3333333333333333, \"#9c179e\"], [0.4444444444444444, \"#bd3786\"], [0.5555555555555556, \"#d8576b\"], [0.6666666666666666, \"#ed7953\"], [0.7777777777777778, \"#fb9f3a\"], [0.8888888888888888, \"#fdca26\"], [1.0, \"#f0f921\"]], \"type\": \"histogram2dcontour\"}], \"mesh3d\": [{\"colorbar\": {\"outlinewidth\": 0, \"ticks\": \"\"}, \"type\": \"mesh3d\"}], \"parcoords\": [{\"line\": {\"colorbar\": {\"outlinewidth\": 0, \"ticks\": \"\"}}, \"type\": \"parcoords\"}], \"pie\": [{\"automargin\": true, \"type\": \"pie\"}], \"scatter\": [{\"marker\": {\"colorbar\": {\"outlinewidth\": 0, \"ticks\": \"\"}}, \"type\": \"scatter\"}], \"scatter3d\": [{\"line\": {\"colorbar\": {\"outlinewidth\": 0, \"ticks\": \"\"}}, \"marker\": {\"colorbar\": {\"outlinewidth\": 0, \"ticks\": \"\"}}, \"type\": \"scatter3d\"}], \"scattercarpet\": [{\"marker\": {\"colorbar\": {\"outlinewidth\": 0, \"ticks\": \"\"}}, \"type\": \"scattercarpet\"}], \"scattergeo\": [{\"marker\": {\"colorbar\": {\"outlinewidth\": 0, \"ticks\": \"\"}}, \"type\": \"scattergeo\"}], \"scattergl\": [{\"marker\": {\"colorbar\": {\"outlinewidth\": 0, \"ticks\": \"\"}}, \"type\": \"scattergl\"}], \"scattermapbox\": [{\"marker\": {\"colorbar\": {\"outlinewidth\": 0, \"ticks\": \"\"}}, \"type\": \"scattermapbox\"}], \"scatterpolar\": [{\"marker\": {\"colorbar\": {\"outlinewidth\": 0, \"ticks\": \"\"}}, \"type\": \"scatterpolar\"}], \"scatterpolargl\": [{\"marker\": {\"colorbar\": {\"outlinewidth\": 0, \"ticks\": \"\"}}, \"type\": \"scatterpolargl\"}], \"scatterternary\": [{\"marker\": {\"colorbar\": {\"outlinewidth\": 0, \"ticks\": \"\"}}, \"type\": \"scatterternary\"}], \"surface\": [{\"colorbar\": {\"outlinewidth\": 0, \"ticks\": \"\"}, \"colorscale\": [[0.0, \"#0d0887\"], [0.1111111111111111, \"#46039f\"], [0.2222222222222222, \"#7201a8\"], [0.3333333333333333, \"#9c179e\"], [0.4444444444444444, \"#bd3786\"], [0.5555555555555556, \"#d8576b\"], [0.6666666666666666, \"#ed7953\"], [0.7777777777777778, \"#fb9f3a\"], [0.8888888888888888, \"#fdca26\"], [1.0, \"#f0f921\"]], \"type\": \"surface\"}], \"table\": [{\"cells\": {\"fill\": {\"color\": \"#EBF0F8\"}, \"line\": {\"color\": \"white\"}}, \"header\": {\"fill\": {\"color\": \"#C8D4E3\"}, \"line\": {\"color\": \"white\"}}, \"type\": \"table\"}]}, \"layout\": {\"annotationdefaults\": {\"arrowcolor\": \"#2a3f5f\", \"arrowhead\": 0, \"arrowwidth\": 1}, \"coloraxis\": {\"colorbar\": {\"outlinewidth\": 0, \"ticks\": \"\"}}, \"colorscale\": {\"diverging\": [[0, \"#8e0152\"], [0.1, \"#c51b7d\"], [0.2, \"#de77ae\"], [0.3, \"#f1b6da\"], [0.4, \"#fde0ef\"], [0.5, \"#f7f7f7\"], [0.6, \"#e6f5d0\"], [0.7, \"#b8e186\"], [0.8, \"#7fbc41\"], [0.9, \"#4d9221\"], [1, \"#276419\"]], \"sequential\": [[0.0, \"#0d0887\"], [0.1111111111111111, \"#46039f\"], [0.2222222222222222, \"#7201a8\"], [0.3333333333333333, \"#9c179e\"], [0.4444444444444444, \"#bd3786\"], [0.5555555555555556, \"#d8576b\"], [0.6666666666666666, \"#ed7953\"], [0.7777777777777778, \"#fb9f3a\"], [0.8888888888888888, \"#fdca26\"], [1.0, \"#f0f921\"]], \"sequentialminus\": [[0.0, \"#0d0887\"], [0.1111111111111111, \"#46039f\"], [0.2222222222222222, \"#7201a8\"], [0.3333333333333333, \"#9c179e\"], [0.4444444444444444, \"#bd3786\"], [0.5555555555555556, \"#d8576b\"], [0.6666666666666666, \"#ed7953\"], [0.7777777777777778, \"#fb9f3a\"], [0.8888888888888888, \"#fdca26\"], [1.0, \"#f0f921\"]]}, \"colorway\": [\"#636efa\", \"#EF553B\", \"#00cc96\", \"#ab63fa\", \"#FFA15A\", \"#19d3f3\", \"#FF6692\", \"#B6E880\", \"#FF97FF\", \"#FECB52\"], \"font\": {\"color\": \"#2a3f5f\"}, \"geo\": {\"bgcolor\": \"white\", \"lakecolor\": \"white\", \"landcolor\": \"#E5ECF6\", \"showlakes\": true, \"showland\": true, \"subunitcolor\": \"white\"}, \"hoverlabel\": {\"align\": \"left\"}, \"hovermode\": \"closest\", \"mapbox\": {\"style\": \"light\"}, \"paper_bgcolor\": \"white\", \"plot_bgcolor\": \"#E5ECF6\", \"polar\": {\"angularaxis\": {\"gridcolor\": \"white\", \"linecolor\": \"white\", \"ticks\": \"\"}, \"bgcolor\": \"#E5ECF6\", \"radialaxis\": {\"gridcolor\": \"white\", \"linecolor\": \"white\", \"ticks\": \"\"}}, \"scene\": {\"xaxis\": {\"backgroundcolor\": \"#E5ECF6\", \"gridcolor\": \"white\", \"gridwidth\": 2, \"linecolor\": \"white\", \"showbackground\": true, \"ticks\": \"\", \"zerolinecolor\": \"white\"}, \"yaxis\": {\"backgroundcolor\": \"#E5ECF6\", \"gridcolor\": \"white\", \"gridwidth\": 2, \"linecolor\": \"white\", \"showbackground\": true, \"ticks\": \"\", \"zerolinecolor\": \"white\"}, \"zaxis\": {\"backgroundcolor\": \"#E5ECF6\", \"gridcolor\": \"white\", \"gridwidth\": 2, \"linecolor\": \"white\", \"showbackground\": true, \"ticks\": \"\", \"zerolinecolor\": \"white\"}}, \"shapedefaults\": {\"line\": {\"color\": \"#2a3f5f\"}}, \"ternary\": {\"aaxis\": {\"gridcolor\": \"white\", \"linecolor\": \"white\", \"ticks\": \"\"}, \"baxis\": {\"gridcolor\": \"white\", \"linecolor\": \"white\", \"ticks\": \"\"}, \"bgcolor\": \"#E5ECF6\", \"caxis\": {\"gridcolor\": \"white\", \"linecolor\": \"white\", \"ticks\": \"\"}}, \"title\": {\"x\": 0.05}, \"xaxis\": {\"automargin\": true, \"gridcolor\": \"white\", \"linecolor\": \"white\", \"ticks\": \"\", \"title\": {\"standoff\": 15}, \"zerolinecolor\": \"white\", \"zerolinewidth\": 2}, \"yaxis\": {\"automargin\": true, \"gridcolor\": \"white\", \"linecolor\": \"white\", \"ticks\": \"\", \"title\": {\"standoff\": 15}, \"zerolinecolor\": \"white\", \"zerolinewidth\": 2}}}, \"title\": {\"text\": \"Tuition overtime\"}, \"xaxis\": {\"anchor\": \"y\", \"domain\": [0.0, 1.0], \"title\": {\"text\": \"Year\"}}, \"yaxis\": {\"anchor\": \"x\", \"domain\": [0.0, 1.0], \"title\": {\"text\": \"TUITIONFEE_IN\"}}},\n",
       "                        {\"responsive\": true}\n",
       "                    ).then(function(){\n",
       "                            \n",
       "var gd = document.getElementById('904b8286-2c9b-40f7-ad22-ef5cab76b249');\n",
       "var x = new MutationObserver(function (mutations, observer) {{\n",
       "        var display = window.getComputedStyle(gd).display;\n",
       "        if (!display || display === 'none') {{\n",
       "            console.log([gd, 'removed!']);\n",
       "            Plotly.purge(gd);\n",
       "            observer.disconnect();\n",
       "        }}\n",
       "}});\n",
       "\n",
       "// Listen for the removal of the full notebook cells\n",
       "var notebookContainer = gd.closest('#notebook-container');\n",
       "if (notebookContainer) {{\n",
       "    x.observe(notebookContainer, {childList: true});\n",
       "}}\n",
       "\n",
       "// Listen for the clearing of the current output cell\n",
       "var outputEl = gd.closest('.output');\n",
       "if (outputEl) {{\n",
       "    x.observe(outputEl, {childList: true});\n",
       "}}\n",
       "\n",
       "                        })\n",
       "                };\n",
       "                });\n",
       "            </script>\n",
       "        </div>"
      ]
     },
     "metadata": {},
     "output_type": "display_data"
    }
   ],
   "source": [
    "fig6 = px.line(JHU_df2, x=\"Year\", y=\"TUITIONFEE_IN\", color='INSTNM', title = 'Tuition overtime')\n",
    "fig6.show()"
   ]
  },
  {
   "cell_type": "markdown",
   "metadata": {},
   "source": [
    "**Let's calculate the JHU tuition percentge growth using the function defined earlier**"
   ]
  },
  {
   "cell_type": "code",
   "execution_count": 33,
   "metadata": {},
   "outputs": [
    {
     "data": {
      "text/plain": [
       "[nan,\n",
       " nan,\n",
       " nan,\n",
       " nan,\n",
       " 24930.0,\n",
       " 26210.0,\n",
       " 27390.0,\n",
       " 28730.0,\n",
       " 30140.0,\n",
       " 31620.0,\n",
       " 33900.0,\n",
       " 35900.0,\n",
       " 37700.0,\n",
       " 39150.0,\n",
       " 40680.0,\n",
       " 42280.0,\n",
       " 43390.0,\n",
       " 45470.0,\n",
       " 47060.0,\n",
       " 48710.0,\n",
       " 50410.0,\n",
       " 52170.0,\n",
       " 53740.0]"
      ]
     },
     "execution_count": 33,
     "metadata": {},
     "output_type": "execute_result"
    }
   ],
   "source": [
    "JHU_TUI_list = JHU_df2['TUITIONFEE_IN'].tolist()\n",
    "\n",
    "JHU_TUI_list"
   ]
  },
  {
   "cell_type": "markdown",
   "metadata": {},
   "source": [
    "**Add the list of percentage changes to the dataframe as a new column (\"PCT_CHANGE\")**"
   ]
  },
  {
   "cell_type": "code",
   "execution_count": 34,
   "metadata": {},
   "outputs": [
    {
     "data": {
      "text/plain": [
       "[nan,\n",
       " nan,\n",
       " nan,\n",
       " nan,\n",
       " 2492900.0,\n",
       " 2620900.0,\n",
       " 2738900.0,\n",
       " 2872900.0,\n",
       " 3013900.0,\n",
       " 3161900.0,\n",
       " 3389900.0,\n",
       " 3589900.0,\n",
       " 3769900.0,\n",
       " 3914900.0,\n",
       " 4067900.0,\n",
       " 4227900.0,\n",
       " 4338900.0,\n",
       " 4546900.0,\n",
       " 4705900.0,\n",
       " 4870900.0,\n",
       " 5040900.0,\n",
       " 5216900.0,\n",
       " 5373900.0]"
      ]
     },
     "execution_count": 34,
     "metadata": {},
     "output_type": "execute_result"
    }
   ],
   "source": [
    "PC_list2 = []\n",
    "\n",
    "for cost in JHU_TUI_list:\n",
    "    pc = percentageChange(JHU_TUI_list[4], cost)\n",
    "    PC_list2.append(pc)\n",
    "    \n",
    "PC_list2"
   ]
  },
  {
   "cell_type": "markdown",
   "metadata": {},
   "source": [
    "**Make a bar plot of the JHU percentage changes tuitions over time**"
   ]
  },
  {
   "cell_type": "code",
   "execution_count": 35,
   "metadata": {},
   "outputs": [
    {
     "data": {
      "text/html": [
       "<div>\n",
       "<style scoped>\n",
       "    .dataframe tbody tr th:only-of-type {\n",
       "        vertical-align: middle;\n",
       "    }\n",
       "\n",
       "    .dataframe tbody tr th {\n",
       "        vertical-align: top;\n",
       "    }\n",
       "\n",
       "    .dataframe thead th {\n",
       "        text-align: right;\n",
       "    }\n",
       "</style>\n",
       "<table border=\"1\" class=\"dataframe\">\n",
       "  <thead>\n",
       "    <tr style=\"text-align: right;\">\n",
       "      <th></th>\n",
       "      <th>UNITID</th>\n",
       "      <th>INSTNM</th>\n",
       "      <th>STABBR</th>\n",
       "      <th>REGION</th>\n",
       "      <th>ADM_RATE</th>\n",
       "      <th>TUITIONFEE_IN</th>\n",
       "      <th>Year</th>\n",
       "      <th>PCT_CHANGE</th>\n",
       "    </tr>\n",
       "  </thead>\n",
       "  <tbody>\n",
       "    <tr>\n",
       "      <td>2139</td>\n",
       "      <td>162928</td>\n",
       "      <td>Johns Hopkins University</td>\n",
       "      <td>MD</td>\n",
       "      <td>2.0</td>\n",
       "      <td>NaN</td>\n",
       "      <td>NaN</td>\n",
       "      <td>1996</td>\n",
       "      <td>NaN</td>\n",
       "    </tr>\n",
       "    <tr>\n",
       "      <td>2039</td>\n",
       "      <td>162928</td>\n",
       "      <td>Johns Hopkins University</td>\n",
       "      <td>MD</td>\n",
       "      <td>2.0</td>\n",
       "      <td>NaN</td>\n",
       "      <td>NaN</td>\n",
       "      <td>1997</td>\n",
       "      <td>NaN</td>\n",
       "    </tr>\n",
       "    <tr>\n",
       "      <td>1973</td>\n",
       "      <td>162928</td>\n",
       "      <td>Johns Hopkins University</td>\n",
       "      <td>MD</td>\n",
       "      <td>2.0</td>\n",
       "      <td>NaN</td>\n",
       "      <td>NaN</td>\n",
       "      <td>1998</td>\n",
       "      <td>NaN</td>\n",
       "    </tr>\n",
       "    <tr>\n",
       "      <td>1946</td>\n",
       "      <td>162928</td>\n",
       "      <td>Johns Hopkins University</td>\n",
       "      <td>MD</td>\n",
       "      <td>2.0</td>\n",
       "      <td>NaN</td>\n",
       "      <td>NaN</td>\n",
       "      <td>1999</td>\n",
       "      <td>NaN</td>\n",
       "    </tr>\n",
       "    <tr>\n",
       "      <td>1917</td>\n",
       "      <td>162928</td>\n",
       "      <td>Johns Hopkins University</td>\n",
       "      <td>MD</td>\n",
       "      <td>2.0</td>\n",
       "      <td>NaN</td>\n",
       "      <td>24930.0</td>\n",
       "      <td>2000</td>\n",
       "      <td>2492900.0</td>\n",
       "    </tr>\n",
       "  </tbody>\n",
       "</table>\n",
       "</div>"
      ],
      "text/plain": [
       "      UNITID                    INSTNM STABBR  REGION  ADM_RATE  \\\n",
       "2139  162928  Johns Hopkins University     MD     2.0       NaN   \n",
       "2039  162928  Johns Hopkins University     MD     2.0       NaN   \n",
       "1973  162928  Johns Hopkins University     MD     2.0       NaN   \n",
       "1946  162928  Johns Hopkins University     MD     2.0       NaN   \n",
       "1917  162928  Johns Hopkins University     MD     2.0       NaN   \n",
       "\n",
       "      TUITIONFEE_IN  Year  PCT_CHANGE  \n",
       "2139            NaN  1996         NaN  \n",
       "2039            NaN  1997         NaN  \n",
       "1973            NaN  1998         NaN  \n",
       "1946            NaN  1999         NaN  \n",
       "1917        24930.0  2000   2492900.0  "
      ]
     },
     "execution_count": 35,
     "metadata": {},
     "output_type": "execute_result"
    }
   ],
   "source": [
    "JHU_df2[\"PCT_CHANGE\"] = PC_list2\n",
    "\n",
    "JHU_df2.head()"
   ]
  },
  {
   "cell_type": "code",
   "execution_count": 36,
   "metadata": {},
   "outputs": [
    {
     "data": {
      "application/vnd.plotly.v1+json": {
       "config": {
        "plotlyServerURL": "https://plot.ly"
       },
       "data": [
        {
         "alignmentgroup": "True",
         "hovertemplate": "INSTNM=%{x}<br>Year=1996<br>PCT_CHANGE=%{y}<extra></extra>",
         "legendgroup": "Johns Hopkins University",
         "marker": {
          "color": "#636efa"
         },
         "name": "Johns Hopkins University",
         "offsetgroup": "Johns Hopkins University",
         "orientation": "v",
         "showlegend": true,
         "textposition": "auto",
         "type": "bar",
         "x": [
          "Johns Hopkins University"
         ],
         "xaxis": "x",
         "y": [
          null
         ],
         "yaxis": "y"
        }
       ],
       "frames": [
        {
         "data": [
          {
           "alignmentgroup": "True",
           "hovertemplate": "INSTNM=%{x}<br>Year=1996<br>PCT_CHANGE=%{y}<extra></extra>",
           "legendgroup": "Johns Hopkins University",
           "marker": {
            "color": "#636efa"
           },
           "name": "Johns Hopkins University",
           "offsetgroup": "Johns Hopkins University",
           "orientation": "v",
           "showlegend": true,
           "textposition": "auto",
           "type": "bar",
           "x": [
            "Johns Hopkins University"
           ],
           "xaxis": "x",
           "y": [
            null
           ],
           "yaxis": "y"
          }
         ],
         "name": "1996"
        },
        {
         "data": [
          {
           "alignmentgroup": "True",
           "hovertemplate": "INSTNM=%{x}<br>Year=1997<br>PCT_CHANGE=%{y}<extra></extra>",
           "legendgroup": "Johns Hopkins University",
           "marker": {
            "color": "#636efa"
           },
           "name": "Johns Hopkins University",
           "offsetgroup": "Johns Hopkins University",
           "orientation": "v",
           "showlegend": true,
           "textposition": "auto",
           "type": "bar",
           "x": [
            "Johns Hopkins University"
           ],
           "xaxis": "x",
           "y": [
            null
           ],
           "yaxis": "y"
          }
         ],
         "name": "1997"
        },
        {
         "data": [
          {
           "alignmentgroup": "True",
           "hovertemplate": "INSTNM=%{x}<br>Year=1998<br>PCT_CHANGE=%{y}<extra></extra>",
           "legendgroup": "Johns Hopkins University",
           "marker": {
            "color": "#636efa"
           },
           "name": "Johns Hopkins University",
           "offsetgroup": "Johns Hopkins University",
           "orientation": "v",
           "showlegend": true,
           "textposition": "auto",
           "type": "bar",
           "x": [
            "Johns Hopkins University"
           ],
           "xaxis": "x",
           "y": [
            null
           ],
           "yaxis": "y"
          }
         ],
         "name": "1998"
        },
        {
         "data": [
          {
           "alignmentgroup": "True",
           "hovertemplate": "INSTNM=%{x}<br>Year=1999<br>PCT_CHANGE=%{y}<extra></extra>",
           "legendgroup": "Johns Hopkins University",
           "marker": {
            "color": "#636efa"
           },
           "name": "Johns Hopkins University",
           "offsetgroup": "Johns Hopkins University",
           "orientation": "v",
           "showlegend": true,
           "textposition": "auto",
           "type": "bar",
           "x": [
            "Johns Hopkins University"
           ],
           "xaxis": "x",
           "y": [
            null
           ],
           "yaxis": "y"
          }
         ],
         "name": "1999"
        },
        {
         "data": [
          {
           "alignmentgroup": "True",
           "hovertemplate": "INSTNM=%{x}<br>Year=2000<br>PCT_CHANGE=%{y}<extra></extra>",
           "legendgroup": "Johns Hopkins University",
           "marker": {
            "color": "#636efa"
           },
           "name": "Johns Hopkins University",
           "offsetgroup": "Johns Hopkins University",
           "orientation": "v",
           "showlegend": true,
           "textposition": "auto",
           "type": "bar",
           "x": [
            "Johns Hopkins University"
           ],
           "xaxis": "x",
           "y": [
            2492900
           ],
           "yaxis": "y"
          }
         ],
         "name": "2000"
        },
        {
         "data": [
          {
           "alignmentgroup": "True",
           "hovertemplate": "INSTNM=%{x}<br>Year=2001<br>PCT_CHANGE=%{y}<extra></extra>",
           "legendgroup": "Johns Hopkins University",
           "marker": {
            "color": "#636efa"
           },
           "name": "Johns Hopkins University",
           "offsetgroup": "Johns Hopkins University",
           "orientation": "v",
           "showlegend": true,
           "textposition": "auto",
           "type": "bar",
           "x": [
            "Johns Hopkins University"
           ],
           "xaxis": "x",
           "y": [
            2620900
           ],
           "yaxis": "y"
          }
         ],
         "name": "2001"
        },
        {
         "data": [
          {
           "alignmentgroup": "True",
           "hovertemplate": "INSTNM=%{x}<br>Year=2002<br>PCT_CHANGE=%{y}<extra></extra>",
           "legendgroup": "Johns Hopkins University",
           "marker": {
            "color": "#636efa"
           },
           "name": "Johns Hopkins University",
           "offsetgroup": "Johns Hopkins University",
           "orientation": "v",
           "showlegend": true,
           "textposition": "auto",
           "type": "bar",
           "x": [
            "Johns Hopkins University"
           ],
           "xaxis": "x",
           "y": [
            2738900
           ],
           "yaxis": "y"
          }
         ],
         "name": "2002"
        },
        {
         "data": [
          {
           "alignmentgroup": "True",
           "hovertemplate": "INSTNM=%{x}<br>Year=2003<br>PCT_CHANGE=%{y}<extra></extra>",
           "legendgroup": "Johns Hopkins University",
           "marker": {
            "color": "#636efa"
           },
           "name": "Johns Hopkins University",
           "offsetgroup": "Johns Hopkins University",
           "orientation": "v",
           "showlegend": true,
           "textposition": "auto",
           "type": "bar",
           "x": [
            "Johns Hopkins University"
           ],
           "xaxis": "x",
           "y": [
            2872900
           ],
           "yaxis": "y"
          }
         ],
         "name": "2003"
        },
        {
         "data": [
          {
           "alignmentgroup": "True",
           "hovertemplate": "INSTNM=%{x}<br>Year=2004<br>PCT_CHANGE=%{y}<extra></extra>",
           "legendgroup": "Johns Hopkins University",
           "marker": {
            "color": "#636efa"
           },
           "name": "Johns Hopkins University",
           "offsetgroup": "Johns Hopkins University",
           "orientation": "v",
           "showlegend": true,
           "textposition": "auto",
           "type": "bar",
           "x": [
            "Johns Hopkins University"
           ],
           "xaxis": "x",
           "y": [
            3013900
           ],
           "yaxis": "y"
          }
         ],
         "name": "2004"
        },
        {
         "data": [
          {
           "alignmentgroup": "True",
           "hovertemplate": "INSTNM=%{x}<br>Year=2005<br>PCT_CHANGE=%{y}<extra></extra>",
           "legendgroup": "Johns Hopkins University",
           "marker": {
            "color": "#636efa"
           },
           "name": "Johns Hopkins University",
           "offsetgroup": "Johns Hopkins University",
           "orientation": "v",
           "showlegend": true,
           "textposition": "auto",
           "type": "bar",
           "x": [
            "Johns Hopkins University"
           ],
           "xaxis": "x",
           "y": [
            3161900
           ],
           "yaxis": "y"
          }
         ],
         "name": "2005"
        },
        {
         "data": [
          {
           "alignmentgroup": "True",
           "hovertemplate": "INSTNM=%{x}<br>Year=2006<br>PCT_CHANGE=%{y}<extra></extra>",
           "legendgroup": "Johns Hopkins University",
           "marker": {
            "color": "#636efa"
           },
           "name": "Johns Hopkins University",
           "offsetgroup": "Johns Hopkins University",
           "orientation": "v",
           "showlegend": true,
           "textposition": "auto",
           "type": "bar",
           "x": [
            "Johns Hopkins University"
           ],
           "xaxis": "x",
           "y": [
            3389900
           ],
           "yaxis": "y"
          }
         ],
         "name": "2006"
        },
        {
         "data": [
          {
           "alignmentgroup": "True",
           "hovertemplate": "INSTNM=%{x}<br>Year=2007<br>PCT_CHANGE=%{y}<extra></extra>",
           "legendgroup": "Johns Hopkins University",
           "marker": {
            "color": "#636efa"
           },
           "name": "Johns Hopkins University",
           "offsetgroup": "Johns Hopkins University",
           "orientation": "v",
           "showlegend": true,
           "textposition": "auto",
           "type": "bar",
           "x": [
            "Johns Hopkins University"
           ],
           "xaxis": "x",
           "y": [
            3589900
           ],
           "yaxis": "y"
          }
         ],
         "name": "2007"
        },
        {
         "data": [
          {
           "alignmentgroup": "True",
           "hovertemplate": "INSTNM=%{x}<br>Year=2008<br>PCT_CHANGE=%{y}<extra></extra>",
           "legendgroup": "Johns Hopkins University",
           "marker": {
            "color": "#636efa"
           },
           "name": "Johns Hopkins University",
           "offsetgroup": "Johns Hopkins University",
           "orientation": "v",
           "showlegend": true,
           "textposition": "auto",
           "type": "bar",
           "x": [
            "Johns Hopkins University"
           ],
           "xaxis": "x",
           "y": [
            3769900
           ],
           "yaxis": "y"
          }
         ],
         "name": "2008"
        },
        {
         "data": [
          {
           "alignmentgroup": "True",
           "hovertemplate": "INSTNM=%{x}<br>Year=2009<br>PCT_CHANGE=%{y}<extra></extra>",
           "legendgroup": "Johns Hopkins University",
           "marker": {
            "color": "#636efa"
           },
           "name": "Johns Hopkins University",
           "offsetgroup": "Johns Hopkins University",
           "orientation": "v",
           "showlegend": true,
           "textposition": "auto",
           "type": "bar",
           "x": [
            "Johns Hopkins University"
           ],
           "xaxis": "x",
           "y": [
            3914900
           ],
           "yaxis": "y"
          }
         ],
         "name": "2009"
        },
        {
         "data": [
          {
           "alignmentgroup": "True",
           "hovertemplate": "INSTNM=%{x}<br>Year=2010<br>PCT_CHANGE=%{y}<extra></extra>",
           "legendgroup": "Johns Hopkins University",
           "marker": {
            "color": "#636efa"
           },
           "name": "Johns Hopkins University",
           "offsetgroup": "Johns Hopkins University",
           "orientation": "v",
           "showlegend": true,
           "textposition": "auto",
           "type": "bar",
           "x": [
            "Johns Hopkins University"
           ],
           "xaxis": "x",
           "y": [
            4067900
           ],
           "yaxis": "y"
          }
         ],
         "name": "2010"
        },
        {
         "data": [
          {
           "alignmentgroup": "True",
           "hovertemplate": "INSTNM=%{x}<br>Year=2011<br>PCT_CHANGE=%{y}<extra></extra>",
           "legendgroup": "Johns Hopkins University",
           "marker": {
            "color": "#636efa"
           },
           "name": "Johns Hopkins University",
           "offsetgroup": "Johns Hopkins University",
           "orientation": "v",
           "showlegend": true,
           "textposition": "auto",
           "type": "bar",
           "x": [
            "Johns Hopkins University"
           ],
           "xaxis": "x",
           "y": [
            4227900
           ],
           "yaxis": "y"
          }
         ],
         "name": "2011"
        },
        {
         "data": [
          {
           "alignmentgroup": "True",
           "hovertemplate": "INSTNM=%{x}<br>Year=2012<br>PCT_CHANGE=%{y}<extra></extra>",
           "legendgroup": "Johns Hopkins University",
           "marker": {
            "color": "#636efa"
           },
           "name": "Johns Hopkins University",
           "offsetgroup": "Johns Hopkins University",
           "orientation": "v",
           "showlegend": true,
           "textposition": "auto",
           "type": "bar",
           "x": [
            "Johns Hopkins University"
           ],
           "xaxis": "x",
           "y": [
            4338900
           ],
           "yaxis": "y"
          }
         ],
         "name": "2012"
        },
        {
         "data": [
          {
           "alignmentgroup": "True",
           "hovertemplate": "INSTNM=%{x}<br>Year=2013<br>PCT_CHANGE=%{y}<extra></extra>",
           "legendgroup": "Johns Hopkins University",
           "marker": {
            "color": "#636efa"
           },
           "name": "Johns Hopkins University",
           "offsetgroup": "Johns Hopkins University",
           "orientation": "v",
           "showlegend": true,
           "textposition": "auto",
           "type": "bar",
           "x": [
            "Johns Hopkins University"
           ],
           "xaxis": "x",
           "y": [
            4546900
           ],
           "yaxis": "y"
          }
         ],
         "name": "2013"
        },
        {
         "data": [
          {
           "alignmentgroup": "True",
           "hovertemplate": "INSTNM=%{x}<br>Year=2014<br>PCT_CHANGE=%{y}<extra></extra>",
           "legendgroup": "Johns Hopkins University",
           "marker": {
            "color": "#636efa"
           },
           "name": "Johns Hopkins University",
           "offsetgroup": "Johns Hopkins University",
           "orientation": "v",
           "showlegend": true,
           "textposition": "auto",
           "type": "bar",
           "x": [
            "Johns Hopkins University"
           ],
           "xaxis": "x",
           "y": [
            4705900
           ],
           "yaxis": "y"
          }
         ],
         "name": "2014"
        },
        {
         "data": [
          {
           "alignmentgroup": "True",
           "hovertemplate": "INSTNM=%{x}<br>Year=2015<br>PCT_CHANGE=%{y}<extra></extra>",
           "legendgroup": "Johns Hopkins University",
           "marker": {
            "color": "#636efa"
           },
           "name": "Johns Hopkins University",
           "offsetgroup": "Johns Hopkins University",
           "orientation": "v",
           "showlegend": true,
           "textposition": "auto",
           "type": "bar",
           "x": [
            "Johns Hopkins University"
           ],
           "xaxis": "x",
           "y": [
            4870900
           ],
           "yaxis": "y"
          }
         ],
         "name": "2015"
        },
        {
         "data": [
          {
           "alignmentgroup": "True",
           "hovertemplate": "INSTNM=%{x}<br>Year=2016<br>PCT_CHANGE=%{y}<extra></extra>",
           "legendgroup": "Johns Hopkins University",
           "marker": {
            "color": "#636efa"
           },
           "name": "Johns Hopkins University",
           "offsetgroup": "Johns Hopkins University",
           "orientation": "v",
           "showlegend": true,
           "textposition": "auto",
           "type": "bar",
           "x": [
            "Johns Hopkins University"
           ],
           "xaxis": "x",
           "y": [
            5040900
           ],
           "yaxis": "y"
          }
         ],
         "name": "2016"
        },
        {
         "data": [
          {
           "alignmentgroup": "True",
           "hovertemplate": "INSTNM=%{x}<br>Year=2017<br>PCT_CHANGE=%{y}<extra></extra>",
           "legendgroup": "Johns Hopkins University",
           "marker": {
            "color": "#636efa"
           },
           "name": "Johns Hopkins University",
           "offsetgroup": "Johns Hopkins University",
           "orientation": "v",
           "showlegend": true,
           "textposition": "auto",
           "type": "bar",
           "x": [
            "Johns Hopkins University"
           ],
           "xaxis": "x",
           "y": [
            5216900
           ],
           "yaxis": "y"
          }
         ],
         "name": "2017"
        },
        {
         "data": [
          {
           "alignmentgroup": "True",
           "hovertemplate": "INSTNM=%{x}<br>Year=2018<br>PCT_CHANGE=%{y}<extra></extra>",
           "legendgroup": "Johns Hopkins University",
           "marker": {
            "color": "#636efa"
           },
           "name": "Johns Hopkins University",
           "offsetgroup": "Johns Hopkins University",
           "orientation": "v",
           "showlegend": true,
           "textposition": "auto",
           "type": "bar",
           "x": [
            "Johns Hopkins University"
           ],
           "xaxis": "x",
           "y": [
            5373900
           ],
           "yaxis": "y"
          }
         ],
         "name": "2018"
        }
       ],
       "layout": {
        "barmode": "relative",
        "legend": {
         "title": {
          "text": "INSTNM"
         },
         "tracegroupgap": 0
        },
        "margin": {
         "t": 60
        },
        "sliders": [
         {
          "active": 0,
          "currentvalue": {
           "prefix": "Year="
          },
          "len": 0.9,
          "pad": {
           "b": 10,
           "t": 60
          },
          "steps": [
           {
            "args": [
             [
              "1996"
             ],
             {
              "frame": {
               "duration": 0,
               "redraw": true
              },
              "fromcurrent": true,
              "mode": "immediate",
              "transition": {
               "duration": 0,
               "easing": "linear"
              }
             }
            ],
            "label": "1996",
            "method": "animate"
           },
           {
            "args": [
             [
              "1997"
             ],
             {
              "frame": {
               "duration": 0,
               "redraw": true
              },
              "fromcurrent": true,
              "mode": "immediate",
              "transition": {
               "duration": 0,
               "easing": "linear"
              }
             }
            ],
            "label": "1997",
            "method": "animate"
           },
           {
            "args": [
             [
              "1998"
             ],
             {
              "frame": {
               "duration": 0,
               "redraw": true
              },
              "fromcurrent": true,
              "mode": "immediate",
              "transition": {
               "duration": 0,
               "easing": "linear"
              }
             }
            ],
            "label": "1998",
            "method": "animate"
           },
           {
            "args": [
             [
              "1999"
             ],
             {
              "frame": {
               "duration": 0,
               "redraw": true
              },
              "fromcurrent": true,
              "mode": "immediate",
              "transition": {
               "duration": 0,
               "easing": "linear"
              }
             }
            ],
            "label": "1999",
            "method": "animate"
           },
           {
            "args": [
             [
              "2000"
             ],
             {
              "frame": {
               "duration": 0,
               "redraw": true
              },
              "fromcurrent": true,
              "mode": "immediate",
              "transition": {
               "duration": 0,
               "easing": "linear"
              }
             }
            ],
            "label": "2000",
            "method": "animate"
           },
           {
            "args": [
             [
              "2001"
             ],
             {
              "frame": {
               "duration": 0,
               "redraw": true
              },
              "fromcurrent": true,
              "mode": "immediate",
              "transition": {
               "duration": 0,
               "easing": "linear"
              }
             }
            ],
            "label": "2001",
            "method": "animate"
           },
           {
            "args": [
             [
              "2002"
             ],
             {
              "frame": {
               "duration": 0,
               "redraw": true
              },
              "fromcurrent": true,
              "mode": "immediate",
              "transition": {
               "duration": 0,
               "easing": "linear"
              }
             }
            ],
            "label": "2002",
            "method": "animate"
           },
           {
            "args": [
             [
              "2003"
             ],
             {
              "frame": {
               "duration": 0,
               "redraw": true
              },
              "fromcurrent": true,
              "mode": "immediate",
              "transition": {
               "duration": 0,
               "easing": "linear"
              }
             }
            ],
            "label": "2003",
            "method": "animate"
           },
           {
            "args": [
             [
              "2004"
             ],
             {
              "frame": {
               "duration": 0,
               "redraw": true
              },
              "fromcurrent": true,
              "mode": "immediate",
              "transition": {
               "duration": 0,
               "easing": "linear"
              }
             }
            ],
            "label": "2004",
            "method": "animate"
           },
           {
            "args": [
             [
              "2005"
             ],
             {
              "frame": {
               "duration": 0,
               "redraw": true
              },
              "fromcurrent": true,
              "mode": "immediate",
              "transition": {
               "duration": 0,
               "easing": "linear"
              }
             }
            ],
            "label": "2005",
            "method": "animate"
           },
           {
            "args": [
             [
              "2006"
             ],
             {
              "frame": {
               "duration": 0,
               "redraw": true
              },
              "fromcurrent": true,
              "mode": "immediate",
              "transition": {
               "duration": 0,
               "easing": "linear"
              }
             }
            ],
            "label": "2006",
            "method": "animate"
           },
           {
            "args": [
             [
              "2007"
             ],
             {
              "frame": {
               "duration": 0,
               "redraw": true
              },
              "fromcurrent": true,
              "mode": "immediate",
              "transition": {
               "duration": 0,
               "easing": "linear"
              }
             }
            ],
            "label": "2007",
            "method": "animate"
           },
           {
            "args": [
             [
              "2008"
             ],
             {
              "frame": {
               "duration": 0,
               "redraw": true
              },
              "fromcurrent": true,
              "mode": "immediate",
              "transition": {
               "duration": 0,
               "easing": "linear"
              }
             }
            ],
            "label": "2008",
            "method": "animate"
           },
           {
            "args": [
             [
              "2009"
             ],
             {
              "frame": {
               "duration": 0,
               "redraw": true
              },
              "fromcurrent": true,
              "mode": "immediate",
              "transition": {
               "duration": 0,
               "easing": "linear"
              }
             }
            ],
            "label": "2009",
            "method": "animate"
           },
           {
            "args": [
             [
              "2010"
             ],
             {
              "frame": {
               "duration": 0,
               "redraw": true
              },
              "fromcurrent": true,
              "mode": "immediate",
              "transition": {
               "duration": 0,
               "easing": "linear"
              }
             }
            ],
            "label": "2010",
            "method": "animate"
           },
           {
            "args": [
             [
              "2011"
             ],
             {
              "frame": {
               "duration": 0,
               "redraw": true
              },
              "fromcurrent": true,
              "mode": "immediate",
              "transition": {
               "duration": 0,
               "easing": "linear"
              }
             }
            ],
            "label": "2011",
            "method": "animate"
           },
           {
            "args": [
             [
              "2012"
             ],
             {
              "frame": {
               "duration": 0,
               "redraw": true
              },
              "fromcurrent": true,
              "mode": "immediate",
              "transition": {
               "duration": 0,
               "easing": "linear"
              }
             }
            ],
            "label": "2012",
            "method": "animate"
           },
           {
            "args": [
             [
              "2013"
             ],
             {
              "frame": {
               "duration": 0,
               "redraw": true
              },
              "fromcurrent": true,
              "mode": "immediate",
              "transition": {
               "duration": 0,
               "easing": "linear"
              }
             }
            ],
            "label": "2013",
            "method": "animate"
           },
           {
            "args": [
             [
              "2014"
             ],
             {
              "frame": {
               "duration": 0,
               "redraw": true
              },
              "fromcurrent": true,
              "mode": "immediate",
              "transition": {
               "duration": 0,
               "easing": "linear"
              }
             }
            ],
            "label": "2014",
            "method": "animate"
           },
           {
            "args": [
             [
              "2015"
             ],
             {
              "frame": {
               "duration": 0,
               "redraw": true
              },
              "fromcurrent": true,
              "mode": "immediate",
              "transition": {
               "duration": 0,
               "easing": "linear"
              }
             }
            ],
            "label": "2015",
            "method": "animate"
           },
           {
            "args": [
             [
              "2016"
             ],
             {
              "frame": {
               "duration": 0,
               "redraw": true
              },
              "fromcurrent": true,
              "mode": "immediate",
              "transition": {
               "duration": 0,
               "easing": "linear"
              }
             }
            ],
            "label": "2016",
            "method": "animate"
           },
           {
            "args": [
             [
              "2017"
             ],
             {
              "frame": {
               "duration": 0,
               "redraw": true
              },
              "fromcurrent": true,
              "mode": "immediate",
              "transition": {
               "duration": 0,
               "easing": "linear"
              }
             }
            ],
            "label": "2017",
            "method": "animate"
           },
           {
            "args": [
             [
              "2018"
             ],
             {
              "frame": {
               "duration": 0,
               "redraw": true
              },
              "fromcurrent": true,
              "mode": "immediate",
              "transition": {
               "duration": 0,
               "easing": "linear"
              }
             }
            ],
            "label": "2018",
            "method": "animate"
           }
          ],
          "x": 0.1,
          "xanchor": "left",
          "y": 0,
          "yanchor": "top"
         }
        ],
        "template": {
         "data": {
          "bar": [
           {
            "error_x": {
             "color": "#2a3f5f"
            },
            "error_y": {
             "color": "#2a3f5f"
            },
            "marker": {
             "line": {
              "color": "#E5ECF6",
              "width": 0.5
             }
            },
            "type": "bar"
           }
          ],
          "barpolar": [
           {
            "marker": {
             "line": {
              "color": "#E5ECF6",
              "width": 0.5
             }
            },
            "type": "barpolar"
           }
          ],
          "carpet": [
           {
            "aaxis": {
             "endlinecolor": "#2a3f5f",
             "gridcolor": "white",
             "linecolor": "white",
             "minorgridcolor": "white",
             "startlinecolor": "#2a3f5f"
            },
            "baxis": {
             "endlinecolor": "#2a3f5f",
             "gridcolor": "white",
             "linecolor": "white",
             "minorgridcolor": "white",
             "startlinecolor": "#2a3f5f"
            },
            "type": "carpet"
           }
          ],
          "choropleth": [
           {
            "colorbar": {
             "outlinewidth": 0,
             "ticks": ""
            },
            "type": "choropleth"
           }
          ],
          "contour": [
           {
            "colorbar": {
             "outlinewidth": 0,
             "ticks": ""
            },
            "colorscale": [
             [
              0,
              "#0d0887"
             ],
             [
              0.1111111111111111,
              "#46039f"
             ],
             [
              0.2222222222222222,
              "#7201a8"
             ],
             [
              0.3333333333333333,
              "#9c179e"
             ],
             [
              0.4444444444444444,
              "#bd3786"
             ],
             [
              0.5555555555555556,
              "#d8576b"
             ],
             [
              0.6666666666666666,
              "#ed7953"
             ],
             [
              0.7777777777777778,
              "#fb9f3a"
             ],
             [
              0.8888888888888888,
              "#fdca26"
             ],
             [
              1,
              "#f0f921"
             ]
            ],
            "type": "contour"
           }
          ],
          "contourcarpet": [
           {
            "colorbar": {
             "outlinewidth": 0,
             "ticks": ""
            },
            "type": "contourcarpet"
           }
          ],
          "heatmap": [
           {
            "colorbar": {
             "outlinewidth": 0,
             "ticks": ""
            },
            "colorscale": [
             [
              0,
              "#0d0887"
             ],
             [
              0.1111111111111111,
              "#46039f"
             ],
             [
              0.2222222222222222,
              "#7201a8"
             ],
             [
              0.3333333333333333,
              "#9c179e"
             ],
             [
              0.4444444444444444,
              "#bd3786"
             ],
             [
              0.5555555555555556,
              "#d8576b"
             ],
             [
              0.6666666666666666,
              "#ed7953"
             ],
             [
              0.7777777777777778,
              "#fb9f3a"
             ],
             [
              0.8888888888888888,
              "#fdca26"
             ],
             [
              1,
              "#f0f921"
             ]
            ],
            "type": "heatmap"
           }
          ],
          "heatmapgl": [
           {
            "colorbar": {
             "outlinewidth": 0,
             "ticks": ""
            },
            "colorscale": [
             [
              0,
              "#0d0887"
             ],
             [
              0.1111111111111111,
              "#46039f"
             ],
             [
              0.2222222222222222,
              "#7201a8"
             ],
             [
              0.3333333333333333,
              "#9c179e"
             ],
             [
              0.4444444444444444,
              "#bd3786"
             ],
             [
              0.5555555555555556,
              "#d8576b"
             ],
             [
              0.6666666666666666,
              "#ed7953"
             ],
             [
              0.7777777777777778,
              "#fb9f3a"
             ],
             [
              0.8888888888888888,
              "#fdca26"
             ],
             [
              1,
              "#f0f921"
             ]
            ],
            "type": "heatmapgl"
           }
          ],
          "histogram": [
           {
            "marker": {
             "colorbar": {
              "outlinewidth": 0,
              "ticks": ""
             }
            },
            "type": "histogram"
           }
          ],
          "histogram2d": [
           {
            "colorbar": {
             "outlinewidth": 0,
             "ticks": ""
            },
            "colorscale": [
             [
              0,
              "#0d0887"
             ],
             [
              0.1111111111111111,
              "#46039f"
             ],
             [
              0.2222222222222222,
              "#7201a8"
             ],
             [
              0.3333333333333333,
              "#9c179e"
             ],
             [
              0.4444444444444444,
              "#bd3786"
             ],
             [
              0.5555555555555556,
              "#d8576b"
             ],
             [
              0.6666666666666666,
              "#ed7953"
             ],
             [
              0.7777777777777778,
              "#fb9f3a"
             ],
             [
              0.8888888888888888,
              "#fdca26"
             ],
             [
              1,
              "#f0f921"
             ]
            ],
            "type": "histogram2d"
           }
          ],
          "histogram2dcontour": [
           {
            "colorbar": {
             "outlinewidth": 0,
             "ticks": ""
            },
            "colorscale": [
             [
              0,
              "#0d0887"
             ],
             [
              0.1111111111111111,
              "#46039f"
             ],
             [
              0.2222222222222222,
              "#7201a8"
             ],
             [
              0.3333333333333333,
              "#9c179e"
             ],
             [
              0.4444444444444444,
              "#bd3786"
             ],
             [
              0.5555555555555556,
              "#d8576b"
             ],
             [
              0.6666666666666666,
              "#ed7953"
             ],
             [
              0.7777777777777778,
              "#fb9f3a"
             ],
             [
              0.8888888888888888,
              "#fdca26"
             ],
             [
              1,
              "#f0f921"
             ]
            ],
            "type": "histogram2dcontour"
           }
          ],
          "mesh3d": [
           {
            "colorbar": {
             "outlinewidth": 0,
             "ticks": ""
            },
            "type": "mesh3d"
           }
          ],
          "parcoords": [
           {
            "line": {
             "colorbar": {
              "outlinewidth": 0,
              "ticks": ""
             }
            },
            "type": "parcoords"
           }
          ],
          "pie": [
           {
            "automargin": true,
            "type": "pie"
           }
          ],
          "scatter": [
           {
            "marker": {
             "colorbar": {
              "outlinewidth": 0,
              "ticks": ""
             }
            },
            "type": "scatter"
           }
          ],
          "scatter3d": [
           {
            "line": {
             "colorbar": {
              "outlinewidth": 0,
              "ticks": ""
             }
            },
            "marker": {
             "colorbar": {
              "outlinewidth": 0,
              "ticks": ""
             }
            },
            "type": "scatter3d"
           }
          ],
          "scattercarpet": [
           {
            "marker": {
             "colorbar": {
              "outlinewidth": 0,
              "ticks": ""
             }
            },
            "type": "scattercarpet"
           }
          ],
          "scattergeo": [
           {
            "marker": {
             "colorbar": {
              "outlinewidth": 0,
              "ticks": ""
             }
            },
            "type": "scattergeo"
           }
          ],
          "scattergl": [
           {
            "marker": {
             "colorbar": {
              "outlinewidth": 0,
              "ticks": ""
             }
            },
            "type": "scattergl"
           }
          ],
          "scattermapbox": [
           {
            "marker": {
             "colorbar": {
              "outlinewidth": 0,
              "ticks": ""
             }
            },
            "type": "scattermapbox"
           }
          ],
          "scatterpolar": [
           {
            "marker": {
             "colorbar": {
              "outlinewidth": 0,
              "ticks": ""
             }
            },
            "type": "scatterpolar"
           }
          ],
          "scatterpolargl": [
           {
            "marker": {
             "colorbar": {
              "outlinewidth": 0,
              "ticks": ""
             }
            },
            "type": "scatterpolargl"
           }
          ],
          "scatterternary": [
           {
            "marker": {
             "colorbar": {
              "outlinewidth": 0,
              "ticks": ""
             }
            },
            "type": "scatterternary"
           }
          ],
          "surface": [
           {
            "colorbar": {
             "outlinewidth": 0,
             "ticks": ""
            },
            "colorscale": [
             [
              0,
              "#0d0887"
             ],
             [
              0.1111111111111111,
              "#46039f"
             ],
             [
              0.2222222222222222,
              "#7201a8"
             ],
             [
              0.3333333333333333,
              "#9c179e"
             ],
             [
              0.4444444444444444,
              "#bd3786"
             ],
             [
              0.5555555555555556,
              "#d8576b"
             ],
             [
              0.6666666666666666,
              "#ed7953"
             ],
             [
              0.7777777777777778,
              "#fb9f3a"
             ],
             [
              0.8888888888888888,
              "#fdca26"
             ],
             [
              1,
              "#f0f921"
             ]
            ],
            "type": "surface"
           }
          ],
          "table": [
           {
            "cells": {
             "fill": {
              "color": "#EBF0F8"
             },
             "line": {
              "color": "white"
             }
            },
            "header": {
             "fill": {
              "color": "#C8D4E3"
             },
             "line": {
              "color": "white"
             }
            },
            "type": "table"
           }
          ]
         },
         "layout": {
          "annotationdefaults": {
           "arrowcolor": "#2a3f5f",
           "arrowhead": 0,
           "arrowwidth": 1
          },
          "coloraxis": {
           "colorbar": {
            "outlinewidth": 0,
            "ticks": ""
           }
          },
          "colorscale": {
           "diverging": [
            [
             0,
             "#8e0152"
            ],
            [
             0.1,
             "#c51b7d"
            ],
            [
             0.2,
             "#de77ae"
            ],
            [
             0.3,
             "#f1b6da"
            ],
            [
             0.4,
             "#fde0ef"
            ],
            [
             0.5,
             "#f7f7f7"
            ],
            [
             0.6,
             "#e6f5d0"
            ],
            [
             0.7,
             "#b8e186"
            ],
            [
             0.8,
             "#7fbc41"
            ],
            [
             0.9,
             "#4d9221"
            ],
            [
             1,
             "#276419"
            ]
           ],
           "sequential": [
            [
             0,
             "#0d0887"
            ],
            [
             0.1111111111111111,
             "#46039f"
            ],
            [
             0.2222222222222222,
             "#7201a8"
            ],
            [
             0.3333333333333333,
             "#9c179e"
            ],
            [
             0.4444444444444444,
             "#bd3786"
            ],
            [
             0.5555555555555556,
             "#d8576b"
            ],
            [
             0.6666666666666666,
             "#ed7953"
            ],
            [
             0.7777777777777778,
             "#fb9f3a"
            ],
            [
             0.8888888888888888,
             "#fdca26"
            ],
            [
             1,
             "#f0f921"
            ]
           ],
           "sequentialminus": [
            [
             0,
             "#0d0887"
            ],
            [
             0.1111111111111111,
             "#46039f"
            ],
            [
             0.2222222222222222,
             "#7201a8"
            ],
            [
             0.3333333333333333,
             "#9c179e"
            ],
            [
             0.4444444444444444,
             "#bd3786"
            ],
            [
             0.5555555555555556,
             "#d8576b"
            ],
            [
             0.6666666666666666,
             "#ed7953"
            ],
            [
             0.7777777777777778,
             "#fb9f3a"
            ],
            [
             0.8888888888888888,
             "#fdca26"
            ],
            [
             1,
             "#f0f921"
            ]
           ]
          },
          "colorway": [
           "#636efa",
           "#EF553B",
           "#00cc96",
           "#ab63fa",
           "#FFA15A",
           "#19d3f3",
           "#FF6692",
           "#B6E880",
           "#FF97FF",
           "#FECB52"
          ],
          "font": {
           "color": "#2a3f5f"
          },
          "geo": {
           "bgcolor": "white",
           "lakecolor": "white",
           "landcolor": "#E5ECF6",
           "showlakes": true,
           "showland": true,
           "subunitcolor": "white"
          },
          "hoverlabel": {
           "align": "left"
          },
          "hovermode": "closest",
          "mapbox": {
           "style": "light"
          },
          "paper_bgcolor": "white",
          "plot_bgcolor": "#E5ECF6",
          "polar": {
           "angularaxis": {
            "gridcolor": "white",
            "linecolor": "white",
            "ticks": ""
           },
           "bgcolor": "#E5ECF6",
           "radialaxis": {
            "gridcolor": "white",
            "linecolor": "white",
            "ticks": ""
           }
          },
          "scene": {
           "xaxis": {
            "backgroundcolor": "#E5ECF6",
            "gridcolor": "white",
            "gridwidth": 2,
            "linecolor": "white",
            "showbackground": true,
            "ticks": "",
            "zerolinecolor": "white"
           },
           "yaxis": {
            "backgroundcolor": "#E5ECF6",
            "gridcolor": "white",
            "gridwidth": 2,
            "linecolor": "white",
            "showbackground": true,
            "ticks": "",
            "zerolinecolor": "white"
           },
           "zaxis": {
            "backgroundcolor": "#E5ECF6",
            "gridcolor": "white",
            "gridwidth": 2,
            "linecolor": "white",
            "showbackground": true,
            "ticks": "",
            "zerolinecolor": "white"
           }
          },
          "shapedefaults": {
           "line": {
            "color": "#2a3f5f"
           }
          },
          "ternary": {
           "aaxis": {
            "gridcolor": "white",
            "linecolor": "white",
            "ticks": ""
           },
           "baxis": {
            "gridcolor": "white",
            "linecolor": "white",
            "ticks": ""
           },
           "bgcolor": "#E5ECF6",
           "caxis": {
            "gridcolor": "white",
            "linecolor": "white",
            "ticks": ""
           }
          },
          "title": {
           "x": 0.05
          },
          "xaxis": {
           "automargin": true,
           "gridcolor": "white",
           "linecolor": "white",
           "ticks": "",
           "title": {
            "standoff": 15
           },
           "zerolinecolor": "white",
           "zerolinewidth": 2
          },
          "yaxis": {
           "automargin": true,
           "gridcolor": "white",
           "linecolor": "white",
           "ticks": "",
           "title": {
            "standoff": 15
           },
           "zerolinecolor": "white",
           "zerolinewidth": 2
          }
         }
        },
        "updatemenus": [
         {
          "buttons": [
           {
            "args": [
             null,
             {
              "frame": {
               "duration": 500,
               "redraw": true
              },
              "fromcurrent": true,
              "mode": "immediate",
              "transition": {
               "duration": 500,
               "easing": "linear"
              }
             }
            ],
            "label": "&#9654;",
            "method": "animate"
           },
           {
            "args": [
             [
              null
             ],
             {
              "frame": {
               "duration": 0,
               "redraw": true
              },
              "fromcurrent": true,
              "mode": "immediate",
              "transition": {
               "duration": 0,
               "easing": "linear"
              }
             }
            ],
            "label": "&#9724;",
            "method": "animate"
           }
          ],
          "direction": "left",
          "pad": {
           "r": 10,
           "t": 70
          },
          "showactive": false,
          "type": "buttons",
          "x": 0.1,
          "xanchor": "right",
          "y": 0,
          "yanchor": "top"
         }
        ],
        "xaxis": {
         "anchor": "y",
         "categoryarray": [
          "Johns Hopkins University"
         ],
         "categoryorder": "array",
         "domain": [
          0,
          1
         ],
         "title": {
          "text": "INSTNM"
         }
        },
        "yaxis": {
         "anchor": "x",
         "domain": [
          0,
          1
         ],
         "title": {
          "text": "PCT_CHANGE"
         }
        }
       }
      },
      "text/html": [
       "<div>\n",
       "        \n",
       "        \n",
       "            <div id=\"d7ab3d9f-1754-4666-b2bc-ee7f07826a9c\" class=\"plotly-graph-div\" style=\"height:525px; width:100%;\"></div>\n",
       "            <script type=\"text/javascript\">\n",
       "                require([\"plotly\"], function(Plotly) {\n",
       "                    window.PLOTLYENV=window.PLOTLYENV || {};\n",
       "                    \n",
       "                if (document.getElementById(\"d7ab3d9f-1754-4666-b2bc-ee7f07826a9c\")) {\n",
       "                    Plotly.newPlot(\n",
       "                        'd7ab3d9f-1754-4666-b2bc-ee7f07826a9c',\n",
       "                        [{\"alignmentgroup\": \"True\", \"hovertemplate\": \"INSTNM=%{x}<br>Year=1996<br>PCT_CHANGE=%{y}<extra></extra>\", \"legendgroup\": \"Johns Hopkins University\", \"marker\": {\"color\": \"#636efa\"}, \"name\": \"Johns Hopkins University\", \"offsetgroup\": \"Johns Hopkins University\", \"orientation\": \"v\", \"showlegend\": true, \"textposition\": \"auto\", \"type\": \"bar\", \"x\": [\"Johns Hopkins University\"], \"xaxis\": \"x\", \"y\": [null], \"yaxis\": \"y\"}],\n",
       "                        {\"barmode\": \"relative\", \"legend\": {\"title\": {\"text\": \"INSTNM\"}, \"tracegroupgap\": 0}, \"margin\": {\"t\": 60}, \"sliders\": [{\"active\": 0, \"currentvalue\": {\"prefix\": \"Year=\"}, \"len\": 0.9, \"pad\": {\"b\": 10, \"t\": 60}, \"steps\": [{\"args\": [[\"1996\"], {\"frame\": {\"duration\": 0, \"redraw\": true}, \"fromcurrent\": true, \"mode\": \"immediate\", \"transition\": {\"duration\": 0, \"easing\": \"linear\"}}], \"label\": \"1996\", \"method\": \"animate\"}, {\"args\": [[\"1997\"], {\"frame\": {\"duration\": 0, \"redraw\": true}, \"fromcurrent\": true, \"mode\": \"immediate\", \"transition\": {\"duration\": 0, \"easing\": \"linear\"}}], \"label\": \"1997\", \"method\": \"animate\"}, {\"args\": [[\"1998\"], {\"frame\": {\"duration\": 0, \"redraw\": true}, \"fromcurrent\": true, \"mode\": \"immediate\", \"transition\": {\"duration\": 0, \"easing\": \"linear\"}}], \"label\": \"1998\", \"method\": \"animate\"}, {\"args\": [[\"1999\"], {\"frame\": {\"duration\": 0, \"redraw\": true}, \"fromcurrent\": true, \"mode\": \"immediate\", \"transition\": {\"duration\": 0, \"easing\": \"linear\"}}], \"label\": \"1999\", \"method\": \"animate\"}, {\"args\": [[\"2000\"], {\"frame\": {\"duration\": 0, \"redraw\": true}, \"fromcurrent\": true, \"mode\": \"immediate\", \"transition\": {\"duration\": 0, \"easing\": \"linear\"}}], \"label\": \"2000\", \"method\": \"animate\"}, {\"args\": [[\"2001\"], {\"frame\": {\"duration\": 0, \"redraw\": true}, \"fromcurrent\": true, \"mode\": \"immediate\", \"transition\": {\"duration\": 0, \"easing\": \"linear\"}}], \"label\": \"2001\", \"method\": \"animate\"}, {\"args\": [[\"2002\"], {\"frame\": {\"duration\": 0, \"redraw\": true}, \"fromcurrent\": true, \"mode\": \"immediate\", \"transition\": {\"duration\": 0, \"easing\": \"linear\"}}], \"label\": \"2002\", \"method\": \"animate\"}, {\"args\": [[\"2003\"], {\"frame\": {\"duration\": 0, \"redraw\": true}, \"fromcurrent\": true, \"mode\": \"immediate\", \"transition\": {\"duration\": 0, \"easing\": \"linear\"}}], \"label\": \"2003\", \"method\": \"animate\"}, {\"args\": [[\"2004\"], {\"frame\": {\"duration\": 0, \"redraw\": true}, \"fromcurrent\": true, \"mode\": \"immediate\", \"transition\": {\"duration\": 0, \"easing\": \"linear\"}}], \"label\": \"2004\", \"method\": \"animate\"}, {\"args\": [[\"2005\"], {\"frame\": {\"duration\": 0, \"redraw\": true}, \"fromcurrent\": true, \"mode\": \"immediate\", \"transition\": {\"duration\": 0, \"easing\": \"linear\"}}], \"label\": \"2005\", \"method\": \"animate\"}, {\"args\": [[\"2006\"], {\"frame\": {\"duration\": 0, \"redraw\": true}, \"fromcurrent\": true, \"mode\": \"immediate\", \"transition\": {\"duration\": 0, \"easing\": \"linear\"}}], \"label\": \"2006\", \"method\": \"animate\"}, {\"args\": [[\"2007\"], {\"frame\": {\"duration\": 0, \"redraw\": true}, \"fromcurrent\": true, \"mode\": \"immediate\", \"transition\": {\"duration\": 0, \"easing\": \"linear\"}}], \"label\": \"2007\", \"method\": \"animate\"}, {\"args\": [[\"2008\"], {\"frame\": {\"duration\": 0, \"redraw\": true}, \"fromcurrent\": true, \"mode\": \"immediate\", \"transition\": {\"duration\": 0, \"easing\": \"linear\"}}], \"label\": \"2008\", \"method\": \"animate\"}, {\"args\": [[\"2009\"], {\"frame\": {\"duration\": 0, \"redraw\": true}, \"fromcurrent\": true, \"mode\": \"immediate\", \"transition\": {\"duration\": 0, \"easing\": \"linear\"}}], \"label\": \"2009\", \"method\": \"animate\"}, {\"args\": [[\"2010\"], {\"frame\": {\"duration\": 0, \"redraw\": true}, \"fromcurrent\": true, \"mode\": \"immediate\", \"transition\": {\"duration\": 0, \"easing\": \"linear\"}}], \"label\": \"2010\", \"method\": \"animate\"}, {\"args\": [[\"2011\"], {\"frame\": {\"duration\": 0, \"redraw\": true}, \"fromcurrent\": true, \"mode\": \"immediate\", \"transition\": {\"duration\": 0, \"easing\": \"linear\"}}], \"label\": \"2011\", \"method\": \"animate\"}, {\"args\": [[\"2012\"], {\"frame\": {\"duration\": 0, \"redraw\": true}, \"fromcurrent\": true, \"mode\": \"immediate\", \"transition\": {\"duration\": 0, \"easing\": \"linear\"}}], \"label\": \"2012\", \"method\": \"animate\"}, {\"args\": [[\"2013\"], {\"frame\": {\"duration\": 0, \"redraw\": true}, \"fromcurrent\": true, \"mode\": \"immediate\", \"transition\": {\"duration\": 0, \"easing\": \"linear\"}}], \"label\": \"2013\", \"method\": \"animate\"}, {\"args\": [[\"2014\"], {\"frame\": {\"duration\": 0, \"redraw\": true}, \"fromcurrent\": true, \"mode\": \"immediate\", \"transition\": {\"duration\": 0, \"easing\": \"linear\"}}], \"label\": \"2014\", \"method\": \"animate\"}, {\"args\": [[\"2015\"], {\"frame\": {\"duration\": 0, \"redraw\": true}, \"fromcurrent\": true, \"mode\": \"immediate\", \"transition\": {\"duration\": 0, \"easing\": \"linear\"}}], \"label\": \"2015\", \"method\": \"animate\"}, {\"args\": [[\"2016\"], {\"frame\": {\"duration\": 0, \"redraw\": true}, \"fromcurrent\": true, \"mode\": \"immediate\", \"transition\": {\"duration\": 0, \"easing\": \"linear\"}}], \"label\": \"2016\", \"method\": \"animate\"}, {\"args\": [[\"2017\"], {\"frame\": {\"duration\": 0, \"redraw\": true}, \"fromcurrent\": true, \"mode\": \"immediate\", \"transition\": {\"duration\": 0, \"easing\": \"linear\"}}], \"label\": \"2017\", \"method\": \"animate\"}, {\"args\": [[\"2018\"], {\"frame\": {\"duration\": 0, \"redraw\": true}, \"fromcurrent\": true, \"mode\": \"immediate\", \"transition\": {\"duration\": 0, \"easing\": \"linear\"}}], \"label\": \"2018\", \"method\": \"animate\"}], \"x\": 0.1, \"xanchor\": \"left\", \"y\": 0, \"yanchor\": \"top\"}], \"template\": {\"data\": {\"bar\": [{\"error_x\": {\"color\": \"#2a3f5f\"}, \"error_y\": {\"color\": \"#2a3f5f\"}, \"marker\": {\"line\": {\"color\": \"#E5ECF6\", \"width\": 0.5}}, \"type\": \"bar\"}], \"barpolar\": [{\"marker\": {\"line\": {\"color\": \"#E5ECF6\", \"width\": 0.5}}, \"type\": \"barpolar\"}], \"carpet\": [{\"aaxis\": {\"endlinecolor\": \"#2a3f5f\", \"gridcolor\": \"white\", \"linecolor\": \"white\", \"minorgridcolor\": \"white\", \"startlinecolor\": \"#2a3f5f\"}, \"baxis\": {\"endlinecolor\": \"#2a3f5f\", \"gridcolor\": \"white\", \"linecolor\": \"white\", \"minorgridcolor\": \"white\", \"startlinecolor\": \"#2a3f5f\"}, \"type\": \"carpet\"}], \"choropleth\": [{\"colorbar\": {\"outlinewidth\": 0, \"ticks\": \"\"}, \"type\": \"choropleth\"}], \"contour\": [{\"colorbar\": {\"outlinewidth\": 0, \"ticks\": \"\"}, \"colorscale\": [[0.0, \"#0d0887\"], [0.1111111111111111, \"#46039f\"], [0.2222222222222222, \"#7201a8\"], [0.3333333333333333, \"#9c179e\"], [0.4444444444444444, \"#bd3786\"], [0.5555555555555556, \"#d8576b\"], [0.6666666666666666, \"#ed7953\"], [0.7777777777777778, \"#fb9f3a\"], [0.8888888888888888, \"#fdca26\"], [1.0, \"#f0f921\"]], \"type\": \"contour\"}], \"contourcarpet\": [{\"colorbar\": {\"outlinewidth\": 0, \"ticks\": \"\"}, \"type\": \"contourcarpet\"}], \"heatmap\": [{\"colorbar\": {\"outlinewidth\": 0, \"ticks\": \"\"}, \"colorscale\": [[0.0, \"#0d0887\"], [0.1111111111111111, \"#46039f\"], [0.2222222222222222, \"#7201a8\"], [0.3333333333333333, \"#9c179e\"], [0.4444444444444444, \"#bd3786\"], [0.5555555555555556, \"#d8576b\"], [0.6666666666666666, \"#ed7953\"], [0.7777777777777778, \"#fb9f3a\"], [0.8888888888888888, \"#fdca26\"], [1.0, \"#f0f921\"]], \"type\": \"heatmap\"}], \"heatmapgl\": [{\"colorbar\": {\"outlinewidth\": 0, \"ticks\": \"\"}, \"colorscale\": [[0.0, \"#0d0887\"], [0.1111111111111111, \"#46039f\"], [0.2222222222222222, \"#7201a8\"], [0.3333333333333333, \"#9c179e\"], [0.4444444444444444, \"#bd3786\"], [0.5555555555555556, \"#d8576b\"], [0.6666666666666666, \"#ed7953\"], [0.7777777777777778, \"#fb9f3a\"], [0.8888888888888888, \"#fdca26\"], [1.0, \"#f0f921\"]], \"type\": \"heatmapgl\"}], \"histogram\": [{\"marker\": {\"colorbar\": {\"outlinewidth\": 0, \"ticks\": \"\"}}, \"type\": \"histogram\"}], \"histogram2d\": [{\"colorbar\": {\"outlinewidth\": 0, \"ticks\": \"\"}, \"colorscale\": [[0.0, \"#0d0887\"], [0.1111111111111111, \"#46039f\"], [0.2222222222222222, \"#7201a8\"], [0.3333333333333333, \"#9c179e\"], [0.4444444444444444, \"#bd3786\"], [0.5555555555555556, \"#d8576b\"], [0.6666666666666666, \"#ed7953\"], [0.7777777777777778, \"#fb9f3a\"], [0.8888888888888888, \"#fdca26\"], [1.0, \"#f0f921\"]], \"type\": \"histogram2d\"}], \"histogram2dcontour\": [{\"colorbar\": {\"outlinewidth\": 0, \"ticks\": \"\"}, \"colorscale\": [[0.0, \"#0d0887\"], [0.1111111111111111, \"#46039f\"], [0.2222222222222222, \"#7201a8\"], [0.3333333333333333, \"#9c179e\"], [0.4444444444444444, \"#bd3786\"], [0.5555555555555556, \"#d8576b\"], [0.6666666666666666, \"#ed7953\"], [0.7777777777777778, \"#fb9f3a\"], [0.8888888888888888, \"#fdca26\"], [1.0, \"#f0f921\"]], \"type\": \"histogram2dcontour\"}], \"mesh3d\": [{\"colorbar\": {\"outlinewidth\": 0, \"ticks\": \"\"}, \"type\": \"mesh3d\"}], \"parcoords\": [{\"line\": {\"colorbar\": {\"outlinewidth\": 0, \"ticks\": \"\"}}, \"type\": \"parcoords\"}], \"pie\": [{\"automargin\": true, \"type\": \"pie\"}], \"scatter\": [{\"marker\": {\"colorbar\": {\"outlinewidth\": 0, \"ticks\": \"\"}}, \"type\": \"scatter\"}], \"scatter3d\": [{\"line\": {\"colorbar\": {\"outlinewidth\": 0, \"ticks\": \"\"}}, \"marker\": {\"colorbar\": {\"outlinewidth\": 0, \"ticks\": \"\"}}, \"type\": \"scatter3d\"}], \"scattercarpet\": [{\"marker\": {\"colorbar\": {\"outlinewidth\": 0, \"ticks\": \"\"}}, \"type\": \"scattercarpet\"}], \"scattergeo\": [{\"marker\": {\"colorbar\": {\"outlinewidth\": 0, \"ticks\": \"\"}}, \"type\": \"scattergeo\"}], \"scattergl\": [{\"marker\": {\"colorbar\": {\"outlinewidth\": 0, \"ticks\": \"\"}}, \"type\": \"scattergl\"}], \"scattermapbox\": [{\"marker\": {\"colorbar\": {\"outlinewidth\": 0, \"ticks\": \"\"}}, \"type\": \"scattermapbox\"}], \"scatterpolar\": [{\"marker\": {\"colorbar\": {\"outlinewidth\": 0, \"ticks\": \"\"}}, \"type\": \"scatterpolar\"}], \"scatterpolargl\": [{\"marker\": {\"colorbar\": {\"outlinewidth\": 0, \"ticks\": \"\"}}, \"type\": \"scatterpolargl\"}], \"scatterternary\": [{\"marker\": {\"colorbar\": {\"outlinewidth\": 0, \"ticks\": \"\"}}, \"type\": \"scatterternary\"}], \"surface\": [{\"colorbar\": {\"outlinewidth\": 0, \"ticks\": \"\"}, \"colorscale\": [[0.0, \"#0d0887\"], [0.1111111111111111, \"#46039f\"], [0.2222222222222222, \"#7201a8\"], [0.3333333333333333, \"#9c179e\"], [0.4444444444444444, \"#bd3786\"], [0.5555555555555556, \"#d8576b\"], [0.6666666666666666, \"#ed7953\"], [0.7777777777777778, \"#fb9f3a\"], [0.8888888888888888, \"#fdca26\"], [1.0, \"#f0f921\"]], \"type\": \"surface\"}], \"table\": [{\"cells\": {\"fill\": {\"color\": \"#EBF0F8\"}, \"line\": {\"color\": \"white\"}}, \"header\": {\"fill\": {\"color\": \"#C8D4E3\"}, \"line\": {\"color\": \"white\"}}, \"type\": \"table\"}]}, \"layout\": {\"annotationdefaults\": {\"arrowcolor\": \"#2a3f5f\", \"arrowhead\": 0, \"arrowwidth\": 1}, \"coloraxis\": {\"colorbar\": {\"outlinewidth\": 0, \"ticks\": \"\"}}, \"colorscale\": {\"diverging\": [[0, \"#8e0152\"], [0.1, \"#c51b7d\"], [0.2, \"#de77ae\"], [0.3, \"#f1b6da\"], [0.4, \"#fde0ef\"], [0.5, \"#f7f7f7\"], [0.6, \"#e6f5d0\"], [0.7, \"#b8e186\"], [0.8, \"#7fbc41\"], [0.9, \"#4d9221\"], [1, \"#276419\"]], \"sequential\": [[0.0, \"#0d0887\"], [0.1111111111111111, \"#46039f\"], [0.2222222222222222, \"#7201a8\"], [0.3333333333333333, \"#9c179e\"], [0.4444444444444444, \"#bd3786\"], [0.5555555555555556, \"#d8576b\"], [0.6666666666666666, \"#ed7953\"], [0.7777777777777778, \"#fb9f3a\"], [0.8888888888888888, \"#fdca26\"], [1.0, \"#f0f921\"]], \"sequentialminus\": [[0.0, \"#0d0887\"], [0.1111111111111111, \"#46039f\"], [0.2222222222222222, \"#7201a8\"], [0.3333333333333333, \"#9c179e\"], [0.4444444444444444, \"#bd3786\"], [0.5555555555555556, \"#d8576b\"], [0.6666666666666666, \"#ed7953\"], [0.7777777777777778, \"#fb9f3a\"], [0.8888888888888888, \"#fdca26\"], [1.0, \"#f0f921\"]]}, \"colorway\": [\"#636efa\", \"#EF553B\", \"#00cc96\", \"#ab63fa\", \"#FFA15A\", \"#19d3f3\", \"#FF6692\", \"#B6E880\", \"#FF97FF\", \"#FECB52\"], \"font\": {\"color\": \"#2a3f5f\"}, \"geo\": {\"bgcolor\": \"white\", \"lakecolor\": \"white\", \"landcolor\": \"#E5ECF6\", \"showlakes\": true, \"showland\": true, \"subunitcolor\": \"white\"}, \"hoverlabel\": {\"align\": \"left\"}, \"hovermode\": \"closest\", \"mapbox\": {\"style\": \"light\"}, \"paper_bgcolor\": \"white\", \"plot_bgcolor\": \"#E5ECF6\", \"polar\": {\"angularaxis\": {\"gridcolor\": \"white\", \"linecolor\": \"white\", \"ticks\": \"\"}, \"bgcolor\": \"#E5ECF6\", \"radialaxis\": {\"gridcolor\": \"white\", \"linecolor\": \"white\", \"ticks\": \"\"}}, \"scene\": {\"xaxis\": {\"backgroundcolor\": \"#E5ECF6\", \"gridcolor\": \"white\", \"gridwidth\": 2, \"linecolor\": \"white\", \"showbackground\": true, \"ticks\": \"\", \"zerolinecolor\": \"white\"}, \"yaxis\": {\"backgroundcolor\": \"#E5ECF6\", \"gridcolor\": \"white\", \"gridwidth\": 2, \"linecolor\": \"white\", \"showbackground\": true, \"ticks\": \"\", \"zerolinecolor\": \"white\"}, \"zaxis\": {\"backgroundcolor\": \"#E5ECF6\", \"gridcolor\": \"white\", \"gridwidth\": 2, \"linecolor\": \"white\", \"showbackground\": true, \"ticks\": \"\", \"zerolinecolor\": \"white\"}}, \"shapedefaults\": {\"line\": {\"color\": \"#2a3f5f\"}}, \"ternary\": {\"aaxis\": {\"gridcolor\": \"white\", \"linecolor\": \"white\", \"ticks\": \"\"}, \"baxis\": {\"gridcolor\": \"white\", \"linecolor\": \"white\", \"ticks\": \"\"}, \"bgcolor\": \"#E5ECF6\", \"caxis\": {\"gridcolor\": \"white\", \"linecolor\": \"white\", \"ticks\": \"\"}}, \"title\": {\"x\": 0.05}, \"xaxis\": {\"automargin\": true, \"gridcolor\": \"white\", \"linecolor\": \"white\", \"ticks\": \"\", \"title\": {\"standoff\": 15}, \"zerolinecolor\": \"white\", \"zerolinewidth\": 2}, \"yaxis\": {\"automargin\": true, \"gridcolor\": \"white\", \"linecolor\": \"white\", \"ticks\": \"\", \"title\": {\"standoff\": 15}, \"zerolinecolor\": \"white\", \"zerolinewidth\": 2}}}, \"updatemenus\": [{\"buttons\": [{\"args\": [null, {\"frame\": {\"duration\": 500, \"redraw\": true}, \"fromcurrent\": true, \"mode\": \"immediate\", \"transition\": {\"duration\": 500, \"easing\": \"linear\"}}], \"label\": \"&#9654;\", \"method\": \"animate\"}, {\"args\": [[null], {\"frame\": {\"duration\": 0, \"redraw\": true}, \"fromcurrent\": true, \"mode\": \"immediate\", \"transition\": {\"duration\": 0, \"easing\": \"linear\"}}], \"label\": \"&#9724;\", \"method\": \"animate\"}], \"direction\": \"left\", \"pad\": {\"r\": 10, \"t\": 70}, \"showactive\": false, \"type\": \"buttons\", \"x\": 0.1, \"xanchor\": \"right\", \"y\": 0, \"yanchor\": \"top\"}], \"xaxis\": {\"anchor\": \"y\", \"categoryarray\": [\"Johns Hopkins University\"], \"categoryorder\": \"array\", \"domain\": [0.0, 1.0], \"title\": {\"text\": \"INSTNM\"}}, \"yaxis\": {\"anchor\": \"x\", \"domain\": [0.0, 1.0], \"title\": {\"text\": \"PCT_CHANGE\"}}},\n",
       "                        {\"responsive\": true}\n",
       "                    ).then(function(){\n",
       "                            Plotly.addFrames('d7ab3d9f-1754-4666-b2bc-ee7f07826a9c', [{\"data\": [{\"alignmentgroup\": \"True\", \"hovertemplate\": \"INSTNM=%{x}<br>Year=1996<br>PCT_CHANGE=%{y}<extra></extra>\", \"legendgroup\": \"Johns Hopkins University\", \"marker\": {\"color\": \"#636efa\"}, \"name\": \"Johns Hopkins University\", \"offsetgroup\": \"Johns Hopkins University\", \"orientation\": \"v\", \"showlegend\": true, \"textposition\": \"auto\", \"x\": [\"Johns Hopkins University\"], \"xaxis\": \"x\", \"y\": [null], \"yaxis\": \"y\", \"type\": \"bar\"}], \"name\": \"1996\"}, {\"data\": [{\"alignmentgroup\": \"True\", \"hovertemplate\": \"INSTNM=%{x}<br>Year=1997<br>PCT_CHANGE=%{y}<extra></extra>\", \"legendgroup\": \"Johns Hopkins University\", \"marker\": {\"color\": \"#636efa\"}, \"name\": \"Johns Hopkins University\", \"offsetgroup\": \"Johns Hopkins University\", \"orientation\": \"v\", \"showlegend\": true, \"textposition\": \"auto\", \"x\": [\"Johns Hopkins University\"], \"xaxis\": \"x\", \"y\": [null], \"yaxis\": \"y\", \"type\": \"bar\"}], \"name\": \"1997\"}, {\"data\": [{\"alignmentgroup\": \"True\", \"hovertemplate\": \"INSTNM=%{x}<br>Year=1998<br>PCT_CHANGE=%{y}<extra></extra>\", \"legendgroup\": \"Johns Hopkins University\", \"marker\": {\"color\": \"#636efa\"}, \"name\": \"Johns Hopkins University\", \"offsetgroup\": \"Johns Hopkins University\", \"orientation\": \"v\", \"showlegend\": true, \"textposition\": \"auto\", \"x\": [\"Johns Hopkins University\"], \"xaxis\": \"x\", \"y\": [null], \"yaxis\": \"y\", \"type\": \"bar\"}], \"name\": \"1998\"}, {\"data\": [{\"alignmentgroup\": \"True\", \"hovertemplate\": \"INSTNM=%{x}<br>Year=1999<br>PCT_CHANGE=%{y}<extra></extra>\", \"legendgroup\": \"Johns Hopkins University\", \"marker\": {\"color\": \"#636efa\"}, \"name\": \"Johns Hopkins University\", \"offsetgroup\": \"Johns Hopkins University\", \"orientation\": \"v\", \"showlegend\": true, \"textposition\": \"auto\", \"x\": [\"Johns Hopkins University\"], \"xaxis\": \"x\", \"y\": [null], \"yaxis\": \"y\", \"type\": \"bar\"}], \"name\": \"1999\"}, {\"data\": [{\"alignmentgroup\": \"True\", \"hovertemplate\": \"INSTNM=%{x}<br>Year=2000<br>PCT_CHANGE=%{y}<extra></extra>\", \"legendgroup\": \"Johns Hopkins University\", \"marker\": {\"color\": \"#636efa\"}, \"name\": \"Johns Hopkins University\", \"offsetgroup\": \"Johns Hopkins University\", \"orientation\": \"v\", \"showlegend\": true, \"textposition\": \"auto\", \"x\": [\"Johns Hopkins University\"], \"xaxis\": \"x\", \"y\": [2492900.0], \"yaxis\": \"y\", \"type\": \"bar\"}], \"name\": \"2000\"}, {\"data\": [{\"alignmentgroup\": \"True\", \"hovertemplate\": \"INSTNM=%{x}<br>Year=2001<br>PCT_CHANGE=%{y}<extra></extra>\", \"legendgroup\": \"Johns Hopkins University\", \"marker\": {\"color\": \"#636efa\"}, \"name\": \"Johns Hopkins University\", \"offsetgroup\": \"Johns Hopkins University\", \"orientation\": \"v\", \"showlegend\": true, \"textposition\": \"auto\", \"x\": [\"Johns Hopkins University\"], \"xaxis\": \"x\", \"y\": [2620900.0], \"yaxis\": \"y\", \"type\": \"bar\"}], \"name\": \"2001\"}, {\"data\": [{\"alignmentgroup\": \"True\", \"hovertemplate\": \"INSTNM=%{x}<br>Year=2002<br>PCT_CHANGE=%{y}<extra></extra>\", \"legendgroup\": \"Johns Hopkins University\", \"marker\": {\"color\": \"#636efa\"}, \"name\": \"Johns Hopkins University\", \"offsetgroup\": \"Johns Hopkins University\", \"orientation\": \"v\", \"showlegend\": true, \"textposition\": \"auto\", \"x\": [\"Johns Hopkins University\"], \"xaxis\": \"x\", \"y\": [2738900.0], \"yaxis\": \"y\", \"type\": \"bar\"}], \"name\": \"2002\"}, {\"data\": [{\"alignmentgroup\": \"True\", \"hovertemplate\": \"INSTNM=%{x}<br>Year=2003<br>PCT_CHANGE=%{y}<extra></extra>\", \"legendgroup\": \"Johns Hopkins University\", \"marker\": {\"color\": \"#636efa\"}, \"name\": \"Johns Hopkins University\", \"offsetgroup\": \"Johns Hopkins University\", \"orientation\": \"v\", \"showlegend\": true, \"textposition\": \"auto\", \"x\": [\"Johns Hopkins University\"], \"xaxis\": \"x\", \"y\": [2872900.0], \"yaxis\": \"y\", \"type\": \"bar\"}], \"name\": \"2003\"}, {\"data\": [{\"alignmentgroup\": \"True\", \"hovertemplate\": \"INSTNM=%{x}<br>Year=2004<br>PCT_CHANGE=%{y}<extra></extra>\", \"legendgroup\": \"Johns Hopkins University\", \"marker\": {\"color\": \"#636efa\"}, \"name\": \"Johns Hopkins University\", \"offsetgroup\": \"Johns Hopkins University\", \"orientation\": \"v\", \"showlegend\": true, \"textposition\": \"auto\", \"x\": [\"Johns Hopkins University\"], \"xaxis\": \"x\", \"y\": [3013900.0], \"yaxis\": \"y\", \"type\": \"bar\"}], \"name\": \"2004\"}, {\"data\": [{\"alignmentgroup\": \"True\", \"hovertemplate\": \"INSTNM=%{x}<br>Year=2005<br>PCT_CHANGE=%{y}<extra></extra>\", \"legendgroup\": \"Johns Hopkins University\", \"marker\": {\"color\": \"#636efa\"}, \"name\": \"Johns Hopkins University\", \"offsetgroup\": \"Johns Hopkins University\", \"orientation\": \"v\", \"showlegend\": true, \"textposition\": \"auto\", \"x\": [\"Johns Hopkins University\"], \"xaxis\": \"x\", \"y\": [3161900.0], \"yaxis\": \"y\", \"type\": \"bar\"}], \"name\": \"2005\"}, {\"data\": [{\"alignmentgroup\": \"True\", \"hovertemplate\": \"INSTNM=%{x}<br>Year=2006<br>PCT_CHANGE=%{y}<extra></extra>\", \"legendgroup\": \"Johns Hopkins University\", \"marker\": {\"color\": \"#636efa\"}, \"name\": \"Johns Hopkins University\", \"offsetgroup\": \"Johns Hopkins University\", \"orientation\": \"v\", \"showlegend\": true, \"textposition\": \"auto\", \"x\": [\"Johns Hopkins University\"], \"xaxis\": \"x\", \"y\": [3389900.0], \"yaxis\": \"y\", \"type\": \"bar\"}], \"name\": \"2006\"}, {\"data\": [{\"alignmentgroup\": \"True\", \"hovertemplate\": \"INSTNM=%{x}<br>Year=2007<br>PCT_CHANGE=%{y}<extra></extra>\", \"legendgroup\": \"Johns Hopkins University\", \"marker\": {\"color\": \"#636efa\"}, \"name\": \"Johns Hopkins University\", \"offsetgroup\": \"Johns Hopkins University\", \"orientation\": \"v\", \"showlegend\": true, \"textposition\": \"auto\", \"x\": [\"Johns Hopkins University\"], \"xaxis\": \"x\", \"y\": [3589900.0], \"yaxis\": \"y\", \"type\": \"bar\"}], \"name\": \"2007\"}, {\"data\": [{\"alignmentgroup\": \"True\", \"hovertemplate\": \"INSTNM=%{x}<br>Year=2008<br>PCT_CHANGE=%{y}<extra></extra>\", \"legendgroup\": \"Johns Hopkins University\", \"marker\": {\"color\": \"#636efa\"}, \"name\": \"Johns Hopkins University\", \"offsetgroup\": \"Johns Hopkins University\", \"orientation\": \"v\", \"showlegend\": true, \"textposition\": \"auto\", \"x\": [\"Johns Hopkins University\"], \"xaxis\": \"x\", \"y\": [3769900.0], \"yaxis\": \"y\", \"type\": \"bar\"}], \"name\": \"2008\"}, {\"data\": [{\"alignmentgroup\": \"True\", \"hovertemplate\": \"INSTNM=%{x}<br>Year=2009<br>PCT_CHANGE=%{y}<extra></extra>\", \"legendgroup\": \"Johns Hopkins University\", \"marker\": {\"color\": \"#636efa\"}, \"name\": \"Johns Hopkins University\", \"offsetgroup\": \"Johns Hopkins University\", \"orientation\": \"v\", \"showlegend\": true, \"textposition\": \"auto\", \"x\": [\"Johns Hopkins University\"], \"xaxis\": \"x\", \"y\": [3914900.0], \"yaxis\": \"y\", \"type\": \"bar\"}], \"name\": \"2009\"}, {\"data\": [{\"alignmentgroup\": \"True\", \"hovertemplate\": \"INSTNM=%{x}<br>Year=2010<br>PCT_CHANGE=%{y}<extra></extra>\", \"legendgroup\": \"Johns Hopkins University\", \"marker\": {\"color\": \"#636efa\"}, \"name\": \"Johns Hopkins University\", \"offsetgroup\": \"Johns Hopkins University\", \"orientation\": \"v\", \"showlegend\": true, \"textposition\": \"auto\", \"x\": [\"Johns Hopkins University\"], \"xaxis\": \"x\", \"y\": [4067900.0], \"yaxis\": \"y\", \"type\": \"bar\"}], \"name\": \"2010\"}, {\"data\": [{\"alignmentgroup\": \"True\", \"hovertemplate\": \"INSTNM=%{x}<br>Year=2011<br>PCT_CHANGE=%{y}<extra></extra>\", \"legendgroup\": \"Johns Hopkins University\", \"marker\": {\"color\": \"#636efa\"}, \"name\": \"Johns Hopkins University\", \"offsetgroup\": \"Johns Hopkins University\", \"orientation\": \"v\", \"showlegend\": true, \"textposition\": \"auto\", \"x\": [\"Johns Hopkins University\"], \"xaxis\": \"x\", \"y\": [4227900.0], \"yaxis\": \"y\", \"type\": \"bar\"}], \"name\": \"2011\"}, {\"data\": [{\"alignmentgroup\": \"True\", \"hovertemplate\": \"INSTNM=%{x}<br>Year=2012<br>PCT_CHANGE=%{y}<extra></extra>\", \"legendgroup\": \"Johns Hopkins University\", \"marker\": {\"color\": \"#636efa\"}, \"name\": \"Johns Hopkins University\", \"offsetgroup\": \"Johns Hopkins University\", \"orientation\": \"v\", \"showlegend\": true, \"textposition\": \"auto\", \"x\": [\"Johns Hopkins University\"], \"xaxis\": \"x\", \"y\": [4338900.0], \"yaxis\": \"y\", \"type\": \"bar\"}], \"name\": \"2012\"}, {\"data\": [{\"alignmentgroup\": \"True\", \"hovertemplate\": \"INSTNM=%{x}<br>Year=2013<br>PCT_CHANGE=%{y}<extra></extra>\", \"legendgroup\": \"Johns Hopkins University\", \"marker\": {\"color\": \"#636efa\"}, \"name\": \"Johns Hopkins University\", \"offsetgroup\": \"Johns Hopkins University\", \"orientation\": \"v\", \"showlegend\": true, \"textposition\": \"auto\", \"x\": [\"Johns Hopkins University\"], \"xaxis\": \"x\", \"y\": [4546900.0], \"yaxis\": \"y\", \"type\": \"bar\"}], \"name\": \"2013\"}, {\"data\": [{\"alignmentgroup\": \"True\", \"hovertemplate\": \"INSTNM=%{x}<br>Year=2014<br>PCT_CHANGE=%{y}<extra></extra>\", \"legendgroup\": \"Johns Hopkins University\", \"marker\": {\"color\": \"#636efa\"}, \"name\": \"Johns Hopkins University\", \"offsetgroup\": \"Johns Hopkins University\", \"orientation\": \"v\", \"showlegend\": true, \"textposition\": \"auto\", \"x\": [\"Johns Hopkins University\"], \"xaxis\": \"x\", \"y\": [4705900.0], \"yaxis\": \"y\", \"type\": \"bar\"}], \"name\": \"2014\"}, {\"data\": [{\"alignmentgroup\": \"True\", \"hovertemplate\": \"INSTNM=%{x}<br>Year=2015<br>PCT_CHANGE=%{y}<extra></extra>\", \"legendgroup\": \"Johns Hopkins University\", \"marker\": {\"color\": \"#636efa\"}, \"name\": \"Johns Hopkins University\", \"offsetgroup\": \"Johns Hopkins University\", \"orientation\": \"v\", \"showlegend\": true, \"textposition\": \"auto\", \"x\": [\"Johns Hopkins University\"], \"xaxis\": \"x\", \"y\": [4870900.0], \"yaxis\": \"y\", \"type\": \"bar\"}], \"name\": \"2015\"}, {\"data\": [{\"alignmentgroup\": \"True\", \"hovertemplate\": \"INSTNM=%{x}<br>Year=2016<br>PCT_CHANGE=%{y}<extra></extra>\", \"legendgroup\": \"Johns Hopkins University\", \"marker\": {\"color\": \"#636efa\"}, \"name\": \"Johns Hopkins University\", \"offsetgroup\": \"Johns Hopkins University\", \"orientation\": \"v\", \"showlegend\": true, \"textposition\": \"auto\", \"x\": [\"Johns Hopkins University\"], \"xaxis\": \"x\", \"y\": [5040900.0], \"yaxis\": \"y\", \"type\": \"bar\"}], \"name\": \"2016\"}, {\"data\": [{\"alignmentgroup\": \"True\", \"hovertemplate\": \"INSTNM=%{x}<br>Year=2017<br>PCT_CHANGE=%{y}<extra></extra>\", \"legendgroup\": \"Johns Hopkins University\", \"marker\": {\"color\": \"#636efa\"}, \"name\": \"Johns Hopkins University\", \"offsetgroup\": \"Johns Hopkins University\", \"orientation\": \"v\", \"showlegend\": true, \"textposition\": \"auto\", \"x\": [\"Johns Hopkins University\"], \"xaxis\": \"x\", \"y\": [5216900.0], \"yaxis\": \"y\", \"type\": \"bar\"}], \"name\": \"2017\"}, {\"data\": [{\"alignmentgroup\": \"True\", \"hovertemplate\": \"INSTNM=%{x}<br>Year=2018<br>PCT_CHANGE=%{y}<extra></extra>\", \"legendgroup\": \"Johns Hopkins University\", \"marker\": {\"color\": \"#636efa\"}, \"name\": \"Johns Hopkins University\", \"offsetgroup\": \"Johns Hopkins University\", \"orientation\": \"v\", \"showlegend\": true, \"textposition\": \"auto\", \"x\": [\"Johns Hopkins University\"], \"xaxis\": \"x\", \"y\": [5373900.0], \"yaxis\": \"y\", \"type\": \"bar\"}], \"name\": \"2018\"}]);\n",
       "                        }).then(function(){\n",
       "                            \n",
       "var gd = document.getElementById('d7ab3d9f-1754-4666-b2bc-ee7f07826a9c');\n",
       "var x = new MutationObserver(function (mutations, observer) {{\n",
       "        var display = window.getComputedStyle(gd).display;\n",
       "        if (!display || display === 'none') {{\n",
       "            console.log([gd, 'removed!']);\n",
       "            Plotly.purge(gd);\n",
       "            observer.disconnect();\n",
       "        }}\n",
       "}});\n",
       "\n",
       "// Listen for the removal of the full notebook cells\n",
       "var notebookContainer = gd.closest('#notebook-container');\n",
       "if (notebookContainer) {{\n",
       "    x.observe(notebookContainer, {childList: true});\n",
       "}}\n",
       "\n",
       "// Listen for the clearing of the current output cell\n",
       "var outputEl = gd.closest('.output');\n",
       "if (outputEl) {{\n",
       "    x.observe(outputEl, {childList: true});\n",
       "}}\n",
       "\n",
       "                        })\n",
       "                };\n",
       "                });\n",
       "            </script>\n",
       "        </div>"
      ]
     },
     "metadata": {},
     "output_type": "display_data"
    }
   ],
   "source": [
    "fig7 = px.bar(data_frame=JHU_df2, \n",
    "             x=\"INSTNM\", y=\"PCT_CHANGE\",  \n",
    "             color=\"INSTNM\",animation_frame = 'Year' \n",
    "             )\n",
    "fig7.show()"
   ]
  },
  {
   "cell_type": "markdown",
   "metadata": {},
   "source": [
    "**We need to combine the two datasets using the common key of YEAR**"
   ]
  },
  {
   "cell_type": "markdown",
   "metadata": {},
   "source": [
    "**First make a umbc2 dataframe with only two columns needed. WE don't need other columns.**"
   ]
  },
  {
   "cell_type": "code",
   "execution_count": 37,
   "metadata": {},
   "outputs": [
    {
     "data": {
      "text/html": [
       "<div>\n",
       "<style scoped>\n",
       "    .dataframe tbody tr th:only-of-type {\n",
       "        vertical-align: middle;\n",
       "    }\n",
       "\n",
       "    .dataframe tbody tr th {\n",
       "        vertical-align: top;\n",
       "    }\n",
       "\n",
       "    .dataframe thead th {\n",
       "        text-align: right;\n",
       "    }\n",
       "</style>\n",
       "<table border=\"1\" class=\"dataframe\">\n",
       "  <thead>\n",
       "    <tr style=\"text-align: right;\">\n",
       "      <th></th>\n",
       "      <th>PCT_CHANGE</th>\n",
       "      <th>Year</th>\n",
       "    </tr>\n",
       "  </thead>\n",
       "  <tbody>\n",
       "    <tr>\n",
       "      <td>2151</td>\n",
       "      <td>NaN</td>\n",
       "      <td>1996</td>\n",
       "    </tr>\n",
       "    <tr>\n",
       "      <td>2049</td>\n",
       "      <td>NaN</td>\n",
       "      <td>1997</td>\n",
       "    </tr>\n",
       "    <tr>\n",
       "      <td>1982</td>\n",
       "      <td>NaN</td>\n",
       "      <td>1998</td>\n",
       "    </tr>\n",
       "    <tr>\n",
       "      <td>1955</td>\n",
       "      <td>NaN</td>\n",
       "      <td>1999</td>\n",
       "    </tr>\n",
       "    <tr>\n",
       "      <td>1926</td>\n",
       "      <td>548900.0</td>\n",
       "      <td>2000</td>\n",
       "    </tr>\n",
       "  </tbody>\n",
       "</table>\n",
       "</div>"
      ],
      "text/plain": [
       "      PCT_CHANGE  Year\n",
       "2151         NaN  1996\n",
       "2049         NaN  1997\n",
       "1982         NaN  1998\n",
       "1955         NaN  1999\n",
       "1926    548900.0  2000"
      ]
     },
     "execution_count": 37,
     "metadata": {},
     "output_type": "execute_result"
    }
   ],
   "source": [
    "UMBC_min_df = UMBC_df2[['PCT_CHANGE', 'Year']]\n",
    "\n",
    "UMBC_min_df.head()"
   ]
  },
  {
   "cell_type": "code",
   "execution_count": 38,
   "metadata": {},
   "outputs": [
    {
     "name": "stderr",
     "output_type": "stream",
     "text": [
      "/Users/wagboola/opt/anaconda3/lib/python3.7/site-packages/pandas/core/frame.py:4223: SettingWithCopyWarning:\n",
      "\n",
      "\n",
      "A value is trying to be set on a copy of a slice from a DataFrame\n",
      "\n",
      "See the caveats in the documentation: http://pandas.pydata.org/pandas-docs/stable/user_guide/indexing.html#returning-a-view-versus-a-copy\n",
      "\n"
     ]
    }
   ],
   "source": [
    "UMBC_min_df.rename(columns={\"PCT_CHANGE\" : \"UMBC_PCT\"}, inplace =True)"
   ]
  },
  {
   "cell_type": "code",
   "execution_count": 39,
   "metadata": {},
   "outputs": [
    {
     "data": {
      "text/html": [
       "<div>\n",
       "<style scoped>\n",
       "    .dataframe tbody tr th:only-of-type {\n",
       "        vertical-align: middle;\n",
       "    }\n",
       "\n",
       "    .dataframe tbody tr th {\n",
       "        vertical-align: top;\n",
       "    }\n",
       "\n",
       "    .dataframe thead th {\n",
       "        text-align: right;\n",
       "    }\n",
       "</style>\n",
       "<table border=\"1\" class=\"dataframe\">\n",
       "  <thead>\n",
       "    <tr style=\"text-align: right;\">\n",
       "      <th></th>\n",
       "      <th>UMBC_PCT</th>\n",
       "      <th>Year</th>\n",
       "    </tr>\n",
       "  </thead>\n",
       "  <tbody>\n",
       "    <tr>\n",
       "      <td>2151</td>\n",
       "      <td>NaN</td>\n",
       "      <td>1996</td>\n",
       "    </tr>\n",
       "    <tr>\n",
       "      <td>2049</td>\n",
       "      <td>NaN</td>\n",
       "      <td>1997</td>\n",
       "    </tr>\n",
       "    <tr>\n",
       "      <td>1982</td>\n",
       "      <td>NaN</td>\n",
       "      <td>1998</td>\n",
       "    </tr>\n",
       "    <tr>\n",
       "      <td>1955</td>\n",
       "      <td>NaN</td>\n",
       "      <td>1999</td>\n",
       "    </tr>\n",
       "    <tr>\n",
       "      <td>1926</td>\n",
       "      <td>548900.0</td>\n",
       "      <td>2000</td>\n",
       "    </tr>\n",
       "  </tbody>\n",
       "</table>\n",
       "</div>"
      ],
      "text/plain": [
       "      UMBC_PCT  Year\n",
       "2151       NaN  1996\n",
       "2049       NaN  1997\n",
       "1982       NaN  1998\n",
       "1955       NaN  1999\n",
       "1926  548900.0  2000"
      ]
     },
     "execution_count": 39,
     "metadata": {},
     "output_type": "execute_result"
    }
   ],
   "source": [
    "UMBC_min_df.head()"
   ]
  },
  {
   "cell_type": "markdown",
   "metadata": {},
   "source": [
    "**Then make a jhu2 dataframe with only two columns needed. WE don't need other columns.**"
   ]
  },
  {
   "cell_type": "code",
   "execution_count": 40,
   "metadata": {},
   "outputs": [
    {
     "data": {
      "text/html": [
       "<div>\n",
       "<style scoped>\n",
       "    .dataframe tbody tr th:only-of-type {\n",
       "        vertical-align: middle;\n",
       "    }\n",
       "\n",
       "    .dataframe tbody tr th {\n",
       "        vertical-align: top;\n",
       "    }\n",
       "\n",
       "    .dataframe thead th {\n",
       "        text-align: right;\n",
       "    }\n",
       "</style>\n",
       "<table border=\"1\" class=\"dataframe\">\n",
       "  <thead>\n",
       "    <tr style=\"text-align: right;\">\n",
       "      <th></th>\n",
       "      <th>PCT_CHANGE</th>\n",
       "      <th>Year</th>\n",
       "    </tr>\n",
       "  </thead>\n",
       "  <tbody>\n",
       "    <tr>\n",
       "      <td>2139</td>\n",
       "      <td>NaN</td>\n",
       "      <td>1996</td>\n",
       "    </tr>\n",
       "    <tr>\n",
       "      <td>2039</td>\n",
       "      <td>NaN</td>\n",
       "      <td>1997</td>\n",
       "    </tr>\n",
       "    <tr>\n",
       "      <td>1973</td>\n",
       "      <td>NaN</td>\n",
       "      <td>1998</td>\n",
       "    </tr>\n",
       "    <tr>\n",
       "      <td>1946</td>\n",
       "      <td>NaN</td>\n",
       "      <td>1999</td>\n",
       "    </tr>\n",
       "    <tr>\n",
       "      <td>1917</td>\n",
       "      <td>2492900.0</td>\n",
       "      <td>2000</td>\n",
       "    </tr>\n",
       "  </tbody>\n",
       "</table>\n",
       "</div>"
      ],
      "text/plain": [
       "      PCT_CHANGE  Year\n",
       "2139         NaN  1996\n",
       "2039         NaN  1997\n",
       "1973         NaN  1998\n",
       "1946         NaN  1999\n",
       "1917   2492900.0  2000"
      ]
     },
     "execution_count": 40,
     "metadata": {},
     "output_type": "execute_result"
    }
   ],
   "source": [
    "JHU_min_df = JHU_df2[['PCT_CHANGE', 'Year']]\n",
    "\n",
    "JHU_min_df.head()"
   ]
  },
  {
   "cell_type": "code",
   "execution_count": 41,
   "metadata": {},
   "outputs": [
    {
     "data": {
      "text/html": [
       "<div>\n",
       "<style scoped>\n",
       "    .dataframe tbody tr th:only-of-type {\n",
       "        vertical-align: middle;\n",
       "    }\n",
       "\n",
       "    .dataframe tbody tr th {\n",
       "        vertical-align: top;\n",
       "    }\n",
       "\n",
       "    .dataframe thead th {\n",
       "        text-align: right;\n",
       "    }\n",
       "</style>\n",
       "<table border=\"1\" class=\"dataframe\">\n",
       "  <thead>\n",
       "    <tr style=\"text-align: right;\">\n",
       "      <th></th>\n",
       "      <th>JHU_PCT</th>\n",
       "      <th>Year</th>\n",
       "    </tr>\n",
       "  </thead>\n",
       "  <tbody>\n",
       "    <tr>\n",
       "      <td>2139</td>\n",
       "      <td>NaN</td>\n",
       "      <td>1996</td>\n",
       "    </tr>\n",
       "    <tr>\n",
       "      <td>2039</td>\n",
       "      <td>NaN</td>\n",
       "      <td>1997</td>\n",
       "    </tr>\n",
       "    <tr>\n",
       "      <td>1973</td>\n",
       "      <td>NaN</td>\n",
       "      <td>1998</td>\n",
       "    </tr>\n",
       "    <tr>\n",
       "      <td>1946</td>\n",
       "      <td>NaN</td>\n",
       "      <td>1999</td>\n",
       "    </tr>\n",
       "    <tr>\n",
       "      <td>1917</td>\n",
       "      <td>2492900.0</td>\n",
       "      <td>2000</td>\n",
       "    </tr>\n",
       "  </tbody>\n",
       "</table>\n",
       "</div>"
      ],
      "text/plain": [
       "        JHU_PCT  Year\n",
       "2139        NaN  1996\n",
       "2039        NaN  1997\n",
       "1973        NaN  1998\n",
       "1946        NaN  1999\n",
       "1917  2492900.0  2000"
      ]
     },
     "execution_count": 41,
     "metadata": {},
     "output_type": "execute_result"
    }
   ],
   "source": [
    "JHU_min_df.rename(columns={\"PCT_CHANGE\" : \"JHU_PCT\"}, inplace=True)\n",
    "\n",
    "JHU_min_df.head()"
   ]
  },
  {
   "cell_type": "markdown",
   "metadata": {},
   "source": [
    "**Now, merge the two data frames and display the new dataframe**"
   ]
  },
  {
   "cell_type": "code",
   "execution_count": 42,
   "metadata": {},
   "outputs": [
    {
     "data": {
      "text/html": [
       "<div>\n",
       "<style scoped>\n",
       "    .dataframe tbody tr th:only-of-type {\n",
       "        vertical-align: middle;\n",
       "    }\n",
       "\n",
       "    .dataframe tbody tr th {\n",
       "        vertical-align: top;\n",
       "    }\n",
       "\n",
       "    .dataframe thead th {\n",
       "        text-align: right;\n",
       "    }\n",
       "</style>\n",
       "<table border=\"1\" class=\"dataframe\">\n",
       "  <thead>\n",
       "    <tr style=\"text-align: right;\">\n",
       "      <th></th>\n",
       "      <th>UMBC_PCT</th>\n",
       "      <th>Year</th>\n",
       "      <th>JHU_PCT</th>\n",
       "    </tr>\n",
       "  </thead>\n",
       "  <tbody>\n",
       "    <tr>\n",
       "      <td>0</td>\n",
       "      <td>NaN</td>\n",
       "      <td>1996</td>\n",
       "      <td>NaN</td>\n",
       "    </tr>\n",
       "    <tr>\n",
       "      <td>1</td>\n",
       "      <td>NaN</td>\n",
       "      <td>1997</td>\n",
       "      <td>NaN</td>\n",
       "    </tr>\n",
       "    <tr>\n",
       "      <td>2</td>\n",
       "      <td>NaN</td>\n",
       "      <td>1998</td>\n",
       "      <td>NaN</td>\n",
       "    </tr>\n",
       "    <tr>\n",
       "      <td>3</td>\n",
       "      <td>NaN</td>\n",
       "      <td>1999</td>\n",
       "      <td>NaN</td>\n",
       "    </tr>\n",
       "    <tr>\n",
       "      <td>4</td>\n",
       "      <td>548900.0</td>\n",
       "      <td>2000</td>\n",
       "      <td>2492900.0</td>\n",
       "    </tr>\n",
       "  </tbody>\n",
       "</table>\n",
       "</div>"
      ],
      "text/plain": [
       "   UMBC_PCT  Year    JHU_PCT\n",
       "0       NaN  1996        NaN\n",
       "1       NaN  1997        NaN\n",
       "2       NaN  1998        NaN\n",
       "3       NaN  1999        NaN\n",
       "4  548900.0  2000  2492900.0"
      ]
     },
     "execution_count": 42,
     "metadata": {},
     "output_type": "execute_result"
    }
   ],
   "source": [
    "New_DF = UMBC_min_df.merge(JHU_min_df, on='Year')\n",
    "\n",
    "New_DF.head()"
   ]
  },
  {
   "cell_type": "markdown",
   "metadata": {},
   "source": [
    "**Plot UMBC and JHU separately on the same plot. However, this does not work since the bars overlap.**"
   ]
  },
  {
   "cell_type": "code",
   "execution_count": 43,
   "metadata": {},
   "outputs": [
    {
     "data": {
      "text/plain": [
       "<matplotlib.axes._subplots.AxesSubplot at 0x7f90c9607f50>"
      ]
     },
     "execution_count": 43,
     "metadata": {},
     "output_type": "execute_result"
    },
    {
     "data": {
      "image/png": "[encoded data removed]",
      "text/plain": [
       "<Figure size 432x288 with 1 Axes>"
      ]
     },
     "metadata": {
      "needs_background": "light"
     },
     "output_type": "display_data"
    }
   ],
   "source": [
    "New_DF.plot(style=['o','rx'])"
   ]
  },
  {
   "cell_type": "markdown",
   "metadata": {},
   "source": [
    "Pandas plot just to see how the data has turned out."
   ]
  },
  {
   "cell_type": "markdown",
   "metadata": {},
   "source": [
    "**Plot them together using y=[\"UMBC_PCT\",\"JHU_PCT\"] option of bar and line plot**"
   ]
  },
  {
   "cell_type": "code",
   "execution_count": 44,
   "metadata": {},
   "outputs": [
    {
     "data": {
      "application/vnd.plotly.v1+json": {
       "config": {
        "plotlyServerURL": "https://plot.ly"
       },
       "data": [
        {
         "alignmentgroup": "True",
         "hovertemplate": "x=%{x}<extra></extra>",
         "legendgroup": "",
         "marker": {
          "color": "#636efa"
         },
         "name": "",
         "offsetgroup": "",
         "orientation": "v",
         "showlegend": false,
         "textposition": "auto",
         "type": "bar",
         "x": [
          "UMBC_PCT",
          "JHU_PCT"
         ],
         "xaxis": "x",
         "yaxis": "y"
        }
       ],
       "layout": {
        "barmode": "relative",
        "legend": {
         "tracegroupgap": 0
        },
        "margin": {
         "t": 60
        },
        "template": {
         "data": {
          "bar": [
           {
            "error_x": {
             "color": "#2a3f5f"
            },
            "error_y": {
             "color": "#2a3f5f"
            },
            "marker": {
             "line": {
              "color": "#E5ECF6",
              "width": 0.5
             }
            },
            "type": "bar"
           }
          ],
          "barpolar": [
           {
            "marker": {
             "line": {
              "color": "#E5ECF6",
              "width": 0.5
             }
            },
            "type": "barpolar"
           }
          ],
          "carpet": [
           {
            "aaxis": {
             "endlinecolor": "#2a3f5f",
             "gridcolor": "white",
             "linecolor": "white",
             "minorgridcolor": "white",
             "startlinecolor": "#2a3f5f"
            },
            "baxis": {
             "endlinecolor": "#2a3f5f",
             "gridcolor": "white",
             "linecolor": "white",
             "minorgridcolor": "white",
             "startlinecolor": "#2a3f5f"
            },
            "type": "carpet"
           }
          ],
          "choropleth": [
           {
            "colorbar": {
             "outlinewidth": 0,
             "ticks": ""
            },
            "type": "choropleth"
           }
          ],
          "contour": [
           {
            "colorbar": {
             "outlinewidth": 0,
             "ticks": ""
            },
            "colorscale": [
             [
              0,
              "#0d0887"
             ],
             [
              0.1111111111111111,
              "#46039f"
             ],
             [
              0.2222222222222222,
              "#7201a8"
             ],
             [
              0.3333333333333333,
              "#9c179e"
             ],
             [
              0.4444444444444444,
              "#bd3786"
             ],
             [
              0.5555555555555556,
              "#d8576b"
             ],
             [
              0.6666666666666666,
              "#ed7953"
             ],
             [
              0.7777777777777778,
              "#fb9f3a"
             ],
             [
              0.8888888888888888,
              "#fdca26"
             ],
             [
              1,
              "#f0f921"
             ]
            ],
            "type": "contour"
           }
          ],
          "contourcarpet": [
           {
            "colorbar": {
             "outlinewidth": 0,
             "ticks": ""
            },
            "type": "contourcarpet"
           }
          ],
          "heatmap": [
           {
            "colorbar": {
             "outlinewidth": 0,
             "ticks": ""
            },
            "colorscale": [
             [
              0,
              "#0d0887"
             ],
             [
              0.1111111111111111,
              "#46039f"
             ],
             [
              0.2222222222222222,
              "#7201a8"
             ],
             [
              0.3333333333333333,
              "#9c179e"
             ],
             [
              0.4444444444444444,
              "#bd3786"
             ],
             [
              0.5555555555555556,
              "#d8576b"
             ],
             [
              0.6666666666666666,
              "#ed7953"
             ],
             [
              0.7777777777777778,
              "#fb9f3a"
             ],
             [
              0.8888888888888888,
              "#fdca26"
             ],
             [
              1,
              "#f0f921"
             ]
            ],
            "type": "heatmap"
           }
          ],
          "heatmapgl": [
           {
            "colorbar": {
             "outlinewidth": 0,
             "ticks": ""
            },
            "colorscale": [
             [
              0,
              "#0d0887"
             ],
             [
              0.1111111111111111,
              "#46039f"
             ],
             [
              0.2222222222222222,
              "#7201a8"
             ],
             [
              0.3333333333333333,
              "#9c179e"
             ],
             [
              0.4444444444444444,
              "#bd3786"
             ],
             [
              0.5555555555555556,
              "#d8576b"
             ],
             [
              0.6666666666666666,
              "#ed7953"
             ],
             [
              0.7777777777777778,
              "#fb9f3a"
             ],
             [
              0.8888888888888888,
              "#fdca26"
             ],
             [
              1,
              "#f0f921"
             ]
            ],
            "type": "heatmapgl"
           }
          ],
          "histogram": [
           {
            "marker": {
             "colorbar": {
              "outlinewidth": 0,
              "ticks": ""
             }
            },
            "type": "histogram"
           }
          ],
          "histogram2d": [
           {
            "colorbar": {
             "outlinewidth": 0,
             "ticks": ""
            },
            "colorscale": [
             [
              0,
              "#0d0887"
             ],
             [
              0.1111111111111111,
              "#46039f"
             ],
             [
              0.2222222222222222,
              "#7201a8"
             ],
             [
              0.3333333333333333,
              "#9c179e"
             ],
             [
              0.4444444444444444,
              "#bd3786"
             ],
             [
              0.5555555555555556,
              "#d8576b"
             ],
             [
              0.6666666666666666,
              "#ed7953"
             ],
             [
              0.7777777777777778,
              "#fb9f3a"
             ],
             [
              0.8888888888888888,
              "#fdca26"
             ],
             [
              1,
              "#f0f921"
             ]
            ],
            "type": "histogram2d"
           }
          ],
          "histogram2dcontour": [
           {
            "colorbar": {
             "outlinewidth": 0,
             "ticks": ""
            },
            "colorscale": [
             [
              0,
              "#0d0887"
             ],
             [
              0.1111111111111111,
              "#46039f"
             ],
             [
              0.2222222222222222,
              "#7201a8"
             ],
             [
              0.3333333333333333,
              "#9c179e"
             ],
             [
              0.4444444444444444,
              "#bd3786"
             ],
             [
              0.5555555555555556,
              "#d8576b"
             ],
             [
              0.6666666666666666,
              "#ed7953"
             ],
             [
              0.7777777777777778,
              "#fb9f3a"
             ],
             [
              0.8888888888888888,
              "#fdca26"
             ],
             [
              1,
              "#f0f921"
             ]
            ],
            "type": "histogram2dcontour"
           }
          ],
          "mesh3d": [
           {
            "colorbar": {
             "outlinewidth": 0,
             "ticks": ""
            },
            "type": "mesh3d"
           }
          ],
          "parcoords": [
           {
            "line": {
             "colorbar": {
              "outlinewidth": 0,
              "ticks": ""
             }
            },
            "type": "parcoords"
           }
          ],
          "pie": [
           {
            "automargin": true,
            "type": "pie"
           }
          ],
          "scatter": [
           {
            "marker": {
             "colorbar": {
              "outlinewidth": 0,
              "ticks": ""
             }
            },
            "type": "scatter"
           }
          ],
          "scatter3d": [
           {
            "line": {
             "colorbar": {
              "outlinewidth": 0,
              "ticks": ""
             }
            },
            "marker": {
             "colorbar": {
              "outlinewidth": 0,
              "ticks": ""
             }
            },
            "type": "scatter3d"
           }
          ],
          "scattercarpet": [
           {
            "marker": {
             "colorbar": {
              "outlinewidth": 0,
              "ticks": ""
             }
            },
            "type": "scattercarpet"
           }
          ],
          "scattergeo": [
           {
            "marker": {
             "colorbar": {
              "outlinewidth": 0,
              "ticks": ""
             }
            },
            "type": "scattergeo"
           }
          ],
          "scattergl": [
           {
            "marker": {
             "colorbar": {
              "outlinewidth": 0,
              "ticks": ""
             }
            },
            "type": "scattergl"
           }
          ],
          "scattermapbox": [
           {
            "marker": {
             "colorbar": {
              "outlinewidth": 0,
              "ticks": ""
             }
            },
            "type": "scattermapbox"
           }
          ],
          "scatterpolar": [
           {
            "marker": {
             "colorbar": {
              "outlinewidth": 0,
              "ticks": ""
             }
            },
            "type": "scatterpolar"
           }
          ],
          "scatterpolargl": [
           {
            "marker": {
             "colorbar": {
              "outlinewidth": 0,
              "ticks": ""
             }
            },
            "type": "scatterpolargl"
           }
          ],
          "scatterternary": [
           {
            "marker": {
             "colorbar": {
              "outlinewidth": 0,
              "ticks": ""
             }
            },
            "type": "scatterternary"
           }
          ],
          "surface": [
           {
            "colorbar": {
             "outlinewidth": 0,
             "ticks": ""
            },
            "colorscale": [
             [
              0,
              "#0d0887"
             ],
             [
              0.1111111111111111,
              "#46039f"
             ],
             [
              0.2222222222222222,
              "#7201a8"
             ],
             [
              0.3333333333333333,
              "#9c179e"
             ],
             [
              0.4444444444444444,
              "#bd3786"
             ],
             [
              0.5555555555555556,
              "#d8576b"
             ],
             [
              0.6666666666666666,
              "#ed7953"
             ],
             [
              0.7777777777777778,
              "#fb9f3a"
             ],
             [
              0.8888888888888888,
              "#fdca26"
             ],
             [
              1,
              "#f0f921"
             ]
            ],
            "type": "surface"
           }
          ],
          "table": [
           {
            "cells": {
             "fill": {
              "color": "#EBF0F8"
             },
             "line": {
              "color": "white"
             }
            },
            "header": {
             "fill": {
              "color": "#C8D4E3"
             },
             "line": {
              "color": "white"
             }
            },
            "type": "table"
           }
          ]
         },
         "layout": {
          "annotationdefaults": {
           "arrowcolor": "#2a3f5f",
           "arrowhead": 0,
           "arrowwidth": 1
          },
          "coloraxis": {
           "colorbar": {
            "outlinewidth": 0,
            "ticks": ""
           }
          },
          "colorscale": {
           "diverging": [
            [
             0,
             "#8e0152"
            ],
            [
             0.1,
             "#c51b7d"
            ],
            [
             0.2,
             "#de77ae"
            ],
            [
             0.3,
             "#f1b6da"
            ],
            [
             0.4,
             "#fde0ef"
            ],
            [
             0.5,
             "#f7f7f7"
            ],
            [
             0.6,
             "#e6f5d0"
            ],
            [
             0.7,
             "#b8e186"
            ],
            [
             0.8,
             "#7fbc41"
            ],
            [
             0.9,
             "#4d9221"
            ],
            [
             1,
             "#276419"
            ]
           ],
           "sequential": [
            [
             0,
             "#0d0887"
            ],
            [
             0.1111111111111111,
             "#46039f"
            ],
            [
             0.2222222222222222,
             "#7201a8"
            ],
            [
             0.3333333333333333,
             "#9c179e"
            ],
            [
             0.4444444444444444,
             "#bd3786"
            ],
            [
             0.5555555555555556,
             "#d8576b"
            ],
            [
             0.6666666666666666,
             "#ed7953"
            ],
            [
             0.7777777777777778,
             "#fb9f3a"
            ],
            [
             0.8888888888888888,
             "#fdca26"
            ],
            [
             1,
             "#f0f921"
            ]
           ],
           "sequentialminus": [
            [
             0,
             "#0d0887"
            ],
            [
             0.1111111111111111,
             "#46039f"
            ],
            [
             0.2222222222222222,
             "#7201a8"
            ],
            [
             0.3333333333333333,
             "#9c179e"
            ],
            [
             0.4444444444444444,
             "#bd3786"
            ],
            [
             0.5555555555555556,
             "#d8576b"
            ],
            [
             0.6666666666666666,
             "#ed7953"
            ],
            [
             0.7777777777777778,
             "#fb9f3a"
            ],
            [
             0.8888888888888888,
             "#fdca26"
            ],
            [
             1,
             "#f0f921"
            ]
           ]
          },
          "colorway": [
           "#636efa",
           "#EF553B",
           "#00cc96",
           "#ab63fa",
           "#FFA15A",
           "#19d3f3",
           "#FF6692",
           "#B6E880",
           "#FF97FF",
           "#FECB52"
          ],
          "font": {
           "color": "#2a3f5f"
          },
          "geo": {
           "bgcolor": "white",
           "lakecolor": "white",
           "landcolor": "#E5ECF6",
           "showlakes": true,
           "showland": true,
           "subunitcolor": "white"
          },
          "hoverlabel": {
           "align": "left"
          },
          "hovermode": "closest",
          "mapbox": {
           "style": "light"
          },
          "paper_bgcolor": "white",
          "plot_bgcolor": "#E5ECF6",
          "polar": {
           "angularaxis": {
            "gridcolor": "white",
            "linecolor": "white",
            "ticks": ""
           },
           "bgcolor": "#E5ECF6",
           "radialaxis": {
            "gridcolor": "white",
            "linecolor": "white",
            "ticks": ""
           }
          },
          "scene": {
           "xaxis": {
            "backgroundcolor": "#E5ECF6",
            "gridcolor": "white",
            "gridwidth": 2,
            "linecolor": "white",
            "showbackground": true,
            "ticks": "",
            "zerolinecolor": "white"
           },
           "yaxis": {
            "backgroundcolor": "#E5ECF6",
            "gridcolor": "white",
            "gridwidth": 2,
            "linecolor": "white",
            "showbackground": true,
            "ticks": "",
            "zerolinecolor": "white"
           },
           "zaxis": {
            "backgroundcolor": "#E5ECF6",
            "gridcolor": "white",
            "gridwidth": 2,
            "linecolor": "white",
            "showbackground": true,
            "ticks": "",
            "zerolinecolor": "white"
           }
          },
          "shapedefaults": {
           "line": {
            "color": "#2a3f5f"
           }
          },
          "ternary": {
           "aaxis": {
            "gridcolor": "white",
            "linecolor": "white",
            "ticks": ""
           },
           "baxis": {
            "gridcolor": "white",
            "linecolor": "white",
            "ticks": ""
           },
           "bgcolor": "#E5ECF6",
           "caxis": {
            "gridcolor": "white",
            "linecolor": "white",
            "ticks": ""
           }
          },
          "title": {
           "x": 0.05
          },
          "xaxis": {
           "automargin": true,
           "gridcolor": "white",
           "linecolor": "white",
           "ticks": "",
           "title": {
            "standoff": 15
           },
           "zerolinecolor": "white",
           "zerolinewidth": 2
          },
          "yaxis": {
           "automargin": true,
           "gridcolor": "white",
           "linecolor": "white",
           "ticks": "",
           "title": {
            "standoff": 15
           },
           "zerolinecolor": "white",
           "zerolinewidth": 2
          }
         }
        },
        "xaxis": {
         "anchor": "y",
         "domain": [
          0,
          1
         ],
         "title": {
          "text": "x"
         }
        },
        "yaxis": {
         "anchor": "x",
         "domain": [
          0,
          1
         ]
        }
       }
      },
      "text/html": [
       "<div>\n",
       "        \n",
       "        \n",
       "            <div id=\"caa6193f-1aa9-4450-a5d7-224a1060f476\" class=\"plotly-graph-div\" style=\"height:525px; width:100%;\"></div>\n",
       "            <script type=\"text/javascript\">\n",
       "                require([\"plotly\"], function(Plotly) {\n",
       "                    window.PLOTLYENV=window.PLOTLYENV || {};\n",
       "                    \n",
       "                if (document.getElementById(\"caa6193f-1aa9-4450-a5d7-224a1060f476\")) {\n",
       "                    Plotly.newPlot(\n",
       "                        'caa6193f-1aa9-4450-a5d7-224a1060f476',\n",
       "                        [{\"alignmentgroup\": \"True\", \"hovertemplate\": \"x=%{x}<extra></extra>\", \"legendgroup\": \"\", \"marker\": {\"color\": \"#636efa\"}, \"name\": \"\", \"offsetgroup\": \"\", \"orientation\": \"v\", \"showlegend\": false, \"textposition\": \"auto\", \"type\": \"bar\", \"x\": [\"UMBC_PCT\", \"JHU_PCT\"], \"xaxis\": \"x\", \"yaxis\": \"y\"}],\n",
       "                        {\"barmode\": \"relative\", \"legend\": {\"tracegroupgap\": 0}, \"margin\": {\"t\": 60}, \"template\": {\"data\": {\"bar\": [{\"error_x\": {\"color\": \"#2a3f5f\"}, \"error_y\": {\"color\": \"#2a3f5f\"}, \"marker\": {\"line\": {\"color\": \"#E5ECF6\", \"width\": 0.5}}, \"type\": \"bar\"}], \"barpolar\": [{\"marker\": {\"line\": {\"color\": \"#E5ECF6\", \"width\": 0.5}}, \"type\": \"barpolar\"}], \"carpet\": [{\"aaxis\": {\"endlinecolor\": \"#2a3f5f\", \"gridcolor\": \"white\", \"linecolor\": \"white\", \"minorgridcolor\": \"white\", \"startlinecolor\": \"#2a3f5f\"}, \"baxis\": {\"endlinecolor\": \"#2a3f5f\", \"gridcolor\": \"white\", \"linecolor\": \"white\", \"minorgridcolor\": \"white\", \"startlinecolor\": \"#2a3f5f\"}, \"type\": \"carpet\"}], \"choropleth\": [{\"colorbar\": {\"outlinewidth\": 0, \"ticks\": \"\"}, \"type\": \"choropleth\"}], \"contour\": [{\"colorbar\": {\"outlinewidth\": 0, \"ticks\": \"\"}, \"colorscale\": [[0.0, \"#0d0887\"], [0.1111111111111111, \"#46039f\"], [0.2222222222222222, \"#7201a8\"], [0.3333333333333333, \"#9c179e\"], [0.4444444444444444, \"#bd3786\"], [0.5555555555555556, \"#d8576b\"], [0.6666666666666666, \"#ed7953\"], [0.7777777777777778, \"#fb9f3a\"], [0.8888888888888888, \"#fdca26\"], [1.0, \"#f0f921\"]], \"type\": \"contour\"}], \"contourcarpet\": [{\"colorbar\": {\"outlinewidth\": 0, \"ticks\": \"\"}, \"type\": \"contourcarpet\"}], \"heatmap\": [{\"colorbar\": {\"outlinewidth\": 0, \"ticks\": \"\"}, \"colorscale\": [[0.0, \"#0d0887\"], [0.1111111111111111, \"#46039f\"], [0.2222222222222222, \"#7201a8\"], [0.3333333333333333, \"#9c179e\"], [0.4444444444444444, \"#bd3786\"], [0.5555555555555556, \"#d8576b\"], [0.6666666666666666, \"#ed7953\"], [0.7777777777777778, \"#fb9f3a\"], [0.8888888888888888, \"#fdca26\"], [1.0, \"#f0f921\"]], \"type\": \"heatmap\"}], \"heatmapgl\": [{\"colorbar\": {\"outlinewidth\": 0, \"ticks\": \"\"}, \"colorscale\": [[0.0, \"#0d0887\"], [0.1111111111111111, \"#46039f\"], [0.2222222222222222, \"#7201a8\"], [0.3333333333333333, \"#9c179e\"], [0.4444444444444444, \"#bd3786\"], [0.5555555555555556, \"#d8576b\"], [0.6666666666666666, \"#ed7953\"], [0.7777777777777778, \"#fb9f3a\"], [0.8888888888888888, \"#fdca26\"], [1.0, \"#f0f921\"]], \"type\": \"heatmapgl\"}], \"histogram\": [{\"marker\": {\"colorbar\": {\"outlinewidth\": 0, \"ticks\": \"\"}}, \"type\": \"histogram\"}], \"histogram2d\": [{\"colorbar\": {\"outlinewidth\": 0, \"ticks\": \"\"}, \"colorscale\": [[0.0, \"#0d0887\"], [0.1111111111111111, \"#46039f\"], [0.2222222222222222, \"#7201a8\"], [0.3333333333333333, \"#9c179e\"], [0.4444444444444444, \"#bd3786\"], [0.5555555555555556, \"#d8576b\"], [0.6666666666666666, \"#ed7953\"], [0.7777777777777778, \"#fb9f3a\"], [0.8888888888888888, \"#fdca26\"], [1.0, \"#f0f921\"]], \"type\": \"histogram2d\"}], \"histogram2dcontour\": [{\"colorbar\": {\"outlinewidth\": 0, \"ticks\": \"\"}, \"colorscale\": [[0.0, \"#0d0887\"], [0.1111111111111111, \"#46039f\"], [0.2222222222222222, \"#7201a8\"], [0.3333333333333333, \"#9c179e\"], [0.4444444444444444, \"#bd3786\"], [0.5555555555555556, \"#d8576b\"], [0.6666666666666666, \"#ed7953\"], [0.7777777777777778, \"#fb9f3a\"], [0.8888888888888888, \"#fdca26\"], [1.0, \"#f0f921\"]], \"type\": \"histogram2dcontour\"}], \"mesh3d\": [{\"colorbar\": {\"outlinewidth\": 0, \"ticks\": \"\"}, \"type\": \"mesh3d\"}], \"parcoords\": [{\"line\": {\"colorbar\": {\"outlinewidth\": 0, \"ticks\": \"\"}}, \"type\": \"parcoords\"}], \"pie\": [{\"automargin\": true, \"type\": \"pie\"}], \"scatter\": [{\"marker\": {\"colorbar\": {\"outlinewidth\": 0, \"ticks\": \"\"}}, \"type\": \"scatter\"}], \"scatter3d\": [{\"line\": {\"colorbar\": {\"outlinewidth\": 0, \"ticks\": \"\"}}, \"marker\": {\"colorbar\": {\"outlinewidth\": 0, \"ticks\": \"\"}}, \"type\": \"scatter3d\"}], \"scattercarpet\": [{\"marker\": {\"colorbar\": {\"outlinewidth\": 0, \"ticks\": \"\"}}, \"type\": \"scattercarpet\"}], \"scattergeo\": [{\"marker\": {\"colorbar\": {\"outlinewidth\": 0, \"ticks\": \"\"}}, \"type\": \"scattergeo\"}], \"scattergl\": [{\"marker\": {\"colorbar\": {\"outlinewidth\": 0, \"ticks\": \"\"}}, \"type\": \"scattergl\"}], \"scattermapbox\": [{\"marker\": {\"colorbar\": {\"outlinewidth\": 0, \"ticks\": \"\"}}, \"type\": \"scattermapbox\"}], \"scatterpolar\": [{\"marker\": {\"colorbar\": {\"outlinewidth\": 0, \"ticks\": \"\"}}, \"type\": \"scatterpolar\"}], \"scatterpolargl\": [{\"marker\": {\"colorbar\": {\"outlinewidth\": 0, \"ticks\": \"\"}}, \"type\": \"scatterpolargl\"}], \"scatterternary\": [{\"marker\": {\"colorbar\": {\"outlinewidth\": 0, \"ticks\": \"\"}}, \"type\": \"scatterternary\"}], \"surface\": [{\"colorbar\": {\"outlinewidth\": 0, \"ticks\": \"\"}, \"colorscale\": [[0.0, \"#0d0887\"], [0.1111111111111111, \"#46039f\"], [0.2222222222222222, \"#7201a8\"], [0.3333333333333333, \"#9c179e\"], [0.4444444444444444, \"#bd3786\"], [0.5555555555555556, \"#d8576b\"], [0.6666666666666666, \"#ed7953\"], [0.7777777777777778, \"#fb9f3a\"], [0.8888888888888888, \"#fdca26\"], [1.0, \"#f0f921\"]], \"type\": \"surface\"}], \"table\": [{\"cells\": {\"fill\": {\"color\": \"#EBF0F8\"}, \"line\": {\"color\": \"white\"}}, \"header\": {\"fill\": {\"color\": \"#C8D4E3\"}, \"line\": {\"color\": \"white\"}}, \"type\": \"table\"}]}, \"layout\": {\"annotationdefaults\": {\"arrowcolor\": \"#2a3f5f\", \"arrowhead\": 0, \"arrowwidth\": 1}, \"coloraxis\": {\"colorbar\": {\"outlinewidth\": 0, \"ticks\": \"\"}}, \"colorscale\": {\"diverging\": [[0, \"#8e0152\"], [0.1, \"#c51b7d\"], [0.2, \"#de77ae\"], [0.3, \"#f1b6da\"], [0.4, \"#fde0ef\"], [0.5, \"#f7f7f7\"], [0.6, \"#e6f5d0\"], [0.7, \"#b8e186\"], [0.8, \"#7fbc41\"], [0.9, \"#4d9221\"], [1, \"#276419\"]], \"sequential\": [[0.0, \"#0d0887\"], [0.1111111111111111, \"#46039f\"], [0.2222222222222222, \"#7201a8\"], [0.3333333333333333, \"#9c179e\"], [0.4444444444444444, \"#bd3786\"], [0.5555555555555556, \"#d8576b\"], [0.6666666666666666, \"#ed7953\"], [0.7777777777777778, \"#fb9f3a\"], [0.8888888888888888, \"#fdca26\"], [1.0, \"#f0f921\"]], \"sequentialminus\": [[0.0, \"#0d0887\"], [0.1111111111111111, \"#46039f\"], [0.2222222222222222, \"#7201a8\"], [0.3333333333333333, \"#9c179e\"], [0.4444444444444444, \"#bd3786\"], [0.5555555555555556, \"#d8576b\"], [0.6666666666666666, \"#ed7953\"], [0.7777777777777778, \"#fb9f3a\"], [0.8888888888888888, \"#fdca26\"], [1.0, \"#f0f921\"]]}, \"colorway\": [\"#636efa\", \"#EF553B\", \"#00cc96\", \"#ab63fa\", \"#FFA15A\", \"#19d3f3\", \"#FF6692\", \"#B6E880\", \"#FF97FF\", \"#FECB52\"], \"font\": {\"color\": \"#2a3f5f\"}, \"geo\": {\"bgcolor\": \"white\", \"lakecolor\": \"white\", \"landcolor\": \"#E5ECF6\", \"showlakes\": true, \"showland\": true, \"subunitcolor\": \"white\"}, \"hoverlabel\": {\"align\": \"left\"}, \"hovermode\": \"closest\", \"mapbox\": {\"style\": \"light\"}, \"paper_bgcolor\": \"white\", \"plot_bgcolor\": \"#E5ECF6\", \"polar\": {\"angularaxis\": {\"gridcolor\": \"white\", \"linecolor\": \"white\", \"ticks\": \"\"}, \"bgcolor\": \"#E5ECF6\", \"radialaxis\": {\"gridcolor\": \"white\", \"linecolor\": \"white\", \"ticks\": \"\"}}, \"scene\": {\"xaxis\": {\"backgroundcolor\": \"#E5ECF6\", \"gridcolor\": \"white\", \"gridwidth\": 2, \"linecolor\": \"white\", \"showbackground\": true, \"ticks\": \"\", \"zerolinecolor\": \"white\"}, \"yaxis\": {\"backgroundcolor\": \"#E5ECF6\", \"gridcolor\": \"white\", \"gridwidth\": 2, \"linecolor\": \"white\", \"showbackground\": true, \"ticks\": \"\", \"zerolinecolor\": \"white\"}, \"zaxis\": {\"backgroundcolor\": \"#E5ECF6\", \"gridcolor\": \"white\", \"gridwidth\": 2, \"linecolor\": \"white\", \"showbackground\": true, \"ticks\": \"\", \"zerolinecolor\": \"white\"}}, \"shapedefaults\": {\"line\": {\"color\": \"#2a3f5f\"}}, \"ternary\": {\"aaxis\": {\"gridcolor\": \"white\", \"linecolor\": \"white\", \"ticks\": \"\"}, \"baxis\": {\"gridcolor\": \"white\", \"linecolor\": \"white\", \"ticks\": \"\"}, \"bgcolor\": \"#E5ECF6\", \"caxis\": {\"gridcolor\": \"white\", \"linecolor\": \"white\", \"ticks\": \"\"}}, \"title\": {\"x\": 0.05}, \"xaxis\": {\"automargin\": true, \"gridcolor\": \"white\", \"linecolor\": \"white\", \"ticks\": \"\", \"title\": {\"standoff\": 15}, \"zerolinecolor\": \"white\", \"zerolinewidth\": 2}, \"yaxis\": {\"automargin\": true, \"gridcolor\": \"white\", \"linecolor\": \"white\", \"ticks\": \"\", \"title\": {\"standoff\": 15}, \"zerolinecolor\": \"white\", \"zerolinewidth\": 2}}}, \"xaxis\": {\"anchor\": \"y\", \"domain\": [0.0, 1.0], \"title\": {\"text\": \"x\"}}, \"yaxis\": {\"anchor\": \"x\", \"domain\": [0.0, 1.0]}},\n",
       "                        {\"responsive\": true}\n",
       "                    ).then(function(){\n",
       "                            \n",
       "var gd = document.getElementById('caa6193f-1aa9-4450-a5d7-224a1060f476');\n",
       "var x = new MutationObserver(function (mutations, observer) {{\n",
       "        var display = window.getComputedStyle(gd).display;\n",
       "        if (!display || display === 'none') {{\n",
       "            console.log([gd, 'removed!']);\n",
       "            Plotly.purge(gd);\n",
       "            observer.disconnect();\n",
       "        }}\n",
       "}});\n",
       "\n",
       "// Listen for the removal of the full notebook cells\n",
       "var notebookContainer = gd.closest('#notebook-container');\n",
       "if (notebookContainer) {{\n",
       "    x.observe(notebookContainer, {childList: true});\n",
       "}}\n",
       "\n",
       "// Listen for the clearing of the current output cell\n",
       "var outputEl = gd.closest('.output');\n",
       "if (outputEl) {{\n",
       "    x.observe(outputEl, {childList: true});\n",
       "}}\n",
       "\n",
       "                        })\n",
       "                };\n",
       "                });\n",
       "            </script>\n",
       "        </div>"
      ]
     },
     "metadata": {},
     "output_type": "display_data"
    }
   ],
   "source": [
    "fig9 = px.bar(data_frame=New_DF, x=[\"UMBC_PCT\",\"JHU_PCT\"])\n",
    "fig9.show()"
   ]
  },
  {
   "cell_type": "code",
   "execution_count": 47,
   "metadata": {},
   "outputs": [
    {
     "data": {
      "application/vnd.plotly.v1+json": {
       "config": {
        "plotlyServerURL": "https://plot.ly"
       },
       "data": [
        {
         "hovertemplate": "y=%{y}<extra></extra>",
         "legendgroup": "",
         "line": {
          "color": "#636efa",
          "dash": "solid"
         },
         "mode": "lines",
         "name": "",
         "showlegend": false,
         "type": "scatter",
         "xaxis": "x",
         "y": [
          "JHU_PCT",
          "UMBC_PCT"
         ],
         "yaxis": "y"
        }
       ],
       "layout": {
        "legend": {
         "tracegroupgap": 0
        },
        "margin": {
         "t": 60
        },
        "template": {
         "data": {
          "bar": [
           {
            "error_x": {
             "color": "#2a3f5f"
            },
            "error_y": {
             "color": "#2a3f5f"
            },
            "marker": {
             "line": {
              "color": "#E5ECF6",
              "width": 0.5
             }
            },
            "type": "bar"
           }
          ],
          "barpolar": [
           {
            "marker": {
             "line": {
              "color": "#E5ECF6",
              "width": 0.5
             }
            },
            "type": "barpolar"
           }
          ],
          "carpet": [
           {
            "aaxis": {
             "endlinecolor": "#2a3f5f",
             "gridcolor": "white",
             "linecolor": "white",
             "minorgridcolor": "white",
             "startlinecolor": "#2a3f5f"
            },
            "baxis": {
             "endlinecolor": "#2a3f5f",
             "gridcolor": "white",
             "linecolor": "white",
             "minorgridcolor": "white",
             "startlinecolor": "#2a3f5f"
            },
            "type": "carpet"
           }
          ],
          "choropleth": [
           {
            "colorbar": {
             "outlinewidth": 0,
             "ticks": ""
            },
            "type": "choropleth"
           }
          ],
          "contour": [
           {
            "colorbar": {
             "outlinewidth": 0,
             "ticks": ""
            },
            "colorscale": [
             [
              0,
              "#0d0887"
             ],
             [
              0.1111111111111111,
              "#46039f"
             ],
             [
              0.2222222222222222,
              "#7201a8"
             ],
             [
              0.3333333333333333,
              "#9c179e"
             ],
             [
              0.4444444444444444,
              "#bd3786"
             ],
             [
              0.5555555555555556,
              "#d8576b"
             ],
             [
              0.6666666666666666,
              "#ed7953"
             ],
             [
              0.7777777777777778,
              "#fb9f3a"
             ],
             [
              0.8888888888888888,
              "#fdca26"
             ],
             [
              1,
              "#f0f921"
             ]
            ],
            "type": "contour"
           }
          ],
          "contourcarpet": [
           {
            "colorbar": {
             "outlinewidth": 0,
             "ticks": ""
            },
            "type": "contourcarpet"
           }
          ],
          "heatmap": [
           {
            "colorbar": {
             "outlinewidth": 0,
             "ticks": ""
            },
            "colorscale": [
             [
              0,
              "#0d0887"
             ],
             [
              0.1111111111111111,
              "#46039f"
             ],
             [
              0.2222222222222222,
              "#7201a8"
             ],
             [
              0.3333333333333333,
              "#9c179e"
             ],
             [
              0.4444444444444444,
              "#bd3786"
             ],
             [
              0.5555555555555556,
              "#d8576b"
             ],
             [
              0.6666666666666666,
              "#ed7953"
             ],
             [
              0.7777777777777778,
              "#fb9f3a"
             ],
             [
              0.8888888888888888,
              "#fdca26"
             ],
             [
              1,
              "#f0f921"
             ]
            ],
            "type": "heatmap"
           }
          ],
          "heatmapgl": [
           {
            "colorbar": {
             "outlinewidth": 0,
             "ticks": ""
            },
            "colorscale": [
             [
              0,
              "#0d0887"
             ],
             [
              0.1111111111111111,
              "#46039f"
             ],
             [
              0.2222222222222222,
              "#7201a8"
             ],
             [
              0.3333333333333333,
              "#9c179e"
             ],
             [
              0.4444444444444444,
              "#bd3786"
             ],
             [
              0.5555555555555556,
              "#d8576b"
             ],
             [
              0.6666666666666666,
              "#ed7953"
             ],
             [
              0.7777777777777778,
              "#fb9f3a"
             ],
             [
              0.8888888888888888,
              "#fdca26"
             ],
             [
              1,
              "#f0f921"
             ]
            ],
            "type": "heatmapgl"
           }
          ],
          "histogram": [
           {
            "marker": {
             "colorbar": {
              "outlinewidth": 0,
              "ticks": ""
             }
            },
            "type": "histogram"
           }
          ],
          "histogram2d": [
           {
            "colorbar": {
             "outlinewidth": 0,
             "ticks": ""
            },
            "colorscale": [
             [
              0,
              "#0d0887"
             ],
             [
              0.1111111111111111,
              "#46039f"
             ],
             [
              0.2222222222222222,
              "#7201a8"
             ],
             [
              0.3333333333333333,
              "#9c179e"
             ],
             [
              0.4444444444444444,
              "#bd3786"
             ],
             [
              0.5555555555555556,
              "#d8576b"
             ],
             [
              0.6666666666666666,
              "#ed7953"
             ],
             [
              0.7777777777777778,
              "#fb9f3a"
             ],
             [
              0.8888888888888888,
              "#fdca26"
             ],
             [
              1,
              "#f0f921"
             ]
            ],
            "type": "histogram2d"
           }
          ],
          "histogram2dcontour": [
           {
            "colorbar": {
             "outlinewidth": 0,
             "ticks": ""
            },
            "colorscale": [
             [
              0,
              "#0d0887"
             ],
             [
              0.1111111111111111,
              "#46039f"
             ],
             [
              0.2222222222222222,
              "#7201a8"
             ],
             [
              0.3333333333333333,
              "#9c179e"
             ],
             [
              0.4444444444444444,
              "#bd3786"
             ],
             [
              0.5555555555555556,
              "#d8576b"
             ],
             [
              0.6666666666666666,
              "#ed7953"
             ],
             [
              0.7777777777777778,
              "#fb9f3a"
             ],
             [
              0.8888888888888888,
              "#fdca26"
             ],
             [
              1,
              "#f0f921"
             ]
            ],
            "type": "histogram2dcontour"
           }
          ],
          "mesh3d": [
           {
            "colorbar": {
             "outlinewidth": 0,
             "ticks": ""
            },
            "type": "mesh3d"
           }
          ],
          "parcoords": [
           {
            "line": {
             "colorbar": {
              "outlinewidth": 0,
              "ticks": ""
             }
            },
            "type": "parcoords"
           }
          ],
          "pie": [
           {
            "automargin": true,
            "type": "pie"
           }
          ],
          "scatter": [
           {
            "marker": {
             "colorbar": {
              "outlinewidth": 0,
              "ticks": ""
             }
            },
            "type": "scatter"
           }
          ],
          "scatter3d": [
           {
            "line": {
             "colorbar": {
              "outlinewidth": 0,
              "ticks": ""
             }
            },
            "marker": {
             "colorbar": {
              "outlinewidth": 0,
              "ticks": ""
             }
            },
            "type": "scatter3d"
           }
          ],
          "scattercarpet": [
           {
            "marker": {
             "colorbar": {
              "outlinewidth": 0,
              "ticks": ""
             }
            },
            "type": "scattercarpet"
           }
          ],
          "scattergeo": [
           {
            "marker": {
             "colorbar": {
              "outlinewidth": 0,
              "ticks": ""
             }
            },
            "type": "scattergeo"
           }
          ],
          "scattergl": [
           {
            "marker": {
             "colorbar": {
              "outlinewidth": 0,
              "ticks": ""
             }
            },
            "type": "scattergl"
           }
          ],
          "scattermapbox": [
           {
            "marker": {
             "colorbar": {
              "outlinewidth": 0,
              "ticks": ""
             }
            },
            "type": "scattermapbox"
           }
          ],
          "scatterpolar": [
           {
            "marker": {
             "colorbar": {
              "outlinewidth": 0,
              "ticks": ""
             }
            },
            "type": "scatterpolar"
           }
          ],
          "scatterpolargl": [
           {
            "marker": {
             "colorbar": {
              "outlinewidth": 0,
              "ticks": ""
             }
            },
            "type": "scatterpolargl"
           }
          ],
          "scatterternary": [
           {
            "marker": {
             "colorbar": {
              "outlinewidth": 0,
              "ticks": ""
             }
            },
            "type": "scatterternary"
           }
          ],
          "surface": [
           {
            "colorbar": {
             "outlinewidth": 0,
             "ticks": ""
            },
            "colorscale": [
             [
              0,
              "#0d0887"
             ],
             [
              0.1111111111111111,
              "#46039f"
             ],
             [
              0.2222222222222222,
              "#7201a8"
             ],
             [
              0.3333333333333333,
              "#9c179e"
             ],
             [
              0.4444444444444444,
              "#bd3786"
             ],
             [
              0.5555555555555556,
              "#d8576b"
             ],
             [
              0.6666666666666666,
              "#ed7953"
             ],
             [
              0.7777777777777778,
              "#fb9f3a"
             ],
             [
              0.8888888888888888,
              "#fdca26"
             ],
             [
              1,
              "#f0f921"
             ]
            ],
            "type": "surface"
           }
          ],
          "table": [
           {
            "cells": {
             "fill": {
              "color": "#EBF0F8"
             },
             "line": {
              "color": "white"
             }
            },
            "header": {
             "fill": {
              "color": "#C8D4E3"
             },
             "line": {
              "color": "white"
             }
            },
            "type": "table"
           }
          ]
         },
         "layout": {
          "annotationdefaults": {
           "arrowcolor": "#2a3f5f",
           "arrowhead": 0,
           "arrowwidth": 1
          },
          "coloraxis": {
           "colorbar": {
            "outlinewidth": 0,
            "ticks": ""
           }
          },
          "colorscale": {
           "diverging": [
            [
             0,
             "#8e0152"
            ],
            [
             0.1,
             "#c51b7d"
            ],
            [
             0.2,
             "#de77ae"
            ],
            [
             0.3,
             "#f1b6da"
            ],
            [
             0.4,
             "#fde0ef"
            ],
            [
             0.5,
             "#f7f7f7"
            ],
            [
             0.6,
             "#e6f5d0"
            ],
            [
             0.7,
             "#b8e186"
            ],
            [
             0.8,
             "#7fbc41"
            ],
            [
             0.9,
             "#4d9221"
            ],
            [
             1,
             "#276419"
            ]
           ],
           "sequential": [
            [
             0,
             "#0d0887"
            ],
            [
             0.1111111111111111,
             "#46039f"
            ],
            [
             0.2222222222222222,
             "#7201a8"
            ],
            [
             0.3333333333333333,
             "#9c179e"
            ],
            [
             0.4444444444444444,
             "#bd3786"
            ],
            [
             0.5555555555555556,
             "#d8576b"
            ],
            [
             0.6666666666666666,
             "#ed7953"
            ],
            [
             0.7777777777777778,
             "#fb9f3a"
            ],
            [
             0.8888888888888888,
             "#fdca26"
            ],
            [
             1,
             "#f0f921"
            ]
           ],
           "sequentialminus": [
            [
             0,
             "#0d0887"
            ],
            [
             0.1111111111111111,
             "#46039f"
            ],
            [
             0.2222222222222222,
             "#7201a8"
            ],
            [
             0.3333333333333333,
             "#9c179e"
            ],
            [
             0.4444444444444444,
             "#bd3786"
            ],
            [
             0.5555555555555556,
             "#d8576b"
            ],
            [
             0.6666666666666666,
             "#ed7953"
            ],
            [
             0.7777777777777778,
             "#fb9f3a"
            ],
            [
             0.8888888888888888,
             "#fdca26"
            ],
            [
             1,
             "#f0f921"
            ]
           ]
          },
          "colorway": [
           "#636efa",
           "#EF553B",
           "#00cc96",
           "#ab63fa",
           "#FFA15A",
           "#19d3f3",
           "#FF6692",
           "#B6E880",
           "#FF97FF",
           "#FECB52"
          ],
          "font": {
           "color": "#2a3f5f"
          },
          "geo": {
           "bgcolor": "white",
           "lakecolor": "white",
           "landcolor": "#E5ECF6",
           "showlakes": true,
           "showland": true,
           "subunitcolor": "white"
          },
          "hoverlabel": {
           "align": "left"
          },
          "hovermode": "closest",
          "mapbox": {
           "style": "light"
          },
          "paper_bgcolor": "white",
          "plot_bgcolor": "#E5ECF6",
          "polar": {
           "angularaxis": {
            "gridcolor": "white",
            "linecolor": "white",
            "ticks": ""
           },
           "bgcolor": "#E5ECF6",
           "radialaxis": {
            "gridcolor": "white",
            "linecolor": "white",
            "ticks": ""
           }
          },
          "scene": {
           "xaxis": {
            "backgroundcolor": "#E5ECF6",
            "gridcolor": "white",
            "gridwidth": 2,
            "linecolor": "white",
            "showbackground": true,
            "ticks": "",
            "zerolinecolor": "white"
           },
           "yaxis": {
            "backgroundcolor": "#E5ECF6",
            "gridcolor": "white",
            "gridwidth": 2,
            "linecolor": "white",
            "showbackground": true,
            "ticks": "",
            "zerolinecolor": "white"
           },
           "zaxis": {
            "backgroundcolor": "#E5ECF6",
            "gridcolor": "white",
            "gridwidth": 2,
            "linecolor": "white",
            "showbackground": true,
            "ticks": "",
            "zerolinecolor": "white"
           }
          },
          "shapedefaults": {
           "line": {
            "color": "#2a3f5f"
           }
          },
          "ternary": {
           "aaxis": {
            "gridcolor": "white",
            "linecolor": "white",
            "ticks": ""
           },
           "baxis": {
            "gridcolor": "white",
            "linecolor": "white",
            "ticks": ""
           },
           "bgcolor": "#E5ECF6",
           "caxis": {
            "gridcolor": "white",
            "linecolor": "white",
            "ticks": ""
           }
          },
          "title": {
           "x": 0.05
          },
          "xaxis": {
           "automargin": true,
           "gridcolor": "white",
           "linecolor": "white",
           "ticks": "",
           "title": {
            "standoff": 15
           },
           "zerolinecolor": "white",
           "zerolinewidth": 2
          },
          "yaxis": {
           "automargin": true,
           "gridcolor": "white",
           "linecolor": "white",
           "ticks": "",
           "title": {
            "standoff": 15
           },
           "zerolinecolor": "white",
           "zerolinewidth": 2
          }
         }
        },
        "xaxis": {
         "anchor": "y",
         "domain": [
          0,
          1
         ]
        },
        "yaxis": {
         "anchor": "x",
         "domain": [
          0,
          1
         ],
         "title": {
          "text": "y"
         }
        }
       }
      },
      "text/html": [
       "<div>\n",
       "        \n",
       "        \n",
       "            <div id=\"759f3346-3252-474a-bec4-73b0f061b0f7\" class=\"plotly-graph-div\" style=\"height:525px; width:100%;\"></div>\n",
       "            <script type=\"text/javascript\">\n",
       "                require([\"plotly\"], function(Plotly) {\n",
       "                    window.PLOTLYENV=window.PLOTLYENV || {};\n",
       "                    \n",
       "                if (document.getElementById(\"759f3346-3252-474a-bec4-73b0f061b0f7\")) {\n",
       "                    Plotly.newPlot(\n",
       "                        '759f3346-3252-474a-bec4-73b0f061b0f7',\n",
       "                        [{\"hovertemplate\": \"y=%{y}<extra></extra>\", \"legendgroup\": \"\", \"line\": {\"color\": \"#636efa\", \"dash\": \"solid\"}, \"mode\": \"lines\", \"name\": \"\", \"showlegend\": false, \"type\": \"scatter\", \"xaxis\": \"x\", \"y\": [\"JHU_PCT\", \"UMBC_PCT\"], \"yaxis\": \"y\"}],\n",
       "                        {\"legend\": {\"tracegroupgap\": 0}, \"margin\": {\"t\": 60}, \"template\": {\"data\": {\"bar\": [{\"error_x\": {\"color\": \"#2a3f5f\"}, \"error_y\": {\"color\": \"#2a3f5f\"}, \"marker\": {\"line\": {\"color\": \"#E5ECF6\", \"width\": 0.5}}, \"type\": \"bar\"}], \"barpolar\": [{\"marker\": {\"line\": {\"color\": \"#E5ECF6\", \"width\": 0.5}}, \"type\": \"barpolar\"}], \"carpet\": [{\"aaxis\": {\"endlinecolor\": \"#2a3f5f\", \"gridcolor\": \"white\", \"linecolor\": \"white\", \"minorgridcolor\": \"white\", \"startlinecolor\": \"#2a3f5f\"}, \"baxis\": {\"endlinecolor\": \"#2a3f5f\", \"gridcolor\": \"white\", \"linecolor\": \"white\", \"minorgridcolor\": \"white\", \"startlinecolor\": \"#2a3f5f\"}, \"type\": \"carpet\"}], \"choropleth\": [{\"colorbar\": {\"outlinewidth\": 0, \"ticks\": \"\"}, \"type\": \"choropleth\"}], \"contour\": [{\"colorbar\": {\"outlinewidth\": 0, \"ticks\": \"\"}, \"colorscale\": [[0.0, \"#0d0887\"], [0.1111111111111111, \"#46039f\"], [0.2222222222222222, \"#7201a8\"], [0.3333333333333333, \"#9c179e\"], [0.4444444444444444, \"#bd3786\"], [0.5555555555555556, \"#d8576b\"], [0.6666666666666666, \"#ed7953\"], [0.7777777777777778, \"#fb9f3a\"], [0.8888888888888888, \"#fdca26\"], [1.0, \"#f0f921\"]], \"type\": \"contour\"}], \"contourcarpet\": [{\"colorbar\": {\"outlinewidth\": 0, \"ticks\": \"\"}, \"type\": \"contourcarpet\"}], \"heatmap\": [{\"colorbar\": {\"outlinewidth\": 0, \"ticks\": \"\"}, \"colorscale\": [[0.0, \"#0d0887\"], [0.1111111111111111, \"#46039f\"], [0.2222222222222222, \"#7201a8\"], [0.3333333333333333, \"#9c179e\"], [0.4444444444444444, \"#bd3786\"], [0.5555555555555556, \"#d8576b\"], [0.6666666666666666, \"#ed7953\"], [0.7777777777777778, \"#fb9f3a\"], [0.8888888888888888, \"#fdca26\"], [1.0, \"#f0f921\"]], \"type\": \"heatmap\"}], \"heatmapgl\": [{\"colorbar\": {\"outlinewidth\": 0, \"ticks\": \"\"}, \"colorscale\": [[0.0, \"#0d0887\"], [0.1111111111111111, \"#46039f\"], [0.2222222222222222, \"#7201a8\"], [0.3333333333333333, \"#9c179e\"], [0.4444444444444444, \"#bd3786\"], [0.5555555555555556, \"#d8576b\"], [0.6666666666666666, \"#ed7953\"], [0.7777777777777778, \"#fb9f3a\"], [0.8888888888888888, \"#fdca26\"], [1.0, \"#f0f921\"]], \"type\": \"heatmapgl\"}], \"histogram\": [{\"marker\": {\"colorbar\": {\"outlinewidth\": 0, \"ticks\": \"\"}}, \"type\": \"histogram\"}], \"histogram2d\": [{\"colorbar\": {\"outlinewidth\": 0, \"ticks\": \"\"}, \"colorscale\": [[0.0, \"#0d0887\"], [0.1111111111111111, \"#46039f\"], [0.2222222222222222, \"#7201a8\"], [0.3333333333333333, \"#9c179e\"], [0.4444444444444444, \"#bd3786\"], [0.5555555555555556, \"#d8576b\"], [0.6666666666666666, \"#ed7953\"], [0.7777777777777778, \"#fb9f3a\"], [0.8888888888888888, \"#fdca26\"], [1.0, \"#f0f921\"]], \"type\": \"histogram2d\"}], \"histogram2dcontour\": [{\"colorbar\": {\"outlinewidth\": 0, \"ticks\": \"\"}, \"colorscale\": [[0.0, \"#0d0887\"], [0.1111111111111111, \"#46039f\"], [0.2222222222222222, \"#7201a8\"], [0.3333333333333333, \"#9c179e\"], [0.4444444444444444, \"#bd3786\"], [0.5555555555555556, \"#d8576b\"], [0.6666666666666666, \"#ed7953\"], [0.7777777777777778, \"#fb9f3a\"], [0.8888888888888888, \"#fdca26\"], [1.0, \"#f0f921\"]], \"type\": \"histogram2dcontour\"}], \"mesh3d\": [{\"colorbar\": {\"outlinewidth\": 0, \"ticks\": \"\"}, \"type\": \"mesh3d\"}], \"parcoords\": [{\"line\": {\"colorbar\": {\"outlinewidth\": 0, \"ticks\": \"\"}}, \"type\": \"parcoords\"}], \"pie\": [{\"automargin\": true, \"type\": \"pie\"}], \"scatter\": [{\"marker\": {\"colorbar\": {\"outlinewidth\": 0, \"ticks\": \"\"}}, \"type\": \"scatter\"}], \"scatter3d\": [{\"line\": {\"colorbar\": {\"outlinewidth\": 0, \"ticks\": \"\"}}, \"marker\": {\"colorbar\": {\"outlinewidth\": 0, \"ticks\": \"\"}}, \"type\": \"scatter3d\"}], \"scattercarpet\": [{\"marker\": {\"colorbar\": {\"outlinewidth\": 0, \"ticks\": \"\"}}, \"type\": \"scattercarpet\"}], \"scattergeo\": [{\"marker\": {\"colorbar\": {\"outlinewidth\": 0, \"ticks\": \"\"}}, \"type\": \"scattergeo\"}], \"scattergl\": [{\"marker\": {\"colorbar\": {\"outlinewidth\": 0, \"ticks\": \"\"}}, \"type\": \"scattergl\"}], \"scattermapbox\": [{\"marker\": {\"colorbar\": {\"outlinewidth\": 0, \"ticks\": \"\"}}, \"type\": \"scattermapbox\"}], \"scatterpolar\": [{\"marker\": {\"colorbar\": {\"outlinewidth\": 0, \"ticks\": \"\"}}, \"type\": \"scatterpolar\"}], \"scatterpolargl\": [{\"marker\": {\"colorbar\": {\"outlinewidth\": 0, \"ticks\": \"\"}}, \"type\": \"scatterpolargl\"}], \"scatterternary\": [{\"marker\": {\"colorbar\": {\"outlinewidth\": 0, \"ticks\": \"\"}}, \"type\": \"scatterternary\"}], \"surface\": [{\"colorbar\": {\"outlinewidth\": 0, \"ticks\": \"\"}, \"colorscale\": [[0.0, \"#0d0887\"], [0.1111111111111111, \"#46039f\"], [0.2222222222222222, \"#7201a8\"], [0.3333333333333333, \"#9c179e\"], [0.4444444444444444, \"#bd3786\"], [0.5555555555555556, \"#d8576b\"], [0.6666666666666666, \"#ed7953\"], [0.7777777777777778, \"#fb9f3a\"], [0.8888888888888888, \"#fdca26\"], [1.0, \"#f0f921\"]], \"type\": \"surface\"}], \"table\": [{\"cells\": {\"fill\": {\"color\": \"#EBF0F8\"}, \"line\": {\"color\": \"white\"}}, \"header\": {\"fill\": {\"color\": \"#C8D4E3\"}, \"line\": {\"color\": \"white\"}}, \"type\": \"table\"}]}, \"layout\": {\"annotationdefaults\": {\"arrowcolor\": \"#2a3f5f\", \"arrowhead\": 0, \"arrowwidth\": 1}, \"coloraxis\": {\"colorbar\": {\"outlinewidth\": 0, \"ticks\": \"\"}}, \"colorscale\": {\"diverging\": [[0, \"#8e0152\"], [0.1, \"#c51b7d\"], [0.2, \"#de77ae\"], [0.3, \"#f1b6da\"], [0.4, \"#fde0ef\"], [0.5, \"#f7f7f7\"], [0.6, \"#e6f5d0\"], [0.7, \"#b8e186\"], [0.8, \"#7fbc41\"], [0.9, \"#4d9221\"], [1, \"#276419\"]], \"sequential\": [[0.0, \"#0d0887\"], [0.1111111111111111, \"#46039f\"], [0.2222222222222222, \"#7201a8\"], [0.3333333333333333, \"#9c179e\"], [0.4444444444444444, \"#bd3786\"], [0.5555555555555556, \"#d8576b\"], [0.6666666666666666, \"#ed7953\"], [0.7777777777777778, \"#fb9f3a\"], [0.8888888888888888, \"#fdca26\"], [1.0, \"#f0f921\"]], \"sequentialminus\": [[0.0, \"#0d0887\"], [0.1111111111111111, \"#46039f\"], [0.2222222222222222, \"#7201a8\"], [0.3333333333333333, \"#9c179e\"], [0.4444444444444444, \"#bd3786\"], [0.5555555555555556, \"#d8576b\"], [0.6666666666666666, \"#ed7953\"], [0.7777777777777778, \"#fb9f3a\"], [0.8888888888888888, \"#fdca26\"], [1.0, \"#f0f921\"]]}, \"colorway\": [\"#636efa\", \"#EF553B\", \"#00cc96\", \"#ab63fa\", \"#FFA15A\", \"#19d3f3\", \"#FF6692\", \"#B6E880\", \"#FF97FF\", \"#FECB52\"], \"font\": {\"color\": \"#2a3f5f\"}, \"geo\": {\"bgcolor\": \"white\", \"lakecolor\": \"white\", \"landcolor\": \"#E5ECF6\", \"showlakes\": true, \"showland\": true, \"subunitcolor\": \"white\"}, \"hoverlabel\": {\"align\": \"left\"}, \"hovermode\": \"closest\", \"mapbox\": {\"style\": \"light\"}, \"paper_bgcolor\": \"white\", \"plot_bgcolor\": \"#E5ECF6\", \"polar\": {\"angularaxis\": {\"gridcolor\": \"white\", \"linecolor\": \"white\", \"ticks\": \"\"}, \"bgcolor\": \"#E5ECF6\", \"radialaxis\": {\"gridcolor\": \"white\", \"linecolor\": \"white\", \"ticks\": \"\"}}, \"scene\": {\"xaxis\": {\"backgroundcolor\": \"#E5ECF6\", \"gridcolor\": \"white\", \"gridwidth\": 2, \"linecolor\": \"white\", \"showbackground\": true, \"ticks\": \"\", \"zerolinecolor\": \"white\"}, \"yaxis\": {\"backgroundcolor\": \"#E5ECF6\", \"gridcolor\": \"white\", \"gridwidth\": 2, \"linecolor\": \"white\", \"showbackground\": true, \"ticks\": \"\", \"zerolinecolor\": \"white\"}, \"zaxis\": {\"backgroundcolor\": \"#E5ECF6\", \"gridcolor\": \"white\", \"gridwidth\": 2, \"linecolor\": \"white\", \"showbackground\": true, \"ticks\": \"\", \"zerolinecolor\": \"white\"}}, \"shapedefaults\": {\"line\": {\"color\": \"#2a3f5f\"}}, \"ternary\": {\"aaxis\": {\"gridcolor\": \"white\", \"linecolor\": \"white\", \"ticks\": \"\"}, \"baxis\": {\"gridcolor\": \"white\", \"linecolor\": \"white\", \"ticks\": \"\"}, \"bgcolor\": \"#E5ECF6\", \"caxis\": {\"gridcolor\": \"white\", \"linecolor\": \"white\", \"ticks\": \"\"}}, \"title\": {\"x\": 0.05}, \"xaxis\": {\"automargin\": true, \"gridcolor\": \"white\", \"linecolor\": \"white\", \"ticks\": \"\", \"title\": {\"standoff\": 15}, \"zerolinecolor\": \"white\", \"zerolinewidth\": 2}, \"yaxis\": {\"automargin\": true, \"gridcolor\": \"white\", \"linecolor\": \"white\", \"ticks\": \"\", \"title\": {\"standoff\": 15}, \"zerolinecolor\": \"white\", \"zerolinewidth\": 2}}}, \"xaxis\": {\"anchor\": \"y\", \"domain\": [0.0, 1.0]}, \"yaxis\": {\"anchor\": \"x\", \"domain\": [0.0, 1.0], \"title\": {\"text\": \"y\"}}},\n",
       "                        {\"responsive\": true}\n",
       "                    ).then(function(){\n",
       "                            \n",
       "var gd = document.getElementById('759f3346-3252-474a-bec4-73b0f061b0f7');\n",
       "var x = new MutationObserver(function (mutations, observer) {{\n",
       "        var display = window.getComputedStyle(gd).display;\n",
       "        if (!display || display === 'none') {{\n",
       "            console.log([gd, 'removed!']);\n",
       "            Plotly.purge(gd);\n",
       "            observer.disconnect();\n",
       "        }}\n",
       "}});\n",
       "\n",
       "// Listen for the removal of the full notebook cells\n",
       "var notebookContainer = gd.closest('#notebook-container');\n",
       "if (notebookContainer) {{\n",
       "    x.observe(notebookContainer, {childList: true});\n",
       "}}\n",
       "\n",
       "// Listen for the clearing of the current output cell\n",
       "var outputEl = gd.closest('.output');\n",
       "if (outputEl) {{\n",
       "    x.observe(outputEl, {childList: true});\n",
       "}}\n",
       "\n",
       "                        })\n",
       "                };\n",
       "                });\n",
       "            </script>\n",
       "        </div>"
      ]
     },
     "metadata": {},
     "output_type": "display_data"
    }
   ],
   "source": [
    "fig10 = px.line(data_frame=New_DF, y=[\"JHU_PCT\",\"UMBC_PCT\"])\n",
    "fig10.show()"
   ]
  },
  {
   "cell_type": "code",
   "execution_count": 48,
   "metadata": {},
   "outputs": [
    {
     "data": {
      "application/vnd.plotly.v1+json": {
       "config": {
        "plotlyServerURL": "https://plot.ly"
       },
       "data": [
        {
         "hovertemplate": "UMBC_PCT=%{x}<br>JHU_PCT=%{y}<br>Year=%{marker.color}<extra></extra>",
         "legendgroup": "",
         "marker": {
          "color": [
           1996,
           1997,
           1998,
           1999,
           2000,
           2001,
           2002,
           2003,
           2004,
           2005,
           2006,
           2007,
           2008,
           2009,
           2010,
           2011,
           2012,
           2013,
           2014,
           2015,
           2016,
           2017,
           2018
          ],
          "coloraxis": "coloraxis",
          "symbol": "circle"
         },
         "mode": "markers",
         "name": "",
         "showlegend": false,
         "type": "scatter",
         "x": [
          null,
          null,
          null,
          null,
          548900,
          590900,
          636100,
          738700,
          801900,
          851900,
          862100,
          870700,
          877900,
          887100,
          917000,
          946600,
          976300,
          1006700,
          1038300,
          1100500,
          1126300,
          1151700,
          1177700
         ],
         "xaxis": "x",
         "y": [
          null,
          null,
          null,
          null,
          2492900,
          2620900,
          2738900,
          2872900,
          3013900,
          3161900,
          3389900,
          3589900,
          3769900,
          3914900,
          4067900,
          4227900,
          4338900,
          4546900,
          4705900,
          4870900,
          5040900,
          5216900,
          5373900
         ],
         "yaxis": "y"
        }
       ],
       "layout": {
        "coloraxis": {
         "colorbar": {
          "title": {
           "text": "Year"
          }
         },
         "colorscale": [
          [
           0,
           "#0d0887"
          ],
          [
           0.1111111111111111,
           "#46039f"
          ],
          [
           0.2222222222222222,
           "#7201a8"
          ],
          [
           0.3333333333333333,
           "#9c179e"
          ],
          [
           0.4444444444444444,
           "#bd3786"
          ],
          [
           0.5555555555555556,
           "#d8576b"
          ],
          [
           0.6666666666666666,
           "#ed7953"
          ],
          [
           0.7777777777777778,
           "#fb9f3a"
          ],
          [
           0.8888888888888888,
           "#fdca26"
          ],
          [
           1,
           "#f0f921"
          ]
         ]
        },
        "legend": {
         "tracegroupgap": 0
        },
        "margin": {
         "t": 60
        },
        "template": {
         "data": {
          "bar": [
           {
            "error_x": {
             "color": "#2a3f5f"
            },
            "error_y": {
             "color": "#2a3f5f"
            },
            "marker": {
             "line": {
              "color": "#E5ECF6",
              "width": 0.5
             }
            },
            "type": "bar"
           }
          ],
          "barpolar": [
           {
            "marker": {
             "line": {
              "color": "#E5ECF6",
              "width": 0.5
             }
            },
            "type": "barpolar"
           }
          ],
          "carpet": [
           {
            "aaxis": {
             "endlinecolor": "#2a3f5f",
             "gridcolor": "white",
             "linecolor": "white",
             "minorgridcolor": "white",
             "startlinecolor": "#2a3f5f"
            },
            "baxis": {
             "endlinecolor": "#2a3f5f",
             "gridcolor": "white",
             "linecolor": "white",
             "minorgridcolor": "white",
             "startlinecolor": "#2a3f5f"
            },
            "type": "carpet"
           }
          ],
          "choropleth": [
           {
            "colorbar": {
             "outlinewidth": 0,
             "ticks": ""
            },
            "type": "choropleth"
           }
          ],
          "contour": [
           {
            "colorbar": {
             "outlinewidth": 0,
             "ticks": ""
            },
            "colorscale": [
             [
              0,
              "#0d0887"
             ],
             [
              0.1111111111111111,
              "#46039f"
             ],
             [
              0.2222222222222222,
              "#7201a8"
             ],
             [
              0.3333333333333333,
              "#9c179e"
             ],
             [
              0.4444444444444444,
              "#bd3786"
             ],
             [
              0.5555555555555556,
              "#d8576b"
             ],
             [
              0.6666666666666666,
              "#ed7953"
             ],
             [
              0.7777777777777778,
              "#fb9f3a"
             ],
             [
              0.8888888888888888,
              "#fdca26"
             ],
             [
              1,
              "#f0f921"
             ]
            ],
            "type": "contour"
           }
          ],
          "contourcarpet": [
           {
            "colorbar": {
             "outlinewidth": 0,
             "ticks": ""
            },
            "type": "contourcarpet"
           }
          ],
          "heatmap": [
           {
            "colorbar": {
             "outlinewidth": 0,
             "ticks": ""
            },
            "colorscale": [
             [
              0,
              "#0d0887"
             ],
             [
              0.1111111111111111,
              "#46039f"
             ],
             [
              0.2222222222222222,
              "#7201a8"
             ],
             [
              0.3333333333333333,
              "#9c179e"
             ],
             [
              0.4444444444444444,
              "#bd3786"
             ],
             [
              0.5555555555555556,
              "#d8576b"
             ],
             [
              0.6666666666666666,
              "#ed7953"
             ],
             [
              0.7777777777777778,
              "#fb9f3a"
             ],
             [
              0.8888888888888888,
              "#fdca26"
             ],
             [
              1,
              "#f0f921"
             ]
            ],
            "type": "heatmap"
           }
          ],
          "heatmapgl": [
           {
            "colorbar": {
             "outlinewidth": 0,
             "ticks": ""
            },
            "colorscale": [
             [
              0,
              "#0d0887"
             ],
             [
              0.1111111111111111,
              "#46039f"
             ],
             [
              0.2222222222222222,
              "#7201a8"
             ],
             [
              0.3333333333333333,
              "#9c179e"
             ],
             [
              0.4444444444444444,
              "#bd3786"
             ],
             [
              0.5555555555555556,
              "#d8576b"
             ],
             [
              0.6666666666666666,
              "#ed7953"
             ],
             [
              0.7777777777777778,
              "#fb9f3a"
             ],
             [
              0.8888888888888888,
              "#fdca26"
             ],
             [
              1,
              "#f0f921"
             ]
            ],
            "type": "heatmapgl"
           }
          ],
          "histogram": [
           {
            "marker": {
             "colorbar": {
              "outlinewidth": 0,
              "ticks": ""
             }
            },
            "type": "histogram"
           }
          ],
          "histogram2d": [
           {
            "colorbar": {
             "outlinewidth": 0,
             "ticks": ""
            },
            "colorscale": [
             [
              0,
              "#0d0887"
             ],
             [
              0.1111111111111111,
              "#46039f"
             ],
             [
              0.2222222222222222,
              "#7201a8"
             ],
             [
              0.3333333333333333,
              "#9c179e"
             ],
             [
              0.4444444444444444,
              "#bd3786"
             ],
             [
              0.5555555555555556,
              "#d8576b"
             ],
             [
              0.6666666666666666,
              "#ed7953"
             ],
             [
              0.7777777777777778,
              "#fb9f3a"
             ],
             [
              0.8888888888888888,
              "#fdca26"
             ],
             [
              1,
              "#f0f921"
             ]
            ],
            "type": "histogram2d"
           }
          ],
          "histogram2dcontour": [
           {
            "colorbar": {
             "outlinewidth": 0,
             "ticks": ""
            },
            "colorscale": [
             [
              0,
              "#0d0887"
             ],
             [
              0.1111111111111111,
              "#46039f"
             ],
             [
              0.2222222222222222,
              "#7201a8"
             ],
             [
              0.3333333333333333,
              "#9c179e"
             ],
             [
              0.4444444444444444,
              "#bd3786"
             ],
             [
              0.5555555555555556,
              "#d8576b"
             ],
             [
              0.6666666666666666,
              "#ed7953"
             ],
             [
              0.7777777777777778,
              "#fb9f3a"
             ],
             [
              0.8888888888888888,
              "#fdca26"
             ],
             [
              1,
              "#f0f921"
             ]
            ],
            "type": "histogram2dcontour"
           }
          ],
          "mesh3d": [
           {
            "colorbar": {
             "outlinewidth": 0,
             "ticks": ""
            },
            "type": "mesh3d"
           }
          ],
          "parcoords": [
           {
            "line": {
             "colorbar": {
              "outlinewidth": 0,
              "ticks": ""
             }
            },
            "type": "parcoords"
           }
          ],
          "pie": [
           {
            "automargin": true,
            "type": "pie"
           }
          ],
          "scatter": [
           {
            "marker": {
             "colorbar": {
              "outlinewidth": 0,
              "ticks": ""
             }
            },
            "type": "scatter"
           }
          ],
          "scatter3d": [
           {
            "line": {
             "colorbar": {
              "outlinewidth": 0,
              "ticks": ""
             }
            },
            "marker": {
             "colorbar": {
              "outlinewidth": 0,
              "ticks": ""
             }
            },
            "type": "scatter3d"
           }
          ],
          "scattercarpet": [
           {
            "marker": {
             "colorbar": {
              "outlinewidth": 0,
              "ticks": ""
             }
            },
            "type": "scattercarpet"
           }
          ],
          "scattergeo": [
           {
            "marker": {
             "colorbar": {
              "outlinewidth": 0,
              "ticks": ""
             }
            },
            "type": "scattergeo"
           }
          ],
          "scattergl": [
           {
            "marker": {
             "colorbar": {
              "outlinewidth": 0,
              "ticks": ""
             }
            },
            "type": "scattergl"
           }
          ],
          "scattermapbox": [
           {
            "marker": {
             "colorbar": {
              "outlinewidth": 0,
              "ticks": ""
             }
            },
            "type": "scattermapbox"
           }
          ],
          "scatterpolar": [
           {
            "marker": {
             "colorbar": {
              "outlinewidth": 0,
              "ticks": ""
             }
            },
            "type": "scatterpolar"
           }
          ],
          "scatterpolargl": [
           {
            "marker": {
             "colorbar": {
              "outlinewidth": 0,
              "ticks": ""
             }
            },
            "type": "scatterpolargl"
           }
          ],
          "scatterternary": [
           {
            "marker": {
             "colorbar": {
              "outlinewidth": 0,
              "ticks": ""
             }
            },
            "type": "scatterternary"
           }
          ],
          "surface": [
           {
            "colorbar": {
             "outlinewidth": 0,
             "ticks": ""
            },
            "colorscale": [
             [
              0,
              "#0d0887"
             ],
             [
              0.1111111111111111,
              "#46039f"
             ],
             [
              0.2222222222222222,
              "#7201a8"
             ],
             [
              0.3333333333333333,
              "#9c179e"
             ],
             [
              0.4444444444444444,
              "#bd3786"
             ],
             [
              0.5555555555555556,
              "#d8576b"
             ],
             [
              0.6666666666666666,
              "#ed7953"
             ],
             [
              0.7777777777777778,
              "#fb9f3a"
             ],
             [
              0.8888888888888888,
              "#fdca26"
             ],
             [
              1,
              "#f0f921"
             ]
            ],
            "type": "surface"
           }
          ],
          "table": [
           {
            "cells": {
             "fill": {
              "color": "#EBF0F8"
             },
             "line": {
              "color": "white"
             }
            },
            "header": {
             "fill": {
              "color": "#C8D4E3"
             },
             "line": {
              "color": "white"
             }
            },
            "type": "table"
           }
          ]
         },
         "layout": {
          "annotationdefaults": {
           "arrowcolor": "#2a3f5f",
           "arrowhead": 0,
           "arrowwidth": 1
          },
          "coloraxis": {
           "colorbar": {
            "outlinewidth": 0,
            "ticks": ""
           }
          },
          "colorscale": {
           "diverging": [
            [
             0,
             "#8e0152"
            ],
            [
             0.1,
             "#c51b7d"
            ],
            [
             0.2,
             "#de77ae"
            ],
            [
             0.3,
             "#f1b6da"
            ],
            [
             0.4,
             "#fde0ef"
            ],
            [
             0.5,
             "#f7f7f7"
            ],
            [
             0.6,
             "#e6f5d0"
            ],
            [
             0.7,
             "#b8e186"
            ],
            [
             0.8,
             "#7fbc41"
            ],
            [
             0.9,
             "#4d9221"
            ],
            [
             1,
             "#276419"
            ]
           ],
           "sequential": [
            [
             0,
             "#0d0887"
            ],
            [
             0.1111111111111111,
             "#46039f"
            ],
            [
             0.2222222222222222,
             "#7201a8"
            ],
            [
             0.3333333333333333,
             "#9c179e"
            ],
            [
             0.4444444444444444,
             "#bd3786"
            ],
            [
             0.5555555555555556,
             "#d8576b"
            ],
            [
             0.6666666666666666,
             "#ed7953"
            ],
            [
             0.7777777777777778,
             "#fb9f3a"
            ],
            [
             0.8888888888888888,
             "#fdca26"
            ],
            [
             1,
             "#f0f921"
            ]
           ],
           "sequentialminus": [
            [
             0,
             "#0d0887"
            ],
            [
             0.1111111111111111,
             "#46039f"
            ],
            [
             0.2222222222222222,
             "#7201a8"
            ],
            [
             0.3333333333333333,
             "#9c179e"
            ],
            [
             0.4444444444444444,
             "#bd3786"
            ],
            [
             0.5555555555555556,
             "#d8576b"
            ],
            [
             0.6666666666666666,
             "#ed7953"
            ],
            [
             0.7777777777777778,
             "#fb9f3a"
            ],
            [
             0.8888888888888888,
             "#fdca26"
            ],
            [
             1,
             "#f0f921"
            ]
           ]
          },
          "colorway": [
           "#636efa",
           "#EF553B",
           "#00cc96",
           "#ab63fa",
           "#FFA15A",
           "#19d3f3",
           "#FF6692",
           "#B6E880",
           "#FF97FF",
           "#FECB52"
          ],
          "font": {
           "color": "#2a3f5f"
          },
          "geo": {
           "bgcolor": "white",
           "lakecolor": "white",
           "landcolor": "#E5ECF6",
           "showlakes": true,
           "showland": true,
           "subunitcolor": "white"
          },
          "hoverlabel": {
           "align": "left"
          },
          "hovermode": "closest",
          "mapbox": {
           "style": "light"
          },
          "paper_bgcolor": "white",
          "plot_bgcolor": "#E5ECF6",
          "polar": {
           "angularaxis": {
            "gridcolor": "white",
            "linecolor": "white",
            "ticks": ""
           },
           "bgcolor": "#E5ECF6",
           "radialaxis": {
            "gridcolor": "white",
            "linecolor": "white",
            "ticks": ""
           }
          },
          "scene": {
           "xaxis": {
            "backgroundcolor": "#E5ECF6",
            "gridcolor": "white",
            "gridwidth": 2,
            "linecolor": "white",
            "showbackground": true,
            "ticks": "",
            "zerolinecolor": "white"
           },
           "yaxis": {
            "backgroundcolor": "#E5ECF6",
            "gridcolor": "white",
            "gridwidth": 2,
            "linecolor": "white",
            "showbackground": true,
            "ticks": "",
            "zerolinecolor": "white"
           },
           "zaxis": {
            "backgroundcolor": "#E5ECF6",
            "gridcolor": "white",
            "gridwidth": 2,
            "linecolor": "white",
            "showbackground": true,
            "ticks": "",
            "zerolinecolor": "white"
           }
          },
          "shapedefaults": {
           "line": {
            "color": "#2a3f5f"
           }
          },
          "ternary": {
           "aaxis": {
            "gridcolor": "white",
            "linecolor": "white",
            "ticks": ""
           },
           "baxis": {
            "gridcolor": "white",
            "linecolor": "white",
            "ticks": ""
           },
           "bgcolor": "#E5ECF6",
           "caxis": {
            "gridcolor": "white",
            "linecolor": "white",
            "ticks": ""
           }
          },
          "title": {
           "x": 0.05
          },
          "xaxis": {
           "automargin": true,
           "gridcolor": "white",
           "linecolor": "white",
           "ticks": "",
           "title": {
            "standoff": 15
           },
           "zerolinecolor": "white",
           "zerolinewidth": 2
          },
          "yaxis": {
           "automargin": true,
           "gridcolor": "white",
           "linecolor": "white",
           "ticks": "",
           "title": {
            "standoff": 15
           },
           "zerolinecolor": "white",
           "zerolinewidth": 2
          }
         }
        },
        "xaxis": {
         "anchor": "y",
         "domain": [
          0,
          1
         ],
         "title": {
          "text": "UMBC_PCT"
         }
        },
        "yaxis": {
         "anchor": "x",
         "domain": [
          0,
          1
         ],
         "title": {
          "text": "JHU_PCT"
         }
        }
       }
      },
      "text/html": [
       "<div>\n",
       "        \n",
       "        \n",
       "            <div id=\"95ad72f8-9813-49ae-9e47-87d3a34cc136\" class=\"plotly-graph-div\" style=\"height:525px; width:100%;\"></div>\n",
       "            <script type=\"text/javascript\">\n",
       "                require([\"plotly\"], function(Plotly) {\n",
       "                    window.PLOTLYENV=window.PLOTLYENV || {};\n",
       "                    \n",
       "                if (document.getElementById(\"95ad72f8-9813-49ae-9e47-87d3a34cc136\")) {\n",
       "                    Plotly.newPlot(\n",
       "                        '95ad72f8-9813-49ae-9e47-87d3a34cc136',\n",
       "                        [{\"hovertemplate\": \"UMBC_PCT=%{x}<br>JHU_PCT=%{y}<br>Year=%{marker.color}<extra></extra>\", \"legendgroup\": \"\", \"marker\": {\"color\": [1996, 1997, 1998, 1999, 2000, 2001, 2002, 2003, 2004, 2005, 2006, 2007, 2008, 2009, 2010, 2011, 2012, 2013, 2014, 2015, 2016, 2017, 2018], \"coloraxis\": \"coloraxis\", \"symbol\": \"circle\"}, \"mode\": \"markers\", \"name\": \"\", \"showlegend\": false, \"type\": \"scatter\", \"x\": [null, null, null, null, 548900.0, 590900.0, 636100.0, 738700.0, 801900.0, 851900.0, 862100.0, 870700.0, 877900.0, 887100.0, 917000.0, 946600.0, 976300.0, 1006700.0, 1038300.0, 1100500.0, 1126300.0, 1151700.0, 1177700.0], \"xaxis\": \"x\", \"y\": [null, null, null, null, 2492900.0, 2620900.0, 2738900.0, 2872900.0, 3013900.0, 3161900.0, 3389900.0, 3589900.0, 3769900.0, 3914900.0, 4067900.0, 4227900.0, 4338900.0, 4546900.0, 4705900.0, 4870900.0, 5040900.0, 5216900.0, 5373900.0], \"yaxis\": \"y\"}],\n",
       "                        {\"coloraxis\": {\"colorbar\": {\"title\": {\"text\": \"Year\"}}, \"colorscale\": [[0.0, \"#0d0887\"], [0.1111111111111111, \"#46039f\"], [0.2222222222222222, \"#7201a8\"], [0.3333333333333333, \"#9c179e\"], [0.4444444444444444, \"#bd3786\"], [0.5555555555555556, \"#d8576b\"], [0.6666666666666666, \"#ed7953\"], [0.7777777777777778, \"#fb9f3a\"], [0.8888888888888888, \"#fdca26\"], [1.0, \"#f0f921\"]]}, \"legend\": {\"tracegroupgap\": 0}, \"margin\": {\"t\": 60}, \"template\": {\"data\": {\"bar\": [{\"error_x\": {\"color\": \"#2a3f5f\"}, \"error_y\": {\"color\": \"#2a3f5f\"}, \"marker\": {\"line\": {\"color\": \"#E5ECF6\", \"width\": 0.5}}, \"type\": \"bar\"}], \"barpolar\": [{\"marker\": {\"line\": {\"color\": \"#E5ECF6\", \"width\": 0.5}}, \"type\": \"barpolar\"}], \"carpet\": [{\"aaxis\": {\"endlinecolor\": \"#2a3f5f\", \"gridcolor\": \"white\", \"linecolor\": \"white\", \"minorgridcolor\": \"white\", \"startlinecolor\": \"#2a3f5f\"}, \"baxis\": {\"endlinecolor\": \"#2a3f5f\", \"gridcolor\": \"white\", \"linecolor\": \"white\", \"minorgridcolor\": \"white\", \"startlinecolor\": \"#2a3f5f\"}, \"type\": \"carpet\"}], \"choropleth\": [{\"colorbar\": {\"outlinewidth\": 0, \"ticks\": \"\"}, \"type\": \"choropleth\"}], \"contour\": [{\"colorbar\": {\"outlinewidth\": 0, \"ticks\": \"\"}, \"colorscale\": [[0.0, \"#0d0887\"], [0.1111111111111111, \"#46039f\"], [0.2222222222222222, \"#7201a8\"], [0.3333333333333333, \"#9c179e\"], [0.4444444444444444, \"#bd3786\"], [0.5555555555555556, \"#d8576b\"], [0.6666666666666666, \"#ed7953\"], [0.7777777777777778, \"#fb9f3a\"], [0.8888888888888888, \"#fdca26\"], [1.0, \"#f0f921\"]], \"type\": \"contour\"}], \"contourcarpet\": [{\"colorbar\": {\"outlinewidth\": 0, \"ticks\": \"\"}, \"type\": \"contourcarpet\"}], \"heatmap\": [{\"colorbar\": {\"outlinewidth\": 0, \"ticks\": \"\"}, \"colorscale\": [[0.0, \"#0d0887\"], [0.1111111111111111, \"#46039f\"], [0.2222222222222222, \"#7201a8\"], [0.3333333333333333, \"#9c179e\"], [0.4444444444444444, \"#bd3786\"], [0.5555555555555556, \"#d8576b\"], [0.6666666666666666, \"#ed7953\"], [0.7777777777777778, \"#fb9f3a\"], [0.8888888888888888, \"#fdca26\"], [1.0, \"#f0f921\"]], \"type\": \"heatmap\"}], \"heatmapgl\": [{\"colorbar\": {\"outlinewidth\": 0, \"ticks\": \"\"}, \"colorscale\": [[0.0, \"#0d0887\"], [0.1111111111111111, \"#46039f\"], [0.2222222222222222, \"#7201a8\"], [0.3333333333333333, \"#9c179e\"], [0.4444444444444444, \"#bd3786\"], [0.5555555555555556, \"#d8576b\"], [0.6666666666666666, \"#ed7953\"], [0.7777777777777778, \"#fb9f3a\"], [0.8888888888888888, \"#fdca26\"], [1.0, \"#f0f921\"]], \"type\": \"heatmapgl\"}], \"histogram\": [{\"marker\": {\"colorbar\": {\"outlinewidth\": 0, \"ticks\": \"\"}}, \"type\": \"histogram\"}], \"histogram2d\": [{\"colorbar\": {\"outlinewidth\": 0, \"ticks\": \"\"}, \"colorscale\": [[0.0, \"#0d0887\"], [0.1111111111111111, \"#46039f\"], [0.2222222222222222, \"#7201a8\"], [0.3333333333333333, \"#9c179e\"], [0.4444444444444444, \"#bd3786\"], [0.5555555555555556, \"#d8576b\"], [0.6666666666666666, \"#ed7953\"], [0.7777777777777778, \"#fb9f3a\"], [0.8888888888888888, \"#fdca26\"], [1.0, \"#f0f921\"]], \"type\": \"histogram2d\"}], \"histogram2dcontour\": [{\"colorbar\": {\"outlinewidth\": 0, \"ticks\": \"\"}, \"colorscale\": [[0.0, \"#0d0887\"], [0.1111111111111111, \"#46039f\"], [0.2222222222222222, \"#7201a8\"], [0.3333333333333333, \"#9c179e\"], [0.4444444444444444, \"#bd3786\"], [0.5555555555555556, \"#d8576b\"], [0.6666666666666666, \"#ed7953\"], [0.7777777777777778, \"#fb9f3a\"], [0.8888888888888888, \"#fdca26\"], [1.0, \"#f0f921\"]], \"type\": \"histogram2dcontour\"}], \"mesh3d\": [{\"colorbar\": {\"outlinewidth\": 0, \"ticks\": \"\"}, \"type\": \"mesh3d\"}], \"parcoords\": [{\"line\": {\"colorbar\": {\"outlinewidth\": 0, \"ticks\": \"\"}}, \"type\": \"parcoords\"}], \"pie\": [{\"automargin\": true, \"type\": \"pie\"}], \"scatter\": [{\"marker\": {\"colorbar\": {\"outlinewidth\": 0, \"ticks\": \"\"}}, \"type\": \"scatter\"}], \"scatter3d\": [{\"line\": {\"colorbar\": {\"outlinewidth\": 0, \"ticks\": \"\"}}, \"marker\": {\"colorbar\": {\"outlinewidth\": 0, \"ticks\": \"\"}}, \"type\": \"scatter3d\"}], \"scattercarpet\": [{\"marker\": {\"colorbar\": {\"outlinewidth\": 0, \"ticks\": \"\"}}, \"type\": \"scattercarpet\"}], \"scattergeo\": [{\"marker\": {\"colorbar\": {\"outlinewidth\": 0, \"ticks\": \"\"}}, \"type\": \"scattergeo\"}], \"scattergl\": [{\"marker\": {\"colorbar\": {\"outlinewidth\": 0, \"ticks\": \"\"}}, \"type\": \"scattergl\"}], \"scattermapbox\": [{\"marker\": {\"colorbar\": {\"outlinewidth\": 0, \"ticks\": \"\"}}, \"type\": \"scattermapbox\"}], \"scatterpolar\": [{\"marker\": {\"colorbar\": {\"outlinewidth\": 0, \"ticks\": \"\"}}, \"type\": \"scatterpolar\"}], \"scatterpolargl\": [{\"marker\": {\"colorbar\": {\"outlinewidth\": 0, \"ticks\": \"\"}}, \"type\": \"scatterpolargl\"}], \"scatterternary\": [{\"marker\": {\"colorbar\": {\"outlinewidth\": 0, \"ticks\": \"\"}}, \"type\": \"scatterternary\"}], \"surface\": [{\"colorbar\": {\"outlinewidth\": 0, \"ticks\": \"\"}, \"colorscale\": [[0.0, \"#0d0887\"], [0.1111111111111111, \"#46039f\"], [0.2222222222222222, \"#7201a8\"], [0.3333333333333333, \"#9c179e\"], [0.4444444444444444, \"#bd3786\"], [0.5555555555555556, \"#d8576b\"], [0.6666666666666666, \"#ed7953\"], [0.7777777777777778, \"#fb9f3a\"], [0.8888888888888888, \"#fdca26\"], [1.0, \"#f0f921\"]], \"type\": \"surface\"}], \"table\": [{\"cells\": {\"fill\": {\"color\": \"#EBF0F8\"}, \"line\": {\"color\": \"white\"}}, \"header\": {\"fill\": {\"color\": \"#C8D4E3\"}, \"line\": {\"color\": \"white\"}}, \"type\": \"table\"}]}, \"layout\": {\"annotationdefaults\": {\"arrowcolor\": \"#2a3f5f\", \"arrowhead\": 0, \"arrowwidth\": 1}, \"coloraxis\": {\"colorbar\": {\"outlinewidth\": 0, \"ticks\": \"\"}}, \"colorscale\": {\"diverging\": [[0, \"#8e0152\"], [0.1, \"#c51b7d\"], [0.2, \"#de77ae\"], [0.3, \"#f1b6da\"], [0.4, \"#fde0ef\"], [0.5, \"#f7f7f7\"], [0.6, \"#e6f5d0\"], [0.7, \"#b8e186\"], [0.8, \"#7fbc41\"], [0.9, \"#4d9221\"], [1, \"#276419\"]], \"sequential\": [[0.0, \"#0d0887\"], [0.1111111111111111, \"#46039f\"], [0.2222222222222222, \"#7201a8\"], [0.3333333333333333, \"#9c179e\"], [0.4444444444444444, \"#bd3786\"], [0.5555555555555556, \"#d8576b\"], [0.6666666666666666, \"#ed7953\"], [0.7777777777777778, \"#fb9f3a\"], [0.8888888888888888, \"#fdca26\"], [1.0, \"#f0f921\"]], \"sequentialminus\": [[0.0, \"#0d0887\"], [0.1111111111111111, \"#46039f\"], [0.2222222222222222, \"#7201a8\"], [0.3333333333333333, \"#9c179e\"], [0.4444444444444444, \"#bd3786\"], [0.5555555555555556, \"#d8576b\"], [0.6666666666666666, \"#ed7953\"], [0.7777777777777778, \"#fb9f3a\"], [0.8888888888888888, \"#fdca26\"], [1.0, \"#f0f921\"]]}, \"colorway\": [\"#636efa\", \"#EF553B\", \"#00cc96\", \"#ab63fa\", \"#FFA15A\", \"#19d3f3\", \"#FF6692\", \"#B6E880\", \"#FF97FF\", \"#FECB52\"], \"font\": {\"color\": \"#2a3f5f\"}, \"geo\": {\"bgcolor\": \"white\", \"lakecolor\": \"white\", \"landcolor\": \"#E5ECF6\", \"showlakes\": true, \"showland\": true, \"subunitcolor\": \"white\"}, \"hoverlabel\": {\"align\": \"left\"}, \"hovermode\": \"closest\", \"mapbox\": {\"style\": \"light\"}, \"paper_bgcolor\": \"white\", \"plot_bgcolor\": \"#E5ECF6\", \"polar\": {\"angularaxis\": {\"gridcolor\": \"white\", \"linecolor\": \"white\", \"ticks\": \"\"}, \"bgcolor\": \"#E5ECF6\", \"radialaxis\": {\"gridcolor\": \"white\", \"linecolor\": \"white\", \"ticks\": \"\"}}, \"scene\": {\"xaxis\": {\"backgroundcolor\": \"#E5ECF6\", \"gridcolor\": \"white\", \"gridwidth\": 2, \"linecolor\": \"white\", \"showbackground\": true, \"ticks\": \"\", \"zerolinecolor\": \"white\"}, \"yaxis\": {\"backgroundcolor\": \"#E5ECF6\", \"gridcolor\": \"white\", \"gridwidth\": 2, \"linecolor\": \"white\", \"showbackground\": true, \"ticks\": \"\", \"zerolinecolor\": \"white\"}, \"zaxis\": {\"backgroundcolor\": \"#E5ECF6\", \"gridcolor\": \"white\", \"gridwidth\": 2, \"linecolor\": \"white\", \"showbackground\": true, \"ticks\": \"\", \"zerolinecolor\": \"white\"}}, \"shapedefaults\": {\"line\": {\"color\": \"#2a3f5f\"}}, \"ternary\": {\"aaxis\": {\"gridcolor\": \"white\", \"linecolor\": \"white\", \"ticks\": \"\"}, \"baxis\": {\"gridcolor\": \"white\", \"linecolor\": \"white\", \"ticks\": \"\"}, \"bgcolor\": \"#E5ECF6\", \"caxis\": {\"gridcolor\": \"white\", \"linecolor\": \"white\", \"ticks\": \"\"}}, \"title\": {\"x\": 0.05}, \"xaxis\": {\"automargin\": true, \"gridcolor\": \"white\", \"linecolor\": \"white\", \"ticks\": \"\", \"title\": {\"standoff\": 15}, \"zerolinecolor\": \"white\", \"zerolinewidth\": 2}, \"yaxis\": {\"automargin\": true, \"gridcolor\": \"white\", \"linecolor\": \"white\", \"ticks\": \"\", \"title\": {\"standoff\": 15}, \"zerolinecolor\": \"white\", \"zerolinewidth\": 2}}}, \"xaxis\": {\"anchor\": \"y\", \"domain\": [0.0, 1.0], \"title\": {\"text\": \"UMBC_PCT\"}}, \"yaxis\": {\"anchor\": \"x\", \"domain\": [0.0, 1.0], \"title\": {\"text\": \"JHU_PCT\"}}},\n",
       "                        {\"responsive\": true}\n",
       "                    ).then(function(){\n",
       "                            \n",
       "var gd = document.getElementById('95ad72f8-9813-49ae-9e47-87d3a34cc136');\n",
       "var x = new MutationObserver(function (mutations, observer) {{\n",
       "        var display = window.getComputedStyle(gd).display;\n",
       "        if (!display || display === 'none') {{\n",
       "            console.log([gd, 'removed!']);\n",
       "            Plotly.purge(gd);\n",
       "            observer.disconnect();\n",
       "        }}\n",
       "}});\n",
       "\n",
       "// Listen for the removal of the full notebook cells\n",
       "var notebookContainer = gd.closest('#notebook-container');\n",
       "if (notebookContainer) {{\n",
       "    x.observe(notebookContainer, {childList: true});\n",
       "}}\n",
       "\n",
       "// Listen for the clearing of the current output cell\n",
       "var outputEl = gd.closest('.output');\n",
       "if (outputEl) {{\n",
       "    x.observe(outputEl, {childList: true});\n",
       "}}\n",
       "\n",
       "                        })\n",
       "                };\n",
       "                });\n",
       "            </script>\n",
       "        </div>"
      ]
     },
     "metadata": {},
     "output_type": "display_data"
    }
   ],
   "source": [
    "fig11 = px.scatter(New_DF, x=\"UMBC_PCT\", y=\"JHU_PCT\", color=\"Year\")\n",
    "fig11.show()"
   ]
  },
  {
   "cell_type": "markdown",
   "metadata": {},
   "source": [
    "**Observations**\n",
    "\n",
    "The plots don't seem to be bringing any data for John Hopkins University, previouslsy when I've plotted multiple lines r bars on the same graph the factor that diffferentiated the lines were in the same column but now those factors are in seperate columns which is giving a strange result. I experimented by ploting a scatter plot and I got a more believable result. And with the result I can cleary see a correlation between both schools percentage changes."
   ]
  },
  {
   "cell_type": "code",
   "execution_count": null,
   "metadata": {},
   "outputs": [],
   "source": []
  }
 ],
 "metadata": {
  "kernelspec": {
   "display_name": "Python 3",
   "language": "python",
   "name": "python3"
  },
  "language_info": {
   "codemirror_mode": {
    "name": "ipython",
    "version": 3
   },
   "file_extension": ".py",
   "mimetype": "text/x-python",
   "name": "python",
   "nbconvert_exporter": "python",
   "pygments_lexer": "ipython3",
   "version": "3.7.4"
  }
 },
 "nbformat": 4,
 "nbformat_minor": 2
}
