{
 "cells": [
  {
   "cell_type": "markdown",
   "metadata": {},
   "source": [
    "# Assignment 9\n",
    "\n",
    "**Data 690**\n",
    "\n",
    "**Wale Agboola**"
   ]
  },
  {
   "cell_type": "code",
   "execution_count": 37,
   "metadata": {},
   "outputs": [],
   "source": [
    "import numpy as np\n",
    "import matplotlib.pyplot as plt\n",
    "import seaborn as sns\n",
    "import pandas as pd\n",
    "import random\n",
    "import math\n",
    "from statistics import mean"
   ]
  },
  {
   "cell_type": "code",
   "execution_count": 5,
   "metadata": {},
   "outputs": [
    {
     "data": {
      "text/plain": [
       "'6,414; 1,550; 2,109; 9,350; 21,828; 4,300; 5,944; 5,722; 2,825; 2,044; 5,481; 5,200; 5,853; 2,750; 10,012; 6,357; 27,000; 9,414; 7,681; 3,200; 17,500; 9,200; 7,380; 18,314; 6,557; 13,713; 17,768; 7,493; 2,771; 2,861; 1,263; 7,285; 28,165; 5,080; 11,622'"
      ]
     },
     "execution_count": 5,
     "metadata": {},
     "output_type": "execute_result"
    }
   ],
   "source": [
    "data_1 = \"6,414; 1,550; 2,109; 9,350; 21,828; 4,300; 5,944; 5,722; 2,825; 2,044; \" \n",
    "data_2 = \"5,481; 5,200; 5,853; 2,750; 10,012; 6,357; 27,000; 9,414; 7,681; 3,200; \"\n",
    "data_3 = \"17,500; 9,200; 7,380; 18,314; 6,557; 13,713; 17,768; 7,493; 2,771; 2,861; \"\n",
    "data_4 = \"1,263; 7,285; 28,165; 5,080; 11,622\"\n",
    "data = data_1 + data_2 + data_3 + data_4\n",
    "data"
   ]
  },
  {
   "cell_type": "markdown",
   "metadata": {},
   "source": [
    "**Convert the single string to a list of strings using split() function. Make sure to specify a delimter or separator**"
   ]
  },
  {
   "cell_type": "code",
   "execution_count": 14,
   "metadata": {},
   "outputs": [],
   "source": [
    "def Convert(string):\n",
    "    li = list(string.split(\";\"))\n",
    "    return li"
   ]
  },
  {
   "cell_type": "code",
   "execution_count": 15,
   "metadata": {},
   "outputs": [],
   "source": [
    "new_data = Convert(data)"
   ]
  },
  {
   "cell_type": "code",
   "execution_count": 16,
   "metadata": {},
   "outputs": [
    {
     "data": {
      "text/plain": [
       "['6,414',\n",
       " ' 1,550',\n",
       " ' 2,109',\n",
       " ' 9,350',\n",
       " ' 21,828',\n",
       " ' 4,300',\n",
       " ' 5,944',\n",
       " ' 5,722',\n",
       " ' 2,825',\n",
       " ' 2,044',\n",
       " ' 5,481',\n",
       " ' 5,200',\n",
       " ' 5,853',\n",
       " ' 2,750',\n",
       " ' 10,012',\n",
       " ' 6,357',\n",
       " ' 27,000',\n",
       " ' 9,414',\n",
       " ' 7,681',\n",
       " ' 3,200',\n",
       " ' 17,500',\n",
       " ' 9,200',\n",
       " ' 7,380',\n",
       " ' 18,314',\n",
       " ' 6,557',\n",
       " ' 13,713',\n",
       " ' 17,768',\n",
       " ' 7,493',\n",
       " ' 2,771',\n",
       " ' 2,861',\n",
       " ' 1,263',\n",
       " ' 7,285',\n",
       " ' 28,165',\n",
       " ' 5,080',\n",
       " ' 11,622']"
      ]
     },
     "execution_count": 16,
     "metadata": {},
     "output_type": "execute_result"
    }
   ],
   "source": [
    "new_data"
   ]
  },
  {
   "cell_type": "markdown",
   "metadata": {},
   "source": [
    "**Create a list of integers from the list of strings using List Comprehension or for loop. Make sure to remove the \",\" first and then convert the strings to integers**"
   ]
  },
  {
   "cell_type": "code",
   "execution_count": 20,
   "metadata": {},
   "outputs": [],
   "source": [
    "new_data2 = []\n",
    "\n",
    "for num in new_data:\n",
    "    new_num = int(num.replace(',', ''))\n",
    "    new_data2.append(new_num)"
   ]
  },
  {
   "cell_type": "code",
   "execution_count": 21,
   "metadata": {},
   "outputs": [
    {
     "data": {
      "text/plain": [
       "[6414,\n",
       " 1550,\n",
       " 2109,\n",
       " 9350,\n",
       " 21828,\n",
       " 4300,\n",
       " 5944,\n",
       " 5722,\n",
       " 2825,\n",
       " 2044,\n",
       " 5481,\n",
       " 5200,\n",
       " 5853,\n",
       " 2750,\n",
       " 10012,\n",
       " 6357,\n",
       " 27000,\n",
       " 9414,\n",
       " 7681,\n",
       " 3200,\n",
       " 17500,\n",
       " 9200,\n",
       " 7380,\n",
       " 18314,\n",
       " 6557,\n",
       " 13713,\n",
       " 17768,\n",
       " 7493,\n",
       " 2771,\n",
       " 2861,\n",
       " 1263,\n",
       " 7285,\n",
       " 28165,\n",
       " 5080,\n",
       " 11622]"
      ]
     },
     "execution_count": 21,
     "metadata": {},
     "output_type": "execute_result"
    }
   ],
   "source": [
    "new_data2"
   ]
  },
  {
   "cell_type": "markdown",
   "metadata": {},
   "source": [
    "**Calculate and display the sample size**"
   ]
  },
  {
   "cell_type": "code",
   "execution_count": 33,
   "metadata": {},
   "outputs": [
    {
     "data": {
      "text/plain": [
       "35"
      ]
     },
     "execution_count": 33,
     "metadata": {},
     "output_type": "execute_result"
    }
   ],
   "source": [
    "sample_size = len(new_data2)\n",
    "\n",
    "sample_size"
   ]
  },
  {
   "cell_type": "markdown",
   "metadata": {},
   "source": [
    "**Calculate and display the sample mean**"
   ]
  },
  {
   "cell_type": "code",
   "execution_count": 31,
   "metadata": {},
   "outputs": [],
   "source": [
    "def Average(lst):\n",
    "    return mean(lst)"
   ]
  },
  {
   "cell_type": "code",
   "execution_count": 35,
   "metadata": {},
   "outputs": [
    {
     "data": {
      "text/plain": [
       "8628.742857142857"
      ]
     },
     "execution_count": 35,
     "metadata": {},
     "output_type": "execute_result"
    }
   ],
   "source": [
    "sample_mean = Average(new_data2)\n",
    "\n",
    "sample_mean"
   ]
  },
  {
   "cell_type": "markdown",
   "metadata": {},
   "source": [
    "**Calculate and display the t critical value using scipy.stats.t package ppf function**"
   ]
  },
  {
   "cell_type": "code",
   "execution_count": 54,
   "metadata": {},
   "outputs": [],
   "source": [
    "from scipy import stats\n",
    "from scipy.stats import t\n",
    "import statistics"
   ]
  },
  {
   "cell_type": "code",
   "execution_count": 46,
   "metadata": {},
   "outputs": [
    {
     "data": {
      "text/plain": [
       "2.032244509317718"
      ]
     },
     "execution_count": 46,
     "metadata": {},
     "output_type": "execute_result"
    }
   ],
   "source": [
    "t_critical_value = stats.t.ppf(q= 1 - .025,df=34)\n",
    "\n",
    "t_critical_value"
   ]
  },
  {
   "cell_type": "markdown",
   "metadata": {},
   "source": [
    "**Calculate and display the margin of error**"
   ]
  },
  {
   "cell_type": "code",
   "execution_count": 61,
   "metadata": {},
   "outputs": [
    {
     "data": {
      "text/plain": [
       "1173.7307103455046"
      ]
     },
     "execution_count": 61,
     "metadata": {},
     "output_type": "execute_result"
    }
   ],
   "source": [
    "stand_error = stats.mstats.sem(new_data2)\n",
    "\n",
    "stand_error"
   ]
  },
  {
   "cell_type": "code",
   "execution_count": 62,
   "metadata": {},
   "outputs": [
    {
     "data": {
      "text/plain": [
       "2385.3077915172366"
      ]
     },
     "execution_count": 62,
     "metadata": {},
     "output_type": "execute_result"
    }
   ],
   "source": [
    "Margin_of_error = t_critical_value * stand_error\n",
    "\n",
    "Margin_of_error"
   ]
  },
  {
   "cell_type": "markdown",
   "metadata": {},
   "source": [
    "**Calculate Lower and Upper Limit of the Confidence Interval**"
   ]
  },
  {
   "cell_type": "code",
   "execution_count": 64,
   "metadata": {},
   "outputs": [
    {
     "data": {
      "text/plain": [
       "6243.435065625621"
      ]
     },
     "execution_count": 64,
     "metadata": {},
     "output_type": "execute_result"
    }
   ],
   "source": [
    "#Lower Limit = Sample Mean - Margin of Error\n",
    "\n",
    "Lower_limit = sample_mean - Margin_of_error\n",
    "\n",
    "Lower_limit"
   ]
  },
  {
   "cell_type": "code",
   "execution_count": 65,
   "metadata": {},
   "outputs": [
    {
     "data": {
      "text/plain": [
       "11014.050648660093"
      ]
     },
     "execution_count": 65,
     "metadata": {},
     "output_type": "execute_result"
    }
   ],
   "source": [
    "#Upper Limit = Sample Mean + Margin of Error\n",
    "\n",
    "Upper_limit = sample_mean + Margin_of_error\n",
    "\n",
    "Upper_limit"
   ]
  },
  {
   "cell_type": "markdown",
   "metadata": {},
   "source": [
    "**Now We have the 95% Confidence Interval**"
   ]
  },
  {
   "cell_type": "code",
   "execution_count": 67,
   "metadata": {},
   "outputs": [
    {
     "data": {
      "text/plain": [
       "(6243.435065625621, 11014.050648660093)"
      ]
     },
     "execution_count": 67,
     "metadata": {},
     "output_type": "execute_result"
    }
   ],
   "source": [
    "confidence_interval = stats.t.interval(.95, 34, sample_mean, stand_error)\n",
    "\n",
    "confidence_interval"
   ]
  },
  {
   "cell_type": "code",
   "execution_count": null,
   "metadata": {},
   "outputs": [],
   "source": []
  }
 ],
 "metadata": {
  "kernelspec": {
   "display_name": "Python 3",
   "language": "python",
   "name": "python3"
  },
  "language_info": {
   "codemirror_mode": {
    "name": "ipython",
    "version": 3
   },
   "file_extension": ".py",
   "mimetype": "text/x-python",
   "name": "python",
   "nbconvert_exporter": "python",
   "pygments_lexer": "ipython3",
   "version": "3.7.4"
  }
 },
 "nbformat": 4,
 "nbformat_minor": 2
}
